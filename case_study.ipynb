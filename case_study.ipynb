{
 "cells": [
  {
   "cell_type": "code",
   "execution_count": null,
   "metadata": {},
   "outputs": [],
   "source": [
    "# IJulia.qtconsole();"
   ]
  },
  {
   "cell_type": "code",
   "execution_count": 1,
   "metadata": {
    "hideCode": false,
    "hidePrompt": false
   },
   "outputs": [
    {
     "data": {
      "text/plain": [
       "\"C:\\\\Users\\\\Robert\\\\Promotion\\\\Workshop\\\\02_cc_dlmp_varaware\\\\01_case_study_cc_dlmp\\\\Project.toml\""
      ]
     },
     "execution_count": 1,
     "metadata": {},
     "output_type": "execute_result"
    }
   ],
   "source": [
    "import Pkg\n",
    "Pkg.activate(\".\")\n",
    "# Pkg.instantiate()"
   ]
  },
  {
   "cell_type": "code",
   "execution_count": 2,
   "metadata": {
    "hideCode": false,
    "hidePrompt": false,
    "scrolled": true
   },
   "outputs": [],
   "source": [
    "using Logging\n",
    "using DataFrames, CSV, LinearAlgebra\n",
    "using JuMP\n",
    "# using Gurobi, Ipopt\n",
    "using Mosek, MosekTools"
   ]
  },
  {
   "cell_type": "code",
   "execution_count": 17,
   "metadata": {
    "hideCode": false,
    "hidePrompt": false
   },
   "outputs": [
    {
     "data": {
      "text/plain": [
       "build_model (generic function with 2 methods)"
      ]
     },
     "execution_count": 17,
     "metadata": {},
     "output_type": "execute_result"
    }
   ],
   "source": [
    "include(\"src/input.jl\");\n",
    "include(\"src/model_definition.jl\")"
   ]
  },
  {
   "cell_type": "code",
   "execution_count": 4,
   "metadata": {
    "hideCode": false,
    "hidePrompt": false
   },
   "outputs": [
    {
     "name": "stdout",
     "output_type": "stream",
     "text": [
      ">>>>> Reading feeder data from data/feeder_data/basecase_noneg/\n"
     ]
    }
   ],
   "source": [
    "datadir = (\"data/feeder_data/basecase_noneg/\")\n",
    "# datadir = (\"data/feeder_data/feeder141/\")\n",
    "# datadir = (\"data/feeder_data/feeder141_lv/\")\n",
    "\n",
    "feeder = load_feeder(datadir);"
   ]
  },
  {
   "cell_type": "code",
   "execution_count": 6,
   "metadata": {
    "hideCode": false,
    "hidePrompt": false
   },
   "outputs": [
    {
     "data": {
      "text/plain": [
       "Dict{String,Any} with 10 entries:\n",
       "  \"var_vec\"        => [0.0, 0.00629801, 0.0, 4.0401e-6, 2.9929e-6, 8.4681e-6, 4…\n",
       "  \"toggle_volt_cc\" => true\n",
       "  \"qcfac\"          => 1\n",
       "  \"Ψ\"              => 0\n",
       "  \"Σ\"              => [0.0 0.0 … 0.0 0.0; 0.0 0.00629801 … 0.0 0.0; … ; 0.0 0.0…\n",
       "  \"toggle_gen_cc\"  => true\n",
       "  \"output_level\"   => 0\n",
       "  \"z_g\"            => 1.945\n",
       "  \"z_v\"            => 1.945\n",
       "  \"vfac\"           => 0"
      ]
     },
     "execution_count": 6,
     "metadata": {},
     "output_type": "execute_result"
    }
   ],
   "source": [
    "relative_std = 0.1\n",
    "loads = [b.d_P for b in feeder.buses]\n",
    "std_vec = loads .* relative_std\n",
    "var_vec = std_vec.^2\n",
    "Σ = diagm(0 => var_vec)\n",
    "\n",
    "casesettings = Dict(\n",
    "    \"var_vec\" => var_vec,\n",
    "    \"Σ\" => Σ,\n",
    "    \"z_g\" => 1.945 ,\n",
    "    \"z_v\" => 1.945,\n",
    "    \"toggle_volt_cc\" => true,\n",
    "    \"toggle_gen_cc\" => true,\n",
    "    \"vfac\" => 0,\n",
    "    \"qcfac\" => 1,\n",
    "    \"output_level\" => 0,\n",
    "    \"Ψ\" => 0,\n",
    ")"
   ]
  },
  {
   "cell_type": "code",
   "execution_count": 18,
   "metadata": {
    "hideCode": false,
    "hidePrompt": false
   },
   "outputs": [
    {
     "data": {
      "text/latex": [
       "$$ \\begin{alignat*}{1}\\min\\quad & 10 gp_{7} + 10 gp_{12} + 100 gp0_plus + r\\\\\n",
       "\\text{Subject to} \\quad & v_{1} \\geq 0.0\\\\\n",
       " & v_{2} \\geq 0.0\\\\\n",
       " & v_{3} \\geq 0.0\\\\\n",
       " & v_{4} \\geq 0.0\\\\\n",
       " & v_{5} \\geq 0.0\\\\\n",
       " & v_{6} \\geq 0.0\\\\\n",
       " & v_{7} \\geq 0.0\\\\\n",
       " & v_{8} \\geq 0.0\\\\\n",
       " & v_{9} \\geq 0.0\\\\\n",
       " & v_{10} \\geq 0.0\\\\\n",
       " & v_{11} \\geq 0.0\\\\\n",
       " & v_{12} \\geq 0.0\\\\\n",
       " & v_{13} \\geq 0.0\\\\\n",
       " & v_{14} \\geq 0.0\\\\\n",
       " & v_{15} \\geq 0.0\\\\\n",
       " & r \\geq 0.0\\\\\n",
       " & gp0_plus \\geq 0.0\\\\\n",
       " & gp0_minus \\geq 0.0\\\\\n",
       " & α_{1} \\geq 0.0\\\\\n",
       " & α_{2} \\geq 0.0\\\\\n",
       " & α_{3} \\geq 0.0\\\\\n",
       " & α_{4} \\geq 0.0\\\\\n",
       " & α_{5} \\geq 0.0\\\\\n",
       " & α_{6} \\geq 0.0\\\\\n",
       " & α_{7} \\geq 0.0\\\\\n",
       " & α_{8} \\geq 0.0\\\\\n",
       " & α_{9} \\geq 0.0\\\\\n",
       " & α_{10} \\geq 0.0\\\\\n",
       " & α_{11} \\geq 0.0\\\\\n",
       " & α_{12} \\geq 0.0\\\\\n",
       " & α_{13} \\geq 0.0\\\\\n",
       " & α_{14} \\geq 0.0\\\\\n",
       " & α_{15} \\geq 0.0\\\\\n",
       " & t_{1} \\geq 0.0\\\\\n",
       " & t_{2} \\geq 0.0\\\\\n",
       " & t_{3} \\geq 0.0\\\\\n",
       " & t_{4} \\geq 0.0\\\\\n",
       " & t_{5} \\geq 0.0\\\\\n",
       " & t_{6} \\geq 0.0\\\\\n",
       " & t_{7} \\geq 0.0\\\\\n",
       " & t_{8} \\geq 0.0\\\\\n",
       " & t_{9} \\geq 0.0\\\\\n",
       " & t_{10} \\geq 0.0\\\\\n",
       " & t_{11} \\geq 0.0\\\\\n",
       " & t_{12} \\geq 0.0\\\\\n",
       " & t_{13} \\geq 0.0\\\\\n",
       " & t_{14} \\geq 0.0\\\\\n",
       " & -gp_{1} + fp_{2} + fp_{13} - fp_{1} = 0.0\\\\\n",
       " & -gp_{2} + fp_{3} - fp_{2} = -0.7936\\\\\n",
       " & -gp_{3} + fp_{4} - fp_{3} = 0.0\\\\\n",
       " & -gp_{4} + fp_{5} + fp_{9} - fp_{4} = -0.0201\\\\\n",
       " & -gp_{5} + fp_{6} - fp_{5} = -0.0173\\\\\n",
       " & -gp_{6} + fp_{7} - fp_{6} = -0.0291\\\\\n",
       " & -gp_{7} - fp_{7} = -0.0219\\\\\n",
       " & -gp_{8} - fp_{8} = -0.1969\\\\\n",
       " & -gp_{9} + fp_{8} + fp_{10} - fp_{9} = -0.0235\\\\\n",
       " & -gp_{10} + fp_{11} - fp_{10} = -0.0229\\\\\n",
       " & -gp_{11} + fp_{12} - fp_{11} = -0.0217\\\\\n",
       " & -gp_{12} - fp_{12} = -0.0132\\\\\n",
       " & -gp_{13} + fp_{14} - fp_{13} = -0.6219\\\\\n",
       " & -gp_{14} + fp_{15} - fp_{14} = -0.0014\\\\\n",
       " & -gp_{15} - fp_{15} = -0.0224\\\\\n",
       " & -gq_{1} + fq_{2} + fq_{13} - fq_{1} = 0.0\\\\\n",
       " & -gq_{2} + fq_{3} - fq_{2} = -0.1855\\\\\n",
       " & -gq_{3} + fq_{4} - fq_{3} = 0.0\\\\\n",
       " & -gq_{4} + fq_{5} + fq_{9} - fq_{4} = -0.0084\\\\\n",
       " & -gq_{5} + fq_{6} - fq_{5} = -0.0043\\\\\n",
       " & -gq_{6} + fq_{7} - fq_{6} = -0.0073\\\\\n",
       " & -gq_{7} - fq_{7} = -0.0055\\\\\n",
       " & -gq_{8} - fq_{8} = -0.0019\\\\\n",
       " & -gq_{9} + fq_{8} + fq_{10} - fq_{9} = -0.0059\\\\\n",
       " & -gq_{10} + fq_{11} - fq_{10} = -0.0142\\\\\n",
       " & -gq_{11} + fq_{12} - fq_{11} = -0.0065\\\\\n",
       " & -gq_{12} - fq_{12} = -0.0033\\\\\n",
       " & -gq_{13} + fq_{14} - fq_{13} = -0.1291\\\\\n",
       " & -gq_{14} + fq_{15} - fq_{14} = -0.0008\\\\\n",
       " & -gq_{15} - fq_{15} = -0.0083\\\\\n",
       " & gp_{1} - gp0_plus + gp0_minus = 0.0\\\\\n",
       " & v_{2} - v_{1} + 0.002 fp_{2} + 0.24 fq_{2} = 0.0\\\\\n",
       " & v_{3} - v_{2} + 0.1766 fp_{3} + 0.2524 fq_{3} = 0.0\\\\\n",
       " & v_{4} - v_{3} + 0.2768 fp_{4} + 0.3956 fq_{4} = 0.0\\\\\n",
       " & v_{5} - v_{4} + 0.0382 fp_{5} + 0.0546 fq_{5} = 0.0\\\\\n",
       " & v_{6} - v_{5} + 0.035 fp_{6} + 0.0502 fq_{6} = 0.0\\\\\n",
       " & v_{7} - v_{6} + 0.0964 fp_{7} + 0.1378 fq_{7} = 0.0\\\\\n",
       " & v_{8} - v_{9} + 0.1046 fp_{8} + 0.1494 fq_{8} = 0.0\\\\\n",
       " & v_{9} - v_{4} + 0.0814 fp_{9} + 0.1164 fq_{9} = 0.0\\\\\n",
       " & v_{10} - v_{9} + 0.02 fp_{10} + 0.0286 fq_{10} = 0.0\\\\\n",
       " & v_{11} - v_{10} + 0.0482 fp_{11} + 0.069 fq_{11} = 0.0\\\\\n",
       " & v_{12} - v_{11} + 0.0206 fp_{12} + 0.0296 fq_{12} = 0.0\\\\\n",
       " & v_{13} - v_{1} + 0.002 fp_{13} + 0.24 fq_{13} = 0.0\\\\\n",
       " & v_{14} - v_{13} + 0.3118 fp_{14} + 0.2238 fq_{14} = 0.0\\\\\n",
       " & v_{15} - v_{14} + 0.1906 fp_{15} + 0.1368 fq_{15} = 0.0\\\\\n",
       " & v_{1} = 1.0\\\\\n",
       " & fp_{1} = 0.0\\\\\n",
       " & fq_{1} = 0.0\\\\\n",
       " & gp_{2} = 0.0\\\\\n",
       " & gp_{3} = 0.0\\\\\n",
       " & gp_{4} = 0.0\\\\\n",
       " & gp_{5} = 0.0\\\\\n",
       " & gp_{6} = 0.0\\\\\n",
       " & gp_{8} = 0.0\\\\\n",
       " & gp_{9} = 0.0\\\\\n",
       " & gp_{10} = 0.0\\\\\n",
       " & gp_{11} = 0.0\\\\\n",
       " & gp_{13} = 0.0\\\\\n",
       " & gp_{14} = 0.0\\\\\n",
       " & gp_{15} = 0.0\\\\\n",
       " & gq_{2} = 0.0\\\\\n",
       " & gq_{3} = 0.0\\\\\n",
       " & gq_{4} = 0.0\\\\\n",
       " & gq_{5} = 0.0\\\\\n",
       " & gq_{6} = 0.0\\\\\n",
       " & gq_{8} = 0.0\\\\\n",
       " & gq_{9} = 0.0\\\\\n",
       " & gq_{10} = 0.0\\\\\n",
       " & gq_{11} = 0.0\\\\\n",
       " & gq_{13} = 0.0\\\\\n",
       " & gq_{14} = 0.0\\\\\n",
       " & gq_{15} = 0.0\\\\\n",
       " & α_{1} + α_{2} + α_{3} + α_{4} + α_{5} + α_{6} + α_{7} + α_{8} + α_{9} + α_{10} + α_{11} + α_{12} + α_{13} + α_{14} + α_{15} = 1.0\\\\\n",
       " & α_{2} = 0.0\\\\\n",
       " & α_{3} = 0.0\\\\\n",
       " & α_{4} = 0.0\\\\\n",
       " & α_{5} = 0.0\\\\\n",
       " & α_{6} = 0.0\\\\\n",
       " & α_{8} = 0.0\\\\\n",
       " & α_{9} = 0.0\\\\\n",
       " & α_{10} = 0.0\\\\\n",
       " & α_{11} = 0.0\\\\\n",
       " & α_{13} = 0.0\\\\\n",
       " & α_{14} = 0.0\\\\\n",
       " & α_{15} = 0.0\\\\\n",
       " & 1011.3250283125708 ρ_{1} - 11.325028312570781 ρ_{2} - α_{1} = 0.0\\\\\n",
       " & -11.32502831257078 ρ_{1} + 18.55046183858234 ρ_{2} - 7.225433526011559 ρ_{3} - α_{2} = 0.0\\\\\n",
       " & -7.225433526011553 ρ_{2} + 84.15147903844448 ρ_{3} - 52.356020942408364 ρ_{4} - 24.570024570024547 ρ_{8} - α_{3} = 0.0\\\\\n",
       " & -52.35602094240837 ρ_{3} + 109.49887808526546 ρ_{4} - 57.14285714285709 ρ_{5} - α_{4} = 0.0\\\\\n",
       " & -57.14285714285709 ρ_{4} + 77.88974510966206 ρ_{5} - 20.74688796680497 ρ_{6} - α_{5} = 0.0\\\\\n",
       " & -20.74688796680497 ρ_{5} + 20.74688796680497 ρ_{6} - α_{6} = 0.0\\\\\n",
       " & 19.12045889101338 ρ_{7} - 19.12045889101338 ρ_{8} - α_{7} = 0.0\\\\\n",
       " & -24.570024570024557 ρ_{3} - 19.120458891013385 ρ_{7} + 143.69048346103784 ρ_{8} - 99.9999999999999 ρ_{9} - α_{8} = 0.0\\\\\n",
       " & -99.99999999999991 ρ_{8} + 141.49377593360987 ρ_{9} - 41.49377593360994 ρ_{10} - α_{9} = 0.0\\\\\n",
       " & -41.493775933609925 ρ_{9} + 138.58115457438686 ρ_{10} - 97.08737864077693 ρ_{11} - α_{10} = 0.0\\\\\n",
       " & -97.08737864077693 ρ_{10} + 97.08737864077693 ρ_{11} - α_{11} = 0.0\\\\\n",
       " & 1006.4143681847338 ρ_{12} - 6.414368184733803 ρ_{13} - α_{12} = 0.0\\\\\n",
       " & -6.414368184733801 ρ_{12} + 16.907547618102114 ρ_{13} - 10.493179433368313 ρ_{14} - α_{13} = 0.0\\\\\n",
       " & -10.493179433368313 ρ_{13} + 10.493179433368313 ρ_{14} - α_{14} = 0.0\\\\\n",
       " & gp_{12} - 0.8265449078846231 α_{12} \\geq 0.0\\\\\n",
       " & gp_{7} - 0.8265449078846231 α_{7} \\geq 0.0\\\\\n",
       " & gq_{1} \\geq -1000.0\\\\\n",
       " & gq_{12} \\geq -0.5\\\\\n",
       " & gq_{7} \\geq -0.5\\\\\n",
       " & v_{2} + 3.89 t_{1} \\leq 1.21\\\\\n",
       " & v_{3} + 3.89 t_{2} \\leq 1.21\\\\\n",
       " & v_{4} + 3.89 t_{3} \\leq 1.21\\\\\n",
       " & v_{5} + 3.89 t_{4} \\leq 1.21\\\\\n",
       " & v_{6} + 3.89 t_{5} \\leq 1.21\\\\\n",
       " & v_{7} + 3.89 t_{6} \\leq 1.21\\\\\n",
       " & v_{8} + 3.89 t_{7} \\leq 1.21\\\\\n",
       " & v_{9} + 3.89 t_{8} \\leq 1.21\\\\\n",
       " & v_{10} + 3.89 t_{9} \\leq 1.21\\\\\n",
       " & v_{11} + 3.89 t_{10} \\leq 1.21\\\\\n",
       " & v_{12} + 3.89 t_{11} \\leq 1.21\\\\\n",
       " & v_{13} + 3.89 t_{12} \\leq 1.21\\\\\n",
       " & v_{14} + 3.89 t_{13} \\leq 1.21\\\\\n",
       " & v_{15} + 3.89 t_{14} \\leq 1.21\\\\\n",
       " & -v_{2} + 3.89 t_{1} \\leq -0.81\\\\\n",
       " & -v_{3} + 3.89 t_{2} \\leq -0.81\\\\\n",
       " & -v_{4} + 3.89 t_{3} \\leq -0.81\\\\\n",
       " & -v_{5} + 3.89 t_{4} \\leq -0.81\\\\\n",
       " & -v_{6} + 3.89 t_{5} \\leq -0.81\\\\\n",
       " & -v_{7} + 3.89 t_{6} \\leq -0.81\\\\\n",
       " & -v_{8} + 3.89 t_{7} \\leq -0.81\\\\\n",
       " & -v_{9} + 3.89 t_{8} \\leq -0.81\\\\\n",
       " & -v_{10} + 3.89 t_{9} \\leq -0.81\\\\\n",
       " & -v_{11} + 3.89 t_{10} \\leq -0.81\\\\\n",
       " & -v_{12} + 3.89 t_{11} \\leq -0.81\\\\\n",
       " & -v_{13} + 3.89 t_{12} \\leq -0.81\\\\\n",
       " & -v_{14} + 3.89 t_{13} \\leq -0.81\\\\\n",
       " & -v_{15} + 3.89 t_{14} \\leq -0.81\\\\\n",
       " & gp_{12} + 0.8265449078846231 α_{12} \\leq 1.0\\\\\n",
       " & gp_{7} + 0.8265449078846231 α_{7} \\leq 1.0\\\\\n",
       " & gq_{1} \\leq 1000.0\\\\\n",
       " & gq_{12} \\leq 0.5\\\\\n",
       " & gq_{7} \\leq 0.5\\\\\n",
       " & [t_{1}, -0.07936 ρ_{1} + 7.936e-5, 0, -0.00201 ρ_{1} + 2.0100000000000002e-6, -0.00173 ρ_{1} + 1.73e-6, -0.0029100000000000003 ρ_{1} + 2.9100000000000005e-6, -0.00219 ρ_{1} + 2.19e-6, -0.01969 ρ_{1} + 1.969e-5, -0.00235 ρ_{1} + 2.35e-6, -0.00229 ρ_{1} + 2.29e-6, -0.00217 ρ_{1} + 2.17e-6, -0.00132 ρ_{1} + 1.32e-6, -0.06219 ρ_{1}, -0.00014000000000000001 ρ_{1}, -0.0022400000000000002 ρ_{1}] \\in MathOptInterface.SecondOrderCone(15)\\\\\n",
       " & [t_{2}, -0.07936 ρ_{2} + 7.936e-5, 0, -0.00201 ρ_{2} + 0.00017949300000000002, -0.00173 ρ_{2} + 0.000154489, -0.0029100000000000003 ρ_{2} + 0.00025986300000000004, -0.00219 ρ_{2} + 0.000195567, -0.01969 ρ_{2} + 0.001758317, -0.00235 ρ_{2} + 0.00020985500000000003, -0.00229 ρ_{2} + 0.00020449700000000002, -0.00217 ρ_{2} + 0.00019378100000000002, -0.00132 ρ_{2} + 0.00011787600000000001, -0.06219 ρ_{2}, -0.00014000000000000001 ρ_{2}, -0.0022400000000000002 ρ_{2}] \\in MathOptInterface.SecondOrderCone(15)\\\\\n",
       " & [t_{3}, -0.07936 ρ_{3} + 7.936e-5, 0, -0.00201 ρ_{3} + 0.00045767700000000003, -0.00173 ρ_{3} + 0.00039392100000000004, -0.0029100000000000003 ρ_{3} + 0.0006626070000000001, -0.00219 ρ_{3} + 0.0004986630000000001, -0.01969 ρ_{3} + 0.004483413, -0.00235 ρ_{3} + 0.0005350950000000001, -0.00229 ρ_{3} + 0.000521433, -0.00217 ρ_{3} + 0.0004941090000000001, -0.00132 ρ_{3} + 0.000300564, -0.06219 ρ_{3}, -0.00014000000000000001 ρ_{3}, -0.0022400000000000002 ρ_{3}] \\in MathOptInterface.SecondOrderCone(15)\\\\\n",
       " & [t_{4}, -0.07936 ρ_{4} + 7.936e-5, 0, -0.00201 ρ_{4} + 0.00045767700000000003, -0.00173 ρ_{4} + 0.00042696400000000005, -0.0029100000000000003 ρ_{4} + 0.0007181880000000001, -0.00219 ρ_{4} + 0.0005404920000000001, -0.01969 ρ_{4} + 0.004483413, -0.00235 ρ_{4} + 0.0005350950000000001, -0.00229 ρ_{4} + 0.000521433, -0.00217 ρ_{4} + 0.0004941090000000001, -0.00132 ρ_{4} + 0.000300564, -0.06219 ρ_{4}, -0.00014000000000000001 ρ_{4}, -0.0022400000000000002 ρ_{4}] \\in MathOptInterface.SecondOrderCone(15)\\\\\n",
       " & [t_{5}, -0.07936 ρ_{5} + 7.936e-5, 0, -0.00201 ρ_{5} + 0.00045767700000000003, -0.00173 ρ_{5} + 0.00042696400000000005, -0.0029100000000000003 ρ_{5} + 0.0007691130000000002, -0.00219 ρ_{5} + 0.0005788170000000001, -0.01969 ρ_{5} + 0.004483413, -0.00235 ρ_{5} + 0.0005350950000000001, -0.00229 ρ_{5} + 0.000521433, -0.00217 ρ_{5} + 0.0004941090000000001, -0.00132 ρ_{5} + 0.000300564, -0.06219 ρ_{5}, -0.00014000000000000001 ρ_{5}, -0.0022400000000000002 ρ_{5}] \\in MathOptInterface.SecondOrderCone(15)\\\\\n",
       " & [t_{6}, -0.07936 ρ_{6} + 7.936e-5, 0, -0.00201 ρ_{6} + 0.00045767700000000003, -0.00173 ρ_{6} + 0.00042696400000000005, -0.0029100000000000003 ρ_{6} + 0.0007691130000000002, -0.00219 ρ_{6} + 0.0006843750000000002, -0.01969 ρ_{6} + 0.004483413, -0.00235 ρ_{6} + 0.0005350950000000001, -0.00229 ρ_{6} + 0.000521433, -0.00217 ρ_{6} + 0.0004941090000000001, -0.00132 ρ_{6} + 0.000300564, -0.06219 ρ_{6}, -0.00014000000000000001 ρ_{6}, -0.0022400000000000002 ρ_{6}] \\in MathOptInterface.SecondOrderCone(15)\\\\\n",
       " & [t_{7}, -0.07936 ρ_{7} + 7.936e-5, 0, -0.00201 ρ_{7} + 0.00045767700000000003, -0.00173 ρ_{7} + 0.00039392100000000004, -0.0029100000000000003 ρ_{7} + 0.0006626070000000001, -0.00219 ρ_{7} + 0.0004986630000000001, -0.01969 ρ_{7} + 0.006314583, -0.00235 ρ_{7} + 0.0006307400000000001, -0.00229 ρ_{7} + 0.000614636, -0.00217 ρ_{7} + 0.0005824280000000001, -0.00132 ρ_{7} + 0.000354288, -0.06219 ρ_{7}, -0.00014000000000000001 ρ_{7}, -0.0022400000000000002 ρ_{7}] \\in MathOptInterface.SecondOrderCone(15)\\\\\n",
       " & [t_{8}, -0.07936 ρ_{8} + 7.936e-5, 0, -0.00201 ρ_{8} + 0.00045767700000000003, -0.00173 ρ_{8} + 0.00039392100000000004, -0.0029100000000000003 ρ_{8} + 0.0006626070000000001, -0.00219 ρ_{8} + 0.0004986630000000001, -0.01969 ρ_{8} + 0.0052847960000000005, -0.00235 ρ_{8} + 0.0006307400000000001, -0.00229 ρ_{8} + 0.000614636, -0.00217 ρ_{8} + 0.0005824280000000001, -0.00132 ρ_{8} + 0.000354288, -0.06219 ρ_{8}, -0.00014000000000000001 ρ_{8}, -0.0022400000000000002 ρ_{8}] \\in MathOptInterface.SecondOrderCone(15)\\\\\n",
       " & [t_{9}, -0.07936 ρ_{9} + 7.936e-5, 0, -0.00201 ρ_{9} + 0.00045767700000000003, -0.00173 ρ_{9} + 0.00039392100000000004, -0.0029100000000000003 ρ_{9} + 0.0006626070000000001, -0.00219 ρ_{9} + 0.0004986630000000001, -0.01969 ρ_{9} + 0.0052847960000000005, -0.00235 ρ_{9} + 0.0006307400000000001, -0.00229 ρ_{9} + 0.0006375360000000001, -0.00217 ρ_{9} + 0.0006041280000000001, -0.00132 ρ_{9} + 0.00036748800000000007, -0.06219 ρ_{9}, -0.00014000000000000001 ρ_{9}, -0.0022400000000000002 ρ_{9}] \\in MathOptInterface.SecondOrderCone(15)\\\\\n",
       " & [t_{10}, -0.07936 ρ_{10} + 7.936e-5, 0, -0.00201 ρ_{10} + 0.00045767700000000003, -0.00173 ρ_{10} + 0.00039392100000000004, -0.0029100000000000003 ρ_{10} + 0.0006626070000000001, -0.00219 ρ_{10} + 0.0004986630000000001, -0.01969 ρ_{10} + 0.0052847960000000005, -0.00235 ρ_{10} + 0.0006307400000000001, -0.00229 ρ_{10} + 0.0006375360000000001, -0.00217 ρ_{10} + 0.0006564250000000001, -0.00132 ρ_{10} + 0.00039930000000000006, -0.06219 ρ_{10}, -0.00014000000000000001 ρ_{10}, -0.0022400000000000002 ρ_{10}] \\in MathOptInterface.SecondOrderCone(15)\\\\\n",
       " & [t_{11}, -0.07936 ρ_{11} + 7.936e-5, 0, -0.00201 ρ_{11} + 0.00045767700000000003, -0.00173 ρ_{11} + 0.00039392100000000004, -0.0029100000000000003 ρ_{11} + 0.0006626070000000001, -0.00219 ρ_{11} + 0.0004986630000000001, -0.01969 ρ_{11} + 0.0052847960000000005, -0.00235 ρ_{11} + 0.0006307400000000001, -0.00229 ρ_{11} + 0.0006375360000000001, -0.00217 ρ_{11} + 0.0006564250000000001, -0.00132 ρ_{11} + 0.00041289600000000005, -0.06219 ρ_{11}, -0.00014000000000000001 ρ_{11}, -0.0022400000000000002 ρ_{11}] \\in MathOptInterface.SecondOrderCone(15)\\\\\n",
       " & [t_{12}, -0.07936 ρ_{12}, 0, -0.00201 ρ_{12}, -0.00173 ρ_{12}, -0.0029100000000000003 ρ_{12}, -0.00219 ρ_{12}, -0.01969 ρ_{12}, -0.00235 ρ_{12}, -0.00229 ρ_{12}, -0.00217 ρ_{12}, -0.00132 ρ_{12}, -0.06219 ρ_{12} + 6.219e-5, -0.00014000000000000001 ρ_{12} + 1.4e-7, -0.0022400000000000002 ρ_{12} + 2.24e-6] \\in MathOptInterface.SecondOrderCone(15)\\\\\n",
       " & [t_{13}, -0.07936 ρ_{13}, 0, -0.00201 ρ_{13}, -0.00173 ρ_{13}, -0.0029100000000000003 ρ_{13}, -0.00219 ρ_{13}, -0.01969 ρ_{13}, -0.00235 ρ_{13}, -0.00229 ρ_{13}, -0.00217 ρ_{13}, -0.00132 ρ_{13}, -0.06219 ρ_{13} + 6.219e-5, -0.00014000000000000001 ρ_{13} + 2.1966000000000003e-5, -0.0022400000000000002 ρ_{13} + 0.00035145600000000004] \\in MathOptInterface.SecondOrderCone(15)\\\\\n",
       " & [t_{14}, -0.07936 ρ_{14}, 0, -0.00201 ρ_{14}, -0.00173 ρ_{14}, -0.0029100000000000003 ρ_{14}, -0.00219 ρ_{14}, -0.01969 ρ_{14}, -0.00235 ρ_{14}, -0.00229 ρ_{14}, -0.00217 ρ_{14}, -0.00132 ρ_{14}, -0.06219 ρ_{14} + 6.219e-5, -0.00014000000000000001 ρ_{14} + 2.1966000000000003e-5, -0.0022400000000000002 ρ_{14} + 0.000564928] \\in MathOptInterface.SecondOrderCone(15)\\\\\n",
       " & [r, 25 gp_{1} + 10.623970538362764 α_{1}, 0, 0, 0, 0, 0, 5 gp_{7} + 2.124794107672553 α_{7}, 0, 0, 0, 0, 5 gp_{12} + 2.124794107672553 α_{12}, 0, 0, 0] \\in MathOptInterface.SecondOrderCone(16)\\\\\n",
       "\\end{alignat*}\n",
       " $$"
      ],
      "text/plain": [
       "A JuMP Model\n",
       "Minimization problem with:\n",
       "Variables: 121\n",
       "Objective function type: GenericAffExpr{Float64,VariableRef}\n",
       "`VariableRef`-in-`MathOptInterface.GreaterThan{Float64}`: 47 constraints\n",
       "`GenericAffExpr{Float64,VariableRef}`-in-`MathOptInterface.EqualTo{Float64}`: 99 constraints\n",
       "`GenericAffExpr{Float64,VariableRef}`-in-`MathOptInterface.GreaterThan{Float64}`: 5 constraints\n",
       "`GenericAffExpr{Float64,VariableRef}`-in-`MathOptInterface.LessThan{Float64}`: 33 constraints\n",
       "`Array{GenericAffExpr{Float64,VariableRef},1}`-in-`MathOptInterface.SecondOrderCone`: 15 constraints\n",
       "Model mode: AUTOMATIC\n",
       "CachingOptimizer state: EMPTY_OPTIMIZER\n",
       "Solver name: Mosek\n",
       "Names registered in the model: fp, fq, gp, gp0_minus, gp0_plus, gq, linear_cost, r, t, v, variance_penalty, α, β, γ, δm, δp, ζ, η, θm, θp, λ, μm, μp, π, ρ"
      ]
     },
     "execution_count": 18,
     "metadata": {},
     "output_type": "execute_result"
    }
   ],
   "source": [
    "m = build_model(feeder, casesettings)"
   ]
  },
  {
   "cell_type": "code",
   "execution_count": 19,
   "metadata": {},
   "outputs": [
    {
     "name": "stdout",
     "output_type": "stream",
     "text": [
      "MOSEK warning 705: #3 (nearly) zero elements are specified in sparse row ''(87) of matrix 'A'.\n",
      "MOSEK warning 705: #4 (nearly) zero elements are specified in sparse row ''(93) of matrix 'A'.\n"
     ]
    },
    {
     "data": {
      "text/plain": [
       "OPTIMAL::TerminationStatusCode = 1"
      ]
     },
     "execution_count": 19,
     "metadata": {},
     "output_type": "execute_result"
    }
   ],
   "source": [
    "optimize!(m)\n",
    "status = termination_status(m)"
   ]
  },
  {
   "cell_type": "code",
   "execution_count": null,
   "metadata": {
    "hideCode": false,
    "hidePrompt": false
   },
   "outputs": [],
   "source": [
    "# Capture Results\n",
    "results_df = DataFrame()\n",
    "\n",
    "b_idx = []\n",
    "gp_res = []\n",
    "gq_res = []\n",
    "voltages = []\n",
    "alphas = []\n",
    "lambdas = []\n",
    "pies = []\n",
    "delta_plus, delta_minus = [], []\n",
    "mu_plus, mu_minus = [], []\n",
    "gamma = []\n",
    "etas = []\n",
    "voltvar = []\n",
    "\n",
    "num_approx = 1e-7\n",
    "\n",
    "for b in bus_set\n",
    "    push!(b_idx, b) \n",
    "    push!(gp_res, (abs(value(gp[b])) - num_approx) > 0 ? value(gp[b]) : 0 )\n",
    "    push!(gq_res, (abs(value(gq[b])) - num_approx) > 0 ? value(gq[b]) : 0 )\n",
    "    push!(voltages, sqrt(value(v[b])))\n",
    "    if any_cc \n",
    "        push!(alphas, (abs(value(α[b])) - num_approx) > 0 ? value(α[b]) : 0 ) \n",
    "    else\n",
    "        push!(alphas, 0)\n",
    "    end\n",
    "    push!(lambdas, shadow_price(λ[b]))\n",
    "    push!(pies, shadow_price(π[b]))\n",
    "    if b in setdiff(gen_buses,[root_bus])\n",
    "        push!(delta_plus, shadow_price(δp[b]))\n",
    "        push!(delta_minus, shadow_price(δm[b]))\n",
    "    else\n",
    "        push!(delta_plus, 0)\n",
    "        push!(delta_minus, 0)\n",
    "    end\n",
    "    \n",
    "    if b == root_bus\n",
    "        push!(mu_plus, 0)\n",
    "        push!(mu_minus, 0)\n",
    "    else\n",
    "        push!(mu_plus, shadow_price(μp[b]))\n",
    "        push!(mu_minus, shadow_price(μm[b]))\n",
    "    end\n",
    "    if !any_cc || b == root_bus\n",
    "        push!(voltvar, 0)\n",
    "        push!(etas, 0)\n",
    "    else\n",
    "        push!(voltvar, value(t[bus_to_idx[b]]))\n",
    "        push!(etas, shadow_price(η[bus_to_idx[b]]))\n",
    "    end\n",
    "end\n",
    "objective = zeros(n_buses)\n",
    "objective[root_bus] = objective_value(m)\n",
    "gamma = zeros(n_buses)\n",
    "if any_cc\n",
    "    gamma[root_bus] = shadow_price(γ)\n",
    "end\n",
    "\n",
    "results_df = DataFrame(\n",
    "    objective = objective,\n",
    "    bus = b_idx, \n",
    "    gp = gp_res,\n",
    "    gq = gq_res,\n",
    "    voltage = voltages,\n",
    "    alpha = alphas,\n",
    "    lambda = lambdas,\n",
    "    pi = pies,\n",
    "    gamma = gamma,\n",
    "    eta = etas,\n",
    "    delta_plus = delta_plus,\n",
    "    delta_minus = delta_minus,\n",
    "    mu_plus = mu_plus,\n",
    "    mu_minus = mu_minus,\n",
    "    voltvar = voltvar,\n",
    ")\n"
   ]
  },
  {
   "cell_type": "code",
   "execution_count": null,
   "metadata": {},
   "outputs": [],
   "source": [
    "saveres = results_df"
   ]
  },
  {
   "cell_type": "code",
   "execution_count": null,
   "metadata": {},
   "outputs": [],
   "source": [
    "CSV.write(\"figures/141res_lv.csv\", saveres)"
   ]
  },
  {
   "cell_type": "code",
   "execution_count": null,
   "metadata": {},
   "outputs": [],
   "source": [
    "mu = results_df[:mu_plus] .+ results_df[:mu_minus]\n",
    "mu = mu[2:end]\n",
    "\n",
    "b = 1 ./ diag(C)\n",
    "b = [(x == Inf ? 0 : x) for x in b]\n",
    "\n",
    "g3 = 2*s*z*e'*R'*mu/sum(b)\n",
    "\n",
    "g1 = s^2/sum(b) \n",
    "\n",
    "delta = results_df[:delta_plus] .+ results_df[:delta_minus]\n",
    "detlta = delta[2:end]\n",
    "g2 = sum(delta.*b)/sum(b)\n",
    "\n",
    "g = -g1 - g2 + g3\n"
   ]
  },
  {
   "cell_type": "code",
   "execution_count": null,
   "metadata": {},
   "outputs": [],
   "source": [
    "saveres = results_df"
   ]
  },
  {
   "cell_type": "code",
   "execution_count": null,
   "metadata": {},
   "outputs": [],
   "source": [
    "CSV.write(\"figures/results_uncert.csv\", results_df)"
   ]
  },
  {
   "cell_type": "code",
   "execution_count": null,
   "metadata": {},
   "outputs": [],
   "source": []
  }
 ],
 "metadata": {
  "hide_code_all_hidden": false,
  "kernelspec": {
   "display_name": "Julia 1.1.0",
   "language": "julia",
   "name": "julia-1.1"
  },
  "language_info": {
   "file_extension": ".jl",
   "mimetype": "application/julia",
   "name": "julia",
   "version": "1.1.0"
  },
  "varInspector": {
   "cols": {
    "lenName": 16,
    "lenType": 16,
    "lenVar": 40
   },
   "kernels_config": {
    "python": {
     "delete_cmd_postfix": "",
     "delete_cmd_prefix": "del ",
     "library": "var_list.py",
     "varRefreshCmd": "print(var_dic_list())"
    },
    "r": {
     "delete_cmd_postfix": ") ",
     "delete_cmd_prefix": "rm(",
     "library": "var_list.r",
     "varRefreshCmd": "cat(var_dic_list()) "
    }
   },
   "types_to_exclude": [
    "module",
    "function",
    "builtin_function_or_method",
    "instance",
    "_Feature"
   ],
   "window_display": false
  }
 },
 "nbformat": 4,
 "nbformat_minor": 2
}
