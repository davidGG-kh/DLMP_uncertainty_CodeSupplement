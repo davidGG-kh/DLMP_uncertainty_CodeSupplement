{
 "cells": [
  {
   "cell_type": "markdown",
   "metadata": {},
   "source": [
    "# Case Study Model\n",
    "\n",
    "## General Remarks\n",
    "\n",
    "- Reverse Power Flow / Cost at substation\n",
    "    - If the negative generation limit at the substation is not enforced, then substation has the option of pushing energy back towards the transmission system (reverse power flow)\n",
    "    - We make the follwoing assumptions: \n",
    "        - reverse power flow is allowed at the substation \n",
    "        - for scheduled negative active power the substation is remunerated according to the market price (i.e. linear cost of energy provision at the substation) -> the substation has a linear cost function \n",
    "        - While the cost function will not have a quadratic termn, THERE WILL BE a penalty on $\\alpha_0$ as it indicates how much the substation is willing to deviate from the schedule\n",
    "\n",
    "\n",
    "## Notes and Todos:\n",
    "\n",
    "- Verify the gamma decomposition\n",
    "- Maybe check if 33bus gives nice/better results?\n",
    " \n",
    " \n",
    "Done:   \n",
    "- decide for a case! (combination of voltage limits and generators). Notes:\n",
    "    - should there be an equal lambda case?\n",
    "    - should the DERs be fully utilized in the deterministic case?\n",
    "    - [Done]: Choosen Ex2 as set up\n",
    "- put results handling in a function [done]\n",
    "- remove unneccsray packages (e.g. gurobi from tomls) [done, but check on the \"remains\"]\n",
    "- Remove quadratic term from substation [done]"
   ]
  },
  {
   "cell_type": "code",
   "execution_count": 3,
   "metadata": {},
   "outputs": [
    {
     "data": {
      "text/html": [
       "<style>.container { width:80% !important; }</style>"
      ]
     },
     "metadata": {},
     "output_type": "display_data"
    }
   ],
   "source": [
    "# IJulia.qtconsole();\n",
    "\n",
    "# set width of notbook \n",
    "display(\"text/html\", \"<style>.container { width:80% !important; }</style>\")"
   ]
  },
  {
   "cell_type": "code",
   "execution_count": 4,
   "metadata": {
    "hideCode": false,
    "hidePrompt": false
   },
   "outputs": [
    {
     "data": {
      "text/plain": [
       "results_to_df (generic function with 1 method)"
      ]
     },
     "execution_count": 4,
     "metadata": {},
     "output_type": "execute_result"
    }
   ],
   "source": [
    "# Set up environment from .toml-files\n",
    "import Pkg\n",
    "Pkg.activate(\".\")\n",
    "# Pkg.instantiate()\n",
    "\n",
    "# Load necessary packages\n",
    "using DataFrames, CSV, LinearAlgebra, Dates # Basic Julia utility\n",
    "using JLD, HDF5\n",
    "using JuMP # Modeling Framework\n",
    "using Mosek, MosekTools, Gurobi # Solver and Solver-Environment\n",
    "using Logging # For some warnings in the functions\n",
    "\n",
    "# Load functions and model\n",
    "include(\"src/tools.jl\") # Some additional functions\n",
    "include(\"src/input.jl\") # Type definitions and read-in functions\n",
    "include(\"src/model_definition.jl\") # Model definiton\n",
    "include(\"src/output.jl\") # Postprocessing of solved model"
   ]
  },
  {
   "cell_type": "markdown",
   "metadata": {},
   "source": [
    "# 15Bus Case\n",
    "\n",
    "- 15 bus case from Papavasilou paper\n",
    "    - negative load is positive load\n",
    "    - no line constraints\n",
    "    - voltage at root is 1 p.u.\n",
    "    \n",
    "- Assumptions for all cases except mentioned differently\n",
    "    - Two DERs one each at node 6 and 11 with `c1 = 10`, `c2 = 5`, `p_max = 1`, `q_max = 0.5`\n",
    "    - No reverse power flow limit on substation\n",
    "    - Substation pays `c1 = 50` for energy provision from the transmission network (no quadratic term) and a penalty of `200` on alpha to discourage high alpha"
   ]
  },
  {
   "cell_type": "markdown",
   "metadata": {},
   "source": [
    "## Experiment 5\n",
    "\n",
    "### Description\n",
    "\n",
    "Ex5:\n",
    "- tag: `experiment5` \n",
    "- all nodes have 20% standard deviation of their forecasted load\n",
    "- all parameters as in AP's paper, including the negative load (i.e. uncontrollable generator with the same standard deviation\n",
    "- EXCEPT: lines 2 and 3 also have s_max = 2 (instead of 0.256)\n",
    "- Generation confidene: 95%, voltage confidence: 99%\n",
    "- substation balancing participation penalty is set to 1000 (i.e. quadratic cost term)\n",
    "\n",
    "Runs:\n",
    "- `ex5_no_uncert`: deterministic case\n",
    "- `ex5_uncert`: case with uncertainty\n",
    "- `ex5_gen_uncert`: chance constraints only in generation\n",
    "\n",
    "\n",
    "### Notes and Observations\n",
    "\n"
   ]
  },
  {
   "cell_type": "code",
   "execution_count": 12,
   "metadata": {},
   "outputs": [
    {
     "name": "stdout",
     "output_type": "stream",
     "text": [
      ">>>>> Reading feeder data from data/feeder_data/basecase_noneg/\n",
      "Running uncert\n",
      ">>>> Building Model\n",
      ">>>> Running Model\n",
      "MOSEK warning 705: #3 (nearly) zero elements are specified in sparse row ''(86) of matrix 'A'.\n",
      "MOSEK warning 705: #4 (nearly) zero elements are specified in sparse row ''(92) of matrix 'A'.\n",
      ">>>> Model finished with status OPTIMAL in 0.037558884 seconds\n",
      ">>>> Post-Processing\n",
      "\n",
      "Running gen_uncert\n",
      ">>>> Building Model\n",
      ">>>> Running Model\n",
      ">>>> Model finished with status OPTIMAL in 0.019324034 seconds\n",
      ">>>> Post-Processing\n",
      "\n",
      "Running no_uncert\n",
      ">>>> Building Model\n",
      ">>>> Running Model\n",
      ">>>> Model finished with status OPTIMAL in 0.009955943 seconds\n",
      ">>>> Post-Processing\n",
      "\n",
      ">>> Case uncert"
     ]
    },
    {
     "data": {
      "text/html": [
       "<table class=\"data-frame\"><thead><tr><th></th><th>objective</th><th>bus</th><th>gp</th><th>gq</th><th>voltage</th><th>fp</th><th>fq</th><th>alpha</th><th>lambda</th><th>pi</th><th>gamma</th><th>rho</th><th>nu</th><th>delta_plus</th><th>delta_minus</th><th>mu_plus</th><th>mu_minus</th><th>eta_plus</th><th>eta_minus</th><th>eta_aP</th><th>eta_aQ</th><th>voltvar</th><th>lambda_anc</th><th>rx_pi_i</th><th>rx_pi_a</th><th>rx_etaQ</th><th>r_sum_mu_d</th><th>nu_calc</th></tr><tr><th></th><th>Float64</th><th>Any</th><th>Any</th><th>Any</th><th>Any</th><th>Any</th><th>Any</th><th>Any</th><th>Any</th><th>Any</th><th>Float64</th><th>Any</th><th>Any</th><th>Any</th><th>Any</th><th>Any</th><th>Any</th><th>Any</th><th>Any</th><th>Any</th><th>Any</th><th>Any</th><th>Any</th><th>Any</th><th>Any</th><th>Any</th><th>Any</th><th>Any</th></tr></thead><tbody><p>15 rows × 28 columns</p><tr><th>1</th><td>71.7329</td><td>1</td><td>1.1981</td><td>0.378944</td><td>1.0</td><td>0</td><td>0</td><td>0.465563</td><td>-50.0</td><td>-3.32827e-9</td><td>-19.9181</td><td>0</td><td>0</td><td>0</td><td>0</td><td>0</td><td>0</td><td>0</td><td>0</td><td>0</td><td>0</td><td>0</td><td>0</td><td>0</td><td>0</td><td>0</td><td>0</td><td>0</td></tr><tr><th>2</th><td>0.0</td><td>2</td><td>0</td><td>0</td><td>0.970112</td><td>0.5524</td><td>0.240744</td><td>0</td><td>-49.963</td><td>-4.43619</td><td>0.0</td><td>0.000534437</td><td>-0.018304</td><td>0</td><td>0</td><td>-1.98278e-7</td><td>-7.43554e-7</td><td>0.0</td><td>0</td><td>0.0</td><td>0.0</td><td>0.000255774</td><td>-50.0</td><td>-0.0369682</td><td>-2.77356e-11</td><td>0.0</td><td>-0.0369682</td><td>-0.0183041</td></tr><tr><th>3</th><td>0.0</td><td>3</td><td>0</td><td>0</td><td>0.984769</td><td>-0.2412</td><td>0.0552439</td><td>0</td><td>-19.9972</td><td>-8.76626</td><td>0.0</td><td>0.0477252</td><td>-1.63454</td><td>0</td><td>0</td><td>-2.71298e-7</td><td>-6.51034e-7</td><td>-66.6959</td><td>0</td><td>66.6959</td><td>-17.8678</td><td>0.000414416</td><td>-49.963</td><td>-6.1336</td><td>-3.10393</td><td>-12.5018</td><td>-3.2643</td><td>-1.63455</td></tr><tr><th>4</th><td>0.0</td><td>4</td><td>0</td><td>0</td><td>1.00731</td><td>-0.2412</td><td>0.0552439</td><td>0</td><td>-25.1136</td><td>-1.45394</td><td>0.0</td><td>0.121691</td><td>-4.16781</td><td>0</td><td>0</td><td>-1.04925e-6</td><td>-8.30509e-7</td><td>-2.44555e-6</td><td>0</td><td>1.29254e-6</td><td>3.92048e-7</td><td>0.000990722</td><td>-19.9972</td><td>-1.01732</td><td>-6.13372</td><td>2.74315e-7</td><td>-5.1164</td><td>-4.16784</td></tr><tr><th>5</th><td>0.0</td><td>5</td><td>0</td><td>0</td><td>1.00937</td><td>-0.0372927</td><td>-0.0498092</td><td>0</td><td>-25.3425</td><td>-1.12672</td><td>0.0</td><td>0.126728</td><td>-4.28435</td><td>0</td><td>0</td><td>-1.32613e-6</td><td>-8.19686e-7</td><td>-7.25137e-7</td><td>0</td><td>-5.14136e-7</td><td>7.94197e-8</td><td>0.00103784</td><td>-25.1136</td><td>-0.788289</td><td>-1.01723</td><td>5.55647e-8</td><td>-0.228939</td><td>-4.28437</td></tr><tr><th>6</th><td>0.0</td><td>6</td><td>0</td><td>0</td><td>1.01166</td><td>-0.0545927</td><td>-0.0541092</td><td>0</td><td>-25.5523</td><td>-0.825859</td><td>0.0</td><td>0.131343</td><td>-4.39113</td><td>0</td><td>0</td><td>-1.78832e-6</td><td>-7.90239e-7</td><td>0.0</td><td>0</td><td>0.0</td><td>0.0</td><td>0.0010757</td><td>-25.3425</td><td>-0.575798</td><td>-0.785559</td><td>0.0</td><td>-0.209761</td><td>-4.39115</td></tr><tr><th>7</th><td>0.0</td><td>7</td><td>0.105593</td><td>0.0669092</td><td>1.01979</td><td>-0.0836927</td><td>-0.0614092</td><td>0.263704</td><td>-26.13</td><td>-3.13706e-8</td><td>0.0</td><td>0.144053</td><td>-4.68522</td><td>-5.15303e-8</td><td>-37.69</td><td>-5.99317</td><td>-6.37813e-7</td><td>-1.07436e-6</td><td>0</td><td>8.23974e-7</td><td>1.66261e-7</td><td>0.00108905</td><td>-25.5523</td><td>-2.19458e-8</td><td>-0.577742</td><td>1.1631e-7</td><td>-0.577742</td><td>-4.68523</td></tr><tr><th>8</th><td>0.0</td><td>8</td><td>0</td><td>0</td><td>1.02077</td><td>-0.1969</td><td>0.0019</td><td>0</td><td>-27.4369</td><td>-1.86615</td><td>0.0</td><td>0.13271</td><td>-5.30265</td><td>0</td><td>0</td><td>-12.4909</td><td>-5.87498e-7</td><td>0.0</td><td>0</td><td>0.0</td><td>0.0</td><td>0.00106365</td><td>-26.1304</td><td>-1.30655</td><td>-1.59777e-7</td><td>0.0</td><td>-1.30655</td><td>-5.30269</td></tr><tr><th>9</th><td>0.0</td><td>9</td><td>0</td><td>0</td><td>1.01077</td><td>-0.224007</td><td>0.0966531</td><td>0</td><td>-26.1304</td><td>-2.2821e-7</td><td>0.0</td><td>0.13271</td><td>-4.66446</td><td>0</td><td>0</td><td>-2.03412e-6</td><td>-8.88834e-7</td><td>-7.13656e-6</td><td>0</td><td>6.77284e-6</td><td>-2.30366e-6</td><td>0.0011173</td><td>-25.1136</td><td>-1.5959e-7</td><td>-1.01676</td><td>-1.61098e-6</td><td>-1.01676</td><td>-4.66449</td></tr><tr><th>10</th><td>0.0</td><td>10</td><td>0</td><td>0</td><td>1.01002</td><td>-0.0506074</td><td>0.0888531</td><td>0</td><td>-26.1304</td><td>-3.55764e-7</td><td>0.0</td><td>0.135417</td><td>-4.66446</td><td>0</td><td>0</td><td>-2.12239e-6</td><td>-9.73466e-7</td><td>-6.35647e-7</td><td>0</td><td>-4.85767e-7</td><td>-2.53039e-7</td><td>0.00114639</td><td>-26.1304</td><td>-2.48786e-7</td><td>-1.59587e-7</td><td>-1.7695e-7</td><td>-8.97886e-8</td><td>-4.66449</td></tr><tr><th>11</th><td>0.0</td><td>11</td><td>0</td><td>0</td><td>1.00922</td><td>-0.0735074</td><td>0.0746531</td><td>0</td><td>-26.1304</td><td>-1.29957e-7</td><td>0.0</td><td>0.141942</td><td>-4.66446</td><td>0</td><td>0</td><td>-2.65885e-6</td><td>-1.17002e-6</td><td>0.0</td><td>0</td><td>0.0</td><td>0.0</td><td>0.0012092</td><td>-26.1304</td><td>-9.07813e-8</td><td>-2.48519e-7</td><td>0.0</td><td>-1.61012e-7</td><td>-4.66449</td></tr><tr><th>12</th><td>0.0</td><td>12</td><td>0.108407</td><td>-0.0648531</td><td>1.00919</td><td>-0.0952074</td><td>0.0681531</td><td>0.270733</td><td>-26.1304</td><td>-3.02976e-8</td><td>0.0</td><td>0.144731</td><td>-4.66446</td><td>-5.13465e-8</td><td>-37.7324</td><td>-3.10448e-6</td><td>-1.2528e-6</td><td>-1.0645e-7</td><td>0</td><td>-2.85179e-8</td><td>1.0645e-7</td><td>0.00123157</td><td>-26.1304</td><td>-2.10855e-8</td><td>-9.04428e-8</td><td>7.40832e-8</td><td>-3.81447e-8</td><td>-4.66449</td></tr><tr><th>13</th><td>0.0</td><td>13</td><td>0</td><td>0</td><td>0.982619</td><td>0.6457</td><td>0.1382</td><td>0</td><td>-50.0</td><td>-5.57987e-7</td><td>0.0</td><td>0.0</td><td>-5.8041e-12</td><td>0</td><td>0</td><td>0.0</td><td>-7.28264e-7</td><td>0.0</td><td>0</td><td>0.0</td><td>0.0</td><td>0.000403082</td><td>-50.0</td><td>-4.64989e-9</td><td>-2.77356e-11</td><td>0.0</td><td>4.62215e-9</td><td>-1.1546e-11</td></tr><tr><th>14</th><td>0.0</td><td>14</td><td>0</td><td>0</td><td>0.977795</td><td>0.0238</td><td>0.0091</td><td>0</td><td>-50.0</td><td>-9.1222e-7</td><td>0.0</td><td>0.0</td><td>-6.8383e-10</td><td>0</td><td>0</td><td>0.0</td><td>-7.76075e-7</td><td>0.0</td><td>0</td><td>0.0</td><td>0.0</td><td>0.000355596</td><td>-50.0</td><td>-1.27091e-6</td><td>-7.77392e-7</td><td>0.0</td><td>4.93521e-7</td><td>-1.36026e-9</td></tr><tr><th>15</th><td>0.0</td><td>15</td><td>0</td><td>0</td><td>0.975027</td><td>0.0224</td><td>0.0083</td><td>0</td><td>-50.0</td><td>-1.02258e-6</td><td>0.0</td><td>-0.0</td><td>-9.09111e-10</td><td>0</td><td>0</td><td>0.0</td><td>-8.06738e-7</td><td>0.0</td><td>0</td><td>0.0</td><td>0.0</td><td>0.000329985</td><td>-50.0</td><td>-1.42474e-6</td><td>-1.27097e-6</td><td>0.0</td><td>1.53764e-7</td><td>-1.80823e-9</td></tr></tbody></table>"
      ],
      "text/latex": [
       "\\begin{tabular}{r|cccccccccccccccccccccccccccc}\n",
       "\t& objective & bus & gp & gq & voltage & fp & fq & alpha & lambda & pi & gamma & rho & nu & delta\\_plus & delta\\_minus & mu\\_plus & mu\\_minus & eta\\_plus & eta\\_minus & eta\\_aP & eta\\_aQ & voltvar & lambda\\_anc & rx\\_pi\\_i & rx\\_pi\\_a & rx\\_etaQ & r\\_sum\\_mu\\_d & nu\\_calc\\\\\n",
       "\t\\hline\n",
       "\t& Float64 & Any & Any & Any & Any & Any & Any & Any & Any & Any & Float64 & Any & Any & Any & Any & Any & Any & Any & Any & Any & Any & Any & Any & Any & Any & Any & Any & Any\\\\\n",
       "\t\\hline\n",
       "\t1 & 71.7329 & 1 & 1.1981 & 0.378944 & 1.0 & 0 & 0 & 0.465563 & -50.0 & -3.32827e-9 & -19.9181 & 0 & 0 & 0 & 0 & 0 & 0 & 0 & 0 & 0 & 0 & 0 & 0 & 0 & 0 & 0 & 0 & 0 \\\\\n",
       "\t2 & 0.0 & 2 & 0 & 0 & 0.970112 & 0.5524 & 0.240744 & 0 & -49.963 & -4.43619 & 0.0 & 0.000534437 & -0.018304 & 0 & 0 & -1.98278e-7 & -7.43554e-7 & 0.0 & 0 & 0.0 & 0.0 & 0.000255774 & -50.0 & -0.0369682 & -2.77356e-11 & 0.0 & -0.0369682 & -0.0183041 \\\\\n",
       "\t3 & 0.0 & 3 & 0 & 0 & 0.984769 & -0.2412 & 0.0552439 & 0 & -19.9972 & -8.76626 & 0.0 & 0.0477252 & -1.63454 & 0 & 0 & -2.71298e-7 & -6.51034e-7 & -66.6959 & 0 & 66.6959 & -17.8678 & 0.000414416 & -49.963 & -6.1336 & -3.10393 & -12.5018 & -3.2643 & -1.63455 \\\\\n",
       "\t4 & 0.0 & 4 & 0 & 0 & 1.00731 & -0.2412 & 0.0552439 & 0 & -25.1136 & -1.45394 & 0.0 & 0.121691 & -4.16781 & 0 & 0 & -1.04925e-6 & -8.30509e-7 & -2.44555e-6 & 0 & 1.29254e-6 & 3.92048e-7 & 0.000990722 & -19.9972 & -1.01732 & -6.13372 & 2.74315e-7 & -5.1164 & -4.16784 \\\\\n",
       "\t5 & 0.0 & 5 & 0 & 0 & 1.00937 & -0.0372927 & -0.0498092 & 0 & -25.3425 & -1.12672 & 0.0 & 0.126728 & -4.28435 & 0 & 0 & -1.32613e-6 & -8.19686e-7 & -7.25137e-7 & 0 & -5.14136e-7 & 7.94197e-8 & 0.00103784 & -25.1136 & -0.788289 & -1.01723 & 5.55647e-8 & -0.228939 & -4.28437 \\\\\n",
       "\t6 & 0.0 & 6 & 0 & 0 & 1.01166 & -0.0545927 & -0.0541092 & 0 & -25.5523 & -0.825859 & 0.0 & 0.131343 & -4.39113 & 0 & 0 & -1.78832e-6 & -7.90239e-7 & 0.0 & 0 & 0.0 & 0.0 & 0.0010757 & -25.3425 & -0.575798 & -0.785559 & 0.0 & -0.209761 & -4.39115 \\\\\n",
       "\t7 & 0.0 & 7 & 0.105593 & 0.0669092 & 1.01979 & -0.0836927 & -0.0614092 & 0.263704 & -26.13 & -3.13706e-8 & 0.0 & 0.144053 & -4.68522 & -5.15303e-8 & -37.69 & -5.99317 & -6.37813e-7 & -1.07436e-6 & 0 & 8.23974e-7 & 1.66261e-7 & 0.00108905 & -25.5523 & -2.19458e-8 & -0.577742 & 1.1631e-7 & -0.577742 & -4.68523 \\\\\n",
       "\t8 & 0.0 & 8 & 0 & 0 & 1.02077 & -0.1969 & 0.0019 & 0 & -27.4369 & -1.86615 & 0.0 & 0.13271 & -5.30265 & 0 & 0 & -12.4909 & -5.87498e-7 & 0.0 & 0 & 0.0 & 0.0 & 0.00106365 & -26.1304 & -1.30655 & -1.59777e-7 & 0.0 & -1.30655 & -5.30269 \\\\\n",
       "\t9 & 0.0 & 9 & 0 & 0 & 1.01077 & -0.224007 & 0.0966531 & 0 & -26.1304 & -2.2821e-7 & 0.0 & 0.13271 & -4.66446 & 0 & 0 & -2.03412e-6 & -8.88834e-7 & -7.13656e-6 & 0 & 6.77284e-6 & -2.30366e-6 & 0.0011173 & -25.1136 & -1.5959e-7 & -1.01676 & -1.61098e-6 & -1.01676 & -4.66449 \\\\\n",
       "\t10 & 0.0 & 10 & 0 & 0 & 1.01002 & -0.0506074 & 0.0888531 & 0 & -26.1304 & -3.55764e-7 & 0.0 & 0.135417 & -4.66446 & 0 & 0 & -2.12239e-6 & -9.73466e-7 & -6.35647e-7 & 0 & -4.85767e-7 & -2.53039e-7 & 0.00114639 & -26.1304 & -2.48786e-7 & -1.59587e-7 & -1.7695e-7 & -8.97886e-8 & -4.66449 \\\\\n",
       "\t11 & 0.0 & 11 & 0 & 0 & 1.00922 & -0.0735074 & 0.0746531 & 0 & -26.1304 & -1.29957e-7 & 0.0 & 0.141942 & -4.66446 & 0 & 0 & -2.65885e-6 & -1.17002e-6 & 0.0 & 0 & 0.0 & 0.0 & 0.0012092 & -26.1304 & -9.07813e-8 & -2.48519e-7 & 0.0 & -1.61012e-7 & -4.66449 \\\\\n",
       "\t12 & 0.0 & 12 & 0.108407 & -0.0648531 & 1.00919 & -0.0952074 & 0.0681531 & 0.270733 & -26.1304 & -3.02976e-8 & 0.0 & 0.144731 & -4.66446 & -5.13465e-8 & -37.7324 & -3.10448e-6 & -1.2528e-6 & -1.0645e-7 & 0 & -2.85179e-8 & 1.0645e-7 & 0.00123157 & -26.1304 & -2.10855e-8 & -9.04428e-8 & 7.40832e-8 & -3.81447e-8 & -4.66449 \\\\\n",
       "\t13 & 0.0 & 13 & 0 & 0 & 0.982619 & 0.6457 & 0.1382 & 0 & -50.0 & -5.57987e-7 & 0.0 & 0.0 & -5.8041e-12 & 0 & 0 & 0.0 & -7.28264e-7 & 0.0 & 0 & 0.0 & 0.0 & 0.000403082 & -50.0 & -4.64989e-9 & -2.77356e-11 & 0.0 & 4.62215e-9 & -1.1546e-11 \\\\\n",
       "\t14 & 0.0 & 14 & 0 & 0 & 0.977795 & 0.0238 & 0.0091 & 0 & -50.0 & -9.1222e-7 & 0.0 & 0.0 & -6.8383e-10 & 0 & 0 & 0.0 & -7.76075e-7 & 0.0 & 0 & 0.0 & 0.0 & 0.000355596 & -50.0 & -1.27091e-6 & -7.77392e-7 & 0.0 & 4.93521e-7 & -1.36026e-9 \\\\\n",
       "\t15 & 0.0 & 15 & 0 & 0 & 0.975027 & 0.0224 & 0.0083 & 0 & -50.0 & -1.02258e-6 & 0.0 & -0.0 & -9.09111e-10 & 0 & 0 & 0.0 & -8.06738e-7 & 0.0 & 0 & 0.0 & 0.0 & 0.000329985 & -50.0 & -1.42474e-6 & -1.27097e-6 & 0.0 & 1.53764e-7 & -1.80823e-9 \\\\\n",
       "\\end{tabular}\n"
      ],
      "text/plain": [
       "15×28 DataFrame. Omitted printing of 22 columns\n",
       "│ Row │ objective │ bus │ gp       │ gq         │ voltage  │ fp         │\n",
       "│     │ \u001b[90mFloat64\u001b[39m   │ \u001b[90mAny\u001b[39m │ \u001b[90mAny\u001b[39m      │ \u001b[90mAny\u001b[39m        │ \u001b[90mAny\u001b[39m      │ \u001b[90mAny\u001b[39m        │\n",
       "├─────┼───────────┼─────┼──────────┼────────────┼──────────┼────────────┤\n",
       "│ 1   │ 71.7329   │ 1   │ 1.1981   │ 0.378944   │ 1.0      │ 0          │\n",
       "│ 2   │ 0.0       │ 2   │ 0        │ 0          │ 0.970112 │ 0.5524     │\n",
       "│ 3   │ 0.0       │ 3   │ 0        │ 0          │ 0.984769 │ -0.2412    │\n",
       "│ 4   │ 0.0       │ 4   │ 0        │ 0          │ 1.00731  │ -0.2412    │\n",
       "│ 5   │ 0.0       │ 5   │ 0        │ 0          │ 1.00937  │ -0.0372927 │\n",
       "│ 6   │ 0.0       │ 6   │ 0        │ 0          │ 1.01166  │ -0.0545927 │\n",
       "│ 7   │ 0.0       │ 7   │ 0.105593 │ 0.0669092  │ 1.01979  │ -0.0836927 │\n",
       "│ 8   │ 0.0       │ 8   │ 0        │ 0          │ 1.02077  │ -0.1969    │\n",
       "│ 9   │ 0.0       │ 9   │ 0        │ 0          │ 1.01077  │ -0.224007  │\n",
       "│ 10  │ 0.0       │ 10  │ 0        │ 0          │ 1.01002  │ -0.0506074 │\n",
       "│ 11  │ 0.0       │ 11  │ 0        │ 0          │ 1.00922  │ -0.0735074 │\n",
       "│ 12  │ 0.0       │ 12  │ 0.108407 │ -0.0648531 │ 1.00919  │ -0.0952074 │\n",
       "│ 13  │ 0.0       │ 13  │ 0        │ 0          │ 0.982619 │ 0.6457     │\n",
       "│ 14  │ 0.0       │ 14  │ 0        │ 0          │ 0.977795 │ 0.0238     │\n",
       "│ 15  │ 0.0       │ 15  │ 0        │ 0          │ 0.975027 │ 0.0224     │"
      ]
     },
     "metadata": {},
     "output_type": "display_data"
    },
    {
     "name": "stdout",
     "output_type": "stream",
     "text": [
      ">>> Case gen_uncert"
     ]
    },
    {
     "data": {
      "text/html": [
       "<table class=\"data-frame\"><thead><tr><th></th><th>objective</th><th>bus</th><th>gp</th><th>gq</th><th>voltage</th><th>fp</th><th>fq</th><th>alpha</th><th>lambda</th><th>pi</th><th>gamma</th><th>rho</th><th>nu</th><th>delta_plus</th><th>delta_minus</th><th>mu_plus</th><th>mu_minus</th><th>eta_plus</th><th>eta_minus</th><th>eta_aP</th><th>eta_aQ</th><th>voltvar</th><th>lambda_anc</th><th>rx_pi_i</th><th>rx_pi_a</th><th>rx_etaQ</th><th>r_sum_mu_d</th><th>nu_calc</th></tr><tr><th></th><th>Float64</th><th>Any</th><th>Any</th><th>Any</th><th>Any</th><th>Any</th><th>Any</th><th>Any</th><th>Any</th><th>Any</th><th>Float64</th><th>Any</th><th>Any</th><th>Any</th><th>Any</th><th>Any</th><th>Any</th><th>Any</th><th>Any</th><th>Any</th><th>Any</th><th>Any</th><th>Any</th><th>Any</th><th>Any</th><th>Any</th><th>Any</th><th>Any</th></tr></thead><tbody><p>15 rows × 28 columns</p><tr><th>1</th><td>70.4343</td><td>1</td><td>1.1833</td><td>0.3237</td><td>1.0</td><td>0</td><td>0</td><td>0.428602</td><td>-50.0</td><td>-5.40272e-9</td><td>-19.8899</td><td>0</td><td>0</td><td>0</td><td>0</td><td>0</td><td>0</td><td>0</td><td>0</td><td>0</td><td>0</td><td>0</td><td>0</td><td>0</td><td>0</td><td>0</td><td>0</td><td>0</td></tr><tr><th>2</th><td>0.0</td><td>2</td><td>0</td><td>0</td><td>0.976936</td><td>0.5376</td><td>0.1855</td><td>0</td><td>-50.0</td><td>-7.12378e-7</td><td>0.0</td><td>0</td><td>0</td><td>0</td><td>0</td><td>-3.32182e-7</td><td>-6.04708e-7</td><td>0.0</td><td>0</td><td>0.0</td><td>0.0</td><td>0</td><td>-50.0</td><td>-5.93648e-9</td><td>-4.50227e-11</td><td>0.0</td><td>-5.98151e-9</td><td>0</td></tr><tr><th>3</th><td>0.0</td><td>3</td><td>0</td><td>0</td><td>0.999807</td><td>-0.256</td><td>2.65741e-11</td><td>0</td><td>-6.16131</td><td>-11.7444</td><td>0.0</td><td>0</td><td>0</td><td>0</td><td>0</td><td>-4.19262e-7</td><td>-4.66164e-7</td><td>-43.8387</td><td>0</td><td>43.8387</td><td>-11.7444</td><td>0</td><td>-50.0</td><td>-8.21735</td><td>-4.98439e-7</td><td>-8.21735</td><td>-5.76295e-7</td><td>0</td></tr><tr><th>4</th><td>0.0</td><td>4</td><td>0</td><td>0</td><td>1.03464</td><td>-0.256</td><td>2.65741e-11</td><td>0</td><td>-37.6774</td><td>-3.82881e-7</td><td>0.0</td><td>0</td><td>0</td><td>0</td><td>0</td><td>-6.4309e-7</td><td>-3.41806e-7</td><td>-43.8387</td><td>0</td><td>43.8387</td><td>11.7444</td><td>0</td><td>-6.16131</td><td>-2.67901e-7</td><td>-8.21751</td><td>8.21751</td><td>-9.16258e-7</td><td>0</td></tr><tr><th>5</th><td>0.0</td><td>5</td><td>0</td><td>0</td><td>1.03576</td><td>-0.0461079</td><td>-0.0102331</td><td>0</td><td>-37.6774</td><td>-2.86456e-7</td><td>0.0</td><td>0</td><td>0</td><td>0</td><td>0</td><td>-6.56648e-7</td><td>-3.37952e-7</td><td>-1.63259e-6</td><td>0</td><td>-1.15351e-6</td><td>3.68639e-8</td><td>0</td><td>-37.6774</td><td>-2.00414e-7</td><td>-2.67877e-7</td><td>2.57913e-8</td><td>-4.16709e-8</td><td>0</td></tr><tr><th>6</th><td>0.0</td><td>6</td><td>0</td><td>0</td><td>1.03718</td><td>-0.0634079</td><td>-0.0145331</td><td>0</td><td>-37.6774</td><td>-2.47693e-7</td><td>0.0</td><td>0</td><td>0</td><td>0</td><td>0</td><td>-6.73747e-7</td><td>-3.33442e-7</td><td>0.0</td><td>0</td><td>0.0</td><td>0.0</td><td>0</td><td>-37.6774</td><td>-1.72695e-7</td><td>-1.9972e-7</td><td>0.0</td><td>-2.70258e-8</td><td>0</td></tr><tr><th>7</th><td>0.0</td><td>7</td><td>0.114408</td><td>0.0273331</td><td>1.04291</td><td>-0.0925079</td><td>-0.0218331</td><td>0.285719</td><td>-37.6774</td><td>-3.0918e-8</td><td>0.0</td><td>0</td><td>0</td><td>-1.44048e-7</td><td>-49.2583</td><td>-7.49022e-7</td><td>-3.17162e-7</td><td>-2.69938e-6</td><td>0</td><td>2.11952e-6</td><td>1.57265e-7</td><td>0</td><td>-37.6774</td><td>-2.16292e-8</td><td>-1.73278e-7</td><td>1.10017e-7</td><td>-4.16314e-8</td><td>0</td></tr><tr><th>8</th><td>0.0</td><td>8</td><td>0</td><td>0</td><td>1.05323</td><td>-0.1969</td><td>0.0019</td><td>0</td><td>-37.6774</td><td>-5.53377e-8</td><td>0.0</td><td>0</td><td>0</td><td>0</td><td>0</td><td>-8.82708e-7</td><td>0.0</td><td>0.0</td><td>0</td><td>0.0</td><td>0.0</td><td>0</td><td>-37.6774</td><td>-3.87438e-8</td><td>-1.31075e-7</td><td>0.0</td><td>-9.23312e-8</td><td>0</td></tr><tr><th>9</th><td>0.0</td><td>9</td><td>0</td><td>0</td><td>1.04354</td><td>-0.229992</td><td>0.00183313</td><td>0</td><td>-37.6774</td><td>-1.87214e-7</td><td>0.0</td><td>0</td><td>0</td><td>0</td><td>0</td><td>0.0</td><td>-3.20248e-7</td><td>-4.74601e-6</td><td>0</td><td>4.08618e-6</td><td>-2.75924e-8</td><td>0</td><td>-37.6774</td><td>-1.30921e-7</td><td>-2.67754e-7</td><td>-1.92957e-8</td><td>-1.56128e-7</td><td>0</td></tr><tr><th>10</th><td>0.0</td><td>10</td><td>0</td><td>0</td><td>1.04417</td><td>-0.0565921</td><td>-0.00596687</td><td>0</td><td>-37.6774</td><td>-4.6571e-7</td><td>0.0</td><td>0</td><td>0</td><td>0</td><td>0</td><td>-7.41446e-7</td><td>-3.19085e-7</td><td>-1.35817e-6</td><td>0</td><td>-1.11999e-6</td><td>-3.17265e-7</td><td>0</td><td>-37.6774</td><td>-3.25671e-7</td><td>-1.30919e-7</td><td>-2.21864e-7</td><td>-2.71115e-8</td><td>0</td></tr><tr><th>11</th><td>0.0</td><td>11</td><td>0</td><td>0</td><td>1.04667</td><td>-0.0794921</td><td>-0.0201669</td><td>0</td><td>-37.6774</td><td>-4.01318e-7</td><td>0.0</td><td>0</td><td>0</td><td>0</td><td>0</td><td>-7.70391e-7</td><td>-3.13944e-7</td><td>0.0</td><td>0</td><td>0.0</td><td>0.0</td><td>0</td><td>-37.6774</td><td>-2.80341e-7</td><td>-3.25322e-7</td><td>0.0</td><td>-4.49809e-8</td><td>0</td></tr><tr><th>12</th><td>0.0</td><td>12</td><td>0.114392</td><td>0.0299669</td><td>1.04804</td><td>-0.101192</td><td>-0.0266669</td><td>0.285679</td><td>-37.6774</td><td>-3.4297e-8</td><td>0.0</td><td>0</td><td>0</td><td>-1.28696e-7</td><td>-49.2587</td><td>-7.8785e-7</td><td>-3.11082e-7</td><td>-3.52909e-7</td><td>0</td><td>-9.45442e-8</td><td>3.52909e-7</td><td>0</td><td>-37.6774</td><td>-2.38689e-8</td><td>-2.79296e-7</td><td>2.45605e-7</td><td>-9.82141e-9</td><td>0</td></tr><tr><th>13</th><td>0.0</td><td>13</td><td>0</td><td>0</td><td>0.982619</td><td>0.6457</td><td>0.1382</td><td>0</td><td>-50.0</td><td>-5.40272e-9</td><td>0.0</td><td>0</td><td>0</td><td>0</td><td>0</td><td>0.0</td><td>0.0</td><td>0.0</td><td>0</td><td>0.0</td><td>0.0</td><td>0</td><td>-50.0</td><td>-4.50227e-11</td><td>-4.50227e-11</td><td>0.0</td><td>0.0</td><td>0</td></tr><tr><th>14</th><td>0.0</td><td>14</td><td>0</td><td>0</td><td>0.977795</td><td>0.0238</td><td>0.0091</td><td>0</td><td>-50.0</td><td>-5.40272e-9</td><td>0.0</td><td>0</td><td>0</td><td>0</td><td>0</td><td>0.0</td><td>0.0</td><td>0.0</td><td>0</td><td>0.0</td><td>0.0</td><td>0</td><td>-50.0</td><td>-7.52712e-9</td><td>-7.52712e-9</td><td>0.0</td><td>0.0</td><td>0</td></tr><tr><th>15</th><td>0.0</td><td>15</td><td>0</td><td>0</td><td>0.975027</td><td>0.0224</td><td>0.0083</td><td>0</td><td>-50.0</td><td>-5.40272e-9</td><td>0.0</td><td>0</td><td>0</td><td>0</td><td>0</td><td>0.0</td><td>0.0</td><td>0.0</td><td>0</td><td>0.0</td><td>0.0</td><td>0</td><td>-50.0</td><td>-7.52748e-9</td><td>-7.52748e-9</td><td>0.0</td><td>0.0</td><td>0</td></tr></tbody></table>"
      ],
      "text/latex": [
       "\\begin{tabular}{r|cccccccccccccccccccccccccccc}\n",
       "\t& objective & bus & gp & gq & voltage & fp & fq & alpha & lambda & pi & gamma & rho & nu & delta\\_plus & delta\\_minus & mu\\_plus & mu\\_minus & eta\\_plus & eta\\_minus & eta\\_aP & eta\\_aQ & voltvar & lambda\\_anc & rx\\_pi\\_i & rx\\_pi\\_a & rx\\_etaQ & r\\_sum\\_mu\\_d & nu\\_calc\\\\\n",
       "\t\\hline\n",
       "\t& Float64 & Any & Any & Any & Any & Any & Any & Any & Any & Any & Float64 & Any & Any & Any & Any & Any & Any & Any & Any & Any & Any & Any & Any & Any & Any & Any & Any & Any\\\\\n",
       "\t\\hline\n",
       "\t1 & 70.4343 & 1 & 1.1833 & 0.3237 & 1.0 & 0 & 0 & 0.428602 & -50.0 & -5.40272e-9 & -19.8899 & 0 & 0 & 0 & 0 & 0 & 0 & 0 & 0 & 0 & 0 & 0 & 0 & 0 & 0 & 0 & 0 & 0 \\\\\n",
       "\t2 & 0.0 & 2 & 0 & 0 & 0.976936 & 0.5376 & 0.1855 & 0 & -50.0 & -7.12378e-7 & 0.0 & 0 & 0 & 0 & 0 & -3.32182e-7 & -6.04708e-7 & 0.0 & 0 & 0.0 & 0.0 & 0 & -50.0 & -5.93648e-9 & -4.50227e-11 & 0.0 & -5.98151e-9 & 0 \\\\\n",
       "\t3 & 0.0 & 3 & 0 & 0 & 0.999807 & -0.256 & 2.65741e-11 & 0 & -6.16131 & -11.7444 & 0.0 & 0 & 0 & 0 & 0 & -4.19262e-7 & -4.66164e-7 & -43.8387 & 0 & 43.8387 & -11.7444 & 0 & -50.0 & -8.21735 & -4.98439e-7 & -8.21735 & -5.76295e-7 & 0 \\\\\n",
       "\t4 & 0.0 & 4 & 0 & 0 & 1.03464 & -0.256 & 2.65741e-11 & 0 & -37.6774 & -3.82881e-7 & 0.0 & 0 & 0 & 0 & 0 & -6.4309e-7 & -3.41806e-7 & -43.8387 & 0 & 43.8387 & 11.7444 & 0 & -6.16131 & -2.67901e-7 & -8.21751 & 8.21751 & -9.16258e-7 & 0 \\\\\n",
       "\t5 & 0.0 & 5 & 0 & 0 & 1.03576 & -0.0461079 & -0.0102331 & 0 & -37.6774 & -2.86456e-7 & 0.0 & 0 & 0 & 0 & 0 & -6.56648e-7 & -3.37952e-7 & -1.63259e-6 & 0 & -1.15351e-6 & 3.68639e-8 & 0 & -37.6774 & -2.00414e-7 & -2.67877e-7 & 2.57913e-8 & -4.16709e-8 & 0 \\\\\n",
       "\t6 & 0.0 & 6 & 0 & 0 & 1.03718 & -0.0634079 & -0.0145331 & 0 & -37.6774 & -2.47693e-7 & 0.0 & 0 & 0 & 0 & 0 & -6.73747e-7 & -3.33442e-7 & 0.0 & 0 & 0.0 & 0.0 & 0 & -37.6774 & -1.72695e-7 & -1.9972e-7 & 0.0 & -2.70258e-8 & 0 \\\\\n",
       "\t7 & 0.0 & 7 & 0.114408 & 0.0273331 & 1.04291 & -0.0925079 & -0.0218331 & 0.285719 & -37.6774 & -3.0918e-8 & 0.0 & 0 & 0 & -1.44048e-7 & -49.2583 & -7.49022e-7 & -3.17162e-7 & -2.69938e-6 & 0 & 2.11952e-6 & 1.57265e-7 & 0 & -37.6774 & -2.16292e-8 & -1.73278e-7 & 1.10017e-7 & -4.16314e-8 & 0 \\\\\n",
       "\t8 & 0.0 & 8 & 0 & 0 & 1.05323 & -0.1969 & 0.0019 & 0 & -37.6774 & -5.53377e-8 & 0.0 & 0 & 0 & 0 & 0 & -8.82708e-7 & 0.0 & 0.0 & 0 & 0.0 & 0.0 & 0 & -37.6774 & -3.87438e-8 & -1.31075e-7 & 0.0 & -9.23312e-8 & 0 \\\\\n",
       "\t9 & 0.0 & 9 & 0 & 0 & 1.04354 & -0.229992 & 0.00183313 & 0 & -37.6774 & -1.87214e-7 & 0.0 & 0 & 0 & 0 & 0 & 0.0 & -3.20248e-7 & -4.74601e-6 & 0 & 4.08618e-6 & -2.75924e-8 & 0 & -37.6774 & -1.30921e-7 & -2.67754e-7 & -1.92957e-8 & -1.56128e-7 & 0 \\\\\n",
       "\t10 & 0.0 & 10 & 0 & 0 & 1.04417 & -0.0565921 & -0.00596687 & 0 & -37.6774 & -4.6571e-7 & 0.0 & 0 & 0 & 0 & 0 & -7.41446e-7 & -3.19085e-7 & -1.35817e-6 & 0 & -1.11999e-6 & -3.17265e-7 & 0 & -37.6774 & -3.25671e-7 & -1.30919e-7 & -2.21864e-7 & -2.71115e-8 & 0 \\\\\n",
       "\t11 & 0.0 & 11 & 0 & 0 & 1.04667 & -0.0794921 & -0.0201669 & 0 & -37.6774 & -4.01318e-7 & 0.0 & 0 & 0 & 0 & 0 & -7.70391e-7 & -3.13944e-7 & 0.0 & 0 & 0.0 & 0.0 & 0 & -37.6774 & -2.80341e-7 & -3.25322e-7 & 0.0 & -4.49809e-8 & 0 \\\\\n",
       "\t12 & 0.0 & 12 & 0.114392 & 0.0299669 & 1.04804 & -0.101192 & -0.0266669 & 0.285679 & -37.6774 & -3.4297e-8 & 0.0 & 0 & 0 & -1.28696e-7 & -49.2587 & -7.8785e-7 & -3.11082e-7 & -3.52909e-7 & 0 & -9.45442e-8 & 3.52909e-7 & 0 & -37.6774 & -2.38689e-8 & -2.79296e-7 & 2.45605e-7 & -9.82141e-9 & 0 \\\\\n",
       "\t13 & 0.0 & 13 & 0 & 0 & 0.982619 & 0.6457 & 0.1382 & 0 & -50.0 & -5.40272e-9 & 0.0 & 0 & 0 & 0 & 0 & 0.0 & 0.0 & 0.0 & 0 & 0.0 & 0.0 & 0 & -50.0 & -4.50227e-11 & -4.50227e-11 & 0.0 & 0.0 & 0 \\\\\n",
       "\t14 & 0.0 & 14 & 0 & 0 & 0.977795 & 0.0238 & 0.0091 & 0 & -50.0 & -5.40272e-9 & 0.0 & 0 & 0 & 0 & 0 & 0.0 & 0.0 & 0.0 & 0 & 0.0 & 0.0 & 0 & -50.0 & -7.52712e-9 & -7.52712e-9 & 0.0 & 0.0 & 0 \\\\\n",
       "\t15 & 0.0 & 15 & 0 & 0 & 0.975027 & 0.0224 & 0.0083 & 0 & -50.0 & -5.40272e-9 & 0.0 & 0 & 0 & 0 & 0 & 0.0 & 0.0 & 0.0 & 0 & 0.0 & 0.0 & 0 & -50.0 & -7.52748e-9 & -7.52748e-9 & 0.0 & 0.0 & 0 \\\\\n",
       "\\end{tabular}\n"
      ],
      "text/plain": [
       "15×28 DataFrame. Omitted printing of 22 columns\n",
       "│ Row │ objective │ bus │ gp       │ gq        │ voltage  │ fp         │\n",
       "│     │ \u001b[90mFloat64\u001b[39m   │ \u001b[90mAny\u001b[39m │ \u001b[90mAny\u001b[39m      │ \u001b[90mAny\u001b[39m       │ \u001b[90mAny\u001b[39m      │ \u001b[90mAny\u001b[39m        │\n",
       "├─────┼───────────┼─────┼──────────┼───────────┼──────────┼────────────┤\n",
       "│ 1   │ 70.4343   │ 1   │ 1.1833   │ 0.3237    │ 1.0      │ 0          │\n",
       "│ 2   │ 0.0       │ 2   │ 0        │ 0         │ 0.976936 │ 0.5376     │\n",
       "│ 3   │ 0.0       │ 3   │ 0        │ 0         │ 0.999807 │ -0.256     │\n",
       "│ 4   │ 0.0       │ 4   │ 0        │ 0         │ 1.03464  │ -0.256     │\n",
       "│ 5   │ 0.0       │ 5   │ 0        │ 0         │ 1.03576  │ -0.0461079 │\n",
       "│ 6   │ 0.0       │ 6   │ 0        │ 0         │ 1.03718  │ -0.0634079 │\n",
       "│ 7   │ 0.0       │ 7   │ 0.114408 │ 0.0273331 │ 1.04291  │ -0.0925079 │\n",
       "│ 8   │ 0.0       │ 8   │ 0        │ 0         │ 1.05323  │ -0.1969    │\n",
       "│ 9   │ 0.0       │ 9   │ 0        │ 0         │ 1.04354  │ -0.229992  │\n",
       "│ 10  │ 0.0       │ 10  │ 0        │ 0         │ 1.04417  │ -0.0565921 │\n",
       "│ 11  │ 0.0       │ 11  │ 0        │ 0         │ 1.04667  │ -0.0794921 │\n",
       "│ 12  │ 0.0       │ 12  │ 0.114392 │ 0.0299669 │ 1.04804  │ -0.101192  │\n",
       "│ 13  │ 0.0       │ 13  │ 0        │ 0         │ 0.982619 │ 0.6457     │\n",
       "│ 14  │ 0.0       │ 14  │ 0        │ 0         │ 0.977795 │ 0.0238     │\n",
       "│ 15  │ 0.0       │ 15  │ 0        │ 0         │ 0.975027 │ 0.0224     │"
      ]
     },
     "metadata": {},
     "output_type": "display_data"
    },
    {
     "name": "stdout",
     "output_type": "stream",
     "text": [
      ">>> Case no_uncert"
     ]
    },
    {
     "data": {
      "text/html": [
       "<table class=\"data-frame\"><thead><tr><th></th><th>objective</th><th>bus</th><th>gp</th><th>gq</th><th>voltage</th><th>fp</th><th>fq</th><th>alpha</th><th>lambda</th><th>pi</th><th>gamma</th><th>rho</th><th>nu</th><th>delta_plus</th><th>delta_minus</th><th>mu_plus</th><th>mu_minus</th><th>eta_plus</th><th>eta_minus</th><th>eta_aP</th><th>eta_aQ</th><th>voltvar</th><th>lambda_anc</th><th>rx_pi_i</th><th>rx_pi_a</th><th>rx_etaQ</th><th>r_sum_mu_d</th><th>nu_calc</th></tr><tr><th></th><th>Float64</th><th>Any</th><th>Any</th><th>Any</th><th>Any</th><th>Any</th><th>Any</th><th>Any</th><th>Any</th><th>Any</th><th>Float64</th><th>Any</th><th>Any</th><th>Any</th><th>Any</th><th>Any</th><th>Any</th><th>Any</th><th>Any</th><th>Any</th><th>Any</th><th>Any</th><th>Any</th><th>Any</th><th>Any</th><th>Any</th><th>Any</th><th>Any</th></tr></thead><tbody><p>15 rows × 28 columns</p><tr><th>1</th><td>61.5275</td><td>1</td><td>1.1833</td><td>0.3237</td><td>1.0</td><td>0</td><td>0</td><td>0</td><td>-50.0</td><td>-1.3543e-9</td><td>0.0</td><td>0</td><td>0</td><td>0</td><td>0</td><td>0</td><td>0</td><td>0</td><td>0</td><td>0</td><td>0</td><td>0</td><td>0</td><td>0</td><td>0</td><td>0</td><td>0</td><td>0</td></tr><tr><th>2</th><td>0.0</td><td>2</td><td>0</td><td>0</td><td>0.976936</td><td>0.5376</td><td>0.1855</td><td>0</td><td>-50.0</td><td>-1.98615e-7</td><td>0.0</td><td>0</td><td>0</td><td>0</td><td>0</td><td>-9.30013e-8</td><td>-1.68856e-7</td><td>0.0</td><td>0</td><td>0.0</td><td>0.0</td><td>0</td><td>-50.0</td><td>-1.65512e-9</td><td>-1.12858e-11</td><td>0.0</td><td>-1.66641e-9</td><td>0</td></tr><tr><th>3</th><td>0.0</td><td>3</td><td>0</td><td>0</td><td>0.999807</td><td>-0.256</td><td>1.95709e-11</td><td>0</td><td>-30.1628</td><td>-5.3144</td><td>0.0</td><td>0</td><td>0</td><td>0</td><td>0</td><td>-1.16915e-7</td><td>-1.30033e-7</td><td>-19.8372</td><td>0</td><td>19.8372</td><td>-5.3144</td><td>0</td><td>-50.0</td><td>-3.71839</td><td>-1.38967e-7</td><td>-3.71839</td><td>-1.6054e-7</td><td>0</td></tr><tr><th>4</th><td>0.0</td><td>4</td><td>0</td><td>0</td><td>1.03464</td><td>-0.256</td><td>1.95709e-11</td><td>0</td><td>-10.3255</td><td>-2.54011e-8</td><td>0.0</td><td>0</td><td>0</td><td>0</td><td>0</td><td>-1.78992e-7</td><td>-9.52812e-8</td><td>-19.8372</td><td>0</td><td>19.8372</td><td>5.3144</td><td>0</td><td>-30.1628</td><td>-1.77731e-8</td><td>-3.71847</td><td>3.71847</td><td>-2.55259e-7</td><td>0</td></tr><tr><th>5</th><td>0.0</td><td>5</td><td>0</td><td>0</td><td>1.0357</td><td>-0.0460628</td><td>-0.00820303</td><td>0</td><td>-10.3255</td><td>-1.03056e-8</td><td>0.0</td><td>0</td><td>0</td><td>0</td><td>0</td><td>-1.8256e-7</td><td>-9.42453e-8</td><td>-2.41589e-7</td><td>0</td><td>-1.07809e-7</td><td>-5.21328e-8</td><td>0</td><td>-10.3255</td><td>-7.21015e-9</td><td>-1.77715e-8</td><td>-3.64739e-8</td><td>-1.14922e-8</td><td>0</td></tr><tr><th>6</th><td>0.0</td><td>6</td><td>0</td><td>0</td><td>1.03708</td><td>-0.0633628</td><td>-0.012503</td><td>0</td><td>-10.3255</td><td>-3.63395e-10</td><td>0.0</td><td>0</td><td>0</td><td>0</td><td>0</td><td>-1.87093e-7</td><td>-9.30231e-8</td><td>0.0</td><td>0</td><td>0.0</td><td>0.0</td><td>0</td><td>-10.3255</td><td>-2.53363e-10</td><td>-7.18518e-9</td><td>0.0</td><td>-7.43855e-9</td><td>0</td></tr><tr><th>7</th><td>0.0</td><td>7</td><td>0.114363</td><td>0.025303</td><td>1.04267</td><td>-0.0924628</td><td>-0.019803</td><td>0</td><td>-10.3255</td><td>-5.7619e-8</td><td>0.0</td><td>0</td><td>0</td><td>0.0</td><td>-1.97491e-7</td><td>-2.07035e-7</td><td>-8.85744e-8</td><td>-7.55592e-7</td><td>0</td><td>5.94469e-7</td><td>4.09317e-8</td><td>0</td><td>-10.3255</td><td>-4.03082e-8</td><td>-2.54219e-10</td><td>2.86344e-8</td><td>-1.14196e-8</td><td>0</td></tr><tr><th>8</th><td>0.0</td><td>8</td><td>0</td><td>0</td><td>1.05334</td><td>-0.1969</td><td>0.0019</td><td>0</td><td>-10.3255</td><td>-1.14614e-7</td><td>0.0</td><td>0</td><td>0</td><td>0</td><td>0</td><td>-2.46517e-7</td><td>0.0</td><td>0.0</td><td>0</td><td>0.0</td><td>0.0</td><td>0</td><td>-10.3255</td><td>-8.02453e-8</td><td>-5.44596e-8</td><td>0.0</td><td>-2.57857e-8</td><td>0</td></tr><tr><th>9</th><td>0.0</td><td>9</td><td>0</td><td>0</td><td>1.04366</td><td>-0.230037</td><td>-0.000196966</td><td>0</td><td>-10.3255</td><td>-7.77846e-8</td><td>0.0</td><td>0</td><td>0</td><td>0</td><td>0</td><td>0.0</td><td>-8.92158e-8</td><td>-1.67111e-6</td><td>0</td><td>1.48677e-6</td><td>-1.01958e-8</td><td>0</td><td>-10.3255</td><td>-5.43958e-8</td><td>-1.77633e-8</td><td>-7.13006e-9</td><td>-4.37625e-8</td><td>0</td></tr><tr><th>10</th><td>0.0</td><td>10</td><td>0</td><td>0</td><td>1.04431</td><td>-0.0566372</td><td>-0.00799697</td><td>0</td><td>-10.3255</td><td>-6.32871e-8</td><td>0.0</td><td>0</td><td>0</td><td>0</td><td>0</td><td>-2.0703e-7</td><td>-8.88778e-8</td><td>-1.51949e-7</td><td>0</td><td>-8.57401e-8</td><td>-1.51949e-7</td><td>0</td><td>-10.3255</td><td>-4.42567e-8</td><td>-5.43948e-8</td><td>-1.06258e-7</td><td>-7.60642e-9</td><td>0</td></tr><tr><th>11</th><td>0.0</td><td>11</td><td>0</td><td>0</td><td>1.04688</td><td>-0.0795372</td><td>-0.022197</td><td>0</td><td>-10.3255</td><td>-4.51975e-8</td><td>0.0</td><td>0</td><td>0</td><td>0</td><td>0</td><td>-2.15541e-7</td><td>-8.74155e-8</td><td>0.0</td><td>0</td><td>0.0</td><td>0.0</td><td>0</td><td>-10.3255</td><td>-3.15727e-8</td><td>-4.42093e-8</td><td>0.0</td><td>-1.26366e-8</td><td>0</td></tr><tr><th>12</th><td>0.0</td><td>12</td><td>0.114437</td><td>0.031997</td><td>1.04828</td><td>-0.101237</td><td>-0.028697</td><td>0</td><td>-10.3255</td><td>-5.71028e-8</td><td>0.0</td><td>0</td><td>0</td><td>0.0</td><td>-2.44279e-7</td><td>-2.2065e-7</td><td>-8.66068e-8</td><td>-9.83326e-8</td><td>0</td><td>-2.63433e-8</td><td>9.83326e-8</td><td>0</td><td>-10.3255</td><td>-3.97404e-8</td><td>-3.1455e-8</td><td>6.84341e-8</td><td>-2.76129e-9</td><td>0</td></tr><tr><th>13</th><td>0.0</td><td>13</td><td>0</td><td>0</td><td>0.982619</td><td>0.6457</td><td>0.1382</td><td>0</td><td>-50.0</td><td>-1.3543e-9</td><td>0.0</td><td>0</td><td>0</td><td>0</td><td>0</td><td>0.0</td><td>0.0</td><td>0.0</td><td>0</td><td>0.0</td><td>0.0</td><td>0</td><td>-50.0</td><td>-1.12858e-11</td><td>-1.12858e-11</td><td>0.0</td><td>0.0</td><td>0</td></tr><tr><th>14</th><td>0.0</td><td>14</td><td>0</td><td>0</td><td>0.977795</td><td>0.0238</td><td>0.0091</td><td>0</td><td>-50.0</td><td>-1.3543e-9</td><td>0.0</td><td>0</td><td>0</td><td>0</td><td>0</td><td>0.0</td><td>0.0</td><td>0.0</td><td>0</td><td>0.0</td><td>0.0</td><td>0</td><td>-50.0</td><td>-1.88682e-9</td><td>-1.88682e-9</td><td>0.0</td><td>0.0</td><td>0</td></tr><tr><th>15</th><td>0.0</td><td>15</td><td>0</td><td>0</td><td>0.975027</td><td>0.0224</td><td>0.0083</td><td>0</td><td>-50.0</td><td>-1.3543e-9</td><td>0.0</td><td>0</td><td>0</td><td>0</td><td>0</td><td>0.0</td><td>0.0</td><td>0.0</td><td>0</td><td>0.0</td><td>0.0</td><td>0</td><td>-50.0</td><td>-1.88691e-9</td><td>-1.88691e-9</td><td>0.0</td><td>0.0</td><td>0</td></tr></tbody></table>"
      ],
      "text/latex": [
       "\\begin{tabular}{r|cccccccccccccccccccccccccccc}\n",
       "\t& objective & bus & gp & gq & voltage & fp & fq & alpha & lambda & pi & gamma & rho & nu & delta\\_plus & delta\\_minus & mu\\_plus & mu\\_minus & eta\\_plus & eta\\_minus & eta\\_aP & eta\\_aQ & voltvar & lambda\\_anc & rx\\_pi\\_i & rx\\_pi\\_a & rx\\_etaQ & r\\_sum\\_mu\\_d & nu\\_calc\\\\\n",
       "\t\\hline\n",
       "\t& Float64 & Any & Any & Any & Any & Any & Any & Any & Any & Any & Float64 & Any & Any & Any & Any & Any & Any & Any & Any & Any & Any & Any & Any & Any & Any & Any & Any & Any\\\\\n",
       "\t\\hline\n",
       "\t1 & 61.5275 & 1 & 1.1833 & 0.3237 & 1.0 & 0 & 0 & 0 & -50.0 & -1.3543e-9 & 0.0 & 0 & 0 & 0 & 0 & 0 & 0 & 0 & 0 & 0 & 0 & 0 & 0 & 0 & 0 & 0 & 0 & 0 \\\\\n",
       "\t2 & 0.0 & 2 & 0 & 0 & 0.976936 & 0.5376 & 0.1855 & 0 & -50.0 & -1.98615e-7 & 0.0 & 0 & 0 & 0 & 0 & -9.30013e-8 & -1.68856e-7 & 0.0 & 0 & 0.0 & 0.0 & 0 & -50.0 & -1.65512e-9 & -1.12858e-11 & 0.0 & -1.66641e-9 & 0 \\\\\n",
       "\t3 & 0.0 & 3 & 0 & 0 & 0.999807 & -0.256 & 1.95709e-11 & 0 & -30.1628 & -5.3144 & 0.0 & 0 & 0 & 0 & 0 & -1.16915e-7 & -1.30033e-7 & -19.8372 & 0 & 19.8372 & -5.3144 & 0 & -50.0 & -3.71839 & -1.38967e-7 & -3.71839 & -1.6054e-7 & 0 \\\\\n",
       "\t4 & 0.0 & 4 & 0 & 0 & 1.03464 & -0.256 & 1.95709e-11 & 0 & -10.3255 & -2.54011e-8 & 0.0 & 0 & 0 & 0 & 0 & -1.78992e-7 & -9.52812e-8 & -19.8372 & 0 & 19.8372 & 5.3144 & 0 & -30.1628 & -1.77731e-8 & -3.71847 & 3.71847 & -2.55259e-7 & 0 \\\\\n",
       "\t5 & 0.0 & 5 & 0 & 0 & 1.0357 & -0.0460628 & -0.00820303 & 0 & -10.3255 & -1.03056e-8 & 0.0 & 0 & 0 & 0 & 0 & -1.8256e-7 & -9.42453e-8 & -2.41589e-7 & 0 & -1.07809e-7 & -5.21328e-8 & 0 & -10.3255 & -7.21015e-9 & -1.77715e-8 & -3.64739e-8 & -1.14922e-8 & 0 \\\\\n",
       "\t6 & 0.0 & 6 & 0 & 0 & 1.03708 & -0.0633628 & -0.012503 & 0 & -10.3255 & -3.63395e-10 & 0.0 & 0 & 0 & 0 & 0 & -1.87093e-7 & -9.30231e-8 & 0.0 & 0 & 0.0 & 0.0 & 0 & -10.3255 & -2.53363e-10 & -7.18518e-9 & 0.0 & -7.43855e-9 & 0 \\\\\n",
       "\t7 & 0.0 & 7 & 0.114363 & 0.025303 & 1.04267 & -0.0924628 & -0.019803 & 0 & -10.3255 & -5.7619e-8 & 0.0 & 0 & 0 & 0.0 & -1.97491e-7 & -2.07035e-7 & -8.85744e-8 & -7.55592e-7 & 0 & 5.94469e-7 & 4.09317e-8 & 0 & -10.3255 & -4.03082e-8 & -2.54219e-10 & 2.86344e-8 & -1.14196e-8 & 0 \\\\\n",
       "\t8 & 0.0 & 8 & 0 & 0 & 1.05334 & -0.1969 & 0.0019 & 0 & -10.3255 & -1.14614e-7 & 0.0 & 0 & 0 & 0 & 0 & -2.46517e-7 & 0.0 & 0.0 & 0 & 0.0 & 0.0 & 0 & -10.3255 & -8.02453e-8 & -5.44596e-8 & 0.0 & -2.57857e-8 & 0 \\\\\n",
       "\t9 & 0.0 & 9 & 0 & 0 & 1.04366 & -0.230037 & -0.000196966 & 0 & -10.3255 & -7.77846e-8 & 0.0 & 0 & 0 & 0 & 0 & 0.0 & -8.92158e-8 & -1.67111e-6 & 0 & 1.48677e-6 & -1.01958e-8 & 0 & -10.3255 & -5.43958e-8 & -1.77633e-8 & -7.13006e-9 & -4.37625e-8 & 0 \\\\\n",
       "\t10 & 0.0 & 10 & 0 & 0 & 1.04431 & -0.0566372 & -0.00799697 & 0 & -10.3255 & -6.32871e-8 & 0.0 & 0 & 0 & 0 & 0 & -2.0703e-7 & -8.88778e-8 & -1.51949e-7 & 0 & -8.57401e-8 & -1.51949e-7 & 0 & -10.3255 & -4.42567e-8 & -5.43948e-8 & -1.06258e-7 & -7.60642e-9 & 0 \\\\\n",
       "\t11 & 0.0 & 11 & 0 & 0 & 1.04688 & -0.0795372 & -0.022197 & 0 & -10.3255 & -4.51975e-8 & 0.0 & 0 & 0 & 0 & 0 & -2.15541e-7 & -8.74155e-8 & 0.0 & 0 & 0.0 & 0.0 & 0 & -10.3255 & -3.15727e-8 & -4.42093e-8 & 0.0 & -1.26366e-8 & 0 \\\\\n",
       "\t12 & 0.0 & 12 & 0.114437 & 0.031997 & 1.04828 & -0.101237 & -0.028697 & 0 & -10.3255 & -5.71028e-8 & 0.0 & 0 & 0 & 0.0 & -2.44279e-7 & -2.2065e-7 & -8.66068e-8 & -9.83326e-8 & 0 & -2.63433e-8 & 9.83326e-8 & 0 & -10.3255 & -3.97404e-8 & -3.1455e-8 & 6.84341e-8 & -2.76129e-9 & 0 \\\\\n",
       "\t13 & 0.0 & 13 & 0 & 0 & 0.982619 & 0.6457 & 0.1382 & 0 & -50.0 & -1.3543e-9 & 0.0 & 0 & 0 & 0 & 0 & 0.0 & 0.0 & 0.0 & 0 & 0.0 & 0.0 & 0 & -50.0 & -1.12858e-11 & -1.12858e-11 & 0.0 & 0.0 & 0 \\\\\n",
       "\t14 & 0.0 & 14 & 0 & 0 & 0.977795 & 0.0238 & 0.0091 & 0 & -50.0 & -1.3543e-9 & 0.0 & 0 & 0 & 0 & 0 & 0.0 & 0.0 & 0.0 & 0 & 0.0 & 0.0 & 0 & -50.0 & -1.88682e-9 & -1.88682e-9 & 0.0 & 0.0 & 0 \\\\\n",
       "\t15 & 0.0 & 15 & 0 & 0 & 0.975027 & 0.0224 & 0.0083 & 0 & -50.0 & -1.3543e-9 & 0.0 & 0 & 0 & 0 & 0 & 0.0 & 0.0 & 0.0 & 0 & 0.0 & 0.0 & 0 & -50.0 & -1.88691e-9 & -1.88691e-9 & 0.0 & 0.0 & 0 \\\\\n",
       "\\end{tabular}\n"
      ],
      "text/plain": [
       "15×28 DataFrame. Omitted printing of 22 columns\n",
       "│ Row │ objective │ bus │ gp       │ gq       │ voltage  │ fp         │\n",
       "│     │ \u001b[90mFloat64\u001b[39m   │ \u001b[90mAny\u001b[39m │ \u001b[90mAny\u001b[39m      │ \u001b[90mAny\u001b[39m      │ \u001b[90mAny\u001b[39m      │ \u001b[90mAny\u001b[39m        │\n",
       "├─────┼───────────┼─────┼──────────┼──────────┼──────────┼────────────┤\n",
       "│ 1   │ 61.5275   │ 1   │ 1.1833   │ 0.3237   │ 1.0      │ 0          │\n",
       "│ 2   │ 0.0       │ 2   │ 0        │ 0        │ 0.976936 │ 0.5376     │\n",
       "│ 3   │ 0.0       │ 3   │ 0        │ 0        │ 0.999807 │ -0.256     │\n",
       "│ 4   │ 0.0       │ 4   │ 0        │ 0        │ 1.03464  │ -0.256     │\n",
       "│ 5   │ 0.0       │ 5   │ 0        │ 0        │ 1.0357   │ -0.0460628 │\n",
       "│ 6   │ 0.0       │ 6   │ 0        │ 0        │ 1.03708  │ -0.0633628 │\n",
       "│ 7   │ 0.0       │ 7   │ 0.114363 │ 0.025303 │ 1.04267  │ -0.0924628 │\n",
       "│ 8   │ 0.0       │ 8   │ 0        │ 0        │ 1.05334  │ -0.1969    │\n",
       "│ 9   │ 0.0       │ 9   │ 0        │ 0        │ 1.04366  │ -0.230037  │\n",
       "│ 10  │ 0.0       │ 10  │ 0        │ 0        │ 1.04431  │ -0.0566372 │\n",
       "│ 11  │ 0.0       │ 11  │ 0        │ 0        │ 1.04688  │ -0.0795372 │\n",
       "│ 12  │ 0.0       │ 12  │ 0.114437 │ 0.031997 │ 1.04828  │ -0.101237  │\n",
       "│ 13  │ 0.0       │ 13  │ 0        │ 0        │ 0.982619 │ 0.6457     │\n",
       "│ 14  │ 0.0       │ 14  │ 0        │ 0        │ 0.977795 │ 0.0238     │\n",
       "│ 15  │ 0.0       │ 15  │ 0        │ 0        │ 0.975027 │ 0.0224     │"
      ]
     },
     "metadata": {},
     "output_type": "display_data"
    }
   ],
   "source": [
    "experiment5 = Dict()\n",
    "\n",
    "# Load feeder data \n",
    "feeder = load_feeder(\"data/feeder_data/basecase_noneg/\")\n",
    "\n",
    "# Set up\n",
    "relative_std = 0.2\n",
    "loads = [b.d_P for b in feeder.buses]\n",
    "std_vec = abs.(loads) .* relative_std\n",
    "var_vec = std_vec.^2\n",
    "Σ = diagm(0 => var_vec)\n",
    "\n",
    "# ex5_general_settings\n",
    "ex5_general_settings = Dict(\n",
    "    \"var_vec\" => var_vec,\n",
    "    \"Σ\" => Σ,\n",
    "    \"z_g\" => 1.945, # 95%\n",
    "    \"z_v\" => 2.576, # 99%\n",
    "    \"z_f\" => 2.576, # 99%\n",
    "    \"toggle_volt_cc\" => false,\n",
    "    \"toggle_gen_cc\" => false,\n",
    "    \"toggle_thermal_cc\" => false,\n",
    "    \"thermal_const_method\" => 2, #1=soc, 2=inner approx\n",
    "    \"vfac\" => 0, # directly sets symetric voltage limit to min:(1-vfac) max:(1+vfac), use import values if vfac=0\n",
    "    \"qcfac\" => 1,\n",
    "    \"output_level\" => 0,\n",
    "    \"Ψ\" => 0,\n",
    ")\n",
    "\n",
    "# ex5_no_uncert:\n",
    "ex5_no_uncert_settings = copy(ex5_general_settings)\n",
    "ex5_no_uncert_settings[\"toggle_volt_cc\"] = false\n",
    "ex5_no_uncert_settings[\"toggle_gen_cc\"] = false\n",
    "ex5_no_uncert_settings[\"toggle_thermal_cc\"] = false\n",
    "\n",
    "experiment5[\"no_uncert\"] = Dict(\n",
    "    \"verbose\" => \"no_uncert\",\n",
    "    \"feeder\" => feeder,\n",
    "    \"settings\" => ex5_no_uncert_settings,\n",
    ")\n",
    "\n",
    "# ex5_uncert:\n",
    "ex5_uncert_settings = copy(ex5_general_settings)\n",
    "ex5_uncert_settings[\"toggle_volt_cc\"] = true\n",
    "ex5_uncert_settings[\"toggle_gen_cc\"] = true\n",
    "ex5_uncert_settings[\"toggle_thermal_cc\"] = false\n",
    "experiment5[\"uncert\"] = Dict(\n",
    "    \"verbose\" => \"uncert\",\n",
    "    \"feeder\" => feeder,\n",
    "    \"settings\" => ex5_uncert_settings,\n",
    ")\n",
    "\n",
    "# ex5_gen_uncert:\n",
    "ex5_gen_uncert_settings = copy(ex5_general_settings)\n",
    "ex5_gen_uncert_settings[\"toggle_volt_cc\"] = false\n",
    "ex5_gen_uncert_settings[\"toggle_gen_cc\"] = true\n",
    "ex5_gen_uncert_settings[\"toggle_thermal_cc\"] = false\n",
    "experiment5[\"gen_uncert\"] = Dict(\n",
    "    \"verbose\" => \"gen_uncert\",\n",
    "    \"feeder\" => feeder,\n",
    "    \"settings\" => ex5_gen_uncert_settings,\n",
    ")\n",
    "\n",
    "# Run \n",
    "experiment5 = run_experiment(experiment5)\n",
    "\n",
    "# Show results\n",
    "sleep(.2) # just to ensure correct printing order\n",
    "for case in keys(experiment5)\n",
    "    print(\">>> Case $case\")\n",
    "    sleep(.2)\n",
    "    display(experiment5[case][\"results\"])\n",
    "end"
   ]
  },
  {
   "cell_type": "code",
   "execution_count": 11,
   "metadata": {},
   "outputs": [
    {
     "name": "stdout",
     "output_type": "stream",
     "text": [
      "Saving uncert\n",
      "Saving gen_uncert\n",
      "Saving no_uncert\n",
      ">>>> Saved with timestamp 190422_1211\n"
     ]
    }
   ],
   "source": [
    "save_experiment(\"experiment5\", experiment5)"
   ]
  },
  {
   "cell_type": "code",
   "execution_count": 8,
   "metadata": {},
   "outputs": [
    {
     "name": "stdout",
     "output_type": "stream",
     "text": [
      "MOSEK warning 705: #3 (nearly) zero elements are specified in sparse row ''(86) of matrix 'A'.\n",
      "MOSEK warning 705: #4 (nearly) zero elements are specified in sparse row ''(92) of matrix 'A'.\n"
     ]
    }
   ],
   "source": [
    "m, meta = build_model(experiment5[\"uncert\"][\"feeder\"], experiment5[\"uncert\"][\"settings\"])\n",
    "optimize!(m)"
   ]
  },
  {
   "cell_type": "code",
   "execution_count": 9,
   "metadata": {},
   "outputs": [
    {
     "data": {
      "text/html": [
       "<table class=\"data-frame\"><thead><tr><th></th><th>x1</th><th>x2</th><th>x3</th><th>x4</th><th>x5</th><th>x6</th><th>x7</th><th>x8</th><th>x9</th><th>x10</th><th>x11</th><th>x12</th></tr><tr><th></th><th>Float64</th><th>Float64</th><th>Float64</th><th>Float64</th><th>Float64</th><th>Float64</th><th>Float64</th><th>Float64</th><th>Float64</th><th>Float64</th><th>Float64</th><th>Float64</th></tr></thead><tbody><p>14 rows × 12 columns</p><tr><th>1</th><td>-1.09382e-6</td><td>-7.92339e-7</td><td>-1.06672e-6</td><td>0.0</td><td>0.0</td><td>0.0</td><td>0.0</td><td>0.0</td><td>0.0</td><td>-7.06097e-7</td><td>-5.444e-7</td><td>-9.6137e-7</td></tr><tr><th>2</th><td>0.0</td><td>0.0</td><td>0.0</td><td>0.0</td><td>-6.94047e-7</td><td>-1.00615e-6</td><td>0.0</td><td>0.0</td><td>0.0</td><td>0.0</td><td>0.0</td><td>0.0</td></tr><tr><th>3</th><td>0.0</td><td>0.0</td><td>0.0</td><td>-9.31583e-7</td><td>0.0</td><td>0.0</td><td>-9.61657e-7</td><td>-6.20009e-7</td><td>-7.93866e-7</td><td>0.0</td><td>0.0</td><td>0.0</td></tr><tr><th>4</th><td>-4.16429e-6</td><td>-3.9917e-6</td><td>-8.32058e-6</td><td>0.0</td><td>0.0</td><td>0.0</td><td>0.0</td><td>0.0</td><td>0.0</td><td>-4.5828e-6</td><td>-2.84213e-6</td><td>-3.72192e-6</td></tr><tr><th>5</th><td>0.0</td><td>0.0</td><td>0.0</td><td>0.0</td><td>0.0</td><td>0.0</td><td>0.0</td><td>0.0</td><td>0.0</td><td>0.0</td><td>0.0</td><td>0.0</td></tr><tr><th>6</th><td>0.0</td><td>0.0</td><td>0.0</td><td>-1.5629e-5</td><td>-4.75999e-5</td><td>-33.4991</td><td>-4.4011e-5</td><td>-9.56628e-6</td><td>-6.76036e-6</td><td>0.0</td><td>0.0</td><td>0.0</td></tr><tr><th>7</th><td>0.0</td><td>0.0</td><td>0.0</td><td>0.0</td><td>0.0</td><td>0.0</td><td>0.0</td><td>0.0</td><td>0.0</td><td>0.0</td><td>0.0</td><td>0.0</td></tr><tr><th>8</th><td>0.0</td><td>0.0</td><td>0.0</td><td>-1.4641e-5</td><td>-4.10641e-5</td><td>-34.4029</td><td>-5.02374e-5</td><td>-1.02132e-5</td><td>-7.01642e-6</td><td>0.0</td><td>0.0</td><td>0.0</td></tr><tr><th>9</th><td>-5.83368e-6</td><td>-5.09615e-6</td><td>-8.52663e-6</td><td>0.0</td><td>0.0</td><td>0.0</td><td>0.0</td><td>0.0</td><td>0.0</td><td>0.0</td><td>-3.78968e-6</td><td>-5.2592e-6</td></tr><tr><th>10</th><td>0.0</td><td>0.0</td><td>0.0</td><td>0.0</td><td>0.0</td><td>0.0</td><td>0.0</td><td>0.0</td><td>0.0</td><td>0.0</td><td>0.0</td><td>0.0</td></tr><tr><th>11</th><td>0.0</td><td>0.0</td><td>0.0</td><td>0.0</td><td>0.0</td><td>0.0</td><td>0.0</td><td>0.0</td><td>0.0</td><td>-5.59664e-6</td><td>0.0</td><td>0.0</td></tr><tr><th>12</th><td>0.0</td><td>0.0</td><td>0.0</td><td>0.0</td><td>0.0</td><td>0.0</td><td>0.0</td><td>0.0</td><td>0.0</td><td>0.0</td><td>0.0</td><td>0.0</td></tr><tr><th>13</th><td>0.0</td><td>0.0</td><td>0.0</td><td>0.0</td><td>0.0</td><td>0.0</td><td>0.0</td><td>0.0</td><td>0.0</td><td>0.0</td><td>0.0</td><td>0.0</td></tr><tr><th>14</th><td>0.0</td><td>0.0</td><td>0.0</td><td>0.0</td><td>0.0</td><td>0.0</td><td>0.0</td><td>0.0</td><td>0.0</td><td>0.0</td><td>0.0</td><td>0.0</td></tr></tbody></table>"
      ],
      "text/latex": [
       "\\begin{tabular}{r|cccccccccccc}\n",
       "\t& x1 & x2 & x3 & x4 & x5 & x6 & x7 & x8 & x9 & x10 & x11 & x12\\\\\n",
       "\t\\hline\n",
       "\t& Float64 & Float64 & Float64 & Float64 & Float64 & Float64 & Float64 & Float64 & Float64 & Float64 & Float64 & Float64\\\\\n",
       "\t\\hline\n",
       "\t1 & -1.09382e-6 & -7.92339e-7 & -1.06672e-6 & 0.0 & 0.0 & 0.0 & 0.0 & 0.0 & 0.0 & -7.06097e-7 & -5.444e-7 & -9.6137e-7 \\\\\n",
       "\t2 & 0.0 & 0.0 & 0.0 & 0.0 & -6.94047e-7 & -1.00615e-6 & 0.0 & 0.0 & 0.0 & 0.0 & 0.0 & 0.0 \\\\\n",
       "\t3 & 0.0 & 0.0 & 0.0 & -9.31583e-7 & 0.0 & 0.0 & -9.61657e-7 & -6.20009e-7 & -7.93866e-7 & 0.0 & 0.0 & 0.0 \\\\\n",
       "\t4 & -4.16429e-6 & -3.9917e-6 & -8.32058e-6 & 0.0 & 0.0 & 0.0 & 0.0 & 0.0 & 0.0 & -4.5828e-6 & -2.84213e-6 & -3.72192e-6 \\\\\n",
       "\t5 & 0.0 & 0.0 & 0.0 & 0.0 & 0.0 & 0.0 & 0.0 & 0.0 & 0.0 & 0.0 & 0.0 & 0.0 \\\\\n",
       "\t6 & 0.0 & 0.0 & 0.0 & -1.5629e-5 & -4.75999e-5 & -33.4991 & -4.4011e-5 & -9.56628e-6 & -6.76036e-6 & 0.0 & 0.0 & 0.0 \\\\\n",
       "\t7 & 0.0 & 0.0 & 0.0 & 0.0 & 0.0 & 0.0 & 0.0 & 0.0 & 0.0 & 0.0 & 0.0 & 0.0 \\\\\n",
       "\t8 & 0.0 & 0.0 & 0.0 & -1.4641e-5 & -4.10641e-5 & -34.4029 & -5.02374e-5 & -1.02132e-5 & -7.01642e-6 & 0.0 & 0.0 & 0.0 \\\\\n",
       "\t9 & -5.83368e-6 & -5.09615e-6 & -8.52663e-6 & 0.0 & 0.0 & 0.0 & 0.0 & 0.0 & 0.0 & 0.0 & -3.78968e-6 & -5.2592e-6 \\\\\n",
       "\t10 & 0.0 & 0.0 & 0.0 & 0.0 & 0.0 & 0.0 & 0.0 & 0.0 & 0.0 & 0.0 & 0.0 & 0.0 \\\\\n",
       "\t11 & 0.0 & 0.0 & 0.0 & 0.0 & 0.0 & 0.0 & 0.0 & 0.0 & 0.0 & -5.59664e-6 & 0.0 & 0.0 \\\\\n",
       "\t12 & 0.0 & 0.0 & 0.0 & 0.0 & 0.0 & 0.0 & 0.0 & 0.0 & 0.0 & 0.0 & 0.0 & 0.0 \\\\\n",
       "\t13 & 0.0 & 0.0 & 0.0 & 0.0 & 0.0 & 0.0 & 0.0 & 0.0 & 0.0 & 0.0 & 0.0 & 0.0 \\\\\n",
       "\t14 & 0.0 & 0.0 & 0.0 & 0.0 & 0.0 & 0.0 & 0.0 & 0.0 & 0.0 & 0.0 & 0.0 & 0.0 \\\\\n",
       "\\end{tabular}\n"
      ],
      "text/plain": [
       "14×12 DataFrame. Omitted printing of 7 columns\n",
       "│ Row │ x1          │ x2          │ x3          │ x4          │ x5          │\n",
       "│     │ \u001b[90mFloat64\u001b[39m     │ \u001b[90mFloat64\u001b[39m     │ \u001b[90mFloat64\u001b[39m     │ \u001b[90mFloat64\u001b[39m     │ \u001b[90mFloat64\u001b[39m     │\n",
       "├─────┼─────────────┼─────────────┼─────────────┼─────────────┼─────────────┤\n",
       "│ 1   │ -1.09382e-6 │ -7.92339e-7 │ -1.06672e-6 │ 0.0         │ 0.0         │\n",
       "│ 2   │ 0.0         │ 0.0         │ 0.0         │ 0.0         │ -6.94047e-7 │\n",
       "│ 3   │ 0.0         │ 0.0         │ 0.0         │ -9.31583e-7 │ 0.0         │\n",
       "│ 4   │ -4.16429e-6 │ -3.9917e-6  │ -8.32058e-6 │ 0.0         │ 0.0         │\n",
       "│ 5   │ 0.0         │ 0.0         │ 0.0         │ 0.0         │ 0.0         │\n",
       "│ 6   │ 0.0         │ 0.0         │ 0.0         │ -1.5629e-5  │ -4.75999e-5 │\n",
       "│ 7   │ 0.0         │ 0.0         │ 0.0         │ 0.0         │ 0.0         │\n",
       "│ 8   │ 0.0         │ 0.0         │ 0.0         │ -1.4641e-5  │ -4.10641e-5 │\n",
       "│ 9   │ -5.83368e-6 │ -5.09615e-6 │ -8.52663e-6 │ 0.0         │ 0.0         │\n",
       "│ 10  │ 0.0         │ 0.0         │ 0.0         │ 0.0         │ 0.0         │\n",
       "│ 11  │ 0.0         │ 0.0         │ 0.0         │ 0.0         │ 0.0         │\n",
       "│ 12  │ 0.0         │ 0.0         │ 0.0         │ 0.0         │ 0.0         │\n",
       "│ 13  │ 0.0         │ 0.0         │ 0.0         │ 0.0         │ 0.0         │\n",
       "│ 14  │ 0.0         │ 0.0         │ 0.0         │ 0.0         │ 0.0         │"
      ]
     },
     "execution_count": 9,
     "metadata": {},
     "output_type": "execute_result"
    }
   ],
   "source": [
    "A = zeros(14, 12)\n",
    "for b in 2:15\n",
    "    for c in 1:12\n",
    "        A[b-1, c] = shadow_price(m[:η][b,c])\n",
    "    end\n",
    "end\n",
    "\n",
    "DataFrame(A)"
   ]
  },
  {
   "cell_type": "code",
   "execution_count": 18,
   "metadata": {},
   "outputs": [
    {
     "data": {
      "text/plain": [
       "1-element Array{Any,1}:\n",
       " 12"
      ]
     },
     "execution_count": 18,
     "metadata": {},
     "output_type": "execute_result"
    }
   ],
   "source": [
    "fed = experiment5[\"uncert\"][\"feeder\"]\n",
    "traverse(fed, 12)"
   ]
  },
  {
   "cell_type": "markdown",
   "metadata": {},
   "source": [
    "## Experiment 1\n",
    "\n",
    "We analyse the influence of the uncertainty in the system using the \"standard\" setup\n",
    "\n",
    "### Description\n",
    "\n",
    "Ex1:\n",
    "- tag: `experiment1`\n",
    "- tight bascase voltage (0.95-1.05) \n",
    "- all nodes have 20% standard deviation of their forecasted load\n",
    "\n",
    "Runs:\n",
    "- `ex1_no_uncert`: deterministic case\n",
    "- `ex1_uncert`: case with uncertainty\n",
    "- `ex1_gen_uncert`: Chance constraints only in generation\n",
    "\n",
    "\n",
    "### Notes and Observations\n",
    "\n",
    "- Recursive decomposition of prices for active power (eqtns (20) and (21)) are verified by the experimet\n",
    "- Decompositon via voltage constraints (eqtns (23) and (24)) also verified by the experiment"
   ]
  },
  {
   "cell_type": "code",
   "execution_count": 36,
   "metadata": {
    "hideCode": false,
    "hidePrompt": false
   },
   "outputs": [
    {
     "name": "stdout",
     "output_type": "stream",
     "text": [
      ">>>>> Reading feeder data from data/feeder_data/basecase_lv_noneg/\n",
      "Running ex1_uncert\n",
      ">>>> Building Model\n"
     ]
    },
    {
     "ename": "KeyError",
     "evalue": "KeyError: key \"toggle_thermal\" not found",
     "output_type": "error",
     "traceback": [
      "KeyError: key \"toggle_thermal\" not found",
      "",
      "Stacktrace:",
      " [1] getindex at .\\dict.jl:478 [inlined]",
      " [2] build_model(::FeederTopo, ::Dict{String,Any}) at C:\\Users\\Robert\\Promotion\\Workshop\\02_cc_dlmp_varaware\\01_case_study_cc_dlmp\\src\\model_definition.jl:35",
      " [3] run_experiment(::Dict{Any,Any}) at C:\\Users\\Robert\\Promotion\\Workshop\\02_cc_dlmp_varaware\\01_case_study_cc_dlmp\\src\\tools.jl:20",
      " [4] top-level scope at In[36]:58"
     ]
    }
   ],
   "source": [
    "experiment1 = Dict()\n",
    "\n",
    "# Load feeder data \n",
    "feeder = load_feeder(\"data/feeder_data/basecase_lv_noneg/\")\n",
    "\n",
    "# Set up\n",
    "relative_std = 0.2\n",
    "loads = [b.d_P for b in feeder.buses]\n",
    "std_vec = loads .* relative_std\n",
    "var_vec = std_vec.^2\n",
    "Σ = diagm(0 => var_vec)\n",
    "\n",
    "# ex1_general_settings\n",
    "ex1_general_settings = Dict(\n",
    "    \"var_vec\" => var_vec,\n",
    "    \"Σ\" => Σ,\n",
    "    \"z_g\" => 1.945,\n",
    "    \"z_v\" => 2.576,\n",
    "    \"toggle_volt_cc\" => false,\n",
    "    \"toggle_gen_cc\" => false,\n",
    "    \"vfac\" => 0, # directly sets symetric voltage limit to min:(1-vfac) max:(1+vfac), use import values if vfac=0\n",
    "    \"qcfac\" => 1,\n",
    "    \"output_level\" => 0,\n",
    "    \"Ψ\" => 0,\n",
    ")\n",
    "\n",
    "\n",
    "# ex1_no_uncert:\n",
    "ex1_no_uncert_settings = copy(ex1_general_settings)\n",
    "ex1_no_uncert_settings[\"toggle_volt_cc\"] = false\n",
    "ex1_no_uncert_settings[\"toggle_gen_cc\"] = false\n",
    "\n",
    "experiment1[\"no_uncert\"] = Dict(\n",
    "    \"verbose\" => \"ex1_no_uncert\",\n",
    "    \"feeder\" => feeder,\n",
    "    \"settings\" => ex1_no_uncert_settings,\n",
    ")\n",
    "\n",
    "# ex1_uncert:\n",
    "ex1_uncert_settings = copy(ex1_general_settings)\n",
    "ex1_uncert_settings[\"toggle_volt_cc\"] = true\n",
    "ex1_uncert_settings[\"toggle_gen_cc\"] = true\n",
    "experiment1[\"uncert\"] = Dict(\n",
    "    \"verbose\" => \"ex1_uncert\",\n",
    "    \"feeder\" => feeder,\n",
    "    \"settings\" => ex1_uncert_settings,\n",
    ")\n",
    "\n",
    "# ex1_gen_uncert:\n",
    "ex1_uncert_settings = copy(ex1_general_settings)\n",
    "ex1_uncert_settings[\"toggle_volt_cc\"] = false\n",
    "ex1_uncert_settings[\"toggle_gen_cc\"] = true\n",
    "experiment1[\"gen_uncert\"] = Dict(\n",
    "    \"verbose\" => \"ex1_gen_uncert\",\n",
    "    \"feeder\" => feeder,\n",
    "    \"settings\" => ex1_uncert_settings,\n",
    ")\n",
    "\n",
    "# Run \n",
    "experiment1 = run_experiment(experiment1)\n",
    "\n",
    "# Show results\n",
    "sleep(.2) # just to ensure correct printing order\n",
    "for case in keys(experiment1)\n",
    "    display(experiment1[case][\"results\"])\n",
    "end"
   ]
  },
  {
   "cell_type": "code",
   "execution_count": 3,
   "metadata": {},
   "outputs": [
    {
     "name": "stdout",
     "output_type": "stream",
     "text": [
      "Saving ex1_uncert\n",
      "Saving ex1_gen_uncert\n",
      "Saving ex1_no_uncert\n",
      ">>>> Saved with timestamp 190320_0927\n"
     ]
    }
   ],
   "source": [
    "save_experiment(\"experiment1\", experiment1)"
   ]
  },
  {
   "cell_type": "markdown",
   "metadata": {},
   "source": [
    "## Experiment 2\n",
    "\n",
    "Same as Experiment1 but with wider voltage constraints\n",
    "\n",
    "### Description\n",
    "\n",
    "Ex2:\n",
    "- tag: `experiment2` \n",
    "- bascase voltage (0.9-1.1) and `vfac = 0.02`: Resulting \"real\" voltage limits: ca. 0.91 - 1.09 (i.e. +- 9%)\n",
    "- all nodes have 20% standard deviation of their forecasted load\n",
    "- all parameters as in AP's paper, including the negative load (i.e. uncontrollable generator with the same standard deviation\n",
    "- substation balancing participation penalty is set to 1000 (i.e. quadratic cost term)\n",
    "\n",
    "Runs:\n",
    "- `ex2_no_uncert`: deterministic case\n",
    "- `ex2_uncert`: case with uncertainty\n",
    "- `ex2_gen_uncert`: chance constraints only in generation\n",
    "\n",
    "\n",
    "### Notes and Observations\n",
    "\n",
    "- Without uncertainty the network is \"uncongested\" so that price for active power is the same at all nodes\n",
    "- With uncertainty, some voltage constraints become binding and there are differences in the prices"
   ]
  },
  {
   "cell_type": "code",
   "execution_count": 8,
   "metadata": {},
   "outputs": [
    {
     "name": "stdout",
     "output_type": "stream",
     "text": [
      ">>>>> Reading feeder data from data/feeder_data/basecase_lv_noneg/\n",
      "Running uncert\n",
      ">>>> Building Model\n",
      ">>>> Running Model\n",
      "MOSEK warning 705: #3 (nearly) zero elements are specified in sparse row ''(86) of matrix 'A'.\n",
      "MOSEK warning 705: #4 (nearly) zero elements are specified in sparse row ''(92) of matrix 'A'.\n",
      ">>>> Model finished with status OPTIMAL in 0.020427029 seconds\n",
      ">>>> Post-Processing\n"
     ]
    },
    {
     "name": "stderr",
     "output_type": "stream",
     "text": [
      "┌ Warning: Thermal constraint method 0 unknown. Proceeding with unconstrained lines.\n",
      "└ @ Main C:\\Users\\Robert\\Promotion\\Workshop\\02_cc_dlmp_varaware\\01_casestudy_uncertan_dlmp\\src\\model_definition.jl:196\n"
     ]
    },
    {
     "name": "stdout",
     "output_type": "stream",
     "text": [
      "\n",
      "Running gen_uncert\n",
      ">>>> Building Model\n",
      ">>>> Running Model\n",
      ">>>> Model finished with status OPTIMAL in 0.003514463 seconds\n",
      ">>>> Post-Processing\n",
      "\n",
      "Running no_uncert\n",
      ">>>> Building Model\n",
      ">>>> Running Model\n",
      ">>>> Model finished with status OPTIMAL in 0.002372737 seconds\n",
      ">>>> Post-Processing\n",
      "\n"
     ]
    },
    {
     "name": "stderr",
     "output_type": "stream",
     "text": [
      "┌ Warning: Thermal constraint method 0 unknown. Proceeding with unconstrained lines.\n",
      "└ @ Main C:\\Users\\Robert\\Promotion\\Workshop\\02_cc_dlmp_varaware\\01_casestudy_uncertan_dlmp\\src\\model_definition.jl:196\n",
      "┌ Warning: Thermal constraint method 0 unknown. Proceeding with unconstrained lines.\n",
      "└ @ Main C:\\Users\\Robert\\Promotion\\Workshop\\02_cc_dlmp_varaware\\01_casestudy_uncertan_dlmp\\src\\model_definition.jl:196\n"
     ]
    },
    {
     "name": "stdout",
     "output_type": "stream",
     "text": [
      ">>> Case uncert"
     ]
    },
    {
     "data": {
      "text/html": [
       "<table class=\"data-frame\"><thead><tr><th></th><th>objective</th><th>bus</th><th>gp</th><th>gq</th><th>voltage</th><th>fp</th><th>fq</th><th>alpha</th><th>lambda</th><th>pi</th><th>gamma</th><th>rho</th><th>eta</th><th>delta_plus</th><th>delta_minus</th><th>mu_plus</th><th>mu_minus</th><th>voltvar</th><th>lambda_anc</th><th>rx_pi_i</th><th>rx_pi_a</th><th>r_sum_mu_d</th><th>eta_calc</th></tr><tr><th></th><th>Float64</th><th>Any</th><th>Any</th><th>Any</th><th>Any</th><th>Any</th><th>Any</th><th>Any</th><th>Any</th><th>Any</th><th>Float64</th><th>Any</th><th>Any</th><th>Any</th><th>Any</th><th>Any</th><th>Any</th><th>Any</th><th>Any</th><th>Any</th><th>Any</th><th>Any</th><th>Any</th></tr></thead><tbody><p>15 rows × 23 columns</p><tr><th>1</th><td>68.8929</td><td>1</td><td>0.9225</td><td>0.538211</td><td>1.0</td><td>0</td><td>0</td><td>0.886412</td><td>-50.0</td><td>0.0</td><td>-14.1406</td><td>0</td><td>0</td><td>0</td><td>0</td><td>0</td><td>0</td><td>0</td><td>0</td><td>0</td><td>0</td><td>0</td><td>0</td></tr><tr><th>2</th><td>0.0</td><td>2</td><td>0</td><td>0</td><td>0.950497</td><td>-0.0</td><td>-0.0</td><td>0</td><td>-50.4632</td><td>-55.5805</td><td>0.0</td><td>0.000113588</td><td>-0.322349</td><td>0</td><td>0</td><td>-3.995e-7</td><td>-303.693</td><td>3.35482e-8</td><td>-50.0</td><td>-0.463171</td><td>0.0</td><td>0.463171</td><td>-0.322174</td></tr><tr><th>3</th><td>0.0</td><td>3</td><td>0</td><td>0</td><td>0.969829</td><td>0.2768</td><td>0.400011</td><td>0</td><td>-37.729</td><td>-37.3805</td><td>0.0</td><td>0.0101434</td><td>-4.85402</td><td>0</td><td>0</td><td>-5.99329e-7</td><td>-1.22801e-5</td><td>3.43369e-5</td><td>-50.4632</td><td>-26.1545</td><td>-38.8887</td><td>-12.7342</td><td>-4.85388</td></tr><tr><th>4</th><td>0.0</td><td>4</td><td>0</td><td>0</td><td>0.999378</td><td>-0.5168</td><td>0.214511</td><td>0</td><td>-17.7696</td><td>-8.85481</td><td>0.0</td><td>0.0258639</td><td>-11.9569</td><td>0</td><td>0</td><td>-2.40509e-6</td><td>-3.65817e-6</td><td>0.00020377</td><td>-37.729</td><td>-6.19568</td><td>-26.155</td><td>-19.9594</td><td>-11.9568</td></tr><tr><th>5</th><td>0.0</td><td>5</td><td>0</td><td>0</td><td>1.00313</td><td>-0.5168</td><td>0.214511</td><td>0</td><td>-16.3753</td><td>-6.86193</td><td>0.0</td><td>0.026725</td><td>-12.4447</td><td>0</td><td>0</td><td>-3.297e-6</td><td>-2.75976e-6</td><td>0.000202796</td><td>-17.7696</td><td>-4.80084</td><td>-6.19513</td><td>-1.39429</td><td>-12.4447</td></tr><tr><th>6</th><td>0.0</td><td>6</td><td>0</td><td>0</td><td>1.00696</td><td>-0.372884</td><td>0.123142</td><td>0</td><td>-15.0979</td><td>-5.02965</td><td>0.0</td><td>0.0275139</td><td>-12.8916</td><td>0</td><td>0</td><td>-4.77645e-6</td><td>-2.12305e-6</td><td>0.00019498</td><td>-16.3753</td><td>-3.50673</td><td>-4.78422</td><td>-1.27749</td><td>-12.8917</td></tr><tr><th>7</th><td>0.0</td><td>7</td><td>0.441184</td><td>-0.106042</td><td>1.01932</td><td>-0.390184</td><td>0.118842</td><td>0.0450801</td><td>-11.5793</td><td>-2.20558e-7</td><td>0.0</td><td>0.0296867</td><td>-14.1227</td><td>-4.65357e-7</td><td>-1.62909e-7</td><td>-36.4996</td><td>-1.11122e-6</td><td>0.000151833</td><td>-15.0979</td><td>-1.54295e-7</td><td>-3.51857</td><td>-3.51857</td><td>-14.1229</td></tr><tr><th>8</th><td>0.0</td><td>8</td><td>0</td><td>0</td><td>0.990743</td><td>-0.419284</td><td>0.111542</td><td>0</td><td>-15.0198</td><td>-4.92234</td><td>0.0</td><td>0.0286522</td><td>-13.0504</td><td>0</td><td>0</td><td>-1.75891e-6</td><td>-1.42089</td><td>0.000235548</td><td>-14.8711</td><td>-3.4463</td><td>-3.29767</td><td>0.148625</td><td>-13.0502</td></tr><tr><th>9</th><td>0.0</td><td>9</td><td>0</td><td>0</td><td>1.00122</td><td>0.1969</td><td>0.0019</td><td>0</td><td>-14.8711</td><td>-4.71006</td><td>0.0</td><td>0.0286522</td><td>-13.0062</td><td>0</td><td>0</td><td>-3.59237e-6</td><td>-4.23753e-6</td><td>0.000237526</td><td>-17.7696</td><td>-3.2938</td><td>-6.19228</td><td>-2.89848</td><td>-13.006</td></tr><tr><th>10</th><td>0.0</td><td>10</td><td>0</td><td>0</td><td>1.00399</td><td>-0.164016</td><td>0.0829695</td><td>0</td><td>-14.1306</td><td>-3.65103</td><td>0.0</td><td>0.0293373</td><td>-13.2555</td><td>0</td><td>0</td><td>-4.98425e-6</td><td>-3.32629e-6</td><td>0.000234438</td><td>-14.8711</td><td>-2.55317</td><td>-3.29375</td><td>-0.740575</td><td>-13.2553</td></tr><tr><th>11</th><td>0.0</td><td>11</td><td>0</td><td>0</td><td>1.01164</td><td>-0.384416</td><td>0.0751695</td><td>0</td><td>-12.3458</td><td>-1.09605</td><td>0.0</td><td>0.0309883</td><td>-13.8565</td><td>0</td><td>0</td><td>-2.75062e-5</td><td>-1.90387e-6</td><td>0.000211224</td><td>-14.1306</td><td>-0.765647</td><td>-2.55043</td><td>-1.78479</td><td>-13.8562</td></tr><tr><th>12</th><td>0.0</td><td>12</td><td>0.442216</td><td>-0.0511695</td><td>1.0152</td><td>-0.407316</td><td>0.0609695</td><td>0.0685077</td><td>-11.583</td><td>-1.78093e-7</td><td>0.0</td><td>0.0316939</td><td>-14.1133</td><td>-5.9211e-7</td><td>-1.72567e-7</td><td>-37.0287</td><td>-1.52907e-6</td><td>0.000194546</td><td>-12.3458</td><td>-1.23943e-7</td><td>-0.762792</td><td>-0.762792</td><td>-14.113</td></tr><tr><th>13</th><td>0.0</td><td>13</td><td>0</td><td>0</td><td>0.982619</td><td>-0.429016</td><td>0.0544695</td><td>0</td><td>-50.0</td><td>-3.45491e-6</td><td>0.0</td><td>0.0</td><td>-1.26697e-10</td><td>0</td><td>0</td><td>0.0</td><td>-4.04509e-6</td><td>6.53001e-5</td><td>-50.0</td><td>-2.87909e-8</td><td>0.0</td><td>2.87909e-8</td><td>-2.0134e-10</td></tr><tr><th>14</th><td>0.0</td><td>14</td><td>0</td><td>0</td><td>0.977795</td><td>0.6457</td><td>0.1382</td><td>0</td><td>-50.0</td><td>-5.77132e-6</td><td>0.0</td><td>0.0</td><td>-1.61147e-8</td><td>0</td><td>0</td><td>0.0</td><td>-4.84624e-6</td><td>4.73383e-5</td><td>-50.0</td><td>-8.04065e-6</td><td>-4.81341e-6</td><td>3.22724e-6</td><td>-2.53622e-8</td></tr><tr><th>15</th><td>0.0</td><td>15</td><td>0</td><td>0</td><td>0.975027</td><td>0.0238</td><td>0.0091</td><td>0</td><td>-50.0</td><td>-6.52428e-6</td><td>0.0</td><td>-0.0</td><td>-2.18623e-8</td><td>0</td><td>0</td><td>0.0</td><td>-5.50413e-6</td><td>3.85934e-5</td><td>-50.0</td><td>-9.09012e-6</td><td>-8.04103e-6</td><td>1.04909e-6</td><td>-3.42992e-8</td></tr></tbody></table>"
      ],
      "text/latex": [
       "\\begin{tabular}{r|ccccccccccccccccccccccc}\n",
       "\t& objective & bus & gp & gq & voltage & fp & fq & alpha & lambda & pi & gamma & rho & eta & delta\\_plus & delta\\_minus & mu\\_plus & mu\\_minus & voltvar & lambda\\_anc & rx\\_pi\\_i & rx\\_pi\\_a & r\\_sum\\_mu\\_d & eta\\_calc\\\\\n",
       "\t\\hline\n",
       "\t& Float64 & Any & Any & Any & Any & Any & Any & Any & Any & Any & Float64 & Any & Any & Any & Any & Any & Any & Any & Any & Any & Any & Any & Any\\\\\n",
       "\t\\hline\n",
       "\t1 & 68.8929 & 1 & 0.9225 & 0.538211 & 1.0 & 0 & 0 & 0.886412 & -50.0 & 0.0 & -14.1406 & 0 & 0 & 0 & 0 & 0 & 0 & 0 & 0 & 0 & 0 & 0 & 0 \\\\\n",
       "\t2 & 0.0 & 2 & 0 & 0 & 0.950497 & -0.0 & -0.0 & 0 & -50.4632 & -55.5805 & 0.0 & 0.000113588 & -0.322349 & 0 & 0 & -3.995e-7 & -303.693 & 3.35482e-8 & -50.0 & -0.463171 & 0.0 & 0.463171 & -0.322174 \\\\\n",
       "\t3 & 0.0 & 3 & 0 & 0 & 0.969829 & 0.2768 & 0.400011 & 0 & -37.729 & -37.3805 & 0.0 & 0.0101434 & -4.85402 & 0 & 0 & -5.99329e-7 & -1.22801e-5 & 3.43369e-5 & -50.4632 & -26.1545 & -38.8887 & -12.7342 & -4.85388 \\\\\n",
       "\t4 & 0.0 & 4 & 0 & 0 & 0.999378 & -0.5168 & 0.214511 & 0 & -17.7696 & -8.85481 & 0.0 & 0.0258639 & -11.9569 & 0 & 0 & -2.40509e-6 & -3.65817e-6 & 0.00020377 & -37.729 & -6.19568 & -26.155 & -19.9594 & -11.9568 \\\\\n",
       "\t5 & 0.0 & 5 & 0 & 0 & 1.00313 & -0.5168 & 0.214511 & 0 & -16.3753 & -6.86193 & 0.0 & 0.026725 & -12.4447 & 0 & 0 & -3.297e-6 & -2.75976e-6 & 0.000202796 & -17.7696 & -4.80084 & -6.19513 & -1.39429 & -12.4447 \\\\\n",
       "\t6 & 0.0 & 6 & 0 & 0 & 1.00696 & -0.372884 & 0.123142 & 0 & -15.0979 & -5.02965 & 0.0 & 0.0275139 & -12.8916 & 0 & 0 & -4.77645e-6 & -2.12305e-6 & 0.00019498 & -16.3753 & -3.50673 & -4.78422 & -1.27749 & -12.8917 \\\\\n",
       "\t7 & 0.0 & 7 & 0.441184 & -0.106042 & 1.01932 & -0.390184 & 0.118842 & 0.0450801 & -11.5793 & -2.20558e-7 & 0.0 & 0.0296867 & -14.1227 & -4.65357e-7 & -1.62909e-7 & -36.4996 & -1.11122e-6 & 0.000151833 & -15.0979 & -1.54295e-7 & -3.51857 & -3.51857 & -14.1229 \\\\\n",
       "\t8 & 0.0 & 8 & 0 & 0 & 0.990743 & -0.419284 & 0.111542 & 0 & -15.0198 & -4.92234 & 0.0 & 0.0286522 & -13.0504 & 0 & 0 & -1.75891e-6 & -1.42089 & 0.000235548 & -14.8711 & -3.4463 & -3.29767 & 0.148625 & -13.0502 \\\\\n",
       "\t9 & 0.0 & 9 & 0 & 0 & 1.00122 & 0.1969 & 0.0019 & 0 & -14.8711 & -4.71006 & 0.0 & 0.0286522 & -13.0062 & 0 & 0 & -3.59237e-6 & -4.23753e-6 & 0.000237526 & -17.7696 & -3.2938 & -6.19228 & -2.89848 & -13.006 \\\\\n",
       "\t10 & 0.0 & 10 & 0 & 0 & 1.00399 & -0.164016 & 0.0829695 & 0 & -14.1306 & -3.65103 & 0.0 & 0.0293373 & -13.2555 & 0 & 0 & -4.98425e-6 & -3.32629e-6 & 0.000234438 & -14.8711 & -2.55317 & -3.29375 & -0.740575 & -13.2553 \\\\\n",
       "\t11 & 0.0 & 11 & 0 & 0 & 1.01164 & -0.384416 & 0.0751695 & 0 & -12.3458 & -1.09605 & 0.0 & 0.0309883 & -13.8565 & 0 & 0 & -2.75062e-5 & -1.90387e-6 & 0.000211224 & -14.1306 & -0.765647 & -2.55043 & -1.78479 & -13.8562 \\\\\n",
       "\t12 & 0.0 & 12 & 0.442216 & -0.0511695 & 1.0152 & -0.407316 & 0.0609695 & 0.0685077 & -11.583 & -1.78093e-7 & 0.0 & 0.0316939 & -14.1133 & -5.9211e-7 & -1.72567e-7 & -37.0287 & -1.52907e-6 & 0.000194546 & -12.3458 & -1.23943e-7 & -0.762792 & -0.762792 & -14.113 \\\\\n",
       "\t13 & 0.0 & 13 & 0 & 0 & 0.982619 & -0.429016 & 0.0544695 & 0 & -50.0 & -3.45491e-6 & 0.0 & 0.0 & -1.26697e-10 & 0 & 0 & 0.0 & -4.04509e-6 & 6.53001e-5 & -50.0 & -2.87909e-8 & 0.0 & 2.87909e-8 & -2.0134e-10 \\\\\n",
       "\t14 & 0.0 & 14 & 0 & 0 & 0.977795 & 0.6457 & 0.1382 & 0 & -50.0 & -5.77132e-6 & 0.0 & 0.0 & -1.61147e-8 & 0 & 0 & 0.0 & -4.84624e-6 & 4.73383e-5 & -50.0 & -8.04065e-6 & -4.81341e-6 & 3.22724e-6 & -2.53622e-8 \\\\\n",
       "\t15 & 0.0 & 15 & 0 & 0 & 0.975027 & 0.0238 & 0.0091 & 0 & -50.0 & -6.52428e-6 & 0.0 & -0.0 & -2.18623e-8 & 0 & 0 & 0.0 & -5.50413e-6 & 3.85934e-5 & -50.0 & -9.09012e-6 & -8.04103e-6 & 1.04909e-6 & -3.42992e-8 \\\\\n",
       "\\end{tabular}\n"
      ],
      "text/plain": [
       "15×23 DataFrame. Omitted printing of 17 columns\n",
       "│ Row │ objective │ bus │ gp       │ gq         │ voltage  │ fp        │\n",
       "│     │ \u001b[90mFloat64\u001b[39m   │ \u001b[90mAny\u001b[39m │ \u001b[90mAny\u001b[39m      │ \u001b[90mAny\u001b[39m        │ \u001b[90mAny\u001b[39m      │ \u001b[90mAny\u001b[39m       │\n",
       "├─────┼───────────┼─────┼──────────┼────────────┼──────────┼───────────┤\n",
       "│ 1   │ 68.8929   │ 1   │ 0.9225   │ 0.538211   │ 1.0      │ 0         │\n",
       "│ 2   │ 0.0       │ 2   │ 0        │ 0          │ 0.950497 │ -0.0      │\n",
       "│ 3   │ 0.0       │ 3   │ 0        │ 0          │ 0.969829 │ 0.2768    │\n",
       "│ 4   │ 0.0       │ 4   │ 0        │ 0          │ 0.999378 │ -0.5168   │\n",
       "│ 5   │ 0.0       │ 5   │ 0        │ 0          │ 1.00313  │ -0.5168   │\n",
       "│ 6   │ 0.0       │ 6   │ 0        │ 0          │ 1.00696  │ -0.372884 │\n",
       "│ 7   │ 0.0       │ 7   │ 0.441184 │ -0.106042  │ 1.01932  │ -0.390184 │\n",
       "│ 8   │ 0.0       │ 8   │ 0        │ 0          │ 0.990743 │ -0.419284 │\n",
       "│ 9   │ 0.0       │ 9   │ 0        │ 0          │ 1.00122  │ 0.1969    │\n",
       "│ 10  │ 0.0       │ 10  │ 0        │ 0          │ 1.00399  │ -0.164016 │\n",
       "│ 11  │ 0.0       │ 11  │ 0        │ 0          │ 1.01164  │ -0.384416 │\n",
       "│ 12  │ 0.0       │ 12  │ 0.442216 │ -0.0511695 │ 1.0152   │ -0.407316 │\n",
       "│ 13  │ 0.0       │ 13  │ 0        │ 0          │ 0.982619 │ -0.429016 │\n",
       "│ 14  │ 0.0       │ 14  │ 0        │ 0          │ 0.977795 │ 0.6457    │\n",
       "│ 15  │ 0.0       │ 15  │ 0        │ 0          │ 0.975027 │ 0.0238    │"
      ]
     },
     "metadata": {},
     "output_type": "display_data"
    },
    {
     "name": "stdout",
     "output_type": "stream",
     "text": [
      ">>> Case gen_uncert"
     ]
    },
    {
     "data": {
      "text/html": [
       "<table class=\"data-frame\"><thead><tr><th></th><th>objective</th><th>bus</th><th>gp</th><th>gq</th><th>voltage</th><th>fp</th><th>fq</th><th>alpha</th><th>lambda</th><th>pi</th><th>gamma</th><th>rho</th><th>eta</th><th>delta_plus</th><th>delta_minus</th><th>mu_plus</th><th>mu_minus</th><th>voltvar</th><th>lambda_anc</th><th>rx_pi_i</th><th>rx_pi_a</th><th>r_sum_mu_d</th><th>eta_calc</th></tr><tr><th></th><th>Float64</th><th>Any</th><th>Any</th><th>Any</th><th>Any</th><th>Any</th><th>Any</th><th>Any</th><th>Any</th><th>Any</th><th>Float64</th><th>Any</th><th>Any</th><th>Any</th><th>Any</th><th>Any</th><th>Any</th><th>Any</th><th>Any</th><th>Any</th><th>Any</th><th>Any</th><th>Any</th></tr></thead><tbody><p>15 rows × 23 columns</p><tr><th>1</th><td>52.7535</td><td>1</td><td>0.787837</td><td>0.543266</td><td>1.0</td><td>0</td><td>0</td><td>0.012358</td><td>-50.0</td><td>0.0</td><td>-1.57135</td><td>0</td><td>0</td><td>0</td><td>0</td><td>0</td><td>0</td><td>0</td><td>0</td><td>0</td><td>0</td><td>0</td><td>0</td></tr><tr><th>2</th><td>0.0</td><td>2</td><td>0</td><td>0</td><td>0.95</td><td>0.142137</td><td>0.405066</td><td>0</td><td>-50.4632</td><td>-55.5803</td><td>0.0</td><td>0</td><td>0</td><td>0</td><td>0</td><td>-1.56916e-6</td><td>-303.809</td><td>0</td><td>-50.0</td><td>-0.463169</td><td>0.0</td><td>0.463169</td><td>0</td></tr><tr><th>3</th><td>0.0</td><td>3</td><td>0</td><td>0</td><td>0.980882</td><td>-0.651463</td><td>0.219566</td><td>0</td><td>-37.7083</td><td>-37.3509</td><td>0.0</td><td>0</td><td>0</td><td>0</td><td>0</td><td>-2.24634e-6</td><td>-5.33077e-6</td><td>0</td><td>-50.4632</td><td>-26.1338</td><td>-38.8886</td><td>-12.7548</td><td>0</td></tr><tr><th>4</th><td>0.0</td><td>4</td><td>0</td><td>0</td><td>1.02742</td><td>-0.651463</td><td>0.219566</td><td>0</td><td>-17.7166</td><td>-8.77885</td><td>0.0</td><td>0</td><td>0</td><td>0</td><td>0</td><td>-6.75086e-6</td><td>-2.06033e-6</td><td>0</td><td>-37.7083</td><td>-6.14253</td><td>-26.1343</td><td>-19.9917</td><td>0</td></tr><tr><th>5</th><td>0.0</td><td>5</td><td>0</td><td>0</td><td>1.0318</td><td>-0.440129</td><td>0.14276</td><td>0</td><td>-16.3343</td><td>-6.80306</td><td>0.0</td><td>0</td><td>0</td><td>0</td><td>0</td><td>-8.35202e-6</td><td>-1.94428e-6</td><td>0</td><td>-17.7166</td><td>-4.75965</td><td>-6.14198</td><td>-1.38232</td><td>0</td></tr><tr><th>6</th><td>0.0</td><td>6</td><td>0</td><td>0</td><td>1.03618</td><td>-0.457429</td><td>0.13846</td><td>0</td><td>-15.0677</td><td>-4.9865</td><td>0.0</td><td>0</td><td>0</td><td>0</td><td>0</td><td>-1.09589e-5</td><td>-1.84005e-6</td><td>0</td><td>-16.3343</td><td>-3.47664</td><td>-4.74317</td><td>-1.26653</td><td>0</td></tr><tr><th>7</th><td>0.0</td><td>7</td><td>0.508429</td><td>-0.12566</td><td>1.05</td><td>-0.486529</td><td>0.13116</td><td>0.493818</td><td>-11.5794</td><td>-6.18925e-7</td><td>0.0</td><td>0</td><td>0</td><td>-6.1948e-6</td><td>-8.62687e-7</td><td>-36.1865</td><td>-1.57118e-6</td><td>0</td><td>-15.0677</td><td>-4.32978e-7</td><td>-3.48838</td><td>-3.48838</td><td>0</td></tr><tr><th>8</th><td>0.0</td><td>8</td><td>0</td><td>0</td><td>1.02254</td><td>0.1969</td><td>0.0019</td><td>0</td><td>-14.7831</td><td>-4.58403</td><td>0.0</td><td>0</td><td>0</td><td>0</td><td>0</td><td>-0.0</td><td>-2.205e-6</td><td>0</td><td>-14.7831</td><td>-3.20943</td><td>-3.20943</td><td>2.30643e-7</td><td>0</td></tr><tr><th>9</th><td>0.0</td><td>9</td><td>0</td><td>0</td><td>1.0327</td><td>-0.231434</td><td>0.0684061</td><td>0</td><td>-14.7831</td><td>-4.58403</td><td>0.0</td><td>0</td><td>0</td><td>0</td><td>0</td><td>-8.77745e-6</td><td>-0.0</td><td>0</td><td>-17.7166</td><td>-3.20567</td><td>-6.13916</td><td>-2.93349</td><td>0</td></tr><tr><th>10</th><td>0.0</td><td>10</td><td>0</td><td>0</td><td>1.03623</td><td>-0.451834</td><td>0.0606061</td><td>0</td><td>-14.0623</td><td>-3.55334</td><td>0.0</td><td>0</td><td>0</td><td>0</td><td>0</td><td>-1.09831e-5</td><td>-1.83886e-6</td><td>0</td><td>-14.7831</td><td>-2.48485</td><td>-3.20561</td><td>-0.720759</td><td>0</td></tr><tr><th>11</th><td>0.0</td><td>11</td><td>0</td><td>0</td><td>1.04568</td><td>-0.474734</td><td>0.0464061</td><td>0</td><td>-12.3253</td><td>-1.06672</td><td>0.0</td><td>0</td><td>0</td><td>0</td><td>0</td><td>-3.40169e-5</td><td>-1.6469e-6</td><td>0</td><td>-14.0623</td><td>-0.74516</td><td>-2.48219</td><td>-1.73703</td><td>0</td></tr><tr><th>12</th><td>0.0</td><td>12</td><td>0.509634</td><td>-0.0366061</td><td>1.05</td><td>-0.496434</td><td>0.0399061</td><td>0.493824</td><td>-11.5829</td><td>-1.08147e-7</td><td>0.0</td><td>0</td><td>0</td><td>-8.23673e-7</td><td>-9.58188e-7</td><td>-36.0379</td><td>-1.57132e-6</td><td>0</td><td>-12.3253</td><td>-7.52642e-8</td><td>-0.742381</td><td>-0.742381</td><td>0</td></tr><tr><th>13</th><td>0.0</td><td>13</td><td>0</td><td>0</td><td>0.982619</td><td>0.6457</td><td>0.1382</td><td>0</td><td>-50.0</td><td>0.0</td><td>0.0</td><td>0</td><td>0</td><td>0</td><td>0</td><td>-0.0</td><td>-0.0</td><td>0</td><td>-50.0</td><td>0.0</td><td>0.0</td><td>0.0</td><td>0</td></tr><tr><th>14</th><td>0.0</td><td>14</td><td>0</td><td>0</td><td>0.977795</td><td>0.0238</td><td>0.0091</td><td>0</td><td>-50.0</td><td>0.0</td><td>0.0</td><td>0</td><td>0</td><td>0</td><td>0</td><td>-0.0</td><td>-0.0</td><td>0</td><td>-50.0</td><td>0.0</td><td>0.0</td><td>0.0</td><td>0</td></tr><tr><th>15</th><td>0.0</td><td>15</td><td>0</td><td>0</td><td>0.975027</td><td>0.0224</td><td>0.0083</td><td>0</td><td>-50.0</td><td>0.0</td><td>0.0</td><td>0</td><td>0</td><td>0</td><td>0</td><td>-0.0</td><td>-0.0</td><td>0</td><td>-50.0</td><td>0.0</td><td>0.0</td><td>0.0</td><td>0</td></tr></tbody></table>"
      ],
      "text/latex": [
       "\\begin{tabular}{r|ccccccccccccccccccccccc}\n",
       "\t& objective & bus & gp & gq & voltage & fp & fq & alpha & lambda & pi & gamma & rho & eta & delta\\_plus & delta\\_minus & mu\\_plus & mu\\_minus & voltvar & lambda\\_anc & rx\\_pi\\_i & rx\\_pi\\_a & r\\_sum\\_mu\\_d & eta\\_calc\\\\\n",
       "\t\\hline\n",
       "\t& Float64 & Any & Any & Any & Any & Any & Any & Any & Any & Any & Float64 & Any & Any & Any & Any & Any & Any & Any & Any & Any & Any & Any & Any\\\\\n",
       "\t\\hline\n",
       "\t1 & 52.7535 & 1 & 0.787837 & 0.543266 & 1.0 & 0 & 0 & 0.012358 & -50.0 & 0.0 & -1.57135 & 0 & 0 & 0 & 0 & 0 & 0 & 0 & 0 & 0 & 0 & 0 & 0 \\\\\n",
       "\t2 & 0.0 & 2 & 0 & 0 & 0.95 & 0.142137 & 0.405066 & 0 & -50.4632 & -55.5803 & 0.0 & 0 & 0 & 0 & 0 & -1.56916e-6 & -303.809 & 0 & -50.0 & -0.463169 & 0.0 & 0.463169 & 0 \\\\\n",
       "\t3 & 0.0 & 3 & 0 & 0 & 0.980882 & -0.651463 & 0.219566 & 0 & -37.7083 & -37.3509 & 0.0 & 0 & 0 & 0 & 0 & -2.24634e-6 & -5.33077e-6 & 0 & -50.4632 & -26.1338 & -38.8886 & -12.7548 & 0 \\\\\n",
       "\t4 & 0.0 & 4 & 0 & 0 & 1.02742 & -0.651463 & 0.219566 & 0 & -17.7166 & -8.77885 & 0.0 & 0 & 0 & 0 & 0 & -6.75086e-6 & -2.06033e-6 & 0 & -37.7083 & -6.14253 & -26.1343 & -19.9917 & 0 \\\\\n",
       "\t5 & 0.0 & 5 & 0 & 0 & 1.0318 & -0.440129 & 0.14276 & 0 & -16.3343 & -6.80306 & 0.0 & 0 & 0 & 0 & 0 & -8.35202e-6 & -1.94428e-6 & 0 & -17.7166 & -4.75965 & -6.14198 & -1.38232 & 0 \\\\\n",
       "\t6 & 0.0 & 6 & 0 & 0 & 1.03618 & -0.457429 & 0.13846 & 0 & -15.0677 & -4.9865 & 0.0 & 0 & 0 & 0 & 0 & -1.09589e-5 & -1.84005e-6 & 0 & -16.3343 & -3.47664 & -4.74317 & -1.26653 & 0 \\\\\n",
       "\t7 & 0.0 & 7 & 0.508429 & -0.12566 & 1.05 & -0.486529 & 0.13116 & 0.493818 & -11.5794 & -6.18925e-7 & 0.0 & 0 & 0 & -6.1948e-6 & -8.62687e-7 & -36.1865 & -1.57118e-6 & 0 & -15.0677 & -4.32978e-7 & -3.48838 & -3.48838 & 0 \\\\\n",
       "\t8 & 0.0 & 8 & 0 & 0 & 1.02254 & 0.1969 & 0.0019 & 0 & -14.7831 & -4.58403 & 0.0 & 0 & 0 & 0 & 0 & -0.0 & -2.205e-6 & 0 & -14.7831 & -3.20943 & -3.20943 & 2.30643e-7 & 0 \\\\\n",
       "\t9 & 0.0 & 9 & 0 & 0 & 1.0327 & -0.231434 & 0.0684061 & 0 & -14.7831 & -4.58403 & 0.0 & 0 & 0 & 0 & 0 & -8.77745e-6 & -0.0 & 0 & -17.7166 & -3.20567 & -6.13916 & -2.93349 & 0 \\\\\n",
       "\t10 & 0.0 & 10 & 0 & 0 & 1.03623 & -0.451834 & 0.0606061 & 0 & -14.0623 & -3.55334 & 0.0 & 0 & 0 & 0 & 0 & -1.09831e-5 & -1.83886e-6 & 0 & -14.7831 & -2.48485 & -3.20561 & -0.720759 & 0 \\\\\n",
       "\t11 & 0.0 & 11 & 0 & 0 & 1.04568 & -0.474734 & 0.0464061 & 0 & -12.3253 & -1.06672 & 0.0 & 0 & 0 & 0 & 0 & -3.40169e-5 & -1.6469e-6 & 0 & -14.0623 & -0.74516 & -2.48219 & -1.73703 & 0 \\\\\n",
       "\t12 & 0.0 & 12 & 0.509634 & -0.0366061 & 1.05 & -0.496434 & 0.0399061 & 0.493824 & -11.5829 & -1.08147e-7 & 0.0 & 0 & 0 & -8.23673e-7 & -9.58188e-7 & -36.0379 & -1.57132e-6 & 0 & -12.3253 & -7.52642e-8 & -0.742381 & -0.742381 & 0 \\\\\n",
       "\t13 & 0.0 & 13 & 0 & 0 & 0.982619 & 0.6457 & 0.1382 & 0 & -50.0 & 0.0 & 0.0 & 0 & 0 & 0 & 0 & -0.0 & -0.0 & 0 & -50.0 & 0.0 & 0.0 & 0.0 & 0 \\\\\n",
       "\t14 & 0.0 & 14 & 0 & 0 & 0.977795 & 0.0238 & 0.0091 & 0 & -50.0 & 0.0 & 0.0 & 0 & 0 & 0 & 0 & -0.0 & -0.0 & 0 & -50.0 & 0.0 & 0.0 & 0.0 & 0 \\\\\n",
       "\t15 & 0.0 & 15 & 0 & 0 & 0.975027 & 0.0224 & 0.0083 & 0 & -50.0 & 0.0 & 0.0 & 0 & 0 & 0 & 0 & -0.0 & -0.0 & 0 & -50.0 & 0.0 & 0.0 & 0.0 & 0 \\\\\n",
       "\\end{tabular}\n"
      ],
      "text/plain": [
       "15×23 DataFrame. Omitted printing of 17 columns\n",
       "│ Row │ objective │ bus │ gp       │ gq         │ voltage  │ fp        │\n",
       "│     │ \u001b[90mFloat64\u001b[39m   │ \u001b[90mAny\u001b[39m │ \u001b[90mAny\u001b[39m      │ \u001b[90mAny\u001b[39m        │ \u001b[90mAny\u001b[39m      │ \u001b[90mAny\u001b[39m       │\n",
       "├─────┼───────────┼─────┼──────────┼────────────┼──────────┼───────────┤\n",
       "│ 1   │ 52.7535   │ 1   │ 0.787837 │ 0.543266   │ 1.0      │ 0         │\n",
       "│ 2   │ 0.0       │ 2   │ 0        │ 0          │ 0.95     │ 0.142137  │\n",
       "│ 3   │ 0.0       │ 3   │ 0        │ 0          │ 0.980882 │ -0.651463 │\n",
       "│ 4   │ 0.0       │ 4   │ 0        │ 0          │ 1.02742  │ -0.651463 │\n",
       "│ 5   │ 0.0       │ 5   │ 0        │ 0          │ 1.0318   │ -0.440129 │\n",
       "│ 6   │ 0.0       │ 6   │ 0        │ 0          │ 1.03618  │ -0.457429 │\n",
       "│ 7   │ 0.0       │ 7   │ 0.508429 │ -0.12566   │ 1.05     │ -0.486529 │\n",
       "│ 8   │ 0.0       │ 8   │ 0        │ 0          │ 1.02254  │ 0.1969    │\n",
       "│ 9   │ 0.0       │ 9   │ 0        │ 0          │ 1.0327   │ -0.231434 │\n",
       "│ 10  │ 0.0       │ 10  │ 0        │ 0          │ 1.03623  │ -0.451834 │\n",
       "│ 11  │ 0.0       │ 11  │ 0        │ 0          │ 1.04568  │ -0.474734 │\n",
       "│ 12  │ 0.0       │ 12  │ 0.509634 │ -0.0366061 │ 1.05     │ -0.496434 │\n",
       "│ 13  │ 0.0       │ 13  │ 0        │ 0          │ 0.982619 │ 0.6457    │\n",
       "│ 14  │ 0.0       │ 14  │ 0        │ 0          │ 0.977795 │ 0.0238    │\n",
       "│ 15  │ 0.0       │ 15  │ 0        │ 0          │ 0.975027 │ 0.0224    │"
      ]
     },
     "metadata": {},
     "output_type": "display_data"
    },
    {
     "name": "stdout",
     "output_type": "stream",
     "text": [
      ">>> Case no_uncert"
     ]
    },
    {
     "data": {
      "text/html": [
       "<table class=\"data-frame\"><thead><tr><th></th><th>objective</th><th>bus</th><th>gp</th><th>gq</th><th>voltage</th><th>fp</th><th>fq</th><th>alpha</th><th>lambda</th><th>pi</th><th>gamma</th><th>rho</th><th>eta</th><th>delta_plus</th><th>delta_minus</th><th>mu_plus</th><th>mu_minus</th><th>voltvar</th><th>lambda_anc</th><th>rx_pi_i</th><th>rx_pi_a</th><th>r_sum_mu_d</th><th>eta_calc</th></tr><tr><th></th><th>Float64</th><th>Any</th><th>Any</th><th>Any</th><th>Any</th><th>Any</th><th>Any</th><th>Any</th><th>Any</th><th>Any</th><th>Float64</th><th>Any</th><th>Any</th><th>Any</th><th>Any</th><th>Any</th><th>Any</th><th>Any</th><th>Any</th><th>Any</th><th>Any</th><th>Any</th><th>Any</th></tr></thead><tbody><p>15 rows × 23 columns</p><tr><th>1</th><td>49.9039</td><td>1</td><td>0.787837</td><td>0.543266</td><td>1.0</td><td>0</td><td>0</td><td>0</td><td>-50.0</td><td>0.0</td><td>0.0</td><td>0</td><td>0</td><td>0</td><td>0</td><td>0</td><td>0</td><td>0</td><td>0</td><td>0</td><td>0</td><td>0</td><td>0</td></tr><tr><th>2</th><td>0.0</td><td>2</td><td>0</td><td>0</td><td>0.95</td><td>0.142137</td><td>0.405066</td><td>0</td><td>-50.4783</td><td>-57.3968</td><td>0.0</td><td>0</td><td>0</td><td>0</td><td>0</td><td>-2.50115e-6</td><td>-313.738</td><td>0</td><td>-50.0</td><td>-0.478307</td><td>0.0</td><td>0.478307</td><td>0</td></tr><tr><th>3</th><td>0.0</td><td>3</td><td>0</td><td>0</td><td>0.980882</td><td>-0.651463</td><td>0.219566</td><td>0</td><td>-37.3066</td><td>-38.5716</td><td>0.0</td><td>0</td><td>0</td><td>0</td><td>0</td><td>-3.39152e-6</td><td>-9.77996e-6</td><td>0</td><td>-50.4783</td><td>-26.9879</td><td>-40.1596</td><td>-13.1717</td><td>0</td></tr><tr><th>4</th><td>0.0</td><td>4</td><td>0</td><td>0</td><td>1.02742</td><td>-0.651463</td><td>0.219566</td><td>0</td><td>-16.6615</td><td>-9.06576</td><td>0.0</td><td>0</td><td>0</td><td>0</td><td>0</td><td>-7.87707e-6</td><td>-3.60414e-6</td><td>0</td><td>-37.3066</td><td>-6.34328</td><td>-26.9884</td><td>-20.6451</td><td>0</td></tr><tr><th>5</th><td>0.0</td><td>5</td><td>0</td><td>0</td><td>1.0318</td><td>-0.438523</td><td>0.141637</td><td>0</td><td>-15.234</td><td>-7.02541</td><td>0.0</td><td>0</td><td>0</td><td>0</td><td>0</td><td>-1.01549e-5</td><td>-3.36612e-6</td><td>0</td><td>-16.6615</td><td>-4.91521</td><td>-6.34271</td><td>-1.4275</td><td>0</td></tr><tr><th>6</th><td>0.0</td><td>6</td><td>0</td><td>0</td><td>1.03618</td><td>-0.455823</td><td>0.137337</td><td>0</td><td>-13.9261</td><td>-5.14947</td><td>0.0</td><td>0</td><td>0</td><td>0</td><td>0</td><td>-1.42374e-5</td><td>-3.1574e-6</td><td>0</td><td>-15.234</td><td>-3.59027</td><td>-4.89819</td><td>-1.30792</td><td>0</td></tr><tr><th>7</th><td>0.0</td><td>7</td><td>0.506823</td><td>-0.124537</td><td>1.05</td><td>-0.484923</td><td>0.130037</td><td>0</td><td>-10.3237</td><td>-6.0948e-7</td><td>0.0</td><td>0</td><td>0</td><td>-1.51179e-6</td><td>-8.94904e-7</td><td>-37.3692</td><td>-2.64248e-6</td><td>0</td><td>-13.9261</td><td>-4.26371e-7</td><td>-3.60239</td><td>-3.60239</td><td>0</td></tr><tr><th>8</th><td>0.0</td><td>8</td><td>0</td><td>0</td><td>1.02254</td><td>0.1969</td><td>0.0019</td><td>0</td><td>-13.6321</td><td>-4.73385</td><td>0.0</td><td>0</td><td>0</td><td>0</td><td>0</td><td>-0.0</td><td>-4.00151e-6</td><td>0</td><td>-13.6321</td><td>-3.31433</td><td>-3.31433</td><td>4.18558e-7</td><td>0</td></tr><tr><th>9</th><td>0.0</td><td>9</td><td>0</td><td>0</td><td>1.0327</td><td>-0.23304</td><td>0.0695283</td><td>0</td><td>-13.6321</td><td>-4.73385</td><td>0.0</td><td>0</td><td>0</td><td>0</td><td>0</td><td>-6.49303e-6</td><td>-0.0</td><td>0</td><td>-16.6615</td><td>-3.31044</td><td>-6.3398</td><td>-3.02936</td><td>0</td></tr><tr><th>10</th><td>0.0</td><td>10</td><td>0</td><td>0</td><td>1.03623</td><td>-0.45344</td><td>0.0617283</td><td>0</td><td>-12.8878</td><td>-3.66947</td><td>0.0</td><td>0</td><td>0</td><td>0</td><td>0</td><td>-5.63482e-6</td><td>-0.0</td><td>0</td><td>-13.6321</td><td>-2.56607</td><td>-3.31038</td><td>-0.744316</td><td>0</td></tr><tr><th>11</th><td>0.0</td><td>11</td><td>0</td><td>0</td><td>1.04568</td><td>-0.47634</td><td>0.0475283</td><td>0</td><td>-11.094</td><td>-1.10159</td><td>0.0</td><td>0</td><td>0</td><td>0</td><td>0</td><td>-7.18277e-6</td><td>-2.96885e-6</td><td>0</td><td>-12.8878</td><td>-0.769514</td><td>-2.56331</td><td>-1.7938</td><td>0</td></tr><tr><th>12</th><td>0.0</td><td>12</td><td>0.51124</td><td>-0.0377283</td><td>1.05</td><td>-0.49804</td><td>0.0410283</td><td>0</td><td>-10.3274</td><td>-5.64187e-7</td><td>0.0</td><td>0</td><td>0</td><td>-2.00448e-6</td><td>-9.3396e-7</td><td>-37.2158</td><td>-2.83568e-6</td><td>0</td><td>-11.094</td><td>-3.92644e-7</td><td>-0.766644</td><td>-0.766645</td><td>0</td></tr><tr><th>13</th><td>0.0</td><td>13</td><td>0</td><td>0</td><td>0.982619</td><td>0.6457</td><td>0.1382</td><td>0</td><td>-50.0</td><td>0.0</td><td>0.0</td><td>0</td><td>0</td><td>0</td><td>0</td><td>-0.0</td><td>-0.0</td><td>0</td><td>-50.0</td><td>0.0</td><td>0.0</td><td>0.0</td><td>0</td></tr><tr><th>14</th><td>0.0</td><td>14</td><td>0</td><td>0</td><td>0.977795</td><td>0.0238</td><td>0.0091</td><td>0</td><td>-50.0</td><td>0.0</td><td>0.0</td><td>0</td><td>0</td><td>0</td><td>0</td><td>-0.0</td><td>-0.0</td><td>0</td><td>-50.0</td><td>0.0</td><td>0.0</td><td>0.0</td><td>0</td></tr><tr><th>15</th><td>0.0</td><td>15</td><td>0</td><td>0</td><td>0.975027</td><td>0.0224</td><td>0.0083</td><td>0</td><td>-50.0</td><td>0.0</td><td>0.0</td><td>0</td><td>0</td><td>0</td><td>0</td><td>-0.0</td><td>-0.0</td><td>0</td><td>-50.0</td><td>0.0</td><td>0.0</td><td>0.0</td><td>0</td></tr></tbody></table>"
      ],
      "text/latex": [
       "\\begin{tabular}{r|ccccccccccccccccccccccc}\n",
       "\t& objective & bus & gp & gq & voltage & fp & fq & alpha & lambda & pi & gamma & rho & eta & delta\\_plus & delta\\_minus & mu\\_plus & mu\\_minus & voltvar & lambda\\_anc & rx\\_pi\\_i & rx\\_pi\\_a & r\\_sum\\_mu\\_d & eta\\_calc\\\\\n",
       "\t\\hline\n",
       "\t& Float64 & Any & Any & Any & Any & Any & Any & Any & Any & Any & Float64 & Any & Any & Any & Any & Any & Any & Any & Any & Any & Any & Any & Any\\\\\n",
       "\t\\hline\n",
       "\t1 & 49.9039 & 1 & 0.787837 & 0.543266 & 1.0 & 0 & 0 & 0 & -50.0 & 0.0 & 0.0 & 0 & 0 & 0 & 0 & 0 & 0 & 0 & 0 & 0 & 0 & 0 & 0 \\\\\n",
       "\t2 & 0.0 & 2 & 0 & 0 & 0.95 & 0.142137 & 0.405066 & 0 & -50.4783 & -57.3968 & 0.0 & 0 & 0 & 0 & 0 & -2.50115e-6 & -313.738 & 0 & -50.0 & -0.478307 & 0.0 & 0.478307 & 0 \\\\\n",
       "\t3 & 0.0 & 3 & 0 & 0 & 0.980882 & -0.651463 & 0.219566 & 0 & -37.3066 & -38.5716 & 0.0 & 0 & 0 & 0 & 0 & -3.39152e-6 & -9.77996e-6 & 0 & -50.4783 & -26.9879 & -40.1596 & -13.1717 & 0 \\\\\n",
       "\t4 & 0.0 & 4 & 0 & 0 & 1.02742 & -0.651463 & 0.219566 & 0 & -16.6615 & -9.06576 & 0.0 & 0 & 0 & 0 & 0 & -7.87707e-6 & -3.60414e-6 & 0 & -37.3066 & -6.34328 & -26.9884 & -20.6451 & 0 \\\\\n",
       "\t5 & 0.0 & 5 & 0 & 0 & 1.0318 & -0.438523 & 0.141637 & 0 & -15.234 & -7.02541 & 0.0 & 0 & 0 & 0 & 0 & -1.01549e-5 & -3.36612e-6 & 0 & -16.6615 & -4.91521 & -6.34271 & -1.4275 & 0 \\\\\n",
       "\t6 & 0.0 & 6 & 0 & 0 & 1.03618 & -0.455823 & 0.137337 & 0 & -13.9261 & -5.14947 & 0.0 & 0 & 0 & 0 & 0 & -1.42374e-5 & -3.1574e-6 & 0 & -15.234 & -3.59027 & -4.89819 & -1.30792 & 0 \\\\\n",
       "\t7 & 0.0 & 7 & 0.506823 & -0.124537 & 1.05 & -0.484923 & 0.130037 & 0 & -10.3237 & -6.0948e-7 & 0.0 & 0 & 0 & -1.51179e-6 & -8.94904e-7 & -37.3692 & -2.64248e-6 & 0 & -13.9261 & -4.26371e-7 & -3.60239 & -3.60239 & 0 \\\\\n",
       "\t8 & 0.0 & 8 & 0 & 0 & 1.02254 & 0.1969 & 0.0019 & 0 & -13.6321 & -4.73385 & 0.0 & 0 & 0 & 0 & 0 & -0.0 & -4.00151e-6 & 0 & -13.6321 & -3.31433 & -3.31433 & 4.18558e-7 & 0 \\\\\n",
       "\t9 & 0.0 & 9 & 0 & 0 & 1.0327 & -0.23304 & 0.0695283 & 0 & -13.6321 & -4.73385 & 0.0 & 0 & 0 & 0 & 0 & -6.49303e-6 & -0.0 & 0 & -16.6615 & -3.31044 & -6.3398 & -3.02936 & 0 \\\\\n",
       "\t10 & 0.0 & 10 & 0 & 0 & 1.03623 & -0.45344 & 0.0617283 & 0 & -12.8878 & -3.66947 & 0.0 & 0 & 0 & 0 & 0 & -5.63482e-6 & -0.0 & 0 & -13.6321 & -2.56607 & -3.31038 & -0.744316 & 0 \\\\\n",
       "\t11 & 0.0 & 11 & 0 & 0 & 1.04568 & -0.47634 & 0.0475283 & 0 & -11.094 & -1.10159 & 0.0 & 0 & 0 & 0 & 0 & -7.18277e-6 & -2.96885e-6 & 0 & -12.8878 & -0.769514 & -2.56331 & -1.7938 & 0 \\\\\n",
       "\t12 & 0.0 & 12 & 0.51124 & -0.0377283 & 1.05 & -0.49804 & 0.0410283 & 0 & -10.3274 & -5.64187e-7 & 0.0 & 0 & 0 & -2.00448e-6 & -9.3396e-7 & -37.2158 & -2.83568e-6 & 0 & -11.094 & -3.92644e-7 & -0.766644 & -0.766645 & 0 \\\\\n",
       "\t13 & 0.0 & 13 & 0 & 0 & 0.982619 & 0.6457 & 0.1382 & 0 & -50.0 & 0.0 & 0.0 & 0 & 0 & 0 & 0 & -0.0 & -0.0 & 0 & -50.0 & 0.0 & 0.0 & 0.0 & 0 \\\\\n",
       "\t14 & 0.0 & 14 & 0 & 0 & 0.977795 & 0.0238 & 0.0091 & 0 & -50.0 & 0.0 & 0.0 & 0 & 0 & 0 & 0 & -0.0 & -0.0 & 0 & -50.0 & 0.0 & 0.0 & 0.0 & 0 \\\\\n",
       "\t15 & 0.0 & 15 & 0 & 0 & 0.975027 & 0.0224 & 0.0083 & 0 & -50.0 & 0.0 & 0.0 & 0 & 0 & 0 & 0 & -0.0 & -0.0 & 0 & -50.0 & 0.0 & 0.0 & 0.0 & 0 \\\\\n",
       "\\end{tabular}\n"
      ],
      "text/plain": [
       "15×23 DataFrame. Omitted printing of 17 columns\n",
       "│ Row │ objective │ bus │ gp       │ gq         │ voltage  │ fp        │\n",
       "│     │ \u001b[90mFloat64\u001b[39m   │ \u001b[90mAny\u001b[39m │ \u001b[90mAny\u001b[39m      │ \u001b[90mAny\u001b[39m        │ \u001b[90mAny\u001b[39m      │ \u001b[90mAny\u001b[39m       │\n",
       "├─────┼───────────┼─────┼──────────┼────────────┼──────────┼───────────┤\n",
       "│ 1   │ 49.9039   │ 1   │ 0.787837 │ 0.543266   │ 1.0      │ 0         │\n",
       "│ 2   │ 0.0       │ 2   │ 0        │ 0          │ 0.95     │ 0.142137  │\n",
       "│ 3   │ 0.0       │ 3   │ 0        │ 0          │ 0.980882 │ -0.651463 │\n",
       "│ 4   │ 0.0       │ 4   │ 0        │ 0          │ 1.02742  │ -0.651463 │\n",
       "│ 5   │ 0.0       │ 5   │ 0        │ 0          │ 1.0318   │ -0.438523 │\n",
       "│ 6   │ 0.0       │ 6   │ 0        │ 0          │ 1.03618  │ -0.455823 │\n",
       "│ 7   │ 0.0       │ 7   │ 0.506823 │ -0.124537  │ 1.05     │ -0.484923 │\n",
       "│ 8   │ 0.0       │ 8   │ 0        │ 0          │ 1.02254  │ 0.1969    │\n",
       "│ 9   │ 0.0       │ 9   │ 0        │ 0          │ 1.0327   │ -0.23304  │\n",
       "│ 10  │ 0.0       │ 10  │ 0        │ 0          │ 1.03623  │ -0.45344  │\n",
       "│ 11  │ 0.0       │ 11  │ 0        │ 0          │ 1.04568  │ -0.47634  │\n",
       "│ 12  │ 0.0       │ 12  │ 0.51124  │ -0.0377283 │ 1.05     │ -0.49804  │\n",
       "│ 13  │ 0.0       │ 13  │ 0        │ 0          │ 0.982619 │ 0.6457    │\n",
       "│ 14  │ 0.0       │ 14  │ 0        │ 0          │ 0.977795 │ 0.0238    │\n",
       "│ 15  │ 0.0       │ 15  │ 0        │ 0          │ 0.975027 │ 0.0224    │"
      ]
     },
     "metadata": {},
     "output_type": "display_data"
    }
   ],
   "source": [
    "experiment2 = Dict()\n",
    "\n",
    "# Load feeder data \n",
    "feeder = load_feeder(\"data/feeder_data/basecase_lv_noneg/\")\n",
    "\n",
    "# Set up\n",
    "relative_std = 0.2\n",
    "loads = [b.d_P for b in feeder.buses]\n",
    "std_vec = abs.(loads) .* relative_std\n",
    "var_vec = std_vec.^2\n",
    "Σ = diagm(0 => var_vec)\n",
    "\n",
    "# ex2_general_settings\n",
    "ex2_general_settings = Dict(\n",
    "    \"var_vec\" => var_vec,\n",
    "    \"Σ\" => Σ,\n",
    "    \"z_g\" => 1.945,\n",
    "    \"z_v\" => 2.576,\n",
    "    \"toggle_volt_cc\" => false,\n",
    "    \"toggle_gen_cc\" => false,\n",
    "    \"toggle_thermal_cc\" => false,\n",
    "    \"thermal_const_method\" => 0, #1=soc, 2=inner approx, other=off\n",
    "    \"vfac\" => 0, # directly sets symetric voltage limit to min:(1-vfac) max:(1+vfac), use import values if vfac=0\n",
    "    \"qcfac\" => 1,\n",
    "    \"output_level\" => 0,\n",
    "    \"Ψ\" => 0,\n",
    ")\n",
    "\n",
    "# ex2_no_uncert:\n",
    "ex2_no_uncert_settings = copy(ex2_general_settings)\n",
    "ex2_no_uncert_settings[\"toggle_volt_cc\"] = false\n",
    "ex2_no_uncert_settings[\"toggle_gen_cc\"] = false\n",
    "\n",
    "experiment2[\"no_uncert\"] = Dict(\n",
    "    \"verbose\" => \"no_uncert\",\n",
    "    \"feeder\" => feeder,\n",
    "    \"settings\" => ex2_no_uncert_settings,\n",
    ")\n",
    "\n",
    "# ex2_uncert:\n",
    "ex2_uncert_settings = copy(ex2_general_settings)\n",
    "ex2_uncert_settings[\"toggle_volt_cc\"] = true\n",
    "ex2_uncert_settings[\"toggle_gen_cc\"] = true\n",
    "experiment2[\"uncert\"] = Dict(\n",
    "    \"verbose\" => \"uncert\",\n",
    "    \"feeder\" => feeder,\n",
    "    \"settings\" => ex2_uncert_settings,\n",
    ")\n",
    "\n",
    "# ex2_gen_uncert:\n",
    "ex2_uncert_settings = copy(ex2_general_settings)\n",
    "ex2_uncert_settings[\"toggle_volt_cc\"] = false\n",
    "ex2_uncert_settings[\"toggle_gen_cc\"] = true\n",
    "experiment2[\"gen_uncert\"] = Dict(\n",
    "    \"verbose\" => \"gen_uncert\",\n",
    "    \"feeder\" => feeder,\n",
    "    \"settings\" => ex2_uncert_settings,\n",
    ")\n",
    "\n",
    "# Run \n",
    "experiment2 = run_experiment(experiment2)\n",
    "\n",
    "# Show results\n",
    "sleep(.2) # just to ensure correct printing order\n",
    "for case in keys(experiment2)\n",
    "    print(\">>> Case $case\")\n",
    "    sleep(.2)\n",
    "    display(experiment2[case][\"results\"])\n",
    "end"
   ]
  },
  {
   "cell_type": "code",
   "execution_count": 44,
   "metadata": {},
   "outputs": [
    {
     "name": "stdout",
     "output_type": "stream",
     "text": [
      "Saving uncert\n",
      "Saving gen_uncert\n",
      "Saving no_uncert\n",
      ">>>> Saved with timestamp 190320_1040\n"
     ]
    }
   ],
   "source": [
    "save_experiment(\"experiment2\", experiment2)"
   ]
  },
  {
   "cell_type": "markdown",
   "metadata": {},
   "source": [
    "## Experiment 3\n",
    "\n",
    "Same as before but instead of tighter voltage limits try higher load"
   ]
  },
  {
   "cell_type": "code",
   "execution_count": 10,
   "metadata": {},
   "outputs": [
    {
     "name": "stdout",
     "output_type": "stream",
     "text": [
      ">>>>> Reading feeder data from data/feeder_data/basecase_noneg/\n",
      "Running ex3_uncert\n",
      ">>>> Building Model\n",
      ">>>> Running Model\n",
      "MOSEK warning 705: #3 (nearly) zero elements are specified in sparse row ''(87) of matrix 'A'.\n",
      "MOSEK warning 705: #4 (nearly) zero elements are specified in sparse row ''(93) of matrix 'A'.\n",
      ">>>> Model finished with status OPTIMAL in 0.006354567 seconds\n",
      ">>>> Post-Processing\n",
      "\n",
      "Running ex3_gen_uncert\n",
      ">>>> Building Model\n",
      ">>>> Running Model\n",
      ">>>> Model finished with status OPTIMAL in 0.002476817 seconds\n",
      ">>>> Post-Processing\n",
      "\n",
      "Running ex3_no_uncert\n",
      ">>>> Building Model\n",
      ">>>> Running Model\n",
      ">>>> Model finished with status OPTIMAL in 0.00223549 seconds\n",
      ">>>> Post-Processing\n",
      "\n",
      ">>> Case uncert"
     ]
    },
    {
     "data": {
      "text/html": [
       "<table class=\"data-frame\"><thead><tr><th></th><th>objective</th><th>bus</th><th>gp</th><th>gq</th><th>voltage</th><th>alpha</th><th>lambda</th><th>pi</th><th>gamma</th><th>eta</th><th>delta_plus</th><th>delta_minus</th><th>mu_plus</th><th>mu_minus</th><th>voltvar</th><th>lambda_anc</th><th>rx_pi_i</th><th>rx_pi_a</th><th>r_sum_mu_d</th></tr><tr><th></th><th>Float64</th><th>Any</th><th>Any</th><th>Any</th><th>Any</th><th>Any</th><th>Any</th><th>Any</th><th>Float64</th><th>Any</th><th>Any</th><th>Any</th><th>Any</th><th>Any</th><th>Any</th><th>Any</th><th>Any</th><th>Any</th><th>Any</th></tr></thead><tbody><p>15 rows × 19 columns</p><tr><th>1</th><td>431.923</td><td>1</td><td>3.8177</td><td>1.0676</td><td>1.0</td><td>1.0</td><td>-100.0</td><td>-7.68782e-10</td><td>-31.6228</td><td>0</td><td>0</td><td>0</td><td>0</td><td>0</td><td>0</td><td>0</td><td>0</td><td>0</td><td>0</td></tr><tr><th>2</th><td>0.0</td><td>2</td><td>0</td><td>0</td><td>0.916252</td><td>0</td><td>-100.0</td><td>-0.000145897</td><td>0.0</td><td>-1.5754e-8</td><td>0</td><td>0</td><td>-3.26811e-6</td><td>-0.000764702</td><td>0.00363129</td><td>-100.0</td><td>-1.21581e-6</td><td>-6.40651e-12</td><td>1.1877e-6</td></tr><tr><th>3</th><td>0.0</td><td>3</td><td>0</td><td>0</td><td>0.950524</td><td>0</td><td>-100.0</td><td>-0.000106729</td><td>0.0</td><td>-5.32418e-6</td><td>0</td><td>0</td><td>-4.5928e-6</td><td>-5.34742e-5</td><td>0.0117104</td><td>-100.0</td><td>-7.46768e-5</td><td>-0.000102082</td><td>-2.95957e-5</td></tr><tr><th>4</th><td>0.0</td><td>4</td><td>0</td><td>0</td><td>1.00189</td><td>0</td><td>-99.9999</td><td>-2.54546e-5</td><td>0.0</td><td>-1.30342e-5</td><td>0</td><td>0</td><td>-1.39688e-5</td><td>-1.24571e-5</td><td>0.0211438</td><td>-100.0</td><td>-1.78105e-5</td><td>-7.46783e-5</td><td>-5.99181e-5</td></tr><tr><th>5</th><td>0.0</td><td>5</td><td>0</td><td>0</td><td>1.0105</td><td>0</td><td>-99.9999</td><td>-1.88947e-5</td><td>0.0</td><td>-1.3443e-5</td><td>0</td><td>0</td><td>-1.80855e-5</td><td>-9.65875e-6</td><td>0.0212127</td><td>-99.9999</td><td>-1.32194e-5</td><td>-1.78089e-5</td><td>-4.72767e-6</td></tr><tr><th>6</th><td>0.0</td><td>6</td><td>0</td><td>0</td><td>1.01952</td><td>0</td><td>-99.9999</td><td>-1.32239e-5</td><td>0.0</td><td>-1.37819e-5</td><td>0</td><td>0</td><td>-2.39752e-5</td><td>-7.56658e-6</td><td>0.0205562</td><td>-99.9999</td><td>-9.21983e-6</td><td>-1.31736e-5</td><td>-4.0367e-6</td></tr><tr><th>7</th><td>0.0</td><td>7</td><td>0.8</td><td>-0.0477213</td><td>1.04946</td><td>0</td><td>-99.9999</td><td>-2.49905e-7</td><td>0.0</td><td>-1.45891e-5</td><td>-88.4176</td><td>-2.06216e-6</td><td>-0.000103338</td><td>-4.4126e-6</td><td>0.0150349</td><td>-99.9999</td><td>-1.74825e-7</td><td>-9.25095e-6</td><td>-9.53643e-6</td></tr><tr><th>8</th><td>0.0</td><td>8</td><td>0</td><td>0</td><td>0.970333</td><td>0</td><td>-99.9999</td><td>-2.22249e-5</td><td>0.0</td><td>-1.47582e-5</td><td>0</td><td>0</td><td>-7.50706e-6</td><td>-5.08665e-5</td><td>0.0177988</td><td>-99.9999</td><td>-1.55604e-5</td><td>-1.08896e-5</td><td>4.53539e-6</td></tr><tr><th>9</th><td>0.0</td><td>9</td><td>0</td><td>0</td><td>1.00209</td><td>0</td><td>-99.9999</td><td>-1.55536e-5</td><td>0.0</td><td>-1.43558e-5</td><td>0</td><td>0</td><td>-1.67668e-5</td><td>-1.18817e-5</td><td>0.0209381</td><td>-99.9999</td><td>-1.08768e-5</td><td>-1.78007e-5</td><td>-7.42324e-6</td></tr><tr><th>10</th><td>0.0</td><td>10</td><td>0</td><td>0</td><td>1.00905</td><td>0</td><td>-99.9999</td><td>-1.1948e-5</td><td>0.0</td><td>-1.458e-5</td><td>0</td><td>0</td><td>-2.14214e-5</td><td>-9.38806e-6</td><td>0.020878</td><td>-99.9999</td><td>-8.35523e-6</td><td>-1.08766e-5</td><td>-2.59338e-6</td></tr><tr><th>11</th><td>0.0</td><td>11</td><td>0</td><td>0</td><td>1.02867</td><td>0</td><td>-99.9999</td><td>-3.9948e-6</td><td>0.0</td><td>-1.50543e-5</td><td>0</td><td>0</td><td>-4.7401e-5</td><td>-5.71073e-6</td><td>0.0188001</td><td>-99.9999</td><td>-2.79057e-6</td><td>-8.34627e-6</td><td>-5.67003e-6</td></tr><tr><th>12</th><td>0.0</td><td>12</td><td>0.8</td><td>0.123118</td><td>1.03787</td><td>0</td><td>-99.9999</td><td>-1.78169e-6</td><td>0.0</td><td>-1.51877e-5</td><td>-88.42</td><td>-3.30189e-6</td><td>-8.08371e-5</td><td>-4.89179e-6</td><td>0.0172062</td><td>-99.9999</td><td>-1.23996e-6</td><td>-2.78016e-6</td><td>-1.56447e-6</td></tr><tr><th>13</th><td>0.0</td><td>13</td><td>0</td><td>0</td><td>0.946901</td><td>0</td><td>-100.0</td><td>-0.000143532</td><td>0.0</td><td>-2.30165e-8</td><td>0</td><td>0</td><td>0.0</td><td>-6.20927e-5</td><td>0.0108927</td><td>-100.0</td><td>-1.1961e-6</td><td>-6.40651e-12</td><td>1.19611e-6</td></tr><tr><th>14</th><td>0.0</td><td>14</td><td>0</td><td>0</td><td>0.931799</td><td>0</td><td>-100.0</td><td>-0.000263481</td><td>0.0</td><td>-3.49059e-6</td><td>0</td><td>0</td><td>0.0</td><td>-0.000150305</td><td>0.00728316</td><td>-100.0</td><td>-0.000367084</td><td>-0.000199971</td><td>0.000167113</td></tr><tr><th>15</th><td>0.0</td><td>15</td><td>0</td><td>0</td><td>0.923057</td><td>0</td><td>-100.0</td><td>-0.000316239</td><td>0.0</td><td>-5.19685e-6</td><td>0</td><td>0</td><td>0.0</td><td>-0.000385657</td><td>0.00524191</td><td>-100.0</td><td>-0.000440607</td><td>-0.000367101</td><td>7.35063e-5</td></tr></tbody></table>"
      ],
      "text/latex": [
       "\\begin{tabular}{r|ccccccccccccccccccc}\n",
       "\t& objective & bus & gp & gq & voltage & alpha & lambda & pi & gamma & eta & delta\\_plus & delta\\_minus & mu\\_plus & mu\\_minus & voltvar & lambda\\_anc & rx\\_pi\\_i & rx\\_pi\\_a & r\\_sum\\_mu\\_d\\\\\n",
       "\t\\hline\n",
       "\t& Float64 & Any & Any & Any & Any & Any & Any & Any & Float64 & Any & Any & Any & Any & Any & Any & Any & Any & Any & Any\\\\\n",
       "\t\\hline\n",
       "\t1 & 431.923 & 1 & 3.8177 & 1.0676 & 1.0 & 1.0 & -100.0 & -7.68782e-10 & -31.6228 & 0 & 0 & 0 & 0 & 0 & 0 & 0 & 0 & 0 & 0 \\\\\n",
       "\t2 & 0.0 & 2 & 0 & 0 & 0.916252 & 0 & -100.0 & -0.000145897 & 0.0 & -1.5754e-8 & 0 & 0 & -3.26811e-6 & -0.000764702 & 0.00363129 & -100.0 & -1.21581e-6 & -6.40651e-12 & 1.1877e-6 \\\\\n",
       "\t3 & 0.0 & 3 & 0 & 0 & 0.950524 & 0 & -100.0 & -0.000106729 & 0.0 & -5.32418e-6 & 0 & 0 & -4.5928e-6 & -5.34742e-5 & 0.0117104 & -100.0 & -7.46768e-5 & -0.000102082 & -2.95957e-5 \\\\\n",
       "\t4 & 0.0 & 4 & 0 & 0 & 1.00189 & 0 & -99.9999 & -2.54546e-5 & 0.0 & -1.30342e-5 & 0 & 0 & -1.39688e-5 & -1.24571e-5 & 0.0211438 & -100.0 & -1.78105e-5 & -7.46783e-5 & -5.99181e-5 \\\\\n",
       "\t5 & 0.0 & 5 & 0 & 0 & 1.0105 & 0 & -99.9999 & -1.88947e-5 & 0.0 & -1.3443e-5 & 0 & 0 & -1.80855e-5 & -9.65875e-6 & 0.0212127 & -99.9999 & -1.32194e-5 & -1.78089e-5 & -4.72767e-6 \\\\\n",
       "\t6 & 0.0 & 6 & 0 & 0 & 1.01952 & 0 & -99.9999 & -1.32239e-5 & 0.0 & -1.37819e-5 & 0 & 0 & -2.39752e-5 & -7.56658e-6 & 0.0205562 & -99.9999 & -9.21983e-6 & -1.31736e-5 & -4.0367e-6 \\\\\n",
       "\t7 & 0.0 & 7 & 0.8 & -0.0477213 & 1.04946 & 0 & -99.9999 & -2.49905e-7 & 0.0 & -1.45891e-5 & -88.4176 & -2.06216e-6 & -0.000103338 & -4.4126e-6 & 0.0150349 & -99.9999 & -1.74825e-7 & -9.25095e-6 & -9.53643e-6 \\\\\n",
       "\t8 & 0.0 & 8 & 0 & 0 & 0.970333 & 0 & -99.9999 & -2.22249e-5 & 0.0 & -1.47582e-5 & 0 & 0 & -7.50706e-6 & -5.08665e-5 & 0.0177988 & -99.9999 & -1.55604e-5 & -1.08896e-5 & 4.53539e-6 \\\\\n",
       "\t9 & 0.0 & 9 & 0 & 0 & 1.00209 & 0 & -99.9999 & -1.55536e-5 & 0.0 & -1.43558e-5 & 0 & 0 & -1.67668e-5 & -1.18817e-5 & 0.0209381 & -99.9999 & -1.08768e-5 & -1.78007e-5 & -7.42324e-6 \\\\\n",
       "\t10 & 0.0 & 10 & 0 & 0 & 1.00905 & 0 & -99.9999 & -1.1948e-5 & 0.0 & -1.458e-5 & 0 & 0 & -2.14214e-5 & -9.38806e-6 & 0.020878 & -99.9999 & -8.35523e-6 & -1.08766e-5 & -2.59338e-6 \\\\\n",
       "\t11 & 0.0 & 11 & 0 & 0 & 1.02867 & 0 & -99.9999 & -3.9948e-6 & 0.0 & -1.50543e-5 & 0 & 0 & -4.7401e-5 & -5.71073e-6 & 0.0188001 & -99.9999 & -2.79057e-6 & -8.34627e-6 & -5.67003e-6 \\\\\n",
       "\t12 & 0.0 & 12 & 0.8 & 0.123118 & 1.03787 & 0 & -99.9999 & -1.78169e-6 & 0.0 & -1.51877e-5 & -88.42 & -3.30189e-6 & -8.08371e-5 & -4.89179e-6 & 0.0172062 & -99.9999 & -1.23996e-6 & -2.78016e-6 & -1.56447e-6 \\\\\n",
       "\t13 & 0.0 & 13 & 0 & 0 & 0.946901 & 0 & -100.0 & -0.000143532 & 0.0 & -2.30165e-8 & 0 & 0 & 0.0 & -6.20927e-5 & 0.0108927 & -100.0 & -1.1961e-6 & -6.40651e-12 & 1.19611e-6 \\\\\n",
       "\t14 & 0.0 & 14 & 0 & 0 & 0.931799 & 0 & -100.0 & -0.000263481 & 0.0 & -3.49059e-6 & 0 & 0 & 0.0 & -0.000150305 & 0.00728316 & -100.0 & -0.000367084 & -0.000199971 & 0.000167113 \\\\\n",
       "\t15 & 0.0 & 15 & 0 & 0 & 0.923057 & 0 & -100.0 & -0.000316239 & 0.0 & -5.19685e-6 & 0 & 0 & 0.0 & -0.000385657 & 0.00524191 & -100.0 & -0.000440607 & -0.000367101 & 7.35063e-5 \\\\\n",
       "\\end{tabular}\n"
      ],
      "text/plain": [
       "15×19 DataFrame. Omitted printing of 12 columns\n",
       "│ Row │ objective │ bus │ gp     │ gq         │ voltage  │ alpha │ lambda   │\n",
       "│     │ \u001b[90mFloat64\u001b[39m   │ \u001b[90mAny\u001b[39m │ \u001b[90mAny\u001b[39m    │ \u001b[90mAny\u001b[39m        │ \u001b[90mAny\u001b[39m      │ \u001b[90mAny\u001b[39m   │ \u001b[90mAny\u001b[39m      │\n",
       "├─────┼───────────┼─────┼────────┼────────────┼──────────┼───────┼──────────┤\n",
       "│ 1   │ 431.923   │ 1   │ 3.8177 │ 1.0676     │ 1.0      │ 1.0   │ -100.0   │\n",
       "│ 2   │ 0.0       │ 2   │ 0      │ 0          │ 0.916252 │ 0     │ -100.0   │\n",
       "│ 3   │ 0.0       │ 3   │ 0      │ 0          │ 0.950524 │ 0     │ -100.0   │\n",
       "│ 4   │ 0.0       │ 4   │ 0      │ 0          │ 1.00189  │ 0     │ -99.9999 │\n",
       "│ 5   │ 0.0       │ 5   │ 0      │ 0          │ 1.0105   │ 0     │ -99.9999 │\n",
       "│ 6   │ 0.0       │ 6   │ 0      │ 0          │ 1.01952  │ 0     │ -99.9999 │\n",
       "│ 7   │ 0.0       │ 7   │ 0.8    │ -0.0477213 │ 1.04946  │ 0     │ -99.9999 │\n",
       "│ 8   │ 0.0       │ 8   │ 0      │ 0          │ 0.970333 │ 0     │ -99.9999 │\n",
       "│ 9   │ 0.0       │ 9   │ 0      │ 0          │ 1.00209  │ 0     │ -99.9999 │\n",
       "│ 10  │ 0.0       │ 10  │ 0      │ 0          │ 1.00905  │ 0     │ -99.9999 │\n",
       "│ 11  │ 0.0       │ 11  │ 0      │ 0          │ 1.02867  │ 0     │ -99.9999 │\n",
       "│ 12  │ 0.0       │ 12  │ 0.8    │ 0.123118   │ 1.03787  │ 0     │ -99.9999 │\n",
       "│ 13  │ 0.0       │ 13  │ 0      │ 0          │ 0.946901 │ 0     │ -100.0   │\n",
       "│ 14  │ 0.0       │ 14  │ 0      │ 0          │ 0.931799 │ 0     │ -100.0   │\n",
       "│ 15  │ 0.0       │ 15  │ 0      │ 0          │ 0.923057 │ 0     │ -100.0   │"
      ]
     },
     "metadata": {},
     "output_type": "display_data"
    },
    {
     "name": "stdout",
     "output_type": "stream",
     "text": [
      ">>> Case gen_uncert"
     ]
    },
    {
     "data": {
      "text/html": [
       "<table class=\"data-frame\"><thead><tr><th></th><th>objective</th><th>bus</th><th>gp</th><th>gq</th><th>voltage</th><th>alpha</th><th>lambda</th><th>pi</th><th>gamma</th><th>eta</th><th>delta_plus</th><th>delta_minus</th><th>mu_plus</th><th>mu_minus</th><th>voltvar</th><th>lambda_anc</th><th>rx_pi_i</th><th>rx_pi_a</th><th>r_sum_mu_d</th></tr><tr><th></th><th>Float64</th><th>Any</th><th>Any</th><th>Any</th><th>Any</th><th>Any</th><th>Any</th><th>Any</th><th>Float64</th><th>Any</th><th>Any</th><th>Any</th><th>Any</th><th>Any</th><th>Any</th><th>Any</th><th>Any</th><th>Any</th><th>Any</th></tr></thead><tbody><p>15 rows × 19 columns</p><tr><th>1</th><td>431.923</td><td>1</td><td>3.8177</td><td>1.06751</td><td>1.0</td><td>1.0</td><td>-100.0</td><td>0.0</td><td>-31.6228</td><td>0</td><td>0</td><td>0</td><td>0</td><td>0</td><td>0</td><td>0</td><td>0</td><td>0</td><td>0</td></tr><tr><th>2</th><td>0.0</td><td>2</td><td>0</td><td>0</td><td>0.916265</td><td>0</td><td>-100.0</td><td>-1.46431e-5</td><td>0.0</td><td>0</td><td>0</td><td>0</td><td>-5.19691e-7</td><td>-7.75417e-5</td><td>0</td><td>-100.0</td><td>-1.22026e-7</td><td>0.0</td><td>1.22026e-7</td></tr><tr><th>3</th><td>0.0</td><td>3</td><td>0</td><td>0</td><td>0.950548</td><td>0</td><td>-100.0</td><td>-1.06024e-5</td><td>0.0</td><td>0</td><td>0</td><td>0</td><td>-6.95592e-7</td><td>-3.72078e-6</td><td>0</td><td>-100.0</td><td>-7.41829e-6</td><td>-1.02455e-5</td><td>-2.82723e-6</td></tr><tr><th>4</th><td>0.0</td><td>4</td><td>0</td><td>0</td><td>1.00193</td><td>0</td><td>-100.0</td><td>-3.07235e-6</td><td>0.0</td><td>0</td><td>0</td><td>0</td><td>-1.49108e-6</td><td>-9.49878e-7</td><td>0</td><td>-100.0</td><td>-2.14971e-6</td><td>-7.41843e-6</td><td>-5.26872e-6</td></tr><tr><th>5</th><td>0.0</td><td>5</td><td>0</td><td>0</td><td>1.01167</td><td>0</td><td>-100.0</td><td>-2.38737e-6</td><td>0.0</td><td>0</td><td>0</td><td>0</td><td>-1.87868e-6</td><td>-8.13124e-7</td><td>0</td><td>-100.0</td><td>-1.67029e-6</td><td>-2.14952e-6</td><td>-4.79231e-7</td></tr><tr><th>6</th><td>0.0</td><td>6</td><td>0</td><td>0</td><td>1.02172</td><td>0</td><td>-100.0</td><td>-1.81109e-6</td><td>0.0</td><td>0</td><td>0</td><td>0</td><td>-2.49437e-6</td><td>-7.01822e-7</td><td>0</td><td>-100.0</td><td>-1.26271e-6</td><td>-1.6645e-6</td><td>-4.01791e-7</td></tr><tr><th>7</th><td>0.0</td><td>7</td><td>0.8</td><td>-0.00573882</td><td>1.05434</td><td>0</td><td>-100.0</td><td>-4.76193e-7</td><td>0.0</td><td>0</td><td>-88.4189</td><td>-3.44537e-7</td><td>-1.01621e-5</td><td>-4.74925e-7</td><td>0</td><td>-100.0</td><td>-3.33128e-7</td><td>-1.26698e-6</td><td>-9.33847e-7</td></tr><tr><th>8</th><td>0.0</td><td>8</td><td>0</td><td>0</td><td>0.96786</td><td>0</td><td>-100.0</td><td>-2.67144e-6</td><td>0.0</td><td>0</td><td>0</td><td>0</td><td>-0.0</td><td>-1.95064e-6</td><td>0</td><td>-100.0</td><td>-1.87037e-6</td><td>-1.66633e-6</td><td>2.04037e-7</td></tr><tr><th>9</th><td>0.0</td><td>9</td><td>0</td><td>0</td><td>0.999696</td><td>0</td><td>-100.0</td><td>-2.38002e-6</td><td>0.0</td><td>0</td><td>0</td><td>0</td><td>-1.41964e-6</td><td>-0.0</td><td>0</td><td>-100.0</td><td>-1.66437e-6</td><td>-2.14853e-6</td><td>-4.84157e-7</td></tr><tr><th>10</th><td>0.0</td><td>10</td><td>0</td><td>0</td><td>1.00608</td><td>0</td><td>-100.0</td><td>-2.19472e-6</td><td>0.0</td><td>0</td><td>0</td><td>0</td><td>-1.6635e-6</td><td>-8.67001e-7</td><td>0</td><td>-100.0</td><td>-1.53477e-6</td><td>-1.66435e-6</td><td>-1.29578e-7</td></tr><tr><th>11</th><td>0.0</td><td>11</td><td>0</td><td>0</td><td>1.02434</td><td>0</td><td>-100.0</td><td>-1.80264e-6</td><td>0.0</td><td>0</td><td>0</td><td>0</td><td>-2.88856e-6</td><td>-6.40486e-7</td><td>0</td><td>-100.0</td><td>-1.25923e-6</td><td>-1.53312e-6</td><td>-2.73891e-7</td></tr><tr><th>12</th><td>0.0</td><td>12</td><td>0.8</td><td>0.0812299</td><td>1.03298</td><td>0</td><td>-100.0</td><td>-1.70098e-6</td><td>0.0</td><td>0</td><td>-88.4188</td><td>-3.40115e-7</td><td>-4.0002e-6</td><td>-5.6589e-7</td><td>0</td><td>-100.0</td><td>-1.18379e-6</td><td>-1.25454e-6</td><td>-7.07468e-8</td></tr><tr><th>13</th><td>0.0</td><td>13</td><td>0</td><td>0</td><td>0.946901</td><td>0</td><td>-100.0</td><td>0.0</td><td>0.0</td><td>0</td><td>0</td><td>0</td><td>-0.0</td><td>-0.0</td><td>0</td><td>-100.0</td><td>0.0</td><td>0.0</td><td>0.0</td></tr><tr><th>14</th><td>0.0</td><td>14</td><td>0</td><td>0</td><td>0.931799</td><td>0</td><td>-100.0</td><td>0.0</td><td>0.0</td><td>0</td><td>0</td><td>0</td><td>-0.0</td><td>-0.0</td><td>0</td><td>-100.0</td><td>0.0</td><td>0.0</td><td>0.0</td></tr><tr><th>15</th><td>0.0</td><td>15</td><td>0</td><td>0</td><td>0.923057</td><td>0</td><td>-100.0</td><td>0.0</td><td>0.0</td><td>0</td><td>0</td><td>0</td><td>-0.0</td><td>-0.0</td><td>0</td><td>-100.0</td><td>0.0</td><td>0.0</td><td>0.0</td></tr></tbody></table>"
      ],
      "text/latex": [
       "\\begin{tabular}{r|ccccccccccccccccccc}\n",
       "\t& objective & bus & gp & gq & voltage & alpha & lambda & pi & gamma & eta & delta\\_plus & delta\\_minus & mu\\_plus & mu\\_minus & voltvar & lambda\\_anc & rx\\_pi\\_i & rx\\_pi\\_a & r\\_sum\\_mu\\_d\\\\\n",
       "\t\\hline\n",
       "\t& Float64 & Any & Any & Any & Any & Any & Any & Any & Float64 & Any & Any & Any & Any & Any & Any & Any & Any & Any & Any\\\\\n",
       "\t\\hline\n",
       "\t1 & 431.923 & 1 & 3.8177 & 1.06751 & 1.0 & 1.0 & -100.0 & 0.0 & -31.6228 & 0 & 0 & 0 & 0 & 0 & 0 & 0 & 0 & 0 & 0 \\\\\n",
       "\t2 & 0.0 & 2 & 0 & 0 & 0.916265 & 0 & -100.0 & -1.46431e-5 & 0.0 & 0 & 0 & 0 & -5.19691e-7 & -7.75417e-5 & 0 & -100.0 & -1.22026e-7 & 0.0 & 1.22026e-7 \\\\\n",
       "\t3 & 0.0 & 3 & 0 & 0 & 0.950548 & 0 & -100.0 & -1.06024e-5 & 0.0 & 0 & 0 & 0 & -6.95592e-7 & -3.72078e-6 & 0 & -100.0 & -7.41829e-6 & -1.02455e-5 & -2.82723e-6 \\\\\n",
       "\t4 & 0.0 & 4 & 0 & 0 & 1.00193 & 0 & -100.0 & -3.07235e-6 & 0.0 & 0 & 0 & 0 & -1.49108e-6 & -9.49878e-7 & 0 & -100.0 & -2.14971e-6 & -7.41843e-6 & -5.26872e-6 \\\\\n",
       "\t5 & 0.0 & 5 & 0 & 0 & 1.01167 & 0 & -100.0 & -2.38737e-6 & 0.0 & 0 & 0 & 0 & -1.87868e-6 & -8.13124e-7 & 0 & -100.0 & -1.67029e-6 & -2.14952e-6 & -4.79231e-7 \\\\\n",
       "\t6 & 0.0 & 6 & 0 & 0 & 1.02172 & 0 & -100.0 & -1.81109e-6 & 0.0 & 0 & 0 & 0 & -2.49437e-6 & -7.01822e-7 & 0 & -100.0 & -1.26271e-6 & -1.6645e-6 & -4.01791e-7 \\\\\n",
       "\t7 & 0.0 & 7 & 0.8 & -0.00573882 & 1.05434 & 0 & -100.0 & -4.76193e-7 & 0.0 & 0 & -88.4189 & -3.44537e-7 & -1.01621e-5 & -4.74925e-7 & 0 & -100.0 & -3.33128e-7 & -1.26698e-6 & -9.33847e-7 \\\\\n",
       "\t8 & 0.0 & 8 & 0 & 0 & 0.96786 & 0 & -100.0 & -2.67144e-6 & 0.0 & 0 & 0 & 0 & -0.0 & -1.95064e-6 & 0 & -100.0 & -1.87037e-6 & -1.66633e-6 & 2.04037e-7 \\\\\n",
       "\t9 & 0.0 & 9 & 0 & 0 & 0.999696 & 0 & -100.0 & -2.38002e-6 & 0.0 & 0 & 0 & 0 & -1.41964e-6 & -0.0 & 0 & -100.0 & -1.66437e-6 & -2.14853e-6 & -4.84157e-7 \\\\\n",
       "\t10 & 0.0 & 10 & 0 & 0 & 1.00608 & 0 & -100.0 & -2.19472e-6 & 0.0 & 0 & 0 & 0 & -1.6635e-6 & -8.67001e-7 & 0 & -100.0 & -1.53477e-6 & -1.66435e-6 & -1.29578e-7 \\\\\n",
       "\t11 & 0.0 & 11 & 0 & 0 & 1.02434 & 0 & -100.0 & -1.80264e-6 & 0.0 & 0 & 0 & 0 & -2.88856e-6 & -6.40486e-7 & 0 & -100.0 & -1.25923e-6 & -1.53312e-6 & -2.73891e-7 \\\\\n",
       "\t12 & 0.0 & 12 & 0.8 & 0.0812299 & 1.03298 & 0 & -100.0 & -1.70098e-6 & 0.0 & 0 & -88.4188 & -3.40115e-7 & -4.0002e-6 & -5.6589e-7 & 0 & -100.0 & -1.18379e-6 & -1.25454e-6 & -7.07468e-8 \\\\\n",
       "\t13 & 0.0 & 13 & 0 & 0 & 0.946901 & 0 & -100.0 & 0.0 & 0.0 & 0 & 0 & 0 & -0.0 & -0.0 & 0 & -100.0 & 0.0 & 0.0 & 0.0 \\\\\n",
       "\t14 & 0.0 & 14 & 0 & 0 & 0.931799 & 0 & -100.0 & 0.0 & 0.0 & 0 & 0 & 0 & -0.0 & -0.0 & 0 & -100.0 & 0.0 & 0.0 & 0.0 \\\\\n",
       "\t15 & 0.0 & 15 & 0 & 0 & 0.923057 & 0 & -100.0 & 0.0 & 0.0 & 0 & 0 & 0 & -0.0 & -0.0 & 0 & -100.0 & 0.0 & 0.0 & 0.0 \\\\\n",
       "\\end{tabular}\n"
      ],
      "text/plain": [
       "15×19 DataFrame. Omitted printing of 12 columns\n",
       "│ Row │ objective │ bus │ gp     │ gq          │ voltage  │ alpha │ lambda │\n",
       "│     │ \u001b[90mFloat64\u001b[39m   │ \u001b[90mAny\u001b[39m │ \u001b[90mAny\u001b[39m    │ \u001b[90mAny\u001b[39m         │ \u001b[90mAny\u001b[39m      │ \u001b[90mAny\u001b[39m   │ \u001b[90mAny\u001b[39m    │\n",
       "├─────┼───────────┼─────┼────────┼─────────────┼──────────┼───────┼────────┤\n",
       "│ 1   │ 431.923   │ 1   │ 3.8177 │ 1.06751     │ 1.0      │ 1.0   │ -100.0 │\n",
       "│ 2   │ 0.0       │ 2   │ 0      │ 0           │ 0.916265 │ 0     │ -100.0 │\n",
       "│ 3   │ 0.0       │ 3   │ 0      │ 0           │ 0.950548 │ 0     │ -100.0 │\n",
       "│ 4   │ 0.0       │ 4   │ 0      │ 0           │ 1.00193  │ 0     │ -100.0 │\n",
       "│ 5   │ 0.0       │ 5   │ 0      │ 0           │ 1.01167  │ 0     │ -100.0 │\n",
       "│ 6   │ 0.0       │ 6   │ 0      │ 0           │ 1.02172  │ 0     │ -100.0 │\n",
       "│ 7   │ 0.0       │ 7   │ 0.8    │ -0.00573882 │ 1.05434  │ 0     │ -100.0 │\n",
       "│ 8   │ 0.0       │ 8   │ 0      │ 0           │ 0.96786  │ 0     │ -100.0 │\n",
       "│ 9   │ 0.0       │ 9   │ 0      │ 0           │ 0.999696 │ 0     │ -100.0 │\n",
       "│ 10  │ 0.0       │ 10  │ 0      │ 0           │ 1.00608  │ 0     │ -100.0 │\n",
       "│ 11  │ 0.0       │ 11  │ 0      │ 0           │ 1.02434  │ 0     │ -100.0 │\n",
       "│ 12  │ 0.0       │ 12  │ 0.8    │ 0.0812299   │ 1.03298  │ 0     │ -100.0 │\n",
       "│ 13  │ 0.0       │ 13  │ 0      │ 0           │ 0.946901 │ 0     │ -100.0 │\n",
       "│ 14  │ 0.0       │ 14  │ 0      │ 0           │ 0.931799 │ 0     │ -100.0 │\n",
       "│ 15  │ 0.0       │ 15  │ 0      │ 0           │ 0.923057 │ 0     │ -100.0 │"
      ]
     },
     "metadata": {},
     "output_type": "display_data"
    },
    {
     "name": "stdout",
     "output_type": "stream",
     "text": [
      ">>> Case no_uncert"
     ]
    },
    {
     "data": {
      "text/html": [
       "<table class=\"data-frame\"><thead><tr><th></th><th>objective</th><th>bus</th><th>gp</th><th>gq</th><th>voltage</th><th>alpha</th><th>lambda</th><th>pi</th><th>gamma</th><th>eta</th><th>delta_plus</th><th>delta_minus</th><th>mu_plus</th><th>mu_minus</th><th>voltvar</th><th>lambda_anc</th><th>rx_pi_i</th><th>rx_pi_a</th><th>r_sum_mu_d</th></tr><tr><th></th><th>Float64</th><th>Any</th><th>Any</th><th>Any</th><th>Any</th><th>Any</th><th>Any</th><th>Any</th><th>Float64</th><th>Any</th><th>Any</th><th>Any</th><th>Any</th><th>Any</th><th>Any</th><th>Any</th><th>Any</th><th>Any</th><th>Any</th></tr></thead><tbody><p>15 rows × 19 columns</p><tr><th>1</th><td>399.29</td><td>1</td><td>3.8177</td><td>1.07126</td><td>1.0</td><td>0</td><td>-100.0</td><td>0.0</td><td>0.0</td><td>0</td><td>0</td><td>0</td><td>0</td><td>0</td><td>0</td><td>0</td><td>0</td><td>0</td><td>0</td></tr><tr><th>2</th><td>0.0</td><td>2</td><td>0</td><td>0</td><td>0.915774</td><td>0</td><td>-100.0</td><td>-7.20018e-6</td><td>0.0</td><td>0</td><td>0</td><td>0</td><td>-0.0</td><td>-3.84094e-5</td><td>0</td><td>-100.0</td><td>-6.00015e-8</td><td>0.0</td><td>6.00015e-8</td></tr><tr><th>3</th><td>0.0</td><td>3</td><td>0</td><td>0</td><td>0.949578</td><td>0</td><td>-100.0</td><td>-5.07783e-6</td><td>0.0</td><td>0</td><td>0</td><td>0</td><td>-2.51789e-7</td><td>-1.51122e-6</td><td>0</td><td>-100.0</td><td>-3.55287e-6</td><td>-5.03784e-6</td><td>-1.48497e-6</td></tr><tr><th>4</th><td>0.0</td><td>4</td><td>0</td><td>0</td><td>1.00027</td><td>0</td><td>-100.0</td><td>-1.25314e-6</td><td>0.0</td><td>0</td><td>0</td><td>0</td><td>-6.13942e-7</td><td>-0.0</td><td>0</td><td>-100.0</td><td>-8.76815e-7</td><td>-3.55294e-6</td><td>-2.67613e-6</td></tr><tr><th>5</th><td>0.0</td><td>5</td><td>0</td><td>0</td><td>1.01009</td><td>0</td><td>-100.0</td><td>-9.36669e-7</td><td>0.0</td><td>0</td><td>0</td><td>0</td><td>-7.81308e-7</td><td>-3.25326e-7</td><td>0</td><td>-100.0</td><td>-6.55326e-7</td><td>-8.76736e-7</td><td>-2.21411e-7</td></tr><tr><th>6</th><td>0.0</td><td>6</td><td>0</td><td>0</td><td>1.02022</td><td>0</td><td>-100.0</td><td>-6.68596e-7</td><td>0.0</td><td>0</td><td>0</td><td>0</td><td>-1.05106e-6</td><td>-2.82462e-7</td><td>0</td><td>-100.0</td><td>-4.66152e-7</td><td>-6.53056e-7</td><td>-1.86904e-7</td></tr><tr><th>7</th><td>0.0</td><td>7</td><td>0.8</td><td>-0.00323173</td><td>1.05305</td><td>0</td><td>-100.0</td><td>-3.86404e-8</td><td>0.0</td><td>0</td><td>-89.0495</td><td>-8.43607e-8</td><td>-4.76745e-6</td><td>-1.9593e-7</td><td>0</td><td>-100.0</td><td>-2.70315e-8</td><td>-4.67726e-7</td><td>-4.40694e-7</td></tr><tr><th>8</th><td>0.0</td><td>8</td><td>0</td><td>0</td><td>0.965763</td><td>0</td><td>-100.0</td><td>-9.90414e-7</td><td>0.0</td><td>0</td><td>0</td><td>0</td><td>-0.0</td><td>-7.79882e-7</td><td>0</td><td>-100.0</td><td>-6.93422e-7</td><td>-6.11847e-7</td><td>8.15756e-8</td></tr><tr><th>9</th><td>0.0</td><td>9</td><td>0</td><td>0</td><td>0.997666</td><td>0</td><td>-100.0</td><td>-8.739e-7</td><td>0.0</td><td>0</td><td>0</td><td>0</td><td>-6.07748e-7</td><td>-0.0</td><td>0</td><td>-100.0</td><td>-6.11129e-7</td><td>-8.76334e-7</td><td>-2.65205e-7</td></tr><tr><th>10</th><td>0.0</td><td>10</td><td>0</td><td>0</td><td>1.00397</td><td>0</td><td>-100.0</td><td>-7.75796e-7</td><td>0.0</td><td>0</td><td>0</td><td>0</td><td>-7.21969e-7</td><td>-0.0</td><td>0</td><td>-100.0</td><td>-5.42515e-7</td><td>-6.11119e-7</td><td>-6.86036e-8</td></tr><tr><th>11</th><td>0.0</td><td>11</td><td>0</td><td>0</td><td>1.02206</td><td>0</td><td>-100.0</td><td>-5.8893e-7</td><td>0.0</td><td>0</td><td>0</td><td>0</td><td>-1.31529e-6</td><td>-2.56024e-7</td><td>0</td><td>-100.0</td><td>-4.11397e-7</td><td>-5.41933e-7</td><td>-1.30536e-7</td></tr><tr><th>12</th><td>0.0</td><td>12</td><td>0.8</td><td>0.0749762</td><td>1.03063</td><td>0</td><td>-100.0</td><td>-5.40121e-7</td><td>0.0</td><td>0</td><td>-89.05</td><td>-8.50901e-8</td><td>-1.8779e-6</td><td>-2.28947e-7</td><td>0</td><td>-100.0</td><td>-3.75895e-7</td><td>-4.09863e-7</td><td>-3.39683e-8</td></tr><tr><th>13</th><td>0.0</td><td>13</td><td>0</td><td>0</td><td>0.946901</td><td>0</td><td>-100.0</td><td>0.0</td><td>0.0</td><td>0</td><td>0</td><td>0</td><td>-0.0</td><td>-0.0</td><td>0</td><td>-100.0</td><td>0.0</td><td>0.0</td><td>0.0</td></tr><tr><th>14</th><td>0.0</td><td>14</td><td>0</td><td>0</td><td>0.931799</td><td>0</td><td>-100.0</td><td>0.0</td><td>0.0</td><td>0</td><td>0</td><td>0</td><td>-0.0</td><td>-0.0</td><td>0</td><td>-100.0</td><td>0.0</td><td>0.0</td><td>0.0</td></tr><tr><th>15</th><td>0.0</td><td>15</td><td>0</td><td>0</td><td>0.923057</td><td>0</td><td>-100.0</td><td>0.0</td><td>0.0</td><td>0</td><td>0</td><td>0</td><td>-0.0</td><td>-0.0</td><td>0</td><td>-100.0</td><td>0.0</td><td>0.0</td><td>0.0</td></tr></tbody></table>"
      ],
      "text/latex": [
       "\\begin{tabular}{r|ccccccccccccccccccc}\n",
       "\t& objective & bus & gp & gq & voltage & alpha & lambda & pi & gamma & eta & delta\\_plus & delta\\_minus & mu\\_plus & mu\\_minus & voltvar & lambda\\_anc & rx\\_pi\\_i & rx\\_pi\\_a & r\\_sum\\_mu\\_d\\\\\n",
       "\t\\hline\n",
       "\t& Float64 & Any & Any & Any & Any & Any & Any & Any & Float64 & Any & Any & Any & Any & Any & Any & Any & Any & Any & Any\\\\\n",
       "\t\\hline\n",
       "\t1 & 399.29 & 1 & 3.8177 & 1.07126 & 1.0 & 0 & -100.0 & 0.0 & 0.0 & 0 & 0 & 0 & 0 & 0 & 0 & 0 & 0 & 0 & 0 \\\\\n",
       "\t2 & 0.0 & 2 & 0 & 0 & 0.915774 & 0 & -100.0 & -7.20018e-6 & 0.0 & 0 & 0 & 0 & -0.0 & -3.84094e-5 & 0 & -100.0 & -6.00015e-8 & 0.0 & 6.00015e-8 \\\\\n",
       "\t3 & 0.0 & 3 & 0 & 0 & 0.949578 & 0 & -100.0 & -5.07783e-6 & 0.0 & 0 & 0 & 0 & -2.51789e-7 & -1.51122e-6 & 0 & -100.0 & -3.55287e-6 & -5.03784e-6 & -1.48497e-6 \\\\\n",
       "\t4 & 0.0 & 4 & 0 & 0 & 1.00027 & 0 & -100.0 & -1.25314e-6 & 0.0 & 0 & 0 & 0 & -6.13942e-7 & -0.0 & 0 & -100.0 & -8.76815e-7 & -3.55294e-6 & -2.67613e-6 \\\\\n",
       "\t5 & 0.0 & 5 & 0 & 0 & 1.01009 & 0 & -100.0 & -9.36669e-7 & 0.0 & 0 & 0 & 0 & -7.81308e-7 & -3.25326e-7 & 0 & -100.0 & -6.55326e-7 & -8.76736e-7 & -2.21411e-7 \\\\\n",
       "\t6 & 0.0 & 6 & 0 & 0 & 1.02022 & 0 & -100.0 & -6.68596e-7 & 0.0 & 0 & 0 & 0 & -1.05106e-6 & -2.82462e-7 & 0 & -100.0 & -4.66152e-7 & -6.53056e-7 & -1.86904e-7 \\\\\n",
       "\t7 & 0.0 & 7 & 0.8 & -0.00323173 & 1.05305 & 0 & -100.0 & -3.86404e-8 & 0.0 & 0 & -89.0495 & -8.43607e-8 & -4.76745e-6 & -1.9593e-7 & 0 & -100.0 & -2.70315e-8 & -4.67726e-7 & -4.40694e-7 \\\\\n",
       "\t8 & 0.0 & 8 & 0 & 0 & 0.965763 & 0 & -100.0 & -9.90414e-7 & 0.0 & 0 & 0 & 0 & -0.0 & -7.79882e-7 & 0 & -100.0 & -6.93422e-7 & -6.11847e-7 & 8.15756e-8 \\\\\n",
       "\t9 & 0.0 & 9 & 0 & 0 & 0.997666 & 0 & -100.0 & -8.739e-7 & 0.0 & 0 & 0 & 0 & -6.07748e-7 & -0.0 & 0 & -100.0 & -6.11129e-7 & -8.76334e-7 & -2.65205e-7 \\\\\n",
       "\t10 & 0.0 & 10 & 0 & 0 & 1.00397 & 0 & -100.0 & -7.75796e-7 & 0.0 & 0 & 0 & 0 & -7.21969e-7 & -0.0 & 0 & -100.0 & -5.42515e-7 & -6.11119e-7 & -6.86036e-8 \\\\\n",
       "\t11 & 0.0 & 11 & 0 & 0 & 1.02206 & 0 & -100.0 & -5.8893e-7 & 0.0 & 0 & 0 & 0 & -1.31529e-6 & -2.56024e-7 & 0 & -100.0 & -4.11397e-7 & -5.41933e-7 & -1.30536e-7 \\\\\n",
       "\t12 & 0.0 & 12 & 0.8 & 0.0749762 & 1.03063 & 0 & -100.0 & -5.40121e-7 & 0.0 & 0 & -89.05 & -8.50901e-8 & -1.8779e-6 & -2.28947e-7 & 0 & -100.0 & -3.75895e-7 & -4.09863e-7 & -3.39683e-8 \\\\\n",
       "\t13 & 0.0 & 13 & 0 & 0 & 0.946901 & 0 & -100.0 & 0.0 & 0.0 & 0 & 0 & 0 & -0.0 & -0.0 & 0 & -100.0 & 0.0 & 0.0 & 0.0 \\\\\n",
       "\t14 & 0.0 & 14 & 0 & 0 & 0.931799 & 0 & -100.0 & 0.0 & 0.0 & 0 & 0 & 0 & -0.0 & -0.0 & 0 & -100.0 & 0.0 & 0.0 & 0.0 \\\\\n",
       "\t15 & 0.0 & 15 & 0 & 0 & 0.923057 & 0 & -100.0 & 0.0 & 0.0 & 0 & 0 & 0 & -0.0 & -0.0 & 0 & -100.0 & 0.0 & 0.0 & 0.0 \\\\\n",
       "\\end{tabular}\n"
      ],
      "text/plain": [
       "15×19 DataFrame. Omitted printing of 12 columns\n",
       "│ Row │ objective │ bus │ gp     │ gq          │ voltage  │ alpha │ lambda │\n",
       "│     │ \u001b[90mFloat64\u001b[39m   │ \u001b[90mAny\u001b[39m │ \u001b[90mAny\u001b[39m    │ \u001b[90mAny\u001b[39m         │ \u001b[90mAny\u001b[39m      │ \u001b[90mAny\u001b[39m   │ \u001b[90mAny\u001b[39m    │\n",
       "├─────┼───────────┼─────┼────────┼─────────────┼──────────┼───────┼────────┤\n",
       "│ 1   │ 399.29    │ 1   │ 3.8177 │ 1.07126     │ 1.0      │ 0     │ -100.0 │\n",
       "│ 2   │ 0.0       │ 2   │ 0      │ 0           │ 0.915774 │ 0     │ -100.0 │\n",
       "│ 3   │ 0.0       │ 3   │ 0      │ 0           │ 0.949578 │ 0     │ -100.0 │\n",
       "│ 4   │ 0.0       │ 4   │ 0      │ 0           │ 1.00027  │ 0     │ -100.0 │\n",
       "│ 5   │ 0.0       │ 5   │ 0      │ 0           │ 1.01009  │ 0     │ -100.0 │\n",
       "│ 6   │ 0.0       │ 6   │ 0      │ 0           │ 1.02022  │ 0     │ -100.0 │\n",
       "│ 7   │ 0.0       │ 7   │ 0.8    │ -0.00323173 │ 1.05305  │ 0     │ -100.0 │\n",
       "│ 8   │ 0.0       │ 8   │ 0      │ 0           │ 0.965763 │ 0     │ -100.0 │\n",
       "│ 9   │ 0.0       │ 9   │ 0      │ 0           │ 0.997666 │ 0     │ -100.0 │\n",
       "│ 10  │ 0.0       │ 10  │ 0      │ 0           │ 1.00397  │ 0     │ -100.0 │\n",
       "│ 11  │ 0.0       │ 11  │ 0      │ 0           │ 1.02206  │ 0     │ -100.0 │\n",
       "│ 12  │ 0.0       │ 12  │ 0.8    │ 0.0749762   │ 1.03063  │ 0     │ -100.0 │\n",
       "│ 13  │ 0.0       │ 13  │ 0      │ 0           │ 0.946901 │ 0     │ -100.0 │\n",
       "│ 14  │ 0.0       │ 14  │ 0      │ 0           │ 0.931799 │ 0     │ -100.0 │\n",
       "│ 15  │ 0.0       │ 15  │ 0      │ 0           │ 0.923057 │ 0     │ -100.0 │"
      ]
     },
     "metadata": {},
     "output_type": "display_data"
    }
   ],
   "source": [
    "experiment3 = Dict()\n",
    "\n",
    "# Load feeder data \n",
    "feeder = load_feeder(\"data/feeder_data/basecase_noneg/\")\n",
    "\n",
    "# Set up\n",
    "relative_std = 0.2\n",
    "loads = [b.d_P for b in feeder.buses]\n",
    "std_vec = loads .* relative_std\n",
    "var_vec = std_vec.^2\n",
    "Σ = diagm(0 => var_vec)\n",
    "\n",
    "# ex3_general_settings\n",
    "ex3_general_settings = Dict(\n",
    "    \"var_vec\" => var_vec,\n",
    "    \"Σ\" => Σ,\n",
    "    \"z_g\" => 1.945,\n",
    "    \"z_v\" => 2.576,\n",
    "    \"toggle_volt_cc\" => false,\n",
    "    \"toggle_gen_cc\" => false,\n",
    "    \"vfac\" => 0, # decrease upper bound by factor (1-vfac) and increase lower bound by (1+vfac)\n",
    "    \"qcfac\" => 1,\n",
    "    \"output_level\" => 0,\n",
    "    \"Ψ\" => 0,\n",
    "    \"loadfac\" => 3\n",
    ")\n",
    "\n",
    "# ex3_no_uncert:\n",
    "ex3_no_uncert_settings = copy(ex3_general_settings)\n",
    "ex3_no_uncert_settings[\"toggle_volt_cc\"] = false\n",
    "ex3_no_uncert_settings[\"toggle_gen_cc\"] = false\n",
    "\n",
    "experiment3[\"no_uncert\"] = Dict(\n",
    "    \"verbose\" => \"ex3_no_uncert\",\n",
    "    \"feeder\" => feeder,\n",
    "    \"settings\" => ex3_no_uncert_settings,\n",
    ")\n",
    "\n",
    "# ex3_uncert:\n",
    "ex3_uncert_settings = copy(ex3_general_settings)\n",
    "ex3_uncert_settings[\"toggle_volt_cc\"] = true\n",
    "ex3_uncert_settings[\"toggle_gen_cc\"] = true\n",
    "experiment3[\"uncert\"] = Dict(\n",
    "    \"verbose\" => \"ex3_uncert\",\n",
    "    \"feeder\" => feeder,\n",
    "    \"settings\" => ex3_uncert_settings,\n",
    ")\n",
    "\n",
    "# ex3_gen_uncert:\n",
    "ex3_uncert_settings = copy(ex3_general_settings)\n",
    "ex3_uncert_settings[\"toggle_volt_cc\"] = false\n",
    "ex3_uncert_settings[\"toggle_gen_cc\"] = true\n",
    "experiment3[\"gen_uncert\"] = Dict(\n",
    "    \"verbose\" => \"ex3_gen_uncert\",\n",
    "    \"feeder\" => feeder,\n",
    "    \"settings\" => ex3_uncert_settings,\n",
    ")\n",
    "\n",
    "# Run \n",
    "experiment3 = run_experiment(experiment3)\n",
    "\n",
    "# Show results\n",
    "sleep(.2) # just to ensure correct printing order\n",
    "for case in keys(experiment3)\n",
    "    print(\">>> Case $case\")\n",
    "    sleep(.2)\n",
    "    display(experiment3[case][\"results\"])\n",
    "end"
   ]
  },
  {
   "cell_type": "markdown",
   "metadata": {},
   "source": [
    "## Experiment 4\n",
    "\n",
    "- Instead of uncertain load uncontrollable vs. controllable DERs\n",
    "- Maybe better in the 33-bus system?"
   ]
  },
  {
   "cell_type": "code",
   "execution_count": null,
   "metadata": {},
   "outputs": [],
   "source": []
  },
  {
   "cell_type": "markdown",
   "metadata": {},
   "source": [
    "## Prototyping Space"
   ]
  },
  {
   "cell_type": "code",
   "execution_count": 5,
   "metadata": {},
   "outputs": [
    {
     "data": {
      "text/html": [
       "<table class=\"data-frame\"><thead><tr><th></th><th>objective</th><th>bus</th><th>gp</th><th>gq</th><th>voltage</th><th>alpha</th><th>lambda</th><th>pi</th><th>gamma</th><th>eta</th><th>delta_plus</th><th>delta_minus</th><th>mu_plus</th><th>mu_minus</th><th>voltvar</th><th>lambda_anc</th><th>rx_pi_i</th><th>rx_pi_a</th><th>r_sum_mu_d</th><th>eta_calc</th></tr><tr><th></th><th>Float64</th><th>Any</th><th>Any</th><th>Any</th><th>Any</th><th>Any</th><th>Any</th><th>Any</th><th>Float64</th><th>Any</th><th>Any</th><th>Any</th><th>Any</th><th>Any</th><th>Any</th><th>Any</th><th>Any</th><th>Any</th><th>Any</th><th>Any</th></tr></thead><tbody><p>15 rows × 20 columns</p><tr><th>1</th><td>42.1519</td><td>1</td><td>-0.0653151</td><td>0.933284</td><td>1.0</td><td>0.895129</td><td>-50.0</td><td>-3.34394e-9</td><td>-31.6735</td><td>0</td><td>0</td><td>0</td><td>0</td><td>0</td><td>0</td><td>0</td><td>0</td><td>0</td><td>0</td><td>0</td></tr><tr><th>2</th><td>0.0</td><td>2</td><td>0</td><td>0</td><td>0.900334</td><td>0</td><td>-50.137</td><td>-16.4401</td><td>0.0</td><td>-0.0512537</td><td>0</td><td>0</td><td>-7.25317e-8</td><td>-91.1244</td><td>0.000116804</td><td>-50.0</td><td>-0.137001</td><td>-2.78662e-11</td><td>0.137001</td><td>-0.352195</td></tr><tr><th>3</th><td>0.0</td><td>3</td><td>0</td><td>0</td><td>0.960447</td><td>0</td><td>-46.1416</td><td>-10.7297</td><td>0.0</td><td>-0.0596395</td><td>0</td><td>0</td><td>-1.34272e-7</td><td>-7.07984e-7</td><td>0.0139108</td><td>-50.137</td><td>-7.5074</td><td>-11.5028</td><td>-3.99543</td><td>-6.53764</td></tr><tr><th>4</th><td>0.0</td><td>4</td><td>0</td><td>0</td><td>1.04775</td><td>0</td><td>-39.8792</td><td>-1.7796</td><td>0.0</td><td>-0.0727832</td><td>0</td><td>0</td><td>-8.1725e-7</td><td>-1.40745e-7</td><td>0.0151213</td><td>-46.1416</td><td>-1.24518</td><td>-7.50755</td><td>-6.26237</td><td>-16.2326</td></tr><tr><th>5</th><td>0.0</td><td>5</td><td>0</td><td>0</td><td>1.05393</td><td>0</td><td>-39.599</td><td>-1.37908</td><td>0.0</td><td>-0.0729688</td><td>0</td><td>0</td><td>-1.00029e-6</td><td>-1.2926e-7</td><td>0.0138768</td><td>-39.8792</td><td>-0.96485</td><td>-1.24507</td><td>-0.280217</td><td>-16.6664</td></tr><tr><th>6</th><td>0.0</td><td>6</td><td>0</td><td>0</td><td>1.05993</td><td>0</td><td>-39.3422</td><td>-1.01084</td><td>0.0</td><td>-0.0731388</td><td>0</td><td>0</td><td>-1.28435e-6</td><td>-1.19442e-7</td><td>0.0126278</td><td>-39.599</td><td>-0.704766</td><td>-0.961509</td><td>-0.256743</td><td>-17.0639</td></tr><tr><th>7</th><td>0.0</td><td>7</td><td>0.753981</td><td>-0.224743</td><td>1.0781</td><td>0.0393694</td><td>-38.6351</td><td>-1.166e-7</td><td>0.0</td><td>-0.0736071</td><td>-27.0216</td><td>-4.12736e-8</td><td>-7.33553</td><td>-9.70597e-8</td><td>0.00925916</td><td>-39.3422</td><td>-8.15695e-8</td><td>-0.707145</td><td>-0.707145</td><td>-18.1587</td></tr><tr><th>8</th><td>0.0</td><td>8</td><td>0</td><td>0</td><td>1.06984</td><td>0</td><td>-37.0355</td><td>-2.28412</td><td>0.0</td><td>-0.0807118</td><td>0</td><td>0</td><td>-15.2886</td><td>-1.08976e-7</td><td>0.0127008</td><td>-38.6347</td><td>-1.59919</td><td>-1.66564e-7</td><td>-1.59919</td><td>-20.635</td></tr><tr><th>9</th><td>0.0</td><td>9</td><td>0</td><td>0</td><td>1.06031</td><td>0</td><td>-38.6347</td><td>-2.37903e-7</td><td>0.0</td><td>-0.0762531</td><td>0</td><td>0</td><td>-1.49742e-6</td><td>-1.19298e-7</td><td>0.0131609</td><td>-39.8792</td><td>-1.66369e-7</td><td>-1.2445</td><td>-1.2445</td><td>-18.1593</td></tr><tr><th>10</th><td>0.0</td><td>10</td><td>0</td><td>0</td><td>1.06184</td><td>0</td><td>-38.6347</td><td>-4.82992e-8</td><td>0.0</td><td>-0.0762531</td><td>0</td><td>0</td><td>-1.63767e-6</td><td>-1.16955e-7</td><td>0.0128837</td><td>-38.6347</td><td>-3.37757e-8</td><td>-1.66366e-7</td><td>-1.34105e-7</td><td>-18.1593</td></tr><tr><th>11</th><td>0.0</td><td>11</td><td>0</td><td>0</td><td>1.0665</td><td>0</td><td>-38.6347</td><td>-3.05962e-7</td><td>0.0</td><td>-0.0762531</td><td>0</td><td>0</td><td>-2.33849e-6</td><td>-1.10408e-7</td><td>0.0120634</td><td>-38.6347</td><td>-2.1373e-7</td><td>-3.37394e-8</td><td>-2.49893e-7</td><td>-18.1593</td></tr><tr><th>12</th><td>0.0</td><td>12</td><td>0.723434</td><td>-0.327542</td><td>1.06877</td><td>0.0655016</td><td>-38.6347</td><td>-3.92729e-7</td><td>0.0</td><td>-0.0762531</td><td>-27.0866</td><td>-4.16814e-8</td><td>-3.06394e-6</td><td>-1.07508e-7</td><td>0.0116838</td><td>-38.6347</td><td>-2.73318e-7</td><td>-2.12933e-7</td><td>-6.09025e-8</td><td>-18.1593</td></tr><tr><th>13</th><td>0.0</td><td>13</td><td>0</td><td>0</td><td>0.982619</td><td>0</td><td>-50.0</td><td>-4.28119e-7</td><td>0.0</td><td>-7.82205e-11</td><td>0</td><td>0</td><td>0.0</td><td>-5.58159e-7</td><td>0.0197306</td><td>-50.0</td><td>-3.56766e-9</td><td>-2.78662e-11</td><td>3.53979e-9</td><td>-5.48006e-9</td></tr><tr><th>14</th><td>0.0</td><td>14</td><td>0</td><td>0</td><td>0.977795</td><td>0</td><td>-50.0</td><td>-6.99306e-7</td><td>0.0</td><td>-1.21322e-8</td><td>0</td><td>0</td><td>0.0</td><td>-5.94295e-7</td><td>0.0185307</td><td>-50.0</td><td>-9.74279e-7</td><td>-5.96459e-7</td><td>3.7782e-7</td><td>-5.90394e-7</td></tr><tr><th>15</th><td>0.0</td><td>15</td><td>0</td><td>0</td><td>0.975027</td><td>0</td><td>-50.0</td><td>-7.83772e-7</td><td>0.0</td><td>-1.22781e-8</td><td>0</td><td>0</td><td>0.0</td><td>-6.17442e-7</td><td>0.01785</td><td>-50.0</td><td>-1.09201e-6</td><td>-9.74325e-7</td><td>1.17684e-7</td><td>-7.72585e-7</td></tr></tbody></table>"
      ],
      "text/latex": [
       "\\begin{tabular}{r|cccccccccccccccccccc}\n",
       "\t& objective & bus & gp & gq & voltage & alpha & lambda & pi & gamma & eta & delta\\_plus & delta\\_minus & mu\\_plus & mu\\_minus & voltvar & lambda\\_anc & rx\\_pi\\_i & rx\\_pi\\_a & r\\_sum\\_mu\\_d & eta\\_calc\\\\\n",
       "\t\\hline\n",
       "\t& Float64 & Any & Any & Any & Any & Any & Any & Any & Float64 & Any & Any & Any & Any & Any & Any & Any & Any & Any & Any & Any\\\\\n",
       "\t\\hline\n",
       "\t1 & 42.1519 & 1 & -0.0653151 & 0.933284 & 1.0 & 0.895129 & -50.0 & -3.34394e-9 & -31.6735 & 0 & 0 & 0 & 0 & 0 & 0 & 0 & 0 & 0 & 0 & 0 \\\\\n",
       "\t2 & 0.0 & 2 & 0 & 0 & 0.900334 & 0 & -50.137 & -16.4401 & 0.0 & -0.0512537 & 0 & 0 & -7.25317e-8 & -91.1244 & 0.000116804 & -50.0 & -0.137001 & -2.78662e-11 & 0.137001 & -0.352195 \\\\\n",
       "\t3 & 0.0 & 3 & 0 & 0 & 0.960447 & 0 & -46.1416 & -10.7297 & 0.0 & -0.0596395 & 0 & 0 & -1.34272e-7 & -7.07984e-7 & 0.0139108 & -50.137 & -7.5074 & -11.5028 & -3.99543 & -6.53764 \\\\\n",
       "\t4 & 0.0 & 4 & 0 & 0 & 1.04775 & 0 & -39.8792 & -1.7796 & 0.0 & -0.0727832 & 0 & 0 & -8.1725e-7 & -1.40745e-7 & 0.0151213 & -46.1416 & -1.24518 & -7.50755 & -6.26237 & -16.2326 \\\\\n",
       "\t5 & 0.0 & 5 & 0 & 0 & 1.05393 & 0 & -39.599 & -1.37908 & 0.0 & -0.0729688 & 0 & 0 & -1.00029e-6 & -1.2926e-7 & 0.0138768 & -39.8792 & -0.96485 & -1.24507 & -0.280217 & -16.6664 \\\\\n",
       "\t6 & 0.0 & 6 & 0 & 0 & 1.05993 & 0 & -39.3422 & -1.01084 & 0.0 & -0.0731388 & 0 & 0 & -1.28435e-6 & -1.19442e-7 & 0.0126278 & -39.599 & -0.704766 & -0.961509 & -0.256743 & -17.0639 \\\\\n",
       "\t7 & 0.0 & 7 & 0.753981 & -0.224743 & 1.0781 & 0.0393694 & -38.6351 & -1.166e-7 & 0.0 & -0.0736071 & -27.0216 & -4.12736e-8 & -7.33553 & -9.70597e-8 & 0.00925916 & -39.3422 & -8.15695e-8 & -0.707145 & -0.707145 & -18.1587 \\\\\n",
       "\t8 & 0.0 & 8 & 0 & 0 & 1.06984 & 0 & -37.0355 & -2.28412 & 0.0 & -0.0807118 & 0 & 0 & -15.2886 & -1.08976e-7 & 0.0127008 & -38.6347 & -1.59919 & -1.66564e-7 & -1.59919 & -20.635 \\\\\n",
       "\t9 & 0.0 & 9 & 0 & 0 & 1.06031 & 0 & -38.6347 & -2.37903e-7 & 0.0 & -0.0762531 & 0 & 0 & -1.49742e-6 & -1.19298e-7 & 0.0131609 & -39.8792 & -1.66369e-7 & -1.2445 & -1.2445 & -18.1593 \\\\\n",
       "\t10 & 0.0 & 10 & 0 & 0 & 1.06184 & 0 & -38.6347 & -4.82992e-8 & 0.0 & -0.0762531 & 0 & 0 & -1.63767e-6 & -1.16955e-7 & 0.0128837 & -38.6347 & -3.37757e-8 & -1.66366e-7 & -1.34105e-7 & -18.1593 \\\\\n",
       "\t11 & 0.0 & 11 & 0 & 0 & 1.0665 & 0 & -38.6347 & -3.05962e-7 & 0.0 & -0.0762531 & 0 & 0 & -2.33849e-6 & -1.10408e-7 & 0.0120634 & -38.6347 & -2.1373e-7 & -3.37394e-8 & -2.49893e-7 & -18.1593 \\\\\n",
       "\t12 & 0.0 & 12 & 0.723434 & -0.327542 & 1.06877 & 0.0655016 & -38.6347 & -3.92729e-7 & 0.0 & -0.0762531 & -27.0866 & -4.16814e-8 & -3.06394e-6 & -1.07508e-7 & 0.0116838 & -38.6347 & -2.73318e-7 & -2.12933e-7 & -6.09025e-8 & -18.1593 \\\\\n",
       "\t13 & 0.0 & 13 & 0 & 0 & 0.982619 & 0 & -50.0 & -4.28119e-7 & 0.0 & -7.82205e-11 & 0 & 0 & 0.0 & -5.58159e-7 & 0.0197306 & -50.0 & -3.56766e-9 & -2.78662e-11 & 3.53979e-9 & -5.48006e-9 \\\\\n",
       "\t14 & 0.0 & 14 & 0 & 0 & 0.977795 & 0 & -50.0 & -6.99306e-7 & 0.0 & -1.21322e-8 & 0 & 0 & 0.0 & -5.94295e-7 & 0.0185307 & -50.0 & -9.74279e-7 & -5.96459e-7 & 3.7782e-7 & -5.90394e-7 \\\\\n",
       "\t15 & 0.0 & 15 & 0 & 0 & 0.975027 & 0 & -50.0 & -7.83772e-7 & 0.0 & -1.22781e-8 & 0 & 0 & 0.0 & -6.17442e-7 & 0.01785 & -50.0 & -1.09201e-6 & -9.74325e-7 & 1.17684e-7 & -7.72585e-7 \\\\\n",
       "\\end{tabular}\n"
      ],
      "text/plain": [
       "15×20 DataFrame. Omitted printing of 14 columns\n",
       "│ Row │ objective │ bus │ gp         │ gq        │ voltage  │ alpha     │\n",
       "│     │ \u001b[90mFloat64\u001b[39m   │ \u001b[90mAny\u001b[39m │ \u001b[90mAny\u001b[39m        │ \u001b[90mAny\u001b[39m       │ \u001b[90mAny\u001b[39m      │ \u001b[90mAny\u001b[39m       │\n",
       "├─────┼───────────┼─────┼────────────┼───────────┼──────────┼───────────┤\n",
       "│ 1   │ 42.1519   │ 1   │ -0.0653151 │ 0.933284  │ 1.0      │ 0.895129  │\n",
       "│ 2   │ 0.0       │ 2   │ 0          │ 0         │ 0.900334 │ 0         │\n",
       "│ 3   │ 0.0       │ 3   │ 0          │ 0         │ 0.960447 │ 0         │\n",
       "│ 4   │ 0.0       │ 4   │ 0          │ 0         │ 1.04775  │ 0         │\n",
       "│ 5   │ 0.0       │ 5   │ 0          │ 0         │ 1.05393  │ 0         │\n",
       "│ 6   │ 0.0       │ 6   │ 0          │ 0         │ 1.05993  │ 0         │\n",
       "│ 7   │ 0.0       │ 7   │ 0.753981   │ -0.224743 │ 1.0781   │ 0.0393694 │\n",
       "│ 8   │ 0.0       │ 8   │ 0          │ 0         │ 1.06984  │ 0         │\n",
       "│ 9   │ 0.0       │ 9   │ 0          │ 0         │ 1.06031  │ 0         │\n",
       "│ 10  │ 0.0       │ 10  │ 0          │ 0         │ 1.06184  │ 0         │\n",
       "│ 11  │ 0.0       │ 11  │ 0          │ 0         │ 1.0665   │ 0         │\n",
       "│ 12  │ 0.0       │ 12  │ 0.723434   │ -0.327542 │ 1.06877  │ 0.0655016 │\n",
       "│ 13  │ 0.0       │ 13  │ 0          │ 0         │ 0.982619 │ 0         │\n",
       "│ 14  │ 0.0       │ 14  │ 0          │ 0         │ 0.977795 │ 0         │\n",
       "│ 15  │ 0.0       │ 15  │ 0          │ 0         │ 0.975027 │ 0         │"
      ]
     },
     "execution_count": 5,
     "metadata": {},
     "output_type": "execute_result"
    }
   ],
   "source": [
    "res = experiment2[\"uncert\"][\"results\"]"
   ]
  },
  {
   "cell_type": "code",
   "execution_count": 1,
   "metadata": {},
   "outputs": [
    {
     "data": {
      "text/plain": [
       "0.025"
      ]
     },
     "execution_count": 1,
     "metadata": {},
     "output_type": "execute_result"
    }
   ],
   "source": [
    "0.0005*50"
   ]
  },
  {
   "cell_type": "code",
   "execution_count": null,
   "metadata": {},
   "outputs": [],
   "source": []
  }
 ],
 "metadata": {
  "hide_code_all_hidden": false,
  "kernelspec": {
   "display_name": "Julia 1.1.0",
   "language": "julia",
   "name": "julia-1.1"
  },
  "language_info": {
   "file_extension": ".jl",
   "mimetype": "application/julia",
   "name": "julia",
   "version": "1.1.0"
  },
  "varInspector": {
   "cols": {
    "lenName": 16,
    "lenType": 16,
    "lenVar": 40
   },
   "kernels_config": {
    "python": {
     "delete_cmd_postfix": "",
     "delete_cmd_prefix": "del ",
     "library": "var_list.py",
     "varRefreshCmd": "print(var_dic_list())"
    },
    "r": {
     "delete_cmd_postfix": ") ",
     "delete_cmd_prefix": "rm(",
     "library": "var_list.r",
     "varRefreshCmd": "cat(var_dic_list()) "
    }
   },
   "types_to_exclude": [
    "module",
    "function",
    "builtin_function_or_method",
    "instance",
    "_Feature"
   ],
   "window_display": false
  }
 },
 "nbformat": 4,
 "nbformat_minor": 2
}
