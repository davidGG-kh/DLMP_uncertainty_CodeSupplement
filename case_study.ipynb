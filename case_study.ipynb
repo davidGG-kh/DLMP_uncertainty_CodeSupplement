{
 "cells": [
  {
   "cell_type": "markdown",
   "metadata": {},
   "source": [
    "# Case Study Model\n",
    "\n",
    "## General Remarks\n",
    "\n",
    "- Reverse Power Flow / Cost at substation\n",
    "    - If the negative generation limit at the substation is not enforced, then substation has the option of pushing energy back towards the transmission system (reverse power flow)\n",
    "    - We make the follwoing assumptions: \n",
    "        - reverse power flow is allowed at the substation \n",
    "        - for scheduled negative active power the substation is remunerated according to the market price (i.e. linear cost of energy provision at the substation) -> the substation has a linear cost function \n",
    "        - While the cost function will not have a quadratic termn, THERE WILL BE a penalty on $\\alpha_0$ as it indicates how much the substation is willing to deviate from the schedule\n",
    "\n",
    "\n",
    "## Notes and Todos:\n",
    "\n",
    "- Verify the gamma decomposition\n",
    "- Maybe check if 33bus gives nice/better results?\n",
    " \n",
    " \n",
    "Done:   \n",
    "- decide for a case! (combination of voltage limits and generators). Notes:\n",
    "    - should there be an equal lambda case?\n",
    "    - should the DERs be fully utilized in the deterministic case?\n",
    "    - [Done]: Choosen Ex2 as set up\n",
    "- put results handling in a function [done]\n",
    "- remove unneccsray packages (e.g. gurobi from tomls) [done, but check on the \"remains\"]\n",
    "- Remove quadratic term from substation [done]"
   ]
  },
  {
   "cell_type": "code",
   "execution_count": 1,
   "metadata": {},
   "outputs": [
    {
     "data": {
      "text/html": [
       "<style>.container { width:80% !important; }</style>"
      ]
     },
     "metadata": {},
     "output_type": "display_data"
    }
   ],
   "source": [
    "# IJulia.qtconsole();\n",
    "\n",
    "# set width of notbook \n",
    "display(\"text/html\", \"<style>.container { width:80% !important; }</style>\")"
   ]
  },
  {
   "cell_type": "code",
   "execution_count": 143,
   "metadata": {
    "hideCode": false,
    "hidePrompt": false
   },
   "outputs": [
    {
     "data": {
      "text/plain": [
       "results_to_df (generic function with 1 method)"
      ]
     },
     "execution_count": 143,
     "metadata": {},
     "output_type": "execute_result"
    }
   ],
   "source": [
    "# Set up environment from .toml-files\n",
    "import Pkg\n",
    "Pkg.activate(\".\")\n",
    "# Pkg.instantiate()\n",
    "\n",
    "# Load necessary packages\n",
    "using DataFrames, CSV, LinearAlgebra, Dates # Basic Julia utility\n",
    "using JLD, HDF5\n",
    "using JuMP # Modeling Framework\n",
    "using Mosek, MosekTools # Solver and Solver-Environment\n",
    "using Logging # For some warnings in the functions\n",
    "\n",
    "# Load functions and model\n",
    "include(\"src/tools.jl\") # Some additional functions\n",
    "include(\"src/input.jl\") # Type definitions and read-in functions\n",
    "include(\"src/model_definition.jl\") # Model definiton\n",
    "include(\"src/output.jl\") # Postprocessing of solved model"
   ]
  },
  {
   "cell_type": "markdown",
   "metadata": {},
   "source": [
    "# 15Bus Case\n",
    "\n",
    "- 15 bus case from Papavasilou paper\n",
    "    - negative load is positive load\n",
    "    - no line constraints\n",
    "    - voltage at root is 1 p.u.\n",
    "    \n",
    "- Assumptions for all cases except mentioned differently\n",
    "    - Two DERs one each at node 6 and 11 with `c1 = 10`, `c2 = 5`, `p_max = 1`, `q_max = 0.5`\n",
    "    - No reverse power flow limit on substation\n",
    "    - Substation pays `c1 = 50` for energy provision from the transmission network (no quadratic term) and a penalty of `200` on alpha to discourage high alpha"
   ]
  },
  {
   "cell_type": "markdown",
   "metadata": {},
   "source": [
    "## Experiment 5\n",
    "\n",
    "Same as Experiment 2 but with extended constraints (thermal for now)"
   ]
  },
  {
   "cell_type": "code",
   "execution_count": 61,
   "metadata": {},
   "outputs": [
    {
     "name": "stdout",
     "output_type": "stream",
     "text": [
      ">>>>> Reading feeder data from data/feeder_data/basecase_noneg/\n",
      "Running uncert\n",
      ">>>> Building Model\n",
      ">>>> Running Model\n",
      "MOSEK warning 705: #3 (nearly) zero elements are specified in sparse row ''(86) of matrix 'A'.\n",
      "MOSEK warning 705: #4 (nearly) zero elements are specified in sparse row ''(92) of matrix 'A'.\n",
      ">>>> Model finished with status OPTIMAL in 0.020127179 seconds\n",
      ">>>> Post-Processing\n",
      "\n",
      "Running gen_uncert\n",
      ">>>> Building Model\n",
      ">>>> Running Model\n",
      ">>>> Model finished with status OPTIMAL in 0.008015395 seconds\n",
      ">>>> Post-Processing\n",
      "\n",
      "Running no_uncert\n",
      ">>>> Building Model\n",
      ">>>> Running Model\n",
      ">>>> Model finished with status OPTIMAL in 0.025528058 seconds\n",
      ">>>> Post-Processing\n",
      "\n",
      ">>> Case uncert"
     ]
    },
    {
     "data": {
      "text/html": [
       "<table class=\"data-frame\"><thead><tr><th></th><th>objective</th><th>bus</th><th>gp</th><th>gq</th><th>voltage</th><th>fp</th><th>fq</th><th>alpha</th><th>lambda</th><th>pi</th><th>gamma</th><th>rho</th><th>eta</th><th>delta_plus</th><th>delta_minus</th><th>mu_plus</th><th>mu_minus</th><th>voltvar</th><th>lambda_anc</th><th>rx_pi_i</th><th>rx_pi_a</th><th>r_sum_mu_d</th><th>eta_calc</th></tr><tr><th></th><th>Float64</th><th>Any</th><th>Any</th><th>Any</th><th>Any</th><th>Any</th><th>Any</th><th>Any</th><th>Any</th><th>Any</th><th>Float64</th><th>Any</th><th>Any</th><th>Any</th><th>Any</th><th>Any</th><th>Any</th><th>Any</th><th>Any</th><th>Any</th><th>Any</th><th>Any</th><th>Any</th></tr></thead><tbody><p>15 rows × 23 columns</p><tr><th>1</th><td>87.2497</td><td>1</td><td>1.1833</td><td>0.3237</td><td>1.0</td><td>0</td><td>0</td><td>0.804262</td><td>-50.0</td><td>-6.91862e-8</td><td>-31.6204</td><td>0</td><td>0</td><td>0</td><td>0</td><td>0</td><td>0</td><td>0</td><td>0</td><td>0</td><td>0</td><td>0</td><td>0</td></tr><tr><th>2</th><td>0.0</td><td>2</td><td>0</td><td>0</td><td>0.976936</td><td>-0.0</td><td>-0.0</td><td>0</td><td>-50.0</td><td>-2.56748e-5</td><td>0.0</td><td>0.000901998</td><td>-2.73358e-8</td><td>0</td><td>0</td><td>-4.22673e-6</td><td>-1.28482e-5</td><td>0.0173874</td><td>-50.0</td><td>-2.13957e-7</td><td>-5.76552e-10</td><td>-2.27155e-7</td><td>-7.12928e-7</td></tr><tr><th>3</th><td>0.0</td><td>3</td><td>0</td><td>0</td><td>0.999807</td><td>0.5376</td><td>0.1855</td><td>0</td><td>-17.273</td><td>-8.7675</td><td>0.0</td><td>0.00953208</td><td>-2.43844e-6</td><td>0</td><td>0</td><td>-6.29109e-6</td><td>-8.54218e-6</td><td>0.0205741</td><td>-50.0</td><td>-6.13447</td><td>-1.79642e-5</td><td>-2.15803e-5</td><td>-5.89962e-5</td></tr><tr><th>4</th><td>0.0</td><td>4</td><td>0</td><td>0</td><td>1.03464</td><td>-0.256</td><td>1.08112e-7</td><td>0</td><td>-15.4536</td><td>-7.74441e-6</td><td>0.0</td><td>0.0230587</td><td>-6.14523e-6</td><td>0</td><td>0</td><td>-1.33399e-5</td><td>-4.58436e-6</td><td>0.0179232</td><td>-17.273</td><td>-5.41874e-6</td><td>-6.13459</td><td>-3.44478e-5</td><td>-0.000143992</td></tr><tr><th>5</th><td>0.0</td><td>5</td><td>0</td><td>0</td><td>1.03631</td><td>-0.256</td><td>1.08112e-7</td><td>0</td><td>-15.4536</td><td>-5.28285e-6</td><td>0.0</td><td>0.0230587</td><td>-6.26235e-6</td><td>0</td><td>0</td><td>-1.39036e-5</td><td>-4.41911e-6</td><td>0.0176355</td><td>-15.4536</td><td>-3.69606e-6</td><td>-5.41825e-6</td><td>-1.29318e-6</td><td>-0.000147459</td></tr><tr><th>6</th><td>0.0</td><td>6</td><td>0</td><td>0</td><td>1.03823</td><td>-0.0459445</td><td>-0.0311242</td><td>0</td><td>-15.4536</td><td>-4.12382e-6</td><td>0.0</td><td>0.0230587</td><td>-6.33796e-6</td><td>0</td><td>0</td><td>-1.45944e-5</td><td>-4.24663e-6</td><td>0.0172843</td><td>-15.4536</td><td>-2.87517e-6</td><td>-3.68326e-6</td><td>-8.52897e-7</td><td>-0.000149643</td></tr><tr><th>7</th><td>0.0</td><td>7</td><td>0.114245</td><td>0.0482242</td><td>1.04533</td><td>-0.0632445</td><td>-0.0354242</td><td>0.0977359</td><td>-15.4536</td><td>-3.69754e-7</td><td>0.0</td><td>0.0230587</td><td>-6.45472e-6</td><td>-1.31518e-6</td><td>-27.0348</td><td>-1.774e-5</td><td>-3.71932e-6</td><td>0.0158956</td><td>-15.4536</td><td>-2.58667e-7</td><td>-2.88488e-6</td><td>-1.35159e-6</td><td>-0.000152845</td></tr><tr><th>8</th><td>0.0</td><td>8</td><td>0</td><td>0</td><td>1.05208</td><td>-0.0923445</td><td>-0.0427242</td><td>0</td><td>-15.4536</td><td>-1.12339e-6</td><td>0.0</td><td>0.0321482</td><td>-7.29057e-6</td><td>0</td><td>0</td><td>-3.11552e-5</td><td>-3.647e-6</td><td>0.016132</td><td>-15.4536</td><td>-7.86525e-7</td><td>-2.09083e-6</td><td>-2.87736e-6</td><td>-0.000164977</td></tr><tr><th>9</th><td>0.0</td><td>9</td><td>0</td><td>0</td><td>1.04238</td><td>-0.1969</td><td>0.0019</td><td>0</td><td>-15.4536</td><td>-2.98633e-6</td><td>0.0</td><td>0.0270366</td><td>-6.91446e-6</td><td>0</td><td>0</td><td>-1.71109e-5</td><td>-4.14316e-6</td><td>0.0171313</td><td>-15.4536</td><td>-2.08838e-6</td><td>-5.41577e-6</td><td>-6.66191e-6</td><td>-0.000159341</td></tr><tr><th>10</th><td>0.0</td><td>10</td><td>0</td><td>0</td><td>1.04272</td><td>-0.230155</td><td>0.0227243</td><td>0</td><td>-15.4536</td><td>-4.99624e-6</td><td>0.0</td><td>0.0270366</td><td>-7.0035e-6</td><td>0</td><td>0</td><td>-1.71895e-5</td><td>-4.13637e-6</td><td>0.0170697</td><td>-15.4536</td><td>-3.49387e-6</td><td>-2.08834e-6</td><td>-8.27315e-7</td><td>-0.000161376</td></tr><tr><th>11</th><td>0.0</td><td>11</td><td>0</td><td>0</td><td>1.04454</td><td>-0.0567555</td><td>0.0149243</td><td>0</td><td>-15.4536</td><td>-3.13095e-6</td><td>0.0</td><td>0.0270366</td><td>-7.15014e-6</td><td>0</td><td>0</td><td>-1.79256e-5</td><td>-4.05325e-6</td><td>0.01671</td><td>-15.4536</td><td>-2.18713e-6</td><td>-3.49012e-6</td><td>-1.36467e-6</td><td>-0.000164691</td></tr><tr><th>12</th><td>0.0</td><td>12</td><td>0.114555</td><td>0.0090757</td><td>1.04562</td><td>-0.0796555</td><td>0.000724304</td><td>0.0980019</td><td>-15.4536</td><td>-5.91466e-8</td><td>0.0</td><td>0.0270366</td><td>-7.18208e-6</td><td>-1.03314e-6</td><td>-27.0347</td><td>-1.84391e-5</td><td>-3.99883e-6</td><td>0.0164903</td><td>-15.4536</td><td>-4.11628e-8</td><td>-2.17897e-6</td><td>-2.9747e-7</td><td>-0.000165406</td></tr><tr><th>13</th><td>0.0</td><td>13</td><td>0</td><td>0</td><td>0.982619</td><td>-0.101355</td><td>-0.0057757</td><td>0</td><td>-50.0</td><td>-1.07801e-5</td><td>0.0</td><td>9.80019e-5</td><td>-9.17716e-11</td><td>0</td><td>0</td><td>0.0</td><td>-1.40737e-5</td><td>0.0199617</td><td>-50.0</td><td>-8.98346e-8</td><td>-5.76552e-10</td><td>8.9258e-8</td><td>-1.38183e-7</td></tr><tr><th>14</th><td>0.0</td><td>14</td><td>0</td><td>0</td><td>0.977795</td><td>0.6457</td><td>0.1382</td><td>0</td><td>-50.0</td><td>-1.76184e-5</td><td>0.0</td><td>9.80019e-5</td><td>-1.11432e-8</td><td>0</td><td>0</td><td>0.0</td><td>-1.49854e-5</td><td>0.0187473</td><td>-50.0</td><td>-2.45461e-5</td><td>-1.5019e-5</td><td>9.52714e-6</td><td>-1.48874e-5</td></tr><tr><th>15</th><td>0.0</td><td>15</td><td>0</td><td>0</td><td>0.975027</td><td>0.0238</td><td>0.0091</td><td>0</td><td>-50.0</td><td>-1.97484e-5</td><td>0.0</td><td>9.80019e-5</td><td>-1.46241e-8</td><td>0</td><td>0</td><td>0.0</td><td>-1.55698e-5</td><td>0.0180594</td><td>-50.0</td><td>-2.75149e-5</td><td>-2.45473e-5</td><td>2.96761e-6</td><td>-1.94817e-5</td></tr></tbody></table>"
      ],
      "text/latex": [
       "\\begin{tabular}{r|ccccccccccccccccccccccc}\n",
       "\t& objective & bus & gp & gq & voltage & fp & fq & alpha & lambda & pi & gamma & rho & eta & delta\\_plus & delta\\_minus & mu\\_plus & mu\\_minus & voltvar & lambda\\_anc & rx\\_pi\\_i & rx\\_pi\\_a & r\\_sum\\_mu\\_d & eta\\_calc\\\\\n",
       "\t\\hline\n",
       "\t& Float64 & Any & Any & Any & Any & Any & Any & Any & Any & Any & Float64 & Any & Any & Any & Any & Any & Any & Any & Any & Any & Any & Any & Any\\\\\n",
       "\t\\hline\n",
       "\t1 & 87.2497 & 1 & 1.1833 & 0.3237 & 1.0 & 0 & 0 & 0.804262 & -50.0 & -6.91862e-8 & -31.6204 & 0 & 0 & 0 & 0 & 0 & 0 & 0 & 0 & 0 & 0 & 0 & 0 \\\\\n",
       "\t2 & 0.0 & 2 & 0 & 0 & 0.976936 & -0.0 & -0.0 & 0 & -50.0 & -2.56748e-5 & 0.0 & 0.000901998 & -2.73358e-8 & 0 & 0 & -4.22673e-6 & -1.28482e-5 & 0.0173874 & -50.0 & -2.13957e-7 & -5.76552e-10 & -2.27155e-7 & -7.12928e-7 \\\\\n",
       "\t3 & 0.0 & 3 & 0 & 0 & 0.999807 & 0.5376 & 0.1855 & 0 & -17.273 & -8.7675 & 0.0 & 0.00953208 & -2.43844e-6 & 0 & 0 & -6.29109e-6 & -8.54218e-6 & 0.0205741 & -50.0 & -6.13447 & -1.79642e-5 & -2.15803e-5 & -5.89962e-5 \\\\\n",
       "\t4 & 0.0 & 4 & 0 & 0 & 1.03464 & -0.256 & 1.08112e-7 & 0 & -15.4536 & -7.74441e-6 & 0.0 & 0.0230587 & -6.14523e-6 & 0 & 0 & -1.33399e-5 & -4.58436e-6 & 0.0179232 & -17.273 & -5.41874e-6 & -6.13459 & -3.44478e-5 & -0.000143992 \\\\\n",
       "\t5 & 0.0 & 5 & 0 & 0 & 1.03631 & -0.256 & 1.08112e-7 & 0 & -15.4536 & -5.28285e-6 & 0.0 & 0.0230587 & -6.26235e-6 & 0 & 0 & -1.39036e-5 & -4.41911e-6 & 0.0176355 & -15.4536 & -3.69606e-6 & -5.41825e-6 & -1.29318e-6 & -0.000147459 \\\\\n",
       "\t6 & 0.0 & 6 & 0 & 0 & 1.03823 & -0.0459445 & -0.0311242 & 0 & -15.4536 & -4.12382e-6 & 0.0 & 0.0230587 & -6.33796e-6 & 0 & 0 & -1.45944e-5 & -4.24663e-6 & 0.0172843 & -15.4536 & -2.87517e-6 & -3.68326e-6 & -8.52897e-7 & -0.000149643 \\\\\n",
       "\t7 & 0.0 & 7 & 0.114245 & 0.0482242 & 1.04533 & -0.0632445 & -0.0354242 & 0.0977359 & -15.4536 & -3.69754e-7 & 0.0 & 0.0230587 & -6.45472e-6 & -1.31518e-6 & -27.0348 & -1.774e-5 & -3.71932e-6 & 0.0158956 & -15.4536 & -2.58667e-7 & -2.88488e-6 & -1.35159e-6 & -0.000152845 \\\\\n",
       "\t8 & 0.0 & 8 & 0 & 0 & 1.05208 & -0.0923445 & -0.0427242 & 0 & -15.4536 & -1.12339e-6 & 0.0 & 0.0321482 & -7.29057e-6 & 0 & 0 & -3.11552e-5 & -3.647e-6 & 0.016132 & -15.4536 & -7.86525e-7 & -2.09083e-6 & -2.87736e-6 & -0.000164977 \\\\\n",
       "\t9 & 0.0 & 9 & 0 & 0 & 1.04238 & -0.1969 & 0.0019 & 0 & -15.4536 & -2.98633e-6 & 0.0 & 0.0270366 & -6.91446e-6 & 0 & 0 & -1.71109e-5 & -4.14316e-6 & 0.0171313 & -15.4536 & -2.08838e-6 & -5.41577e-6 & -6.66191e-6 & -0.000159341 \\\\\n",
       "\t10 & 0.0 & 10 & 0 & 0 & 1.04272 & -0.230155 & 0.0227243 & 0 & -15.4536 & -4.99624e-6 & 0.0 & 0.0270366 & -7.0035e-6 & 0 & 0 & -1.71895e-5 & -4.13637e-6 & 0.0170697 & -15.4536 & -3.49387e-6 & -2.08834e-6 & -8.27315e-7 & -0.000161376 \\\\\n",
       "\t11 & 0.0 & 11 & 0 & 0 & 1.04454 & -0.0567555 & 0.0149243 & 0 & -15.4536 & -3.13095e-6 & 0.0 & 0.0270366 & -7.15014e-6 & 0 & 0 & -1.79256e-5 & -4.05325e-6 & 0.01671 & -15.4536 & -2.18713e-6 & -3.49012e-6 & -1.36467e-6 & -0.000164691 \\\\\n",
       "\t12 & 0.0 & 12 & 0.114555 & 0.0090757 & 1.04562 & -0.0796555 & 0.000724304 & 0.0980019 & -15.4536 & -5.91466e-8 & 0.0 & 0.0270366 & -7.18208e-6 & -1.03314e-6 & -27.0347 & -1.84391e-5 & -3.99883e-6 & 0.0164903 & -15.4536 & -4.11628e-8 & -2.17897e-6 & -2.9747e-7 & -0.000165406 \\\\\n",
       "\t13 & 0.0 & 13 & 0 & 0 & 0.982619 & -0.101355 & -0.0057757 & 0 & -50.0 & -1.07801e-5 & 0.0 & 9.80019e-5 & -9.17716e-11 & 0 & 0 & 0.0 & -1.40737e-5 & 0.0199617 & -50.0 & -8.98346e-8 & -5.76552e-10 & 8.9258e-8 & -1.38183e-7 \\\\\n",
       "\t14 & 0.0 & 14 & 0 & 0 & 0.977795 & 0.6457 & 0.1382 & 0 & -50.0 & -1.76184e-5 & 0.0 & 9.80019e-5 & -1.11432e-8 & 0 & 0 & 0.0 & -1.49854e-5 & 0.0187473 & -50.0 & -2.45461e-5 & -1.5019e-5 & 9.52714e-6 & -1.48874e-5 \\\\\n",
       "\t15 & 0.0 & 15 & 0 & 0 & 0.975027 & 0.0238 & 0.0091 & 0 & -50.0 & -1.97484e-5 & 0.0 & 9.80019e-5 & -1.46241e-8 & 0 & 0 & 0.0 & -1.55698e-5 & 0.0180594 & -50.0 & -2.75149e-5 & -2.45473e-5 & 2.96761e-6 & -1.94817e-5 \\\\\n",
       "\\end{tabular}\n"
      ],
      "text/plain": [
       "15×23 DataFrame. Omitted printing of 17 columns\n",
       "│ Row │ objective │ bus │ gp       │ gq        │ voltage  │ fp         │\n",
       "│     │ \u001b[90mFloat64\u001b[39m   │ \u001b[90mAny\u001b[39m │ \u001b[90mAny\u001b[39m      │ \u001b[90mAny\u001b[39m       │ \u001b[90mAny\u001b[39m      │ \u001b[90mAny\u001b[39m        │\n",
       "├─────┼───────────┼─────┼──────────┼───────────┼──────────┼────────────┤\n",
       "│ 1   │ 87.2497   │ 1   │ 1.1833   │ 0.3237    │ 1.0      │ 0          │\n",
       "│ 2   │ 0.0       │ 2   │ 0        │ 0         │ 0.976936 │ -0.0       │\n",
       "│ 3   │ 0.0       │ 3   │ 0        │ 0         │ 0.999807 │ 0.5376     │\n",
       "│ 4   │ 0.0       │ 4   │ 0        │ 0         │ 1.03464  │ -0.256     │\n",
       "│ 5   │ 0.0       │ 5   │ 0        │ 0         │ 1.03631  │ -0.256     │\n",
       "│ 6   │ 0.0       │ 6   │ 0        │ 0         │ 1.03823  │ -0.0459445 │\n",
       "│ 7   │ 0.0       │ 7   │ 0.114245 │ 0.0482242 │ 1.04533  │ -0.0632445 │\n",
       "│ 8   │ 0.0       │ 8   │ 0        │ 0         │ 1.05208  │ -0.0923445 │\n",
       "│ 9   │ 0.0       │ 9   │ 0        │ 0         │ 1.04238  │ -0.1969    │\n",
       "│ 10  │ 0.0       │ 10  │ 0        │ 0         │ 1.04272  │ -0.230155  │\n",
       "│ 11  │ 0.0       │ 11  │ 0        │ 0         │ 1.04454  │ -0.0567555 │\n",
       "│ 12  │ 0.0       │ 12  │ 0.114555 │ 0.0090757 │ 1.04562  │ -0.0796555 │\n",
       "│ 13  │ 0.0       │ 13  │ 0        │ 0         │ 0.982619 │ -0.101355  │\n",
       "│ 14  │ 0.0       │ 14  │ 0        │ 0         │ 0.977795 │ 0.6457     │\n",
       "│ 15  │ 0.0       │ 15  │ 0        │ 0         │ 0.975027 │ 0.0238     │"
      ]
     },
     "metadata": {},
     "output_type": "display_data"
    },
    {
     "name": "stdout",
     "output_type": "stream",
     "text": [
      ">>> Case gen_uncert"
     ]
    },
    {
     "data": {
      "text/html": [
       "<table class=\"data-frame\"><thead><tr><th></th><th>objective</th><th>bus</th><th>gp</th><th>gq</th><th>voltage</th><th>fp</th><th>fq</th><th>alpha</th><th>lambda</th><th>pi</th><th>gamma</th><th>rho</th><th>eta</th><th>delta_plus</th><th>delta_minus</th><th>mu_plus</th><th>mu_minus</th><th>voltvar</th><th>lambda_anc</th><th>rx_pi_i</th><th>rx_pi_a</th><th>r_sum_mu_d</th><th>eta_calc</th></tr><tr><th></th><th>Float64</th><th>Any</th><th>Any</th><th>Any</th><th>Any</th><th>Any</th><th>Any</th><th>Any</th><th>Any</th><th>Any</th><th>Float64</th><th>Any</th><th>Any</th><th>Any</th><th>Any</th><th>Any</th><th>Any</th><th>Any</th><th>Any</th><th>Any</th><th>Any</th><th>Any</th><th>Any</th></tr></thead><tbody><p>15 rows × 23 columns</p><tr><th>1</th><td>87.2497</td><td>1</td><td>1.1833</td><td>0.3237</td><td>1.0</td><td>0</td><td>0</td><td>0.804262</td><td>-50.0</td><td>-2.09325e-8</td><td>-31.6204</td><td>0</td><td>0</td><td>0</td><td>0</td><td>0</td><td>0</td><td>0</td><td>0</td><td>0</td><td>0</td><td>0</td><td>0</td></tr><tr><th>2</th><td>0.0</td><td>2</td><td>0</td><td>0</td><td>0.976936</td><td>0.5376</td><td>0.1855</td><td>0</td><td>-50.0</td><td>-2.04872e-6</td><td>0.0</td><td>0</td><td>0</td><td>0</td><td>0</td><td>-1.21123e-6</td><td>-2.29922e-6</td><td>0</td><td>-50.0</td><td>-1.70727e-8</td><td>-1.74438e-10</td><td>-1.72471e-8</td><td>0</td></tr><tr><th>3</th><td>0.0</td><td>3</td><td>0</td><td>0</td><td>0.999807</td><td>-0.256</td><td>-4.85054e-9</td><td>0</td><td>-17.2732</td><td>-8.76751</td><td>0.0</td><td>0</td><td>0</td><td>0</td><td>0</td><td>-1.51743e-6</td><td>-1.81489e-6</td><td>0</td><td>-50.0</td><td>-6.13448</td><td>-1.43345e-6</td><td>-1.71506e-6</td><td>0</td></tr><tr><th>4</th><td>0.0</td><td>4</td><td>0</td><td>0</td><td>1.03464</td><td>-0.256</td><td>-4.85054e-9</td><td>0</td><td>-15.4536</td><td>-8.7742e-7</td><td>0.0</td><td>0</td><td>0</td><td>0</td><td>0</td><td>-2.25493e-6</td><td>-1.38053e-6</td><td>0</td><td>-17.2732</td><td>-6.13928e-7</td><td>-6.1346</td><td>-2.77049e-6</td><td>0</td></tr><tr><th>5</th><td>0.0</td><td>5</td><td>0</td><td>0</td><td>1.03568</td><td>-0.0459906</td><td>-0.00737375</td><td>0</td><td>-15.4536</td><td>-6.54951e-7</td><td>0.0</td><td>0</td><td>0</td><td>0</td><td>0</td><td>-2.2954e-6</td><td>-1.36379e-6</td><td>0</td><td>-15.4536</td><td>-4.58226e-7</td><td>-6.13873e-7</td><td>-1.23797e-7</td><td>0</td></tr><tr><th>6</th><td>0.0</td><td>6</td><td>0</td><td>0</td><td>1.03703</td><td>-0.0632906</td><td>-0.0116738</td><td>0</td><td>-15.4536</td><td>-5.39032e-7</td><td>0.0</td><td>0</td><td>0</td><td>0</td><td>0</td><td>-2.34755e-6</td><td>-1.34435e-6</td><td>0</td><td>-15.4536</td><td>-3.75819e-7</td><td>-4.56639e-7</td><td>-8.08202e-8</td><td>0</td></tr><tr><th>7</th><td>0.0</td><td>7</td><td>0.114291</td><td>0.0244738</td><td>1.04257</td><td>-0.0923906</td><td>-0.0189738</td><td>0.0977752</td><td>-15.4536</td><td>-8.44846e-8</td><td>0.0</td><td>0</td><td>0</td><td>-5.66531e-7</td><td>-27.0348</td><td>-2.58078e-6</td><td>-1.27483e-6</td><td>0</td><td>-15.4536</td><td>-5.91024e-8</td><td>-3.77088e-7</td><td>-1.25893e-7</td><td>0</td></tr><tr><th>8</th><td>0.0</td><td>8</td><td>0</td><td>0</td><td>1.05339</td><td>-0.1969</td><td>0.0019</td><td>0</td><td>-15.4536</td><td>-5.84504e-8</td><td>0.0</td><td>0</td><td>0</td><td>0</td><td>0</td><td>-3.06224e-6</td><td>0.0</td><td>0</td><td>-15.4536</td><td>-4.09231e-8</td><td>-3.61234e-7</td><td>-3.20311e-7</td><td>0</td></tr><tr><th>9</th><td>0.0</td><td>9</td><td>0</td><td>0</td><td>1.04371</td><td>-0.230109</td><td>-0.00102625</td><td>0</td><td>-15.4536</td><td>-5.1595e-7</td><td>0.0</td><td>0</td><td>0</td><td>0</td><td>0</td><td>0.0</td><td>-1.29619e-6</td><td>0</td><td>-15.4536</td><td>-3.6081e-7</td><td>-6.13591e-7</td><td>-4.79759e-7</td><td>0</td></tr><tr><th>10</th><td>0.0</td><td>10</td><td>0</td><td>0</td><td>1.04437</td><td>-0.0567095</td><td>-0.00882625</td><td>0</td><td>-15.4536</td><td>-1.6665e-6</td><td>0.0</td><td>0</td><td>0</td><td>0</td><td>0</td><td>-2.57451e-6</td><td>-1.29298e-6</td><td>0</td><td>-15.4536</td><td>-1.16539e-6</td><td>-3.60804e-7</td><td>-8.25557e-8</td><td>0</td></tr><tr><th>11</th><td>0.0</td><td>11</td><td>0</td><td>0</td><td>1.04697</td><td>-0.0796095</td><td>-0.0230263</td><td>0</td><td>-15.4536</td><td>-1.47011e-6</td><td>0.0</td><td>0</td><td>0</td><td>0</td><td>0</td><td>-2.66508e-6</td><td>-1.27515e-6</td><td>0</td><td>-15.4536</td><td>-1.02695e-6</td><td>-1.16414e-6</td><td>-1.3719e-7</td><td>0</td></tr><tr><th>12</th><td>0.0</td><td>12</td><td>0.114509</td><td>0.0328263</td><td>1.04838</td><td>-0.101309</td><td>-0.0295263</td><td>0.0979625</td><td>-15.4536</td><td>-1.11366e-7</td><td>0.0</td><td>0</td><td>0</td><td>-4.84025e-7</td><td>-27.0347</td><td>-2.72094e-6</td><td>-1.26461e-6</td><td>0</td><td>-15.4536</td><td>-7.75044e-8</td><td>-1.02312e-6</td><td>-3.00004e-8</td><td>0</td></tr><tr><th>13</th><td>0.0</td><td>13</td><td>0</td><td>0</td><td>0.982619</td><td>0.6457</td><td>0.1382</td><td>0</td><td>-50.0</td><td>-2.09325e-8</td><td>0.0</td><td>0</td><td>0</td><td>0</td><td>0</td><td>0.0</td><td>0.0</td><td>0</td><td>-50.0</td><td>-1.74438e-10</td><td>-1.74438e-10</td><td>0.0</td><td>0</td></tr><tr><th>14</th><td>0.0</td><td>14</td><td>0</td><td>0</td><td>0.977795</td><td>0.0238</td><td>0.0091</td><td>0</td><td>-50.0</td><td>-2.09325e-8</td><td>0.0</td><td>0</td><td>0</td><td>0</td><td>0</td><td>0.0</td><td>0.0</td><td>0</td><td>-50.0</td><td>-2.91634e-8</td><td>-2.91634e-8</td><td>0.0</td><td>0</td></tr><tr><th>15</th><td>0.0</td><td>15</td><td>0</td><td>0</td><td>0.975027</td><td>0.0224</td><td>0.0083</td><td>0</td><td>-50.0</td><td>-2.09325e-8</td><td>0.0</td><td>0</td><td>0</td><td>0</td><td>0</td><td>0.0</td><td>0.0</td><td>0</td><td>-50.0</td><td>-2.91648e-8</td><td>-2.91648e-8</td><td>0.0</td><td>0</td></tr></tbody></table>"
      ],
      "text/latex": [
       "\\begin{tabular}{r|ccccccccccccccccccccccc}\n",
       "\t& objective & bus & gp & gq & voltage & fp & fq & alpha & lambda & pi & gamma & rho & eta & delta\\_plus & delta\\_minus & mu\\_plus & mu\\_minus & voltvar & lambda\\_anc & rx\\_pi\\_i & rx\\_pi\\_a & r\\_sum\\_mu\\_d & eta\\_calc\\\\\n",
       "\t\\hline\n",
       "\t& Float64 & Any & Any & Any & Any & Any & Any & Any & Any & Any & Float64 & Any & Any & Any & Any & Any & Any & Any & Any & Any & Any & Any & Any\\\\\n",
       "\t\\hline\n",
       "\t1 & 87.2497 & 1 & 1.1833 & 0.3237 & 1.0 & 0 & 0 & 0.804262 & -50.0 & -2.09325e-8 & -31.6204 & 0 & 0 & 0 & 0 & 0 & 0 & 0 & 0 & 0 & 0 & 0 & 0 \\\\\n",
       "\t2 & 0.0 & 2 & 0 & 0 & 0.976936 & 0.5376 & 0.1855 & 0 & -50.0 & -2.04872e-6 & 0.0 & 0 & 0 & 0 & 0 & -1.21123e-6 & -2.29922e-6 & 0 & -50.0 & -1.70727e-8 & -1.74438e-10 & -1.72471e-8 & 0 \\\\\n",
       "\t3 & 0.0 & 3 & 0 & 0 & 0.999807 & -0.256 & -4.85054e-9 & 0 & -17.2732 & -8.76751 & 0.0 & 0 & 0 & 0 & 0 & -1.51743e-6 & -1.81489e-6 & 0 & -50.0 & -6.13448 & -1.43345e-6 & -1.71506e-6 & 0 \\\\\n",
       "\t4 & 0.0 & 4 & 0 & 0 & 1.03464 & -0.256 & -4.85054e-9 & 0 & -15.4536 & -8.7742e-7 & 0.0 & 0 & 0 & 0 & 0 & -2.25493e-6 & -1.38053e-6 & 0 & -17.2732 & -6.13928e-7 & -6.1346 & -2.77049e-6 & 0 \\\\\n",
       "\t5 & 0.0 & 5 & 0 & 0 & 1.03568 & -0.0459906 & -0.00737375 & 0 & -15.4536 & -6.54951e-7 & 0.0 & 0 & 0 & 0 & 0 & -2.2954e-6 & -1.36379e-6 & 0 & -15.4536 & -4.58226e-7 & -6.13873e-7 & -1.23797e-7 & 0 \\\\\n",
       "\t6 & 0.0 & 6 & 0 & 0 & 1.03703 & -0.0632906 & -0.0116738 & 0 & -15.4536 & -5.39032e-7 & 0.0 & 0 & 0 & 0 & 0 & -2.34755e-6 & -1.34435e-6 & 0 & -15.4536 & -3.75819e-7 & -4.56639e-7 & -8.08202e-8 & 0 \\\\\n",
       "\t7 & 0.0 & 7 & 0.114291 & 0.0244738 & 1.04257 & -0.0923906 & -0.0189738 & 0.0977752 & -15.4536 & -8.44846e-8 & 0.0 & 0 & 0 & -5.66531e-7 & -27.0348 & -2.58078e-6 & -1.27483e-6 & 0 & -15.4536 & -5.91024e-8 & -3.77088e-7 & -1.25893e-7 & 0 \\\\\n",
       "\t8 & 0.0 & 8 & 0 & 0 & 1.05339 & -0.1969 & 0.0019 & 0 & -15.4536 & -5.84504e-8 & 0.0 & 0 & 0 & 0 & 0 & -3.06224e-6 & 0.0 & 0 & -15.4536 & -4.09231e-8 & -3.61234e-7 & -3.20311e-7 & 0 \\\\\n",
       "\t9 & 0.0 & 9 & 0 & 0 & 1.04371 & -0.230109 & -0.00102625 & 0 & -15.4536 & -5.1595e-7 & 0.0 & 0 & 0 & 0 & 0 & 0.0 & -1.29619e-6 & 0 & -15.4536 & -3.6081e-7 & -6.13591e-7 & -4.79759e-7 & 0 \\\\\n",
       "\t10 & 0.0 & 10 & 0 & 0 & 1.04437 & -0.0567095 & -0.00882625 & 0 & -15.4536 & -1.6665e-6 & 0.0 & 0 & 0 & 0 & 0 & -2.57451e-6 & -1.29298e-6 & 0 & -15.4536 & -1.16539e-6 & -3.60804e-7 & -8.25557e-8 & 0 \\\\\n",
       "\t11 & 0.0 & 11 & 0 & 0 & 1.04697 & -0.0796095 & -0.0230263 & 0 & -15.4536 & -1.47011e-6 & 0.0 & 0 & 0 & 0 & 0 & -2.66508e-6 & -1.27515e-6 & 0 & -15.4536 & -1.02695e-6 & -1.16414e-6 & -1.3719e-7 & 0 \\\\\n",
       "\t12 & 0.0 & 12 & 0.114509 & 0.0328263 & 1.04838 & -0.101309 & -0.0295263 & 0.0979625 & -15.4536 & -1.11366e-7 & 0.0 & 0 & 0 & -4.84025e-7 & -27.0347 & -2.72094e-6 & -1.26461e-6 & 0 & -15.4536 & -7.75044e-8 & -1.02312e-6 & -3.00004e-8 & 0 \\\\\n",
       "\t13 & 0.0 & 13 & 0 & 0 & 0.982619 & 0.6457 & 0.1382 & 0 & -50.0 & -2.09325e-8 & 0.0 & 0 & 0 & 0 & 0 & 0.0 & 0.0 & 0 & -50.0 & -1.74438e-10 & -1.74438e-10 & 0.0 & 0 \\\\\n",
       "\t14 & 0.0 & 14 & 0 & 0 & 0.977795 & 0.0238 & 0.0091 & 0 & -50.0 & -2.09325e-8 & 0.0 & 0 & 0 & 0 & 0 & 0.0 & 0.0 & 0 & -50.0 & -2.91634e-8 & -2.91634e-8 & 0.0 & 0 \\\\\n",
       "\t15 & 0.0 & 15 & 0 & 0 & 0.975027 & 0.0224 & 0.0083 & 0 & -50.0 & -2.09325e-8 & 0.0 & 0 & 0 & 0 & 0 & 0.0 & 0.0 & 0 & -50.0 & -2.91648e-8 & -2.91648e-8 & 0.0 & 0 \\\\\n",
       "\\end{tabular}\n"
      ],
      "text/plain": [
       "15×23 DataFrame. Omitted printing of 17 columns\n",
       "│ Row │ objective │ bus │ gp       │ gq        │ voltage  │ fp         │\n",
       "│     │ \u001b[90mFloat64\u001b[39m   │ \u001b[90mAny\u001b[39m │ \u001b[90mAny\u001b[39m      │ \u001b[90mAny\u001b[39m       │ \u001b[90mAny\u001b[39m      │ \u001b[90mAny\u001b[39m        │\n",
       "├─────┼───────────┼─────┼──────────┼───────────┼──────────┼────────────┤\n",
       "│ 1   │ 87.2497   │ 1   │ 1.1833   │ 0.3237    │ 1.0      │ 0          │\n",
       "│ 2   │ 0.0       │ 2   │ 0        │ 0         │ 0.976936 │ 0.5376     │\n",
       "│ 3   │ 0.0       │ 3   │ 0        │ 0         │ 0.999807 │ -0.256     │\n",
       "│ 4   │ 0.0       │ 4   │ 0        │ 0         │ 1.03464  │ -0.256     │\n",
       "│ 5   │ 0.0       │ 5   │ 0        │ 0         │ 1.03568  │ -0.0459906 │\n",
       "│ 6   │ 0.0       │ 6   │ 0        │ 0         │ 1.03703  │ -0.0632906 │\n",
       "│ 7   │ 0.0       │ 7   │ 0.114291 │ 0.0244738 │ 1.04257  │ -0.0923906 │\n",
       "│ 8   │ 0.0       │ 8   │ 0        │ 0         │ 1.05339  │ -0.1969    │\n",
       "│ 9   │ 0.0       │ 9   │ 0        │ 0         │ 1.04371  │ -0.230109  │\n",
       "│ 10  │ 0.0       │ 10  │ 0        │ 0         │ 1.04437  │ -0.0567095 │\n",
       "│ 11  │ 0.0       │ 11  │ 0        │ 0         │ 1.04697  │ -0.0796095 │\n",
       "│ 12  │ 0.0       │ 12  │ 0.114509 │ 0.0328263 │ 1.04838  │ -0.101309  │\n",
       "│ 13  │ 0.0       │ 13  │ 0        │ 0         │ 0.982619 │ 0.6457     │\n",
       "│ 14  │ 0.0       │ 14  │ 0        │ 0         │ 0.977795 │ 0.0238     │\n",
       "│ 15  │ 0.0       │ 15  │ 0        │ 0         │ 0.975027 │ 0.0224     │"
      ]
     },
     "metadata": {},
     "output_type": "display_data"
    },
    {
     "name": "stdout",
     "output_type": "stream",
     "text": [
      ">>> Case no_uncert"
     ]
    },
    {
     "data": {
      "text/html": [
       "<table class=\"data-frame\"><thead><tr><th></th><th>objective</th><th>bus</th><th>gp</th><th>gq</th><th>voltage</th><th>fp</th><th>fq</th><th>alpha</th><th>lambda</th><th>pi</th><th>gamma</th><th>rho</th><th>eta</th><th>delta_plus</th><th>delta_minus</th><th>mu_plus</th><th>mu_minus</th><th>voltvar</th><th>lambda_anc</th><th>rx_pi_i</th><th>rx_pi_a</th><th>r_sum_mu_d</th><th>eta_calc</th></tr><tr><th></th><th>Float64</th><th>Any</th><th>Any</th><th>Any</th><th>Any</th><th>Any</th><th>Any</th><th>Any</th><th>Any</th><th>Any</th><th>Float64</th><th>Any</th><th>Any</th><th>Any</th><th>Any</th><th>Any</th><th>Any</th><th>Any</th><th>Any</th><th>Any</th><th>Any</th><th>Any</th><th>Any</th></tr></thead><tbody><p>15 rows × 23 columns</p><tr><th>1</th><td>61.6704</td><td>1</td><td>1.1833</td><td>0.3237</td><td>1.0</td><td>0</td><td>0</td><td>0</td><td>-50.0</td><td>-1.48341e-7</td><td>0.0</td><td>0</td><td>0</td><td>0</td><td>0</td><td>0</td><td>0</td><td>0</td><td>0</td><td>0</td><td>0</td><td>0</td><td>0</td></tr><tr><th>2</th><td>0.0</td><td>2</td><td>0</td><td>0</td><td>0.976936</td><td>0.5376</td><td>0.1855</td><td>0</td><td>-50.0</td><td>-1.88026e-5</td><td>0.0</td><td>0</td><td>0</td><td>0</td><td>0</td><td>-1.02162e-5</td><td>-1.89252e-5</td><td>0</td><td>-50.0</td><td>-1.56688e-7</td><td>-1.23617e-9</td><td>-1.57924e-7</td><td>0</td></tr><tr><th>3</th><td>0.0</td><td>3</td><td>0</td><td>0</td><td>0.999807</td><td>-0.256</td><td>2.1557e-8</td><td>0</td><td>-30.475</td><td>-5.23072</td><td>0.0</td><td>0</td><td>0</td><td>0</td><td>0</td><td>-1.28548e-5</td><td>-1.44282e-5</td><td>0</td><td>-50.0</td><td>-3.65985</td><td>-1.31558e-5</td><td>-1.54827e-5</td><td>0</td></tr><tr><th>4</th><td>0.0</td><td>4</td><td>0</td><td>0</td><td>1.03464</td><td>-0.256</td><td>2.1557e-8</td><td>0</td><td>-10.9503</td><td>-4.06447e-6</td><td>0.0</td><td>0</td><td>0</td><td>0</td><td>0</td><td>-1.87577e-5</td><td>-1.06553e-5</td><td>0</td><td>-30.475</td><td>-2.84389e-6</td><td>-3.65992</td><td>-2.47029e-5</td><td>0</td></tr><tr><th>5</th><td>0.0</td><td>5</td><td>0</td><td>0</td><td>1.03572</td><td>-0.0457604</td><td>-0.0091495</td><td>0</td><td>-10.9503</td><td>-2.11379e-7</td><td>0.0</td><td>0</td><td>0</td><td>0</td><td>0</td><td>-1.91103e-5</td><td>-1.05291e-5</td><td>0</td><td>-10.9503</td><td>-1.47888e-7</td><td>-2.84364e-6</td><td>-1.12066e-6</td><td>0</td></tr><tr><th>6</th><td>0.0</td><td>6</td><td>0</td><td>0</td><td>1.03711</td><td>-0.0630604</td><td>-0.0134495</td><td>0</td><td>-10.9503</td><td>-8.30544e-7</td><td>0.0</td><td>0</td><td>0</td><td>0</td><td>0</td><td>-1.95532e-5</td><td>-1.03829e-5</td><td>0</td><td>-10.9503</td><td>-5.79064e-7</td><td>-1.47376e-7</td><td>-7.2644e-7</td><td>0</td></tr><tr><th>7</th><td>0.0</td><td>7</td><td>0.11406</td><td>0.0262495</td><td>1.04276</td><td>-0.0921604</td><td>-0.0207495</td><td>0</td><td>-10.9502</td><td>-6.39343e-6</td><td>0.0</td><td>0</td><td>0</td><td>0.0</td><td>-2.29822e-5</td><td>-2.14456e-5</td><td>-9.86039e-6</td><td>0</td><td>-10.9503</td><td>-4.47261e-6</td><td>-5.81019e-7</td><td>-1.11681e-6</td><td>0</td></tr><tr><th>8</th><td>0.0</td><td>8</td><td>0</td><td>0</td><td>1.0533</td><td>-0.1969</td><td>0.0019</td><td>0</td><td>-10.9501</td><td>-1.3063e-5</td><td>0.0</td><td>0</td><td>0</td><td>0</td><td>0</td><td>-2.51783e-5</td><td>0.0</td><td>0</td><td>-10.9501</td><td>-9.14584e-6</td><td>-6.51219e-6</td><td>-2.63365e-6</td><td>0</td></tr><tr><th>9</th><td>0.0</td><td>9</td><td>0</td><td>0</td><td>1.04362</td><td>-0.23034</td><td>0.000749525</td><td>0</td><td>-10.9501</td><td>-9.30136e-6</td><td>0.0</td><td>0</td><td>0</td><td>0</td><td>0</td><td>0.0</td><td>-9.99776e-6</td><td>0</td><td>-10.9503</td><td>-6.50456e-6</td><td>-2.84233e-6</td><td>-4.21697e-6</td><td>0</td></tr><tr><th>10</th><td>0.0</td><td>10</td><td>0</td><td>0</td><td>1.04426</td><td>-0.0569395</td><td>-0.00705048</td><td>0</td><td>-10.9501</td><td>-6.60733e-6</td><td>0.0</td><td>0</td><td>0</td><td>0</td><td>0</td><td>-2.13889e-5</td><td>-9.96631e-6</td><td>0</td><td>-10.9501</td><td>-4.62051e-6</td><td>-6.50445e-6</td><td>-7.32499e-7</td><td>0</td></tr><tr><th>11</th><td>0.0</td><td>11</td><td>0</td><td>0</td><td>1.0468</td><td>-0.0798395</td><td>-0.0212505</td><td>0</td><td>-10.9501</td><td>-4.86836e-6</td><td>0.0</td><td>0</td><td>0</td><td>0</td><td>0</td><td>-2.21453e-5</td><td>-9.81658e-6</td><td>0</td><td>-10.9501</td><td>-3.4008e-6</td><td>-4.61555e-6</td><td>-1.21475e-6</td><td>0</td></tr><tr><th>12</th><td>0.0</td><td>12</td><td>0.11474</td><td>0.0310505</td><td>1.04819</td><td>-0.10154</td><td>-0.0277505</td><td>0</td><td>-10.9501</td><td>-6.30599e-6</td><td>0.0</td><td>0</td><td>0</td><td>0.0</td><td>-2.76168e-5</td><td>-2.26051e-5</td><td>-9.73143e-6</td><td>0</td><td>-10.9501</td><td>-4.38863e-6</td><td>-3.38812e-6</td><td>-2.65198e-7</td><td>0</td></tr><tr><th>13</th><td>0.0</td><td>13</td><td>0</td><td>0</td><td>0.982619</td><td>0.6457</td><td>0.1382</td><td>0</td><td>-50.0</td><td>-1.48341e-7</td><td>0.0</td><td>0</td><td>0</td><td>0</td><td>0</td><td>0.0</td><td>0.0</td><td>0</td><td>-50.0</td><td>-1.23617e-9</td><td>-1.23617e-9</td><td>0.0</td><td>0</td></tr><tr><th>14</th><td>0.0</td><td>14</td><td>0</td><td>0</td><td>0.977795</td><td>0.0238</td><td>0.0091</td><td>0</td><td>-50.0</td><td>-1.48341e-7</td><td>0.0</td><td>0</td><td>0</td><td>0</td><td>0</td><td>0.0</td><td>0.0</td><td>0</td><td>-50.0</td><td>-2.0667e-7</td><td>-2.0667e-7</td><td>0.0</td><td>0</td></tr><tr><th>15</th><td>0.0</td><td>15</td><td>0</td><td>0</td><td>0.975027</td><td>0.0224</td><td>0.0083</td><td>0</td><td>-50.0</td><td>-1.48341e-7</td><td>0.0</td><td>0</td><td>0</td><td>0</td><td>0</td><td>0.0</td><td>0.0</td><td>0</td><td>-50.0</td><td>-2.0668e-7</td><td>-2.0668e-7</td><td>0.0</td><td>0</td></tr></tbody></table>"
      ],
      "text/latex": [
       "\\begin{tabular}{r|ccccccccccccccccccccccc}\n",
       "\t& objective & bus & gp & gq & voltage & fp & fq & alpha & lambda & pi & gamma & rho & eta & delta\\_plus & delta\\_minus & mu\\_plus & mu\\_minus & voltvar & lambda\\_anc & rx\\_pi\\_i & rx\\_pi\\_a & r\\_sum\\_mu\\_d & eta\\_calc\\\\\n",
       "\t\\hline\n",
       "\t& Float64 & Any & Any & Any & Any & Any & Any & Any & Any & Any & Float64 & Any & Any & Any & Any & Any & Any & Any & Any & Any & Any & Any & Any\\\\\n",
       "\t\\hline\n",
       "\t1 & 61.6704 & 1 & 1.1833 & 0.3237 & 1.0 & 0 & 0 & 0 & -50.0 & -1.48341e-7 & 0.0 & 0 & 0 & 0 & 0 & 0 & 0 & 0 & 0 & 0 & 0 & 0 & 0 \\\\\n",
       "\t2 & 0.0 & 2 & 0 & 0 & 0.976936 & 0.5376 & 0.1855 & 0 & -50.0 & -1.88026e-5 & 0.0 & 0 & 0 & 0 & 0 & -1.02162e-5 & -1.89252e-5 & 0 & -50.0 & -1.56688e-7 & -1.23617e-9 & -1.57924e-7 & 0 \\\\\n",
       "\t3 & 0.0 & 3 & 0 & 0 & 0.999807 & -0.256 & 2.1557e-8 & 0 & -30.475 & -5.23072 & 0.0 & 0 & 0 & 0 & 0 & -1.28548e-5 & -1.44282e-5 & 0 & -50.0 & -3.65985 & -1.31558e-5 & -1.54827e-5 & 0 \\\\\n",
       "\t4 & 0.0 & 4 & 0 & 0 & 1.03464 & -0.256 & 2.1557e-8 & 0 & -10.9503 & -4.06447e-6 & 0.0 & 0 & 0 & 0 & 0 & -1.87577e-5 & -1.06553e-5 & 0 & -30.475 & -2.84389e-6 & -3.65992 & -2.47029e-5 & 0 \\\\\n",
       "\t5 & 0.0 & 5 & 0 & 0 & 1.03572 & -0.0457604 & -0.0091495 & 0 & -10.9503 & -2.11379e-7 & 0.0 & 0 & 0 & 0 & 0 & -1.91103e-5 & -1.05291e-5 & 0 & -10.9503 & -1.47888e-7 & -2.84364e-6 & -1.12066e-6 & 0 \\\\\n",
       "\t6 & 0.0 & 6 & 0 & 0 & 1.03711 & -0.0630604 & -0.0134495 & 0 & -10.9503 & -8.30544e-7 & 0.0 & 0 & 0 & 0 & 0 & -1.95532e-5 & -1.03829e-5 & 0 & -10.9503 & -5.79064e-7 & -1.47376e-7 & -7.2644e-7 & 0 \\\\\n",
       "\t7 & 0.0 & 7 & 0.11406 & 0.0262495 & 1.04276 & -0.0921604 & -0.0207495 & 0 & -10.9502 & -6.39343e-6 & 0.0 & 0 & 0 & 0.0 & -2.29822e-5 & -2.14456e-5 & -9.86039e-6 & 0 & -10.9503 & -4.47261e-6 & -5.81019e-7 & -1.11681e-6 & 0 \\\\\n",
       "\t8 & 0.0 & 8 & 0 & 0 & 1.0533 & -0.1969 & 0.0019 & 0 & -10.9501 & -1.3063e-5 & 0.0 & 0 & 0 & 0 & 0 & -2.51783e-5 & 0.0 & 0 & -10.9501 & -9.14584e-6 & -6.51219e-6 & -2.63365e-6 & 0 \\\\\n",
       "\t9 & 0.0 & 9 & 0 & 0 & 1.04362 & -0.23034 & 0.000749525 & 0 & -10.9501 & -9.30136e-6 & 0.0 & 0 & 0 & 0 & 0 & 0.0 & -9.99776e-6 & 0 & -10.9503 & -6.50456e-6 & -2.84233e-6 & -4.21697e-6 & 0 \\\\\n",
       "\t10 & 0.0 & 10 & 0 & 0 & 1.04426 & -0.0569395 & -0.00705048 & 0 & -10.9501 & -6.60733e-6 & 0.0 & 0 & 0 & 0 & 0 & -2.13889e-5 & -9.96631e-6 & 0 & -10.9501 & -4.62051e-6 & -6.50445e-6 & -7.32499e-7 & 0 \\\\\n",
       "\t11 & 0.0 & 11 & 0 & 0 & 1.0468 & -0.0798395 & -0.0212505 & 0 & -10.9501 & -4.86836e-6 & 0.0 & 0 & 0 & 0 & 0 & -2.21453e-5 & -9.81658e-6 & 0 & -10.9501 & -3.4008e-6 & -4.61555e-6 & -1.21475e-6 & 0 \\\\\n",
       "\t12 & 0.0 & 12 & 0.11474 & 0.0310505 & 1.04819 & -0.10154 & -0.0277505 & 0 & -10.9501 & -6.30599e-6 & 0.0 & 0 & 0 & 0.0 & -2.76168e-5 & -2.26051e-5 & -9.73143e-6 & 0 & -10.9501 & -4.38863e-6 & -3.38812e-6 & -2.65198e-7 & 0 \\\\\n",
       "\t13 & 0.0 & 13 & 0 & 0 & 0.982619 & 0.6457 & 0.1382 & 0 & -50.0 & -1.48341e-7 & 0.0 & 0 & 0 & 0 & 0 & 0.0 & 0.0 & 0 & -50.0 & -1.23617e-9 & -1.23617e-9 & 0.0 & 0 \\\\\n",
       "\t14 & 0.0 & 14 & 0 & 0 & 0.977795 & 0.0238 & 0.0091 & 0 & -50.0 & -1.48341e-7 & 0.0 & 0 & 0 & 0 & 0 & 0.0 & 0.0 & 0 & -50.0 & -2.0667e-7 & -2.0667e-7 & 0.0 & 0 \\\\\n",
       "\t15 & 0.0 & 15 & 0 & 0 & 0.975027 & 0.0224 & 0.0083 & 0 & -50.0 & -1.48341e-7 & 0.0 & 0 & 0 & 0 & 0 & 0.0 & 0.0 & 0 & -50.0 & -2.0668e-7 & -2.0668e-7 & 0.0 & 0 \\\\\n",
       "\\end{tabular}\n"
      ],
      "text/plain": [
       "15×23 DataFrame. Omitted printing of 17 columns\n",
       "│ Row │ objective │ bus │ gp      │ gq        │ voltage  │ fp         │\n",
       "│     │ \u001b[90mFloat64\u001b[39m   │ \u001b[90mAny\u001b[39m │ \u001b[90mAny\u001b[39m     │ \u001b[90mAny\u001b[39m       │ \u001b[90mAny\u001b[39m      │ \u001b[90mAny\u001b[39m        │\n",
       "├─────┼───────────┼─────┼─────────┼───────────┼──────────┼────────────┤\n",
       "│ 1   │ 61.6704   │ 1   │ 1.1833  │ 0.3237    │ 1.0      │ 0          │\n",
       "│ 2   │ 0.0       │ 2   │ 0       │ 0         │ 0.976936 │ 0.5376     │\n",
       "│ 3   │ 0.0       │ 3   │ 0       │ 0         │ 0.999807 │ -0.256     │\n",
       "│ 4   │ 0.0       │ 4   │ 0       │ 0         │ 1.03464  │ -0.256     │\n",
       "│ 5   │ 0.0       │ 5   │ 0       │ 0         │ 1.03572  │ -0.0457604 │\n",
       "│ 6   │ 0.0       │ 6   │ 0       │ 0         │ 1.03711  │ -0.0630604 │\n",
       "│ 7   │ 0.0       │ 7   │ 0.11406 │ 0.0262495 │ 1.04276  │ -0.0921604 │\n",
       "│ 8   │ 0.0       │ 8   │ 0       │ 0         │ 1.0533   │ -0.1969    │\n",
       "│ 9   │ 0.0       │ 9   │ 0       │ 0         │ 1.04362  │ -0.23034   │\n",
       "│ 10  │ 0.0       │ 10  │ 0       │ 0         │ 1.04426  │ -0.0569395 │\n",
       "│ 11  │ 0.0       │ 11  │ 0       │ 0         │ 1.0468   │ -0.0798395 │\n",
       "│ 12  │ 0.0       │ 12  │ 0.11474 │ 0.0310505 │ 1.04819  │ -0.10154   │\n",
       "│ 13  │ 0.0       │ 13  │ 0       │ 0         │ 0.982619 │ 0.6457     │\n",
       "│ 14  │ 0.0       │ 14  │ 0       │ 0         │ 0.977795 │ 0.0238     │\n",
       "│ 15  │ 0.0       │ 15  │ 0       │ 0         │ 0.975027 │ 0.0224     │"
      ]
     },
     "metadata": {},
     "output_type": "display_data"
    }
   ],
   "source": [
    "experiment5 = Dict()\n",
    "\n",
    "# Load feeder data \n",
    "feeder = load_feeder(\"data/feeder_data/basecase_noneg/\")\n",
    "\n",
    "# Set up\n",
    "relative_std = 0.2\n",
    "loads = [b.d_P for b in feeder.buses]\n",
    "std_vec = abs.(loads) .* relative_std\n",
    "var_vec = std_vec.^2\n",
    "Σ = diagm(0 => var_vec)\n",
    "\n",
    "# ex5_general_settings\n",
    "ex5_general_settings = Dict(\n",
    "    \"var_vec\" => var_vec,\n",
    "    \"Σ\" => Σ,\n",
    "    \"z_g\" => 1.945,\n",
    "    \"z_v\" => 2.576,\n",
    "    \"toggle_volt_cc\" => false,\n",
    "    \"toggle_gen_cc\" => false,\n",
    "    \"toggle_thermal_cc\" => false,\n",
    "    \"thermal_const_method\" => 2, #1=soc, 2=inner approx\n",
    "    \"vfac\" => 0.1, # directly sets symetric voltage limit to min:(1-vfac) max:(1+vfac), use import values if vfac=0\n",
    "    \"qcfac\" => 1,\n",
    "    \"output_level\" => 0,\n",
    "    \"Ψ\" => 0,\n",
    ")\n",
    "\n",
    "# ex5_no_uncert:\n",
    "ex5_no_uncert_settings = copy(ex5_general_settings)\n",
    "ex5_no_uncert_settings[\"toggle_volt_cc\"] = false\n",
    "ex5_no_uncert_settings[\"toggle_gen_cc\"] = false\n",
    "ex5_no_uncert_settings[\"toggle_thermal_cc\"] = false\n",
    "\n",
    "experiment5[\"no_uncert\"] = Dict(\n",
    "    \"verbose\" => \"no_uncert\",\n",
    "    \"feeder\" => feeder,\n",
    "    \"settings\" => ex5_no_uncert_settings,\n",
    ")\n",
    "\n",
    "# ex5_uncert:\n",
    "ex5_uncert_settings = copy(ex5_general_settings)\n",
    "ex5_uncert_settings[\"toggle_volt_cc\"] = true\n",
    "ex5_uncert_settings[\"toggle_gen_cc\"] = true\n",
    "ex5_no_uncert_settings[\"toggle_thermal_cc\"] = true\n",
    "experiment5[\"uncert\"] = Dict(\n",
    "    \"verbose\" => \"uncert\",\n",
    "    \"feeder\" => feeder,\n",
    "    \"settings\" => ex5_uncert_settings,\n",
    ")\n",
    "\n",
    "# ex5_gen_uncert:\n",
    "ex5_uncert_settings = copy(ex5_general_settings)\n",
    "ex5_uncert_settings[\"toggle_volt_cc\"] = false\n",
    "ex5_uncert_settings[\"toggle_gen_cc\"] = true\n",
    "ex5_no_uncert_settings[\"toggle_thermal_cc\"] = false\n",
    "experiment5[\"gen_uncert\"] = Dict(\n",
    "    \"verbose\" => \"gen_uncert\",\n",
    "    \"feeder\" => feeder,\n",
    "    \"settings\" => ex5_uncert_settings,\n",
    ")\n",
    "\n",
    "# Run \n",
    "experiment5 = run_experiment(experiment5)\n",
    "\n",
    "# Show results\n",
    "sleep(.2) # just to ensure correct printing order\n",
    "for case in keys(experiment5)\n",
    "    print(\">>> Case $case\")\n",
    "    sleep(.2)\n",
    "    display(experiment5[case][\"results\"])\n",
    "end"
   ]
  },
  {
   "cell_type": "markdown",
   "metadata": {},
   "source": [
    "## Experiment 1\n",
    "\n",
    "We analyse the influence of the uncertainty in the system using the \"standard\" setup\n",
    "\n",
    "### Description\n",
    "\n",
    "Ex1:\n",
    "- tag: `experiment1`\n",
    "- tight bascase voltage (0.95-1.05) \n",
    "- all nodes have 20% standard deviation of their forecasted load\n",
    "\n",
    "Runs:\n",
    "- `ex1_no_uncert`: deterministic case\n",
    "- `ex1_uncert`: case with uncertainty\n",
    "- `ex1_gen_uncert`: Chance constraints only in generation\n",
    "\n",
    "\n",
    "### Notes and Observations\n",
    "\n",
    "- Recursive decomposition of prices for active power (eqtns (20) and (21)) are verified by the experimet\n",
    "- Decompositon via voltage constraints (eqtns (23) and (24)) also verified by the experiment"
   ]
  },
  {
   "cell_type": "code",
   "execution_count": 36,
   "metadata": {
    "hideCode": false,
    "hidePrompt": false
   },
   "outputs": [
    {
     "name": "stdout",
     "output_type": "stream",
     "text": [
      ">>>>> Reading feeder data from data/feeder_data/basecase_lv_noneg/\n",
      "Running ex1_uncert\n",
      ">>>> Building Model\n"
     ]
    },
    {
     "ename": "KeyError",
     "evalue": "KeyError: key \"toggle_thermal\" not found",
     "output_type": "error",
     "traceback": [
      "KeyError: key \"toggle_thermal\" not found",
      "",
      "Stacktrace:",
      " [1] getindex at .\\dict.jl:478 [inlined]",
      " [2] build_model(::FeederTopo, ::Dict{String,Any}) at C:\\Users\\Robert\\Promotion\\Workshop\\02_cc_dlmp_varaware\\01_case_study_cc_dlmp\\src\\model_definition.jl:35",
      " [3] run_experiment(::Dict{Any,Any}) at C:\\Users\\Robert\\Promotion\\Workshop\\02_cc_dlmp_varaware\\01_case_study_cc_dlmp\\src\\tools.jl:20",
      " [4] top-level scope at In[36]:58"
     ]
    }
   ],
   "source": [
    "experiment1 = Dict()\n",
    "\n",
    "# Load feeder data \n",
    "feeder = load_feeder(\"data/feeder_data/basecase_lv_noneg/\")\n",
    "\n",
    "# Set up\n",
    "relative_std = 0.2\n",
    "loads = [b.d_P for b in feeder.buses]\n",
    "std_vec = loads .* relative_std\n",
    "var_vec = std_vec.^2\n",
    "Σ = diagm(0 => var_vec)\n",
    "\n",
    "# ex1_general_settings\n",
    "ex1_general_settings = Dict(\n",
    "    \"var_vec\" => var_vec,\n",
    "    \"Σ\" => Σ,\n",
    "    \"z_g\" => 1.945,\n",
    "    \"z_v\" => 2.576,\n",
    "    \"toggle_volt_cc\" => false,\n",
    "    \"toggle_gen_cc\" => false,\n",
    "    \"vfac\" => 0, # directly sets symetric voltage limit to min:(1-vfac) max:(1+vfac), use import values if vfac=0\n",
    "    \"qcfac\" => 1,\n",
    "    \"output_level\" => 0,\n",
    "    \"Ψ\" => 0,\n",
    ")\n",
    "\n",
    "\n",
    "# ex1_no_uncert:\n",
    "ex1_no_uncert_settings = copy(ex1_general_settings)\n",
    "ex1_no_uncert_settings[\"toggle_volt_cc\"] = false\n",
    "ex1_no_uncert_settings[\"toggle_gen_cc\"] = false\n",
    "\n",
    "experiment1[\"no_uncert\"] = Dict(\n",
    "    \"verbose\" => \"ex1_no_uncert\",\n",
    "    \"feeder\" => feeder,\n",
    "    \"settings\" => ex1_no_uncert_settings,\n",
    ")\n",
    "\n",
    "# ex1_uncert:\n",
    "ex1_uncert_settings = copy(ex1_general_settings)\n",
    "ex1_uncert_settings[\"toggle_volt_cc\"] = true\n",
    "ex1_uncert_settings[\"toggle_gen_cc\"] = true\n",
    "experiment1[\"uncert\"] = Dict(\n",
    "    \"verbose\" => \"ex1_uncert\",\n",
    "    \"feeder\" => feeder,\n",
    "    \"settings\" => ex1_uncert_settings,\n",
    ")\n",
    "\n",
    "# ex1_gen_uncert:\n",
    "ex1_uncert_settings = copy(ex1_general_settings)\n",
    "ex1_uncert_settings[\"toggle_volt_cc\"] = false\n",
    "ex1_uncert_settings[\"toggle_gen_cc\"] = true\n",
    "experiment1[\"gen_uncert\"] = Dict(\n",
    "    \"verbose\" => \"ex1_gen_uncert\",\n",
    "    \"feeder\" => feeder,\n",
    "    \"settings\" => ex1_uncert_settings,\n",
    ")\n",
    "\n",
    "# Run \n",
    "experiment1 = run_experiment(experiment1)\n",
    "\n",
    "# Show results\n",
    "sleep(.2) # just to ensure correct printing order\n",
    "for case in keys(experiment1)\n",
    "    display(experiment1[case][\"results\"])\n",
    "end"
   ]
  },
  {
   "cell_type": "code",
   "execution_count": 3,
   "metadata": {},
   "outputs": [
    {
     "name": "stdout",
     "output_type": "stream",
     "text": [
      "Saving ex1_uncert\n",
      "Saving ex1_gen_uncert\n",
      "Saving ex1_no_uncert\n",
      ">>>> Saved with timestamp 190320_0927\n"
     ]
    }
   ],
   "source": [
    "save_experiment(\"experiment1\", experiment1)"
   ]
  },
  {
   "cell_type": "markdown",
   "metadata": {},
   "source": [
    "## Experiment 2\n",
    "\n",
    "Same as Experiment1 but with wider voltage constraints\n",
    "\n",
    "### Description\n",
    "\n",
    "Ex2:\n",
    "- tag: `experiment2` \n",
    "- bascase voltage (0.9-1.1) and `vfac = 0.02`: Resulting \"real\" voltage limits: ca. 0.91 - 1.09 (i.e. +- 9%)\n",
    "- all nodes have 20% standard deviation of their forecasted load\n",
    "- all parameters as in AP's paper, including the negative load (i.e. uncontrollable generator with the same standard deviation\n",
    "- substation balancing participation penalty is set to 1000 (i.e. quadratic cost term)\n",
    "\n",
    "Runs:\n",
    "- `ex2_no_uncert`: deterministic case\n",
    "- `ex2_uncert`: case with uncertainty\n",
    "- `ex2_gen_uncert`: chance constraints only in generation\n",
    "\n",
    "\n",
    "### Notes and Observations\n",
    "\n",
    "- Without uncertainty the network is \"uncongested\" so that price for active power is the same at all nodes\n",
    "- With uncertainty, some voltage constraints become binding and there are differences in the prices"
   ]
  },
  {
   "cell_type": "code",
   "execution_count": 49,
   "metadata": {},
   "outputs": [
    {
     "name": "stdout",
     "output_type": "stream",
     "text": [
      ">>>>> Reading feeder data from data/feeder_data/basecase_noneg/\n",
      "Running uncert\n",
      ">>>> Building Model\n",
      ">>>> Running Model\n",
      "MOSEK warning 705: #3 (nearly) zero elements are specified in sparse row ''(86) of matrix 'A'.\n",
      "MOSEK warning 705: #4 (nearly) zero elements are specified in sparse row ''(92) of matrix 'A'.\n",
      ">>>> Model finished with status OPTIMAL in 0.031447259 seconds\n",
      ">>>> Post-Processing\n",
      "\n",
      "Running gen_uncert\n",
      ">>>> Building Model\n",
      ">>>> Running Model\n",
      ">>>> Model finished with status OPTIMAL in 0.004507253 seconds\n",
      ">>>> Post-Processing\n",
      "\n",
      "Running no_uncert\n",
      ">>>> Building Model\n",
      ">>>> Running Model\n",
      ">>>> Model finished with status OPTIMAL in 0.003282563 seconds\n",
      ">>>> Post-Processing\n",
      "\n",
      ">>> Case uncert"
     ]
    },
    {
     "data": {
      "text/html": [
       "<table class=\"data-frame\"><thead><tr><th></th><th>objective</th><th>bus</th><th>gp</th><th>gq</th><th>voltage</th><th>fp</th><th>fq</th><th>alpha</th><th>lambda</th><th>pi</th><th>gamma</th><th>rho</th><th>eta</th><th>delta_plus</th><th>delta_minus</th><th>mu_plus</th><th>mu_minus</th><th>voltvar</th><th>lambda_anc</th><th>rx_pi_i</th><th>rx_pi_a</th><th>r_sum_mu_d</th><th>eta_calc</th></tr><tr><th></th><th>Float64</th><th>Any</th><th>Any</th><th>Any</th><th>Any</th><th>Any</th><th>Any</th><th>Any</th><th>Any</th><th>Any</th><th>Float64</th><th>Any</th><th>Any</th><th>Any</th><th>Any</th><th>Any</th><th>Any</th><th>Any</th><th>Any</th><th>Any</th><th>Any</th><th>Any</th><th>Any</th></tr></thead><tbody><p>15 rows × 23 columns</p><tr><th>1</th><td>42.1519</td><td>1</td><td>-0.0653161</td><td>0.933285</td><td>1.0</td><td>0</td><td>0</td><td>0.89513</td><td>-50.0</td><td>0.0</td><td>-31.6737</td><td>0</td><td>0</td><td>0</td><td>0</td><td>0</td><td>0</td><td>0</td><td>0</td><td>0</td><td>0</td><td>0</td><td>0</td></tr><tr><th>2</th><td>0.0</td><td>2</td><td>0</td><td>0</td><td>0.900334</td><td>-0.0</td><td>-0.0</td><td>0</td><td>-50.137</td><td>-16.4398</td><td>0.0</td><td>0.000934452</td><td>-0.0515086</td><td>0</td><td>0</td><td>-2.93471e-7</td><td>-91.1231</td><td>0.000116789</td><td>-50.0</td><td>-0.136999</td><td>0.0</td><td>0.136999</td><td>-0.35219</td></tr><tr><th>3</th><td>0.0</td><td>3</td><td>0</td><td>0</td><td>0.960447</td><td>-0.711016</td><td>0.795085</td><td>0</td><td>-46.1416</td><td>-10.7296</td><td>0.0</td><td>0.00440658</td><td>-0.0597499</td><td>0</td><td>0</td><td>-5.47177e-7</td><td>-3.1151e-6</td><td>0.0142634</td><td>-50.137</td><td>-7.5073</td><td>-11.5027</td><td>-3.99537</td><td>-6.53755</td></tr><tr><th>4</th><td>0.0</td><td>4</td><td>0</td><td>0</td><td>1.04775</td><td>-1.50462</td><td>0.609585</td><td>0</td><td>-39.8793</td><td>-1.77957</td><td>0.0</td><td>0.00984874</td><td>-0.0726673</td><td>0</td><td>0</td><td>-3.42637e-6</td><td>-5.94266e-7</td><td>0.0161622</td><td>-46.1416</td><td>-1.24516</td><td>-7.50744</td><td>-6.26228</td><td>-16.2324</td></tr><tr><th>5</th><td>0.0</td><td>5</td><td>0</td><td>0</td><td>1.05393</td><td>-1.50462</td><td>0.609585</td><td>0</td><td>-39.5991</td><td>-1.37906</td><td>0.0</td><td>0.00984874</td><td>-0.0727774</td><td>0</td><td>0</td><td>-4.31794e-6</td><td>-5.40652e-7</td><td>0.014704</td><td>-39.8793</td><td>-0.964836</td><td>-1.24505</td><td>-0.280213</td><td>-16.6662</td></tr><tr><th>6</th><td>0.0</td><td>6</td><td>0</td><td>0</td><td>1.05993</td><td>-0.685736</td><td>0.241882</td><td>0</td><td>-39.3424</td><td>-1.01082</td><td>0.0</td><td>0.00984874</td><td>-0.0728783</td><td>0</td><td>0</td><td>-5.753e-6</td><td>-4.96476e-7</td><td>0.0132576</td><td>-39.5991</td><td>-0.704755</td><td>-0.961495</td><td>-0.25674</td><td>-17.0637</td></tr><tr><th>7</th><td>0.0</td><td>7</td><td>0.754036</td><td>-0.224782</td><td>1.0781</td><td>-0.703036</td><td>0.237582</td><td>0.0393219</td><td>-38.6353</td><td>-8.3424e-7</td><td>0.0</td><td>0.00984874</td><td>-0.0731561</td><td>-27.0217</td><td>-1.21731e-7</td><td>-7.33542</td><td>-3.96447e-7</td><td>0.00925915</td><td>-39.3424</td><td>-5.83605e-7</td><td>-0.707134</td><td>-0.707135</td><td>-18.1584</td></tr><tr><th>8</th><td>0.0</td><td>8</td><td>0</td><td>0</td><td>1.06984</td><td>-0.732136</td><td>0.230282</td><td>0</td><td>-37.0357</td><td>-2.28408</td><td>0.0</td><td>0.0135057</td><td>-0.0808108</td><td>0</td><td>0</td><td>-15.2884</td><td>-4.68523e-7</td><td>0.0127008</td><td>-38.6349</td><td>-1.59916</td><td>-1.45671e-6</td><td>-1.59916</td><td>-20.6347</td></tr><tr><th>9</th><td>0.0</td><td>9</td><td>0</td><td>0</td><td>1.06031</td><td>-0.1969</td><td>0.0019</td><td>0</td><td>-38.6349</td><td>-2.08062e-6</td><td>0.0</td><td>0.0114491</td><td>-0.0762313</td><td>0</td><td>0</td><td>-7.04568e-6</td><td>-5.1421e-7</td><td>0.0135812</td><td>-39.8793</td><td>-1.455e-6</td><td>-1.24448</td><td>-1.24448</td><td>-18.159</td></tr><tr><th>10</th><td>0.0</td><td>10</td><td>0</td><td>0</td><td>1.06184</td><td>-0.83898</td><td>0.359303</td><td>0</td><td>-38.6349</td><td>-8.56217e-7</td><td>0.0</td><td>0.0114491</td><td>-0.0762314</td><td>0</td><td>0</td><td>-7.95412e-6</td><td>-5.06477e-7</td><td>0.0132937</td><td>-38.6349</td><td>-5.98753e-7</td><td>-1.45498e-6</td><td>-8.61801e-7</td><td>-18.159</td></tr><tr><th>11</th><td>0.0</td><td>11</td><td>0</td><td>0</td><td>1.0665</td><td>-0.66558</td><td>0.351503</td><td>0</td><td>-38.6349</td><td>-1.59033e-6</td><td>0.0</td><td>0.0114491</td><td>-0.0762315</td><td>0</td><td>0</td><td>-1.39723e-5</td><td>-4.84001e-7</td><td>0.0125001</td><td>-38.6349</td><td>-1.11093e-6</td><td>-5.98111e-7</td><td>-1.71796e-6</td><td>-18.159</td></tr><tr><th>12</th><td>0.0</td><td>12</td><td>0.72338</td><td>-0.327503</td><td>1.06877</td><td>-0.68848</td><td>0.337303</td><td>0.0655482</td><td>-38.6349</td><td>-2.24335e-6</td><td>0.0</td><td>0.0114491</td><td>-0.0762315</td><td>-27.0869</td><td>-1.31962e-7</td><td>-2.26282e-5</td><td>-4.741e-7</td><td>0.0121332</td><td>-38.6349</td><td>-1.56125e-6</td><td>-1.10678e-6</td><td>-4.56374e-7</td><td>-18.159</td></tr><tr><th>13</th><td>0.0</td><td>13</td><td>0</td><td>0</td><td>0.982619</td><td>-0.71018</td><td>0.330803</td><td>0</td><td>-50.0</td><td>-1.81371e-6</td><td>0.0</td><td>6.55482e-5</td><td>-3.68513e-11</td><td>0</td><td>0</td><td>0.0</td><td>-2.37784e-6</td><td>0.0199554</td><td>-50.0</td><td>-1.51142e-8</td><td>0.0</td><td>1.51142e-8</td><td>-2.33988e-8</td></tr><tr><th>14</th><td>0.0</td><td>14</td><td>0</td><td>0</td><td>0.977795</td><td>0.6457</td><td>0.1382</td><td>0</td><td>-50.0</td><td>-2.97282e-6</td><td>0.0</td><td>6.55482e-5</td><td>-5.15828e-9</td><td>0</td><td>0</td><td>0.0</td><td>-2.53801e-6</td><td>0.0187467</td><td>-50.0</td><td>-4.14176e-6</td><td>-2.52687e-6</td><td>1.61489e-6</td><td>-2.52347e-6</td></tr><tr><th>15</th><td>0.0</td><td>15</td><td>0</td><td>0</td><td>0.975027</td><td>0.0238</td><td>0.0091</td><td>0</td><td>-50.0</td><td>-3.33415e-6</td><td>0.0</td><td>6.55482e-5</td><td>-5.82971e-9</td><td>0</td><td>0</td><td>0.0</td><td>-2.64126e-6</td><td>0.0180617</td><td>-50.0</td><td>-4.64538e-6</td><td>-4.14196e-6</td><td>5.03423e-7</td><td>-3.30283e-6</td></tr></tbody></table>"
      ],
      "text/latex": [
       "\\begin{tabular}{r|ccccccccccccccccccccccc}\n",
       "\t& objective & bus & gp & gq & voltage & fp & fq & alpha & lambda & pi & gamma & rho & eta & delta\\_plus & delta\\_minus & mu\\_plus & mu\\_minus & voltvar & lambda\\_anc & rx\\_pi\\_i & rx\\_pi\\_a & r\\_sum\\_mu\\_d & eta\\_calc\\\\\n",
       "\t\\hline\n",
       "\t& Float64 & Any & Any & Any & Any & Any & Any & Any & Any & Any & Float64 & Any & Any & Any & Any & Any & Any & Any & Any & Any & Any & Any & Any\\\\\n",
       "\t\\hline\n",
       "\t1 & 42.1519 & 1 & -0.0653161 & 0.933285 & 1.0 & 0 & 0 & 0.89513 & -50.0 & 0.0 & -31.6737 & 0 & 0 & 0 & 0 & 0 & 0 & 0 & 0 & 0 & 0 & 0 & 0 \\\\\n",
       "\t2 & 0.0 & 2 & 0 & 0 & 0.900334 & -0.0 & -0.0 & 0 & -50.137 & -16.4398 & 0.0 & 0.000934452 & -0.0515086 & 0 & 0 & -2.93471e-7 & -91.1231 & 0.000116789 & -50.0 & -0.136999 & 0.0 & 0.136999 & -0.35219 \\\\\n",
       "\t3 & 0.0 & 3 & 0 & 0 & 0.960447 & -0.711016 & 0.795085 & 0 & -46.1416 & -10.7296 & 0.0 & 0.00440658 & -0.0597499 & 0 & 0 & -5.47177e-7 & -3.1151e-6 & 0.0142634 & -50.137 & -7.5073 & -11.5027 & -3.99537 & -6.53755 \\\\\n",
       "\t4 & 0.0 & 4 & 0 & 0 & 1.04775 & -1.50462 & 0.609585 & 0 & -39.8793 & -1.77957 & 0.0 & 0.00984874 & -0.0726673 & 0 & 0 & -3.42637e-6 & -5.94266e-7 & 0.0161622 & -46.1416 & -1.24516 & -7.50744 & -6.26228 & -16.2324 \\\\\n",
       "\t5 & 0.0 & 5 & 0 & 0 & 1.05393 & -1.50462 & 0.609585 & 0 & -39.5991 & -1.37906 & 0.0 & 0.00984874 & -0.0727774 & 0 & 0 & -4.31794e-6 & -5.40652e-7 & 0.014704 & -39.8793 & -0.964836 & -1.24505 & -0.280213 & -16.6662 \\\\\n",
       "\t6 & 0.0 & 6 & 0 & 0 & 1.05993 & -0.685736 & 0.241882 & 0 & -39.3424 & -1.01082 & 0.0 & 0.00984874 & -0.0728783 & 0 & 0 & -5.753e-6 & -4.96476e-7 & 0.0132576 & -39.5991 & -0.704755 & -0.961495 & -0.25674 & -17.0637 \\\\\n",
       "\t7 & 0.0 & 7 & 0.754036 & -0.224782 & 1.0781 & -0.703036 & 0.237582 & 0.0393219 & -38.6353 & -8.3424e-7 & 0.0 & 0.00984874 & -0.0731561 & -27.0217 & -1.21731e-7 & -7.33542 & -3.96447e-7 & 0.00925915 & -39.3424 & -5.83605e-7 & -0.707134 & -0.707135 & -18.1584 \\\\\n",
       "\t8 & 0.0 & 8 & 0 & 0 & 1.06984 & -0.732136 & 0.230282 & 0 & -37.0357 & -2.28408 & 0.0 & 0.0135057 & -0.0808108 & 0 & 0 & -15.2884 & -4.68523e-7 & 0.0127008 & -38.6349 & -1.59916 & -1.45671e-6 & -1.59916 & -20.6347 \\\\\n",
       "\t9 & 0.0 & 9 & 0 & 0 & 1.06031 & -0.1969 & 0.0019 & 0 & -38.6349 & -2.08062e-6 & 0.0 & 0.0114491 & -0.0762313 & 0 & 0 & -7.04568e-6 & -5.1421e-7 & 0.0135812 & -39.8793 & -1.455e-6 & -1.24448 & -1.24448 & -18.159 \\\\\n",
       "\t10 & 0.0 & 10 & 0 & 0 & 1.06184 & -0.83898 & 0.359303 & 0 & -38.6349 & -8.56217e-7 & 0.0 & 0.0114491 & -0.0762314 & 0 & 0 & -7.95412e-6 & -5.06477e-7 & 0.0132937 & -38.6349 & -5.98753e-7 & -1.45498e-6 & -8.61801e-7 & -18.159 \\\\\n",
       "\t11 & 0.0 & 11 & 0 & 0 & 1.0665 & -0.66558 & 0.351503 & 0 & -38.6349 & -1.59033e-6 & 0.0 & 0.0114491 & -0.0762315 & 0 & 0 & -1.39723e-5 & -4.84001e-7 & 0.0125001 & -38.6349 & -1.11093e-6 & -5.98111e-7 & -1.71796e-6 & -18.159 \\\\\n",
       "\t12 & 0.0 & 12 & 0.72338 & -0.327503 & 1.06877 & -0.68848 & 0.337303 & 0.0655482 & -38.6349 & -2.24335e-6 & 0.0 & 0.0114491 & -0.0762315 & -27.0869 & -1.31962e-7 & -2.26282e-5 & -4.741e-7 & 0.0121332 & -38.6349 & -1.56125e-6 & -1.10678e-6 & -4.56374e-7 & -18.159 \\\\\n",
       "\t13 & 0.0 & 13 & 0 & 0 & 0.982619 & -0.71018 & 0.330803 & 0 & -50.0 & -1.81371e-6 & 0.0 & 6.55482e-5 & -3.68513e-11 & 0 & 0 & 0.0 & -2.37784e-6 & 0.0199554 & -50.0 & -1.51142e-8 & 0.0 & 1.51142e-8 & -2.33988e-8 \\\\\n",
       "\t14 & 0.0 & 14 & 0 & 0 & 0.977795 & 0.6457 & 0.1382 & 0 & -50.0 & -2.97282e-6 & 0.0 & 6.55482e-5 & -5.15828e-9 & 0 & 0 & 0.0 & -2.53801e-6 & 0.0187467 & -50.0 & -4.14176e-6 & -2.52687e-6 & 1.61489e-6 & -2.52347e-6 \\\\\n",
       "\t15 & 0.0 & 15 & 0 & 0 & 0.975027 & 0.0238 & 0.0091 & 0 & -50.0 & -3.33415e-6 & 0.0 & 6.55482e-5 & -5.82971e-9 & 0 & 0 & 0.0 & -2.64126e-6 & 0.0180617 & -50.0 & -4.64538e-6 & -4.14196e-6 & 5.03423e-7 & -3.30283e-6 \\\\\n",
       "\\end{tabular}\n"
      ],
      "text/plain": [
       "15×23 DataFrame. Omitted printing of 17 columns\n",
       "│ Row │ objective │ bus │ gp         │ gq        │ voltage  │ fp        │\n",
       "│     │ \u001b[90mFloat64\u001b[39m   │ \u001b[90mAny\u001b[39m │ \u001b[90mAny\u001b[39m        │ \u001b[90mAny\u001b[39m       │ \u001b[90mAny\u001b[39m      │ \u001b[90mAny\u001b[39m       │\n",
       "├─────┼───────────┼─────┼────────────┼───────────┼──────────┼───────────┤\n",
       "│ 1   │ 42.1519   │ 1   │ -0.0653161 │ 0.933285  │ 1.0      │ 0         │\n",
       "│ 2   │ 0.0       │ 2   │ 0          │ 0         │ 0.900334 │ -0.0      │\n",
       "│ 3   │ 0.0       │ 3   │ 0          │ 0         │ 0.960447 │ -0.711016 │\n",
       "│ 4   │ 0.0       │ 4   │ 0          │ 0         │ 1.04775  │ -1.50462  │\n",
       "│ 5   │ 0.0       │ 5   │ 0          │ 0         │ 1.05393  │ -1.50462  │\n",
       "│ 6   │ 0.0       │ 6   │ 0          │ 0         │ 1.05993  │ -0.685736 │\n",
       "│ 7   │ 0.0       │ 7   │ 0.754036   │ -0.224782 │ 1.0781   │ -0.703036 │\n",
       "│ 8   │ 0.0       │ 8   │ 0          │ 0         │ 1.06984  │ -0.732136 │\n",
       "│ 9   │ 0.0       │ 9   │ 0          │ 0         │ 1.06031  │ -0.1969   │\n",
       "│ 10  │ 0.0       │ 10  │ 0          │ 0         │ 1.06184  │ -0.83898  │\n",
       "│ 11  │ 0.0       │ 11  │ 0          │ 0         │ 1.0665   │ -0.66558  │\n",
       "│ 12  │ 0.0       │ 12  │ 0.72338    │ -0.327503 │ 1.06877  │ -0.68848  │\n",
       "│ 13  │ 0.0       │ 13  │ 0          │ 0         │ 0.982619 │ -0.71018  │\n",
       "│ 14  │ 0.0       │ 14  │ 0          │ 0         │ 0.977795 │ 0.6457    │\n",
       "│ 15  │ 0.0       │ 15  │ 0          │ 0         │ 0.975027 │ 0.0238    │"
      ]
     },
     "metadata": {},
     "output_type": "display_data"
    },
    {
     "name": "stdout",
     "output_type": "stream",
     "text": [
      ">>> Case gen_uncert"
     ]
    },
    {
     "data": {
      "text/html": [
       "<table class=\"data-frame\"><thead><tr><th></th><th>objective</th><th>bus</th><th>gp</th><th>gq</th><th>voltage</th><th>fp</th><th>fq</th><th>alpha</th><th>lambda</th><th>pi</th><th>gamma</th><th>rho</th><th>eta</th><th>delta_plus</th><th>delta_minus</th><th>mu_plus</th><th>mu_minus</th><th>voltvar</th><th>lambda_anc</th><th>rx_pi_i</th><th>rx_pi_a</th><th>r_sum_mu_d</th><th>eta_calc</th></tr><tr><th></th><th>Float64</th><th>Any</th><th>Any</th><th>Any</th><th>Any</th><th>Any</th><th>Any</th><th>Any</th><th>Any</th><th>Any</th><th>Float64</th><th>Any</th><th>Any</th><th>Any</th><th>Any</th><th>Any</th><th>Any</th><th>Any</th><th>Any</th><th>Any</th><th>Any</th><th>Any</th><th>Any</th></tr></thead><tbody><p>15 rows × 23 columns</p><tr><th>1</th><td>40.8639</td><td>1</td><td>-0.178548</td><td>0.936735</td><td>1.0</td><td>0</td><td>0</td><td>0.991999</td><td>-50.0</td><td>0.0</td><td>-31.6228</td><td>0</td><td>0</td><td>0</td><td>0</td><td>0</td><td>0</td><td>0</td><td>0</td><td>0</td><td>0</td><td>0</td><td>0</td></tr><tr><th>2</th><td>0.0</td><td>2</td><td>0</td><td>0</td><td>0.9</td><td>-0.824248</td><td>0.798535</td><td>0</td><td>-50.137</td><td>-16.4434</td><td>0.0</td><td>0</td><td>0</td><td>0</td><td>0</td><td>-1.72035e-7</td><td>-89.8818</td><td>0</td><td>-50.0</td><td>-0.137028</td><td>0.0</td><td>0.137028</td><td>0</td></tr><tr><th>3</th><td>0.0</td><td>3</td><td>0</td><td>0</td><td>0.970042</td><td>-1.61785</td><td>0.613035</td><td>0</td><td>-46.3635</td><td>-11.0502</td><td>0.0</td><td>0</td><td>0</td><td>0</td><td>0</td><td>-2.54553e-7</td><td>-5.48936e-7</td><td>0</td><td>-50.137</td><td>-7.73166</td><td>-11.5052</td><td>-3.77352</td><td>0</td></tr><tr><th>4</th><td>0.0</td><td>4</td><td>0</td><td>0</td><td>1.07065</td><td>-1.61785</td><td>0.613035</td><td>0</td><td>-40.449</td><td>-2.59722</td><td>0.0</td><td>0</td><td>0</td><td>0</td><td>0</td><td>-9.59398e-7</td><td>-2.23593e-7</td><td>0</td><td>-46.3635</td><td>-1.81726</td><td>-7.73181</td><td>-5.91455</td><td>0</td></tr><tr><th>5</th><td>0.0</td><td>5</td><td>0</td><td>0</td><td>1.07661</td><td>-0.726788</td><td>0.273872</td><td>0</td><td>-40.04</td><td>-2.01268</td><td>0.0</td><td>0</td><td>0</td><td>0</td><td>0</td><td>-1.17303e-6</td><td>-2.15951e-7</td><td>0</td><td>-40.449</td><td>-1.40814</td><td>-1.8171</td><td>-0.40896</td><td>0</td></tr><tr><th>6</th><td>0.0</td><td>6</td><td>0</td><td>0</td><td>1.08241</td><td>-0.744088</td><td>0.269572</td><td>0</td><td>-39.6653</td><td>-1.47525</td><td>0.0</td><td>0</td><td>0</td><td>0</td><td>0</td><td>-1.5519e-6</td><td>-2.08817e-7</td><td>0</td><td>-40.04</td><td>-1.02856</td><td>-1.40326</td><td>-0.374702</td><td>0</td></tr><tr><th>7</th><td>0.0</td><td>7</td><td>0.795088</td><td>-0.256772</td><td>1.1</td><td>-0.773188</td><td>0.262272</td><td>0.00420203</td><td>-38.6333</td><td>-2.55501e-7</td><td>0.0</td><td>0</td><td>0</td><td>-27.0526</td><td>-8.45117e-8</td><td>-10.7058</td><td>-1.88918e-7</td><td>0</td><td>-39.6653</td><td>-1.7874e-7</td><td>-1.03204</td><td>-1.03204</td><td>0</td></tr><tr><th>8</th><td>0.0</td><td>8</td><td>0</td><td>0</td><td>1.09648</td><td>-0.1969</td><td>0.0019</td><td>0</td><td>-39.5811</td><td>-1.35618</td><td>0.0</td><td>0</td><td>0</td><td>0</td><td>0</td><td>-2.43789e-5</td><td>-0.0</td><td>0</td><td>-39.5811</td><td>-0.949505</td><td>-0.949508</td><td>-2.55003e-6</td><td>0</td></tr><tr><th>9</th><td>0.0</td><td>9</td><td>0</td><td>0</td><td>1.08718</td><td>-0.91116</td><td>0.330763</td><td>0</td><td>-39.5811</td><td>-1.35618</td><td>0.0</td><td>0</td><td>0</td><td>0</td><td>0</td><td>-0.0</td><td>-1.99028e-7</td><td>0</td><td>-40.449</td><td>-0.948394</td><td>-1.81627</td><td>-0.867873</td><td>0</td></tr><tr><th>10</th><td>0.0</td><td>10</td><td>0</td><td>0</td><td>1.08971</td><td>-0.73776</td><td>0.322963</td><td>0</td><td>-39.3679</td><td>-1.05125</td><td>0.0</td><td>0</td><td>0</td><td>0</td><td>0</td><td>-3.19768e-6</td><td>-1.95807e-7</td><td>0</td><td>-39.5811</td><td>-0.735142</td><td>-0.948378</td><td>-0.213236</td><td>0</td></tr><tr><th>11</th><td>0.0</td><td>11</td><td>0</td><td>0</td><td>1.09674</td><td>-0.76066</td><td>0.308763</td><td>0</td><td>-38.854</td><td>-0.315588</td><td>0.0</td><td>0</td><td>0</td><td>0</td><td>0</td><td>-3.47112e-5</td><td>-1.8719e-7</td><td>0</td><td>-39.3679</td><td>-0.220454</td><td>-0.734353</td><td>-0.513899</td><td>0</td></tr><tr><th>12</th><td>0.0</td><td>12</td><td>0.79556</td><td>-0.298963</td><td>1.1</td><td>-0.78236</td><td>0.302263</td><td>0.00379866</td><td>-38.6343</td><td>-5.01945e-7</td><td>0.0</td><td>0</td><td>0</td><td>-27.0527</td><td>-8.25856e-8</td><td>-10.6618</td><td>-1.83371e-7</td><td>0</td><td>-38.854</td><td>-3.49326e-7</td><td>-0.219632</td><td>-0.219632</td><td>0</td></tr><tr><th>13</th><td>0.0</td><td>13</td><td>0</td><td>0</td><td>0.982619</td><td>0.6457</td><td>0.1382</td><td>0</td><td>-50.0</td><td>0.0</td><td>0.0</td><td>0</td><td>0</td><td>0</td><td>0</td><td>-0.0</td><td>-0.0</td><td>0</td><td>-50.0</td><td>0.0</td><td>0.0</td><td>0.0</td><td>0</td></tr><tr><th>14</th><td>0.0</td><td>14</td><td>0</td><td>0</td><td>0.977795</td><td>0.0238</td><td>0.0091</td><td>0</td><td>-50.0</td><td>0.0</td><td>0.0</td><td>0</td><td>0</td><td>0</td><td>0</td><td>-0.0</td><td>-0.0</td><td>0</td><td>-50.0</td><td>0.0</td><td>0.0</td><td>0.0</td><td>0</td></tr><tr><th>15</th><td>0.0</td><td>15</td><td>0</td><td>0</td><td>0.975027</td><td>0.0224</td><td>0.0083</td><td>0</td><td>-50.0</td><td>0.0</td><td>0.0</td><td>0</td><td>0</td><td>0</td><td>0</td><td>-0.0</td><td>-0.0</td><td>0</td><td>-50.0</td><td>0.0</td><td>0.0</td><td>0.0</td><td>0</td></tr></tbody></table>"
      ],
      "text/latex": [
       "\\begin{tabular}{r|ccccccccccccccccccccccc}\n",
       "\t& objective & bus & gp & gq & voltage & fp & fq & alpha & lambda & pi & gamma & rho & eta & delta\\_plus & delta\\_minus & mu\\_plus & mu\\_minus & voltvar & lambda\\_anc & rx\\_pi\\_i & rx\\_pi\\_a & r\\_sum\\_mu\\_d & eta\\_calc\\\\\n",
       "\t\\hline\n",
       "\t& Float64 & Any & Any & Any & Any & Any & Any & Any & Any & Any & Float64 & Any & Any & Any & Any & Any & Any & Any & Any & Any & Any & Any & Any\\\\\n",
       "\t\\hline\n",
       "\t1 & 40.8639 & 1 & -0.178548 & 0.936735 & 1.0 & 0 & 0 & 0.991999 & -50.0 & 0.0 & -31.6228 & 0 & 0 & 0 & 0 & 0 & 0 & 0 & 0 & 0 & 0 & 0 & 0 \\\\\n",
       "\t2 & 0.0 & 2 & 0 & 0 & 0.9 & -0.824248 & 0.798535 & 0 & -50.137 & -16.4434 & 0.0 & 0 & 0 & 0 & 0 & -1.72035e-7 & -89.8818 & 0 & -50.0 & -0.137028 & 0.0 & 0.137028 & 0 \\\\\n",
       "\t3 & 0.0 & 3 & 0 & 0 & 0.970042 & -1.61785 & 0.613035 & 0 & -46.3635 & -11.0502 & 0.0 & 0 & 0 & 0 & 0 & -2.54553e-7 & -5.48936e-7 & 0 & -50.137 & -7.73166 & -11.5052 & -3.77352 & 0 \\\\\n",
       "\t4 & 0.0 & 4 & 0 & 0 & 1.07065 & -1.61785 & 0.613035 & 0 & -40.449 & -2.59722 & 0.0 & 0 & 0 & 0 & 0 & -9.59398e-7 & -2.23593e-7 & 0 & -46.3635 & -1.81726 & -7.73181 & -5.91455 & 0 \\\\\n",
       "\t5 & 0.0 & 5 & 0 & 0 & 1.07661 & -0.726788 & 0.273872 & 0 & -40.04 & -2.01268 & 0.0 & 0 & 0 & 0 & 0 & -1.17303e-6 & -2.15951e-7 & 0 & -40.449 & -1.40814 & -1.8171 & -0.40896 & 0 \\\\\n",
       "\t6 & 0.0 & 6 & 0 & 0 & 1.08241 & -0.744088 & 0.269572 & 0 & -39.6653 & -1.47525 & 0.0 & 0 & 0 & 0 & 0 & -1.5519e-6 & -2.08817e-7 & 0 & -40.04 & -1.02856 & -1.40326 & -0.374702 & 0 \\\\\n",
       "\t7 & 0.0 & 7 & 0.795088 & -0.256772 & 1.1 & -0.773188 & 0.262272 & 0.00420203 & -38.6333 & -2.55501e-7 & 0.0 & 0 & 0 & -27.0526 & -8.45117e-8 & -10.7058 & -1.88918e-7 & 0 & -39.6653 & -1.7874e-7 & -1.03204 & -1.03204 & 0 \\\\\n",
       "\t8 & 0.0 & 8 & 0 & 0 & 1.09648 & -0.1969 & 0.0019 & 0 & -39.5811 & -1.35618 & 0.0 & 0 & 0 & 0 & 0 & -2.43789e-5 & -0.0 & 0 & -39.5811 & -0.949505 & -0.949508 & -2.55003e-6 & 0 \\\\\n",
       "\t9 & 0.0 & 9 & 0 & 0 & 1.08718 & -0.91116 & 0.330763 & 0 & -39.5811 & -1.35618 & 0.0 & 0 & 0 & 0 & 0 & -0.0 & -1.99028e-7 & 0 & -40.449 & -0.948394 & -1.81627 & -0.867873 & 0 \\\\\n",
       "\t10 & 0.0 & 10 & 0 & 0 & 1.08971 & -0.73776 & 0.322963 & 0 & -39.3679 & -1.05125 & 0.0 & 0 & 0 & 0 & 0 & -3.19768e-6 & -1.95807e-7 & 0 & -39.5811 & -0.735142 & -0.948378 & -0.213236 & 0 \\\\\n",
       "\t11 & 0.0 & 11 & 0 & 0 & 1.09674 & -0.76066 & 0.308763 & 0 & -38.854 & -0.315588 & 0.0 & 0 & 0 & 0 & 0 & -3.47112e-5 & -1.8719e-7 & 0 & -39.3679 & -0.220454 & -0.734353 & -0.513899 & 0 \\\\\n",
       "\t12 & 0.0 & 12 & 0.79556 & -0.298963 & 1.1 & -0.78236 & 0.302263 & 0.00379866 & -38.6343 & -5.01945e-7 & 0.0 & 0 & 0 & -27.0527 & -8.25856e-8 & -10.6618 & -1.83371e-7 & 0 & -38.854 & -3.49326e-7 & -0.219632 & -0.219632 & 0 \\\\\n",
       "\t13 & 0.0 & 13 & 0 & 0 & 0.982619 & 0.6457 & 0.1382 & 0 & -50.0 & 0.0 & 0.0 & 0 & 0 & 0 & 0 & -0.0 & -0.0 & 0 & -50.0 & 0.0 & 0.0 & 0.0 & 0 \\\\\n",
       "\t14 & 0.0 & 14 & 0 & 0 & 0.977795 & 0.0238 & 0.0091 & 0 & -50.0 & 0.0 & 0.0 & 0 & 0 & 0 & 0 & -0.0 & -0.0 & 0 & -50.0 & 0.0 & 0.0 & 0.0 & 0 \\\\\n",
       "\t15 & 0.0 & 15 & 0 & 0 & 0.975027 & 0.0224 & 0.0083 & 0 & -50.0 & 0.0 & 0.0 & 0 & 0 & 0 & 0 & -0.0 & -0.0 & 0 & -50.0 & 0.0 & 0.0 & 0.0 & 0 \\\\\n",
       "\\end{tabular}\n"
      ],
      "text/plain": [
       "15×23 DataFrame. Omitted printing of 17 columns\n",
       "│ Row │ objective │ bus │ gp        │ gq        │ voltage  │ fp        │\n",
       "│     │ \u001b[90mFloat64\u001b[39m   │ \u001b[90mAny\u001b[39m │ \u001b[90mAny\u001b[39m       │ \u001b[90mAny\u001b[39m       │ \u001b[90mAny\u001b[39m      │ \u001b[90mAny\u001b[39m       │\n",
       "├─────┼───────────┼─────┼───────────┼───────────┼──────────┼───────────┤\n",
       "│ 1   │ 40.8639   │ 1   │ -0.178548 │ 0.936735  │ 1.0      │ 0         │\n",
       "│ 2   │ 0.0       │ 2   │ 0         │ 0         │ 0.9      │ -0.824248 │\n",
       "│ 3   │ 0.0       │ 3   │ 0         │ 0         │ 0.970042 │ -1.61785  │\n",
       "│ 4   │ 0.0       │ 4   │ 0         │ 0         │ 1.07065  │ -1.61785  │\n",
       "│ 5   │ 0.0       │ 5   │ 0         │ 0         │ 1.07661  │ -0.726788 │\n",
       "│ 6   │ 0.0       │ 6   │ 0         │ 0         │ 1.08241  │ -0.744088 │\n",
       "│ 7   │ 0.0       │ 7   │ 0.795088  │ -0.256772 │ 1.1      │ -0.773188 │\n",
       "│ 8   │ 0.0       │ 8   │ 0         │ 0         │ 1.09648  │ -0.1969   │\n",
       "│ 9   │ 0.0       │ 9   │ 0         │ 0         │ 1.08718  │ -0.91116  │\n",
       "│ 10  │ 0.0       │ 10  │ 0         │ 0         │ 1.08971  │ -0.73776  │\n",
       "│ 11  │ 0.0       │ 11  │ 0         │ 0         │ 1.09674  │ -0.76066  │\n",
       "│ 12  │ 0.0       │ 12  │ 0.79556   │ -0.298963 │ 1.1      │ -0.78236  │\n",
       "│ 13  │ 0.0       │ 13  │ 0         │ 0         │ 0.982619 │ 0.6457    │\n",
       "│ 14  │ 0.0       │ 14  │ 0         │ 0         │ 0.977795 │ 0.0238    │\n",
       "│ 15  │ 0.0       │ 15  │ 0         │ 0         │ 0.975027 │ 0.0224    │"
      ]
     },
     "metadata": {},
     "output_type": "display_data"
    },
    {
     "name": "stdout",
     "output_type": "stream",
     "text": [
      ">>> Case no_uncert"
     ]
    },
    {
     "data": {
      "text/html": [
       "<table class=\"data-frame\"><thead><tr><th></th><th>objective</th><th>bus</th><th>gp</th><th>gq</th><th>voltage</th><th>fp</th><th>fq</th><th>alpha</th><th>lambda</th><th>pi</th><th>gamma</th><th>rho</th><th>eta</th><th>delta_plus</th><th>delta_minus</th><th>mu_plus</th><th>mu_minus</th><th>voltvar</th><th>lambda_anc</th><th>rx_pi_i</th><th>rx_pi_a</th><th>r_sum_mu_d</th><th>eta_calc</th></tr><tr><th></th><th>Float64</th><th>Any</th><th>Any</th><th>Any</th><th>Any</th><th>Any</th><th>Any</th><th>Any</th><th>Any</th><th>Any</th><th>Float64</th><th>Any</th><th>Any</th><th>Any</th><th>Any</th><th>Any</th><th>Any</th><th>Any</th><th>Any</th><th>Any</th><th>Any</th><th>Any</th><th>Any</th></tr></thead><tbody><p>15 rows × 23 columns</p><tr><th>1</th><td>8.49057</td><td>1</td><td>-0.178548</td><td>0.936735</td><td>1.0</td><td>0</td><td>0</td><td>0</td><td>-50.0</td><td>0.0</td><td>0.0</td><td>0</td><td>0</td><td>0</td><td>0</td><td>0</td><td>0</td><td>0</td><td>0</td><td>0</td><td>0</td><td>0</td><td>0</td></tr><tr><th>2</th><td>0.0</td><td>2</td><td>0</td><td>0</td><td>0.9</td><td>-0.824248</td><td>0.798535</td><td>0</td><td>-50.4708</td><td>-56.4929</td><td>0.0</td><td>0</td><td>0</td><td>0</td><td>0</td><td>-0.0</td><td>-308.797</td><td>0</td><td>-50.0</td><td>-0.470774</td><td>0.0</td><td>0.470774</td><td>0</td></tr><tr><th>3</th><td>0.0</td><td>3</td><td>0</td><td>0</td><td>0.970042</td><td>-1.61785</td><td>0.613035</td><td>0</td><td>-37.5065</td><td>-37.9641</td><td>0.0</td><td>0</td><td>0</td><td>0</td><td>0</td><td>-5.98486e-7</td><td>-1.23903e-6</td><td>0</td><td>-50.4708</td><td>-26.5628</td><td>-39.5271</td><td>-12.9643</td><td>0</td></tr><tr><th>4</th><td>0.0</td><td>4</td><td>0</td><td>0</td><td>1.07065</td><td>-1.61785</td><td>0.613035</td><td>0</td><td>-17.1865</td><td>-8.92298</td><td>0.0</td><td>0</td><td>0</td><td>0</td><td>0</td><td>-2.74113e-6</td><td>-4.58805e-7</td><td>0</td><td>-37.5065</td><td>-6.24338</td><td>-26.5634</td><td>-20.32</td><td>0</td></tr><tr><th>5</th><td>0.0</td><td>5</td><td>0</td><td>0</td><td>1.07661</td><td>-0.725632</td><td>0.273064</td><td>0</td><td>-15.7815</td><td>-6.91476</td><td>0.0</td><td>0</td><td>0</td><td>0</td><td>0</td><td>-3.47323e-6</td><td>-4.40339e-7</td><td>0</td><td>-17.1865</td><td>-4.8378</td><td>-6.24282</td><td>-1.40502</td><td>0</td></tr><tr><th>6</th><td>0.0</td><td>6</td><td>0</td><td>0</td><td>1.08241</td><td>-0.742932</td><td>0.268764</td><td>0</td><td>-14.4942</td><td>-5.06837</td><td>0.0</td><td>0</td><td>0</td><td>0</td><td>0</td><td>-4.64203e-6</td><td>-4.23712e-7</td><td>0</td><td>-15.7815</td><td>-3.53373</td><td>-4.82105</td><td>-1.28732</td><td>0</td></tr><tr><th>7</th><td>0.0</td><td>7</td><td>0.793932</td><td>-0.255964</td><td>1.1</td><td>-0.772032</td><td>0.261464</td><td>0</td><td>-10.9485</td><td>-9.33885e-7</td><td>0.0</td><td>0</td><td>0</td><td>-4.86351e-5</td><td>-1.82238e-7</td><td>-36.7806</td><td>-3.798e-7</td><td>0</td><td>-14.4942</td><td>-6.53313e-7</td><td>-3.54565</td><td>-3.54565</td><td>0</td></tr><tr><th>8</th><td>0.0</td><td>8</td><td>0</td><td>0</td><td>1.09648</td><td>-0.1969</td><td>0.0019</td><td>0</td><td>-14.2049</td><td>-4.65928</td><td>0.0</td><td>0</td><td>0</td><td>0</td><td>0</td><td>-3.01682e-5</td><td>-0.0</td><td>0</td><td>-14.2049</td><td>-3.26212</td><td>-3.26213</td><td>-3.15559e-6</td><td>0</td></tr><tr><th>9</th><td>0.0</td><td>9</td><td>0</td><td>0</td><td>1.08718</td><td>-0.912316</td><td>0.331571</td><td>0</td><td>-14.2049</td><td>-4.65929</td><td>0.0</td><td>0</td><td>0</td><td>0</td><td>0</td><td>-0.0</td><td>-4.15153e-7</td><td>0</td><td>-17.1865</td><td>-3.2583</td><td>-6.23996</td><td>-2.98166</td><td>0</td></tr><tr><th>10</th><td>0.0</td><td>10</td><td>0</td><td>0</td><td>1.08971</td><td>-0.738916</td><td>0.323771</td><td>0</td><td>-13.4723</td><td>-3.61168</td><td>0.0</td><td>0</td><td>0</td><td>0</td><td>0</td><td>-8.26559e-6</td><td>-4.09258e-7</td><td>0</td><td>-14.2049</td><td>-2.52565</td><td>-3.25824</td><td>-0.732593</td><td>0</td></tr><tr><th>11</th><td>0.0</td><td>11</td><td>0</td><td>0</td><td>1.09674</td><td>-0.761816</td><td>0.309571</td><td>0</td><td>-11.7067</td><td>-1.08423</td><td>0.0</td><td>0</td><td>0</td><td>0</td><td>0</td><td>-3.53861e-5</td><td>-3.93576e-7</td><td>0</td><td>-13.4723</td><td>-0.757393</td><td>-2.52294</td><td>-1.76555</td><td>0</td></tr><tr><th>12</th><td>0.0</td><td>12</td><td>0.796716</td><td>-0.299771</td><td>1.1</td><td>-0.783516</td><td>0.303071</td><td>0</td><td>-10.9522</td><td>-1.57868e-6</td><td>0.0</td><td>0</td><td>0</td><td>-0.000166394</td><td>-1.81452e-7</td><td>-36.6296</td><td>-3.86626e-7</td><td>0</td><td>-11.7067</td><td>-1.09868e-6</td><td>-0.754569</td><td>-0.75457</td><td>0</td></tr><tr><th>13</th><td>0.0</td><td>13</td><td>0</td><td>0</td><td>0.982619</td><td>0.6457</td><td>0.1382</td><td>0</td><td>-50.0</td><td>0.0</td><td>0.0</td><td>0</td><td>0</td><td>0</td><td>0</td><td>-0.0</td><td>-0.0</td><td>0</td><td>-50.0</td><td>0.0</td><td>0.0</td><td>0.0</td><td>0</td></tr><tr><th>14</th><td>0.0</td><td>14</td><td>0</td><td>0</td><td>0.977795</td><td>0.0238</td><td>0.0091</td><td>0</td><td>-50.0</td><td>0.0</td><td>0.0</td><td>0</td><td>0</td><td>0</td><td>0</td><td>-0.0</td><td>-0.0</td><td>0</td><td>-50.0</td><td>0.0</td><td>0.0</td><td>0.0</td><td>0</td></tr><tr><th>15</th><td>0.0</td><td>15</td><td>0</td><td>0</td><td>0.975027</td><td>0.0224</td><td>0.0083</td><td>0</td><td>-50.0</td><td>0.0</td><td>0.0</td><td>0</td><td>0</td><td>0</td><td>0</td><td>-0.0</td><td>-0.0</td><td>0</td><td>-50.0</td><td>0.0</td><td>0.0</td><td>0.0</td><td>0</td></tr></tbody></table>"
      ],
      "text/latex": [
       "\\begin{tabular}{r|ccccccccccccccccccccccc}\n",
       "\t& objective & bus & gp & gq & voltage & fp & fq & alpha & lambda & pi & gamma & rho & eta & delta\\_plus & delta\\_minus & mu\\_plus & mu\\_minus & voltvar & lambda\\_anc & rx\\_pi\\_i & rx\\_pi\\_a & r\\_sum\\_mu\\_d & eta\\_calc\\\\\n",
       "\t\\hline\n",
       "\t& Float64 & Any & Any & Any & Any & Any & Any & Any & Any & Any & Float64 & Any & Any & Any & Any & Any & Any & Any & Any & Any & Any & Any & Any\\\\\n",
       "\t\\hline\n",
       "\t1 & 8.49057 & 1 & -0.178548 & 0.936735 & 1.0 & 0 & 0 & 0 & -50.0 & 0.0 & 0.0 & 0 & 0 & 0 & 0 & 0 & 0 & 0 & 0 & 0 & 0 & 0 & 0 \\\\\n",
       "\t2 & 0.0 & 2 & 0 & 0 & 0.9 & -0.824248 & 0.798535 & 0 & -50.4708 & -56.4929 & 0.0 & 0 & 0 & 0 & 0 & -0.0 & -308.797 & 0 & -50.0 & -0.470774 & 0.0 & 0.470774 & 0 \\\\\n",
       "\t3 & 0.0 & 3 & 0 & 0 & 0.970042 & -1.61785 & 0.613035 & 0 & -37.5065 & -37.9641 & 0.0 & 0 & 0 & 0 & 0 & -5.98486e-7 & -1.23903e-6 & 0 & -50.4708 & -26.5628 & -39.5271 & -12.9643 & 0 \\\\\n",
       "\t4 & 0.0 & 4 & 0 & 0 & 1.07065 & -1.61785 & 0.613035 & 0 & -17.1865 & -8.92298 & 0.0 & 0 & 0 & 0 & 0 & -2.74113e-6 & -4.58805e-7 & 0 & -37.5065 & -6.24338 & -26.5634 & -20.32 & 0 \\\\\n",
       "\t5 & 0.0 & 5 & 0 & 0 & 1.07661 & -0.725632 & 0.273064 & 0 & -15.7815 & -6.91476 & 0.0 & 0 & 0 & 0 & 0 & -3.47323e-6 & -4.40339e-7 & 0 & -17.1865 & -4.8378 & -6.24282 & -1.40502 & 0 \\\\\n",
       "\t6 & 0.0 & 6 & 0 & 0 & 1.08241 & -0.742932 & 0.268764 & 0 & -14.4942 & -5.06837 & 0.0 & 0 & 0 & 0 & 0 & -4.64203e-6 & -4.23712e-7 & 0 & -15.7815 & -3.53373 & -4.82105 & -1.28732 & 0 \\\\\n",
       "\t7 & 0.0 & 7 & 0.793932 & -0.255964 & 1.1 & -0.772032 & 0.261464 & 0 & -10.9485 & -9.33885e-7 & 0.0 & 0 & 0 & -4.86351e-5 & -1.82238e-7 & -36.7806 & -3.798e-7 & 0 & -14.4942 & -6.53313e-7 & -3.54565 & -3.54565 & 0 \\\\\n",
       "\t8 & 0.0 & 8 & 0 & 0 & 1.09648 & -0.1969 & 0.0019 & 0 & -14.2049 & -4.65928 & 0.0 & 0 & 0 & 0 & 0 & -3.01682e-5 & -0.0 & 0 & -14.2049 & -3.26212 & -3.26213 & -3.15559e-6 & 0 \\\\\n",
       "\t9 & 0.0 & 9 & 0 & 0 & 1.08718 & -0.912316 & 0.331571 & 0 & -14.2049 & -4.65929 & 0.0 & 0 & 0 & 0 & 0 & -0.0 & -4.15153e-7 & 0 & -17.1865 & -3.2583 & -6.23996 & -2.98166 & 0 \\\\\n",
       "\t10 & 0.0 & 10 & 0 & 0 & 1.08971 & -0.738916 & 0.323771 & 0 & -13.4723 & -3.61168 & 0.0 & 0 & 0 & 0 & 0 & -8.26559e-6 & -4.09258e-7 & 0 & -14.2049 & -2.52565 & -3.25824 & -0.732593 & 0 \\\\\n",
       "\t11 & 0.0 & 11 & 0 & 0 & 1.09674 & -0.761816 & 0.309571 & 0 & -11.7067 & -1.08423 & 0.0 & 0 & 0 & 0 & 0 & -3.53861e-5 & -3.93576e-7 & 0 & -13.4723 & -0.757393 & -2.52294 & -1.76555 & 0 \\\\\n",
       "\t12 & 0.0 & 12 & 0.796716 & -0.299771 & 1.1 & -0.783516 & 0.303071 & 0 & -10.9522 & -1.57868e-6 & 0.0 & 0 & 0 & -0.000166394 & -1.81452e-7 & -36.6296 & -3.86626e-7 & 0 & -11.7067 & -1.09868e-6 & -0.754569 & -0.75457 & 0 \\\\\n",
       "\t13 & 0.0 & 13 & 0 & 0 & 0.982619 & 0.6457 & 0.1382 & 0 & -50.0 & 0.0 & 0.0 & 0 & 0 & 0 & 0 & -0.0 & -0.0 & 0 & -50.0 & 0.0 & 0.0 & 0.0 & 0 \\\\\n",
       "\t14 & 0.0 & 14 & 0 & 0 & 0.977795 & 0.0238 & 0.0091 & 0 & -50.0 & 0.0 & 0.0 & 0 & 0 & 0 & 0 & -0.0 & -0.0 & 0 & -50.0 & 0.0 & 0.0 & 0.0 & 0 \\\\\n",
       "\t15 & 0.0 & 15 & 0 & 0 & 0.975027 & 0.0224 & 0.0083 & 0 & -50.0 & 0.0 & 0.0 & 0 & 0 & 0 & 0 & -0.0 & -0.0 & 0 & -50.0 & 0.0 & 0.0 & 0.0 & 0 \\\\\n",
       "\\end{tabular}\n"
      ],
      "text/plain": [
       "15×23 DataFrame. Omitted printing of 17 columns\n",
       "│ Row │ objective │ bus │ gp        │ gq        │ voltage  │ fp        │\n",
       "│     │ \u001b[90mFloat64\u001b[39m   │ \u001b[90mAny\u001b[39m │ \u001b[90mAny\u001b[39m       │ \u001b[90mAny\u001b[39m       │ \u001b[90mAny\u001b[39m      │ \u001b[90mAny\u001b[39m       │\n",
       "├─────┼───────────┼─────┼───────────┼───────────┼──────────┼───────────┤\n",
       "│ 1   │ 8.49057   │ 1   │ -0.178548 │ 0.936735  │ 1.0      │ 0         │\n",
       "│ 2   │ 0.0       │ 2   │ 0         │ 0         │ 0.9      │ -0.824248 │\n",
       "│ 3   │ 0.0       │ 3   │ 0         │ 0         │ 0.970042 │ -1.61785  │\n",
       "│ 4   │ 0.0       │ 4   │ 0         │ 0         │ 1.07065  │ -1.61785  │\n",
       "│ 5   │ 0.0       │ 5   │ 0         │ 0         │ 1.07661  │ -0.725632 │\n",
       "│ 6   │ 0.0       │ 6   │ 0         │ 0         │ 1.08241  │ -0.742932 │\n",
       "│ 7   │ 0.0       │ 7   │ 0.793932  │ -0.255964 │ 1.1      │ -0.772032 │\n",
       "│ 8   │ 0.0       │ 8   │ 0         │ 0         │ 1.09648  │ -0.1969   │\n",
       "│ 9   │ 0.0       │ 9   │ 0         │ 0         │ 1.08718  │ -0.912316 │\n",
       "│ 10  │ 0.0       │ 10  │ 0         │ 0         │ 1.08971  │ -0.738916 │\n",
       "│ 11  │ 0.0       │ 11  │ 0         │ 0         │ 1.09674  │ -0.761816 │\n",
       "│ 12  │ 0.0       │ 12  │ 0.796716  │ -0.299771 │ 1.1      │ -0.783516 │\n",
       "│ 13  │ 0.0       │ 13  │ 0         │ 0         │ 0.982619 │ 0.6457    │\n",
       "│ 14  │ 0.0       │ 14  │ 0         │ 0         │ 0.977795 │ 0.0238    │\n",
       "│ 15  │ 0.0       │ 15  │ 0         │ 0         │ 0.975027 │ 0.0224    │"
      ]
     },
     "metadata": {},
     "output_type": "display_data"
    }
   ],
   "source": [
    "experiment2 = Dict()\n",
    "\n",
    "# Load feeder data \n",
    "feeder = load_feeder(\"data/feeder_data/basecase_noneg/\")\n",
    "\n",
    "# Set up\n",
    "relative_std = 0.2\n",
    "loads = [b.d_P for b in feeder.buses]\n",
    "std_vec = abs.(loads) .* relative_std\n",
    "var_vec = std_vec.^2\n",
    "Σ = diagm(0 => var_vec)\n",
    "\n",
    "# ex2_general_settings\n",
    "ex2_general_settings = Dict(\n",
    "    \"var_vec\" => var_vec,\n",
    "    \"Σ\" => Σ,\n",
    "    \"z_g\" => 1.945,\n",
    "    \"z_v\" => 2.576,\n",
    "    \"toggle_volt_cc\" => false,\n",
    "    \"toggle_gen_cc\" => false,\n",
    "    \"thermal_const_method\" => 0,\n",
    "    \"vfac\" => 0.1, # directly sets symetric voltage limit to min:(1-vfac) max:(1+vfac), use import values if vfac=0\n",
    "    \"qcfac\" => 1,\n",
    "    \"output_level\" => 0,\n",
    "    \"Ψ\" => 0,\n",
    ")\n",
    "\n",
    "# ex2_no_uncert:\n",
    "ex2_no_uncert_settings = copy(ex2_general_settings)\n",
    "ex2_no_uncert_settings[\"toggle_volt_cc\"] = false\n",
    "ex2_no_uncert_settings[\"toggle_gen_cc\"] = false\n",
    "\n",
    "experiment2[\"no_uncert\"] = Dict(\n",
    "    \"verbose\" => \"no_uncert\",\n",
    "    \"feeder\" => feeder,\n",
    "    \"settings\" => ex2_no_uncert_settings,\n",
    ")\n",
    "\n",
    "# ex2_uncert:\n",
    "ex2_uncert_settings = copy(ex2_general_settings)\n",
    "ex2_uncert_settings[\"toggle_volt_cc\"] = true\n",
    "ex2_uncert_settings[\"toggle_gen_cc\"] = true\n",
    "experiment2[\"uncert\"] = Dict(\n",
    "    \"verbose\" => \"uncert\",\n",
    "    \"feeder\" => feeder,\n",
    "    \"settings\" => ex2_uncert_settings,\n",
    ")\n",
    "\n",
    "# ex2_gen_uncert:\n",
    "ex2_uncert_settings = copy(ex2_general_settings)\n",
    "ex2_uncert_settings[\"toggle_volt_cc\"] = false\n",
    "ex2_uncert_settings[\"toggle_gen_cc\"] = true\n",
    "experiment2[\"gen_uncert\"] = Dict(\n",
    "    \"verbose\" => \"gen_uncert\",\n",
    "    \"feeder\" => feeder,\n",
    "    \"settings\" => ex2_uncert_settings,\n",
    ")\n",
    "\n",
    "# Run \n",
    "experiment2 = run_experiment(experiment2)\n",
    "\n",
    "# Show results\n",
    "sleep(.2) # just to ensure correct printing order\n",
    "for case in keys(experiment2)\n",
    "    print(\">>> Case $case\")\n",
    "    sleep(.2)\n",
    "    display(experiment2[case][\"results\"])\n",
    "end"
   ]
  },
  {
   "cell_type": "code",
   "execution_count": 44,
   "metadata": {},
   "outputs": [
    {
     "name": "stdout",
     "output_type": "stream",
     "text": [
      "Saving uncert\n",
      "Saving gen_uncert\n",
      "Saving no_uncert\n",
      ">>>> Saved with timestamp 190320_1040\n"
     ]
    }
   ],
   "source": [
    "save_experiment(\"experiment2\", experiment2)"
   ]
  },
  {
   "cell_type": "markdown",
   "metadata": {},
   "source": [
    "## Experiment 3\n",
    "\n",
    "Same as before but instead of tighter voltage limits try higher load"
   ]
  },
  {
   "cell_type": "code",
   "execution_count": 10,
   "metadata": {},
   "outputs": [
    {
     "name": "stdout",
     "output_type": "stream",
     "text": [
      ">>>>> Reading feeder data from data/feeder_data/basecase_noneg/\n",
      "Running ex3_uncert\n",
      ">>>> Building Model\n",
      ">>>> Running Model\n",
      "MOSEK warning 705: #3 (nearly) zero elements are specified in sparse row ''(87) of matrix 'A'.\n",
      "MOSEK warning 705: #4 (nearly) zero elements are specified in sparse row ''(93) of matrix 'A'.\n",
      ">>>> Model finished with status OPTIMAL in 0.006354567 seconds\n",
      ">>>> Post-Processing\n",
      "\n",
      "Running ex3_gen_uncert\n",
      ">>>> Building Model\n",
      ">>>> Running Model\n",
      ">>>> Model finished with status OPTIMAL in 0.002476817 seconds\n",
      ">>>> Post-Processing\n",
      "\n",
      "Running ex3_no_uncert\n",
      ">>>> Building Model\n",
      ">>>> Running Model\n",
      ">>>> Model finished with status OPTIMAL in 0.00223549 seconds\n",
      ">>>> Post-Processing\n",
      "\n",
      ">>> Case uncert"
     ]
    },
    {
     "data": {
      "text/html": [
       "<table class=\"data-frame\"><thead><tr><th></th><th>objective</th><th>bus</th><th>gp</th><th>gq</th><th>voltage</th><th>alpha</th><th>lambda</th><th>pi</th><th>gamma</th><th>eta</th><th>delta_plus</th><th>delta_minus</th><th>mu_plus</th><th>mu_minus</th><th>voltvar</th><th>lambda_anc</th><th>rx_pi_i</th><th>rx_pi_a</th><th>r_sum_mu_d</th></tr><tr><th></th><th>Float64</th><th>Any</th><th>Any</th><th>Any</th><th>Any</th><th>Any</th><th>Any</th><th>Any</th><th>Float64</th><th>Any</th><th>Any</th><th>Any</th><th>Any</th><th>Any</th><th>Any</th><th>Any</th><th>Any</th><th>Any</th><th>Any</th></tr></thead><tbody><p>15 rows × 19 columns</p><tr><th>1</th><td>431.923</td><td>1</td><td>3.8177</td><td>1.0676</td><td>1.0</td><td>1.0</td><td>-100.0</td><td>-7.68782e-10</td><td>-31.6228</td><td>0</td><td>0</td><td>0</td><td>0</td><td>0</td><td>0</td><td>0</td><td>0</td><td>0</td><td>0</td></tr><tr><th>2</th><td>0.0</td><td>2</td><td>0</td><td>0</td><td>0.916252</td><td>0</td><td>-100.0</td><td>-0.000145897</td><td>0.0</td><td>-1.5754e-8</td><td>0</td><td>0</td><td>-3.26811e-6</td><td>-0.000764702</td><td>0.00363129</td><td>-100.0</td><td>-1.21581e-6</td><td>-6.40651e-12</td><td>1.1877e-6</td></tr><tr><th>3</th><td>0.0</td><td>3</td><td>0</td><td>0</td><td>0.950524</td><td>0</td><td>-100.0</td><td>-0.000106729</td><td>0.0</td><td>-5.32418e-6</td><td>0</td><td>0</td><td>-4.5928e-6</td><td>-5.34742e-5</td><td>0.0117104</td><td>-100.0</td><td>-7.46768e-5</td><td>-0.000102082</td><td>-2.95957e-5</td></tr><tr><th>4</th><td>0.0</td><td>4</td><td>0</td><td>0</td><td>1.00189</td><td>0</td><td>-99.9999</td><td>-2.54546e-5</td><td>0.0</td><td>-1.30342e-5</td><td>0</td><td>0</td><td>-1.39688e-5</td><td>-1.24571e-5</td><td>0.0211438</td><td>-100.0</td><td>-1.78105e-5</td><td>-7.46783e-5</td><td>-5.99181e-5</td></tr><tr><th>5</th><td>0.0</td><td>5</td><td>0</td><td>0</td><td>1.0105</td><td>0</td><td>-99.9999</td><td>-1.88947e-5</td><td>0.0</td><td>-1.3443e-5</td><td>0</td><td>0</td><td>-1.80855e-5</td><td>-9.65875e-6</td><td>0.0212127</td><td>-99.9999</td><td>-1.32194e-5</td><td>-1.78089e-5</td><td>-4.72767e-6</td></tr><tr><th>6</th><td>0.0</td><td>6</td><td>0</td><td>0</td><td>1.01952</td><td>0</td><td>-99.9999</td><td>-1.32239e-5</td><td>0.0</td><td>-1.37819e-5</td><td>0</td><td>0</td><td>-2.39752e-5</td><td>-7.56658e-6</td><td>0.0205562</td><td>-99.9999</td><td>-9.21983e-6</td><td>-1.31736e-5</td><td>-4.0367e-6</td></tr><tr><th>7</th><td>0.0</td><td>7</td><td>0.8</td><td>-0.0477213</td><td>1.04946</td><td>0</td><td>-99.9999</td><td>-2.49905e-7</td><td>0.0</td><td>-1.45891e-5</td><td>-88.4176</td><td>-2.06216e-6</td><td>-0.000103338</td><td>-4.4126e-6</td><td>0.0150349</td><td>-99.9999</td><td>-1.74825e-7</td><td>-9.25095e-6</td><td>-9.53643e-6</td></tr><tr><th>8</th><td>0.0</td><td>8</td><td>0</td><td>0</td><td>0.970333</td><td>0</td><td>-99.9999</td><td>-2.22249e-5</td><td>0.0</td><td>-1.47582e-5</td><td>0</td><td>0</td><td>-7.50706e-6</td><td>-5.08665e-5</td><td>0.0177988</td><td>-99.9999</td><td>-1.55604e-5</td><td>-1.08896e-5</td><td>4.53539e-6</td></tr><tr><th>9</th><td>0.0</td><td>9</td><td>0</td><td>0</td><td>1.00209</td><td>0</td><td>-99.9999</td><td>-1.55536e-5</td><td>0.0</td><td>-1.43558e-5</td><td>0</td><td>0</td><td>-1.67668e-5</td><td>-1.18817e-5</td><td>0.0209381</td><td>-99.9999</td><td>-1.08768e-5</td><td>-1.78007e-5</td><td>-7.42324e-6</td></tr><tr><th>10</th><td>0.0</td><td>10</td><td>0</td><td>0</td><td>1.00905</td><td>0</td><td>-99.9999</td><td>-1.1948e-5</td><td>0.0</td><td>-1.458e-5</td><td>0</td><td>0</td><td>-2.14214e-5</td><td>-9.38806e-6</td><td>0.020878</td><td>-99.9999</td><td>-8.35523e-6</td><td>-1.08766e-5</td><td>-2.59338e-6</td></tr><tr><th>11</th><td>0.0</td><td>11</td><td>0</td><td>0</td><td>1.02867</td><td>0</td><td>-99.9999</td><td>-3.9948e-6</td><td>0.0</td><td>-1.50543e-5</td><td>0</td><td>0</td><td>-4.7401e-5</td><td>-5.71073e-6</td><td>0.0188001</td><td>-99.9999</td><td>-2.79057e-6</td><td>-8.34627e-6</td><td>-5.67003e-6</td></tr><tr><th>12</th><td>0.0</td><td>12</td><td>0.8</td><td>0.123118</td><td>1.03787</td><td>0</td><td>-99.9999</td><td>-1.78169e-6</td><td>0.0</td><td>-1.51877e-5</td><td>-88.42</td><td>-3.30189e-6</td><td>-8.08371e-5</td><td>-4.89179e-6</td><td>0.0172062</td><td>-99.9999</td><td>-1.23996e-6</td><td>-2.78016e-6</td><td>-1.56447e-6</td></tr><tr><th>13</th><td>0.0</td><td>13</td><td>0</td><td>0</td><td>0.946901</td><td>0</td><td>-100.0</td><td>-0.000143532</td><td>0.0</td><td>-2.30165e-8</td><td>0</td><td>0</td><td>0.0</td><td>-6.20927e-5</td><td>0.0108927</td><td>-100.0</td><td>-1.1961e-6</td><td>-6.40651e-12</td><td>1.19611e-6</td></tr><tr><th>14</th><td>0.0</td><td>14</td><td>0</td><td>0</td><td>0.931799</td><td>0</td><td>-100.0</td><td>-0.000263481</td><td>0.0</td><td>-3.49059e-6</td><td>0</td><td>0</td><td>0.0</td><td>-0.000150305</td><td>0.00728316</td><td>-100.0</td><td>-0.000367084</td><td>-0.000199971</td><td>0.000167113</td></tr><tr><th>15</th><td>0.0</td><td>15</td><td>0</td><td>0</td><td>0.923057</td><td>0</td><td>-100.0</td><td>-0.000316239</td><td>0.0</td><td>-5.19685e-6</td><td>0</td><td>0</td><td>0.0</td><td>-0.000385657</td><td>0.00524191</td><td>-100.0</td><td>-0.000440607</td><td>-0.000367101</td><td>7.35063e-5</td></tr></tbody></table>"
      ],
      "text/latex": [
       "\\begin{tabular}{r|ccccccccccccccccccc}\n",
       "\t& objective & bus & gp & gq & voltage & alpha & lambda & pi & gamma & eta & delta\\_plus & delta\\_minus & mu\\_plus & mu\\_minus & voltvar & lambda\\_anc & rx\\_pi\\_i & rx\\_pi\\_a & r\\_sum\\_mu\\_d\\\\\n",
       "\t\\hline\n",
       "\t& Float64 & Any & Any & Any & Any & Any & Any & Any & Float64 & Any & Any & Any & Any & Any & Any & Any & Any & Any & Any\\\\\n",
       "\t\\hline\n",
       "\t1 & 431.923 & 1 & 3.8177 & 1.0676 & 1.0 & 1.0 & -100.0 & -7.68782e-10 & -31.6228 & 0 & 0 & 0 & 0 & 0 & 0 & 0 & 0 & 0 & 0 \\\\\n",
       "\t2 & 0.0 & 2 & 0 & 0 & 0.916252 & 0 & -100.0 & -0.000145897 & 0.0 & -1.5754e-8 & 0 & 0 & -3.26811e-6 & -0.000764702 & 0.00363129 & -100.0 & -1.21581e-6 & -6.40651e-12 & 1.1877e-6 \\\\\n",
       "\t3 & 0.0 & 3 & 0 & 0 & 0.950524 & 0 & -100.0 & -0.000106729 & 0.0 & -5.32418e-6 & 0 & 0 & -4.5928e-6 & -5.34742e-5 & 0.0117104 & -100.0 & -7.46768e-5 & -0.000102082 & -2.95957e-5 \\\\\n",
       "\t4 & 0.0 & 4 & 0 & 0 & 1.00189 & 0 & -99.9999 & -2.54546e-5 & 0.0 & -1.30342e-5 & 0 & 0 & -1.39688e-5 & -1.24571e-5 & 0.0211438 & -100.0 & -1.78105e-5 & -7.46783e-5 & -5.99181e-5 \\\\\n",
       "\t5 & 0.0 & 5 & 0 & 0 & 1.0105 & 0 & -99.9999 & -1.88947e-5 & 0.0 & -1.3443e-5 & 0 & 0 & -1.80855e-5 & -9.65875e-6 & 0.0212127 & -99.9999 & -1.32194e-5 & -1.78089e-5 & -4.72767e-6 \\\\\n",
       "\t6 & 0.0 & 6 & 0 & 0 & 1.01952 & 0 & -99.9999 & -1.32239e-5 & 0.0 & -1.37819e-5 & 0 & 0 & -2.39752e-5 & -7.56658e-6 & 0.0205562 & -99.9999 & -9.21983e-6 & -1.31736e-5 & -4.0367e-6 \\\\\n",
       "\t7 & 0.0 & 7 & 0.8 & -0.0477213 & 1.04946 & 0 & -99.9999 & -2.49905e-7 & 0.0 & -1.45891e-5 & -88.4176 & -2.06216e-6 & -0.000103338 & -4.4126e-6 & 0.0150349 & -99.9999 & -1.74825e-7 & -9.25095e-6 & -9.53643e-6 \\\\\n",
       "\t8 & 0.0 & 8 & 0 & 0 & 0.970333 & 0 & -99.9999 & -2.22249e-5 & 0.0 & -1.47582e-5 & 0 & 0 & -7.50706e-6 & -5.08665e-5 & 0.0177988 & -99.9999 & -1.55604e-5 & -1.08896e-5 & 4.53539e-6 \\\\\n",
       "\t9 & 0.0 & 9 & 0 & 0 & 1.00209 & 0 & -99.9999 & -1.55536e-5 & 0.0 & -1.43558e-5 & 0 & 0 & -1.67668e-5 & -1.18817e-5 & 0.0209381 & -99.9999 & -1.08768e-5 & -1.78007e-5 & -7.42324e-6 \\\\\n",
       "\t10 & 0.0 & 10 & 0 & 0 & 1.00905 & 0 & -99.9999 & -1.1948e-5 & 0.0 & -1.458e-5 & 0 & 0 & -2.14214e-5 & -9.38806e-6 & 0.020878 & -99.9999 & -8.35523e-6 & -1.08766e-5 & -2.59338e-6 \\\\\n",
       "\t11 & 0.0 & 11 & 0 & 0 & 1.02867 & 0 & -99.9999 & -3.9948e-6 & 0.0 & -1.50543e-5 & 0 & 0 & -4.7401e-5 & -5.71073e-6 & 0.0188001 & -99.9999 & -2.79057e-6 & -8.34627e-6 & -5.67003e-6 \\\\\n",
       "\t12 & 0.0 & 12 & 0.8 & 0.123118 & 1.03787 & 0 & -99.9999 & -1.78169e-6 & 0.0 & -1.51877e-5 & -88.42 & -3.30189e-6 & -8.08371e-5 & -4.89179e-6 & 0.0172062 & -99.9999 & -1.23996e-6 & -2.78016e-6 & -1.56447e-6 \\\\\n",
       "\t13 & 0.0 & 13 & 0 & 0 & 0.946901 & 0 & -100.0 & -0.000143532 & 0.0 & -2.30165e-8 & 0 & 0 & 0.0 & -6.20927e-5 & 0.0108927 & -100.0 & -1.1961e-6 & -6.40651e-12 & 1.19611e-6 \\\\\n",
       "\t14 & 0.0 & 14 & 0 & 0 & 0.931799 & 0 & -100.0 & -0.000263481 & 0.0 & -3.49059e-6 & 0 & 0 & 0.0 & -0.000150305 & 0.00728316 & -100.0 & -0.000367084 & -0.000199971 & 0.000167113 \\\\\n",
       "\t15 & 0.0 & 15 & 0 & 0 & 0.923057 & 0 & -100.0 & -0.000316239 & 0.0 & -5.19685e-6 & 0 & 0 & 0.0 & -0.000385657 & 0.00524191 & -100.0 & -0.000440607 & -0.000367101 & 7.35063e-5 \\\\\n",
       "\\end{tabular}\n"
      ],
      "text/plain": [
       "15×19 DataFrame. Omitted printing of 12 columns\n",
       "│ Row │ objective │ bus │ gp     │ gq         │ voltage  │ alpha │ lambda   │\n",
       "│     │ \u001b[90mFloat64\u001b[39m   │ \u001b[90mAny\u001b[39m │ \u001b[90mAny\u001b[39m    │ \u001b[90mAny\u001b[39m        │ \u001b[90mAny\u001b[39m      │ \u001b[90mAny\u001b[39m   │ \u001b[90mAny\u001b[39m      │\n",
       "├─────┼───────────┼─────┼────────┼────────────┼──────────┼───────┼──────────┤\n",
       "│ 1   │ 431.923   │ 1   │ 3.8177 │ 1.0676     │ 1.0      │ 1.0   │ -100.0   │\n",
       "│ 2   │ 0.0       │ 2   │ 0      │ 0          │ 0.916252 │ 0     │ -100.0   │\n",
       "│ 3   │ 0.0       │ 3   │ 0      │ 0          │ 0.950524 │ 0     │ -100.0   │\n",
       "│ 4   │ 0.0       │ 4   │ 0      │ 0          │ 1.00189  │ 0     │ -99.9999 │\n",
       "│ 5   │ 0.0       │ 5   │ 0      │ 0          │ 1.0105   │ 0     │ -99.9999 │\n",
       "│ 6   │ 0.0       │ 6   │ 0      │ 0          │ 1.01952  │ 0     │ -99.9999 │\n",
       "│ 7   │ 0.0       │ 7   │ 0.8    │ -0.0477213 │ 1.04946  │ 0     │ -99.9999 │\n",
       "│ 8   │ 0.0       │ 8   │ 0      │ 0          │ 0.970333 │ 0     │ -99.9999 │\n",
       "│ 9   │ 0.0       │ 9   │ 0      │ 0          │ 1.00209  │ 0     │ -99.9999 │\n",
       "│ 10  │ 0.0       │ 10  │ 0      │ 0          │ 1.00905  │ 0     │ -99.9999 │\n",
       "│ 11  │ 0.0       │ 11  │ 0      │ 0          │ 1.02867  │ 0     │ -99.9999 │\n",
       "│ 12  │ 0.0       │ 12  │ 0.8    │ 0.123118   │ 1.03787  │ 0     │ -99.9999 │\n",
       "│ 13  │ 0.0       │ 13  │ 0      │ 0          │ 0.946901 │ 0     │ -100.0   │\n",
       "│ 14  │ 0.0       │ 14  │ 0      │ 0          │ 0.931799 │ 0     │ -100.0   │\n",
       "│ 15  │ 0.0       │ 15  │ 0      │ 0          │ 0.923057 │ 0     │ -100.0   │"
      ]
     },
     "metadata": {},
     "output_type": "display_data"
    },
    {
     "name": "stdout",
     "output_type": "stream",
     "text": [
      ">>> Case gen_uncert"
     ]
    },
    {
     "data": {
      "text/html": [
       "<table class=\"data-frame\"><thead><tr><th></th><th>objective</th><th>bus</th><th>gp</th><th>gq</th><th>voltage</th><th>alpha</th><th>lambda</th><th>pi</th><th>gamma</th><th>eta</th><th>delta_plus</th><th>delta_minus</th><th>mu_plus</th><th>mu_minus</th><th>voltvar</th><th>lambda_anc</th><th>rx_pi_i</th><th>rx_pi_a</th><th>r_sum_mu_d</th></tr><tr><th></th><th>Float64</th><th>Any</th><th>Any</th><th>Any</th><th>Any</th><th>Any</th><th>Any</th><th>Any</th><th>Float64</th><th>Any</th><th>Any</th><th>Any</th><th>Any</th><th>Any</th><th>Any</th><th>Any</th><th>Any</th><th>Any</th><th>Any</th></tr></thead><tbody><p>15 rows × 19 columns</p><tr><th>1</th><td>431.923</td><td>1</td><td>3.8177</td><td>1.06751</td><td>1.0</td><td>1.0</td><td>-100.0</td><td>0.0</td><td>-31.6228</td><td>0</td><td>0</td><td>0</td><td>0</td><td>0</td><td>0</td><td>0</td><td>0</td><td>0</td><td>0</td></tr><tr><th>2</th><td>0.0</td><td>2</td><td>0</td><td>0</td><td>0.916265</td><td>0</td><td>-100.0</td><td>-1.46431e-5</td><td>0.0</td><td>0</td><td>0</td><td>0</td><td>-5.19691e-7</td><td>-7.75417e-5</td><td>0</td><td>-100.0</td><td>-1.22026e-7</td><td>0.0</td><td>1.22026e-7</td></tr><tr><th>3</th><td>0.0</td><td>3</td><td>0</td><td>0</td><td>0.950548</td><td>0</td><td>-100.0</td><td>-1.06024e-5</td><td>0.0</td><td>0</td><td>0</td><td>0</td><td>-6.95592e-7</td><td>-3.72078e-6</td><td>0</td><td>-100.0</td><td>-7.41829e-6</td><td>-1.02455e-5</td><td>-2.82723e-6</td></tr><tr><th>4</th><td>0.0</td><td>4</td><td>0</td><td>0</td><td>1.00193</td><td>0</td><td>-100.0</td><td>-3.07235e-6</td><td>0.0</td><td>0</td><td>0</td><td>0</td><td>-1.49108e-6</td><td>-9.49878e-7</td><td>0</td><td>-100.0</td><td>-2.14971e-6</td><td>-7.41843e-6</td><td>-5.26872e-6</td></tr><tr><th>5</th><td>0.0</td><td>5</td><td>0</td><td>0</td><td>1.01167</td><td>0</td><td>-100.0</td><td>-2.38737e-6</td><td>0.0</td><td>0</td><td>0</td><td>0</td><td>-1.87868e-6</td><td>-8.13124e-7</td><td>0</td><td>-100.0</td><td>-1.67029e-6</td><td>-2.14952e-6</td><td>-4.79231e-7</td></tr><tr><th>6</th><td>0.0</td><td>6</td><td>0</td><td>0</td><td>1.02172</td><td>0</td><td>-100.0</td><td>-1.81109e-6</td><td>0.0</td><td>0</td><td>0</td><td>0</td><td>-2.49437e-6</td><td>-7.01822e-7</td><td>0</td><td>-100.0</td><td>-1.26271e-6</td><td>-1.6645e-6</td><td>-4.01791e-7</td></tr><tr><th>7</th><td>0.0</td><td>7</td><td>0.8</td><td>-0.00573882</td><td>1.05434</td><td>0</td><td>-100.0</td><td>-4.76193e-7</td><td>0.0</td><td>0</td><td>-88.4189</td><td>-3.44537e-7</td><td>-1.01621e-5</td><td>-4.74925e-7</td><td>0</td><td>-100.0</td><td>-3.33128e-7</td><td>-1.26698e-6</td><td>-9.33847e-7</td></tr><tr><th>8</th><td>0.0</td><td>8</td><td>0</td><td>0</td><td>0.96786</td><td>0</td><td>-100.0</td><td>-2.67144e-6</td><td>0.0</td><td>0</td><td>0</td><td>0</td><td>-0.0</td><td>-1.95064e-6</td><td>0</td><td>-100.0</td><td>-1.87037e-6</td><td>-1.66633e-6</td><td>2.04037e-7</td></tr><tr><th>9</th><td>0.0</td><td>9</td><td>0</td><td>0</td><td>0.999696</td><td>0</td><td>-100.0</td><td>-2.38002e-6</td><td>0.0</td><td>0</td><td>0</td><td>0</td><td>-1.41964e-6</td><td>-0.0</td><td>0</td><td>-100.0</td><td>-1.66437e-6</td><td>-2.14853e-6</td><td>-4.84157e-7</td></tr><tr><th>10</th><td>0.0</td><td>10</td><td>0</td><td>0</td><td>1.00608</td><td>0</td><td>-100.0</td><td>-2.19472e-6</td><td>0.0</td><td>0</td><td>0</td><td>0</td><td>-1.6635e-6</td><td>-8.67001e-7</td><td>0</td><td>-100.0</td><td>-1.53477e-6</td><td>-1.66435e-6</td><td>-1.29578e-7</td></tr><tr><th>11</th><td>0.0</td><td>11</td><td>0</td><td>0</td><td>1.02434</td><td>0</td><td>-100.0</td><td>-1.80264e-6</td><td>0.0</td><td>0</td><td>0</td><td>0</td><td>-2.88856e-6</td><td>-6.40486e-7</td><td>0</td><td>-100.0</td><td>-1.25923e-6</td><td>-1.53312e-6</td><td>-2.73891e-7</td></tr><tr><th>12</th><td>0.0</td><td>12</td><td>0.8</td><td>0.0812299</td><td>1.03298</td><td>0</td><td>-100.0</td><td>-1.70098e-6</td><td>0.0</td><td>0</td><td>-88.4188</td><td>-3.40115e-7</td><td>-4.0002e-6</td><td>-5.6589e-7</td><td>0</td><td>-100.0</td><td>-1.18379e-6</td><td>-1.25454e-6</td><td>-7.07468e-8</td></tr><tr><th>13</th><td>0.0</td><td>13</td><td>0</td><td>0</td><td>0.946901</td><td>0</td><td>-100.0</td><td>0.0</td><td>0.0</td><td>0</td><td>0</td><td>0</td><td>-0.0</td><td>-0.0</td><td>0</td><td>-100.0</td><td>0.0</td><td>0.0</td><td>0.0</td></tr><tr><th>14</th><td>0.0</td><td>14</td><td>0</td><td>0</td><td>0.931799</td><td>0</td><td>-100.0</td><td>0.0</td><td>0.0</td><td>0</td><td>0</td><td>0</td><td>-0.0</td><td>-0.0</td><td>0</td><td>-100.0</td><td>0.0</td><td>0.0</td><td>0.0</td></tr><tr><th>15</th><td>0.0</td><td>15</td><td>0</td><td>0</td><td>0.923057</td><td>0</td><td>-100.0</td><td>0.0</td><td>0.0</td><td>0</td><td>0</td><td>0</td><td>-0.0</td><td>-0.0</td><td>0</td><td>-100.0</td><td>0.0</td><td>0.0</td><td>0.0</td></tr></tbody></table>"
      ],
      "text/latex": [
       "\\begin{tabular}{r|ccccccccccccccccccc}\n",
       "\t& objective & bus & gp & gq & voltage & alpha & lambda & pi & gamma & eta & delta\\_plus & delta\\_minus & mu\\_plus & mu\\_minus & voltvar & lambda\\_anc & rx\\_pi\\_i & rx\\_pi\\_a & r\\_sum\\_mu\\_d\\\\\n",
       "\t\\hline\n",
       "\t& Float64 & Any & Any & Any & Any & Any & Any & Any & Float64 & Any & Any & Any & Any & Any & Any & Any & Any & Any & Any\\\\\n",
       "\t\\hline\n",
       "\t1 & 431.923 & 1 & 3.8177 & 1.06751 & 1.0 & 1.0 & -100.0 & 0.0 & -31.6228 & 0 & 0 & 0 & 0 & 0 & 0 & 0 & 0 & 0 & 0 \\\\\n",
       "\t2 & 0.0 & 2 & 0 & 0 & 0.916265 & 0 & -100.0 & -1.46431e-5 & 0.0 & 0 & 0 & 0 & -5.19691e-7 & -7.75417e-5 & 0 & -100.0 & -1.22026e-7 & 0.0 & 1.22026e-7 \\\\\n",
       "\t3 & 0.0 & 3 & 0 & 0 & 0.950548 & 0 & -100.0 & -1.06024e-5 & 0.0 & 0 & 0 & 0 & -6.95592e-7 & -3.72078e-6 & 0 & -100.0 & -7.41829e-6 & -1.02455e-5 & -2.82723e-6 \\\\\n",
       "\t4 & 0.0 & 4 & 0 & 0 & 1.00193 & 0 & -100.0 & -3.07235e-6 & 0.0 & 0 & 0 & 0 & -1.49108e-6 & -9.49878e-7 & 0 & -100.0 & -2.14971e-6 & -7.41843e-6 & -5.26872e-6 \\\\\n",
       "\t5 & 0.0 & 5 & 0 & 0 & 1.01167 & 0 & -100.0 & -2.38737e-6 & 0.0 & 0 & 0 & 0 & -1.87868e-6 & -8.13124e-7 & 0 & -100.0 & -1.67029e-6 & -2.14952e-6 & -4.79231e-7 \\\\\n",
       "\t6 & 0.0 & 6 & 0 & 0 & 1.02172 & 0 & -100.0 & -1.81109e-6 & 0.0 & 0 & 0 & 0 & -2.49437e-6 & -7.01822e-7 & 0 & -100.0 & -1.26271e-6 & -1.6645e-6 & -4.01791e-7 \\\\\n",
       "\t7 & 0.0 & 7 & 0.8 & -0.00573882 & 1.05434 & 0 & -100.0 & -4.76193e-7 & 0.0 & 0 & -88.4189 & -3.44537e-7 & -1.01621e-5 & -4.74925e-7 & 0 & -100.0 & -3.33128e-7 & -1.26698e-6 & -9.33847e-7 \\\\\n",
       "\t8 & 0.0 & 8 & 0 & 0 & 0.96786 & 0 & -100.0 & -2.67144e-6 & 0.0 & 0 & 0 & 0 & -0.0 & -1.95064e-6 & 0 & -100.0 & -1.87037e-6 & -1.66633e-6 & 2.04037e-7 \\\\\n",
       "\t9 & 0.0 & 9 & 0 & 0 & 0.999696 & 0 & -100.0 & -2.38002e-6 & 0.0 & 0 & 0 & 0 & -1.41964e-6 & -0.0 & 0 & -100.0 & -1.66437e-6 & -2.14853e-6 & -4.84157e-7 \\\\\n",
       "\t10 & 0.0 & 10 & 0 & 0 & 1.00608 & 0 & -100.0 & -2.19472e-6 & 0.0 & 0 & 0 & 0 & -1.6635e-6 & -8.67001e-7 & 0 & -100.0 & -1.53477e-6 & -1.66435e-6 & -1.29578e-7 \\\\\n",
       "\t11 & 0.0 & 11 & 0 & 0 & 1.02434 & 0 & -100.0 & -1.80264e-6 & 0.0 & 0 & 0 & 0 & -2.88856e-6 & -6.40486e-7 & 0 & -100.0 & -1.25923e-6 & -1.53312e-6 & -2.73891e-7 \\\\\n",
       "\t12 & 0.0 & 12 & 0.8 & 0.0812299 & 1.03298 & 0 & -100.0 & -1.70098e-6 & 0.0 & 0 & -88.4188 & -3.40115e-7 & -4.0002e-6 & -5.6589e-7 & 0 & -100.0 & -1.18379e-6 & -1.25454e-6 & -7.07468e-8 \\\\\n",
       "\t13 & 0.0 & 13 & 0 & 0 & 0.946901 & 0 & -100.0 & 0.0 & 0.0 & 0 & 0 & 0 & -0.0 & -0.0 & 0 & -100.0 & 0.0 & 0.0 & 0.0 \\\\\n",
       "\t14 & 0.0 & 14 & 0 & 0 & 0.931799 & 0 & -100.0 & 0.0 & 0.0 & 0 & 0 & 0 & -0.0 & -0.0 & 0 & -100.0 & 0.0 & 0.0 & 0.0 \\\\\n",
       "\t15 & 0.0 & 15 & 0 & 0 & 0.923057 & 0 & -100.0 & 0.0 & 0.0 & 0 & 0 & 0 & -0.0 & -0.0 & 0 & -100.0 & 0.0 & 0.0 & 0.0 \\\\\n",
       "\\end{tabular}\n"
      ],
      "text/plain": [
       "15×19 DataFrame. Omitted printing of 12 columns\n",
       "│ Row │ objective │ bus │ gp     │ gq          │ voltage  │ alpha │ lambda │\n",
       "│     │ \u001b[90mFloat64\u001b[39m   │ \u001b[90mAny\u001b[39m │ \u001b[90mAny\u001b[39m    │ \u001b[90mAny\u001b[39m         │ \u001b[90mAny\u001b[39m      │ \u001b[90mAny\u001b[39m   │ \u001b[90mAny\u001b[39m    │\n",
       "├─────┼───────────┼─────┼────────┼─────────────┼──────────┼───────┼────────┤\n",
       "│ 1   │ 431.923   │ 1   │ 3.8177 │ 1.06751     │ 1.0      │ 1.0   │ -100.0 │\n",
       "│ 2   │ 0.0       │ 2   │ 0      │ 0           │ 0.916265 │ 0     │ -100.0 │\n",
       "│ 3   │ 0.0       │ 3   │ 0      │ 0           │ 0.950548 │ 0     │ -100.0 │\n",
       "│ 4   │ 0.0       │ 4   │ 0      │ 0           │ 1.00193  │ 0     │ -100.0 │\n",
       "│ 5   │ 0.0       │ 5   │ 0      │ 0           │ 1.01167  │ 0     │ -100.0 │\n",
       "│ 6   │ 0.0       │ 6   │ 0      │ 0           │ 1.02172  │ 0     │ -100.0 │\n",
       "│ 7   │ 0.0       │ 7   │ 0.8    │ -0.00573882 │ 1.05434  │ 0     │ -100.0 │\n",
       "│ 8   │ 0.0       │ 8   │ 0      │ 0           │ 0.96786  │ 0     │ -100.0 │\n",
       "│ 9   │ 0.0       │ 9   │ 0      │ 0           │ 0.999696 │ 0     │ -100.0 │\n",
       "│ 10  │ 0.0       │ 10  │ 0      │ 0           │ 1.00608  │ 0     │ -100.0 │\n",
       "│ 11  │ 0.0       │ 11  │ 0      │ 0           │ 1.02434  │ 0     │ -100.0 │\n",
       "│ 12  │ 0.0       │ 12  │ 0.8    │ 0.0812299   │ 1.03298  │ 0     │ -100.0 │\n",
       "│ 13  │ 0.0       │ 13  │ 0      │ 0           │ 0.946901 │ 0     │ -100.0 │\n",
       "│ 14  │ 0.0       │ 14  │ 0      │ 0           │ 0.931799 │ 0     │ -100.0 │\n",
       "│ 15  │ 0.0       │ 15  │ 0      │ 0           │ 0.923057 │ 0     │ -100.0 │"
      ]
     },
     "metadata": {},
     "output_type": "display_data"
    },
    {
     "name": "stdout",
     "output_type": "stream",
     "text": [
      ">>> Case no_uncert"
     ]
    },
    {
     "data": {
      "text/html": [
       "<table class=\"data-frame\"><thead><tr><th></th><th>objective</th><th>bus</th><th>gp</th><th>gq</th><th>voltage</th><th>alpha</th><th>lambda</th><th>pi</th><th>gamma</th><th>eta</th><th>delta_plus</th><th>delta_minus</th><th>mu_plus</th><th>mu_minus</th><th>voltvar</th><th>lambda_anc</th><th>rx_pi_i</th><th>rx_pi_a</th><th>r_sum_mu_d</th></tr><tr><th></th><th>Float64</th><th>Any</th><th>Any</th><th>Any</th><th>Any</th><th>Any</th><th>Any</th><th>Any</th><th>Float64</th><th>Any</th><th>Any</th><th>Any</th><th>Any</th><th>Any</th><th>Any</th><th>Any</th><th>Any</th><th>Any</th><th>Any</th></tr></thead><tbody><p>15 rows × 19 columns</p><tr><th>1</th><td>399.29</td><td>1</td><td>3.8177</td><td>1.07126</td><td>1.0</td><td>0</td><td>-100.0</td><td>0.0</td><td>0.0</td><td>0</td><td>0</td><td>0</td><td>0</td><td>0</td><td>0</td><td>0</td><td>0</td><td>0</td><td>0</td></tr><tr><th>2</th><td>0.0</td><td>2</td><td>0</td><td>0</td><td>0.915774</td><td>0</td><td>-100.0</td><td>-7.20018e-6</td><td>0.0</td><td>0</td><td>0</td><td>0</td><td>-0.0</td><td>-3.84094e-5</td><td>0</td><td>-100.0</td><td>-6.00015e-8</td><td>0.0</td><td>6.00015e-8</td></tr><tr><th>3</th><td>0.0</td><td>3</td><td>0</td><td>0</td><td>0.949578</td><td>0</td><td>-100.0</td><td>-5.07783e-6</td><td>0.0</td><td>0</td><td>0</td><td>0</td><td>-2.51789e-7</td><td>-1.51122e-6</td><td>0</td><td>-100.0</td><td>-3.55287e-6</td><td>-5.03784e-6</td><td>-1.48497e-6</td></tr><tr><th>4</th><td>0.0</td><td>4</td><td>0</td><td>0</td><td>1.00027</td><td>0</td><td>-100.0</td><td>-1.25314e-6</td><td>0.0</td><td>0</td><td>0</td><td>0</td><td>-6.13942e-7</td><td>-0.0</td><td>0</td><td>-100.0</td><td>-8.76815e-7</td><td>-3.55294e-6</td><td>-2.67613e-6</td></tr><tr><th>5</th><td>0.0</td><td>5</td><td>0</td><td>0</td><td>1.01009</td><td>0</td><td>-100.0</td><td>-9.36669e-7</td><td>0.0</td><td>0</td><td>0</td><td>0</td><td>-7.81308e-7</td><td>-3.25326e-7</td><td>0</td><td>-100.0</td><td>-6.55326e-7</td><td>-8.76736e-7</td><td>-2.21411e-7</td></tr><tr><th>6</th><td>0.0</td><td>6</td><td>0</td><td>0</td><td>1.02022</td><td>0</td><td>-100.0</td><td>-6.68596e-7</td><td>0.0</td><td>0</td><td>0</td><td>0</td><td>-1.05106e-6</td><td>-2.82462e-7</td><td>0</td><td>-100.0</td><td>-4.66152e-7</td><td>-6.53056e-7</td><td>-1.86904e-7</td></tr><tr><th>7</th><td>0.0</td><td>7</td><td>0.8</td><td>-0.00323173</td><td>1.05305</td><td>0</td><td>-100.0</td><td>-3.86404e-8</td><td>0.0</td><td>0</td><td>-89.0495</td><td>-8.43607e-8</td><td>-4.76745e-6</td><td>-1.9593e-7</td><td>0</td><td>-100.0</td><td>-2.70315e-8</td><td>-4.67726e-7</td><td>-4.40694e-7</td></tr><tr><th>8</th><td>0.0</td><td>8</td><td>0</td><td>0</td><td>0.965763</td><td>0</td><td>-100.0</td><td>-9.90414e-7</td><td>0.0</td><td>0</td><td>0</td><td>0</td><td>-0.0</td><td>-7.79882e-7</td><td>0</td><td>-100.0</td><td>-6.93422e-7</td><td>-6.11847e-7</td><td>8.15756e-8</td></tr><tr><th>9</th><td>0.0</td><td>9</td><td>0</td><td>0</td><td>0.997666</td><td>0</td><td>-100.0</td><td>-8.739e-7</td><td>0.0</td><td>0</td><td>0</td><td>0</td><td>-6.07748e-7</td><td>-0.0</td><td>0</td><td>-100.0</td><td>-6.11129e-7</td><td>-8.76334e-7</td><td>-2.65205e-7</td></tr><tr><th>10</th><td>0.0</td><td>10</td><td>0</td><td>0</td><td>1.00397</td><td>0</td><td>-100.0</td><td>-7.75796e-7</td><td>0.0</td><td>0</td><td>0</td><td>0</td><td>-7.21969e-7</td><td>-0.0</td><td>0</td><td>-100.0</td><td>-5.42515e-7</td><td>-6.11119e-7</td><td>-6.86036e-8</td></tr><tr><th>11</th><td>0.0</td><td>11</td><td>0</td><td>0</td><td>1.02206</td><td>0</td><td>-100.0</td><td>-5.8893e-7</td><td>0.0</td><td>0</td><td>0</td><td>0</td><td>-1.31529e-6</td><td>-2.56024e-7</td><td>0</td><td>-100.0</td><td>-4.11397e-7</td><td>-5.41933e-7</td><td>-1.30536e-7</td></tr><tr><th>12</th><td>0.0</td><td>12</td><td>0.8</td><td>0.0749762</td><td>1.03063</td><td>0</td><td>-100.0</td><td>-5.40121e-7</td><td>0.0</td><td>0</td><td>-89.05</td><td>-8.50901e-8</td><td>-1.8779e-6</td><td>-2.28947e-7</td><td>0</td><td>-100.0</td><td>-3.75895e-7</td><td>-4.09863e-7</td><td>-3.39683e-8</td></tr><tr><th>13</th><td>0.0</td><td>13</td><td>0</td><td>0</td><td>0.946901</td><td>0</td><td>-100.0</td><td>0.0</td><td>0.0</td><td>0</td><td>0</td><td>0</td><td>-0.0</td><td>-0.0</td><td>0</td><td>-100.0</td><td>0.0</td><td>0.0</td><td>0.0</td></tr><tr><th>14</th><td>0.0</td><td>14</td><td>0</td><td>0</td><td>0.931799</td><td>0</td><td>-100.0</td><td>0.0</td><td>0.0</td><td>0</td><td>0</td><td>0</td><td>-0.0</td><td>-0.0</td><td>0</td><td>-100.0</td><td>0.0</td><td>0.0</td><td>0.0</td></tr><tr><th>15</th><td>0.0</td><td>15</td><td>0</td><td>0</td><td>0.923057</td><td>0</td><td>-100.0</td><td>0.0</td><td>0.0</td><td>0</td><td>0</td><td>0</td><td>-0.0</td><td>-0.0</td><td>0</td><td>-100.0</td><td>0.0</td><td>0.0</td><td>0.0</td></tr></tbody></table>"
      ],
      "text/latex": [
       "\\begin{tabular}{r|ccccccccccccccccccc}\n",
       "\t& objective & bus & gp & gq & voltage & alpha & lambda & pi & gamma & eta & delta\\_plus & delta\\_minus & mu\\_plus & mu\\_minus & voltvar & lambda\\_anc & rx\\_pi\\_i & rx\\_pi\\_a & r\\_sum\\_mu\\_d\\\\\n",
       "\t\\hline\n",
       "\t& Float64 & Any & Any & Any & Any & Any & Any & Any & Float64 & Any & Any & Any & Any & Any & Any & Any & Any & Any & Any\\\\\n",
       "\t\\hline\n",
       "\t1 & 399.29 & 1 & 3.8177 & 1.07126 & 1.0 & 0 & -100.0 & 0.0 & 0.0 & 0 & 0 & 0 & 0 & 0 & 0 & 0 & 0 & 0 & 0 \\\\\n",
       "\t2 & 0.0 & 2 & 0 & 0 & 0.915774 & 0 & -100.0 & -7.20018e-6 & 0.0 & 0 & 0 & 0 & -0.0 & -3.84094e-5 & 0 & -100.0 & -6.00015e-8 & 0.0 & 6.00015e-8 \\\\\n",
       "\t3 & 0.0 & 3 & 0 & 0 & 0.949578 & 0 & -100.0 & -5.07783e-6 & 0.0 & 0 & 0 & 0 & -2.51789e-7 & -1.51122e-6 & 0 & -100.0 & -3.55287e-6 & -5.03784e-6 & -1.48497e-6 \\\\\n",
       "\t4 & 0.0 & 4 & 0 & 0 & 1.00027 & 0 & -100.0 & -1.25314e-6 & 0.0 & 0 & 0 & 0 & -6.13942e-7 & -0.0 & 0 & -100.0 & -8.76815e-7 & -3.55294e-6 & -2.67613e-6 \\\\\n",
       "\t5 & 0.0 & 5 & 0 & 0 & 1.01009 & 0 & -100.0 & -9.36669e-7 & 0.0 & 0 & 0 & 0 & -7.81308e-7 & -3.25326e-7 & 0 & -100.0 & -6.55326e-7 & -8.76736e-7 & -2.21411e-7 \\\\\n",
       "\t6 & 0.0 & 6 & 0 & 0 & 1.02022 & 0 & -100.0 & -6.68596e-7 & 0.0 & 0 & 0 & 0 & -1.05106e-6 & -2.82462e-7 & 0 & -100.0 & -4.66152e-7 & -6.53056e-7 & -1.86904e-7 \\\\\n",
       "\t7 & 0.0 & 7 & 0.8 & -0.00323173 & 1.05305 & 0 & -100.0 & -3.86404e-8 & 0.0 & 0 & -89.0495 & -8.43607e-8 & -4.76745e-6 & -1.9593e-7 & 0 & -100.0 & -2.70315e-8 & -4.67726e-7 & -4.40694e-7 \\\\\n",
       "\t8 & 0.0 & 8 & 0 & 0 & 0.965763 & 0 & -100.0 & -9.90414e-7 & 0.0 & 0 & 0 & 0 & -0.0 & -7.79882e-7 & 0 & -100.0 & -6.93422e-7 & -6.11847e-7 & 8.15756e-8 \\\\\n",
       "\t9 & 0.0 & 9 & 0 & 0 & 0.997666 & 0 & -100.0 & -8.739e-7 & 0.0 & 0 & 0 & 0 & -6.07748e-7 & -0.0 & 0 & -100.0 & -6.11129e-7 & -8.76334e-7 & -2.65205e-7 \\\\\n",
       "\t10 & 0.0 & 10 & 0 & 0 & 1.00397 & 0 & -100.0 & -7.75796e-7 & 0.0 & 0 & 0 & 0 & -7.21969e-7 & -0.0 & 0 & -100.0 & -5.42515e-7 & -6.11119e-7 & -6.86036e-8 \\\\\n",
       "\t11 & 0.0 & 11 & 0 & 0 & 1.02206 & 0 & -100.0 & -5.8893e-7 & 0.0 & 0 & 0 & 0 & -1.31529e-6 & -2.56024e-7 & 0 & -100.0 & -4.11397e-7 & -5.41933e-7 & -1.30536e-7 \\\\\n",
       "\t12 & 0.0 & 12 & 0.8 & 0.0749762 & 1.03063 & 0 & -100.0 & -5.40121e-7 & 0.0 & 0 & -89.05 & -8.50901e-8 & -1.8779e-6 & -2.28947e-7 & 0 & -100.0 & -3.75895e-7 & -4.09863e-7 & -3.39683e-8 \\\\\n",
       "\t13 & 0.0 & 13 & 0 & 0 & 0.946901 & 0 & -100.0 & 0.0 & 0.0 & 0 & 0 & 0 & -0.0 & -0.0 & 0 & -100.0 & 0.0 & 0.0 & 0.0 \\\\\n",
       "\t14 & 0.0 & 14 & 0 & 0 & 0.931799 & 0 & -100.0 & 0.0 & 0.0 & 0 & 0 & 0 & -0.0 & -0.0 & 0 & -100.0 & 0.0 & 0.0 & 0.0 \\\\\n",
       "\t15 & 0.0 & 15 & 0 & 0 & 0.923057 & 0 & -100.0 & 0.0 & 0.0 & 0 & 0 & 0 & -0.0 & -0.0 & 0 & -100.0 & 0.0 & 0.0 & 0.0 \\\\\n",
       "\\end{tabular}\n"
      ],
      "text/plain": [
       "15×19 DataFrame. Omitted printing of 12 columns\n",
       "│ Row │ objective │ bus │ gp     │ gq          │ voltage  │ alpha │ lambda │\n",
       "│     │ \u001b[90mFloat64\u001b[39m   │ \u001b[90mAny\u001b[39m │ \u001b[90mAny\u001b[39m    │ \u001b[90mAny\u001b[39m         │ \u001b[90mAny\u001b[39m      │ \u001b[90mAny\u001b[39m   │ \u001b[90mAny\u001b[39m    │\n",
       "├─────┼───────────┼─────┼────────┼─────────────┼──────────┼───────┼────────┤\n",
       "│ 1   │ 399.29    │ 1   │ 3.8177 │ 1.07126     │ 1.0      │ 0     │ -100.0 │\n",
       "│ 2   │ 0.0       │ 2   │ 0      │ 0           │ 0.915774 │ 0     │ -100.0 │\n",
       "│ 3   │ 0.0       │ 3   │ 0      │ 0           │ 0.949578 │ 0     │ -100.0 │\n",
       "│ 4   │ 0.0       │ 4   │ 0      │ 0           │ 1.00027  │ 0     │ -100.0 │\n",
       "│ 5   │ 0.0       │ 5   │ 0      │ 0           │ 1.01009  │ 0     │ -100.0 │\n",
       "│ 6   │ 0.0       │ 6   │ 0      │ 0           │ 1.02022  │ 0     │ -100.0 │\n",
       "│ 7   │ 0.0       │ 7   │ 0.8    │ -0.00323173 │ 1.05305  │ 0     │ -100.0 │\n",
       "│ 8   │ 0.0       │ 8   │ 0      │ 0           │ 0.965763 │ 0     │ -100.0 │\n",
       "│ 9   │ 0.0       │ 9   │ 0      │ 0           │ 0.997666 │ 0     │ -100.0 │\n",
       "│ 10  │ 0.0       │ 10  │ 0      │ 0           │ 1.00397  │ 0     │ -100.0 │\n",
       "│ 11  │ 0.0       │ 11  │ 0      │ 0           │ 1.02206  │ 0     │ -100.0 │\n",
       "│ 12  │ 0.0       │ 12  │ 0.8    │ 0.0749762   │ 1.03063  │ 0     │ -100.0 │\n",
       "│ 13  │ 0.0       │ 13  │ 0      │ 0           │ 0.946901 │ 0     │ -100.0 │\n",
       "│ 14  │ 0.0       │ 14  │ 0      │ 0           │ 0.931799 │ 0     │ -100.0 │\n",
       "│ 15  │ 0.0       │ 15  │ 0      │ 0           │ 0.923057 │ 0     │ -100.0 │"
      ]
     },
     "metadata": {},
     "output_type": "display_data"
    }
   ],
   "source": [
    "experiment3 = Dict()\n",
    "\n",
    "# Load feeder data \n",
    "feeder = load_feeder(\"data/feeder_data/basecase_noneg/\")\n",
    "\n",
    "# Set up\n",
    "relative_std = 0.2\n",
    "loads = [b.d_P for b in feeder.buses]\n",
    "std_vec = loads .* relative_std\n",
    "var_vec = std_vec.^2\n",
    "Σ = diagm(0 => var_vec)\n",
    "\n",
    "# ex3_general_settings\n",
    "ex3_general_settings = Dict(\n",
    "    \"var_vec\" => var_vec,\n",
    "    \"Σ\" => Σ,\n",
    "    \"z_g\" => 1.945,\n",
    "    \"z_v\" => 2.576,\n",
    "    \"toggle_volt_cc\" => false,\n",
    "    \"toggle_gen_cc\" => false,\n",
    "    \"vfac\" => 0, # decrease upper bound by factor (1-vfac) and increase lower bound by (1+vfac)\n",
    "    \"qcfac\" => 1,\n",
    "    \"output_level\" => 0,\n",
    "    \"Ψ\" => 0,\n",
    "    \"loadfac\" => 3\n",
    ")\n",
    "\n",
    "# ex3_no_uncert:\n",
    "ex3_no_uncert_settings = copy(ex3_general_settings)\n",
    "ex3_no_uncert_settings[\"toggle_volt_cc\"] = false\n",
    "ex3_no_uncert_settings[\"toggle_gen_cc\"] = false\n",
    "\n",
    "experiment3[\"no_uncert\"] = Dict(\n",
    "    \"verbose\" => \"ex3_no_uncert\",\n",
    "    \"feeder\" => feeder,\n",
    "    \"settings\" => ex3_no_uncert_settings,\n",
    ")\n",
    "\n",
    "# ex3_uncert:\n",
    "ex3_uncert_settings = copy(ex3_general_settings)\n",
    "ex3_uncert_settings[\"toggle_volt_cc\"] = true\n",
    "ex3_uncert_settings[\"toggle_gen_cc\"] = true\n",
    "experiment3[\"uncert\"] = Dict(\n",
    "    \"verbose\" => \"ex3_uncert\",\n",
    "    \"feeder\" => feeder,\n",
    "    \"settings\" => ex3_uncert_settings,\n",
    ")\n",
    "\n",
    "# ex3_gen_uncert:\n",
    "ex3_uncert_settings = copy(ex3_general_settings)\n",
    "ex3_uncert_settings[\"toggle_volt_cc\"] = false\n",
    "ex3_uncert_settings[\"toggle_gen_cc\"] = true\n",
    "experiment3[\"gen_uncert\"] = Dict(\n",
    "    \"verbose\" => \"ex3_gen_uncert\",\n",
    "    \"feeder\" => feeder,\n",
    "    \"settings\" => ex3_uncert_settings,\n",
    ")\n",
    "\n",
    "# Run \n",
    "experiment3 = run_experiment(experiment3)\n",
    "\n",
    "# Show results\n",
    "sleep(.2) # just to ensure correct printing order\n",
    "for case in keys(experiment3)\n",
    "    print(\">>> Case $case\")\n",
    "    sleep(.2)\n",
    "    display(experiment3[case][\"results\"])\n",
    "end"
   ]
  },
  {
   "cell_type": "markdown",
   "metadata": {},
   "source": [
    "## Experiment 4\n",
    "\n",
    "- Instead of uncertain load uncontrollable vs. controllable DERs\n",
    "- Maybe better in the 33-bus system?"
   ]
  },
  {
   "cell_type": "code",
   "execution_count": null,
   "metadata": {},
   "outputs": [],
   "source": []
  },
  {
   "cell_type": "markdown",
   "metadata": {},
   "source": [
    "## Prototyping Space"
   ]
  },
  {
   "cell_type": "code",
   "execution_count": 5,
   "metadata": {},
   "outputs": [
    {
     "data": {
      "text/html": [
       "<table class=\"data-frame\"><thead><tr><th></th><th>objective</th><th>bus</th><th>gp</th><th>gq</th><th>voltage</th><th>alpha</th><th>lambda</th><th>pi</th><th>gamma</th><th>eta</th><th>delta_plus</th><th>delta_minus</th><th>mu_plus</th><th>mu_minus</th><th>voltvar</th><th>lambda_anc</th><th>rx_pi_i</th><th>rx_pi_a</th><th>r_sum_mu_d</th><th>eta_calc</th></tr><tr><th></th><th>Float64</th><th>Any</th><th>Any</th><th>Any</th><th>Any</th><th>Any</th><th>Any</th><th>Any</th><th>Float64</th><th>Any</th><th>Any</th><th>Any</th><th>Any</th><th>Any</th><th>Any</th><th>Any</th><th>Any</th><th>Any</th><th>Any</th><th>Any</th></tr></thead><tbody><p>15 rows × 20 columns</p><tr><th>1</th><td>42.1519</td><td>1</td><td>-0.0653151</td><td>0.933284</td><td>1.0</td><td>0.895129</td><td>-50.0</td><td>-3.34394e-9</td><td>-31.6735</td><td>0</td><td>0</td><td>0</td><td>0</td><td>0</td><td>0</td><td>0</td><td>0</td><td>0</td><td>0</td><td>0</td></tr><tr><th>2</th><td>0.0</td><td>2</td><td>0</td><td>0</td><td>0.900334</td><td>0</td><td>-50.137</td><td>-16.4401</td><td>0.0</td><td>-0.0512537</td><td>0</td><td>0</td><td>-7.25317e-8</td><td>-91.1244</td><td>0.000116804</td><td>-50.0</td><td>-0.137001</td><td>-2.78662e-11</td><td>0.137001</td><td>-0.352195</td></tr><tr><th>3</th><td>0.0</td><td>3</td><td>0</td><td>0</td><td>0.960447</td><td>0</td><td>-46.1416</td><td>-10.7297</td><td>0.0</td><td>-0.0596395</td><td>0</td><td>0</td><td>-1.34272e-7</td><td>-7.07984e-7</td><td>0.0139108</td><td>-50.137</td><td>-7.5074</td><td>-11.5028</td><td>-3.99543</td><td>-6.53764</td></tr><tr><th>4</th><td>0.0</td><td>4</td><td>0</td><td>0</td><td>1.04775</td><td>0</td><td>-39.8792</td><td>-1.7796</td><td>0.0</td><td>-0.0727832</td><td>0</td><td>0</td><td>-8.1725e-7</td><td>-1.40745e-7</td><td>0.0151213</td><td>-46.1416</td><td>-1.24518</td><td>-7.50755</td><td>-6.26237</td><td>-16.2326</td></tr><tr><th>5</th><td>0.0</td><td>5</td><td>0</td><td>0</td><td>1.05393</td><td>0</td><td>-39.599</td><td>-1.37908</td><td>0.0</td><td>-0.0729688</td><td>0</td><td>0</td><td>-1.00029e-6</td><td>-1.2926e-7</td><td>0.0138768</td><td>-39.8792</td><td>-0.96485</td><td>-1.24507</td><td>-0.280217</td><td>-16.6664</td></tr><tr><th>6</th><td>0.0</td><td>6</td><td>0</td><td>0</td><td>1.05993</td><td>0</td><td>-39.3422</td><td>-1.01084</td><td>0.0</td><td>-0.0731388</td><td>0</td><td>0</td><td>-1.28435e-6</td><td>-1.19442e-7</td><td>0.0126278</td><td>-39.599</td><td>-0.704766</td><td>-0.961509</td><td>-0.256743</td><td>-17.0639</td></tr><tr><th>7</th><td>0.0</td><td>7</td><td>0.753981</td><td>-0.224743</td><td>1.0781</td><td>0.0393694</td><td>-38.6351</td><td>-1.166e-7</td><td>0.0</td><td>-0.0736071</td><td>-27.0216</td><td>-4.12736e-8</td><td>-7.33553</td><td>-9.70597e-8</td><td>0.00925916</td><td>-39.3422</td><td>-8.15695e-8</td><td>-0.707145</td><td>-0.707145</td><td>-18.1587</td></tr><tr><th>8</th><td>0.0</td><td>8</td><td>0</td><td>0</td><td>1.06984</td><td>0</td><td>-37.0355</td><td>-2.28412</td><td>0.0</td><td>-0.0807118</td><td>0</td><td>0</td><td>-15.2886</td><td>-1.08976e-7</td><td>0.0127008</td><td>-38.6347</td><td>-1.59919</td><td>-1.66564e-7</td><td>-1.59919</td><td>-20.635</td></tr><tr><th>9</th><td>0.0</td><td>9</td><td>0</td><td>0</td><td>1.06031</td><td>0</td><td>-38.6347</td><td>-2.37903e-7</td><td>0.0</td><td>-0.0762531</td><td>0</td><td>0</td><td>-1.49742e-6</td><td>-1.19298e-7</td><td>0.0131609</td><td>-39.8792</td><td>-1.66369e-7</td><td>-1.2445</td><td>-1.2445</td><td>-18.1593</td></tr><tr><th>10</th><td>0.0</td><td>10</td><td>0</td><td>0</td><td>1.06184</td><td>0</td><td>-38.6347</td><td>-4.82992e-8</td><td>0.0</td><td>-0.0762531</td><td>0</td><td>0</td><td>-1.63767e-6</td><td>-1.16955e-7</td><td>0.0128837</td><td>-38.6347</td><td>-3.37757e-8</td><td>-1.66366e-7</td><td>-1.34105e-7</td><td>-18.1593</td></tr><tr><th>11</th><td>0.0</td><td>11</td><td>0</td><td>0</td><td>1.0665</td><td>0</td><td>-38.6347</td><td>-3.05962e-7</td><td>0.0</td><td>-0.0762531</td><td>0</td><td>0</td><td>-2.33849e-6</td><td>-1.10408e-7</td><td>0.0120634</td><td>-38.6347</td><td>-2.1373e-7</td><td>-3.37394e-8</td><td>-2.49893e-7</td><td>-18.1593</td></tr><tr><th>12</th><td>0.0</td><td>12</td><td>0.723434</td><td>-0.327542</td><td>1.06877</td><td>0.0655016</td><td>-38.6347</td><td>-3.92729e-7</td><td>0.0</td><td>-0.0762531</td><td>-27.0866</td><td>-4.16814e-8</td><td>-3.06394e-6</td><td>-1.07508e-7</td><td>0.0116838</td><td>-38.6347</td><td>-2.73318e-7</td><td>-2.12933e-7</td><td>-6.09025e-8</td><td>-18.1593</td></tr><tr><th>13</th><td>0.0</td><td>13</td><td>0</td><td>0</td><td>0.982619</td><td>0</td><td>-50.0</td><td>-4.28119e-7</td><td>0.0</td><td>-7.82205e-11</td><td>0</td><td>0</td><td>0.0</td><td>-5.58159e-7</td><td>0.0197306</td><td>-50.0</td><td>-3.56766e-9</td><td>-2.78662e-11</td><td>3.53979e-9</td><td>-5.48006e-9</td></tr><tr><th>14</th><td>0.0</td><td>14</td><td>0</td><td>0</td><td>0.977795</td><td>0</td><td>-50.0</td><td>-6.99306e-7</td><td>0.0</td><td>-1.21322e-8</td><td>0</td><td>0</td><td>0.0</td><td>-5.94295e-7</td><td>0.0185307</td><td>-50.0</td><td>-9.74279e-7</td><td>-5.96459e-7</td><td>3.7782e-7</td><td>-5.90394e-7</td></tr><tr><th>15</th><td>0.0</td><td>15</td><td>0</td><td>0</td><td>0.975027</td><td>0</td><td>-50.0</td><td>-7.83772e-7</td><td>0.0</td><td>-1.22781e-8</td><td>0</td><td>0</td><td>0.0</td><td>-6.17442e-7</td><td>0.01785</td><td>-50.0</td><td>-1.09201e-6</td><td>-9.74325e-7</td><td>1.17684e-7</td><td>-7.72585e-7</td></tr></tbody></table>"
      ],
      "text/latex": [
       "\\begin{tabular}{r|cccccccccccccccccccc}\n",
       "\t& objective & bus & gp & gq & voltage & alpha & lambda & pi & gamma & eta & delta\\_plus & delta\\_minus & mu\\_plus & mu\\_minus & voltvar & lambda\\_anc & rx\\_pi\\_i & rx\\_pi\\_a & r\\_sum\\_mu\\_d & eta\\_calc\\\\\n",
       "\t\\hline\n",
       "\t& Float64 & Any & Any & Any & Any & Any & Any & Any & Float64 & Any & Any & Any & Any & Any & Any & Any & Any & Any & Any & Any\\\\\n",
       "\t\\hline\n",
       "\t1 & 42.1519 & 1 & -0.0653151 & 0.933284 & 1.0 & 0.895129 & -50.0 & -3.34394e-9 & -31.6735 & 0 & 0 & 0 & 0 & 0 & 0 & 0 & 0 & 0 & 0 & 0 \\\\\n",
       "\t2 & 0.0 & 2 & 0 & 0 & 0.900334 & 0 & -50.137 & -16.4401 & 0.0 & -0.0512537 & 0 & 0 & -7.25317e-8 & -91.1244 & 0.000116804 & -50.0 & -0.137001 & -2.78662e-11 & 0.137001 & -0.352195 \\\\\n",
       "\t3 & 0.0 & 3 & 0 & 0 & 0.960447 & 0 & -46.1416 & -10.7297 & 0.0 & -0.0596395 & 0 & 0 & -1.34272e-7 & -7.07984e-7 & 0.0139108 & -50.137 & -7.5074 & -11.5028 & -3.99543 & -6.53764 \\\\\n",
       "\t4 & 0.0 & 4 & 0 & 0 & 1.04775 & 0 & -39.8792 & -1.7796 & 0.0 & -0.0727832 & 0 & 0 & -8.1725e-7 & -1.40745e-7 & 0.0151213 & -46.1416 & -1.24518 & -7.50755 & -6.26237 & -16.2326 \\\\\n",
       "\t5 & 0.0 & 5 & 0 & 0 & 1.05393 & 0 & -39.599 & -1.37908 & 0.0 & -0.0729688 & 0 & 0 & -1.00029e-6 & -1.2926e-7 & 0.0138768 & -39.8792 & -0.96485 & -1.24507 & -0.280217 & -16.6664 \\\\\n",
       "\t6 & 0.0 & 6 & 0 & 0 & 1.05993 & 0 & -39.3422 & -1.01084 & 0.0 & -0.0731388 & 0 & 0 & -1.28435e-6 & -1.19442e-7 & 0.0126278 & -39.599 & -0.704766 & -0.961509 & -0.256743 & -17.0639 \\\\\n",
       "\t7 & 0.0 & 7 & 0.753981 & -0.224743 & 1.0781 & 0.0393694 & -38.6351 & -1.166e-7 & 0.0 & -0.0736071 & -27.0216 & -4.12736e-8 & -7.33553 & -9.70597e-8 & 0.00925916 & -39.3422 & -8.15695e-8 & -0.707145 & -0.707145 & -18.1587 \\\\\n",
       "\t8 & 0.0 & 8 & 0 & 0 & 1.06984 & 0 & -37.0355 & -2.28412 & 0.0 & -0.0807118 & 0 & 0 & -15.2886 & -1.08976e-7 & 0.0127008 & -38.6347 & -1.59919 & -1.66564e-7 & -1.59919 & -20.635 \\\\\n",
       "\t9 & 0.0 & 9 & 0 & 0 & 1.06031 & 0 & -38.6347 & -2.37903e-7 & 0.0 & -0.0762531 & 0 & 0 & -1.49742e-6 & -1.19298e-7 & 0.0131609 & -39.8792 & -1.66369e-7 & -1.2445 & -1.2445 & -18.1593 \\\\\n",
       "\t10 & 0.0 & 10 & 0 & 0 & 1.06184 & 0 & -38.6347 & -4.82992e-8 & 0.0 & -0.0762531 & 0 & 0 & -1.63767e-6 & -1.16955e-7 & 0.0128837 & -38.6347 & -3.37757e-8 & -1.66366e-7 & -1.34105e-7 & -18.1593 \\\\\n",
       "\t11 & 0.0 & 11 & 0 & 0 & 1.0665 & 0 & -38.6347 & -3.05962e-7 & 0.0 & -0.0762531 & 0 & 0 & -2.33849e-6 & -1.10408e-7 & 0.0120634 & -38.6347 & -2.1373e-7 & -3.37394e-8 & -2.49893e-7 & -18.1593 \\\\\n",
       "\t12 & 0.0 & 12 & 0.723434 & -0.327542 & 1.06877 & 0.0655016 & -38.6347 & -3.92729e-7 & 0.0 & -0.0762531 & -27.0866 & -4.16814e-8 & -3.06394e-6 & -1.07508e-7 & 0.0116838 & -38.6347 & -2.73318e-7 & -2.12933e-7 & -6.09025e-8 & -18.1593 \\\\\n",
       "\t13 & 0.0 & 13 & 0 & 0 & 0.982619 & 0 & -50.0 & -4.28119e-7 & 0.0 & -7.82205e-11 & 0 & 0 & 0.0 & -5.58159e-7 & 0.0197306 & -50.0 & -3.56766e-9 & -2.78662e-11 & 3.53979e-9 & -5.48006e-9 \\\\\n",
       "\t14 & 0.0 & 14 & 0 & 0 & 0.977795 & 0 & -50.0 & -6.99306e-7 & 0.0 & -1.21322e-8 & 0 & 0 & 0.0 & -5.94295e-7 & 0.0185307 & -50.0 & -9.74279e-7 & -5.96459e-7 & 3.7782e-7 & -5.90394e-7 \\\\\n",
       "\t15 & 0.0 & 15 & 0 & 0 & 0.975027 & 0 & -50.0 & -7.83772e-7 & 0.0 & -1.22781e-8 & 0 & 0 & 0.0 & -6.17442e-7 & 0.01785 & -50.0 & -1.09201e-6 & -9.74325e-7 & 1.17684e-7 & -7.72585e-7 \\\\\n",
       "\\end{tabular}\n"
      ],
      "text/plain": [
       "15×20 DataFrame. Omitted printing of 14 columns\n",
       "│ Row │ objective │ bus │ gp         │ gq        │ voltage  │ alpha     │\n",
       "│     │ \u001b[90mFloat64\u001b[39m   │ \u001b[90mAny\u001b[39m │ \u001b[90mAny\u001b[39m        │ \u001b[90mAny\u001b[39m       │ \u001b[90mAny\u001b[39m      │ \u001b[90mAny\u001b[39m       │\n",
       "├─────┼───────────┼─────┼────────────┼───────────┼──────────┼───────────┤\n",
       "│ 1   │ 42.1519   │ 1   │ -0.0653151 │ 0.933284  │ 1.0      │ 0.895129  │\n",
       "│ 2   │ 0.0       │ 2   │ 0          │ 0         │ 0.900334 │ 0         │\n",
       "│ 3   │ 0.0       │ 3   │ 0          │ 0         │ 0.960447 │ 0         │\n",
       "│ 4   │ 0.0       │ 4   │ 0          │ 0         │ 1.04775  │ 0         │\n",
       "│ 5   │ 0.0       │ 5   │ 0          │ 0         │ 1.05393  │ 0         │\n",
       "│ 6   │ 0.0       │ 6   │ 0          │ 0         │ 1.05993  │ 0         │\n",
       "│ 7   │ 0.0       │ 7   │ 0.753981   │ -0.224743 │ 1.0781   │ 0.0393694 │\n",
       "│ 8   │ 0.0       │ 8   │ 0          │ 0         │ 1.06984  │ 0         │\n",
       "│ 9   │ 0.0       │ 9   │ 0          │ 0         │ 1.06031  │ 0         │\n",
       "│ 10  │ 0.0       │ 10  │ 0          │ 0         │ 1.06184  │ 0         │\n",
       "│ 11  │ 0.0       │ 11  │ 0          │ 0         │ 1.0665   │ 0         │\n",
       "│ 12  │ 0.0       │ 12  │ 0.723434   │ -0.327542 │ 1.06877  │ 0.0655016 │\n",
       "│ 13  │ 0.0       │ 13  │ 0          │ 0         │ 0.982619 │ 0         │\n",
       "│ 14  │ 0.0       │ 14  │ 0          │ 0         │ 0.977795 │ 0         │\n",
       "│ 15  │ 0.0       │ 15  │ 0          │ 0         │ 0.975027 │ 0         │"
      ]
     },
     "execution_count": 5,
     "metadata": {},
     "output_type": "execute_result"
    }
   ],
   "source": [
    "res = experiment2[\"uncert\"][\"results\"]"
   ]
  },
  {
   "cell_type": "code",
   "execution_count": 62,
   "metadata": {},
   "outputs": [
    {
     "data": {
      "text/plain": [
       "14×14 Array{Float64,2}:\n",
       " 0.000301885  1.902e-9     7.64603e-6   …  2.52559e-7  4.04095e-6 \n",
       " 0.00167165   9.88321e-8   0.000397305     2.66898e-6  4.27037e-5 \n",
       " 0.0038186    1.12359e-7   0.00100805      6.45645e-6  0.000103303\n",
       " 0.0038186    1.12359e-7   0.00100805      6.45645e-6  0.000103303\n",
       " 0.0038186    1.12359e-7   0.00100805      6.45645e-6  0.000103303\n",
       " 0.0038186    1.12359e-7   0.00100805   …  6.45645e-6  0.000103303\n",
       " 0.00526128   1.21448e-7   0.00104459      9.00149e-6  0.000144024\n",
       " 0.00444997   1.16337e-7   0.00102404      7.57025e-6  0.000121124\n",
       " 0.00444997   1.16337e-7   0.00102404      7.57025e-6  0.000121124\n",
       " 0.00444997   1.16337e-7   0.00102404      7.57025e-6  0.000121124\n",
       " 0.00444997   1.16337e-7   0.00102404   …  7.57025e-6  0.000121124\n",
       " 1.55549e-5   9.80019e-11  3.93968e-7      3.07441e-7  4.91905e-6 \n",
       " 1.55549e-5   9.80019e-11  3.93968e-7      4.39594e-5  0.000703351\n",
       " 1.55549e-5   9.80019e-11  3.93968e-7      4.39594e-5  0.0011303  "
      ]
     },
     "execution_count": 62,
     "metadata": {},
     "output_type": "execute_result"
    }
   ],
   "source": [
    "feeder = experiment5[\"uncert\"][\"feeder\"]\n",
    "results = experiment5[\"uncert\"][\"results\"]\n",
    "sq_sig = (experiment5[\"uncert\"][\"settings\"][\"Σ\"])[2:end,2:end]^(1/2)\n",
    "e = ones(14)\n",
    "rho = results[:rho][2:end]\n",
    "\n",
    "\n",
    "Rd = feeder.R\n",
    "A = feeder.A[1:end, 2:end]\n",
    "R = A'*Rd*A\n",
    "sq_sig[2,2] = 1e-6\n",
    "\n",
    "Y = (R + rho*e')sq_sig\n",
    "\n",
    "\n"
   ]
  },
  {
   "cell_type": "code",
   "execution_count": 137,
   "metadata": {},
   "outputs": [
    {
     "data": {
      "text/plain": [
       "-0.06559285153403285"
      ]
     },
     "execution_count": 137,
     "metadata": {},
     "output_type": "execute_result"
    }
   ],
   "source": [
    "get_lPi_dk(feeder, results, 4, 5)"
   ]
  },
  {
   "cell_type": "code",
   "execution_count": 144,
   "metadata": {},
   "outputs": [
    {
     "data": {
      "text/html": [
       "<table class=\"data-frame\"><thead><tr><th></th><th>x1</th><th>x2</th><th>x3</th><th>x4</th><th>x5</th><th>x6</th><th>x7</th><th>x8</th><th>x9</th><th>x10</th><th>x11</th><th>x12</th><th>x13</th><th>x14</th><th>x15</th></tr><tr><th></th><th>Float64</th><th>Float64</th><th>Float64</th><th>Float64</th><th>Float64</th><th>Float64</th><th>Float64</th><th>Float64</th><th>Float64</th><th>Float64</th><th>Float64</th><th>Float64</th><th>Float64</th><th>Float64</th><th>Float64</th></tr></thead><tbody><p>15 rows × 15 columns</p><tr><th>1</th><td>0.0</td><td>0.0</td><td>0.0</td><td>0.0</td><td>0.0</td><td>0.0</td><td>0.0</td><td>0.0</td><td>0.0</td><td>0.0</td><td>0.0</td><td>0.0</td><td>0.0</td><td>0.0</td><td>0.0</td></tr><tr><th>2</th><td>0.0</td><td>-0.0</td><td>-0.0</td><td>-0.0</td><td>-0.0</td><td>-0.0</td><td>-0.0</td><td>-0.0</td><td>-0.0</td><td>-0.0</td><td>-0.0</td><td>-0.0</td><td>-0.0</td><td>-0.0</td><td>-0.0</td></tr><tr><th>3</th><td>0.0</td><td>0.0</td><td>0.127749</td><td>0.118361</td><td>0.117155</td><td>0.116827</td><td>0.127749</td><td>0.127749</td><td>0.116426</td><td>0.115928</td><td>0.115688</td><td>0.127749</td><td>0.0</td><td>0.0</td><td>0.0</td></tr><tr><th>4</th><td>0.0</td><td>0.0</td><td>0.0</td><td>-0.0661956</td><td>-0.0655929</td><td>-0.0654287</td><td>-0.0661956</td><td>-0.0661956</td><td>-0.0652286</td><td>-0.0649797</td><td>-0.0648596</td><td>-0.0661956</td><td>0.0</td><td>0.0</td><td>0.0</td></tr><tr><th>5</th><td>0.0</td><td>0.0</td><td>0.0</td><td>0.0</td><td>-0.00910599</td><td>-0.00908321</td><td>-0.00910599</td><td>0.0</td><td>0.0</td><td>0.0</td><td>0.0</td><td>0.0</td><td>0.0</td><td>0.0</td><td>0.0</td></tr><tr><th>6</th><td>0.0</td><td>-0.0</td><td>-0.0</td><td>-0.0</td><td>-0.0</td><td>-0.00250241</td><td>-0.00250241</td><td>-0.0</td><td>-0.0</td><td>-0.0</td><td>-0.0</td><td>-0.0</td><td>-0.0</td><td>-0.0</td><td>-0.0</td></tr><tr><th>7</th><td>0.0</td><td>-0.0</td><td>-0.0</td><td>-0.0</td><td>-0.0</td><td>-0.0</td><td>-0.00870465</td><td>-0.0</td><td>-0.0</td><td>-0.0</td><td>-0.0</td><td>-0.0</td><td>-0.0</td><td>-0.0</td><td>-0.0</td></tr><tr><th>8</th><td>0.0</td><td>-0.0</td><td>-0.0</td><td>-0.0</td><td>-0.0</td><td>-0.0</td><td>-0.0</td><td>-0.012764</td><td>-0.0</td><td>-0.0</td><td>-0.0</td><td>-0.0</td><td>-0.0</td><td>-0.0</td><td>-0.0</td></tr><tr><th>9</th><td>0.0</td><td>0.0</td><td>0.0</td><td>0.0</td><td>0.0</td><td>0.0</td><td>0.0</td><td>-0.0146084</td><td>-0.0146084</td><td>-0.0145529</td><td>-0.0145261</td><td>-0.0146084</td><td>0.0</td><td>0.0</td><td>0.0</td></tr><tr><th>10</th><td>0.0</td><td>0.0</td><td>0.0</td><td>0.0</td><td>0.0</td><td>0.0</td><td>0.0</td><td>0.0</td><td>0.0</td><td>-0.00381562</td><td>-0.00380891</td><td>-0.00381562</td><td>0.0</td><td>0.0</td><td>0.0</td></tr><tr><th>11</th><td>0.0</td><td>0.0</td><td>0.0</td><td>0.0</td><td>0.0</td><td>0.0</td><td>0.0</td><td>0.0</td><td>0.0</td><td>0.0</td><td>-0.00184798</td><td>-0.00184798</td><td>0.0</td><td>0.0</td><td>0.0</td></tr><tr><th>12</th><td>0.0</td><td>0.0</td><td>0.0</td><td>0.0</td><td>0.0</td><td>0.0</td><td>0.0</td><td>0.0</td><td>0.0</td><td>0.0</td><td>0.0</td><td>-0.0014872</td><td>0.0</td><td>0.0</td><td>0.0</td></tr><tr><th>13</th><td>0.0</td><td>-0.0</td><td>-0.0</td><td>-0.0</td><td>-0.0</td><td>-0.0</td><td>-0.0</td><td>-0.0</td><td>-0.0</td><td>-0.0</td><td>-0.0</td><td>-0.0</td><td>-0.000221909</td><td>-0.000277777</td><td>-0.000221909</td></tr><tr><th>14</th><td>0.0</td><td>0.0</td><td>0.0</td><td>0.0</td><td>0.0</td><td>0.0</td><td>0.0</td><td>0.0</td><td>0.0</td><td>0.0</td><td>0.0</td><td>0.0</td><td>0.0</td><td>0.255647</td><td>0.255647</td></tr><tr><th>15</th><td>0.0</td><td>0.0</td><td>0.0</td><td>0.0</td><td>0.0</td><td>0.0</td><td>0.0</td><td>0.0</td><td>0.0</td><td>0.0</td><td>0.0</td><td>0.0</td><td>0.0</td><td>0.0</td><td>0.00659607</td></tr></tbody></table>"
      ],
      "text/latex": [
       "\\begin{tabular}{r|ccccccccccccccc}\n",
       "\t& x1 & x2 & x3 & x4 & x5 & x6 & x7 & x8 & x9 & x10 & x11 & x12 & x13 & x14 & x15\\\\\n",
       "\t\\hline\n",
       "\t& Float64 & Float64 & Float64 & Float64 & Float64 & Float64 & Float64 & Float64 & Float64 & Float64 & Float64 & Float64 & Float64 & Float64 & Float64\\\\\n",
       "\t\\hline\n",
       "\t1 & 0.0 & 0.0 & 0.0 & 0.0 & 0.0 & 0.0 & 0.0 & 0.0 & 0.0 & 0.0 & 0.0 & 0.0 & 0.0 & 0.0 & 0.0 \\\\\n",
       "\t2 & 0.0 & -0.0 & -0.0 & -0.0 & -0.0 & -0.0 & -0.0 & -0.0 & -0.0 & -0.0 & -0.0 & -0.0 & -0.0 & -0.0 & -0.0 \\\\\n",
       "\t3 & 0.0 & 0.0 & 0.127749 & 0.118361 & 0.117155 & 0.116827 & 0.127749 & 0.127749 & 0.116426 & 0.115928 & 0.115688 & 0.127749 & 0.0 & 0.0 & 0.0 \\\\\n",
       "\t4 & 0.0 & 0.0 & 0.0 & -0.0661956 & -0.0655929 & -0.0654287 & -0.0661956 & -0.0661956 & -0.0652286 & -0.0649797 & -0.0648596 & -0.0661956 & 0.0 & 0.0 & 0.0 \\\\\n",
       "\t5 & 0.0 & 0.0 & 0.0 & 0.0 & -0.00910599 & -0.00908321 & -0.00910599 & 0.0 & 0.0 & 0.0 & 0.0 & 0.0 & 0.0 & 0.0 & 0.0 \\\\\n",
       "\t6 & 0.0 & -0.0 & -0.0 & -0.0 & -0.0 & -0.00250241 & -0.00250241 & -0.0 & -0.0 & -0.0 & -0.0 & -0.0 & -0.0 & -0.0 & -0.0 \\\\\n",
       "\t7 & 0.0 & -0.0 & -0.0 & -0.0 & -0.0 & -0.0 & -0.00870465 & -0.0 & -0.0 & -0.0 & -0.0 & -0.0 & -0.0 & -0.0 & -0.0 \\\\\n",
       "\t8 & 0.0 & -0.0 & -0.0 & -0.0 & -0.0 & -0.0 & -0.0 & -0.012764 & -0.0 & -0.0 & -0.0 & -0.0 & -0.0 & -0.0 & -0.0 \\\\\n",
       "\t9 & 0.0 & 0.0 & 0.0 & 0.0 & 0.0 & 0.0 & 0.0 & -0.0146084 & -0.0146084 & -0.0145529 & -0.0145261 & -0.0146084 & 0.0 & 0.0 & 0.0 \\\\\n",
       "\t10 & 0.0 & 0.0 & 0.0 & 0.0 & 0.0 & 0.0 & 0.0 & 0.0 & 0.0 & -0.00381562 & -0.00380891 & -0.00381562 & 0.0 & 0.0 & 0.0 \\\\\n",
       "\t11 & 0.0 & 0.0 & 0.0 & 0.0 & 0.0 & 0.0 & 0.0 & 0.0 & 0.0 & 0.0 & -0.00184798 & -0.00184798 & 0.0 & 0.0 & 0.0 \\\\\n",
       "\t12 & 0.0 & 0.0 & 0.0 & 0.0 & 0.0 & 0.0 & 0.0 & 0.0 & 0.0 & 0.0 & 0.0 & -0.0014872 & 0.0 & 0.0 & 0.0 \\\\\n",
       "\t13 & 0.0 & -0.0 & -0.0 & -0.0 & -0.0 & -0.0 & -0.0 & -0.0 & -0.0 & -0.0 & -0.0 & -0.0 & -0.000221909 & -0.000277777 & -0.000221909 \\\\\n",
       "\t14 & 0.0 & 0.0 & 0.0 & 0.0 & 0.0 & 0.0 & 0.0 & 0.0 & 0.0 & 0.0 & 0.0 & 0.0 & 0.0 & 0.255647 & 0.255647 \\\\\n",
       "\t15 & 0.0 & 0.0 & 0.0 & 0.0 & 0.0 & 0.0 & 0.0 & 0.0 & 0.0 & 0.0 & 0.0 & 0.0 & 0.0 & 0.0 & 0.00659607 \\\\\n",
       "\\end{tabular}\n"
      ],
      "text/plain": [
       "15×15 DataFrame. Omitted printing of 9 columns\n",
       "│ Row │ x1      │ x2      │ x3       │ x4         │ x5          │ x6          │\n",
       "│     │ \u001b[90mFloat64\u001b[39m │ \u001b[90mFloat64\u001b[39m │ \u001b[90mFloat64\u001b[39m  │ \u001b[90mFloat64\u001b[39m    │ \u001b[90mFloat64\u001b[39m     │ \u001b[90mFloat64\u001b[39m     │\n",
       "├─────┼─────────┼─────────┼──────────┼────────────┼─────────────┼─────────────┤\n",
       "│ 1   │ 0.0     │ 0.0     │ 0.0      │ 0.0        │ 0.0         │ 0.0         │\n",
       "│ 2   │ 0.0     │ -0.0    │ -0.0     │ -0.0       │ -0.0        │ -0.0        │\n",
       "│ 3   │ 0.0     │ 0.0     │ 0.127749 │ 0.118361   │ 0.117155    │ 0.116827    │\n",
       "│ 4   │ 0.0     │ 0.0     │ 0.0      │ -0.0661956 │ -0.0655929  │ -0.0654287  │\n",
       "│ 5   │ 0.0     │ 0.0     │ 0.0      │ 0.0        │ -0.00910599 │ -0.00908321 │\n",
       "│ 6   │ 0.0     │ -0.0    │ -0.0     │ -0.0       │ -0.0        │ -0.00250241 │\n",
       "│ 7   │ 0.0     │ -0.0    │ -0.0     │ -0.0       │ -0.0        │ -0.0        │\n",
       "│ 8   │ 0.0     │ -0.0    │ -0.0     │ -0.0       │ -0.0        │ -0.0        │\n",
       "│ 9   │ 0.0     │ 0.0     │ 0.0      │ 0.0        │ 0.0         │ 0.0         │\n",
       "│ 10  │ 0.0     │ 0.0     │ 0.0      │ 0.0        │ 0.0         │ 0.0         │\n",
       "│ 11  │ 0.0     │ 0.0     │ 0.0      │ 0.0        │ 0.0         │ 0.0         │\n",
       "│ 12  │ 0.0     │ 0.0     │ 0.0      │ 0.0        │ 0.0         │ 0.0         │\n",
       "│ 13  │ 0.0     │ -0.0    │ -0.0     │ -0.0       │ -0.0        │ -0.0        │\n",
       "│ 14  │ 0.0     │ 0.0     │ 0.0      │ 0.0        │ 0.0         │ 0.0         │\n",
       "│ 15  │ 0.0     │ 0.0     │ 0.0      │ 0.0        │ 0.0         │ 0.0         │"
      ]
     },
     "execution_count": 144,
     "metadata": {},
     "output_type": "execute_result"
    }
   ],
   "source": [
    "feeder = experiment5[\"uncert\"][\"feeder\"]\n",
    "results = experiment5[\"uncert\"][\"results\"]\n",
    "root_bus = feeder.root_bus\n",
    "n_buses = feeder.n_buses\n",
    "\n",
    "non_root_buses = setdiff(collect(1:n_buses), [root_bus])\n",
    "\n",
    "LF_P = zeros(n_buses,n_buses)\n",
    "LF_Q = zeros(n_buses,n_buses)\n",
    "for i in non_root_buses\n",
    "    for k in non_root_buses\n",
    "        LF_P[i,k] = get_lPi_dk(feeder, results, i, k)\n",
    "        LF_Q[i,k] = get_lQi_dk(feeder, results, i, k)\n",
    "    end\n",
    "end\n",
    "\n",
    "DataFrame(LF_P)"
   ]
  },
  {
   "cell_type": "code",
   "execution_count": 46,
   "metadata": {},
   "outputs": [
    {
     "data": {
      "text/plain": [
       "14×14 Array{Float64,2}:\n",
       " 1.0  -1.0   0.0  -0.0   0.0  -0.0  …   0.0  -0.0   0.0  -0.0   0.0  -0.0\n",
       " 0.0   1.0  -1.0  -0.0   0.0  -0.0      0.0  -0.0   0.0  -0.0   0.0  -0.0\n",
       " 0.0   0.0   1.0  -1.0   0.0  -0.0      0.0  -0.0   0.0  -0.0   0.0  -0.0\n",
       " 0.0   0.0   0.0   1.0  -1.0  -0.0      0.0  -0.0   0.0  -0.0   0.0  -0.0\n",
       " 0.0   0.0   0.0   0.0   1.0  -1.0      0.0  -0.0   0.0  -0.0   0.0  -0.0\n",
       " 0.0   0.0   0.0   0.0   0.0   1.0  …   0.0  -0.0   0.0  -0.0   0.0  -0.0\n",
       " 0.0   0.0   0.0   0.0   0.0   0.0      0.0  -0.0   0.0  -0.0   0.0  -0.0\n",
       " 0.0   0.0   0.0   0.0   0.0   0.0     -1.0  -0.0   0.0  -0.0   0.0  -0.0\n",
       " 0.0   0.0   0.0   0.0   0.0   0.0      1.0  -1.0   0.0  -0.0   0.0  -0.0\n",
       " 0.0   0.0   0.0   0.0   0.0   0.0      0.0   1.0  -1.0  -0.0   0.0  -0.0\n",
       " 0.0   0.0   0.0   0.0   0.0   0.0  …   0.0   0.0   1.0  -0.0   0.0  -0.0\n",
       " 0.0   0.0   0.0   0.0   0.0   0.0      0.0   0.0   0.0   1.0  -1.0  -0.0\n",
       " 0.0   0.0   0.0   0.0   0.0   0.0      0.0   0.0   0.0   0.0   1.0  -1.0\n",
       " 0.0   0.0   0.0   0.0   0.0   0.0      0.0   0.0   0.0   0.0   0.0   1.0"
      ]
     },
     "execution_count": 46,
     "metadata": {},
     "output_type": "execute_result"
    }
   ],
   "source": [
    "A = feeder.A[:,2:end]\n",
    "A_check = A^-1"
   ]
  },
  {
   "cell_type": "code",
   "execution_count": 120,
   "metadata": {},
   "outputs": [
    {
     "data": {
      "text/plain": [
       "traverse (generic function with 2 methods)"
      ]
     },
     "execution_count": 120,
     "metadata": {},
     "output_type": "execute_result"
    }
   ],
   "source": [
    "function traverse(feeder, bus_idx; nodes=[])\n",
    "    push!(nodes, bus_idx)\n",
    "    if length(feeder.buses[bus_idx].children) > 0\n",
    "        for c in feeder.buses[bus_idx].children\n",
    "            nodes = traverse(feeder, c, nodes=nodes)\n",
    "        end\n",
    "    end\n",
    "    return nodes \n",
    "end"
   ]
  },
  {
   "cell_type": "code",
   "execution_count": 47,
   "metadata": {},
   "outputs": [
    {
     "data": {
      "text/plain": [
       "14×14 Array{Float64,2}:\n",
       " 0.001  0.001   0.001   0.001   0.001   …  0.001   0.0    0.0     0.0   \n",
       " 0.001  0.0893  0.0893  0.0893  0.0893     0.0893  0.0    0.0     0.0   \n",
       " 0.001  0.0893  0.2277  0.2277  0.2277     0.2277  0.0    0.0     0.0   \n",
       " 0.001  0.0893  0.2277  0.2468  0.2468     0.2277  0.0    0.0     0.0   \n",
       " 0.001  0.0893  0.2277  0.2468  0.2643     0.2277  0.0    0.0     0.0   \n",
       " 0.001  0.0893  0.2277  0.2468  0.2643  …  0.2277  0.0    0.0     0.0   \n",
       " 0.001  0.0893  0.2277  0.2277  0.2277     0.2684  0.0    0.0     0.0   \n",
       " 0.001  0.0893  0.2277  0.2277  0.2277     0.2684  0.0    0.0     0.0   \n",
       " 0.001  0.0893  0.2277  0.2277  0.2277     0.2784  0.0    0.0     0.0   \n",
       " 0.001  0.0893  0.2277  0.2277  0.2277     0.3025  0.0    0.0     0.0   \n",
       " 0.001  0.0893  0.2277  0.2277  0.2277  …  0.3128  0.0    0.0     0.0   \n",
       " 0.0    0.0     0.0     0.0     0.0        0.0     0.001  0.001   0.001 \n",
       " 0.0    0.0     0.0     0.0     0.0        0.0     0.001  0.1569  0.1569\n",
       " 0.0    0.0     0.0     0.0     0.0        0.0     0.001  0.1569  0.2522"
      ]
     },
     "execution_count": 47,
     "metadata": {},
     "output_type": "execute_result"
    }
   ],
   "source": [
    "Rd = feeder.R\n",
    "A = feeder.A[1:end, 2:end]\n",
    "R = A'*Rd*A\n",
    "\n",
    "\n"
   ]
  },
  {
   "cell_type": "code",
   "execution_count": 23,
   "metadata": {},
   "outputs": [
    {
     "data": {
      "text/plain": [
       "3-element Array{Generator,1}:\n",
       " Generator(\"g1\", 1, 1000.0, 1000.0, 50.0, 1000.0)\n",
       " Generator(\"g2\", 12, 0.8, 0.4, 10.0, 5.0)        \n",
       " Generator(\"g3\", 7, 0.8, 0.4, 10.0, 5.0)         "
      ]
     },
     "execution_count": 23,
     "metadata": {},
     "output_type": "execute_result"
    }
   ],
   "source": [
    "feeder.generators"
   ]
  },
  {
   "cell_type": "code",
   "execution_count": null,
   "metadata": {},
   "outputs": [],
   "source": [
    "# datadir = (\"data/feeder_data/basecase_noneg/\")\n",
    "datadir = (\"data/feeder_data/basecase_lv_noneg/\")\n",
    "# datadir = (\"data/feeder_data/feeder141/\")\n",
    "# datadir = (\"data/feeder_data/feeder141_lv/\")\n",
    "\n",
    "feeder = load_feeder(datadir);"
   ]
  },
  {
   "cell_type": "code",
   "execution_count": null,
   "metadata": {},
   "outputs": [],
   "source": []
  },
  {
   "cell_type": "code",
   "execution_count": null,
   "metadata": {},
   "outputs": [],
   "source": [
    "mu = results_df[:mu_plus] .+ results_df[:mu_minus]\n",
    "mu = mu[2:end]\n",
    "\n",
    "b = 1 ./ diag(C)\n",
    "b = [(x == Inf ? 0 : x) for x in b]\n",
    "\n",
    "g3 = 2*s*z*e'*R'*mu/sum(b)\n",
    "\n",
    "g1 = s^2/sum(b) \n",
    "\n",
    "delta = results_df[:delta_plus] .+ results_df[:delta_minus]\n",
    "detlta = delta[2:end]\n",
    "g2 = sum(delta.*b)/sum(b)\n",
    "\n",
    "g = -g1 - g2 + g3\n"
   ]
  },
  {
   "cell_type": "code",
   "execution_count": null,
   "metadata": {},
   "outputs": [],
   "source": [
    "saveres = results_df"
   ]
  },
  {
   "cell_type": "code",
   "execution_count": null,
   "metadata": {},
   "outputs": [],
   "source": [
    "CSV.write(\"figures/results_uncert.csv\", results_df)"
   ]
  },
  {
   "cell_type": "code",
   "execution_count": null,
   "metadata": {},
   "outputs": [],
   "source": [
    "shadow_price(m[:δp][12])"
   ]
  },
  {
   "cell_type": "code",
   "execution_count": null,
   "metadata": {},
   "outputs": [],
   "source": [
    "m.dictList"
   ]
  },
  {
   "cell_type": "code",
   "execution_count": 20,
   "metadata": {},
   "outputs": [
    {
     "data": {
      "text/plain": [
       "2×2 Array{Int64,2}:\n",
       " 1  2\n",
       " 3  4"
      ]
     },
     "execution_count": 20,
     "metadata": {},
     "output_type": "execute_result"
    }
   ],
   "source": [
    "A = [1 2; 3 4]"
   ]
  },
  {
   "cell_type": "code",
   "execution_count": 31,
   "metadata": {},
   "outputs": [
    {
     "ename": "MethodError",
     "evalue": "MethodError: objects of type Array{Bus,1} are not callable\nUse square brackets [] for indexing an Array.",
     "output_type": "error",
     "traceback": [
      "MethodError: objects of type Array{Bus,1} are not callable\nUse square brackets [] for indexing an Array.",
      "",
      "Stacktrace:",
      " [1] top-level scope at In[31]:1"
     ]
    }
   ],
   "source": [
    "feeder.buses()"
   ]
  },
  {
   "cell_type": "code",
   "execution_count": 144,
   "metadata": {},
   "outputs": [
    {
     "data": {
      "text/plain": [
       "\"190318_1923\""
      ]
     },
     "execution_count": 144,
     "metadata": {},
     "output_type": "execute_result"
    }
   ],
   "source": [
    "\n",
    "Dates.format(Dates.now(), \"yymmdd_HHMM\")"
   ]
  },
  {
   "cell_type": "code",
   "execution_count": null,
   "metadata": {},
   "outputs": [],
   "source": []
  }
 ],
 "metadata": {
  "hide_code_all_hidden": false,
  "kernelspec": {
   "display_name": "Julia 1.1.0",
   "language": "julia",
   "name": "julia-1.1"
  },
  "language_info": {
   "file_extension": ".jl",
   "mimetype": "application/julia",
   "name": "julia",
   "version": "1.1.0"
  },
  "varInspector": {
   "cols": {
    "lenName": 16,
    "lenType": 16,
    "lenVar": 40
   },
   "kernels_config": {
    "python": {
     "delete_cmd_postfix": "",
     "delete_cmd_prefix": "del ",
     "library": "var_list.py",
     "varRefreshCmd": "print(var_dic_list())"
    },
    "r": {
     "delete_cmd_postfix": ") ",
     "delete_cmd_prefix": "rm(",
     "library": "var_list.r",
     "varRefreshCmd": "cat(var_dic_list()) "
    }
   },
   "types_to_exclude": [
    "module",
    "function",
    "builtin_function_or_method",
    "instance",
    "_Feature"
   ],
   "window_display": false
  }
 },
 "nbformat": 4,
 "nbformat_minor": 2
}
