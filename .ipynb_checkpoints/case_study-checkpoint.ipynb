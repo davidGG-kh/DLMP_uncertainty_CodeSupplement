{
 "cells": [
  {
   "cell_type": "markdown",
   "metadata": {},
   "source": [
    "# Case Study Model\n",
    "\n",
    "## General Remarks\n",
    "\n",
    "- Reverse Power Flow / Cost at substation\n",
    "    - If the negative generation limit at the substation is not enforced, then substation has the option of pushing energy back towards the transmission system (reverse power flow)\n",
    "    - We make the follwoing assumptions: \n",
    "        - reverse power flow is allowed at the substation \n",
    "        - for scheduled negative active power the substation is remunerated according to the market price (i.e. linear cost of energy provision at the substation) -> the substation has a linear cost function \n",
    "        - While the cost function will not have a quadratic termn, THERE WILL BE a penalty on $\\alpha_0$ as it indicates how much the substation is willing to deviate from the schedule\n",
    "\n",
    "\n",
    "## Notes and Todos:\n",
    "- decide for a case! (combination of voltage limits and generators). Notes:\n",
    "    - should there be an equal lambda case?\n",
    "    - should the DERs be fully utilized in the deterministic case?\n",
    "- Maybe check if 33bus gives nice/better results?\n",
    " \n",
    " \n",
    "Done:   \n",
    "- put results handling in a function [done]\n",
    "- remove unneccsray packages (e.g. gurobi from tomls) [done, but check on the \"remains\"]\n",
    "- Remove quadratic term from substation [done]"
   ]
  },
  {
   "cell_type": "code",
   "execution_count": 176,
   "metadata": {},
   "outputs": [
    {
     "data": {
      "text/html": [
       "<style>.container { width:80% !important; }</style>"
      ]
     },
     "metadata": {},
     "output_type": "display_data"
    }
   ],
   "source": [
    "# IJulia.qtconsole();\n",
    "display(\"text/html\", \"<style>.container { width:80% !important; }</style>\")"
   ]
  },
  {
   "cell_type": "code",
   "execution_count": 144,
   "metadata": {
    "hideCode": false,
    "hidePrompt": false
   },
   "outputs": [
    {
     "data": {
      "text/plain": [
       "results_to_df (generic function with 1 method)"
      ]
     },
     "execution_count": 144,
     "metadata": {},
     "output_type": "execute_result"
    }
   ],
   "source": [
    "# Set up environment from .toml-files\n",
    "import Pkg\n",
    "Pkg.activate(\".\")\n",
    "# Pkg.instantiate()\n",
    "\n",
    "# Load necessary packages\n",
    "using DataFrames, CSV, LinearAlgebra, Dates # Basic Julia utility\n",
    "using JLD, HDF5\n",
    "using JuMP # Modeling Framework\n",
    "using Mosek, MosekTools # Solver and Solver-Environment\n",
    "using Logging # For some warnings in the functions\n",
    "\n",
    "# Load functions and model\n",
    "include(\"src/tools.jl\") # Some additional functions\n",
    "include(\"src/input.jl\") # Type definitions and read-in functions\n",
    "include(\"src/model_definition.jl\") # Model definiton\n",
    "include(\"src/output.jl\") # Postprocessing of solved model"
   ]
  },
  {
   "cell_type": "markdown",
   "metadata": {},
   "source": [
    "# 15Bus Case\n",
    "\n",
    "- 15 bus case from Papavasilou paper\n",
    "    - negative load is positive load\n",
    "    - no line constraints\n",
    "    - voltage at root is 1 p.u.\n",
    "    \n",
    "- Assumptions for all cases except mentioned differently\n",
    "    - Two DERs one each at node 6 and 11 with `c1 = 10`, `c2 = 5`, `p_max = 1`, `q_max = 0.5`\n",
    "    - No reverse power flow limit on substation\n",
    "    - Substation pays `c1 = 50` for energy provision from the transmission network (no quadratic term) and a penalty of `200` on alpha to discourage high alpha"
   ]
  },
  {
   "cell_type": "markdown",
   "metadata": {},
   "source": [
    "## Experiment 1\n",
    "\n",
    "We analyse the influence of the uncertainty in the system using the \"standard\" setup\n",
    "\n",
    "### Description\n",
    "\n",
    "Ex1:\n",
    "- tag: `experiment1`\n",
    "- tight bascase voltage (0.95-1.05) \n",
    "- all nodes have 20% standard deviation of their forecasted load\n",
    "\n",
    "Runs:\n",
    "- `ex1_no_uncert`: deterministic case\n",
    "- `ex1_uncert`: case with uncertainty\n",
    "- `ex1_gen_uncert`: Chance constraints only in generation\n",
    "\n",
    "\n",
    "### Notes and Observations\n",
    "\n",
    "- Recursive decomposition of prices for active power (eqtns (20) and (21)) are verified by the experimet\n",
    "- Decompositon via voltage constraints (eqtns (23) and (24)) also verified by the experiment"
   ]
  },
  {
   "cell_type": "code",
   "execution_count": 145,
   "metadata": {
    "hideCode": false,
    "hidePrompt": false
   },
   "outputs": [
    {
     "name": "stdout",
     "output_type": "stream",
     "text": [
      ">>>>> Reading feeder data from data/feeder_data/basecase_lv_noneg/\n",
      "Running ex1_uncert\n",
      ">>>> Building Model\n",
      ">>>> Running Model\n",
      "MOSEK warning 705: #3 (nearly) zero elements are specified in sparse row ''(87) of matrix 'A'.\n",
      "MOSEK warning 705: #4 (nearly) zero elements are specified in sparse row ''(93) of matrix 'A'.\n",
      ">>>> Model finished with status OPTIMAL in 0.008781399 seconds\n",
      ">>>> Post-Processing\n",
      "\n",
      "Running ex1_gen_uncert\n",
      ">>>> Building Model\n",
      ">>>> Running Model\n",
      ">>>> Model finished with status OPTIMAL in 0.017139776 seconds\n",
      ">>>> Post-Processing\n",
      "\n",
      "Running ex1_no_uncert\n",
      ">>>> Building Model\n",
      ">>>> Running Model\n",
      ">>>> Model finished with status OPTIMAL in 0.002908415 seconds\n",
      ">>>> Post-Processing\n",
      "\n"
     ]
    },
    {
     "data": {
      "text/html": [
       "<table class=\"data-frame\"><thead><tr><th></th><th>objective</th><th>bus</th><th>gp</th><th>gq</th><th>voltage</th><th>alpha</th><th>lambda</th><th>pi</th><th>gamma</th><th>eta</th><th>delta_plus</th><th>delta_minus</th><th>mu_plus</th><th>mu_minus</th><th>voltvar</th><th>lambda_anc</th><th>rx_pi_i</th><th>rx_pi_a</th><th>r_sum_mu_d</th></tr><tr><th></th><th>Float64</th><th>Any</th><th>Any</th><th>Any</th><th>Any</th><th>Any</th><th>Any</th><th>Any</th><th>Float64</th><th>Any</th><th>Any</th><th>Any</th><th>Any</th><th>Any</th><th>Any</th><th>Any</th><th>Any</th><th>Any</th><th>Any</th></tr></thead><tbody><p>15 rows × 19 columns</p><tr><th>1</th><td>107.833</td><td>1</td><td>0.894374</td><td>0.540247</td><td>1.0</td><td>0.550625</td><td>-100.0</td><td>-5.22936e-10</td><td>-14.1658</td><td>0</td><td>0</td><td>0</td><td>0</td><td>0</td><td>0</td><td>0</td><td>0</td><td>0</td><td>0</td></tr><tr><th>2</th><td>0.0</td><td>2</td><td>0</td><td>0</td><td>0.950269</td><td>0</td><td>-101.064</td><td>-127.648</td><td>0.0</td><td>-0.0980513</td><td>0</td><td>0</td><td>-2.11416e-5</td><td>-697.74</td><td>9.92585e-5</td><td>-100.0</td><td>-1.06373</td><td>-4.3578e-12</td><td>1.06373</td></tr><tr><th>3</th><td>0.0</td><td>3</td><td>0</td><td>0</td><td>0.9719</td><td>0</td><td>-71.7705</td><td>-85.7815</td><td>0.0</td><td>-5.09823</td><td>0</td><td>0</td><td>-3.21486e-5</td><td>-0.000365687</td><td>0.00595755</td><td>-101.064</td><td>-60.0199</td><td>-89.3132</td><td>-29.2933</td></tr><tr><th>4</th><td>0.0</td><td>4</td><td>0</td><td>0</td><td>1.00487</td><td>0</td><td>-25.8566</td><td>-20.1618</td><td>0.0</td><td>-12.9354</td><td>0</td><td>0</td><td>-0.000137341</td><td>-0.000100472</td><td>0.0127409</td><td>-71.7705</td><td>-14.1072</td><td>-60.0211</td><td>-45.9139</td></tr><tr><th>5</th><td>0.0</td><td>5</td><td>0</td><td>0</td><td>1.00884</td><td>0</td><td>-22.6819</td><td>-15.6242</td><td>0.0</td><td>-13.4717</td><td>0</td><td>0</td><td>-0.000179682</td><td>-8.24556e-5</td><td>0.012421</td><td>-25.8566</td><td>-10.9312</td><td>-14.1059</td><td>-3.17471</td></tr><tr><th>6</th><td>0.0</td><td>6</td><td>0</td><td>0</td><td>1.01286</td><td>0</td><td>-19.7731</td><td>-11.4522</td><td>0.0</td><td>-13.9631</td><td>0</td><td>0</td><td>-0.000248564</td><td>-6.91739e-5</td><td>0.0119264</td><td>-22.6819</td><td>-7.98458</td><td>-10.8933</td><td>-2.90876</td></tr><tr><th>7</th><td>0.0</td><td>7</td><td>0.511526</td><td>-0.146374</td><td>1.02575</td><td>0.107176</td><td>-11.7616</td><td>-1.01055e-5</td><td>0.0</td><td>-15.3165</td><td>-2.53398e-5</td><td>-1.07972e-5</td><td>-83.1073</td><td>-4.68272e-5</td><td>0.00977028</td><td>-19.7731</td><td>-7.06947e-6</td><td>-8.01153</td><td>-8.01154</td></tr><tr><th>8</th><td>0.0</td><td>8</td><td>0</td><td>0</td><td>0.996791</td><td>0</td><td>-19.1194</td><td>-10.5279</td><td>0.0</td><td>-14.0973</td><td>0</td><td>0</td><td>-0.000119038</td><td>-0.0002906</td><td>0.0150436</td><td>-19.1194</td><td>-7.37091</td><td>-7.37089</td><td>1.79454e-5</td></tr><tr><th>9</th><td>0.0</td><td>9</td><td>0</td><td>0</td><td>1.00721</td><td>0</td><td>-19.1194</td><td>-10.5278</td><td>0.0</td><td>-14.0973</td><td>0</td><td>0</td><td>-0.000214085</td><td>-0.000100536</td><td>0.013504</td><td>-25.8566</td><td>-7.36225</td><td>-14.0994</td><td>-6.73718</td></tr><tr><th>10</th><td>0.0</td><td>10</td><td>0</td><td>0</td><td>1.01008</td><td>0</td><td>-17.4641</td><td>-8.16071</td><td>0.0</td><td>-14.3828</td><td>0</td><td>0</td><td>-0.000283034</td><td>-8.63338e-5</td><td>0.0132011</td><td>-19.1194</td><td>-5.70679</td><td>-7.36212</td><td>-1.65533</td></tr><tr><th>11</th><td>0.0</td><td>11</td><td>0</td><td>0</td><td>1.01799</td><td>0</td><td>-13.4747</td><td>-2.44985</td><td>0.0</td><td>-15.0708</td><td>0</td><td>0</td><td>-0.00113693</td><td>-6.09762e-5</td><td>0.0121132</td><td>-17.4641</td><td>-1.71134</td><td>-5.70067</td><td>-3.98933</td></tr><tr><th>12</th><td>0.0</td><td>12</td><td>0.4</td><td>-0.0128732</td><td>1.02166</td><td>0.342198</td><td>-11.7698</td><td>-1.15033e-6</td><td>0.0</td><td>-15.3648</td><td>-6.16215</td><td>-5.76967</td><td>-82.7652</td><td>-5.31687e-5</td><td>0.0113965</td><td>-13.4747</td><td>-8.00565e-7</td><td>-1.70496</td><td>-1.70496</td></tr><tr><th>13</th><td>0.0</td><td>13</td><td>0</td><td>0</td><td>0.982619</td><td>0</td><td>-100.0</td><td>-0.000168623</td><td>0.0</td><td>-1.2642e-9</td><td>0</td><td>0</td><td>0.0</td><td>-0.000199034</td><td>0.00816166</td><td>-100.0</td><td>-1.40519e-6</td><td>-4.3578e-12</td><td>1.40519e-6</td></tr><tr><th>14</th><td>0.0</td><td>14</td><td>0</td><td>0</td><td>0.977795</td><td>0</td><td>-100.0</td><td>-0.00028132</td><td>0.0</td><td>-1.87763e-7</td><td>0</td><td>0</td><td>0.0</td><td>-0.000236557</td><td>0.00695897</td><td>-100.0</td><td>-0.000391938</td><td>-0.000234927</td><td>0.000157011</td></tr><tr><th>15</th><td>0.0</td><td>15</td><td>0</td><td>0</td><td>0.975027</td><td>0</td><td>-100.0</td><td>-0.000317847</td><td>0.0</td><td>-2.62226e-7</td><td>0</td><td>0</td><td>0.0</td><td>-0.000267006</td><td>0.00628878</td><td>-100.0</td><td>-0.000442848</td><td>-0.000391956</td><td>5.08914e-5</td></tr></tbody></table>"
      ],
      "text/latex": [
       "\\begin{tabular}{r|ccccccccccccccccccc}\n",
       "\t& objective & bus & gp & gq & voltage & alpha & lambda & pi & gamma & eta & delta\\_plus & delta\\_minus & mu\\_plus & mu\\_minus & voltvar & lambda\\_anc & rx\\_pi\\_i & rx\\_pi\\_a & r\\_sum\\_mu\\_d\\\\\n",
       "\t\\hline\n",
       "\t& Float64 & Any & Any & Any & Any & Any & Any & Any & Float64 & Any & Any & Any & Any & Any & Any & Any & Any & Any & Any\\\\\n",
       "\t\\hline\n",
       "\t1 & 107.833 & 1 & 0.894374 & 0.540247 & 1.0 & 0.550625 & -100.0 & -5.22936e-10 & -14.1658 & 0 & 0 & 0 & 0 & 0 & 0 & 0 & 0 & 0 & 0 \\\\\n",
       "\t2 & 0.0 & 2 & 0 & 0 & 0.950269 & 0 & -101.064 & -127.648 & 0.0 & -0.0980513 & 0 & 0 & -2.11416e-5 & -697.74 & 9.92585e-5 & -100.0 & -1.06373 & -4.3578e-12 & 1.06373 \\\\\n",
       "\t3 & 0.0 & 3 & 0 & 0 & 0.9719 & 0 & -71.7705 & -85.7815 & 0.0 & -5.09823 & 0 & 0 & -3.21486e-5 & -0.000365687 & 0.00595755 & -101.064 & -60.0199 & -89.3132 & -29.2933 \\\\\n",
       "\t4 & 0.0 & 4 & 0 & 0 & 1.00487 & 0 & -25.8566 & -20.1618 & 0.0 & -12.9354 & 0 & 0 & -0.000137341 & -0.000100472 & 0.0127409 & -71.7705 & -14.1072 & -60.0211 & -45.9139 \\\\\n",
       "\t5 & 0.0 & 5 & 0 & 0 & 1.00884 & 0 & -22.6819 & -15.6242 & 0.0 & -13.4717 & 0 & 0 & -0.000179682 & -8.24556e-5 & 0.012421 & -25.8566 & -10.9312 & -14.1059 & -3.17471 \\\\\n",
       "\t6 & 0.0 & 6 & 0 & 0 & 1.01286 & 0 & -19.7731 & -11.4522 & 0.0 & -13.9631 & 0 & 0 & -0.000248564 & -6.91739e-5 & 0.0119264 & -22.6819 & -7.98458 & -10.8933 & -2.90876 \\\\\n",
       "\t7 & 0.0 & 7 & 0.511526 & -0.146374 & 1.02575 & 0.107176 & -11.7616 & -1.01055e-5 & 0.0 & -15.3165 & -2.53398e-5 & -1.07972e-5 & -83.1073 & -4.68272e-5 & 0.00977028 & -19.7731 & -7.06947e-6 & -8.01153 & -8.01154 \\\\\n",
       "\t8 & 0.0 & 8 & 0 & 0 & 0.996791 & 0 & -19.1194 & -10.5279 & 0.0 & -14.0973 & 0 & 0 & -0.000119038 & -0.0002906 & 0.0150436 & -19.1194 & -7.37091 & -7.37089 & 1.79454e-5 \\\\\n",
       "\t9 & 0.0 & 9 & 0 & 0 & 1.00721 & 0 & -19.1194 & -10.5278 & 0.0 & -14.0973 & 0 & 0 & -0.000214085 & -0.000100536 & 0.013504 & -25.8566 & -7.36225 & -14.0994 & -6.73718 \\\\\n",
       "\t10 & 0.0 & 10 & 0 & 0 & 1.01008 & 0 & -17.4641 & -8.16071 & 0.0 & -14.3828 & 0 & 0 & -0.000283034 & -8.63338e-5 & 0.0132011 & -19.1194 & -5.70679 & -7.36212 & -1.65533 \\\\\n",
       "\t11 & 0.0 & 11 & 0 & 0 & 1.01799 & 0 & -13.4747 & -2.44985 & 0.0 & -15.0708 & 0 & 0 & -0.00113693 & -6.09762e-5 & 0.0121132 & -17.4641 & -1.71134 & -5.70067 & -3.98933 \\\\\n",
       "\t12 & 0.0 & 12 & 0.4 & -0.0128732 & 1.02166 & 0.342198 & -11.7698 & -1.15033e-6 & 0.0 & -15.3648 & -6.16215 & -5.76967 & -82.7652 & -5.31687e-5 & 0.0113965 & -13.4747 & -8.00565e-7 & -1.70496 & -1.70496 \\\\\n",
       "\t13 & 0.0 & 13 & 0 & 0 & 0.982619 & 0 & -100.0 & -0.000168623 & 0.0 & -1.2642e-9 & 0 & 0 & 0.0 & -0.000199034 & 0.00816166 & -100.0 & -1.40519e-6 & -4.3578e-12 & 1.40519e-6 \\\\\n",
       "\t14 & 0.0 & 14 & 0 & 0 & 0.977795 & 0 & -100.0 & -0.00028132 & 0.0 & -1.87763e-7 & 0 & 0 & 0.0 & -0.000236557 & 0.00695897 & -100.0 & -0.000391938 & -0.000234927 & 0.000157011 \\\\\n",
       "\t15 & 0.0 & 15 & 0 & 0 & 0.975027 & 0 & -100.0 & -0.000317847 & 0.0 & -2.62226e-7 & 0 & 0 & 0.0 & -0.000267006 & 0.00628878 & -100.0 & -0.000442848 & -0.000391956 & 5.08914e-5 \\\\\n",
       "\\end{tabular}\n"
      ],
      "text/plain": [
       "15×19 DataFrame. Omitted printing of 13 columns\n",
       "│ Row │ objective │ bus │ gp       │ gq         │ voltage  │ alpha    │\n",
       "│     │ \u001b[90mFloat64\u001b[39m   │ \u001b[90mAny\u001b[39m │ \u001b[90mAny\u001b[39m      │ \u001b[90mAny\u001b[39m        │ \u001b[90mAny\u001b[39m      │ \u001b[90mAny\u001b[39m      │\n",
       "├─────┼───────────┼─────┼──────────┼────────────┼──────────┼──────────┤\n",
       "│ 1   │ 107.833   │ 1   │ 0.894374 │ 0.540247   │ 1.0      │ 0.550625 │\n",
       "│ 2   │ 0.0       │ 2   │ 0        │ 0          │ 0.950269 │ 0        │\n",
       "│ 3   │ 0.0       │ 3   │ 0        │ 0          │ 0.9719   │ 0        │\n",
       "│ 4   │ 0.0       │ 4   │ 0        │ 0          │ 1.00487  │ 0        │\n",
       "│ 5   │ 0.0       │ 5   │ 0        │ 0          │ 1.00884  │ 0        │\n",
       "│ 6   │ 0.0       │ 6   │ 0        │ 0          │ 1.01286  │ 0        │\n",
       "│ 7   │ 0.0       │ 7   │ 0.511526 │ -0.146374  │ 1.02575  │ 0.107176 │\n",
       "│ 8   │ 0.0       │ 8   │ 0        │ 0          │ 0.996791 │ 0        │\n",
       "│ 9   │ 0.0       │ 9   │ 0        │ 0          │ 1.00721  │ 0        │\n",
       "│ 10  │ 0.0       │ 10  │ 0        │ 0          │ 1.01008  │ 0        │\n",
       "│ 11  │ 0.0       │ 11  │ 0        │ 0          │ 1.01799  │ 0        │\n",
       "│ 12  │ 0.0       │ 12  │ 0.4      │ -0.0128732 │ 1.02166  │ 0.342198 │\n",
       "│ 13  │ 0.0       │ 13  │ 0        │ 0          │ 0.982619 │ 0        │\n",
       "│ 14  │ 0.0       │ 14  │ 0        │ 0          │ 0.977795 │ 0        │\n",
       "│ 15  │ 0.0       │ 15  │ 0        │ 0          │ 0.975027 │ 0        │"
      ]
     },
     "metadata": {},
     "output_type": "display_data"
    },
    {
     "data": {
      "text/html": [
       "<table class=\"data-frame\"><thead><tr><th></th><th>objective</th><th>bus</th><th>gp</th><th>gq</th><th>voltage</th><th>alpha</th><th>lambda</th><th>pi</th><th>gamma</th><th>eta</th><th>delta_plus</th><th>delta_minus</th><th>mu_plus</th><th>mu_minus</th><th>voltvar</th><th>lambda_anc</th><th>rx_pi_i</th><th>rx_pi_a</th><th>r_sum_mu_d</th></tr><tr><th></th><th>Float64</th><th>Any</th><th>Any</th><th>Any</th><th>Any</th><th>Any</th><th>Any</th><th>Any</th><th>Float64</th><th>Any</th><th>Any</th><th>Any</th><th>Any</th><th>Any</th><th>Any</th><th>Any</th><th>Any</th><th>Any</th><th>Any</th></tr></thead><tbody><p>15 rows × 19 columns</p><tr><th>1</th><td>97.719</td><td>1</td><td>0.787837</td><td>0.543266</td><td>1.0</td><td>0.502155</td><td>-100.0</td><td>0.0</td><td>-14.0557</td><td>0</td><td>0</td><td>0</td><td>0</td><td>0</td><td>0</td><td>0</td><td>0</td><td>0</td><td>0</td></tr><tr><th>2</th><td>0.0</td><td>2</td><td>0</td><td>0</td><td>0.95</td><td>0</td><td>-100.923</td><td>-110.735</td><td>0.0</td><td>0</td><td>0</td><td>0</td><td>-6.22946e-6</td><td>-605.292</td><td>0</td><td>-100.0</td><td>-0.922792</td><td>0.0</td><td>0.922792</td></tr><tr><th>3</th><td>0.0</td><td>3</td><td>0</td><td>0</td><td>0.980882</td><td>0</td><td>-75.5108</td><td>-74.4157</td><td>0.0</td><td>0</td><td>0</td><td>0</td><td>-8.69654e-6</td><td>-2.45659e-5</td><td>0</td><td>-100.923</td><td>-52.0674</td><td>-77.4795</td><td>-25.412</td></tr><tr><th>4</th><td>0.0</td><td>4</td><td>0</td><td>0</td><td>1.02742</td><td>0</td><td>-35.6803</td><td>-17.4905</td><td>0.0</td><td>0</td><td>0</td><td>0</td><td>-2.43829e-5</td><td>-9.02386e-6</td><td>0</td><td>-75.5108</td><td>-12.238</td><td>-52.0684</td><td>-39.8304</td></tr><tr><th>5</th><td>0.0</td><td>5</td><td>0</td><td>0</td><td>1.0318</td><td>0</td><td>-32.9263</td><td>-13.554</td><td>0.0</td><td>0</td><td>0</td><td>0</td><td>-3.01897e-5</td><td>-8.4906e-6</td><td>0</td><td>-35.6803</td><td>-9.48286</td><td>-12.2369</td><td>-2.75407</td></tr><tr><th>6</th><td>0.0</td><td>6</td><td>0</td><td>0</td><td>1.03618</td><td>0</td><td>-30.4029</td><td>-9.93482</td><td>0.0</td><td>0</td><td>0</td><td>0</td><td>-4.04363e-5</td><td>-8.01029e-6</td><td>0</td><td>-32.9263</td><td>-6.92666</td><td>-9.45002</td><td>-2.52336</td></tr><tr><th>7</th><td>0.0</td><td>7</td><td>0.508279</td><td>-0.125555</td><td>1.05</td><td>0.249567</td><td>-23.4529</td><td>-2.65458e-6</td><td>0.0</td><td>0</td><td>-11.8748</td><td>-5.44797e-6</td><td>-72.0959</td><td>-6.77542e-6</td><td>0</td><td>-30.4029</td><td>-1.85705e-6</td><td>-6.95005</td><td>-6.95005</td></tr><tr><th>8</th><td>0.0</td><td>8</td><td>0</td><td>0</td><td>1.02254</td><td>0</td><td>-29.8358</td><td>-9.13295</td><td>0.0</td><td>0</td><td>0</td><td>0</td><td>-0.0</td><td>-9.83932e-6</td><td>0</td><td>-29.8358</td><td>-6.39429</td><td>-6.39429</td><td>1.02919e-6</td></tr><tr><th>9</th><td>0.0</td><td>9</td><td>0</td><td>0</td><td>1.0327</td><td>0</td><td>-29.8358</td><td>-9.13295</td><td>0.0</td><td>0</td><td>0</td><td>0</td><td>-3.00228e-5</td><td>-0.0</td><td>0</td><td>-35.6803</td><td>-6.38679</td><td>-12.2313</td><td>-5.84452</td></tr><tr><th>10</th><td>0.0</td><td>10</td><td>0</td><td>0</td><td>1.03623</td><td>0</td><td>-28.3998</td><td>-7.07947</td><td>0.0</td><td>0</td><td>0</td><td>0</td><td>-3.5746e-5</td><td>-7.97528e-6</td><td>0</td><td>-29.8358</td><td>-4.95068</td><td>-6.38668</td><td>-1.436</td></tr><tr><th>11</th><td>0.0</td><td>11</td><td>0</td><td>0</td><td>1.04568</td><td>0</td><td>-24.9391</td><td>-2.12528</td><td>0.0</td><td>0</td><td>0</td><td>0</td><td>-6.52018e-5</td><td>-7.07184e-6</td><td>0</td><td>-28.3998</td><td>-1.48461</td><td>-4.94537</td><td>-3.46076</td></tr><tr><th>12</th><td>0.0</td><td>12</td><td>0.509785</td><td>-0.0367112</td><td>1.05</td><td>0.248278</td><td>-23.46</td><td>-5.45898e-7</td><td>0.0</td><td>0</td><td>-11.8758</td><td>-6.50081e-6</td><td>-71.7999</td><td>-6.72631e-6</td><td>0</td><td>-24.9391</td><td>-3.79916e-7</td><td>-1.47908</td><td>-1.47908</td></tr><tr><th>13</th><td>0.0</td><td>13</td><td>0</td><td>0</td><td>0.982619</td><td>0</td><td>-100.0</td><td>0.0</td><td>0.0</td><td>0</td><td>0</td><td>0</td><td>-0.0</td><td>-0.0</td><td>0</td><td>-100.0</td><td>0.0</td><td>0.0</td><td>0.0</td></tr><tr><th>14</th><td>0.0</td><td>14</td><td>0</td><td>0</td><td>0.977795</td><td>0</td><td>-100.0</td><td>0.0</td><td>0.0</td><td>0</td><td>0</td><td>0</td><td>-0.0</td><td>-0.0</td><td>0</td><td>-100.0</td><td>0.0</td><td>0.0</td><td>0.0</td></tr><tr><th>15</th><td>0.0</td><td>15</td><td>0</td><td>0</td><td>0.975027</td><td>0</td><td>-100.0</td><td>0.0</td><td>0.0</td><td>0</td><td>0</td><td>0</td><td>-0.0</td><td>-0.0</td><td>0</td><td>-100.0</td><td>0.0</td><td>0.0</td><td>0.0</td></tr></tbody></table>"
      ],
      "text/latex": [
       "\\begin{tabular}{r|ccccccccccccccccccc}\n",
       "\t& objective & bus & gp & gq & voltage & alpha & lambda & pi & gamma & eta & delta\\_plus & delta\\_minus & mu\\_plus & mu\\_minus & voltvar & lambda\\_anc & rx\\_pi\\_i & rx\\_pi\\_a & r\\_sum\\_mu\\_d\\\\\n",
       "\t\\hline\n",
       "\t& Float64 & Any & Any & Any & Any & Any & Any & Any & Float64 & Any & Any & Any & Any & Any & Any & Any & Any & Any & Any\\\\\n",
       "\t\\hline\n",
       "\t1 & 97.719 & 1 & 0.787837 & 0.543266 & 1.0 & 0.502155 & -100.0 & 0.0 & -14.0557 & 0 & 0 & 0 & 0 & 0 & 0 & 0 & 0 & 0 & 0 \\\\\n",
       "\t2 & 0.0 & 2 & 0 & 0 & 0.95 & 0 & -100.923 & -110.735 & 0.0 & 0 & 0 & 0 & -6.22946e-6 & -605.292 & 0 & -100.0 & -0.922792 & 0.0 & 0.922792 \\\\\n",
       "\t3 & 0.0 & 3 & 0 & 0 & 0.980882 & 0 & -75.5108 & -74.4157 & 0.0 & 0 & 0 & 0 & -8.69654e-6 & -2.45659e-5 & 0 & -100.923 & -52.0674 & -77.4795 & -25.412 \\\\\n",
       "\t4 & 0.0 & 4 & 0 & 0 & 1.02742 & 0 & -35.6803 & -17.4905 & 0.0 & 0 & 0 & 0 & -2.43829e-5 & -9.02386e-6 & 0 & -75.5108 & -12.238 & -52.0684 & -39.8304 \\\\\n",
       "\t5 & 0.0 & 5 & 0 & 0 & 1.0318 & 0 & -32.9263 & -13.554 & 0.0 & 0 & 0 & 0 & -3.01897e-5 & -8.4906e-6 & 0 & -35.6803 & -9.48286 & -12.2369 & -2.75407 \\\\\n",
       "\t6 & 0.0 & 6 & 0 & 0 & 1.03618 & 0 & -30.4029 & -9.93482 & 0.0 & 0 & 0 & 0 & -4.04363e-5 & -8.01029e-6 & 0 & -32.9263 & -6.92666 & -9.45002 & -2.52336 \\\\\n",
       "\t7 & 0.0 & 7 & 0.508279 & -0.125555 & 1.05 & 0.249567 & -23.4529 & -2.65458e-6 & 0.0 & 0 & -11.8748 & -5.44797e-6 & -72.0959 & -6.77542e-6 & 0 & -30.4029 & -1.85705e-6 & -6.95005 & -6.95005 \\\\\n",
       "\t8 & 0.0 & 8 & 0 & 0 & 1.02254 & 0 & -29.8358 & -9.13295 & 0.0 & 0 & 0 & 0 & -0.0 & -9.83932e-6 & 0 & -29.8358 & -6.39429 & -6.39429 & 1.02919e-6 \\\\\n",
       "\t9 & 0.0 & 9 & 0 & 0 & 1.0327 & 0 & -29.8358 & -9.13295 & 0.0 & 0 & 0 & 0 & -3.00228e-5 & -0.0 & 0 & -35.6803 & -6.38679 & -12.2313 & -5.84452 \\\\\n",
       "\t10 & 0.0 & 10 & 0 & 0 & 1.03623 & 0 & -28.3998 & -7.07947 & 0.0 & 0 & 0 & 0 & -3.5746e-5 & -7.97528e-6 & 0 & -29.8358 & -4.95068 & -6.38668 & -1.436 \\\\\n",
       "\t11 & 0.0 & 11 & 0 & 0 & 1.04568 & 0 & -24.9391 & -2.12528 & 0.0 & 0 & 0 & 0 & -6.52018e-5 & -7.07184e-6 & 0 & -28.3998 & -1.48461 & -4.94537 & -3.46076 \\\\\n",
       "\t12 & 0.0 & 12 & 0.509785 & -0.0367112 & 1.05 & 0.248278 & -23.46 & -5.45898e-7 & 0.0 & 0 & -11.8758 & -6.50081e-6 & -71.7999 & -6.72631e-6 & 0 & -24.9391 & -3.79916e-7 & -1.47908 & -1.47908 \\\\\n",
       "\t13 & 0.0 & 13 & 0 & 0 & 0.982619 & 0 & -100.0 & 0.0 & 0.0 & 0 & 0 & 0 & -0.0 & -0.0 & 0 & -100.0 & 0.0 & 0.0 & 0.0 \\\\\n",
       "\t14 & 0.0 & 14 & 0 & 0 & 0.977795 & 0 & -100.0 & 0.0 & 0.0 & 0 & 0 & 0 & -0.0 & -0.0 & 0 & -100.0 & 0.0 & 0.0 & 0.0 \\\\\n",
       "\t15 & 0.0 & 15 & 0 & 0 & 0.975027 & 0 & -100.0 & 0.0 & 0.0 & 0 & 0 & 0 & -0.0 & -0.0 & 0 & -100.0 & 0.0 & 0.0 & 0.0 \\\\\n",
       "\\end{tabular}\n"
      ],
      "text/plain": [
       "15×19 DataFrame. Omitted printing of 13 columns\n",
       "│ Row │ objective │ bus │ gp       │ gq         │ voltage  │ alpha    │\n",
       "│     │ \u001b[90mFloat64\u001b[39m   │ \u001b[90mAny\u001b[39m │ \u001b[90mAny\u001b[39m      │ \u001b[90mAny\u001b[39m        │ \u001b[90mAny\u001b[39m      │ \u001b[90mAny\u001b[39m      │\n",
       "├─────┼───────────┼─────┼──────────┼────────────┼──────────┼──────────┤\n",
       "│ 1   │ 97.719    │ 1   │ 0.787837 │ 0.543266   │ 1.0      │ 0.502155 │\n",
       "│ 2   │ 0.0       │ 2   │ 0        │ 0          │ 0.95     │ 0        │\n",
       "│ 3   │ 0.0       │ 3   │ 0        │ 0          │ 0.980882 │ 0        │\n",
       "│ 4   │ 0.0       │ 4   │ 0        │ 0          │ 1.02742  │ 0        │\n",
       "│ 5   │ 0.0       │ 5   │ 0        │ 0          │ 1.0318   │ 0        │\n",
       "│ 6   │ 0.0       │ 6   │ 0        │ 0          │ 1.03618  │ 0        │\n",
       "│ 7   │ 0.0       │ 7   │ 0.508279 │ -0.125555  │ 1.05     │ 0.249567 │\n",
       "│ 8   │ 0.0       │ 8   │ 0        │ 0          │ 1.02254  │ 0        │\n",
       "│ 9   │ 0.0       │ 9   │ 0        │ 0          │ 1.0327   │ 0        │\n",
       "│ 10  │ 0.0       │ 10  │ 0        │ 0          │ 1.03623  │ 0        │\n",
       "│ 11  │ 0.0       │ 11  │ 0        │ 0          │ 1.04568  │ 0        │\n",
       "│ 12  │ 0.0       │ 12  │ 0.509785 │ -0.0367112 │ 1.05     │ 0.248278 │\n",
       "│ 13  │ 0.0       │ 13  │ 0        │ 0          │ 0.982619 │ 0        │\n",
       "│ 14  │ 0.0       │ 14  │ 0        │ 0          │ 0.977795 │ 0        │\n",
       "│ 15  │ 0.0       │ 15  │ 0        │ 0          │ 0.975027 │ 0        │"
      ]
     },
     "metadata": {},
     "output_type": "display_data"
    },
    {
     "data": {
      "text/html": [
       "<table class=\"data-frame\"><thead><tr><th></th><th>objective</th><th>bus</th><th>gp</th><th>gq</th><th>voltage</th><th>alpha</th><th>lambda</th><th>pi</th><th>gamma</th><th>eta</th><th>delta_plus</th><th>delta_minus</th><th>mu_plus</th><th>mu_minus</th><th>voltvar</th><th>lambda_anc</th><th>rx_pi_i</th><th>rx_pi_a</th><th>r_sum_mu_d</th></tr><tr><th></th><th>Float64</th><th>Any</th><th>Any</th><th>Any</th><th>Any</th><th>Any</th><th>Any</th><th>Any</th><th>Float64</th><th>Any</th><th>Any</th><th>Any</th><th>Any</th><th>Any</th><th>Any</th><th>Any</th><th>Any</th><th>Any</th><th>Any</th></tr></thead><tbody><p>15 rows × 19 columns</p><tr><th>1</th><td>89.9317</td><td>1</td><td>0.787837</td><td>0.543266</td><td>1.0</td><td>0</td><td>-100.0</td><td>0.0</td><td>0.0</td><td>0</td><td>0</td><td>0</td><td>0</td><td>0</td><td>0</td><td>0</td><td>0</td><td>0</td><td>0</td></tr><tr><th>2</th><td>0.0</td><td>2</td><td>0</td><td>0</td><td>0.95</td><td>0</td><td>-101.074</td><td>-128.828</td><td>0.0</td><td>0</td><td>0</td><td>0</td><td>-2.34877e-6</td><td>-704.189</td><td>0</td><td>-100.0</td><td>-1.07356</td><td>0.0</td><td>1.07356</td></tr><tr><th>3</th><td>0.0</td><td>3</td><td>0</td><td>0</td><td>0.980882</td><td>0</td><td>-71.5095</td><td>-86.5743</td><td>0.0</td><td>0</td><td>0</td><td>0</td><td>-3.29177e-6</td><td>-1.09804e-5</td><td>0</td><td>-101.074</td><td>-60.5746</td><td>-90.1386</td><td>-29.564</td></tr><tr><th>4</th><td>0.0</td><td>4</td><td>0</td><td>0</td><td>1.02742</td><td>0</td><td>-25.1714</td><td>-20.3482</td><td>0.0</td><td>0</td><td>0</td><td>0</td><td>-9.08044e-6</td><td>-3.7435e-6</td><td>0</td><td>-71.5095</td><td>-14.2376</td><td>-60.5757</td><td>-46.3382</td></tr><tr><th>5</th><td>0.0</td><td>5</td><td>0</td><td>0</td><td>1.0318</td><td>0</td><td>-21.9673</td><td>-15.7686</td><td>0.0</td><td>0</td><td>0</td><td>0</td><td>-1.11327e-5</td><td>-3.49286e-6</td><td>0</td><td>-25.1714</td><td>-11.0322</td><td>-14.2363</td><td>-3.20404</td></tr><tr><th>6</th><td>0.0</td><td>6</td><td>0</td><td>0</td><td>1.03618</td><td>0</td><td>-19.0317</td><td>-11.558</td><td>0.0</td><td>0</td><td>0</td><td>0</td><td>-1.45833e-5</td><td>-3.27079e-6</td><td>0</td><td>-21.9673</td><td>-8.05839</td><td>-10.994</td><td>-2.93564</td></tr><tr><th>7</th><td>0.0</td><td>7</td><td>0.507154</td><td>-0.124769</td><td>1.05</td><td>0</td><td>-10.9461</td><td>-5.80027e-7</td><td>0.0</td><td>0</td><td>-1.88969e-6</td><td>-9.27997e-7</td><td>-83.8755</td><td>-2.71542e-6</td><td>0</td><td>-19.0317</td><td>-4.05766e-7</td><td>-8.0856</td><td>-8.0856</td></tr><tr><th>8</th><td>0.0</td><td>8</td><td>0</td><td>0</td><td>1.02254</td><td>0</td><td>-18.3719</td><td>-10.6252</td><td>0.0</td><td>0</td><td>0</td><td>0</td><td>-0.0</td><td>-4.13976e-6</td><td>0</td><td>-18.3719</td><td>-7.43904</td><td>-7.43904</td><td>4.33019e-7</td></tr><tr><th>9</th><td>0.0</td><td>9</td><td>0</td><td>0</td><td>1.0327</td><td>0</td><td>-18.3719</td><td>-10.6252</td><td>0.0</td><td>0</td><td>0</td><td>0</td><td>-1.08137e-5</td><td>-0.0</td><td>0</td><td>-25.1714</td><td>-7.43031</td><td>-14.2298</td><td>-6.79944</td></tr><tr><th>10</th><td>0.0</td><td>10</td><td>0</td><td>0</td><td>1.03623</td><td>0</td><td>-16.7013</td><td>-8.23617</td><td>0.0</td><td>0</td><td>0</td><td>0</td><td>-1.24389e-5</td><td>-0.0</td><td>0</td><td>-18.3719</td><td>-5.75956</td><td>-7.43018</td><td>-1.67062</td></tr><tr><th>11</th><td>0.0</td><td>11</td><td>0</td><td>0</td><td>1.04568</td><td>0</td><td>-12.6751</td><td>-2.47252</td><td>0.0</td><td>0</td><td>0</td><td>0</td><td>-1.57585e-5</td><td>-2.88536e-6</td><td>0</td><td>-16.7013</td><td>-1.72718</td><td>-5.75338</td><td>-4.0262</td></tr><tr><th>12</th><td>0.0</td><td>12</td><td>0.510909</td><td>-0.0374967</td><td>1.05</td><td>0</td><td>-10.9544</td><td>-5.31299e-7</td><td>0.0</td><td>0</td><td>-2.62772e-6</td><td>-7.96387e-7</td><td>-83.5312</td><td>-2.72999e-6</td><td>0</td><td>-12.6751</td><td>-3.69755e-7</td><td>-1.72074</td><td>-1.72074</td></tr><tr><th>13</th><td>0.0</td><td>13</td><td>0</td><td>0</td><td>0.982619</td><td>0</td><td>-100.0</td><td>0.0</td><td>0.0</td><td>0</td><td>0</td><td>0</td><td>-0.0</td><td>-0.0</td><td>0</td><td>-100.0</td><td>0.0</td><td>0.0</td><td>0.0</td></tr><tr><th>14</th><td>0.0</td><td>14</td><td>0</td><td>0</td><td>0.977795</td><td>0</td><td>-100.0</td><td>0.0</td><td>0.0</td><td>0</td><td>0</td><td>0</td><td>-0.0</td><td>-0.0</td><td>0</td><td>-100.0</td><td>0.0</td><td>0.0</td><td>0.0</td></tr><tr><th>15</th><td>0.0</td><td>15</td><td>0</td><td>0</td><td>0.975027</td><td>0</td><td>-100.0</td><td>0.0</td><td>0.0</td><td>0</td><td>0</td><td>0</td><td>-0.0</td><td>-0.0</td><td>0</td><td>-100.0</td><td>0.0</td><td>0.0</td><td>0.0</td></tr></tbody></table>"
      ],
      "text/latex": [
       "\\begin{tabular}{r|ccccccccccccccccccc}\n",
       "\t& objective & bus & gp & gq & voltage & alpha & lambda & pi & gamma & eta & delta\\_plus & delta\\_minus & mu\\_plus & mu\\_minus & voltvar & lambda\\_anc & rx\\_pi\\_i & rx\\_pi\\_a & r\\_sum\\_mu\\_d\\\\\n",
       "\t\\hline\n",
       "\t& Float64 & Any & Any & Any & Any & Any & Any & Any & Float64 & Any & Any & Any & Any & Any & Any & Any & Any & Any & Any\\\\\n",
       "\t\\hline\n",
       "\t1 & 89.9317 & 1 & 0.787837 & 0.543266 & 1.0 & 0 & -100.0 & 0.0 & 0.0 & 0 & 0 & 0 & 0 & 0 & 0 & 0 & 0 & 0 & 0 \\\\\n",
       "\t2 & 0.0 & 2 & 0 & 0 & 0.95 & 0 & -101.074 & -128.828 & 0.0 & 0 & 0 & 0 & -2.34877e-6 & -704.189 & 0 & -100.0 & -1.07356 & 0.0 & 1.07356 \\\\\n",
       "\t3 & 0.0 & 3 & 0 & 0 & 0.980882 & 0 & -71.5095 & -86.5743 & 0.0 & 0 & 0 & 0 & -3.29177e-6 & -1.09804e-5 & 0 & -101.074 & -60.5746 & -90.1386 & -29.564 \\\\\n",
       "\t4 & 0.0 & 4 & 0 & 0 & 1.02742 & 0 & -25.1714 & -20.3482 & 0.0 & 0 & 0 & 0 & -9.08044e-6 & -3.7435e-6 & 0 & -71.5095 & -14.2376 & -60.5757 & -46.3382 \\\\\n",
       "\t5 & 0.0 & 5 & 0 & 0 & 1.0318 & 0 & -21.9673 & -15.7686 & 0.0 & 0 & 0 & 0 & -1.11327e-5 & -3.49286e-6 & 0 & -25.1714 & -11.0322 & -14.2363 & -3.20404 \\\\\n",
       "\t6 & 0.0 & 6 & 0 & 0 & 1.03618 & 0 & -19.0317 & -11.558 & 0.0 & 0 & 0 & 0 & -1.45833e-5 & -3.27079e-6 & 0 & -21.9673 & -8.05839 & -10.994 & -2.93564 \\\\\n",
       "\t7 & 0.0 & 7 & 0.507154 & -0.124769 & 1.05 & 0 & -10.9461 & -5.80027e-7 & 0.0 & 0 & -1.88969e-6 & -9.27997e-7 & -83.8755 & -2.71542e-6 & 0 & -19.0317 & -4.05766e-7 & -8.0856 & -8.0856 \\\\\n",
       "\t8 & 0.0 & 8 & 0 & 0 & 1.02254 & 0 & -18.3719 & -10.6252 & 0.0 & 0 & 0 & 0 & -0.0 & -4.13976e-6 & 0 & -18.3719 & -7.43904 & -7.43904 & 4.33019e-7 \\\\\n",
       "\t9 & 0.0 & 9 & 0 & 0 & 1.0327 & 0 & -18.3719 & -10.6252 & 0.0 & 0 & 0 & 0 & -1.08137e-5 & -0.0 & 0 & -25.1714 & -7.43031 & -14.2298 & -6.79944 \\\\\n",
       "\t10 & 0.0 & 10 & 0 & 0 & 1.03623 & 0 & -16.7013 & -8.23617 & 0.0 & 0 & 0 & 0 & -1.24389e-5 & -0.0 & 0 & -18.3719 & -5.75956 & -7.43018 & -1.67062 \\\\\n",
       "\t11 & 0.0 & 11 & 0 & 0 & 1.04568 & 0 & -12.6751 & -2.47252 & 0.0 & 0 & 0 & 0 & -1.57585e-5 & -2.88536e-6 & 0 & -16.7013 & -1.72718 & -5.75338 & -4.0262 \\\\\n",
       "\t12 & 0.0 & 12 & 0.510909 & -0.0374967 & 1.05 & 0 & -10.9544 & -5.31299e-7 & 0.0 & 0 & -2.62772e-6 & -7.96387e-7 & -83.5312 & -2.72999e-6 & 0 & -12.6751 & -3.69755e-7 & -1.72074 & -1.72074 \\\\\n",
       "\t13 & 0.0 & 13 & 0 & 0 & 0.982619 & 0 & -100.0 & 0.0 & 0.0 & 0 & 0 & 0 & -0.0 & -0.0 & 0 & -100.0 & 0.0 & 0.0 & 0.0 \\\\\n",
       "\t14 & 0.0 & 14 & 0 & 0 & 0.977795 & 0 & -100.0 & 0.0 & 0.0 & 0 & 0 & 0 & -0.0 & -0.0 & 0 & -100.0 & 0.0 & 0.0 & 0.0 \\\\\n",
       "\t15 & 0.0 & 15 & 0 & 0 & 0.975027 & 0 & -100.0 & 0.0 & 0.0 & 0 & 0 & 0 & -0.0 & -0.0 & 0 & -100.0 & 0.0 & 0.0 & 0.0 \\\\\n",
       "\\end{tabular}\n"
      ],
      "text/plain": [
       "15×19 DataFrame. Omitted printing of 12 columns\n",
       "│ Row │ objective │ bus │ gp       │ gq         │ voltage  │ alpha │ lambda   │\n",
       "│     │ \u001b[90mFloat64\u001b[39m   │ \u001b[90mAny\u001b[39m │ \u001b[90mAny\u001b[39m      │ \u001b[90mAny\u001b[39m        │ \u001b[90mAny\u001b[39m      │ \u001b[90mAny\u001b[39m   │ \u001b[90mAny\u001b[39m      │\n",
       "├─────┼───────────┼─────┼──────────┼────────────┼──────────┼───────┼──────────┤\n",
       "│ 1   │ 89.9317   │ 1   │ 0.787837 │ 0.543266   │ 1.0      │ 0     │ -100.0   │\n",
       "│ 2   │ 0.0       │ 2   │ 0        │ 0          │ 0.95     │ 0     │ -101.074 │\n",
       "│ 3   │ 0.0       │ 3   │ 0        │ 0          │ 0.980882 │ 0     │ -71.5095 │\n",
       "│ 4   │ 0.0       │ 4   │ 0        │ 0          │ 1.02742  │ 0     │ -25.1714 │\n",
       "│ 5   │ 0.0       │ 5   │ 0        │ 0          │ 1.0318   │ 0     │ -21.9673 │\n",
       "│ 6   │ 0.0       │ 6   │ 0        │ 0          │ 1.03618  │ 0     │ -19.0317 │\n",
       "│ 7   │ 0.0       │ 7   │ 0.507154 │ -0.124769  │ 1.05     │ 0     │ -10.9461 │\n",
       "│ 8   │ 0.0       │ 8   │ 0        │ 0          │ 1.02254  │ 0     │ -18.3719 │\n",
       "│ 9   │ 0.0       │ 9   │ 0        │ 0          │ 1.0327   │ 0     │ -18.3719 │\n",
       "│ 10  │ 0.0       │ 10  │ 0        │ 0          │ 1.03623  │ 0     │ -16.7013 │\n",
       "│ 11  │ 0.0       │ 11  │ 0        │ 0          │ 1.04568  │ 0     │ -12.6751 │\n",
       "│ 12  │ 0.0       │ 12  │ 0.510909 │ -0.0374967 │ 1.05     │ 0     │ -10.9544 │\n",
       "│ 13  │ 0.0       │ 13  │ 0        │ 0          │ 0.982619 │ 0     │ -100.0   │\n",
       "│ 14  │ 0.0       │ 14  │ 0        │ 0          │ 0.977795 │ 0     │ -100.0   │\n",
       "│ 15  │ 0.0       │ 15  │ 0        │ 0          │ 0.975027 │ 0     │ -100.0   │"
      ]
     },
     "metadata": {},
     "output_type": "display_data"
    }
   ],
   "source": [
    "experiment1 = Dict()\n",
    "\n",
    "# Load feeder data \n",
    "feeder = load_feeder(\"data/feeder_data/basecase_lv_noneg/\")\n",
    "\n",
    "# Set up\n",
    "relative_std = 0.2\n",
    "loads = [b.d_P for b in feeder.buses]\n",
    "std_vec = loads .* relative_std\n",
    "var_vec = std_vec.^2\n",
    "Σ = diagm(0 => var_vec)\n",
    "\n",
    "# ex1_general_settings\n",
    "ex1_general_settings = Dict(\n",
    "    \"var_vec\" => var_vec,\n",
    "    \"Σ\" => Σ,\n",
    "    \"z_g\" => 1.945,\n",
    "    \"z_v\" => 2.576,\n",
    "    \"toggle_volt_cc\" => false,\n",
    "    \"toggle_gen_cc\" => false,\n",
    "    \"vfac\" => 0, # decrease upper bound by factor (1-vfac) and increase lower bound by (1+vfac)\n",
    "    \"qcfac\" => 1,\n",
    "    \"output_level\" => 0,\n",
    "    \"Ψ\" => 0,\n",
    ")\n",
    "\n",
    "\n",
    "# ex1_no_uncert:\n",
    "ex1_no_uncert_settings = copy(ex1_general_settings)\n",
    "ex1_no_uncert_settings[\"toggle_volt_cc\"] = false\n",
    "ex1_no_uncert_settings[\"toggle_gen_cc\"] = false\n",
    "\n",
    "experiment1[\"no_uncert\"] = Dict(\n",
    "    \"verbose\" => \"ex1_no_uncert\",\n",
    "    \"feeder\" => feeder,\n",
    "    \"settings\" => ex1_no_uncert_settings,\n",
    ")\n",
    "\n",
    "# ex1_uncert:\n",
    "ex1_uncert_settings = copy(ex1_general_settings)\n",
    "ex1_uncert_settings[\"toggle_volt_cc\"] = true\n",
    "ex1_uncert_settings[\"toggle_gen_cc\"] = true\n",
    "experiment1[\"uncert\"] = Dict(\n",
    "    \"verbose\" => \"ex1_uncert\",\n",
    "    \"feeder\" => feeder,\n",
    "    \"settings\" => ex1_uncert_settings,\n",
    ")\n",
    "\n",
    "# ex1_gen_uncert:\n",
    "ex1_uncert_settings = copy(ex1_general_settings)\n",
    "ex1_uncert_settings[\"toggle_volt_cc\"] = false\n",
    "ex1_uncert_settings[\"toggle_gen_cc\"] = true\n",
    "experiment1[\"gen_uncert\"] = Dict(\n",
    "    \"verbose\" => \"ex1_gen_uncert\",\n",
    "    \"feeder\" => feeder,\n",
    "    \"settings\" => ex1_uncert_settings,\n",
    ")\n",
    "\n",
    "# Run \n",
    "experiment1 = run_experiment(experiment1)\n",
    "\n",
    "# Show results\n",
    "sleep(.2) # just to ensure correct printing order\n",
    "for case in keys(experiment1)\n",
    "    display(experiment1[case][\"results\"])\n",
    "end"
   ]
  },
  {
   "cell_type": "code",
   "execution_count": 146,
   "metadata": {},
   "outputs": [
    {
     "name": "stdout",
     "output_type": "stream",
     "text": [
      "Saving ex1_uncert\n",
      "Saving ex1_gen_uncert\n",
      "Saving ex1_no_uncert\n",
      ">>>> Saved with timestamp 190319_1402\n"
     ]
    }
   ],
   "source": [
    "save_experiment(\"experiment1\", experiment1)"
   ]
  },
  {
   "cell_type": "markdown",
   "metadata": {},
   "source": [
    "## Experiment 2\n",
    "\n",
    "Same as Experiment1 but with wider voltage constraints\n",
    "\n",
    "### Description\n",
    "\n",
    "Ex1:\n",
    "- tag: `experiment2` \n",
    "- bascase voltage (0.9-1.1) and `vfac = 0.015`\n",
    "- all nodes have 20% standard deviation of their forecasted load\n",
    "\n",
    "Runs:\n",
    "- `ex2_no_uncert`: deterministic case\n",
    "- `ex2_uncert`: case with uncertainty\n",
    "- `ex2_gen_uncert`: chance constraints only in generation\n",
    "\n",
    "\n",
    "### Notes and Observations\n",
    "\n",
    "- Without uncertainty the network is \"uncongested\" so that price for active power is the same at all nodes\n",
    "- With uncertainty, some voltage constraints become binding and there are differences in the prices"
   ]
  },
  {
   "cell_type": "code",
   "execution_count": 182,
   "metadata": {},
   "outputs": [
    {
     "name": "stdout",
     "output_type": "stream",
     "text": [
      ">>>>> Reading feeder data from data/feeder_data/basecase_noneg/\n",
      "Running ex2_uncert\n",
      ">>>> Building Model\n",
      ">>>> Running Model\n",
      "MOSEK warning 705: #3 (nearly) zero elements are specified in sparse row ''(87) of matrix 'A'.\n",
      "MOSEK warning 705: #4 (nearly) zero elements are specified in sparse row ''(93) of matrix 'A'.\n",
      ">>>> Model finished with status OPTIMAL in 0.00858105 seconds\n",
      ">>>> Post-Processing\n",
      "\n",
      "Running ex2_gen_uncert\n",
      ">>>> Building Model\n",
      ">>>> Running Model\n",
      ">>>> Model finished with status OPTIMAL in 0.002896051 seconds\n",
      ">>>> Post-Processing\n",
      "\n",
      "Running ex2_no_uncert\n",
      ">>>> Building Model\n",
      ">>>> Running Model\n",
      ">>>> Model finished with status OPTIMAL in 0.003059561 seconds\n",
      ">>>> Post-Processing\n",
      "\n",
      ">>> Case uncert"
     ]
    },
    {
     "data": {
      "text/html": [
       "<table class=\"data-frame\"><thead><tr><th></th><th>objective</th><th>bus</th><th>gp</th><th>gq</th><th>voltage</th><th>alpha</th><th>lambda</th><th>pi</th><th>gamma</th><th>eta</th><th>delta_plus</th><th>delta_minus</th><th>mu_plus</th><th>mu_minus</th><th>voltvar</th><th>lambda_anc</th><th>rx_pi_i</th><th>rx_pi_a</th><th>r_sum_mu_d</th></tr><tr><th></th><th>Float64</th><th>Any</th><th>Any</th><th>Any</th><th>Any</th><th>Any</th><th>Any</th><th>Any</th><th>Float64</th><th>Any</th><th>Any</th><th>Any</th><th>Any</th><th>Any</th><th>Any</th><th>Any</th><th>Any</th><th>Any</th><th>Any</th></tr></thead><tbody><p>15 rows × 19 columns</p><tr><th>1</th><td>71.4711</td><td>1</td><td>0.217771</td><td>0.829511</td><td>1.0</td><td>0.989845</td><td>-100.0</td><td>-1.72762e-10</td><td>-31.8996</td><td>0</td><td>0</td><td>0</td><td>0</td><td>0</td><td>0</td><td>0</td><td>0</td><td>0</td><td>0</td></tr><tr><th>2</th><td>0.0</td><td>2</td><td>0</td><td>0</td><td>0.913751</td><td>0</td><td>-100.698</td><td>-83.7293</td><td>0.0</td><td>-0.276813</td><td>0</td><td>0</td><td>-6.22735e-6</td><td>-457.675</td><td>0.000124456</td><td>-100.0</td><td>-0.697744</td><td>-1.43968e-12</td><td>0.697744</td></tr><tr><th>3</th><td>0.0</td><td>3</td><td>0</td><td>0</td><td>0.960727</td><td>0</td><td>-81.4831</td><td>-56.2674</td><td>0.0</td><td>-1.18526</td><td>0</td><td>0</td><td>-1.0825e-5</td><td>-6.65475e-5</td><td>0.0111429</td><td>-100.698</td><td>-39.3694</td><td>-58.584</td><td>-19.2146</td></tr><tr><th>4</th><td>0.0</td><td>4</td><td>0</td><td>0</td><td>1.03006</td><td>0</td><td>-51.3664</td><td>-13.2249</td><td>0.0</td><td>-3.4769</td><td>0</td><td>0</td><td>-5.81807e-5</td><td>-1.41858e-5</td><td>0.0149953</td><td>-81.4831</td><td>-9.25343</td><td>-39.3701</td><td>-30.1167</td></tr><tr><th>5</th><td>0.0</td><td>5</td><td>0</td><td>0</td><td>1.03634</td><td>0</td><td>-49.284</td><td>-10.2485</td><td>0.0</td><td>-3.63498</td><td>0</td><td>0</td><td>-7.20495e-5</td><td>-1.26477e-5</td><td>0.0137966</td><td>-51.3664</td><td>-7.17019</td><td>-9.2526</td><td>-2.08241</td></tr><tr><th>6</th><td>0.0</td><td>6</td><td>0</td><td>0</td><td>1.04243</td><td>0</td><td>-47.376</td><td>-7.51192</td><td>0.0</td><td>-3.77981</td><td>0</td><td>0</td><td>-9.32644e-5</td><td>-1.14022e-5</td><td>0.0126033</td><td>-49.284</td><td>-5.23739</td><td>-7.14536</td><td>-1.90797</td></tr><tr><th>7</th><td>0.0</td><td>7</td><td>0.78813</td><td>-0.248736</td><td>1.0609</td><td>0.0101549</td><td>-42.121</td><td>-1.07355e-5</td><td>0.0</td><td>-4.17873</td><td>-30.5516</td><td>-2.7301e-6</td><td>-54.5133</td><td>-8.74368e-6</td><td>0.00935541</td><td>-47.376</td><td>-7.5102e-6</td><td>-5.25507</td><td>-5.25508</td></tr><tr><th>8</th><td>0.0</td><td>8</td><td>0</td><td>0</td><td>1.02745</td><td>0</td><td>-46.9472</td><td>-6.9056</td><td>0.0</td><td>-3.81396</td><td>0</td><td>0</td><td>-6.75175e-5</td><td>-1.56691e-5</td><td>0.016765</td><td>-46.9472</td><td>-4.83484</td><td>-4.83485</td><td>-5.42334e-6</td></tr><tr><th>9</th><td>0.0</td><td>9</td><td>0</td><td>0</td><td>1.03756</td><td>0</td><td>-46.9472</td><td>-6.9056</td><td>0.0</td><td>-3.81396</td><td>0</td><td>0</td><td>-8.76684e-5</td><td>-1.2533e-5</td><td>0.0141071</td><td>-51.3664</td><td>-4.82918</td><td>-9.24835</td><td>-4.41918</td></tr><tr><th>10</th><td>0.0</td><td>10</td><td>0</td><td>0</td><td>1.04162</td><td>0</td><td>-45.8614</td><td>-5.35292</td><td>0.0</td><td>-3.89678</td><td>0</td><td>0</td><td>-0.000108834</td><td>-1.16949e-5</td><td>0.0133881</td><td>-46.9472</td><td>-3.7433</td><td>-4.82909</td><td>-1.08579</td></tr><tr><th>11</th><td>0.0</td><td>11</td><td>0</td><td>0</td><td>1.05233</td><td>0</td><td>-43.2447</td><td>-1.60695</td><td>0.0</td><td>-4.09637</td><td>0</td><td>0</td><td>-0.000325589</td><td>-9.94847e-6</td><td>0.0115898</td><td>-45.8614</td><td>-1.12254</td><td>-3.73929</td><td>-2.61675</td></tr><tr><th>12</th><td>0.0</td><td>12</td><td>0.799999</td><td>-0.199775</td><td>1.05716</td><td>4.16587e-7</td><td>-42.1263</td><td>-7.29636e-6</td><td>0.0</td><td>-4.18167</td><td>-30.5335</td><td>-2.50672e-6</td><td>-54.2891</td><td>-9.33131e-6</td><td>0.0108901</td><td>-43.2447</td><td>-5.07787e-6</td><td>-1.11835</td><td>-1.11836</td></tr><tr><th>13</th><td>0.0</td><td>13</td><td>0</td><td>0</td><td>0.982619</td><td>0</td><td>-100.0</td><td>-3.68772e-5</td><td>0.0</td><td>-4.58333e-10</td><td>0</td><td>0</td><td>0.0</td><td>-4.78996e-5</td><td>0.0168277</td><td>-100.0</td><td>-3.0731e-7</td><td>-1.43968e-12</td><td>3.07311e-7</td></tr><tr><th>14</th><td>0.0</td><td>14</td><td>0</td><td>0</td><td>0.977795</td><td>0</td><td>-100.0</td><td>-6.05453e-5</td><td>0.0</td><td>-5.44215e-8</td><td>0</td><td>0</td><td>0.0</td><td>-5.16479e-5</td><td>0.01562</td><td>-100.0</td><td>-8.43523e-5</td><td>-5.13776e-5</td><td>3.29747e-5</td></tr><tr><th>15</th><td>0.0</td><td>15</td><td>0</td><td>0</td><td>0.975027</td><td>0</td><td>-100.0</td><td>-6.79473e-5</td><td>0.0</td><td>-7.24985e-8</td><td>0</td><td>0</td><td>0.0</td><td>-5.4108e-5</td><td>0.014936</td><td>-100.0</td><td>-9.46693e-5</td><td>-8.43563e-5</td><td>1.0313e-5</td></tr></tbody></table>"
      ],
      "text/latex": [
       "\\begin{tabular}{r|ccccccccccccccccccc}\n",
       "\t& objective & bus & gp & gq & voltage & alpha & lambda & pi & gamma & eta & delta\\_plus & delta\\_minus & mu\\_plus & mu\\_minus & voltvar & lambda\\_anc & rx\\_pi\\_i & rx\\_pi\\_a & r\\_sum\\_mu\\_d\\\\\n",
       "\t\\hline\n",
       "\t& Float64 & Any & Any & Any & Any & Any & Any & Any & Float64 & Any & Any & Any & Any & Any & Any & Any & Any & Any & Any\\\\\n",
       "\t\\hline\n",
       "\t1 & 71.4711 & 1 & 0.217771 & 0.829511 & 1.0 & 0.989845 & -100.0 & -1.72762e-10 & -31.8996 & 0 & 0 & 0 & 0 & 0 & 0 & 0 & 0 & 0 & 0 \\\\\n",
       "\t2 & 0.0 & 2 & 0 & 0 & 0.913751 & 0 & -100.698 & -83.7293 & 0.0 & -0.276813 & 0 & 0 & -6.22735e-6 & -457.675 & 0.000124456 & -100.0 & -0.697744 & -1.43968e-12 & 0.697744 \\\\\n",
       "\t3 & 0.0 & 3 & 0 & 0 & 0.960727 & 0 & -81.4831 & -56.2674 & 0.0 & -1.18526 & 0 & 0 & -1.0825e-5 & -6.65475e-5 & 0.0111429 & -100.698 & -39.3694 & -58.584 & -19.2146 \\\\\n",
       "\t4 & 0.0 & 4 & 0 & 0 & 1.03006 & 0 & -51.3664 & -13.2249 & 0.0 & -3.4769 & 0 & 0 & -5.81807e-5 & -1.41858e-5 & 0.0149953 & -81.4831 & -9.25343 & -39.3701 & -30.1167 \\\\\n",
       "\t5 & 0.0 & 5 & 0 & 0 & 1.03634 & 0 & -49.284 & -10.2485 & 0.0 & -3.63498 & 0 & 0 & -7.20495e-5 & -1.26477e-5 & 0.0137966 & -51.3664 & -7.17019 & -9.2526 & -2.08241 \\\\\n",
       "\t6 & 0.0 & 6 & 0 & 0 & 1.04243 & 0 & -47.376 & -7.51192 & 0.0 & -3.77981 & 0 & 0 & -9.32644e-5 & -1.14022e-5 & 0.0126033 & -49.284 & -5.23739 & -7.14536 & -1.90797 \\\\\n",
       "\t7 & 0.0 & 7 & 0.78813 & -0.248736 & 1.0609 & 0.0101549 & -42.121 & -1.07355e-5 & 0.0 & -4.17873 & -30.5516 & -2.7301e-6 & -54.5133 & -8.74368e-6 & 0.00935541 & -47.376 & -7.5102e-6 & -5.25507 & -5.25508 \\\\\n",
       "\t8 & 0.0 & 8 & 0 & 0 & 1.02745 & 0 & -46.9472 & -6.9056 & 0.0 & -3.81396 & 0 & 0 & -6.75175e-5 & -1.56691e-5 & 0.016765 & -46.9472 & -4.83484 & -4.83485 & -5.42334e-6 \\\\\n",
       "\t9 & 0.0 & 9 & 0 & 0 & 1.03756 & 0 & -46.9472 & -6.9056 & 0.0 & -3.81396 & 0 & 0 & -8.76684e-5 & -1.2533e-5 & 0.0141071 & -51.3664 & -4.82918 & -9.24835 & -4.41918 \\\\\n",
       "\t10 & 0.0 & 10 & 0 & 0 & 1.04162 & 0 & -45.8614 & -5.35292 & 0.0 & -3.89678 & 0 & 0 & -0.000108834 & -1.16949e-5 & 0.0133881 & -46.9472 & -3.7433 & -4.82909 & -1.08579 \\\\\n",
       "\t11 & 0.0 & 11 & 0 & 0 & 1.05233 & 0 & -43.2447 & -1.60695 & 0.0 & -4.09637 & 0 & 0 & -0.000325589 & -9.94847e-6 & 0.0115898 & -45.8614 & -1.12254 & -3.73929 & -2.61675 \\\\\n",
       "\t12 & 0.0 & 12 & 0.799999 & -0.199775 & 1.05716 & 4.16587e-7 & -42.1263 & -7.29636e-6 & 0.0 & -4.18167 & -30.5335 & -2.50672e-6 & -54.2891 & -9.33131e-6 & 0.0108901 & -43.2447 & -5.07787e-6 & -1.11835 & -1.11836 \\\\\n",
       "\t13 & 0.0 & 13 & 0 & 0 & 0.982619 & 0 & -100.0 & -3.68772e-5 & 0.0 & -4.58333e-10 & 0 & 0 & 0.0 & -4.78996e-5 & 0.0168277 & -100.0 & -3.0731e-7 & -1.43968e-12 & 3.07311e-7 \\\\\n",
       "\t14 & 0.0 & 14 & 0 & 0 & 0.977795 & 0 & -100.0 & -6.05453e-5 & 0.0 & -5.44215e-8 & 0 & 0 & 0.0 & -5.16479e-5 & 0.01562 & -100.0 & -8.43523e-5 & -5.13776e-5 & 3.29747e-5 \\\\\n",
       "\t15 & 0.0 & 15 & 0 & 0 & 0.975027 & 0 & -100.0 & -6.79473e-5 & 0.0 & -7.24985e-8 & 0 & 0 & 0.0 & -5.4108e-5 & 0.014936 & -100.0 & -9.46693e-5 & -8.43563e-5 & 1.0313e-5 \\\\\n",
       "\\end{tabular}\n"
      ],
      "text/plain": [
       "15×19 DataFrame. Omitted printing of 13 columns\n",
       "│ Row │ objective │ bus │ gp       │ gq        │ voltage  │ alpha      │\n",
       "│     │ \u001b[90mFloat64\u001b[39m   │ \u001b[90mAny\u001b[39m │ \u001b[90mAny\u001b[39m      │ \u001b[90mAny\u001b[39m       │ \u001b[90mAny\u001b[39m      │ \u001b[90mAny\u001b[39m        │\n",
       "├─────┼───────────┼─────┼──────────┼───────────┼──────────┼────────────┤\n",
       "│ 1   │ 71.4711   │ 1   │ 0.217771 │ 0.829511  │ 1.0      │ 0.989845   │\n",
       "│ 2   │ 0.0       │ 2   │ 0        │ 0         │ 0.913751 │ 0          │\n",
       "│ 3   │ 0.0       │ 3   │ 0        │ 0         │ 0.960727 │ 0          │\n",
       "│ 4   │ 0.0       │ 4   │ 0        │ 0         │ 1.03006  │ 0          │\n",
       "│ 5   │ 0.0       │ 5   │ 0        │ 0         │ 1.03634  │ 0          │\n",
       "│ 6   │ 0.0       │ 6   │ 0        │ 0         │ 1.04243  │ 0          │\n",
       "│ 7   │ 0.0       │ 7   │ 0.78813  │ -0.248736 │ 1.0609   │ 0.0101549  │\n",
       "│ 8   │ 0.0       │ 8   │ 0        │ 0         │ 1.02745  │ 0          │\n",
       "│ 9   │ 0.0       │ 9   │ 0        │ 0         │ 1.03756  │ 0          │\n",
       "│ 10  │ 0.0       │ 10  │ 0        │ 0         │ 1.04162  │ 0          │\n",
       "│ 11  │ 0.0       │ 11  │ 0        │ 0         │ 1.05233  │ 0          │\n",
       "│ 12  │ 0.0       │ 12  │ 0.799999 │ -0.199775 │ 1.05716  │ 4.16587e-7 │\n",
       "│ 13  │ 0.0       │ 13  │ 0        │ 0         │ 0.982619 │ 0          │\n",
       "│ 14  │ 0.0       │ 14  │ 0        │ 0         │ 0.977795 │ 0          │\n",
       "│ 15  │ 0.0       │ 15  │ 0        │ 0         │ 0.975027 │ 0          │"
      ]
     },
     "metadata": {},
     "output_type": "display_data"
    },
    {
     "name": "stdout",
     "output_type": "stream",
     "text": [
      ">>> Case gen_uncert"
     ]
    },
    {
     "data": {
      "text/html": [
       "<table class=\"data-frame\"><thead><tr><th></th><th>objective</th><th>bus</th><th>gp</th><th>gq</th><th>voltage</th><th>alpha</th><th>lambda</th><th>pi</th><th>gamma</th><th>eta</th><th>delta_plus</th><th>delta_minus</th><th>mu_plus</th><th>mu_minus</th><th>voltvar</th><th>lambda_anc</th><th>rx_pi_i</th><th>rx_pi_a</th><th>r_sum_mu_d</th></tr><tr><th></th><th>Float64</th><th>Any</th><th>Any</th><th>Any</th><th>Any</th><th>Any</th><th>Any</th><th>Any</th><th>Float64</th><th>Any</th><th>Any</th><th>Any</th><th>Any</th><th>Any</th><th>Any</th><th>Any</th><th>Any</th><th>Any</th><th>Any</th></tr></thead><tbody><p>15 rows × 19 columns</p><tr><th>1</th><td>70.7426</td><td>1</td><td>0.2059</td><td>0.827568</td><td>1.0</td><td>1.0</td><td>-100.0</td><td>0.0</td><td>-31.6228</td><td>0</td><td>0</td><td>0</td><td>0</td><td>0</td><td>0</td><td>0</td><td>0</td><td>0</td><td>0</td></tr><tr><th>2</th><td>0.0</td><td>2</td><td>0</td><td>0</td><td>0.914019</td><td>0</td><td>-100.0</td><td>-8.9661e-6</td><td>0.0</td><td>0</td><td>0</td><td>0</td><td>-3.85068e-8</td><td>-4.91948e-5</td><td>0</td><td>-100.0</td><td>-7.47175e-8</td><td>0.0</td><td>7.47175e-8</td></tr><tr><th>3</th><td>0.0</td><td>3</td><td>0</td><td>0</td><td>0.962327</td><td>0</td><td>-100.0</td><td>-5.9884e-6</td><td>0.0</td><td>0</td><td>0</td><td>0</td><td>-5.27151e-8</td><td>-3.25599e-7</td><td>0</td><td>-100.0</td><td>-4.18998e-6</td><td>-6.27343e-6</td><td>-2.08345e-6</td></tr><tr><th>4</th><td>0.0</td><td>4</td><td>0</td><td>0</td><td>1.03351</td><td>0</td><td>-100.0</td><td>-1.21334e-6</td><td>0.0</td><td>0</td><td>0</td><td>0</td><td>-2.24509e-7</td><td>-1.02749e-7</td><td>0</td><td>-100.0</td><td>-8.48968e-7</td><td>-4.19006e-6</td><td>-3.3411e-6</td></tr><tr><th>5</th><td>0.0</td><td>5</td><td>0</td><td>0</td><td>1.04067</td><td>0</td><td>-100.0</td><td>-8.92732e-7</td><td>0.0</td><td>0</td><td>0</td><td>0</td><td>-3.01556e-7</td><td>-9.34205e-8</td><td>0</td><td>-100.0</td><td>-6.24585e-7</td><td>-8.48891e-7</td><td>-2.24306e-7</td></tr><tr><th>6</th><td>0.0</td><td>6</td><td>0</td><td>0</td><td>1.04755</td><td>0</td><td>-100.0</td><td>-6.08411e-7</td><td>0.0</td><td>0</td><td>0</td><td>0</td><td>-4.45232e-7</td><td>-8.57556e-8</td><td>0</td><td>-100.0</td><td>-4.24191e-7</td><td>-6.22422e-7</td><td>-1.98231e-7</td></tr><tr><th>7</th><td>0.0</td><td>7</td><td>0.8</td><td>-0.223088</td><td>1.06811</td><td>0</td><td>-100.0</td><td>-1.22519e-7</td><td>0.0</td><td>0</td><td>-88.4189</td><td>-2.04544e-8</td><td>-5.37254e-6</td><td>-6.82629e-8</td><td>0</td><td>-100.0</td><td>-8.57097e-8</td><td>-4.25623e-7</td><td>-5.11333e-7</td></tr><tr><th>8</th><td>0.0</td><td>8</td><td>0</td><td>0</td><td>1.02958</td><td>0</td><td>-100.0</td><td>-5.24069e-7</td><td>0.0</td><td>0</td><td>0</td><td>0</td><td>-0.0</td><td>-1.20947e-7</td><td>0</td><td>-100.0</td><td>-3.66919e-7</td><td>-3.54268e-7</td><td>1.2651e-8</td></tr><tr><th>9</th><td>0.0</td><td>9</td><td>0</td><td>0</td><td>1.03967</td><td>0</td><td>-100.0</td><td>-5.06e-7</td><td>0.0</td><td>0</td><td>0</td><td>0</td><td>-4.44677e-7</td><td>-0.0</td><td>0</td><td>-100.0</td><td>-3.53852e-7</td><td>-8.48502e-7</td><td>-4.9465e-7</td></tr><tr><th>10</th><td>0.0</td><td>10</td><td>0</td><td>0</td><td>1.0434</td><td>0</td><td>-100.0</td><td>-3.41463e-7</td><td>0.0</td><td>0</td><td>0</td><td>0</td><td>-6.33904e-7</td><td>-9.66353e-8</td><td>0</td><td>-100.0</td><td>-2.38785e-7</td><td>-3.53846e-7</td><td>-1.15061e-7</td></tr><tr><th>11</th><td>0.0</td><td>11</td><td>0</td><td>0</td><td>1.05331</td><td>0</td><td>-100.0</td><td>-1.84264e-8</td><td>0.0</td><td>0</td><td>0</td><td>0</td><td>-1.91573e-6</td><td>-8.67692e-8</td><td>0</td><td>-100.0</td><td>-1.28718e-8</td><td>-2.38529e-7</td><td>-2.51401e-7</td></tr><tr><th>12</th><td>0.0</td><td>12</td><td>0.8</td><td>-0.22348</td><td>1.05781</td><td>0</td><td>-100.0</td><td>-1.18676e-7</td><td>0.0</td><td>0</td><td>-88.4189</td><td>-2.04201e-8</td><td>-3.46961e-6</td><td>-8.27851e-8</td><td>0</td><td>-100.0</td><td>-8.25924e-8</td><td>-1.28238e-8</td><td>-6.97686e-8</td></tr><tr><th>13</th><td>0.0</td><td>13</td><td>0</td><td>0</td><td>0.982619</td><td>0</td><td>-100.0</td><td>0.0</td><td>0.0</td><td>0</td><td>0</td><td>0</td><td>-0.0</td><td>-0.0</td><td>0</td><td>-100.0</td><td>0.0</td><td>0.0</td><td>0.0</td></tr><tr><th>14</th><td>0.0</td><td>14</td><td>0</td><td>0</td><td>0.977795</td><td>0</td><td>-100.0</td><td>0.0</td><td>0.0</td><td>0</td><td>0</td><td>0</td><td>-0.0</td><td>-0.0</td><td>0</td><td>-100.0</td><td>0.0</td><td>0.0</td><td>0.0</td></tr><tr><th>15</th><td>0.0</td><td>15</td><td>0</td><td>0</td><td>0.975027</td><td>0</td><td>-100.0</td><td>0.0</td><td>0.0</td><td>0</td><td>0</td><td>0</td><td>-0.0</td><td>-0.0</td><td>0</td><td>-100.0</td><td>0.0</td><td>0.0</td><td>0.0</td></tr></tbody></table>"
      ],
      "text/latex": [
       "\\begin{tabular}{r|ccccccccccccccccccc}\n",
       "\t& objective & bus & gp & gq & voltage & alpha & lambda & pi & gamma & eta & delta\\_plus & delta\\_minus & mu\\_plus & mu\\_minus & voltvar & lambda\\_anc & rx\\_pi\\_i & rx\\_pi\\_a & r\\_sum\\_mu\\_d\\\\\n",
       "\t\\hline\n",
       "\t& Float64 & Any & Any & Any & Any & Any & Any & Any & Float64 & Any & Any & Any & Any & Any & Any & Any & Any & Any & Any\\\\\n",
       "\t\\hline\n",
       "\t1 & 70.7426 & 1 & 0.2059 & 0.827568 & 1.0 & 1.0 & -100.0 & 0.0 & -31.6228 & 0 & 0 & 0 & 0 & 0 & 0 & 0 & 0 & 0 & 0 \\\\\n",
       "\t2 & 0.0 & 2 & 0 & 0 & 0.914019 & 0 & -100.0 & -8.9661e-6 & 0.0 & 0 & 0 & 0 & -3.85068e-8 & -4.91948e-5 & 0 & -100.0 & -7.47175e-8 & 0.0 & 7.47175e-8 \\\\\n",
       "\t3 & 0.0 & 3 & 0 & 0 & 0.962327 & 0 & -100.0 & -5.9884e-6 & 0.0 & 0 & 0 & 0 & -5.27151e-8 & -3.25599e-7 & 0 & -100.0 & -4.18998e-6 & -6.27343e-6 & -2.08345e-6 \\\\\n",
       "\t4 & 0.0 & 4 & 0 & 0 & 1.03351 & 0 & -100.0 & -1.21334e-6 & 0.0 & 0 & 0 & 0 & -2.24509e-7 & -1.02749e-7 & 0 & -100.0 & -8.48968e-7 & -4.19006e-6 & -3.3411e-6 \\\\\n",
       "\t5 & 0.0 & 5 & 0 & 0 & 1.04067 & 0 & -100.0 & -8.92732e-7 & 0.0 & 0 & 0 & 0 & -3.01556e-7 & -9.34205e-8 & 0 & -100.0 & -6.24585e-7 & -8.48891e-7 & -2.24306e-7 \\\\\n",
       "\t6 & 0.0 & 6 & 0 & 0 & 1.04755 & 0 & -100.0 & -6.08411e-7 & 0.0 & 0 & 0 & 0 & -4.45232e-7 & -8.57556e-8 & 0 & -100.0 & -4.24191e-7 & -6.22422e-7 & -1.98231e-7 \\\\\n",
       "\t7 & 0.0 & 7 & 0.8 & -0.223088 & 1.06811 & 0 & -100.0 & -1.22519e-7 & 0.0 & 0 & -88.4189 & -2.04544e-8 & -5.37254e-6 & -6.82629e-8 & 0 & -100.0 & -8.57097e-8 & -4.25623e-7 & -5.11333e-7 \\\\\n",
       "\t8 & 0.0 & 8 & 0 & 0 & 1.02958 & 0 & -100.0 & -5.24069e-7 & 0.0 & 0 & 0 & 0 & -0.0 & -1.20947e-7 & 0 & -100.0 & -3.66919e-7 & -3.54268e-7 & 1.2651e-8 \\\\\n",
       "\t9 & 0.0 & 9 & 0 & 0 & 1.03967 & 0 & -100.0 & -5.06e-7 & 0.0 & 0 & 0 & 0 & -4.44677e-7 & -0.0 & 0 & -100.0 & -3.53852e-7 & -8.48502e-7 & -4.9465e-7 \\\\\n",
       "\t10 & 0.0 & 10 & 0 & 0 & 1.0434 & 0 & -100.0 & -3.41463e-7 & 0.0 & 0 & 0 & 0 & -6.33904e-7 & -9.66353e-8 & 0 & -100.0 & -2.38785e-7 & -3.53846e-7 & -1.15061e-7 \\\\\n",
       "\t11 & 0.0 & 11 & 0 & 0 & 1.05331 & 0 & -100.0 & -1.84264e-8 & 0.0 & 0 & 0 & 0 & -1.91573e-6 & -8.67692e-8 & 0 & -100.0 & -1.28718e-8 & -2.38529e-7 & -2.51401e-7 \\\\\n",
       "\t12 & 0.0 & 12 & 0.8 & -0.22348 & 1.05781 & 0 & -100.0 & -1.18676e-7 & 0.0 & 0 & -88.4189 & -2.04201e-8 & -3.46961e-6 & -8.27851e-8 & 0 & -100.0 & -8.25924e-8 & -1.28238e-8 & -6.97686e-8 \\\\\n",
       "\t13 & 0.0 & 13 & 0 & 0 & 0.982619 & 0 & -100.0 & 0.0 & 0.0 & 0 & 0 & 0 & -0.0 & -0.0 & 0 & -100.0 & 0.0 & 0.0 & 0.0 \\\\\n",
       "\t14 & 0.0 & 14 & 0 & 0 & 0.977795 & 0 & -100.0 & 0.0 & 0.0 & 0 & 0 & 0 & -0.0 & -0.0 & 0 & -100.0 & 0.0 & 0.0 & 0.0 \\\\\n",
       "\t15 & 0.0 & 15 & 0 & 0 & 0.975027 & 0 & -100.0 & 0.0 & 0.0 & 0 & 0 & 0 & -0.0 & -0.0 & 0 & -100.0 & 0.0 & 0.0 & 0.0 \\\\\n",
       "\\end{tabular}\n"
      ],
      "text/plain": [
       "15×19 DataFrame. Omitted printing of 12 columns\n",
       "│ Row │ objective │ bus │ gp     │ gq        │ voltage  │ alpha │ lambda │\n",
       "│     │ \u001b[90mFloat64\u001b[39m   │ \u001b[90mAny\u001b[39m │ \u001b[90mAny\u001b[39m    │ \u001b[90mAny\u001b[39m       │ \u001b[90mAny\u001b[39m      │ \u001b[90mAny\u001b[39m   │ \u001b[90mAny\u001b[39m    │\n",
       "├─────┼───────────┼─────┼────────┼───────────┼──────────┼───────┼────────┤\n",
       "│ 1   │ 70.7426   │ 1   │ 0.2059 │ 0.827568  │ 1.0      │ 1.0   │ -100.0 │\n",
       "│ 2   │ 0.0       │ 2   │ 0      │ 0         │ 0.914019 │ 0     │ -100.0 │\n",
       "│ 3   │ 0.0       │ 3   │ 0      │ 0         │ 0.962327 │ 0     │ -100.0 │\n",
       "│ 4   │ 0.0       │ 4   │ 0      │ 0         │ 1.03351  │ 0     │ -100.0 │\n",
       "│ 5   │ 0.0       │ 5   │ 0      │ 0         │ 1.04067  │ 0     │ -100.0 │\n",
       "│ 6   │ 0.0       │ 6   │ 0      │ 0         │ 1.04755  │ 0     │ -100.0 │\n",
       "│ 7   │ 0.0       │ 7   │ 0.8    │ -0.223088 │ 1.06811  │ 0     │ -100.0 │\n",
       "│ 8   │ 0.0       │ 8   │ 0      │ 0         │ 1.02958  │ 0     │ -100.0 │\n",
       "│ 9   │ 0.0       │ 9   │ 0      │ 0         │ 1.03967  │ 0     │ -100.0 │\n",
       "│ 10  │ 0.0       │ 10  │ 0      │ 0         │ 1.0434   │ 0     │ -100.0 │\n",
       "│ 11  │ 0.0       │ 11  │ 0      │ 0         │ 1.05331  │ 0     │ -100.0 │\n",
       "│ 12  │ 0.0       │ 12  │ 0.8    │ -0.22348  │ 1.05781  │ 0     │ -100.0 │\n",
       "│ 13  │ 0.0       │ 13  │ 0      │ 0         │ 0.982619 │ 0     │ -100.0 │\n",
       "│ 14  │ 0.0       │ 14  │ 0      │ 0         │ 0.977795 │ 0     │ -100.0 │\n",
       "│ 15  │ 0.0       │ 15  │ 0      │ 0         │ 0.975027 │ 0     │ -100.0 │"
      ]
     },
     "metadata": {},
     "output_type": "display_data"
    },
    {
     "name": "stdout",
     "output_type": "stream",
     "text": [
      ">>> Case no_uncert"
     ]
    },
    {
     "data": {
      "text/html": [
       "<table class=\"data-frame\"><thead><tr><th></th><th>objective</th><th>bus</th><th>gp</th><th>gq</th><th>voltage</th><th>alpha</th><th>lambda</th><th>pi</th><th>gamma</th><th>eta</th><th>delta_plus</th><th>delta_minus</th><th>mu_plus</th><th>mu_minus</th><th>voltvar</th><th>lambda_anc</th><th>rx_pi_i</th><th>rx_pi_a</th><th>r_sum_mu_d</th></tr><tr><th></th><th>Float64</th><th>Any</th><th>Any</th><th>Any</th><th>Any</th><th>Any</th><th>Any</th><th>Any</th><th>Float64</th><th>Any</th><th>Any</th><th>Any</th><th>Any</th><th>Any</th><th>Any</th><th>Any</th><th>Any</th><th>Any</th><th>Any</th></tr></thead><tbody><p>15 rows × 19 columns</p><tr><th>1</th><td>38.1104</td><td>1</td><td>0.2059</td><td>0.82841</td><td>1.0</td><td>0</td><td>-100.0</td><td>0.0</td><td>0.0</td><td>0</td><td>0</td><td>0</td><td>0</td><td>0</td><td>0</td><td>0</td><td>0</td><td>0</td><td>0</td></tr><tr><th>2</th><td>0.0</td><td>2</td><td>0</td><td>0</td><td>0.913909</td><td>0</td><td>-100.0</td><td>-1.73144e-5</td><td>0.0</td><td>0</td><td>0</td><td>0</td><td>-0.0</td><td>-9.48675e-5</td><td>0</td><td>-100.0</td><td>-1.44286e-7</td><td>0.0</td><td>1.44286e-7</td></tr><tr><th>3</th><td>0.0</td><td>3</td><td>0</td><td>0</td><td>0.962112</td><td>0</td><td>-100.0</td><td>-1.15787e-5</td><td>0.0</td><td>0</td><td>0</td><td>0</td><td>-9.63415e-8</td><td>-8.14068e-7</td><td>0</td><td>-100.0</td><td>-8.10144e-6</td><td>-1.21146e-5</td><td>-4.01312e-6</td></tr><tr><th>4</th><td>0.0</td><td>4</td><td>0</td><td>0</td><td>1.03315</td><td>0</td><td>-100.0</td><td>-2.30505e-6</td><td>0.0</td><td>0</td><td>0</td><td>0</td><td>-4.02736e-7</td><td>-2.03571e-7</td><td>0</td><td>-100.0</td><td>-1.61283e-6</td><td>-8.1016e-6</td><td>-6.48876e-6</td></tr><tr><th>5</th><td>0.0</td><td>5</td><td>0</td><td>0</td><td>1.04021</td><td>0</td><td>-100.0</td><td>-1.68303e-6</td><td>0.0</td><td>0</td><td>0</td><td>0</td><td>-5.47118e-7</td><td>-1.83447e-7</td><td>0</td><td>-100.0</td><td>-1.1775e-6</td><td>-1.61269e-6</td><td>-4.35186e-7</td></tr><tr><th>6</th><td>0.0</td><td>6</td><td>0</td><td>0</td><td>1.04701</td><td>0</td><td>-100.0</td><td>-1.12939e-6</td><td>0.0</td><td>0</td><td>0</td><td>0</td><td>-8.18067e-7</td><td>-1.67099e-7</td><td>0</td><td>-100.0</td><td>-7.87424e-7</td><td>-1.17343e-6</td><td>-3.86002e-7</td></tr><tr><th>7</th><td>0.0</td><td>7</td><td>0.8</td><td>-0.226702</td><td>1.06735</td><td>0</td><td>-100.0</td><td>-3.00651e-7</td><td>0.0</td><td>0</td><td>-89.0497</td><td>-2.67189e-8</td><td>-1.0508e-5</td><td>-1.30375e-7</td><td>0</td><td>-100.0</td><td>-2.10324e-7</td><td>-7.90082e-7</td><td>-1.00041e-6</td></tr><tr><th>8</th><td>0.0</td><td>8</td><td>0</td><td>0</td><td>1.02937</td><td>0</td><td>-100.0</td><td>-9.60607e-7</td><td>0.0</td><td>0</td><td>0</td><td>0</td><td>-0.0</td><td>-2.34075e-7</td><td>0</td><td>-100.0</td><td>-6.72554e-7</td><td>-6.48069e-7</td><td>2.44843e-8</td></tr><tr><th>9</th><td>0.0</td><td>9</td><td>0</td><td>0</td><td>1.03946</td><td>0</td><td>-100.0</td><td>-9.25636e-7</td><td>0.0</td><td>0</td><td>0</td><td>0</td><td>-7.90746e-7</td><td>-0.0</td><td>0</td><td>-100.0</td><td>-6.47309e-7</td><td>-1.61195e-6</td><td>-9.64639e-7</td></tr><tr><th>10</th><td>0.0</td><td>10</td><td>0</td><td>0</td><td>1.04323</td><td>0</td><td>-100.0</td><td>-6.0263e-7</td><td>0.0</td><td>0</td><td>0</td><td>0</td><td>-1.13643e-6</td><td>-0.0</td><td>0</td><td>-100.0</td><td>-4.21419e-7</td><td>-6.47298e-7</td><td>-2.25879e-7</td></tr><tr><th>11</th><td>0.0</td><td>11</td><td>0</td><td>0</td><td>1.05323</td><td>0</td><td>-100.0</td><td>-9.82382e-8</td><td>0.0</td><td>0</td><td>0</td><td>0</td><td>-3.63084e-6</td><td>-1.72692e-7</td><td>0</td><td>-100.0</td><td>-6.86244e-8</td><td>-4.20967e-7</td><td>-4.89592e-7</td></tr><tr><th>12</th><td>0.0</td><td>12</td><td>0.8</td><td>-0.220708</td><td>1.05777</td><td>0</td><td>-100.0</td><td>-2.96539e-7</td><td>0.0</td><td>0</td><td>-89.0498</td><td>-2.67969e-8</td><td>-6.8644e-6</td><td>-1.65047e-7</td><td>0</td><td>-100.0</td><td>-2.06375e-7</td><td>-6.83685e-8</td><td>-1.38007e-7</td></tr><tr><th>13</th><td>0.0</td><td>13</td><td>0</td><td>0</td><td>0.982619</td><td>0</td><td>-100.0</td><td>0.0</td><td>0.0</td><td>0</td><td>0</td><td>0</td><td>-0.0</td><td>-0.0</td><td>0</td><td>-100.0</td><td>0.0</td><td>0.0</td><td>0.0</td></tr><tr><th>14</th><td>0.0</td><td>14</td><td>0</td><td>0</td><td>0.977795</td><td>0</td><td>-100.0</td><td>0.0</td><td>0.0</td><td>0</td><td>0</td><td>0</td><td>-0.0</td><td>-0.0</td><td>0</td><td>-100.0</td><td>0.0</td><td>0.0</td><td>0.0</td></tr><tr><th>15</th><td>0.0</td><td>15</td><td>0</td><td>0</td><td>0.975027</td><td>0</td><td>-100.0</td><td>0.0</td><td>0.0</td><td>0</td><td>0</td><td>0</td><td>-0.0</td><td>-0.0</td><td>0</td><td>-100.0</td><td>0.0</td><td>0.0</td><td>0.0</td></tr></tbody></table>"
      ],
      "text/latex": [
       "\\begin{tabular}{r|ccccccccccccccccccc}\n",
       "\t& objective & bus & gp & gq & voltage & alpha & lambda & pi & gamma & eta & delta\\_plus & delta\\_minus & mu\\_plus & mu\\_minus & voltvar & lambda\\_anc & rx\\_pi\\_i & rx\\_pi\\_a & r\\_sum\\_mu\\_d\\\\\n",
       "\t\\hline\n",
       "\t& Float64 & Any & Any & Any & Any & Any & Any & Any & Float64 & Any & Any & Any & Any & Any & Any & Any & Any & Any & Any\\\\\n",
       "\t\\hline\n",
       "\t1 & 38.1104 & 1 & 0.2059 & 0.82841 & 1.0 & 0 & -100.0 & 0.0 & 0.0 & 0 & 0 & 0 & 0 & 0 & 0 & 0 & 0 & 0 & 0 \\\\\n",
       "\t2 & 0.0 & 2 & 0 & 0 & 0.913909 & 0 & -100.0 & -1.73144e-5 & 0.0 & 0 & 0 & 0 & -0.0 & -9.48675e-5 & 0 & -100.0 & -1.44286e-7 & 0.0 & 1.44286e-7 \\\\\n",
       "\t3 & 0.0 & 3 & 0 & 0 & 0.962112 & 0 & -100.0 & -1.15787e-5 & 0.0 & 0 & 0 & 0 & -9.63415e-8 & -8.14068e-7 & 0 & -100.0 & -8.10144e-6 & -1.21146e-5 & -4.01312e-6 \\\\\n",
       "\t4 & 0.0 & 4 & 0 & 0 & 1.03315 & 0 & -100.0 & -2.30505e-6 & 0.0 & 0 & 0 & 0 & -4.02736e-7 & -2.03571e-7 & 0 & -100.0 & -1.61283e-6 & -8.1016e-6 & -6.48876e-6 \\\\\n",
       "\t5 & 0.0 & 5 & 0 & 0 & 1.04021 & 0 & -100.0 & -1.68303e-6 & 0.0 & 0 & 0 & 0 & -5.47118e-7 & -1.83447e-7 & 0 & -100.0 & -1.1775e-6 & -1.61269e-6 & -4.35186e-7 \\\\\n",
       "\t6 & 0.0 & 6 & 0 & 0 & 1.04701 & 0 & -100.0 & -1.12939e-6 & 0.0 & 0 & 0 & 0 & -8.18067e-7 & -1.67099e-7 & 0 & -100.0 & -7.87424e-7 & -1.17343e-6 & -3.86002e-7 \\\\\n",
       "\t7 & 0.0 & 7 & 0.8 & -0.226702 & 1.06735 & 0 & -100.0 & -3.00651e-7 & 0.0 & 0 & -89.0497 & -2.67189e-8 & -1.0508e-5 & -1.30375e-7 & 0 & -100.0 & -2.10324e-7 & -7.90082e-7 & -1.00041e-6 \\\\\n",
       "\t8 & 0.0 & 8 & 0 & 0 & 1.02937 & 0 & -100.0 & -9.60607e-7 & 0.0 & 0 & 0 & 0 & -0.0 & -2.34075e-7 & 0 & -100.0 & -6.72554e-7 & -6.48069e-7 & 2.44843e-8 \\\\\n",
       "\t9 & 0.0 & 9 & 0 & 0 & 1.03946 & 0 & -100.0 & -9.25636e-7 & 0.0 & 0 & 0 & 0 & -7.90746e-7 & -0.0 & 0 & -100.0 & -6.47309e-7 & -1.61195e-6 & -9.64639e-7 \\\\\n",
       "\t10 & 0.0 & 10 & 0 & 0 & 1.04323 & 0 & -100.0 & -6.0263e-7 & 0.0 & 0 & 0 & 0 & -1.13643e-6 & -0.0 & 0 & -100.0 & -4.21419e-7 & -6.47298e-7 & -2.25879e-7 \\\\\n",
       "\t11 & 0.0 & 11 & 0 & 0 & 1.05323 & 0 & -100.0 & -9.82382e-8 & 0.0 & 0 & 0 & 0 & -3.63084e-6 & -1.72692e-7 & 0 & -100.0 & -6.86244e-8 & -4.20967e-7 & -4.89592e-7 \\\\\n",
       "\t12 & 0.0 & 12 & 0.8 & -0.220708 & 1.05777 & 0 & -100.0 & -2.96539e-7 & 0.0 & 0 & -89.0498 & -2.67969e-8 & -6.8644e-6 & -1.65047e-7 & 0 & -100.0 & -2.06375e-7 & -6.83685e-8 & -1.38007e-7 \\\\\n",
       "\t13 & 0.0 & 13 & 0 & 0 & 0.982619 & 0 & -100.0 & 0.0 & 0.0 & 0 & 0 & 0 & -0.0 & -0.0 & 0 & -100.0 & 0.0 & 0.0 & 0.0 \\\\\n",
       "\t14 & 0.0 & 14 & 0 & 0 & 0.977795 & 0 & -100.0 & 0.0 & 0.0 & 0 & 0 & 0 & -0.0 & -0.0 & 0 & -100.0 & 0.0 & 0.0 & 0.0 \\\\\n",
       "\t15 & 0.0 & 15 & 0 & 0 & 0.975027 & 0 & -100.0 & 0.0 & 0.0 & 0 & 0 & 0 & -0.0 & -0.0 & 0 & -100.0 & 0.0 & 0.0 & 0.0 \\\\\n",
       "\\end{tabular}\n"
      ],
      "text/plain": [
       "15×19 DataFrame. Omitted printing of 12 columns\n",
       "│ Row │ objective │ bus │ gp     │ gq        │ voltage  │ alpha │ lambda │\n",
       "│     │ \u001b[90mFloat64\u001b[39m   │ \u001b[90mAny\u001b[39m │ \u001b[90mAny\u001b[39m    │ \u001b[90mAny\u001b[39m       │ \u001b[90mAny\u001b[39m      │ \u001b[90mAny\u001b[39m   │ \u001b[90mAny\u001b[39m    │\n",
       "├─────┼───────────┼─────┼────────┼───────────┼──────────┼───────┼────────┤\n",
       "│ 1   │ 38.1104   │ 1   │ 0.2059 │ 0.82841   │ 1.0      │ 0     │ -100.0 │\n",
       "│ 2   │ 0.0       │ 2   │ 0      │ 0         │ 0.913909 │ 0     │ -100.0 │\n",
       "│ 3   │ 0.0       │ 3   │ 0      │ 0         │ 0.962112 │ 0     │ -100.0 │\n",
       "│ 4   │ 0.0       │ 4   │ 0      │ 0         │ 1.03315  │ 0     │ -100.0 │\n",
       "│ 5   │ 0.0       │ 5   │ 0      │ 0         │ 1.04021  │ 0     │ -100.0 │\n",
       "│ 6   │ 0.0       │ 6   │ 0      │ 0         │ 1.04701  │ 0     │ -100.0 │\n",
       "│ 7   │ 0.0       │ 7   │ 0.8    │ -0.226702 │ 1.06735  │ 0     │ -100.0 │\n",
       "│ 8   │ 0.0       │ 8   │ 0      │ 0         │ 1.02937  │ 0     │ -100.0 │\n",
       "│ 9   │ 0.0       │ 9   │ 0      │ 0         │ 1.03946  │ 0     │ -100.0 │\n",
       "│ 10  │ 0.0       │ 10  │ 0      │ 0         │ 1.04323  │ 0     │ -100.0 │\n",
       "│ 11  │ 0.0       │ 11  │ 0      │ 0         │ 1.05323  │ 0     │ -100.0 │\n",
       "│ 12  │ 0.0       │ 12  │ 0.8    │ -0.220708 │ 1.05777  │ 0     │ -100.0 │\n",
       "│ 13  │ 0.0       │ 13  │ 0      │ 0         │ 0.982619 │ 0     │ -100.0 │\n",
       "│ 14  │ 0.0       │ 14  │ 0      │ 0         │ 0.977795 │ 0     │ -100.0 │\n",
       "│ 15  │ 0.0       │ 15  │ 0      │ 0         │ 0.975027 │ 0     │ -100.0 │"
      ]
     },
     "metadata": {},
     "output_type": "display_data"
    }
   ],
   "source": [
    "experiment2 = Dict()\n",
    "\n",
    "# Load feeder data \n",
    "feeder = load_feeder(\"data/feeder_data/basecase_noneg/\")\n",
    "\n",
    "# Set up\n",
    "relative_std = 0.2\n",
    "loads = [b.d_P for b in feeder.buses]\n",
    "std_vec = loads .* relative_std\n",
    "var_vec = std_vec.^2\n",
    "Σ = diagm(0 => var_vec)\n",
    "\n",
    "# ex2_general_settings\n",
    "ex2_general_settings = Dict(\n",
    "    \"var_vec\" => var_vec,\n",
    "    \"Σ\" => Σ,\n",
    "    \"z_g\" => 1.945,\n",
    "    \"z_v\" => 2.576,\n",
    "    \"toggle_volt_cc\" => false,\n",
    "    \"toggle_gen_cc\" => false,\n",
    "    \"vfac\" => 0.03, # decrease upper bound by factor (1-vfac) and increase lower bound by (1+vfac)\n",
    "    \"qcfac\" => 1,\n",
    "    \"output_level\" => 0,\n",
    "    \"Ψ\" => 0,\n",
    ")\n",
    "\n",
    "# ex2_no_uncert:\n",
    "ex2_no_uncert_settings = copy(ex2_general_settings)\n",
    "ex2_no_uncert_settings[\"toggle_volt_cc\"] = false\n",
    "ex2_no_uncert_settings[\"toggle_gen_cc\"] = false\n",
    "\n",
    "experiment2[\"no_uncert\"] = Dict(\n",
    "    \"verbose\" => \"ex2_no_uncert\",\n",
    "    \"feeder\" => feeder,\n",
    "    \"settings\" => ex2_no_uncert_settings,\n",
    ")\n",
    "\n",
    "# ex2_uncert:\n",
    "ex2_uncert_settings = copy(ex2_general_settings)\n",
    "ex2_uncert_settings[\"toggle_volt_cc\"] = true\n",
    "ex2_uncert_settings[\"toggle_gen_cc\"] = true\n",
    "experiment2[\"uncert\"] = Dict(\n",
    "    \"verbose\" => \"ex2_uncert\",\n",
    "    \"feeder\" => feeder,\n",
    "    \"settings\" => ex2_uncert_settings,\n",
    ")\n",
    "\n",
    "# ex2_gen_uncert:\n",
    "ex2_uncert_settings = copy(ex2_general_settings)\n",
    "ex2_uncert_settings[\"toggle_volt_cc\"] = false\n",
    "ex2_uncert_settings[\"toggle_gen_cc\"] = true\n",
    "experiment2[\"gen_uncert\"] = Dict(\n",
    "    \"verbose\" => \"ex2_gen_uncert\",\n",
    "    \"feeder\" => feeder,\n",
    "    \"settings\" => ex2_uncert_settings,\n",
    ")\n",
    "\n",
    "# Run \n",
    "experiment2 = run_experiment(experiment2)\n",
    "\n",
    "# Show results\n",
    "sleep(.2) # just to ensure correct printing order\n",
    "for case in keys(experiment2)\n",
    "    print(\">>> Case $case\")\n",
    "    sleep(.2)\n",
    "    display(experiment2[case][\"results\"])\n",
    "end"
   ]
  },
  {
   "cell_type": "code",
   "execution_count": 170,
   "metadata": {},
   "outputs": [
    {
     "name": "stdout",
     "output_type": "stream",
     "text": [
      "Saving ex2_uncert\n",
      "Saving ex2_gen_uncert\n",
      "Saving ex2_no_uncert\n",
      ">>>> Saved with timestamp 190319_1610\n"
     ]
    }
   ],
   "source": [
    "save_experiment(\"experiment2\", experiment2)"
   ]
  },
  {
   "cell_type": "markdown",
   "metadata": {},
   "source": [
    "## Experiment 3\n",
    "\n",
    "Same as before but instead of tighter voltage limits try higher load"
   ]
  },
  {
   "cell_type": "code",
   "execution_count": null,
   "metadata": {},
   "outputs": [],
   "source": [
    "#todo"
   ]
  },
  {
   "cell_type": "markdown",
   "metadata": {},
   "source": [
    "## Experiment 4\n",
    "\n",
    "- Instead of uncertain load uncontrollable vs. controllable DERs\n",
    "- Maybe better in the 33-bus system?"
   ]
  },
  {
   "cell_type": "code",
   "execution_count": null,
   "metadata": {},
   "outputs": [],
   "source": []
  },
  {
   "cell_type": "markdown",
   "metadata": {},
   "source": [
    "## Prototyping Space"
   ]
  },
  {
   "cell_type": "code",
   "execution_count": 124,
   "metadata": {},
   "outputs": [
    {
     "data": {
      "text/plain": [
       "15-element Array{Any,1}:\n",
       " -7.205953103912941     \n",
       " -7.206062392432603     \n",
       " -8.414541366815063     \n",
       " -8.414580810945816     \n",
       " -6.937927467672224     \n",
       " -6.93791763606441      \n",
       " -6.937905206646532     \n",
       " -2.4250666387669306e-5 \n",
       " -1.476600361745382     \n",
       " -1.4765493195107668    \n",
       " -1.4765406443863434    \n",
       " -1.4764544415890568    \n",
       "  0.00010928851966197678\n",
       "  0.00010889073586762795\n",
       "  4.2411773376212617e-5 "
      ]
     },
     "execution_count": 124,
     "metadata": {},
     "output_type": "execute_result"
    }
   ],
   "source": [
    "results = experiment2[\"uncert\"][\"results\"]\n",
    "feeder = experiment2[\"uncert\"][\"feeder\"]\n",
    "results[results[:bus] .== 3, :lambda][1]\n",
    "\n",
    "\n",
    "\n",
    "# lambda_a = []\n",
    "# rx_pi = []\n",
    "# rx_pi_a = []\n",
    "\n",
    "# for bus in feeder.buses\n",
    "#     if bus.is_root\n",
    "#         push!(lambda_a, 0)\n",
    "#         push!(rx_pi, 0)\n",
    "#         push!(rx_pi_a, 0)\n",
    "#     else\n",
    "#         anc = bus.ancestor\n",
    "#         cs = bus.children\n",
    "#         push!(lambda_a, results[results[:bus] .== anc, :lambda][1])\n",
    "        \n",
    "#         pi_i =  results[results[:bus] .== bus.index, :pi][1]\n",
    "#         push!(rx_pi, pi_i * feeder.line_to[bus.index].r / feeder.line_to[bus.index].x)\n",
    "        \n",
    "#         pi_a = pi_i =  results[results[:bus] .== anc, :pi][1]\n",
    "#         push!(rx_pi_a, pi_a * feeder.line_to[bus.index].r / feeder.line_to[bus.index].x)\n",
    "#     end\n",
    "# end\n",
    "\n",
    "\n",
    "r_sum_mu_d = []\n",
    "\n",
    "for bus in feeder.buses\n",
    "    downstream = traverse(feeder, bus.index)\n",
    "    downstream = setdiff(downstream, [feeder.root_bus])\n",
    "    v = 2*sum(feeder.line_to[d].r * (results[results[:bus] .== d, :mu_plus][1] - results[results[:bus] .== d, :mu_minus][1]) for d in downstream)\n",
    "    push!(r_sum_mu_d, v)\n",
    "end\n",
    "    \n",
    "r_sum_mu_d\n"
   ]
  },
  {
   "cell_type": "code",
   "execution_count": 120,
   "metadata": {},
   "outputs": [
    {
     "data": {
      "text/plain": [
       "traverse (generic function with 2 methods)"
      ]
     },
     "execution_count": 120,
     "metadata": {},
     "output_type": "execute_result"
    }
   ],
   "source": [
    "function traverse(feeder, bus_idx; nodes=[])\n",
    "    push!(nodes, bus_idx)\n",
    "    if length(feeder.buses[bus_idx].children) > 0\n",
    "        for c in feeder.buses[bus_idx].children\n",
    "            nodes = traverse(feeder, c, nodes=nodes)\n",
    "        end\n",
    "    end\n",
    "    return nodes \n",
    "end"
   ]
  },
  {
   "cell_type": "code",
   "execution_count": 121,
   "metadata": {},
   "outputs": [
    {
     "data": {
      "text/plain": [
       "5-element Array{Any,1}:\n",
       "  9\n",
       "  8\n",
       " 10\n",
       " 11\n",
       " 12"
      ]
     },
     "execution_count": 121,
     "metadata": {},
     "output_type": "execute_result"
    }
   ],
   "source": [
    "traverse(feeder, 9)"
   ]
  },
  {
   "cell_type": "code",
   "execution_count": 106,
   "metadata": {},
   "outputs": [
    {
     "data": {
      "text/plain": [
       "Bus(4, false, 0.0201, 0.0084, 0.922668973832998, 0.4179104477611942, 1.1025, 0.9025, [5, 9], [3], #undef, 2.276401827e-314, 0.0)"
      ]
     },
     "execution_count": 106,
     "metadata": {},
     "output_type": "execute_result"
    }
   ],
   "source": [
    "feeder.buses[4]"
   ]
  },
  {
   "cell_type": "code",
   "execution_count": null,
   "metadata": {},
   "outputs": [],
   "source": [
    "# datadir = (\"data/feeder_data/basecase_noneg/\")\n",
    "datadir = (\"data/feeder_data/basecase_lv_noneg/\")\n",
    "# datadir = (\"data/feeder_data/feeder141/\")\n",
    "# datadir = (\"data/feeder_data/feeder141_lv/\")\n",
    "\n",
    "feeder = load_feeder(datadir);"
   ]
  },
  {
   "cell_type": "code",
   "execution_count": null,
   "metadata": {},
   "outputs": [],
   "source": []
  },
  {
   "cell_type": "code",
   "execution_count": null,
   "metadata": {},
   "outputs": [],
   "source": [
    "mu = results_df[:mu_plus] .+ results_df[:mu_minus]\n",
    "mu = mu[2:end]\n",
    "\n",
    "b = 1 ./ diag(C)\n",
    "b = [(x == Inf ? 0 : x) for x in b]\n",
    "\n",
    "g3 = 2*s*z*e'*R'*mu/sum(b)\n",
    "\n",
    "g1 = s^2/sum(b) \n",
    "\n",
    "delta = results_df[:delta_plus] .+ results_df[:delta_minus]\n",
    "detlta = delta[2:end]\n",
    "g2 = sum(delta.*b)/sum(b)\n",
    "\n",
    "g = -g1 - g2 + g3\n"
   ]
  },
  {
   "cell_type": "code",
   "execution_count": null,
   "metadata": {},
   "outputs": [],
   "source": [
    "saveres = results_df"
   ]
  },
  {
   "cell_type": "code",
   "execution_count": null,
   "metadata": {},
   "outputs": [],
   "source": [
    "CSV.write(\"figures/results_uncert.csv\", results_df)"
   ]
  },
  {
   "cell_type": "code",
   "execution_count": null,
   "metadata": {},
   "outputs": [],
   "source": [
    "shadow_price(m[:δp][12])"
   ]
  },
  {
   "cell_type": "code",
   "execution_count": null,
   "metadata": {},
   "outputs": [],
   "source": [
    "m.dictList"
   ]
  },
  {
   "cell_type": "code",
   "execution_count": 20,
   "metadata": {},
   "outputs": [
    {
     "data": {
      "text/plain": [
       "2×2 Array{Int64,2}:\n",
       " 1  2\n",
       " 3  4"
      ]
     },
     "execution_count": 20,
     "metadata": {},
     "output_type": "execute_result"
    }
   ],
   "source": [
    "A = [1 2; 3 4]"
   ]
  },
  {
   "cell_type": "code",
   "execution_count": 31,
   "metadata": {},
   "outputs": [
    {
     "ename": "MethodError",
     "evalue": "MethodError: objects of type Array{Bus,1} are not callable\nUse square brackets [] for indexing an Array.",
     "output_type": "error",
     "traceback": [
      "MethodError: objects of type Array{Bus,1} are not callable\nUse square brackets [] for indexing an Array.",
      "",
      "Stacktrace:",
      " [1] top-level scope at In[31]:1"
     ]
    }
   ],
   "source": [
    "feeder.buses()"
   ]
  },
  {
   "cell_type": "code",
   "execution_count": 144,
   "metadata": {},
   "outputs": [
    {
     "data": {
      "text/plain": [
       "\"190318_1923\""
      ]
     },
     "execution_count": 144,
     "metadata": {},
     "output_type": "execute_result"
    }
   ],
   "source": [
    "\n",
    "Dates.format(Dates.now(), \"yymmdd_HHMM\")"
   ]
  },
  {
   "cell_type": "code",
   "execution_count": null,
   "metadata": {},
   "outputs": [],
   "source": []
  }
 ],
 "metadata": {
  "hide_code_all_hidden": false,
  "kernelspec": {
   "display_name": "Julia 1.1.0",
   "language": "julia",
   "name": "julia-1.1"
  },
  "language_info": {
   "file_extension": ".jl",
   "mimetype": "application/julia",
   "name": "julia",
   "version": "1.1.0"
  },
  "varInspector": {
   "cols": {
    "lenName": 16,
    "lenType": 16,
    "lenVar": 40
   },
   "kernels_config": {
    "python": {
     "delete_cmd_postfix": "",
     "delete_cmd_prefix": "del ",
     "library": "var_list.py",
     "varRefreshCmd": "print(var_dic_list())"
    },
    "r": {
     "delete_cmd_postfix": ") ",
     "delete_cmd_prefix": "rm(",
     "library": "var_list.r",
     "varRefreshCmd": "cat(var_dic_list()) "
    }
   },
   "types_to_exclude": [
    "module",
    "function",
    "builtin_function_or_method",
    "instance",
    "_Feature"
   ],
   "window_display": false
  }
 },
 "nbformat": 4,
 "nbformat_minor": 2
}
