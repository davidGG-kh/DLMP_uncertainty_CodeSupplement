{
 "cells": [
  {
   "cell_type": "markdown",
   "metadata": {},
   "source": [
    "# Case Study Model\n",
    "\n",
    "## General Remarks\n",
    "\n",
    "- Reverse Power Flow / Cost at substation\n",
    "    - If the negative generation limit at the substation is not enforced, then substation has the option of pushing energy back towards the transmission system (reverse power flow)\n",
    "    - We make the follwoing assumptions: \n",
    "        - reverse power flow is allowed at the substation \n",
    "        - for scheduled negative active power the substation is remunerated according to the market price (i.e. linear cost of energy provision at the substation) -> the substation has a linear cost function \n",
    "        - While the cost function will not have a quadratic termn, THERE WILL BE a penalty on $\\alpha_0$ as it indicates how much the substation is willing to deviate from the schedule\n",
    "\n",
    "\n",
    "## Notes and Todos:\n",
    "\n",
    "- Verify the gamma decomposition\n",
    "- Maybe check if 33bus gives nice/better results?\n",
    " \n",
    " \n",
    "Done:   \n",
    "- decide for a case! (combination of voltage limits and generators). Notes:\n",
    "    - should there be an equal lambda case?\n",
    "    - should the DERs be fully utilized in the deterministic case?\n",
    "    - [Done]: Choosen Ex2 as set up\n",
    "- put results handling in a function [done]\n",
    "- remove unneccsray packages (e.g. gurobi from tomls) [done, but check on the \"remains\"]\n",
    "- Remove quadratic term from substation [done]"
   ]
  },
  {
   "cell_type": "code",
   "execution_count": 176,
   "metadata": {},
   "outputs": [
    {
     "data": {
      "text/html": [
       "<style>.container { width:80% !important; }</style>"
      ]
     },
     "metadata": {},
     "output_type": "display_data"
    }
   ],
   "source": [
    "# IJulia.qtconsole();\n",
    "\n",
    "# set width of notbook \n",
    "display(\"text/html\", \"<style>.container { width:80% !important; }</style>\")"
   ]
  },
  {
   "cell_type": "code",
   "execution_count": 63,
   "metadata": {
    "hideCode": false,
    "hidePrompt": false
   },
   "outputs": [
    {
     "data": {
      "text/plain": [
       "results_to_df (generic function with 1 method)"
      ]
     },
     "execution_count": 63,
     "metadata": {},
     "output_type": "execute_result"
    }
   ],
   "source": [
    "# Set up environment from .toml-files\n",
    "import Pkg\n",
    "Pkg.activate(\".\")\n",
    "# Pkg.instantiate()\n",
    "\n",
    "# Load necessary packages\n",
    "using DataFrames, CSV, LinearAlgebra, Dates # Basic Julia utility\n",
    "using JLD, HDF5\n",
    "using JuMP # Modeling Framework\n",
    "using Mosek, MosekTools # Solver and Solver-Environment\n",
    "using Logging # For some warnings in the functions\n",
    "\n",
    "# Load functions and model\n",
    "include(\"src/tools.jl\") # Some additional functions\n",
    "include(\"src/input.jl\") # Type definitions and read-in functions\n",
    "include(\"src/model_definition.jl\") # Model definiton\n",
    "include(\"src/output.jl\") # Postprocessing of solved model"
   ]
  },
  {
   "cell_type": "markdown",
   "metadata": {},
   "source": [
    "# 15Bus Case\n",
    "\n",
    "- 15 bus case from Papavasilou paper\n",
    "    - negative load is positive load\n",
    "    - no line constraints\n",
    "    - voltage at root is 1 p.u.\n",
    "    \n",
    "- Assumptions for all cases except mentioned differently\n",
    "    - Two DERs one each at node 6 and 11 with `c1 = 10`, `c2 = 5`, `p_max = 1`, `q_max = 0.5`\n",
    "    - No reverse power flow limit on substation\n",
    "    - Substation pays `c1 = 50` for energy provision from the transmission network (no quadratic term) and a penalty of `200` on alpha to discourage high alpha"
   ]
  },
  {
   "cell_type": "markdown",
   "metadata": {},
   "source": [
    "## Experiment 1\n",
    "\n",
    "We analyse the influence of the uncertainty in the system using the \"standard\" setup\n",
    "\n",
    "### Description\n",
    "\n",
    "Ex1:\n",
    "- tag: `experiment1`\n",
    "- tight bascase voltage (0.95-1.05) \n",
    "- all nodes have 20% standard deviation of their forecasted load\n",
    "\n",
    "Runs:\n",
    "- `ex1_no_uncert`: deterministic case\n",
    "- `ex1_uncert`: case with uncertainty\n",
    "- `ex1_gen_uncert`: Chance constraints only in generation\n",
    "\n",
    "\n",
    "### Notes and Observations\n",
    "\n",
    "- Recursive decomposition of prices for active power (eqtns (20) and (21)) are verified by the experimet\n",
    "- Decompositon via voltage constraints (eqtns (23) and (24)) also verified by the experiment"
   ]
  },
  {
   "cell_type": "code",
   "execution_count": 2,
   "metadata": {
    "hideCode": false,
    "hidePrompt": false
   },
   "outputs": [
    {
     "name": "stdout",
     "output_type": "stream",
     "text": [
      ">>>>> Reading feeder data from data/feeder_data/basecase_lv_noneg/\n",
      "Running ex1_uncert\n",
      ">>>> Building Model\n",
      ">>>> Running Model\n",
      "MOSEK warning 705: #3 (nearly) zero elements are specified in sparse row ''(87) of matrix 'A'.\n",
      "MOSEK warning 705: #4 (nearly) zero elements are specified in sparse row ''(93) of matrix 'A'.\n",
      ">>>> Model finished with status OPTIMAL in 10.725489949 seconds\n",
      ">>>> Post-Processing\n",
      "\n",
      "Running ex1_gen_uncert\n",
      ">>>> Building Model\n",
      ">>>> Running Model\n",
      ">>>> Model finished with status OPTIMAL in 0.004067965 seconds\n",
      ">>>> Post-Processing\n",
      "\n",
      "Running ex1_no_uncert\n",
      ">>>> Building Model\n",
      ">>>> Running Model\n",
      ">>>> Model finished with status OPTIMAL in 0.003565615 seconds\n",
      ">>>> Post-Processing\n",
      "\n"
     ]
    },
    {
     "data": {
      "text/html": [
       "<table class=\"data-frame\"><thead><tr><th></th><th>objective</th><th>bus</th><th>gp</th><th>gq</th><th>voltage</th><th>alpha</th><th>lambda</th><th>pi</th><th>gamma</th><th>eta</th><th>delta_plus</th><th>delta_minus</th><th>mu_plus</th><th>mu_minus</th><th>voltvar</th><th>lambda_anc</th><th>rx_pi_i</th><th>rx_pi_a</th><th>r_sum_mu_d</th></tr><tr><th></th><th>Float64</th><th>Any</th><th>Any</th><th>Any</th><th>Any</th><th>Any</th><th>Any</th><th>Any</th><th>Float64</th><th>Any</th><th>Any</th><th>Any</th><th>Any</th><th>Any</th><th>Any</th><th>Any</th><th>Any</th><th>Any</th><th>Any</th></tr></thead><tbody><p>15 rows × 19 columns</p><tr><th>1</th><td>107.833</td><td>1</td><td>0.894374</td><td>0.540247</td><td>1.0</td><td>0.550625</td><td>-100.0</td><td>-5.22936e-10</td><td>-14.1658</td><td>0</td><td>0</td><td>0</td><td>0</td><td>0</td><td>0</td><td>0</td><td>0</td><td>0</td><td>0</td></tr><tr><th>2</th><td>0.0</td><td>2</td><td>0</td><td>0</td><td>0.950269</td><td>0</td><td>-101.064</td><td>-127.648</td><td>0.0</td><td>-0.0980513</td><td>0</td><td>0</td><td>-2.11416e-5</td><td>-697.74</td><td>9.92585e-5</td><td>-100.0</td><td>-1.06373</td><td>-4.3578e-12</td><td>1.06373</td></tr><tr><th>3</th><td>0.0</td><td>3</td><td>0</td><td>0</td><td>0.9719</td><td>0</td><td>-71.7705</td><td>-85.7815</td><td>0.0</td><td>-5.09823</td><td>0</td><td>0</td><td>-3.21486e-5</td><td>-0.000365687</td><td>0.00595755</td><td>-101.064</td><td>-60.0199</td><td>-89.3132</td><td>-29.2933</td></tr><tr><th>4</th><td>0.0</td><td>4</td><td>0</td><td>0</td><td>1.00487</td><td>0</td><td>-25.8566</td><td>-20.1618</td><td>0.0</td><td>-12.9354</td><td>0</td><td>0</td><td>-0.000137341</td><td>-0.000100472</td><td>0.0127409</td><td>-71.7705</td><td>-14.1072</td><td>-60.0211</td><td>-45.9139</td></tr><tr><th>5</th><td>0.0</td><td>5</td><td>0</td><td>0</td><td>1.00884</td><td>0</td><td>-22.6819</td><td>-15.6242</td><td>0.0</td><td>-13.4717</td><td>0</td><td>0</td><td>-0.000179682</td><td>-8.24556e-5</td><td>0.012421</td><td>-25.8566</td><td>-10.9312</td><td>-14.1059</td><td>-3.17471</td></tr><tr><th>6</th><td>0.0</td><td>6</td><td>0</td><td>0</td><td>1.01286</td><td>0</td><td>-19.7731</td><td>-11.4522</td><td>0.0</td><td>-13.9631</td><td>0</td><td>0</td><td>-0.000248564</td><td>-6.91739e-5</td><td>0.0119264</td><td>-22.6819</td><td>-7.98458</td><td>-10.8933</td><td>-2.90876</td></tr><tr><th>7</th><td>0.0</td><td>7</td><td>0.511526</td><td>-0.146374</td><td>1.02575</td><td>0.107176</td><td>-11.7616</td><td>-1.01055e-5</td><td>0.0</td><td>-15.3165</td><td>-2.53398e-5</td><td>-1.07972e-5</td><td>-83.1073</td><td>-4.68272e-5</td><td>0.00977028</td><td>-19.7731</td><td>-7.06947e-6</td><td>-8.01153</td><td>-8.01154</td></tr><tr><th>8</th><td>0.0</td><td>8</td><td>0</td><td>0</td><td>0.996791</td><td>0</td><td>-19.1194</td><td>-10.5279</td><td>0.0</td><td>-14.0973</td><td>0</td><td>0</td><td>-0.000119038</td><td>-0.0002906</td><td>0.0150436</td><td>-19.1194</td><td>-7.37091</td><td>-7.37089</td><td>1.79454e-5</td></tr><tr><th>9</th><td>0.0</td><td>9</td><td>0</td><td>0</td><td>1.00721</td><td>0</td><td>-19.1194</td><td>-10.5278</td><td>0.0</td><td>-14.0973</td><td>0</td><td>0</td><td>-0.000214085</td><td>-0.000100536</td><td>0.013504</td><td>-25.8566</td><td>-7.36225</td><td>-14.0994</td><td>-6.73718</td></tr><tr><th>10</th><td>0.0</td><td>10</td><td>0</td><td>0</td><td>1.01008</td><td>0</td><td>-17.4641</td><td>-8.16071</td><td>0.0</td><td>-14.3828</td><td>0</td><td>0</td><td>-0.000283034</td><td>-8.63338e-5</td><td>0.0132011</td><td>-19.1194</td><td>-5.70679</td><td>-7.36212</td><td>-1.65533</td></tr><tr><th>11</th><td>0.0</td><td>11</td><td>0</td><td>0</td><td>1.01799</td><td>0</td><td>-13.4747</td><td>-2.44985</td><td>0.0</td><td>-15.0708</td><td>0</td><td>0</td><td>-0.00113693</td><td>-6.09762e-5</td><td>0.0121132</td><td>-17.4641</td><td>-1.71134</td><td>-5.70067</td><td>-3.98933</td></tr><tr><th>12</th><td>0.0</td><td>12</td><td>0.4</td><td>-0.0128732</td><td>1.02166</td><td>0.342198</td><td>-11.7698</td><td>-1.15033e-6</td><td>0.0</td><td>-15.3648</td><td>-6.16215</td><td>-5.76967</td><td>-82.7652</td><td>-5.31687e-5</td><td>0.0113965</td><td>-13.4747</td><td>-8.00565e-7</td><td>-1.70496</td><td>-1.70496</td></tr><tr><th>13</th><td>0.0</td><td>13</td><td>0</td><td>0</td><td>0.982619</td><td>0</td><td>-100.0</td><td>-0.000168623</td><td>0.0</td><td>-1.2642e-9</td><td>0</td><td>0</td><td>0.0</td><td>-0.000199034</td><td>0.00816166</td><td>-100.0</td><td>-1.40519e-6</td><td>-4.3578e-12</td><td>1.40519e-6</td></tr><tr><th>14</th><td>0.0</td><td>14</td><td>0</td><td>0</td><td>0.977795</td><td>0</td><td>-100.0</td><td>-0.00028132</td><td>0.0</td><td>-1.87763e-7</td><td>0</td><td>0</td><td>0.0</td><td>-0.000236557</td><td>0.00695897</td><td>-100.0</td><td>-0.000391938</td><td>-0.000234927</td><td>0.000157011</td></tr><tr><th>15</th><td>0.0</td><td>15</td><td>0</td><td>0</td><td>0.975027</td><td>0</td><td>-100.0</td><td>-0.000317847</td><td>0.0</td><td>-2.62226e-7</td><td>0</td><td>0</td><td>0.0</td><td>-0.000267006</td><td>0.00628878</td><td>-100.0</td><td>-0.000442848</td><td>-0.000391956</td><td>5.08914e-5</td></tr></tbody></table>"
      ],
      "text/latex": [
       "\\begin{tabular}{r|ccccccccccccccccccc}\n",
       "\t& objective & bus & gp & gq & voltage & alpha & lambda & pi & gamma & eta & delta\\_plus & delta\\_minus & mu\\_plus & mu\\_minus & voltvar & lambda\\_anc & rx\\_pi\\_i & rx\\_pi\\_a & r\\_sum\\_mu\\_d\\\\\n",
       "\t\\hline\n",
       "\t& Float64 & Any & Any & Any & Any & Any & Any & Any & Float64 & Any & Any & Any & Any & Any & Any & Any & Any & Any & Any\\\\\n",
       "\t\\hline\n",
       "\t1 & 107.833 & 1 & 0.894374 & 0.540247 & 1.0 & 0.550625 & -100.0 & -5.22936e-10 & -14.1658 & 0 & 0 & 0 & 0 & 0 & 0 & 0 & 0 & 0 & 0 \\\\\n",
       "\t2 & 0.0 & 2 & 0 & 0 & 0.950269 & 0 & -101.064 & -127.648 & 0.0 & -0.0980513 & 0 & 0 & -2.11416e-5 & -697.74 & 9.92585e-5 & -100.0 & -1.06373 & -4.3578e-12 & 1.06373 \\\\\n",
       "\t3 & 0.0 & 3 & 0 & 0 & 0.9719 & 0 & -71.7705 & -85.7815 & 0.0 & -5.09823 & 0 & 0 & -3.21486e-5 & -0.000365687 & 0.00595755 & -101.064 & -60.0199 & -89.3132 & -29.2933 \\\\\n",
       "\t4 & 0.0 & 4 & 0 & 0 & 1.00487 & 0 & -25.8566 & -20.1618 & 0.0 & -12.9354 & 0 & 0 & -0.000137341 & -0.000100472 & 0.0127409 & -71.7705 & -14.1072 & -60.0211 & -45.9139 \\\\\n",
       "\t5 & 0.0 & 5 & 0 & 0 & 1.00884 & 0 & -22.6819 & -15.6242 & 0.0 & -13.4717 & 0 & 0 & -0.000179682 & -8.24556e-5 & 0.012421 & -25.8566 & -10.9312 & -14.1059 & -3.17471 \\\\\n",
       "\t6 & 0.0 & 6 & 0 & 0 & 1.01286 & 0 & -19.7731 & -11.4522 & 0.0 & -13.9631 & 0 & 0 & -0.000248564 & -6.91739e-5 & 0.0119264 & -22.6819 & -7.98458 & -10.8933 & -2.90876 \\\\\n",
       "\t7 & 0.0 & 7 & 0.511526 & -0.146374 & 1.02575 & 0.107176 & -11.7616 & -1.01055e-5 & 0.0 & -15.3165 & -2.53398e-5 & -1.07972e-5 & -83.1073 & -4.68272e-5 & 0.00977028 & -19.7731 & -7.06947e-6 & -8.01153 & -8.01154 \\\\\n",
       "\t8 & 0.0 & 8 & 0 & 0 & 0.996791 & 0 & -19.1194 & -10.5279 & 0.0 & -14.0973 & 0 & 0 & -0.000119038 & -0.0002906 & 0.0150436 & -19.1194 & -7.37091 & -7.37089 & 1.79454e-5 \\\\\n",
       "\t9 & 0.0 & 9 & 0 & 0 & 1.00721 & 0 & -19.1194 & -10.5278 & 0.0 & -14.0973 & 0 & 0 & -0.000214085 & -0.000100536 & 0.013504 & -25.8566 & -7.36225 & -14.0994 & -6.73718 \\\\\n",
       "\t10 & 0.0 & 10 & 0 & 0 & 1.01008 & 0 & -17.4641 & -8.16071 & 0.0 & -14.3828 & 0 & 0 & -0.000283034 & -8.63338e-5 & 0.0132011 & -19.1194 & -5.70679 & -7.36212 & -1.65533 \\\\\n",
       "\t11 & 0.0 & 11 & 0 & 0 & 1.01799 & 0 & -13.4747 & -2.44985 & 0.0 & -15.0708 & 0 & 0 & -0.00113693 & -6.09762e-5 & 0.0121132 & -17.4641 & -1.71134 & -5.70067 & -3.98933 \\\\\n",
       "\t12 & 0.0 & 12 & 0.4 & -0.0128732 & 1.02166 & 0.342198 & -11.7698 & -1.15033e-6 & 0.0 & -15.3648 & -6.16215 & -5.76967 & -82.7652 & -5.31687e-5 & 0.0113965 & -13.4747 & -8.00565e-7 & -1.70496 & -1.70496 \\\\\n",
       "\t13 & 0.0 & 13 & 0 & 0 & 0.982619 & 0 & -100.0 & -0.000168623 & 0.0 & -1.2642e-9 & 0 & 0 & 0.0 & -0.000199034 & 0.00816166 & -100.0 & -1.40519e-6 & -4.3578e-12 & 1.40519e-6 \\\\\n",
       "\t14 & 0.0 & 14 & 0 & 0 & 0.977795 & 0 & -100.0 & -0.00028132 & 0.0 & -1.87763e-7 & 0 & 0 & 0.0 & -0.000236557 & 0.00695897 & -100.0 & -0.000391938 & -0.000234927 & 0.000157011 \\\\\n",
       "\t15 & 0.0 & 15 & 0 & 0 & 0.975027 & 0 & -100.0 & -0.000317847 & 0.0 & -2.62226e-7 & 0 & 0 & 0.0 & -0.000267006 & 0.00628878 & -100.0 & -0.000442848 & -0.000391956 & 5.08914e-5 \\\\\n",
       "\\end{tabular}\n"
      ],
      "text/plain": [
       "15×19 DataFrame. Omitted printing of 13 columns\n",
       "│ Row │ objective │ bus │ gp       │ gq         │ voltage  │ alpha    │\n",
       "│     │ \u001b[90mFloat64\u001b[39m   │ \u001b[90mAny\u001b[39m │ \u001b[90mAny\u001b[39m      │ \u001b[90mAny\u001b[39m        │ \u001b[90mAny\u001b[39m      │ \u001b[90mAny\u001b[39m      │\n",
       "├─────┼───────────┼─────┼──────────┼────────────┼──────────┼──────────┤\n",
       "│ 1   │ 107.833   │ 1   │ 0.894374 │ 0.540247   │ 1.0      │ 0.550625 │\n",
       "│ 2   │ 0.0       │ 2   │ 0        │ 0          │ 0.950269 │ 0        │\n",
       "│ 3   │ 0.0       │ 3   │ 0        │ 0          │ 0.9719   │ 0        │\n",
       "│ 4   │ 0.0       │ 4   │ 0        │ 0          │ 1.00487  │ 0        │\n",
       "│ 5   │ 0.0       │ 5   │ 0        │ 0          │ 1.00884  │ 0        │\n",
       "│ 6   │ 0.0       │ 6   │ 0        │ 0          │ 1.01286  │ 0        │\n",
       "│ 7   │ 0.0       │ 7   │ 0.511526 │ -0.146374  │ 1.02575  │ 0.107176 │\n",
       "│ 8   │ 0.0       │ 8   │ 0        │ 0          │ 0.996791 │ 0        │\n",
       "│ 9   │ 0.0       │ 9   │ 0        │ 0          │ 1.00721  │ 0        │\n",
       "│ 10  │ 0.0       │ 10  │ 0        │ 0          │ 1.01008  │ 0        │\n",
       "│ 11  │ 0.0       │ 11  │ 0        │ 0          │ 1.01799  │ 0        │\n",
       "│ 12  │ 0.0       │ 12  │ 0.4      │ -0.0128732 │ 1.02166  │ 0.342198 │\n",
       "│ 13  │ 0.0       │ 13  │ 0        │ 0          │ 0.982619 │ 0        │\n",
       "│ 14  │ 0.0       │ 14  │ 0        │ 0          │ 0.977795 │ 0        │\n",
       "│ 15  │ 0.0       │ 15  │ 0        │ 0          │ 0.975027 │ 0        │"
      ]
     },
     "metadata": {},
     "output_type": "display_data"
    },
    {
     "data": {
      "text/html": [
       "<table class=\"data-frame\"><thead><tr><th></th><th>objective</th><th>bus</th><th>gp</th><th>gq</th><th>voltage</th><th>alpha</th><th>lambda</th><th>pi</th><th>gamma</th><th>eta</th><th>delta_plus</th><th>delta_minus</th><th>mu_plus</th><th>mu_minus</th><th>voltvar</th><th>lambda_anc</th><th>rx_pi_i</th><th>rx_pi_a</th><th>r_sum_mu_d</th></tr><tr><th></th><th>Float64</th><th>Any</th><th>Any</th><th>Any</th><th>Any</th><th>Any</th><th>Any</th><th>Any</th><th>Float64</th><th>Any</th><th>Any</th><th>Any</th><th>Any</th><th>Any</th><th>Any</th><th>Any</th><th>Any</th><th>Any</th><th>Any</th></tr></thead><tbody><p>15 rows × 19 columns</p><tr><th>1</th><td>97.719</td><td>1</td><td>0.787837</td><td>0.543266</td><td>1.0</td><td>0.502155</td><td>-100.0</td><td>0.0</td><td>-14.0557</td><td>0</td><td>0</td><td>0</td><td>0</td><td>0</td><td>0</td><td>0</td><td>0</td><td>0</td><td>0</td></tr><tr><th>2</th><td>0.0</td><td>2</td><td>0</td><td>0</td><td>0.95</td><td>0</td><td>-100.923</td><td>-110.735</td><td>0.0</td><td>0</td><td>0</td><td>0</td><td>-6.22946e-6</td><td>-605.292</td><td>0</td><td>-100.0</td><td>-0.922792</td><td>0.0</td><td>0.922792</td></tr><tr><th>3</th><td>0.0</td><td>3</td><td>0</td><td>0</td><td>0.980882</td><td>0</td><td>-75.5108</td><td>-74.4157</td><td>0.0</td><td>0</td><td>0</td><td>0</td><td>-8.69654e-6</td><td>-2.45659e-5</td><td>0</td><td>-100.923</td><td>-52.0674</td><td>-77.4795</td><td>-25.412</td></tr><tr><th>4</th><td>0.0</td><td>4</td><td>0</td><td>0</td><td>1.02742</td><td>0</td><td>-35.6803</td><td>-17.4905</td><td>0.0</td><td>0</td><td>0</td><td>0</td><td>-2.43829e-5</td><td>-9.02386e-6</td><td>0</td><td>-75.5108</td><td>-12.238</td><td>-52.0684</td><td>-39.8304</td></tr><tr><th>5</th><td>0.0</td><td>5</td><td>0</td><td>0</td><td>1.0318</td><td>0</td><td>-32.9263</td><td>-13.554</td><td>0.0</td><td>0</td><td>0</td><td>0</td><td>-3.01897e-5</td><td>-8.4906e-6</td><td>0</td><td>-35.6803</td><td>-9.48286</td><td>-12.2369</td><td>-2.75407</td></tr><tr><th>6</th><td>0.0</td><td>6</td><td>0</td><td>0</td><td>1.03618</td><td>0</td><td>-30.4029</td><td>-9.93482</td><td>0.0</td><td>0</td><td>0</td><td>0</td><td>-4.04363e-5</td><td>-8.01029e-6</td><td>0</td><td>-32.9263</td><td>-6.92666</td><td>-9.45002</td><td>-2.52336</td></tr><tr><th>7</th><td>0.0</td><td>7</td><td>0.508279</td><td>-0.125555</td><td>1.05</td><td>0.249567</td><td>-23.4529</td><td>-2.65458e-6</td><td>0.0</td><td>0</td><td>-11.8748</td><td>-5.44797e-6</td><td>-72.0959</td><td>-6.77542e-6</td><td>0</td><td>-30.4029</td><td>-1.85705e-6</td><td>-6.95005</td><td>-6.95005</td></tr><tr><th>8</th><td>0.0</td><td>8</td><td>0</td><td>0</td><td>1.02254</td><td>0</td><td>-29.8358</td><td>-9.13295</td><td>0.0</td><td>0</td><td>0</td><td>0</td><td>-0.0</td><td>-9.83932e-6</td><td>0</td><td>-29.8358</td><td>-6.39429</td><td>-6.39429</td><td>1.02919e-6</td></tr><tr><th>9</th><td>0.0</td><td>9</td><td>0</td><td>0</td><td>1.0327</td><td>0</td><td>-29.8358</td><td>-9.13295</td><td>0.0</td><td>0</td><td>0</td><td>0</td><td>-3.00228e-5</td><td>-0.0</td><td>0</td><td>-35.6803</td><td>-6.38679</td><td>-12.2313</td><td>-5.84452</td></tr><tr><th>10</th><td>0.0</td><td>10</td><td>0</td><td>0</td><td>1.03623</td><td>0</td><td>-28.3998</td><td>-7.07947</td><td>0.0</td><td>0</td><td>0</td><td>0</td><td>-3.5746e-5</td><td>-7.97528e-6</td><td>0</td><td>-29.8358</td><td>-4.95068</td><td>-6.38668</td><td>-1.436</td></tr><tr><th>11</th><td>0.0</td><td>11</td><td>0</td><td>0</td><td>1.04568</td><td>0</td><td>-24.9391</td><td>-2.12528</td><td>0.0</td><td>0</td><td>0</td><td>0</td><td>-6.52018e-5</td><td>-7.07184e-6</td><td>0</td><td>-28.3998</td><td>-1.48461</td><td>-4.94537</td><td>-3.46076</td></tr><tr><th>12</th><td>0.0</td><td>12</td><td>0.509785</td><td>-0.0367112</td><td>1.05</td><td>0.248278</td><td>-23.46</td><td>-5.45898e-7</td><td>0.0</td><td>0</td><td>-11.8758</td><td>-6.50081e-6</td><td>-71.7999</td><td>-6.72631e-6</td><td>0</td><td>-24.9391</td><td>-3.79916e-7</td><td>-1.47908</td><td>-1.47908</td></tr><tr><th>13</th><td>0.0</td><td>13</td><td>0</td><td>0</td><td>0.982619</td><td>0</td><td>-100.0</td><td>0.0</td><td>0.0</td><td>0</td><td>0</td><td>0</td><td>-0.0</td><td>-0.0</td><td>0</td><td>-100.0</td><td>0.0</td><td>0.0</td><td>0.0</td></tr><tr><th>14</th><td>0.0</td><td>14</td><td>0</td><td>0</td><td>0.977795</td><td>0</td><td>-100.0</td><td>0.0</td><td>0.0</td><td>0</td><td>0</td><td>0</td><td>-0.0</td><td>-0.0</td><td>0</td><td>-100.0</td><td>0.0</td><td>0.0</td><td>0.0</td></tr><tr><th>15</th><td>0.0</td><td>15</td><td>0</td><td>0</td><td>0.975027</td><td>0</td><td>-100.0</td><td>0.0</td><td>0.0</td><td>0</td><td>0</td><td>0</td><td>-0.0</td><td>-0.0</td><td>0</td><td>-100.0</td><td>0.0</td><td>0.0</td><td>0.0</td></tr></tbody></table>"
      ],
      "text/latex": [
       "\\begin{tabular}{r|ccccccccccccccccccc}\n",
       "\t& objective & bus & gp & gq & voltage & alpha & lambda & pi & gamma & eta & delta\\_plus & delta\\_minus & mu\\_plus & mu\\_minus & voltvar & lambda\\_anc & rx\\_pi\\_i & rx\\_pi\\_a & r\\_sum\\_mu\\_d\\\\\n",
       "\t\\hline\n",
       "\t& Float64 & Any & Any & Any & Any & Any & Any & Any & Float64 & Any & Any & Any & Any & Any & Any & Any & Any & Any & Any\\\\\n",
       "\t\\hline\n",
       "\t1 & 97.719 & 1 & 0.787837 & 0.543266 & 1.0 & 0.502155 & -100.0 & 0.0 & -14.0557 & 0 & 0 & 0 & 0 & 0 & 0 & 0 & 0 & 0 & 0 \\\\\n",
       "\t2 & 0.0 & 2 & 0 & 0 & 0.95 & 0 & -100.923 & -110.735 & 0.0 & 0 & 0 & 0 & -6.22946e-6 & -605.292 & 0 & -100.0 & -0.922792 & 0.0 & 0.922792 \\\\\n",
       "\t3 & 0.0 & 3 & 0 & 0 & 0.980882 & 0 & -75.5108 & -74.4157 & 0.0 & 0 & 0 & 0 & -8.69654e-6 & -2.45659e-5 & 0 & -100.923 & -52.0674 & -77.4795 & -25.412 \\\\\n",
       "\t4 & 0.0 & 4 & 0 & 0 & 1.02742 & 0 & -35.6803 & -17.4905 & 0.0 & 0 & 0 & 0 & -2.43829e-5 & -9.02386e-6 & 0 & -75.5108 & -12.238 & -52.0684 & -39.8304 \\\\\n",
       "\t5 & 0.0 & 5 & 0 & 0 & 1.0318 & 0 & -32.9263 & -13.554 & 0.0 & 0 & 0 & 0 & -3.01897e-5 & -8.4906e-6 & 0 & -35.6803 & -9.48286 & -12.2369 & -2.75407 \\\\\n",
       "\t6 & 0.0 & 6 & 0 & 0 & 1.03618 & 0 & -30.4029 & -9.93482 & 0.0 & 0 & 0 & 0 & -4.04363e-5 & -8.01029e-6 & 0 & -32.9263 & -6.92666 & -9.45002 & -2.52336 \\\\\n",
       "\t7 & 0.0 & 7 & 0.508279 & -0.125555 & 1.05 & 0.249567 & -23.4529 & -2.65458e-6 & 0.0 & 0 & -11.8748 & -5.44797e-6 & -72.0959 & -6.77542e-6 & 0 & -30.4029 & -1.85705e-6 & -6.95005 & -6.95005 \\\\\n",
       "\t8 & 0.0 & 8 & 0 & 0 & 1.02254 & 0 & -29.8358 & -9.13295 & 0.0 & 0 & 0 & 0 & -0.0 & -9.83932e-6 & 0 & -29.8358 & -6.39429 & -6.39429 & 1.02919e-6 \\\\\n",
       "\t9 & 0.0 & 9 & 0 & 0 & 1.0327 & 0 & -29.8358 & -9.13295 & 0.0 & 0 & 0 & 0 & -3.00228e-5 & -0.0 & 0 & -35.6803 & -6.38679 & -12.2313 & -5.84452 \\\\\n",
       "\t10 & 0.0 & 10 & 0 & 0 & 1.03623 & 0 & -28.3998 & -7.07947 & 0.0 & 0 & 0 & 0 & -3.5746e-5 & -7.97528e-6 & 0 & -29.8358 & -4.95068 & -6.38668 & -1.436 \\\\\n",
       "\t11 & 0.0 & 11 & 0 & 0 & 1.04568 & 0 & -24.9391 & -2.12528 & 0.0 & 0 & 0 & 0 & -6.52018e-5 & -7.07184e-6 & 0 & -28.3998 & -1.48461 & -4.94537 & -3.46076 \\\\\n",
       "\t12 & 0.0 & 12 & 0.509785 & -0.0367112 & 1.05 & 0.248278 & -23.46 & -5.45898e-7 & 0.0 & 0 & -11.8758 & -6.50081e-6 & -71.7999 & -6.72631e-6 & 0 & -24.9391 & -3.79916e-7 & -1.47908 & -1.47908 \\\\\n",
       "\t13 & 0.0 & 13 & 0 & 0 & 0.982619 & 0 & -100.0 & 0.0 & 0.0 & 0 & 0 & 0 & -0.0 & -0.0 & 0 & -100.0 & 0.0 & 0.0 & 0.0 \\\\\n",
       "\t14 & 0.0 & 14 & 0 & 0 & 0.977795 & 0 & -100.0 & 0.0 & 0.0 & 0 & 0 & 0 & -0.0 & -0.0 & 0 & -100.0 & 0.0 & 0.0 & 0.0 \\\\\n",
       "\t15 & 0.0 & 15 & 0 & 0 & 0.975027 & 0 & -100.0 & 0.0 & 0.0 & 0 & 0 & 0 & -0.0 & -0.0 & 0 & -100.0 & 0.0 & 0.0 & 0.0 \\\\\n",
       "\\end{tabular}\n"
      ],
      "text/plain": [
       "15×19 DataFrame. Omitted printing of 13 columns\n",
       "│ Row │ objective │ bus │ gp       │ gq         │ voltage  │ alpha    │\n",
       "│     │ \u001b[90mFloat64\u001b[39m   │ \u001b[90mAny\u001b[39m │ \u001b[90mAny\u001b[39m      │ \u001b[90mAny\u001b[39m        │ \u001b[90mAny\u001b[39m      │ \u001b[90mAny\u001b[39m      │\n",
       "├─────┼───────────┼─────┼──────────┼────────────┼──────────┼──────────┤\n",
       "│ 1   │ 97.719    │ 1   │ 0.787837 │ 0.543266   │ 1.0      │ 0.502155 │\n",
       "│ 2   │ 0.0       │ 2   │ 0        │ 0          │ 0.95     │ 0        │\n",
       "│ 3   │ 0.0       │ 3   │ 0        │ 0          │ 0.980882 │ 0        │\n",
       "│ 4   │ 0.0       │ 4   │ 0        │ 0          │ 1.02742  │ 0        │\n",
       "│ 5   │ 0.0       │ 5   │ 0        │ 0          │ 1.0318   │ 0        │\n",
       "│ 6   │ 0.0       │ 6   │ 0        │ 0          │ 1.03618  │ 0        │\n",
       "│ 7   │ 0.0       │ 7   │ 0.508279 │ -0.125555  │ 1.05     │ 0.249567 │\n",
       "│ 8   │ 0.0       │ 8   │ 0        │ 0          │ 1.02254  │ 0        │\n",
       "│ 9   │ 0.0       │ 9   │ 0        │ 0          │ 1.0327   │ 0        │\n",
       "│ 10  │ 0.0       │ 10  │ 0        │ 0          │ 1.03623  │ 0        │\n",
       "│ 11  │ 0.0       │ 11  │ 0        │ 0          │ 1.04568  │ 0        │\n",
       "│ 12  │ 0.0       │ 12  │ 0.509785 │ -0.0367112 │ 1.05     │ 0.248278 │\n",
       "│ 13  │ 0.0       │ 13  │ 0        │ 0          │ 0.982619 │ 0        │\n",
       "│ 14  │ 0.0       │ 14  │ 0        │ 0          │ 0.977795 │ 0        │\n",
       "│ 15  │ 0.0       │ 15  │ 0        │ 0          │ 0.975027 │ 0        │"
      ]
     },
     "metadata": {},
     "output_type": "display_data"
    },
    {
     "data": {
      "text/html": [
       "<table class=\"data-frame\"><thead><tr><th></th><th>objective</th><th>bus</th><th>gp</th><th>gq</th><th>voltage</th><th>alpha</th><th>lambda</th><th>pi</th><th>gamma</th><th>eta</th><th>delta_plus</th><th>delta_minus</th><th>mu_plus</th><th>mu_minus</th><th>voltvar</th><th>lambda_anc</th><th>rx_pi_i</th><th>rx_pi_a</th><th>r_sum_mu_d</th></tr><tr><th></th><th>Float64</th><th>Any</th><th>Any</th><th>Any</th><th>Any</th><th>Any</th><th>Any</th><th>Any</th><th>Float64</th><th>Any</th><th>Any</th><th>Any</th><th>Any</th><th>Any</th><th>Any</th><th>Any</th><th>Any</th><th>Any</th><th>Any</th></tr></thead><tbody><p>15 rows × 19 columns</p><tr><th>1</th><td>89.9317</td><td>1</td><td>0.787837</td><td>0.543266</td><td>1.0</td><td>0</td><td>-100.0</td><td>0.0</td><td>0.0</td><td>0</td><td>0</td><td>0</td><td>0</td><td>0</td><td>0</td><td>0</td><td>0</td><td>0</td><td>0</td></tr><tr><th>2</th><td>0.0</td><td>2</td><td>0</td><td>0</td><td>0.95</td><td>0</td><td>-101.074</td><td>-128.828</td><td>0.0</td><td>0</td><td>0</td><td>0</td><td>-2.34877e-6</td><td>-704.189</td><td>0</td><td>-100.0</td><td>-1.07356</td><td>0.0</td><td>1.07356</td></tr><tr><th>3</th><td>0.0</td><td>3</td><td>0</td><td>0</td><td>0.980882</td><td>0</td><td>-71.5095</td><td>-86.5743</td><td>0.0</td><td>0</td><td>0</td><td>0</td><td>-3.29177e-6</td><td>-1.09804e-5</td><td>0</td><td>-101.074</td><td>-60.5746</td><td>-90.1386</td><td>-29.564</td></tr><tr><th>4</th><td>0.0</td><td>4</td><td>0</td><td>0</td><td>1.02742</td><td>0</td><td>-25.1714</td><td>-20.3482</td><td>0.0</td><td>0</td><td>0</td><td>0</td><td>-9.08044e-6</td><td>-3.7435e-6</td><td>0</td><td>-71.5095</td><td>-14.2376</td><td>-60.5757</td><td>-46.3382</td></tr><tr><th>5</th><td>0.0</td><td>5</td><td>0</td><td>0</td><td>1.0318</td><td>0</td><td>-21.9673</td><td>-15.7686</td><td>0.0</td><td>0</td><td>0</td><td>0</td><td>-1.11327e-5</td><td>-3.49286e-6</td><td>0</td><td>-25.1714</td><td>-11.0322</td><td>-14.2363</td><td>-3.20404</td></tr><tr><th>6</th><td>0.0</td><td>6</td><td>0</td><td>0</td><td>1.03618</td><td>0</td><td>-19.0317</td><td>-11.558</td><td>0.0</td><td>0</td><td>0</td><td>0</td><td>-1.45833e-5</td><td>-3.27079e-6</td><td>0</td><td>-21.9673</td><td>-8.05839</td><td>-10.994</td><td>-2.93564</td></tr><tr><th>7</th><td>0.0</td><td>7</td><td>0.507154</td><td>-0.124769</td><td>1.05</td><td>0</td><td>-10.9461</td><td>-5.80027e-7</td><td>0.0</td><td>0</td><td>-1.88969e-6</td><td>-9.27997e-7</td><td>-83.8755</td><td>-2.71542e-6</td><td>0</td><td>-19.0317</td><td>-4.05766e-7</td><td>-8.0856</td><td>-8.0856</td></tr><tr><th>8</th><td>0.0</td><td>8</td><td>0</td><td>0</td><td>1.02254</td><td>0</td><td>-18.3719</td><td>-10.6252</td><td>0.0</td><td>0</td><td>0</td><td>0</td><td>-0.0</td><td>-4.13976e-6</td><td>0</td><td>-18.3719</td><td>-7.43904</td><td>-7.43904</td><td>4.33019e-7</td></tr><tr><th>9</th><td>0.0</td><td>9</td><td>0</td><td>0</td><td>1.0327</td><td>0</td><td>-18.3719</td><td>-10.6252</td><td>0.0</td><td>0</td><td>0</td><td>0</td><td>-1.08137e-5</td><td>-0.0</td><td>0</td><td>-25.1714</td><td>-7.43031</td><td>-14.2298</td><td>-6.79944</td></tr><tr><th>10</th><td>0.0</td><td>10</td><td>0</td><td>0</td><td>1.03623</td><td>0</td><td>-16.7013</td><td>-8.23617</td><td>0.0</td><td>0</td><td>0</td><td>0</td><td>-1.24389e-5</td><td>-0.0</td><td>0</td><td>-18.3719</td><td>-5.75956</td><td>-7.43018</td><td>-1.67062</td></tr><tr><th>11</th><td>0.0</td><td>11</td><td>0</td><td>0</td><td>1.04568</td><td>0</td><td>-12.6751</td><td>-2.47252</td><td>0.0</td><td>0</td><td>0</td><td>0</td><td>-1.57585e-5</td><td>-2.88536e-6</td><td>0</td><td>-16.7013</td><td>-1.72718</td><td>-5.75338</td><td>-4.0262</td></tr><tr><th>12</th><td>0.0</td><td>12</td><td>0.510909</td><td>-0.0374967</td><td>1.05</td><td>0</td><td>-10.9544</td><td>-5.31299e-7</td><td>0.0</td><td>0</td><td>-2.62772e-6</td><td>-7.96387e-7</td><td>-83.5312</td><td>-2.72999e-6</td><td>0</td><td>-12.6751</td><td>-3.69755e-7</td><td>-1.72074</td><td>-1.72074</td></tr><tr><th>13</th><td>0.0</td><td>13</td><td>0</td><td>0</td><td>0.982619</td><td>0</td><td>-100.0</td><td>0.0</td><td>0.0</td><td>0</td><td>0</td><td>0</td><td>-0.0</td><td>-0.0</td><td>0</td><td>-100.0</td><td>0.0</td><td>0.0</td><td>0.0</td></tr><tr><th>14</th><td>0.0</td><td>14</td><td>0</td><td>0</td><td>0.977795</td><td>0</td><td>-100.0</td><td>0.0</td><td>0.0</td><td>0</td><td>0</td><td>0</td><td>-0.0</td><td>-0.0</td><td>0</td><td>-100.0</td><td>0.0</td><td>0.0</td><td>0.0</td></tr><tr><th>15</th><td>0.0</td><td>15</td><td>0</td><td>0</td><td>0.975027</td><td>0</td><td>-100.0</td><td>0.0</td><td>0.0</td><td>0</td><td>0</td><td>0</td><td>-0.0</td><td>-0.0</td><td>0</td><td>-100.0</td><td>0.0</td><td>0.0</td><td>0.0</td></tr></tbody></table>"
      ],
      "text/latex": [
       "\\begin{tabular}{r|ccccccccccccccccccc}\n",
       "\t& objective & bus & gp & gq & voltage & alpha & lambda & pi & gamma & eta & delta\\_plus & delta\\_minus & mu\\_plus & mu\\_minus & voltvar & lambda\\_anc & rx\\_pi\\_i & rx\\_pi\\_a & r\\_sum\\_mu\\_d\\\\\n",
       "\t\\hline\n",
       "\t& Float64 & Any & Any & Any & Any & Any & Any & Any & Float64 & Any & Any & Any & Any & Any & Any & Any & Any & Any & Any\\\\\n",
       "\t\\hline\n",
       "\t1 & 89.9317 & 1 & 0.787837 & 0.543266 & 1.0 & 0 & -100.0 & 0.0 & 0.0 & 0 & 0 & 0 & 0 & 0 & 0 & 0 & 0 & 0 & 0 \\\\\n",
       "\t2 & 0.0 & 2 & 0 & 0 & 0.95 & 0 & -101.074 & -128.828 & 0.0 & 0 & 0 & 0 & -2.34877e-6 & -704.189 & 0 & -100.0 & -1.07356 & 0.0 & 1.07356 \\\\\n",
       "\t3 & 0.0 & 3 & 0 & 0 & 0.980882 & 0 & -71.5095 & -86.5743 & 0.0 & 0 & 0 & 0 & -3.29177e-6 & -1.09804e-5 & 0 & -101.074 & -60.5746 & -90.1386 & -29.564 \\\\\n",
       "\t4 & 0.0 & 4 & 0 & 0 & 1.02742 & 0 & -25.1714 & -20.3482 & 0.0 & 0 & 0 & 0 & -9.08044e-6 & -3.7435e-6 & 0 & -71.5095 & -14.2376 & -60.5757 & -46.3382 \\\\\n",
       "\t5 & 0.0 & 5 & 0 & 0 & 1.0318 & 0 & -21.9673 & -15.7686 & 0.0 & 0 & 0 & 0 & -1.11327e-5 & -3.49286e-6 & 0 & -25.1714 & -11.0322 & -14.2363 & -3.20404 \\\\\n",
       "\t6 & 0.0 & 6 & 0 & 0 & 1.03618 & 0 & -19.0317 & -11.558 & 0.0 & 0 & 0 & 0 & -1.45833e-5 & -3.27079e-6 & 0 & -21.9673 & -8.05839 & -10.994 & -2.93564 \\\\\n",
       "\t7 & 0.0 & 7 & 0.507154 & -0.124769 & 1.05 & 0 & -10.9461 & -5.80027e-7 & 0.0 & 0 & -1.88969e-6 & -9.27997e-7 & -83.8755 & -2.71542e-6 & 0 & -19.0317 & -4.05766e-7 & -8.0856 & -8.0856 \\\\\n",
       "\t8 & 0.0 & 8 & 0 & 0 & 1.02254 & 0 & -18.3719 & -10.6252 & 0.0 & 0 & 0 & 0 & -0.0 & -4.13976e-6 & 0 & -18.3719 & -7.43904 & -7.43904 & 4.33019e-7 \\\\\n",
       "\t9 & 0.0 & 9 & 0 & 0 & 1.0327 & 0 & -18.3719 & -10.6252 & 0.0 & 0 & 0 & 0 & -1.08137e-5 & -0.0 & 0 & -25.1714 & -7.43031 & -14.2298 & -6.79944 \\\\\n",
       "\t10 & 0.0 & 10 & 0 & 0 & 1.03623 & 0 & -16.7013 & -8.23617 & 0.0 & 0 & 0 & 0 & -1.24389e-5 & -0.0 & 0 & -18.3719 & -5.75956 & -7.43018 & -1.67062 \\\\\n",
       "\t11 & 0.0 & 11 & 0 & 0 & 1.04568 & 0 & -12.6751 & -2.47252 & 0.0 & 0 & 0 & 0 & -1.57585e-5 & -2.88536e-6 & 0 & -16.7013 & -1.72718 & -5.75338 & -4.0262 \\\\\n",
       "\t12 & 0.0 & 12 & 0.510909 & -0.0374967 & 1.05 & 0 & -10.9544 & -5.31299e-7 & 0.0 & 0 & -2.62772e-6 & -7.96387e-7 & -83.5312 & -2.72999e-6 & 0 & -12.6751 & -3.69755e-7 & -1.72074 & -1.72074 \\\\\n",
       "\t13 & 0.0 & 13 & 0 & 0 & 0.982619 & 0 & -100.0 & 0.0 & 0.0 & 0 & 0 & 0 & -0.0 & -0.0 & 0 & -100.0 & 0.0 & 0.0 & 0.0 \\\\\n",
       "\t14 & 0.0 & 14 & 0 & 0 & 0.977795 & 0 & -100.0 & 0.0 & 0.0 & 0 & 0 & 0 & -0.0 & -0.0 & 0 & -100.0 & 0.0 & 0.0 & 0.0 \\\\\n",
       "\t15 & 0.0 & 15 & 0 & 0 & 0.975027 & 0 & -100.0 & 0.0 & 0.0 & 0 & 0 & 0 & -0.0 & -0.0 & 0 & -100.0 & 0.0 & 0.0 & 0.0 \\\\\n",
       "\\end{tabular}\n"
      ],
      "text/plain": [
       "15×19 DataFrame. Omitted printing of 12 columns\n",
       "│ Row │ objective │ bus │ gp       │ gq         │ voltage  │ alpha │ lambda   │\n",
       "│     │ \u001b[90mFloat64\u001b[39m   │ \u001b[90mAny\u001b[39m │ \u001b[90mAny\u001b[39m      │ \u001b[90mAny\u001b[39m        │ \u001b[90mAny\u001b[39m      │ \u001b[90mAny\u001b[39m   │ \u001b[90mAny\u001b[39m      │\n",
       "├─────┼───────────┼─────┼──────────┼────────────┼──────────┼───────┼──────────┤\n",
       "│ 1   │ 89.9317   │ 1   │ 0.787837 │ 0.543266   │ 1.0      │ 0     │ -100.0   │\n",
       "│ 2   │ 0.0       │ 2   │ 0        │ 0          │ 0.95     │ 0     │ -101.074 │\n",
       "│ 3   │ 0.0       │ 3   │ 0        │ 0          │ 0.980882 │ 0     │ -71.5095 │\n",
       "│ 4   │ 0.0       │ 4   │ 0        │ 0          │ 1.02742  │ 0     │ -25.1714 │\n",
       "│ 5   │ 0.0       │ 5   │ 0        │ 0          │ 1.0318   │ 0     │ -21.9673 │\n",
       "│ 6   │ 0.0       │ 6   │ 0        │ 0          │ 1.03618  │ 0     │ -19.0317 │\n",
       "│ 7   │ 0.0       │ 7   │ 0.507154 │ -0.124769  │ 1.05     │ 0     │ -10.9461 │\n",
       "│ 8   │ 0.0       │ 8   │ 0        │ 0          │ 1.02254  │ 0     │ -18.3719 │\n",
       "│ 9   │ 0.0       │ 9   │ 0        │ 0          │ 1.0327   │ 0     │ -18.3719 │\n",
       "│ 10  │ 0.0       │ 10  │ 0        │ 0          │ 1.03623  │ 0     │ -16.7013 │\n",
       "│ 11  │ 0.0       │ 11  │ 0        │ 0          │ 1.04568  │ 0     │ -12.6751 │\n",
       "│ 12  │ 0.0       │ 12  │ 0.510909 │ -0.0374967 │ 1.05     │ 0     │ -10.9544 │\n",
       "│ 13  │ 0.0       │ 13  │ 0        │ 0          │ 0.982619 │ 0     │ -100.0   │\n",
       "│ 14  │ 0.0       │ 14  │ 0        │ 0          │ 0.977795 │ 0     │ -100.0   │\n",
       "│ 15  │ 0.0       │ 15  │ 0        │ 0          │ 0.975027 │ 0     │ -100.0   │"
      ]
     },
     "metadata": {},
     "output_type": "display_data"
    }
   ],
   "source": [
    "experiment1 = Dict()\n",
    "\n",
    "# Load feeder data \n",
    "feeder = load_feeder(\"data/feeder_data/basecase_lv_noneg/\")\n",
    "\n",
    "# Set up\n",
    "relative_std = 0.2\n",
    "loads = [b.d_P for b in feeder.buses]\n",
    "std_vec = loads .* relative_std\n",
    "var_vec = std_vec.^2\n",
    "Σ = diagm(0 => var_vec)\n",
    "\n",
    "# ex1_general_settings\n",
    "ex1_general_settings = Dict(\n",
    "    \"var_vec\" => var_vec,\n",
    "    \"Σ\" => Σ,\n",
    "    \"z_g\" => 1.945,\n",
    "    \"z_v\" => 2.576,\n",
    "    \"toggle_volt_cc\" => false,\n",
    "    \"toggle_gen_cc\" => false,\n",
    "    \"vfac\" => 0, # directly sets symetric voltage limit to min:(1-vfac) max:(1+vfac), use import values if vfac=0\n",
    "    \"qcfac\" => 1,\n",
    "    \"output_level\" => 0,\n",
    "    \"Ψ\" => 0,\n",
    ")\n",
    "\n",
    "\n",
    "# ex1_no_uncert:\n",
    "ex1_no_uncert_settings = copy(ex1_general_settings)\n",
    "ex1_no_uncert_settings[\"toggle_volt_cc\"] = false\n",
    "ex1_no_uncert_settings[\"toggle_gen_cc\"] = false\n",
    "\n",
    "experiment1[\"no_uncert\"] = Dict(\n",
    "    \"verbose\" => \"ex1_no_uncert\",\n",
    "    \"feeder\" => feeder,\n",
    "    \"settings\" => ex1_no_uncert_settings,\n",
    ")\n",
    "\n",
    "# ex1_uncert:\n",
    "ex1_uncert_settings = copy(ex1_general_settings)\n",
    "ex1_uncert_settings[\"toggle_volt_cc\"] = true\n",
    "ex1_uncert_settings[\"toggle_gen_cc\"] = true\n",
    "experiment1[\"uncert\"] = Dict(\n",
    "    \"verbose\" => \"ex1_uncert\",\n",
    "    \"feeder\" => feeder,\n",
    "    \"settings\" => ex1_uncert_settings,\n",
    ")\n",
    "\n",
    "# ex1_gen_uncert:\n",
    "ex1_uncert_settings = copy(ex1_general_settings)\n",
    "ex1_uncert_settings[\"toggle_volt_cc\"] = false\n",
    "ex1_uncert_settings[\"toggle_gen_cc\"] = true\n",
    "experiment1[\"gen_uncert\"] = Dict(\n",
    "    \"verbose\" => \"ex1_gen_uncert\",\n",
    "    \"feeder\" => feeder,\n",
    "    \"settings\" => ex1_uncert_settings,\n",
    ")\n",
    "\n",
    "# Run \n",
    "experiment1 = run_experiment(experiment1)\n",
    "\n",
    "# Show results\n",
    "sleep(.2) # just to ensure correct printing order\n",
    "for case in keys(experiment1)\n",
    "    display(experiment1[case][\"results\"])\n",
    "end"
   ]
  },
  {
   "cell_type": "code",
   "execution_count": 3,
   "metadata": {},
   "outputs": [
    {
     "name": "stdout",
     "output_type": "stream",
     "text": [
      "Saving ex1_uncert\n",
      "Saving ex1_gen_uncert\n",
      "Saving ex1_no_uncert\n",
      ">>>> Saved with timestamp 190320_0927\n"
     ]
    }
   ],
   "source": [
    "save_experiment(\"experiment1\", experiment1)"
   ]
  },
  {
   "cell_type": "markdown",
   "metadata": {},
   "source": [
    "## Experiment 2\n",
    "\n",
    "Same as Experiment1 but with wider voltage constraints\n",
    "\n",
    "### Description\n",
    "\n",
    "Ex2:\n",
    "- tag: `experiment2` \n",
    "- bascase voltage (0.9-1.1) and `vfac = 0.02`: Resulting \"real\" voltage limits: ca. 0.91 - 1.09 (i.e. +- 9%)\n",
    "- all nodes have 20% standard deviation of their forecasted load\n",
    "- all parameters as in AP's paper, including the negative load (i.e. uncontrollable generator with the same standard deviation\n",
    "- substation balancing participation penalty is set to 1000 (i.e. quadratic cost term)\n",
    "\n",
    "Runs:\n",
    "- `ex2_no_uncert`: deterministic case\n",
    "- `ex2_uncert`: case with uncertainty\n",
    "- `ex2_gen_uncert`: chance constraints only in generation\n",
    "\n",
    "\n",
    "### Notes and Observations\n",
    "\n",
    "- Without uncertainty the network is \"uncongested\" so that price for active power is the same at all nodes\n",
    "- With uncertainty, some voltage constraints become binding and there are differences in the prices"
   ]
  },
  {
   "cell_type": "code",
   "execution_count": 64,
   "metadata": {},
   "outputs": [
    {
     "name": "stdout",
     "output_type": "stream",
     "text": [
      ">>>>> Reading feeder data from data/feeder_data/basecase_noneg/\n",
      "Running uncert\n",
      ">>>> Building Model\n",
      ">>>> Running Model\n",
      "MOSEK warning 705: #3 (nearly) zero elements are specified in sparse row ''(86) of matrix 'A'.\n",
      "MOSEK warning 705: #4 (nearly) zero elements are specified in sparse row ''(92) of matrix 'A'.\n",
      ">>>> Model finished with status OPTIMAL in 0.011754329 seconds\n",
      ">>>> Post-Processing\n",
      "\n",
      "Running gen_uncert\n",
      ">>>> Building Model\n",
      ">>>> Running Model\n",
      ">>>> Model finished with status OPTIMAL in 0.00326752 seconds\n",
      ">>>> Post-Processing\n",
      "\n",
      "Running no_uncert\n",
      ">>>> Building Model\n",
      ">>>> Running Model\n",
      ">>>> Model finished with status OPTIMAL in 0.002853764 seconds\n",
      ">>>> Post-Processing\n",
      "\n",
      ">>> Case uncert"
     ]
    },
    {
     "data": {
      "text/html": [
       "<table class=\"data-frame\"><thead><tr><th></th><th>objective</th><th>bus</th><th>gp</th><th>gq</th><th>voltage</th><th>alpha</th><th>lambda</th><th>pi</th><th>gamma</th><th>eta</th><th>delta_plus</th><th>delta_minus</th><th>mu_plus</th><th>mu_minus</th><th>voltvar</th><th>lambda_anc</th><th>rx_pi_i</th><th>rx_pi_a</th><th>r_sum_mu_d</th><th>eta_calc</th></tr><tr><th></th><th>Float64</th><th>Any</th><th>Any</th><th>Any</th><th>Any</th><th>Any</th><th>Any</th><th>Any</th><th>Float64</th><th>Any</th><th>Any</th><th>Any</th><th>Any</th><th>Any</th><th>Any</th><th>Any</th><th>Any</th><th>Any</th><th>Any</th><th>Any</th></tr></thead><tbody><p>15 rows × 20 columns</p><tr><th>1</th><td>42.1519</td><td>1</td><td>-0.0653151</td><td>0.933284</td><td>1.0</td><td>0.895129</td><td>-50.0</td><td>-3.34394e-9</td><td>-31.6735</td><td>0</td><td>0</td><td>0</td><td>0</td><td>0</td><td>0</td><td>0</td><td>0</td><td>0</td><td>0</td><td>0</td></tr><tr><th>2</th><td>0.0</td><td>2</td><td>0</td><td>0</td><td>0.900334</td><td>0</td><td>-50.137</td><td>-16.4401</td><td>0.0</td><td>-0.0512537</td><td>0</td><td>0</td><td>-7.25317e-8</td><td>-91.1244</td><td>0.000116804</td><td>-50.0</td><td>-0.137001</td><td>-2.78662e-11</td><td>0.137001</td><td>0.352195</td></tr><tr><th>3</th><td>0.0</td><td>3</td><td>0</td><td>0</td><td>0.960447</td><td>0</td><td>-46.1416</td><td>-10.7297</td><td>0.0</td><td>-0.0596395</td><td>0</td><td>0</td><td>-1.34272e-7</td><td>-7.07984e-7</td><td>0.0139108</td><td>-50.137</td><td>-7.5074</td><td>-11.5028</td><td>-3.99543</td><td>6.53764</td></tr><tr><th>4</th><td>0.0</td><td>4</td><td>0</td><td>0</td><td>1.04775</td><td>0</td><td>-39.8792</td><td>-1.7796</td><td>0.0</td><td>-0.0727832</td><td>0</td><td>0</td><td>-8.1725e-7</td><td>-1.40745e-7</td><td>0.0151213</td><td>-46.1416</td><td>-1.24518</td><td>-7.50755</td><td>-6.26237</td><td>16.2326</td></tr><tr><th>5</th><td>0.0</td><td>5</td><td>0</td><td>0</td><td>1.05393</td><td>0</td><td>-39.599</td><td>-1.37908</td><td>0.0</td><td>-0.0729688</td><td>0</td><td>0</td><td>-1.00029e-6</td><td>-1.2926e-7</td><td>0.0138768</td><td>-39.8792</td><td>-0.96485</td><td>-1.24507</td><td>-0.280217</td><td>16.6664</td></tr><tr><th>6</th><td>0.0</td><td>6</td><td>0</td><td>0</td><td>1.05993</td><td>0</td><td>-39.3422</td><td>-1.01084</td><td>0.0</td><td>-0.0731388</td><td>0</td><td>0</td><td>-1.28435e-6</td><td>-1.19442e-7</td><td>0.0126278</td><td>-39.599</td><td>-0.704766</td><td>-0.961509</td><td>-0.256743</td><td>17.0639</td></tr><tr><th>7</th><td>0.0</td><td>7</td><td>0.753981</td><td>-0.224743</td><td>1.0781</td><td>0.0393694</td><td>-38.6351</td><td>-1.166e-7</td><td>0.0</td><td>-0.0736071</td><td>-27.0216</td><td>-4.12736e-8</td><td>-7.33553</td><td>-9.70597e-8</td><td>0.00925916</td><td>-39.3422</td><td>-8.15695e-8</td><td>-0.707145</td><td>-0.707145</td><td>18.1587</td></tr><tr><th>8</th><td>0.0</td><td>8</td><td>0</td><td>0</td><td>1.06984</td><td>0</td><td>-37.0355</td><td>-2.28412</td><td>0.0</td><td>-0.0807118</td><td>0</td><td>0</td><td>-15.2886</td><td>-1.08976e-7</td><td>0.0127008</td><td>-38.6347</td><td>-1.59919</td><td>-1.66564e-7</td><td>-1.59919</td><td>20.635</td></tr><tr><th>9</th><td>0.0</td><td>9</td><td>0</td><td>0</td><td>1.06031</td><td>0</td><td>-38.6347</td><td>-2.37903e-7</td><td>0.0</td><td>-0.0762531</td><td>0</td><td>0</td><td>-1.49742e-6</td><td>-1.19298e-7</td><td>0.0131609</td><td>-39.8792</td><td>-1.66369e-7</td><td>-1.2445</td><td>-1.2445</td><td>18.1593</td></tr><tr><th>10</th><td>0.0</td><td>10</td><td>0</td><td>0</td><td>1.06184</td><td>0</td><td>-38.6347</td><td>-4.82992e-8</td><td>0.0</td><td>-0.0762531</td><td>0</td><td>0</td><td>-1.63767e-6</td><td>-1.16955e-7</td><td>0.0128837</td><td>-38.6347</td><td>-3.37757e-8</td><td>-1.66366e-7</td><td>-1.34105e-7</td><td>18.1593</td></tr><tr><th>11</th><td>0.0</td><td>11</td><td>0</td><td>0</td><td>1.0665</td><td>0</td><td>-38.6347</td><td>-3.05962e-7</td><td>0.0</td><td>-0.0762531</td><td>0</td><td>0</td><td>-2.33849e-6</td><td>-1.10408e-7</td><td>0.0120634</td><td>-38.6347</td><td>-2.1373e-7</td><td>-3.37394e-8</td><td>-2.49893e-7</td><td>18.1593</td></tr><tr><th>12</th><td>0.0</td><td>12</td><td>0.723434</td><td>-0.327542</td><td>1.06877</td><td>0.0655016</td><td>-38.6347</td><td>-3.92729e-7</td><td>0.0</td><td>-0.0762531</td><td>-27.0866</td><td>-4.16814e-8</td><td>-3.06394e-6</td><td>-1.07508e-7</td><td>0.0116838</td><td>-38.6347</td><td>-2.73318e-7</td><td>-2.12933e-7</td><td>-6.09025e-8</td><td>18.1593</td></tr><tr><th>13</th><td>0.0</td><td>13</td><td>0</td><td>0</td><td>0.982619</td><td>0</td><td>-50.0</td><td>-4.28119e-7</td><td>0.0</td><td>-7.82205e-11</td><td>0</td><td>0</td><td>0.0</td><td>-5.58159e-7</td><td>0.0197306</td><td>-50.0</td><td>-3.56766e-9</td><td>-2.78662e-11</td><td>3.53979e-9</td><td>5.48006e-9</td></tr><tr><th>14</th><td>0.0</td><td>14</td><td>0</td><td>0</td><td>0.977795</td><td>0</td><td>-50.0</td><td>-6.99306e-7</td><td>0.0</td><td>-1.21322e-8</td><td>0</td><td>0</td><td>0.0</td><td>-5.94295e-7</td><td>0.0185307</td><td>-50.0</td><td>-9.74279e-7</td><td>-5.96459e-7</td><td>3.7782e-7</td><td>5.90394e-7</td></tr><tr><th>15</th><td>0.0</td><td>15</td><td>0</td><td>0</td><td>0.975027</td><td>0</td><td>-50.0</td><td>-7.83772e-7</td><td>0.0</td><td>-1.22781e-8</td><td>0</td><td>0</td><td>0.0</td><td>-6.17442e-7</td><td>0.01785</td><td>-50.0</td><td>-1.09201e-6</td><td>-9.74325e-7</td><td>1.17684e-7</td><td>7.72585e-7</td></tr></tbody></table>"
      ],
      "text/latex": [
       "\\begin{tabular}{r|cccccccccccccccccccc}\n",
       "\t& objective & bus & gp & gq & voltage & alpha & lambda & pi & gamma & eta & delta\\_plus & delta\\_minus & mu\\_plus & mu\\_minus & voltvar & lambda\\_anc & rx\\_pi\\_i & rx\\_pi\\_a & r\\_sum\\_mu\\_d & eta\\_calc\\\\\n",
       "\t\\hline\n",
       "\t& Float64 & Any & Any & Any & Any & Any & Any & Any & Float64 & Any & Any & Any & Any & Any & Any & Any & Any & Any & Any & Any\\\\\n",
       "\t\\hline\n",
       "\t1 & 42.1519 & 1 & -0.0653151 & 0.933284 & 1.0 & 0.895129 & -50.0 & -3.34394e-9 & -31.6735 & 0 & 0 & 0 & 0 & 0 & 0 & 0 & 0 & 0 & 0 & 0 \\\\\n",
       "\t2 & 0.0 & 2 & 0 & 0 & 0.900334 & 0 & -50.137 & -16.4401 & 0.0 & -0.0512537 & 0 & 0 & -7.25317e-8 & -91.1244 & 0.000116804 & -50.0 & -0.137001 & -2.78662e-11 & 0.137001 & 0.352195 \\\\\n",
       "\t3 & 0.0 & 3 & 0 & 0 & 0.960447 & 0 & -46.1416 & -10.7297 & 0.0 & -0.0596395 & 0 & 0 & -1.34272e-7 & -7.07984e-7 & 0.0139108 & -50.137 & -7.5074 & -11.5028 & -3.99543 & 6.53764 \\\\\n",
       "\t4 & 0.0 & 4 & 0 & 0 & 1.04775 & 0 & -39.8792 & -1.7796 & 0.0 & -0.0727832 & 0 & 0 & -8.1725e-7 & -1.40745e-7 & 0.0151213 & -46.1416 & -1.24518 & -7.50755 & -6.26237 & 16.2326 \\\\\n",
       "\t5 & 0.0 & 5 & 0 & 0 & 1.05393 & 0 & -39.599 & -1.37908 & 0.0 & -0.0729688 & 0 & 0 & -1.00029e-6 & -1.2926e-7 & 0.0138768 & -39.8792 & -0.96485 & -1.24507 & -0.280217 & 16.6664 \\\\\n",
       "\t6 & 0.0 & 6 & 0 & 0 & 1.05993 & 0 & -39.3422 & -1.01084 & 0.0 & -0.0731388 & 0 & 0 & -1.28435e-6 & -1.19442e-7 & 0.0126278 & -39.599 & -0.704766 & -0.961509 & -0.256743 & 17.0639 \\\\\n",
       "\t7 & 0.0 & 7 & 0.753981 & -0.224743 & 1.0781 & 0.0393694 & -38.6351 & -1.166e-7 & 0.0 & -0.0736071 & -27.0216 & -4.12736e-8 & -7.33553 & -9.70597e-8 & 0.00925916 & -39.3422 & -8.15695e-8 & -0.707145 & -0.707145 & 18.1587 \\\\\n",
       "\t8 & 0.0 & 8 & 0 & 0 & 1.06984 & 0 & -37.0355 & -2.28412 & 0.0 & -0.0807118 & 0 & 0 & -15.2886 & -1.08976e-7 & 0.0127008 & -38.6347 & -1.59919 & -1.66564e-7 & -1.59919 & 20.635 \\\\\n",
       "\t9 & 0.0 & 9 & 0 & 0 & 1.06031 & 0 & -38.6347 & -2.37903e-7 & 0.0 & -0.0762531 & 0 & 0 & -1.49742e-6 & -1.19298e-7 & 0.0131609 & -39.8792 & -1.66369e-7 & -1.2445 & -1.2445 & 18.1593 \\\\\n",
       "\t10 & 0.0 & 10 & 0 & 0 & 1.06184 & 0 & -38.6347 & -4.82992e-8 & 0.0 & -0.0762531 & 0 & 0 & -1.63767e-6 & -1.16955e-7 & 0.0128837 & -38.6347 & -3.37757e-8 & -1.66366e-7 & -1.34105e-7 & 18.1593 \\\\\n",
       "\t11 & 0.0 & 11 & 0 & 0 & 1.0665 & 0 & -38.6347 & -3.05962e-7 & 0.0 & -0.0762531 & 0 & 0 & -2.33849e-6 & -1.10408e-7 & 0.0120634 & -38.6347 & -2.1373e-7 & -3.37394e-8 & -2.49893e-7 & 18.1593 \\\\\n",
       "\t12 & 0.0 & 12 & 0.723434 & -0.327542 & 1.06877 & 0.0655016 & -38.6347 & -3.92729e-7 & 0.0 & -0.0762531 & -27.0866 & -4.16814e-8 & -3.06394e-6 & -1.07508e-7 & 0.0116838 & -38.6347 & -2.73318e-7 & -2.12933e-7 & -6.09025e-8 & 18.1593 \\\\\n",
       "\t13 & 0.0 & 13 & 0 & 0 & 0.982619 & 0 & -50.0 & -4.28119e-7 & 0.0 & -7.82205e-11 & 0 & 0 & 0.0 & -5.58159e-7 & 0.0197306 & -50.0 & -3.56766e-9 & -2.78662e-11 & 3.53979e-9 & 5.48006e-9 \\\\\n",
       "\t14 & 0.0 & 14 & 0 & 0 & 0.977795 & 0 & -50.0 & -6.99306e-7 & 0.0 & -1.21322e-8 & 0 & 0 & 0.0 & -5.94295e-7 & 0.0185307 & -50.0 & -9.74279e-7 & -5.96459e-7 & 3.7782e-7 & 5.90394e-7 \\\\\n",
       "\t15 & 0.0 & 15 & 0 & 0 & 0.975027 & 0 & -50.0 & -7.83772e-7 & 0.0 & -1.22781e-8 & 0 & 0 & 0.0 & -6.17442e-7 & 0.01785 & -50.0 & -1.09201e-6 & -9.74325e-7 & 1.17684e-7 & 7.72585e-7 \\\\\n",
       "\\end{tabular}\n"
      ],
      "text/plain": [
       "15×20 DataFrame. Omitted printing of 14 columns\n",
       "│ Row │ objective │ bus │ gp         │ gq        │ voltage  │ alpha     │\n",
       "│     │ \u001b[90mFloat64\u001b[39m   │ \u001b[90mAny\u001b[39m │ \u001b[90mAny\u001b[39m        │ \u001b[90mAny\u001b[39m       │ \u001b[90mAny\u001b[39m      │ \u001b[90mAny\u001b[39m       │\n",
       "├─────┼───────────┼─────┼────────────┼───────────┼──────────┼───────────┤\n",
       "│ 1   │ 42.1519   │ 1   │ -0.0653151 │ 0.933284  │ 1.0      │ 0.895129  │\n",
       "│ 2   │ 0.0       │ 2   │ 0          │ 0         │ 0.900334 │ 0         │\n",
       "│ 3   │ 0.0       │ 3   │ 0          │ 0         │ 0.960447 │ 0         │\n",
       "│ 4   │ 0.0       │ 4   │ 0          │ 0         │ 1.04775  │ 0         │\n",
       "│ 5   │ 0.0       │ 5   │ 0          │ 0         │ 1.05393  │ 0         │\n",
       "│ 6   │ 0.0       │ 6   │ 0          │ 0         │ 1.05993  │ 0         │\n",
       "│ 7   │ 0.0       │ 7   │ 0.753981   │ -0.224743 │ 1.0781   │ 0.0393694 │\n",
       "│ 8   │ 0.0       │ 8   │ 0          │ 0         │ 1.06984  │ 0         │\n",
       "│ 9   │ 0.0       │ 9   │ 0          │ 0         │ 1.06031  │ 0         │\n",
       "│ 10  │ 0.0       │ 10  │ 0          │ 0         │ 1.06184  │ 0         │\n",
       "│ 11  │ 0.0       │ 11  │ 0          │ 0         │ 1.0665   │ 0         │\n",
       "│ 12  │ 0.0       │ 12  │ 0.723434   │ -0.327542 │ 1.06877  │ 0.0655016 │\n",
       "│ 13  │ 0.0       │ 13  │ 0          │ 0         │ 0.982619 │ 0         │\n",
       "│ 14  │ 0.0       │ 14  │ 0          │ 0         │ 0.977795 │ 0         │\n",
       "│ 15  │ 0.0       │ 15  │ 0          │ 0         │ 0.975027 │ 0         │"
      ]
     },
     "metadata": {},
     "output_type": "display_data"
    },
    {
     "name": "stdout",
     "output_type": "stream",
     "text": [
      ">>> Case gen_uncert"
     ]
    },
    {
     "data": {
      "text/html": [
       "<table class=\"data-frame\"><thead><tr><th></th><th>objective</th><th>bus</th><th>gp</th><th>gq</th><th>voltage</th><th>alpha</th><th>lambda</th><th>pi</th><th>gamma</th><th>eta</th><th>delta_plus</th><th>delta_minus</th><th>mu_plus</th><th>mu_minus</th><th>voltvar</th><th>lambda_anc</th><th>rx_pi_i</th><th>rx_pi_a</th><th>r_sum_mu_d</th><th>eta_calc</th></tr><tr><th></th><th>Float64</th><th>Any</th><th>Any</th><th>Any</th><th>Any</th><th>Any</th><th>Any</th><th>Any</th><th>Float64</th><th>Any</th><th>Any</th><th>Any</th><th>Any</th><th>Any</th><th>Any</th><th>Any</th><th>Any</th><th>Any</th><th>Any</th><th>Any</th></tr></thead><tbody><p>15 rows × 20 columns</p><tr><th>1</th><td>40.8639</td><td>1</td><td>-0.178548</td><td>0.936735</td><td>1.0</td><td>0.991999</td><td>-50.0</td><td>0.0</td><td>-31.6228</td><td>0</td><td>0</td><td>0</td><td>0</td><td>0</td><td>0</td><td>0</td><td>0</td><td>0</td><td>0</td><td>0</td></tr><tr><th>2</th><td>0.0</td><td>2</td><td>0</td><td>0</td><td>0.9</td><td>0</td><td>-50.137</td><td>-16.4434</td><td>0.0</td><td>0</td><td>0</td><td>0</td><td>-1.72055e-7</td><td>-89.8818</td><td>0</td><td>-50.0</td><td>-0.137028</td><td>0.0</td><td>0.137028</td><td>0</td></tr><tr><th>3</th><td>0.0</td><td>3</td><td>0</td><td>0</td><td>0.970042</td><td>0</td><td>-46.3635</td><td>-11.0502</td><td>0.0</td><td>0</td><td>0</td><td>0</td><td>-2.54583e-7</td><td>-5.49002e-7</td><td>0</td><td>-50.137</td><td>-7.73166</td><td>-11.5052</td><td>-3.77352</td><td>0</td></tr><tr><th>4</th><td>0.0</td><td>4</td><td>0</td><td>0</td><td>1.07065</td><td>0</td><td>-40.449</td><td>-2.59722</td><td>0.0</td><td>0</td><td>0</td><td>0</td><td>-9.59515e-7</td><td>-2.23619e-7</td><td>0</td><td>-46.3635</td><td>-1.81726</td><td>-7.73181</td><td>-5.91455</td><td>0</td></tr><tr><th>5</th><td>0.0</td><td>5</td><td>0</td><td>0</td><td>1.07661</td><td>0</td><td>-40.04</td><td>-2.01268</td><td>0.0</td><td>0</td><td>0</td><td>0</td><td>-1.17318e-6</td><td>-2.15976e-7</td><td>0</td><td>-40.449</td><td>-1.40814</td><td>-1.8171</td><td>-0.40896</td><td>0</td></tr><tr><th>6</th><td>0.0</td><td>6</td><td>0</td><td>0</td><td>1.08241</td><td>0</td><td>-39.6653</td><td>-1.47525</td><td>0.0</td><td>0</td><td>0</td><td>0</td><td>-1.55208e-6</td><td>-2.08842e-7</td><td>0</td><td>-40.04</td><td>-1.02856</td><td>-1.40326</td><td>-0.374702</td><td>0</td></tr><tr><th>7</th><td>0.0</td><td>7</td><td>0.795088</td><td>-0.256772</td><td>1.1</td><td>0.00420203</td><td>-38.6333</td><td>-2.55533e-7</td><td>0.0</td><td>0</td><td>-27.0526</td><td>-8.45207e-8</td><td>-10.7058</td><td>-1.8894e-7</td><td>0</td><td>-39.6653</td><td>-1.78762e-7</td><td>-1.03204</td><td>-1.03204</td><td>0</td></tr><tr><th>8</th><td>0.0</td><td>8</td><td>0</td><td>0</td><td>1.09648</td><td>0</td><td>-39.5811</td><td>-1.35618</td><td>0.0</td><td>0</td><td>0</td><td>0</td><td>-2.43817e-5</td><td>-0.0</td><td>0</td><td>-39.5811</td><td>-0.949505</td><td>-0.949508</td><td>-2.55033e-6</td><td>0</td></tr><tr><th>9</th><td>0.0</td><td>9</td><td>0</td><td>0</td><td>1.08718</td><td>0</td><td>-39.5811</td><td>-1.35618</td><td>0.0</td><td>0</td><td>0</td><td>0</td><td>-0.0</td><td>-1.99051e-7</td><td>0</td><td>-40.449</td><td>-0.948394</td><td>-1.81627</td><td>-0.867873</td><td>0</td></tr><tr><th>10</th><td>0.0</td><td>10</td><td>0</td><td>0</td><td>1.08971</td><td>0</td><td>-39.3679</td><td>-1.05125</td><td>0.0</td><td>0</td><td>0</td><td>0</td><td>-3.19807e-6</td><td>-1.9583e-7</td><td>0</td><td>-39.5811</td><td>-0.735142</td><td>-0.948378</td><td>-0.213236</td><td>0</td></tr><tr><th>11</th><td>0.0</td><td>11</td><td>0</td><td>0</td><td>1.09674</td><td>0</td><td>-38.854</td><td>-0.315588</td><td>0.0</td><td>0</td><td>0</td><td>0</td><td>-3.47153e-5</td><td>-1.87212e-7</td><td>0</td><td>-39.3679</td><td>-0.220454</td><td>-0.734353</td><td>-0.513899</td><td>0</td></tr><tr><th>12</th><td>0.0</td><td>12</td><td>0.79556</td><td>-0.298963</td><td>1.1</td><td>0.00379866</td><td>-38.6343</td><td>-5.02004e-7</td><td>0.0</td><td>0</td><td>-27.0527</td><td>-8.25944e-8</td><td>-10.6618</td><td>-1.83392e-7</td><td>0</td><td>-38.854</td><td>-3.49368e-7</td><td>-0.219632</td><td>-0.219632</td><td>0</td></tr><tr><th>13</th><td>0.0</td><td>13</td><td>0</td><td>0</td><td>0.982619</td><td>0</td><td>-50.0</td><td>0.0</td><td>0.0</td><td>0</td><td>0</td><td>0</td><td>-0.0</td><td>-0.0</td><td>0</td><td>-50.0</td><td>0.0</td><td>0.0</td><td>0.0</td><td>0</td></tr><tr><th>14</th><td>0.0</td><td>14</td><td>0</td><td>0</td><td>0.977795</td><td>0</td><td>-50.0</td><td>0.0</td><td>0.0</td><td>0</td><td>0</td><td>0</td><td>-0.0</td><td>-0.0</td><td>0</td><td>-50.0</td><td>0.0</td><td>0.0</td><td>0.0</td><td>0</td></tr><tr><th>15</th><td>0.0</td><td>15</td><td>0</td><td>0</td><td>0.975027</td><td>0</td><td>-50.0</td><td>0.0</td><td>0.0</td><td>0</td><td>0</td><td>0</td><td>-0.0</td><td>-0.0</td><td>0</td><td>-50.0</td><td>0.0</td><td>0.0</td><td>0.0</td><td>0</td></tr></tbody></table>"
      ],
      "text/latex": [
       "\\begin{tabular}{r|cccccccccccccccccccc}\n",
       "\t& objective & bus & gp & gq & voltage & alpha & lambda & pi & gamma & eta & delta\\_plus & delta\\_minus & mu\\_plus & mu\\_minus & voltvar & lambda\\_anc & rx\\_pi\\_i & rx\\_pi\\_a & r\\_sum\\_mu\\_d & eta\\_calc\\\\\n",
       "\t\\hline\n",
       "\t& Float64 & Any & Any & Any & Any & Any & Any & Any & Float64 & Any & Any & Any & Any & Any & Any & Any & Any & Any & Any & Any\\\\\n",
       "\t\\hline\n",
       "\t1 & 40.8639 & 1 & -0.178548 & 0.936735 & 1.0 & 0.991999 & -50.0 & 0.0 & -31.6228 & 0 & 0 & 0 & 0 & 0 & 0 & 0 & 0 & 0 & 0 & 0 \\\\\n",
       "\t2 & 0.0 & 2 & 0 & 0 & 0.9 & 0 & -50.137 & -16.4434 & 0.0 & 0 & 0 & 0 & -1.72055e-7 & -89.8818 & 0 & -50.0 & -0.137028 & 0.0 & 0.137028 & 0 \\\\\n",
       "\t3 & 0.0 & 3 & 0 & 0 & 0.970042 & 0 & -46.3635 & -11.0502 & 0.0 & 0 & 0 & 0 & -2.54583e-7 & -5.49002e-7 & 0 & -50.137 & -7.73166 & -11.5052 & -3.77352 & 0 \\\\\n",
       "\t4 & 0.0 & 4 & 0 & 0 & 1.07065 & 0 & -40.449 & -2.59722 & 0.0 & 0 & 0 & 0 & -9.59515e-7 & -2.23619e-7 & 0 & -46.3635 & -1.81726 & -7.73181 & -5.91455 & 0 \\\\\n",
       "\t5 & 0.0 & 5 & 0 & 0 & 1.07661 & 0 & -40.04 & -2.01268 & 0.0 & 0 & 0 & 0 & -1.17318e-6 & -2.15976e-7 & 0 & -40.449 & -1.40814 & -1.8171 & -0.40896 & 0 \\\\\n",
       "\t6 & 0.0 & 6 & 0 & 0 & 1.08241 & 0 & -39.6653 & -1.47525 & 0.0 & 0 & 0 & 0 & -1.55208e-6 & -2.08842e-7 & 0 & -40.04 & -1.02856 & -1.40326 & -0.374702 & 0 \\\\\n",
       "\t7 & 0.0 & 7 & 0.795088 & -0.256772 & 1.1 & 0.00420203 & -38.6333 & -2.55533e-7 & 0.0 & 0 & -27.0526 & -8.45207e-8 & -10.7058 & -1.8894e-7 & 0 & -39.6653 & -1.78762e-7 & -1.03204 & -1.03204 & 0 \\\\\n",
       "\t8 & 0.0 & 8 & 0 & 0 & 1.09648 & 0 & -39.5811 & -1.35618 & 0.0 & 0 & 0 & 0 & -2.43817e-5 & -0.0 & 0 & -39.5811 & -0.949505 & -0.949508 & -2.55033e-6 & 0 \\\\\n",
       "\t9 & 0.0 & 9 & 0 & 0 & 1.08718 & 0 & -39.5811 & -1.35618 & 0.0 & 0 & 0 & 0 & -0.0 & -1.99051e-7 & 0 & -40.449 & -0.948394 & -1.81627 & -0.867873 & 0 \\\\\n",
       "\t10 & 0.0 & 10 & 0 & 0 & 1.08971 & 0 & -39.3679 & -1.05125 & 0.0 & 0 & 0 & 0 & -3.19807e-6 & -1.9583e-7 & 0 & -39.5811 & -0.735142 & -0.948378 & -0.213236 & 0 \\\\\n",
       "\t11 & 0.0 & 11 & 0 & 0 & 1.09674 & 0 & -38.854 & -0.315588 & 0.0 & 0 & 0 & 0 & -3.47153e-5 & -1.87212e-7 & 0 & -39.3679 & -0.220454 & -0.734353 & -0.513899 & 0 \\\\\n",
       "\t12 & 0.0 & 12 & 0.79556 & -0.298963 & 1.1 & 0.00379866 & -38.6343 & -5.02004e-7 & 0.0 & 0 & -27.0527 & -8.25944e-8 & -10.6618 & -1.83392e-7 & 0 & -38.854 & -3.49368e-7 & -0.219632 & -0.219632 & 0 \\\\\n",
       "\t13 & 0.0 & 13 & 0 & 0 & 0.982619 & 0 & -50.0 & 0.0 & 0.0 & 0 & 0 & 0 & -0.0 & -0.0 & 0 & -50.0 & 0.0 & 0.0 & 0.0 & 0 \\\\\n",
       "\t14 & 0.0 & 14 & 0 & 0 & 0.977795 & 0 & -50.0 & 0.0 & 0.0 & 0 & 0 & 0 & -0.0 & -0.0 & 0 & -50.0 & 0.0 & 0.0 & 0.0 & 0 \\\\\n",
       "\t15 & 0.0 & 15 & 0 & 0 & 0.975027 & 0 & -50.0 & 0.0 & 0.0 & 0 & 0 & 0 & -0.0 & -0.0 & 0 & -50.0 & 0.0 & 0.0 & 0.0 & 0 \\\\\n",
       "\\end{tabular}\n"
      ],
      "text/plain": [
       "15×20 DataFrame. Omitted printing of 14 columns\n",
       "│ Row │ objective │ bus │ gp        │ gq        │ voltage  │ alpha      │\n",
       "│     │ \u001b[90mFloat64\u001b[39m   │ \u001b[90mAny\u001b[39m │ \u001b[90mAny\u001b[39m       │ \u001b[90mAny\u001b[39m       │ \u001b[90mAny\u001b[39m      │ \u001b[90mAny\u001b[39m        │\n",
       "├─────┼───────────┼─────┼───────────┼───────────┼──────────┼────────────┤\n",
       "│ 1   │ 40.8639   │ 1   │ -0.178548 │ 0.936735  │ 1.0      │ 0.991999   │\n",
       "│ 2   │ 0.0       │ 2   │ 0         │ 0         │ 0.9      │ 0          │\n",
       "│ 3   │ 0.0       │ 3   │ 0         │ 0         │ 0.970042 │ 0          │\n",
       "│ 4   │ 0.0       │ 4   │ 0         │ 0         │ 1.07065  │ 0          │\n",
       "│ 5   │ 0.0       │ 5   │ 0         │ 0         │ 1.07661  │ 0          │\n",
       "│ 6   │ 0.0       │ 6   │ 0         │ 0         │ 1.08241  │ 0          │\n",
       "│ 7   │ 0.0       │ 7   │ 0.795088  │ -0.256772 │ 1.1      │ 0.00420203 │\n",
       "│ 8   │ 0.0       │ 8   │ 0         │ 0         │ 1.09648  │ 0          │\n",
       "│ 9   │ 0.0       │ 9   │ 0         │ 0         │ 1.08718  │ 0          │\n",
       "│ 10  │ 0.0       │ 10  │ 0         │ 0         │ 1.08971  │ 0          │\n",
       "│ 11  │ 0.0       │ 11  │ 0         │ 0         │ 1.09674  │ 0          │\n",
       "│ 12  │ 0.0       │ 12  │ 0.79556   │ -0.298963 │ 1.1      │ 0.00379866 │\n",
       "│ 13  │ 0.0       │ 13  │ 0         │ 0         │ 0.982619 │ 0          │\n",
       "│ 14  │ 0.0       │ 14  │ 0         │ 0         │ 0.977795 │ 0          │\n",
       "│ 15  │ 0.0       │ 15  │ 0         │ 0         │ 0.975027 │ 0          │"
      ]
     },
     "metadata": {},
     "output_type": "display_data"
    },
    {
     "name": "stdout",
     "output_type": "stream",
     "text": [
      ">>> Case no_uncert"
     ]
    },
    {
     "data": {
      "text/html": [
       "<table class=\"data-frame\"><thead><tr><th></th><th>objective</th><th>bus</th><th>gp</th><th>gq</th><th>voltage</th><th>alpha</th><th>lambda</th><th>pi</th><th>gamma</th><th>eta</th><th>delta_plus</th><th>delta_minus</th><th>mu_plus</th><th>mu_minus</th><th>voltvar</th><th>lambda_anc</th><th>rx_pi_i</th><th>rx_pi_a</th><th>r_sum_mu_d</th><th>eta_calc</th></tr><tr><th></th><th>Float64</th><th>Any</th><th>Any</th><th>Any</th><th>Any</th><th>Any</th><th>Any</th><th>Any</th><th>Float64</th><th>Any</th><th>Any</th><th>Any</th><th>Any</th><th>Any</th><th>Any</th><th>Any</th><th>Any</th><th>Any</th><th>Any</th><th>Any</th></tr></thead><tbody><p>15 rows × 20 columns</p><tr><th>1</th><td>8.49057</td><td>1</td><td>-0.178548</td><td>0.936735</td><td>1.0</td><td>0</td><td>-50.0</td><td>0.0</td><td>0.0</td><td>0</td><td>0</td><td>0</td><td>0</td><td>0</td><td>0</td><td>0</td><td>0</td><td>0</td><td>0</td><td>0</td></tr><tr><th>2</th><td>0.0</td><td>2</td><td>0</td><td>0</td><td>0.9</td><td>0</td><td>-50.4708</td><td>-56.4929</td><td>0.0</td><td>0</td><td>0</td><td>0</td><td>-0.0</td><td>-308.797</td><td>0</td><td>-50.0</td><td>-0.470774</td><td>0.0</td><td>0.470774</td><td>0</td></tr><tr><th>3</th><td>0.0</td><td>3</td><td>0</td><td>0</td><td>0.970042</td><td>0</td><td>-37.5065</td><td>-37.9641</td><td>0.0</td><td>0</td><td>0</td><td>0</td><td>-5.98486e-7</td><td>-1.23903e-6</td><td>0</td><td>-50.4708</td><td>-26.5628</td><td>-39.5271</td><td>-12.9643</td><td>0</td></tr><tr><th>4</th><td>0.0</td><td>4</td><td>0</td><td>0</td><td>1.07065</td><td>0</td><td>-17.1865</td><td>-8.92298</td><td>0.0</td><td>0</td><td>0</td><td>0</td><td>-2.74113e-6</td><td>-4.58805e-7</td><td>0</td><td>-37.5065</td><td>-6.24338</td><td>-26.5634</td><td>-20.32</td><td>0</td></tr><tr><th>5</th><td>0.0</td><td>5</td><td>0</td><td>0</td><td>1.07661</td><td>0</td><td>-15.7815</td><td>-6.91476</td><td>0.0</td><td>0</td><td>0</td><td>0</td><td>-3.47323e-6</td><td>-4.40339e-7</td><td>0</td><td>-17.1865</td><td>-4.8378</td><td>-6.24282</td><td>-1.40502</td><td>0</td></tr><tr><th>6</th><td>0.0</td><td>6</td><td>0</td><td>0</td><td>1.08241</td><td>0</td><td>-14.4942</td><td>-5.06837</td><td>0.0</td><td>0</td><td>0</td><td>0</td><td>-4.64203e-6</td><td>-4.23712e-7</td><td>0</td><td>-15.7815</td><td>-3.53373</td><td>-4.82105</td><td>-1.28732</td><td>0</td></tr><tr><th>7</th><td>0.0</td><td>7</td><td>0.793932</td><td>-0.255964</td><td>1.1</td><td>0</td><td>-10.9485</td><td>-9.33885e-7</td><td>0.0</td><td>0</td><td>-4.86351e-5</td><td>-1.82238e-7</td><td>-36.7806</td><td>-3.798e-7</td><td>0</td><td>-14.4942</td><td>-6.53313e-7</td><td>-3.54565</td><td>-3.54565</td><td>0</td></tr><tr><th>8</th><td>0.0</td><td>8</td><td>0</td><td>0</td><td>1.09648</td><td>0</td><td>-14.2049</td><td>-4.65928</td><td>0.0</td><td>0</td><td>0</td><td>0</td><td>-3.01682e-5</td><td>-0.0</td><td>0</td><td>-14.2049</td><td>-3.26212</td><td>-3.26213</td><td>-3.15559e-6</td><td>0</td></tr><tr><th>9</th><td>0.0</td><td>9</td><td>0</td><td>0</td><td>1.08718</td><td>0</td><td>-14.2049</td><td>-4.65929</td><td>0.0</td><td>0</td><td>0</td><td>0</td><td>-0.0</td><td>-4.15153e-7</td><td>0</td><td>-17.1865</td><td>-3.2583</td><td>-6.23996</td><td>-2.98166</td><td>0</td></tr><tr><th>10</th><td>0.0</td><td>10</td><td>0</td><td>0</td><td>1.08971</td><td>0</td><td>-13.4723</td><td>-3.61168</td><td>0.0</td><td>0</td><td>0</td><td>0</td><td>-8.26559e-6</td><td>-4.09258e-7</td><td>0</td><td>-14.2049</td><td>-2.52565</td><td>-3.25824</td><td>-0.732593</td><td>0</td></tr><tr><th>11</th><td>0.0</td><td>11</td><td>0</td><td>0</td><td>1.09674</td><td>0</td><td>-11.7067</td><td>-1.08423</td><td>0.0</td><td>0</td><td>0</td><td>0</td><td>-3.53861e-5</td><td>-3.93576e-7</td><td>0</td><td>-13.4723</td><td>-0.757393</td><td>-2.52294</td><td>-1.76555</td><td>0</td></tr><tr><th>12</th><td>0.0</td><td>12</td><td>0.796716</td><td>-0.299771</td><td>1.1</td><td>0</td><td>-10.9522</td><td>-1.57868e-6</td><td>0.0</td><td>0</td><td>-0.000166394</td><td>-1.81452e-7</td><td>-36.6296</td><td>-3.86626e-7</td><td>0</td><td>-11.7067</td><td>-1.09868e-6</td><td>-0.754569</td><td>-0.75457</td><td>0</td></tr><tr><th>13</th><td>0.0</td><td>13</td><td>0</td><td>0</td><td>0.982619</td><td>0</td><td>-50.0</td><td>0.0</td><td>0.0</td><td>0</td><td>0</td><td>0</td><td>-0.0</td><td>-0.0</td><td>0</td><td>-50.0</td><td>0.0</td><td>0.0</td><td>0.0</td><td>0</td></tr><tr><th>14</th><td>0.0</td><td>14</td><td>0</td><td>0</td><td>0.977795</td><td>0</td><td>-50.0</td><td>0.0</td><td>0.0</td><td>0</td><td>0</td><td>0</td><td>-0.0</td><td>-0.0</td><td>0</td><td>-50.0</td><td>0.0</td><td>0.0</td><td>0.0</td><td>0</td></tr><tr><th>15</th><td>0.0</td><td>15</td><td>0</td><td>0</td><td>0.975027</td><td>0</td><td>-50.0</td><td>0.0</td><td>0.0</td><td>0</td><td>0</td><td>0</td><td>-0.0</td><td>-0.0</td><td>0</td><td>-50.0</td><td>0.0</td><td>0.0</td><td>0.0</td><td>0</td></tr></tbody></table>"
      ],
      "text/latex": [
       "\\begin{tabular}{r|cccccccccccccccccccc}\n",
       "\t& objective & bus & gp & gq & voltage & alpha & lambda & pi & gamma & eta & delta\\_plus & delta\\_minus & mu\\_plus & mu\\_minus & voltvar & lambda\\_anc & rx\\_pi\\_i & rx\\_pi\\_a & r\\_sum\\_mu\\_d & eta\\_calc\\\\\n",
       "\t\\hline\n",
       "\t& Float64 & Any & Any & Any & Any & Any & Any & Any & Float64 & Any & Any & Any & Any & Any & Any & Any & Any & Any & Any & Any\\\\\n",
       "\t\\hline\n",
       "\t1 & 8.49057 & 1 & -0.178548 & 0.936735 & 1.0 & 0 & -50.0 & 0.0 & 0.0 & 0 & 0 & 0 & 0 & 0 & 0 & 0 & 0 & 0 & 0 & 0 \\\\\n",
       "\t2 & 0.0 & 2 & 0 & 0 & 0.9 & 0 & -50.4708 & -56.4929 & 0.0 & 0 & 0 & 0 & -0.0 & -308.797 & 0 & -50.0 & -0.470774 & 0.0 & 0.470774 & 0 \\\\\n",
       "\t3 & 0.0 & 3 & 0 & 0 & 0.970042 & 0 & -37.5065 & -37.9641 & 0.0 & 0 & 0 & 0 & -5.98486e-7 & -1.23903e-6 & 0 & -50.4708 & -26.5628 & -39.5271 & -12.9643 & 0 \\\\\n",
       "\t4 & 0.0 & 4 & 0 & 0 & 1.07065 & 0 & -17.1865 & -8.92298 & 0.0 & 0 & 0 & 0 & -2.74113e-6 & -4.58805e-7 & 0 & -37.5065 & -6.24338 & -26.5634 & -20.32 & 0 \\\\\n",
       "\t5 & 0.0 & 5 & 0 & 0 & 1.07661 & 0 & -15.7815 & -6.91476 & 0.0 & 0 & 0 & 0 & -3.47323e-6 & -4.40339e-7 & 0 & -17.1865 & -4.8378 & -6.24282 & -1.40502 & 0 \\\\\n",
       "\t6 & 0.0 & 6 & 0 & 0 & 1.08241 & 0 & -14.4942 & -5.06837 & 0.0 & 0 & 0 & 0 & -4.64203e-6 & -4.23712e-7 & 0 & -15.7815 & -3.53373 & -4.82105 & -1.28732 & 0 \\\\\n",
       "\t7 & 0.0 & 7 & 0.793932 & -0.255964 & 1.1 & 0 & -10.9485 & -9.33885e-7 & 0.0 & 0 & -4.86351e-5 & -1.82238e-7 & -36.7806 & -3.798e-7 & 0 & -14.4942 & -6.53313e-7 & -3.54565 & -3.54565 & 0 \\\\\n",
       "\t8 & 0.0 & 8 & 0 & 0 & 1.09648 & 0 & -14.2049 & -4.65928 & 0.0 & 0 & 0 & 0 & -3.01682e-5 & -0.0 & 0 & -14.2049 & -3.26212 & -3.26213 & -3.15559e-6 & 0 \\\\\n",
       "\t9 & 0.0 & 9 & 0 & 0 & 1.08718 & 0 & -14.2049 & -4.65929 & 0.0 & 0 & 0 & 0 & -0.0 & -4.15153e-7 & 0 & -17.1865 & -3.2583 & -6.23996 & -2.98166 & 0 \\\\\n",
       "\t10 & 0.0 & 10 & 0 & 0 & 1.08971 & 0 & -13.4723 & -3.61168 & 0.0 & 0 & 0 & 0 & -8.26559e-6 & -4.09258e-7 & 0 & -14.2049 & -2.52565 & -3.25824 & -0.732593 & 0 \\\\\n",
       "\t11 & 0.0 & 11 & 0 & 0 & 1.09674 & 0 & -11.7067 & -1.08423 & 0.0 & 0 & 0 & 0 & -3.53861e-5 & -3.93576e-7 & 0 & -13.4723 & -0.757393 & -2.52294 & -1.76555 & 0 \\\\\n",
       "\t12 & 0.0 & 12 & 0.796716 & -0.299771 & 1.1 & 0 & -10.9522 & -1.57868e-6 & 0.0 & 0 & -0.000166394 & -1.81452e-7 & -36.6296 & -3.86626e-7 & 0 & -11.7067 & -1.09868e-6 & -0.754569 & -0.75457 & 0 \\\\\n",
       "\t13 & 0.0 & 13 & 0 & 0 & 0.982619 & 0 & -50.0 & 0.0 & 0.0 & 0 & 0 & 0 & -0.0 & -0.0 & 0 & -50.0 & 0.0 & 0.0 & 0.0 & 0 \\\\\n",
       "\t14 & 0.0 & 14 & 0 & 0 & 0.977795 & 0 & -50.0 & 0.0 & 0.0 & 0 & 0 & 0 & -0.0 & -0.0 & 0 & -50.0 & 0.0 & 0.0 & 0.0 & 0 \\\\\n",
       "\t15 & 0.0 & 15 & 0 & 0 & 0.975027 & 0 & -50.0 & 0.0 & 0.0 & 0 & 0 & 0 & -0.0 & -0.0 & 0 & -50.0 & 0.0 & 0.0 & 0.0 & 0 \\\\\n",
       "\\end{tabular}\n"
      ],
      "text/plain": [
       "15×20 DataFrame. Omitted printing of 13 columns\n",
       "│ Row │ objective │ bus │ gp        │ gq        │ voltage  │ alpha │ lambda   │\n",
       "│     │ \u001b[90mFloat64\u001b[39m   │ \u001b[90mAny\u001b[39m │ \u001b[90mAny\u001b[39m       │ \u001b[90mAny\u001b[39m       │ \u001b[90mAny\u001b[39m      │ \u001b[90mAny\u001b[39m   │ \u001b[90mAny\u001b[39m      │\n",
       "├─────┼───────────┼─────┼───────────┼───────────┼──────────┼───────┼──────────┤\n",
       "│ 1   │ 8.49057   │ 1   │ -0.178548 │ 0.936735  │ 1.0      │ 0     │ -50.0    │\n",
       "│ 2   │ 0.0       │ 2   │ 0         │ 0         │ 0.9      │ 0     │ -50.4708 │\n",
       "│ 3   │ 0.0       │ 3   │ 0         │ 0         │ 0.970042 │ 0     │ -37.5065 │\n",
       "│ 4   │ 0.0       │ 4   │ 0         │ 0         │ 1.07065  │ 0     │ -17.1865 │\n",
       "│ 5   │ 0.0       │ 5   │ 0         │ 0         │ 1.07661  │ 0     │ -15.7815 │\n",
       "│ 6   │ 0.0       │ 6   │ 0         │ 0         │ 1.08241  │ 0     │ -14.4942 │\n",
       "│ 7   │ 0.0       │ 7   │ 0.793932  │ -0.255964 │ 1.1      │ 0     │ -10.9485 │\n",
       "│ 8   │ 0.0       │ 8   │ 0         │ 0         │ 1.09648  │ 0     │ -14.2049 │\n",
       "│ 9   │ 0.0       │ 9   │ 0         │ 0         │ 1.08718  │ 0     │ -14.2049 │\n",
       "│ 10  │ 0.0       │ 10  │ 0         │ 0         │ 1.08971  │ 0     │ -13.4723 │\n",
       "│ 11  │ 0.0       │ 11  │ 0         │ 0         │ 1.09674  │ 0     │ -11.7067 │\n",
       "│ 12  │ 0.0       │ 12  │ 0.796716  │ -0.299771 │ 1.1      │ 0     │ -10.9522 │\n",
       "│ 13  │ 0.0       │ 13  │ 0         │ 0         │ 0.982619 │ 0     │ -50.0    │\n",
       "│ 14  │ 0.0       │ 14  │ 0         │ 0         │ 0.977795 │ 0     │ -50.0    │\n",
       "│ 15  │ 0.0       │ 15  │ 0         │ 0         │ 0.975027 │ 0     │ -50.0    │"
      ]
     },
     "metadata": {},
     "output_type": "display_data"
    }
   ],
   "source": [
    "experiment2 = Dict()\n",
    "\n",
    "# Load feeder data \n",
    "feeder = load_feeder(\"data/feeder_data/basecase_noneg/\")\n",
    "\n",
    "# Set up\n",
    "relative_std = 0.2\n",
    "loads = [b.d_P for b in feeder.buses]\n",
    "std_vec = abs.(loads) .* relative_std\n",
    "var_vec = std_vec.^2\n",
    "Σ = diagm(0 => var_vec)\n",
    "\n",
    "# ex2_general_settings\n",
    "ex2_general_settings = Dict(\n",
    "    \"var_vec\" => var_vec,\n",
    "    \"Σ\" => Σ,\n",
    "    \"z_g\" => 1.945,\n",
    "    \"z_v\" => 2.576,\n",
    "    \"toggle_volt_cc\" => false,\n",
    "    \"toggle_gen_cc\" => false,\n",
    "    \"vfac\" => 0.1, # directly sets symetric voltage limit to min:(1-vfac) max:(1+vfac), use import values if vfac=0\n",
    "    \"qcfac\" => 1,\n",
    "    \"output_level\" => 0,\n",
    "    \"Ψ\" => 0,\n",
    ")\n",
    "\n",
    "# ex2_no_uncert:\n",
    "ex2_no_uncert_settings = copy(ex2_general_settings)\n",
    "ex2_no_uncert_settings[\"toggle_volt_cc\"] = false\n",
    "ex2_no_uncert_settings[\"toggle_gen_cc\"] = false\n",
    "\n",
    "experiment2[\"no_uncert\"] = Dict(\n",
    "    \"verbose\" => \"no_uncert\",\n",
    "    \"feeder\" => feeder,\n",
    "    \"settings\" => ex2_no_uncert_settings,\n",
    ")\n",
    "\n",
    "# ex2_uncert:\n",
    "ex2_uncert_settings = copy(ex2_general_settings)\n",
    "ex2_uncert_settings[\"toggle_volt_cc\"] = true\n",
    "ex2_uncert_settings[\"toggle_gen_cc\"] = true\n",
    "experiment2[\"uncert\"] = Dict(\n",
    "    \"verbose\" => \"uncert\",\n",
    "    \"feeder\" => feeder,\n",
    "    \"settings\" => ex2_uncert_settings,\n",
    ")\n",
    "\n",
    "# ex2_gen_uncert:\n",
    "ex2_uncert_settings = copy(ex2_general_settings)\n",
    "ex2_uncert_settings[\"toggle_volt_cc\"] = false\n",
    "ex2_uncert_settings[\"toggle_gen_cc\"] = true\n",
    "experiment2[\"gen_uncert\"] = Dict(\n",
    "    \"verbose\" => \"gen_uncert\",\n",
    "    \"feeder\" => feeder,\n",
    "    \"settings\" => ex2_uncert_settings,\n",
    ")\n",
    "\n",
    "# Run \n",
    "experiment2 = run_experiment(experiment2)\n",
    "\n",
    "# Show results\n",
    "sleep(.2) # just to ensure correct printing order\n",
    "for case in keys(experiment2)\n",
    "    print(\">>> Case $case\")\n",
    "    sleep(.2)\n",
    "    display(experiment2[case][\"results\"])\n",
    "end"
   ]
  },
  {
   "cell_type": "code",
   "execution_count": 44,
   "metadata": {},
   "outputs": [
    {
     "name": "stdout",
     "output_type": "stream",
     "text": [
      "Saving uncert\n",
      "Saving gen_uncert\n",
      "Saving no_uncert\n",
      ">>>> Saved with timestamp 190320_1040\n"
     ]
    }
   ],
   "source": [
    "save_experiment(\"experiment2\", experiment2)"
   ]
  },
  {
   "cell_type": "markdown",
   "metadata": {},
   "source": [
    "## Experiment 3\n",
    "\n",
    "Same as before but instead of tighter voltage limits try higher load"
   ]
  },
  {
   "cell_type": "code",
   "execution_count": 10,
   "metadata": {},
   "outputs": [
    {
     "name": "stdout",
     "output_type": "stream",
     "text": [
      ">>>>> Reading feeder data from data/feeder_data/basecase_noneg/\n",
      "Running ex3_uncert\n",
      ">>>> Building Model\n",
      ">>>> Running Model\n",
      "MOSEK warning 705: #3 (nearly) zero elements are specified in sparse row ''(87) of matrix 'A'.\n",
      "MOSEK warning 705: #4 (nearly) zero elements are specified in sparse row ''(93) of matrix 'A'.\n",
      ">>>> Model finished with status OPTIMAL in 0.006354567 seconds\n",
      ">>>> Post-Processing\n",
      "\n",
      "Running ex3_gen_uncert\n",
      ">>>> Building Model\n",
      ">>>> Running Model\n",
      ">>>> Model finished with status OPTIMAL in 0.002476817 seconds\n",
      ">>>> Post-Processing\n",
      "\n",
      "Running ex3_no_uncert\n",
      ">>>> Building Model\n",
      ">>>> Running Model\n",
      ">>>> Model finished with status OPTIMAL in 0.00223549 seconds\n",
      ">>>> Post-Processing\n",
      "\n",
      ">>> Case uncert"
     ]
    },
    {
     "data": {
      "text/html": [
       "<table class=\"data-frame\"><thead><tr><th></th><th>objective</th><th>bus</th><th>gp</th><th>gq</th><th>voltage</th><th>alpha</th><th>lambda</th><th>pi</th><th>gamma</th><th>eta</th><th>delta_plus</th><th>delta_minus</th><th>mu_plus</th><th>mu_minus</th><th>voltvar</th><th>lambda_anc</th><th>rx_pi_i</th><th>rx_pi_a</th><th>r_sum_mu_d</th></tr><tr><th></th><th>Float64</th><th>Any</th><th>Any</th><th>Any</th><th>Any</th><th>Any</th><th>Any</th><th>Any</th><th>Float64</th><th>Any</th><th>Any</th><th>Any</th><th>Any</th><th>Any</th><th>Any</th><th>Any</th><th>Any</th><th>Any</th><th>Any</th></tr></thead><tbody><p>15 rows × 19 columns</p><tr><th>1</th><td>431.923</td><td>1</td><td>3.8177</td><td>1.0676</td><td>1.0</td><td>1.0</td><td>-100.0</td><td>-7.68782e-10</td><td>-31.6228</td><td>0</td><td>0</td><td>0</td><td>0</td><td>0</td><td>0</td><td>0</td><td>0</td><td>0</td><td>0</td></tr><tr><th>2</th><td>0.0</td><td>2</td><td>0</td><td>0</td><td>0.916252</td><td>0</td><td>-100.0</td><td>-0.000145897</td><td>0.0</td><td>-1.5754e-8</td><td>0</td><td>0</td><td>-3.26811e-6</td><td>-0.000764702</td><td>0.00363129</td><td>-100.0</td><td>-1.21581e-6</td><td>-6.40651e-12</td><td>1.1877e-6</td></tr><tr><th>3</th><td>0.0</td><td>3</td><td>0</td><td>0</td><td>0.950524</td><td>0</td><td>-100.0</td><td>-0.000106729</td><td>0.0</td><td>-5.32418e-6</td><td>0</td><td>0</td><td>-4.5928e-6</td><td>-5.34742e-5</td><td>0.0117104</td><td>-100.0</td><td>-7.46768e-5</td><td>-0.000102082</td><td>-2.95957e-5</td></tr><tr><th>4</th><td>0.0</td><td>4</td><td>0</td><td>0</td><td>1.00189</td><td>0</td><td>-99.9999</td><td>-2.54546e-5</td><td>0.0</td><td>-1.30342e-5</td><td>0</td><td>0</td><td>-1.39688e-5</td><td>-1.24571e-5</td><td>0.0211438</td><td>-100.0</td><td>-1.78105e-5</td><td>-7.46783e-5</td><td>-5.99181e-5</td></tr><tr><th>5</th><td>0.0</td><td>5</td><td>0</td><td>0</td><td>1.0105</td><td>0</td><td>-99.9999</td><td>-1.88947e-5</td><td>0.0</td><td>-1.3443e-5</td><td>0</td><td>0</td><td>-1.80855e-5</td><td>-9.65875e-6</td><td>0.0212127</td><td>-99.9999</td><td>-1.32194e-5</td><td>-1.78089e-5</td><td>-4.72767e-6</td></tr><tr><th>6</th><td>0.0</td><td>6</td><td>0</td><td>0</td><td>1.01952</td><td>0</td><td>-99.9999</td><td>-1.32239e-5</td><td>0.0</td><td>-1.37819e-5</td><td>0</td><td>0</td><td>-2.39752e-5</td><td>-7.56658e-6</td><td>0.0205562</td><td>-99.9999</td><td>-9.21983e-6</td><td>-1.31736e-5</td><td>-4.0367e-6</td></tr><tr><th>7</th><td>0.0</td><td>7</td><td>0.8</td><td>-0.0477213</td><td>1.04946</td><td>0</td><td>-99.9999</td><td>-2.49905e-7</td><td>0.0</td><td>-1.45891e-5</td><td>-88.4176</td><td>-2.06216e-6</td><td>-0.000103338</td><td>-4.4126e-6</td><td>0.0150349</td><td>-99.9999</td><td>-1.74825e-7</td><td>-9.25095e-6</td><td>-9.53643e-6</td></tr><tr><th>8</th><td>0.0</td><td>8</td><td>0</td><td>0</td><td>0.970333</td><td>0</td><td>-99.9999</td><td>-2.22249e-5</td><td>0.0</td><td>-1.47582e-5</td><td>0</td><td>0</td><td>-7.50706e-6</td><td>-5.08665e-5</td><td>0.0177988</td><td>-99.9999</td><td>-1.55604e-5</td><td>-1.08896e-5</td><td>4.53539e-6</td></tr><tr><th>9</th><td>0.0</td><td>9</td><td>0</td><td>0</td><td>1.00209</td><td>0</td><td>-99.9999</td><td>-1.55536e-5</td><td>0.0</td><td>-1.43558e-5</td><td>0</td><td>0</td><td>-1.67668e-5</td><td>-1.18817e-5</td><td>0.0209381</td><td>-99.9999</td><td>-1.08768e-5</td><td>-1.78007e-5</td><td>-7.42324e-6</td></tr><tr><th>10</th><td>0.0</td><td>10</td><td>0</td><td>0</td><td>1.00905</td><td>0</td><td>-99.9999</td><td>-1.1948e-5</td><td>0.0</td><td>-1.458e-5</td><td>0</td><td>0</td><td>-2.14214e-5</td><td>-9.38806e-6</td><td>0.020878</td><td>-99.9999</td><td>-8.35523e-6</td><td>-1.08766e-5</td><td>-2.59338e-6</td></tr><tr><th>11</th><td>0.0</td><td>11</td><td>0</td><td>0</td><td>1.02867</td><td>0</td><td>-99.9999</td><td>-3.9948e-6</td><td>0.0</td><td>-1.50543e-5</td><td>0</td><td>0</td><td>-4.7401e-5</td><td>-5.71073e-6</td><td>0.0188001</td><td>-99.9999</td><td>-2.79057e-6</td><td>-8.34627e-6</td><td>-5.67003e-6</td></tr><tr><th>12</th><td>0.0</td><td>12</td><td>0.8</td><td>0.123118</td><td>1.03787</td><td>0</td><td>-99.9999</td><td>-1.78169e-6</td><td>0.0</td><td>-1.51877e-5</td><td>-88.42</td><td>-3.30189e-6</td><td>-8.08371e-5</td><td>-4.89179e-6</td><td>0.0172062</td><td>-99.9999</td><td>-1.23996e-6</td><td>-2.78016e-6</td><td>-1.56447e-6</td></tr><tr><th>13</th><td>0.0</td><td>13</td><td>0</td><td>0</td><td>0.946901</td><td>0</td><td>-100.0</td><td>-0.000143532</td><td>0.0</td><td>-2.30165e-8</td><td>0</td><td>0</td><td>0.0</td><td>-6.20927e-5</td><td>0.0108927</td><td>-100.0</td><td>-1.1961e-6</td><td>-6.40651e-12</td><td>1.19611e-6</td></tr><tr><th>14</th><td>0.0</td><td>14</td><td>0</td><td>0</td><td>0.931799</td><td>0</td><td>-100.0</td><td>-0.000263481</td><td>0.0</td><td>-3.49059e-6</td><td>0</td><td>0</td><td>0.0</td><td>-0.000150305</td><td>0.00728316</td><td>-100.0</td><td>-0.000367084</td><td>-0.000199971</td><td>0.000167113</td></tr><tr><th>15</th><td>0.0</td><td>15</td><td>0</td><td>0</td><td>0.923057</td><td>0</td><td>-100.0</td><td>-0.000316239</td><td>0.0</td><td>-5.19685e-6</td><td>0</td><td>0</td><td>0.0</td><td>-0.000385657</td><td>0.00524191</td><td>-100.0</td><td>-0.000440607</td><td>-0.000367101</td><td>7.35063e-5</td></tr></tbody></table>"
      ],
      "text/latex": [
       "\\begin{tabular}{r|ccccccccccccccccccc}\n",
       "\t& objective & bus & gp & gq & voltage & alpha & lambda & pi & gamma & eta & delta\\_plus & delta\\_minus & mu\\_plus & mu\\_minus & voltvar & lambda\\_anc & rx\\_pi\\_i & rx\\_pi\\_a & r\\_sum\\_mu\\_d\\\\\n",
       "\t\\hline\n",
       "\t& Float64 & Any & Any & Any & Any & Any & Any & Any & Float64 & Any & Any & Any & Any & Any & Any & Any & Any & Any & Any\\\\\n",
       "\t\\hline\n",
       "\t1 & 431.923 & 1 & 3.8177 & 1.0676 & 1.0 & 1.0 & -100.0 & -7.68782e-10 & -31.6228 & 0 & 0 & 0 & 0 & 0 & 0 & 0 & 0 & 0 & 0 \\\\\n",
       "\t2 & 0.0 & 2 & 0 & 0 & 0.916252 & 0 & -100.0 & -0.000145897 & 0.0 & -1.5754e-8 & 0 & 0 & -3.26811e-6 & -0.000764702 & 0.00363129 & -100.0 & -1.21581e-6 & -6.40651e-12 & 1.1877e-6 \\\\\n",
       "\t3 & 0.0 & 3 & 0 & 0 & 0.950524 & 0 & -100.0 & -0.000106729 & 0.0 & -5.32418e-6 & 0 & 0 & -4.5928e-6 & -5.34742e-5 & 0.0117104 & -100.0 & -7.46768e-5 & -0.000102082 & -2.95957e-5 \\\\\n",
       "\t4 & 0.0 & 4 & 0 & 0 & 1.00189 & 0 & -99.9999 & -2.54546e-5 & 0.0 & -1.30342e-5 & 0 & 0 & -1.39688e-5 & -1.24571e-5 & 0.0211438 & -100.0 & -1.78105e-5 & -7.46783e-5 & -5.99181e-5 \\\\\n",
       "\t5 & 0.0 & 5 & 0 & 0 & 1.0105 & 0 & -99.9999 & -1.88947e-5 & 0.0 & -1.3443e-5 & 0 & 0 & -1.80855e-5 & -9.65875e-6 & 0.0212127 & -99.9999 & -1.32194e-5 & -1.78089e-5 & -4.72767e-6 \\\\\n",
       "\t6 & 0.0 & 6 & 0 & 0 & 1.01952 & 0 & -99.9999 & -1.32239e-5 & 0.0 & -1.37819e-5 & 0 & 0 & -2.39752e-5 & -7.56658e-6 & 0.0205562 & -99.9999 & -9.21983e-6 & -1.31736e-5 & -4.0367e-6 \\\\\n",
       "\t7 & 0.0 & 7 & 0.8 & -0.0477213 & 1.04946 & 0 & -99.9999 & -2.49905e-7 & 0.0 & -1.45891e-5 & -88.4176 & -2.06216e-6 & -0.000103338 & -4.4126e-6 & 0.0150349 & -99.9999 & -1.74825e-7 & -9.25095e-6 & -9.53643e-6 \\\\\n",
       "\t8 & 0.0 & 8 & 0 & 0 & 0.970333 & 0 & -99.9999 & -2.22249e-5 & 0.0 & -1.47582e-5 & 0 & 0 & -7.50706e-6 & -5.08665e-5 & 0.0177988 & -99.9999 & -1.55604e-5 & -1.08896e-5 & 4.53539e-6 \\\\\n",
       "\t9 & 0.0 & 9 & 0 & 0 & 1.00209 & 0 & -99.9999 & -1.55536e-5 & 0.0 & -1.43558e-5 & 0 & 0 & -1.67668e-5 & -1.18817e-5 & 0.0209381 & -99.9999 & -1.08768e-5 & -1.78007e-5 & -7.42324e-6 \\\\\n",
       "\t10 & 0.0 & 10 & 0 & 0 & 1.00905 & 0 & -99.9999 & -1.1948e-5 & 0.0 & -1.458e-5 & 0 & 0 & -2.14214e-5 & -9.38806e-6 & 0.020878 & -99.9999 & -8.35523e-6 & -1.08766e-5 & -2.59338e-6 \\\\\n",
       "\t11 & 0.0 & 11 & 0 & 0 & 1.02867 & 0 & -99.9999 & -3.9948e-6 & 0.0 & -1.50543e-5 & 0 & 0 & -4.7401e-5 & -5.71073e-6 & 0.0188001 & -99.9999 & -2.79057e-6 & -8.34627e-6 & -5.67003e-6 \\\\\n",
       "\t12 & 0.0 & 12 & 0.8 & 0.123118 & 1.03787 & 0 & -99.9999 & -1.78169e-6 & 0.0 & -1.51877e-5 & -88.42 & -3.30189e-6 & -8.08371e-5 & -4.89179e-6 & 0.0172062 & -99.9999 & -1.23996e-6 & -2.78016e-6 & -1.56447e-6 \\\\\n",
       "\t13 & 0.0 & 13 & 0 & 0 & 0.946901 & 0 & -100.0 & -0.000143532 & 0.0 & -2.30165e-8 & 0 & 0 & 0.0 & -6.20927e-5 & 0.0108927 & -100.0 & -1.1961e-6 & -6.40651e-12 & 1.19611e-6 \\\\\n",
       "\t14 & 0.0 & 14 & 0 & 0 & 0.931799 & 0 & -100.0 & -0.000263481 & 0.0 & -3.49059e-6 & 0 & 0 & 0.0 & -0.000150305 & 0.00728316 & -100.0 & -0.000367084 & -0.000199971 & 0.000167113 \\\\\n",
       "\t15 & 0.0 & 15 & 0 & 0 & 0.923057 & 0 & -100.0 & -0.000316239 & 0.0 & -5.19685e-6 & 0 & 0 & 0.0 & -0.000385657 & 0.00524191 & -100.0 & -0.000440607 & -0.000367101 & 7.35063e-5 \\\\\n",
       "\\end{tabular}\n"
      ],
      "text/plain": [
       "15×19 DataFrame. Omitted printing of 12 columns\n",
       "│ Row │ objective │ bus │ gp     │ gq         │ voltage  │ alpha │ lambda   │\n",
       "│     │ \u001b[90mFloat64\u001b[39m   │ \u001b[90mAny\u001b[39m │ \u001b[90mAny\u001b[39m    │ \u001b[90mAny\u001b[39m        │ \u001b[90mAny\u001b[39m      │ \u001b[90mAny\u001b[39m   │ \u001b[90mAny\u001b[39m      │\n",
       "├─────┼───────────┼─────┼────────┼────────────┼──────────┼───────┼──────────┤\n",
       "│ 1   │ 431.923   │ 1   │ 3.8177 │ 1.0676     │ 1.0      │ 1.0   │ -100.0   │\n",
       "│ 2   │ 0.0       │ 2   │ 0      │ 0          │ 0.916252 │ 0     │ -100.0   │\n",
       "│ 3   │ 0.0       │ 3   │ 0      │ 0          │ 0.950524 │ 0     │ -100.0   │\n",
       "│ 4   │ 0.0       │ 4   │ 0      │ 0          │ 1.00189  │ 0     │ -99.9999 │\n",
       "│ 5   │ 0.0       │ 5   │ 0      │ 0          │ 1.0105   │ 0     │ -99.9999 │\n",
       "│ 6   │ 0.0       │ 6   │ 0      │ 0          │ 1.01952  │ 0     │ -99.9999 │\n",
       "│ 7   │ 0.0       │ 7   │ 0.8    │ -0.0477213 │ 1.04946  │ 0     │ -99.9999 │\n",
       "│ 8   │ 0.0       │ 8   │ 0      │ 0          │ 0.970333 │ 0     │ -99.9999 │\n",
       "│ 9   │ 0.0       │ 9   │ 0      │ 0          │ 1.00209  │ 0     │ -99.9999 │\n",
       "│ 10  │ 0.0       │ 10  │ 0      │ 0          │ 1.00905  │ 0     │ -99.9999 │\n",
       "│ 11  │ 0.0       │ 11  │ 0      │ 0          │ 1.02867  │ 0     │ -99.9999 │\n",
       "│ 12  │ 0.0       │ 12  │ 0.8    │ 0.123118   │ 1.03787  │ 0     │ -99.9999 │\n",
       "│ 13  │ 0.0       │ 13  │ 0      │ 0          │ 0.946901 │ 0     │ -100.0   │\n",
       "│ 14  │ 0.0       │ 14  │ 0      │ 0          │ 0.931799 │ 0     │ -100.0   │\n",
       "│ 15  │ 0.0       │ 15  │ 0      │ 0          │ 0.923057 │ 0     │ -100.0   │"
      ]
     },
     "metadata": {},
     "output_type": "display_data"
    },
    {
     "name": "stdout",
     "output_type": "stream",
     "text": [
      ">>> Case gen_uncert"
     ]
    },
    {
     "data": {
      "text/html": [
       "<table class=\"data-frame\"><thead><tr><th></th><th>objective</th><th>bus</th><th>gp</th><th>gq</th><th>voltage</th><th>alpha</th><th>lambda</th><th>pi</th><th>gamma</th><th>eta</th><th>delta_plus</th><th>delta_minus</th><th>mu_plus</th><th>mu_minus</th><th>voltvar</th><th>lambda_anc</th><th>rx_pi_i</th><th>rx_pi_a</th><th>r_sum_mu_d</th></tr><tr><th></th><th>Float64</th><th>Any</th><th>Any</th><th>Any</th><th>Any</th><th>Any</th><th>Any</th><th>Any</th><th>Float64</th><th>Any</th><th>Any</th><th>Any</th><th>Any</th><th>Any</th><th>Any</th><th>Any</th><th>Any</th><th>Any</th><th>Any</th></tr></thead><tbody><p>15 rows × 19 columns</p><tr><th>1</th><td>431.923</td><td>1</td><td>3.8177</td><td>1.06751</td><td>1.0</td><td>1.0</td><td>-100.0</td><td>0.0</td><td>-31.6228</td><td>0</td><td>0</td><td>0</td><td>0</td><td>0</td><td>0</td><td>0</td><td>0</td><td>0</td><td>0</td></tr><tr><th>2</th><td>0.0</td><td>2</td><td>0</td><td>0</td><td>0.916265</td><td>0</td><td>-100.0</td><td>-1.46431e-5</td><td>0.0</td><td>0</td><td>0</td><td>0</td><td>-5.19691e-7</td><td>-7.75417e-5</td><td>0</td><td>-100.0</td><td>-1.22026e-7</td><td>0.0</td><td>1.22026e-7</td></tr><tr><th>3</th><td>0.0</td><td>3</td><td>0</td><td>0</td><td>0.950548</td><td>0</td><td>-100.0</td><td>-1.06024e-5</td><td>0.0</td><td>0</td><td>0</td><td>0</td><td>-6.95592e-7</td><td>-3.72078e-6</td><td>0</td><td>-100.0</td><td>-7.41829e-6</td><td>-1.02455e-5</td><td>-2.82723e-6</td></tr><tr><th>4</th><td>0.0</td><td>4</td><td>0</td><td>0</td><td>1.00193</td><td>0</td><td>-100.0</td><td>-3.07235e-6</td><td>0.0</td><td>0</td><td>0</td><td>0</td><td>-1.49108e-6</td><td>-9.49878e-7</td><td>0</td><td>-100.0</td><td>-2.14971e-6</td><td>-7.41843e-6</td><td>-5.26872e-6</td></tr><tr><th>5</th><td>0.0</td><td>5</td><td>0</td><td>0</td><td>1.01167</td><td>0</td><td>-100.0</td><td>-2.38737e-6</td><td>0.0</td><td>0</td><td>0</td><td>0</td><td>-1.87868e-6</td><td>-8.13124e-7</td><td>0</td><td>-100.0</td><td>-1.67029e-6</td><td>-2.14952e-6</td><td>-4.79231e-7</td></tr><tr><th>6</th><td>0.0</td><td>6</td><td>0</td><td>0</td><td>1.02172</td><td>0</td><td>-100.0</td><td>-1.81109e-6</td><td>0.0</td><td>0</td><td>0</td><td>0</td><td>-2.49437e-6</td><td>-7.01822e-7</td><td>0</td><td>-100.0</td><td>-1.26271e-6</td><td>-1.6645e-6</td><td>-4.01791e-7</td></tr><tr><th>7</th><td>0.0</td><td>7</td><td>0.8</td><td>-0.00573882</td><td>1.05434</td><td>0</td><td>-100.0</td><td>-4.76193e-7</td><td>0.0</td><td>0</td><td>-88.4189</td><td>-3.44537e-7</td><td>-1.01621e-5</td><td>-4.74925e-7</td><td>0</td><td>-100.0</td><td>-3.33128e-7</td><td>-1.26698e-6</td><td>-9.33847e-7</td></tr><tr><th>8</th><td>0.0</td><td>8</td><td>0</td><td>0</td><td>0.96786</td><td>0</td><td>-100.0</td><td>-2.67144e-6</td><td>0.0</td><td>0</td><td>0</td><td>0</td><td>-0.0</td><td>-1.95064e-6</td><td>0</td><td>-100.0</td><td>-1.87037e-6</td><td>-1.66633e-6</td><td>2.04037e-7</td></tr><tr><th>9</th><td>0.0</td><td>9</td><td>0</td><td>0</td><td>0.999696</td><td>0</td><td>-100.0</td><td>-2.38002e-6</td><td>0.0</td><td>0</td><td>0</td><td>0</td><td>-1.41964e-6</td><td>-0.0</td><td>0</td><td>-100.0</td><td>-1.66437e-6</td><td>-2.14853e-6</td><td>-4.84157e-7</td></tr><tr><th>10</th><td>0.0</td><td>10</td><td>0</td><td>0</td><td>1.00608</td><td>0</td><td>-100.0</td><td>-2.19472e-6</td><td>0.0</td><td>0</td><td>0</td><td>0</td><td>-1.6635e-6</td><td>-8.67001e-7</td><td>0</td><td>-100.0</td><td>-1.53477e-6</td><td>-1.66435e-6</td><td>-1.29578e-7</td></tr><tr><th>11</th><td>0.0</td><td>11</td><td>0</td><td>0</td><td>1.02434</td><td>0</td><td>-100.0</td><td>-1.80264e-6</td><td>0.0</td><td>0</td><td>0</td><td>0</td><td>-2.88856e-6</td><td>-6.40486e-7</td><td>0</td><td>-100.0</td><td>-1.25923e-6</td><td>-1.53312e-6</td><td>-2.73891e-7</td></tr><tr><th>12</th><td>0.0</td><td>12</td><td>0.8</td><td>0.0812299</td><td>1.03298</td><td>0</td><td>-100.0</td><td>-1.70098e-6</td><td>0.0</td><td>0</td><td>-88.4188</td><td>-3.40115e-7</td><td>-4.0002e-6</td><td>-5.6589e-7</td><td>0</td><td>-100.0</td><td>-1.18379e-6</td><td>-1.25454e-6</td><td>-7.07468e-8</td></tr><tr><th>13</th><td>0.0</td><td>13</td><td>0</td><td>0</td><td>0.946901</td><td>0</td><td>-100.0</td><td>0.0</td><td>0.0</td><td>0</td><td>0</td><td>0</td><td>-0.0</td><td>-0.0</td><td>0</td><td>-100.0</td><td>0.0</td><td>0.0</td><td>0.0</td></tr><tr><th>14</th><td>0.0</td><td>14</td><td>0</td><td>0</td><td>0.931799</td><td>0</td><td>-100.0</td><td>0.0</td><td>0.0</td><td>0</td><td>0</td><td>0</td><td>-0.0</td><td>-0.0</td><td>0</td><td>-100.0</td><td>0.0</td><td>0.0</td><td>0.0</td></tr><tr><th>15</th><td>0.0</td><td>15</td><td>0</td><td>0</td><td>0.923057</td><td>0</td><td>-100.0</td><td>0.0</td><td>0.0</td><td>0</td><td>0</td><td>0</td><td>-0.0</td><td>-0.0</td><td>0</td><td>-100.0</td><td>0.0</td><td>0.0</td><td>0.0</td></tr></tbody></table>"
      ],
      "text/latex": [
       "\\begin{tabular}{r|ccccccccccccccccccc}\n",
       "\t& objective & bus & gp & gq & voltage & alpha & lambda & pi & gamma & eta & delta\\_plus & delta\\_minus & mu\\_plus & mu\\_minus & voltvar & lambda\\_anc & rx\\_pi\\_i & rx\\_pi\\_a & r\\_sum\\_mu\\_d\\\\\n",
       "\t\\hline\n",
       "\t& Float64 & Any & Any & Any & Any & Any & Any & Any & Float64 & Any & Any & Any & Any & Any & Any & Any & Any & Any & Any\\\\\n",
       "\t\\hline\n",
       "\t1 & 431.923 & 1 & 3.8177 & 1.06751 & 1.0 & 1.0 & -100.0 & 0.0 & -31.6228 & 0 & 0 & 0 & 0 & 0 & 0 & 0 & 0 & 0 & 0 \\\\\n",
       "\t2 & 0.0 & 2 & 0 & 0 & 0.916265 & 0 & -100.0 & -1.46431e-5 & 0.0 & 0 & 0 & 0 & -5.19691e-7 & -7.75417e-5 & 0 & -100.0 & -1.22026e-7 & 0.0 & 1.22026e-7 \\\\\n",
       "\t3 & 0.0 & 3 & 0 & 0 & 0.950548 & 0 & -100.0 & -1.06024e-5 & 0.0 & 0 & 0 & 0 & -6.95592e-7 & -3.72078e-6 & 0 & -100.0 & -7.41829e-6 & -1.02455e-5 & -2.82723e-6 \\\\\n",
       "\t4 & 0.0 & 4 & 0 & 0 & 1.00193 & 0 & -100.0 & -3.07235e-6 & 0.0 & 0 & 0 & 0 & -1.49108e-6 & -9.49878e-7 & 0 & -100.0 & -2.14971e-6 & -7.41843e-6 & -5.26872e-6 \\\\\n",
       "\t5 & 0.0 & 5 & 0 & 0 & 1.01167 & 0 & -100.0 & -2.38737e-6 & 0.0 & 0 & 0 & 0 & -1.87868e-6 & -8.13124e-7 & 0 & -100.0 & -1.67029e-6 & -2.14952e-6 & -4.79231e-7 \\\\\n",
       "\t6 & 0.0 & 6 & 0 & 0 & 1.02172 & 0 & -100.0 & -1.81109e-6 & 0.0 & 0 & 0 & 0 & -2.49437e-6 & -7.01822e-7 & 0 & -100.0 & -1.26271e-6 & -1.6645e-6 & -4.01791e-7 \\\\\n",
       "\t7 & 0.0 & 7 & 0.8 & -0.00573882 & 1.05434 & 0 & -100.0 & -4.76193e-7 & 0.0 & 0 & -88.4189 & -3.44537e-7 & -1.01621e-5 & -4.74925e-7 & 0 & -100.0 & -3.33128e-7 & -1.26698e-6 & -9.33847e-7 \\\\\n",
       "\t8 & 0.0 & 8 & 0 & 0 & 0.96786 & 0 & -100.0 & -2.67144e-6 & 0.0 & 0 & 0 & 0 & -0.0 & -1.95064e-6 & 0 & -100.0 & -1.87037e-6 & -1.66633e-6 & 2.04037e-7 \\\\\n",
       "\t9 & 0.0 & 9 & 0 & 0 & 0.999696 & 0 & -100.0 & -2.38002e-6 & 0.0 & 0 & 0 & 0 & -1.41964e-6 & -0.0 & 0 & -100.0 & -1.66437e-6 & -2.14853e-6 & -4.84157e-7 \\\\\n",
       "\t10 & 0.0 & 10 & 0 & 0 & 1.00608 & 0 & -100.0 & -2.19472e-6 & 0.0 & 0 & 0 & 0 & -1.6635e-6 & -8.67001e-7 & 0 & -100.0 & -1.53477e-6 & -1.66435e-6 & -1.29578e-7 \\\\\n",
       "\t11 & 0.0 & 11 & 0 & 0 & 1.02434 & 0 & -100.0 & -1.80264e-6 & 0.0 & 0 & 0 & 0 & -2.88856e-6 & -6.40486e-7 & 0 & -100.0 & -1.25923e-6 & -1.53312e-6 & -2.73891e-7 \\\\\n",
       "\t12 & 0.0 & 12 & 0.8 & 0.0812299 & 1.03298 & 0 & -100.0 & -1.70098e-6 & 0.0 & 0 & -88.4188 & -3.40115e-7 & -4.0002e-6 & -5.6589e-7 & 0 & -100.0 & -1.18379e-6 & -1.25454e-6 & -7.07468e-8 \\\\\n",
       "\t13 & 0.0 & 13 & 0 & 0 & 0.946901 & 0 & -100.0 & 0.0 & 0.0 & 0 & 0 & 0 & -0.0 & -0.0 & 0 & -100.0 & 0.0 & 0.0 & 0.0 \\\\\n",
       "\t14 & 0.0 & 14 & 0 & 0 & 0.931799 & 0 & -100.0 & 0.0 & 0.0 & 0 & 0 & 0 & -0.0 & -0.0 & 0 & -100.0 & 0.0 & 0.0 & 0.0 \\\\\n",
       "\t15 & 0.0 & 15 & 0 & 0 & 0.923057 & 0 & -100.0 & 0.0 & 0.0 & 0 & 0 & 0 & -0.0 & -0.0 & 0 & -100.0 & 0.0 & 0.0 & 0.0 \\\\\n",
       "\\end{tabular}\n"
      ],
      "text/plain": [
       "15×19 DataFrame. Omitted printing of 12 columns\n",
       "│ Row │ objective │ bus │ gp     │ gq          │ voltage  │ alpha │ lambda │\n",
       "│     │ \u001b[90mFloat64\u001b[39m   │ \u001b[90mAny\u001b[39m │ \u001b[90mAny\u001b[39m    │ \u001b[90mAny\u001b[39m         │ \u001b[90mAny\u001b[39m      │ \u001b[90mAny\u001b[39m   │ \u001b[90mAny\u001b[39m    │\n",
       "├─────┼───────────┼─────┼────────┼─────────────┼──────────┼───────┼────────┤\n",
       "│ 1   │ 431.923   │ 1   │ 3.8177 │ 1.06751     │ 1.0      │ 1.0   │ -100.0 │\n",
       "│ 2   │ 0.0       │ 2   │ 0      │ 0           │ 0.916265 │ 0     │ -100.0 │\n",
       "│ 3   │ 0.0       │ 3   │ 0      │ 0           │ 0.950548 │ 0     │ -100.0 │\n",
       "│ 4   │ 0.0       │ 4   │ 0      │ 0           │ 1.00193  │ 0     │ -100.0 │\n",
       "│ 5   │ 0.0       │ 5   │ 0      │ 0           │ 1.01167  │ 0     │ -100.0 │\n",
       "│ 6   │ 0.0       │ 6   │ 0      │ 0           │ 1.02172  │ 0     │ -100.0 │\n",
       "│ 7   │ 0.0       │ 7   │ 0.8    │ -0.00573882 │ 1.05434  │ 0     │ -100.0 │\n",
       "│ 8   │ 0.0       │ 8   │ 0      │ 0           │ 0.96786  │ 0     │ -100.0 │\n",
       "│ 9   │ 0.0       │ 9   │ 0      │ 0           │ 0.999696 │ 0     │ -100.0 │\n",
       "│ 10  │ 0.0       │ 10  │ 0      │ 0           │ 1.00608  │ 0     │ -100.0 │\n",
       "│ 11  │ 0.0       │ 11  │ 0      │ 0           │ 1.02434  │ 0     │ -100.0 │\n",
       "│ 12  │ 0.0       │ 12  │ 0.8    │ 0.0812299   │ 1.03298  │ 0     │ -100.0 │\n",
       "│ 13  │ 0.0       │ 13  │ 0      │ 0           │ 0.946901 │ 0     │ -100.0 │\n",
       "│ 14  │ 0.0       │ 14  │ 0      │ 0           │ 0.931799 │ 0     │ -100.0 │\n",
       "│ 15  │ 0.0       │ 15  │ 0      │ 0           │ 0.923057 │ 0     │ -100.0 │"
      ]
     },
     "metadata": {},
     "output_type": "display_data"
    },
    {
     "name": "stdout",
     "output_type": "stream",
     "text": [
      ">>> Case no_uncert"
     ]
    },
    {
     "data": {
      "text/html": [
       "<table class=\"data-frame\"><thead><tr><th></th><th>objective</th><th>bus</th><th>gp</th><th>gq</th><th>voltage</th><th>alpha</th><th>lambda</th><th>pi</th><th>gamma</th><th>eta</th><th>delta_plus</th><th>delta_minus</th><th>mu_plus</th><th>mu_minus</th><th>voltvar</th><th>lambda_anc</th><th>rx_pi_i</th><th>rx_pi_a</th><th>r_sum_mu_d</th></tr><tr><th></th><th>Float64</th><th>Any</th><th>Any</th><th>Any</th><th>Any</th><th>Any</th><th>Any</th><th>Any</th><th>Float64</th><th>Any</th><th>Any</th><th>Any</th><th>Any</th><th>Any</th><th>Any</th><th>Any</th><th>Any</th><th>Any</th><th>Any</th></tr></thead><tbody><p>15 rows × 19 columns</p><tr><th>1</th><td>399.29</td><td>1</td><td>3.8177</td><td>1.07126</td><td>1.0</td><td>0</td><td>-100.0</td><td>0.0</td><td>0.0</td><td>0</td><td>0</td><td>0</td><td>0</td><td>0</td><td>0</td><td>0</td><td>0</td><td>0</td><td>0</td></tr><tr><th>2</th><td>0.0</td><td>2</td><td>0</td><td>0</td><td>0.915774</td><td>0</td><td>-100.0</td><td>-7.20018e-6</td><td>0.0</td><td>0</td><td>0</td><td>0</td><td>-0.0</td><td>-3.84094e-5</td><td>0</td><td>-100.0</td><td>-6.00015e-8</td><td>0.0</td><td>6.00015e-8</td></tr><tr><th>3</th><td>0.0</td><td>3</td><td>0</td><td>0</td><td>0.949578</td><td>0</td><td>-100.0</td><td>-5.07783e-6</td><td>0.0</td><td>0</td><td>0</td><td>0</td><td>-2.51789e-7</td><td>-1.51122e-6</td><td>0</td><td>-100.0</td><td>-3.55287e-6</td><td>-5.03784e-6</td><td>-1.48497e-6</td></tr><tr><th>4</th><td>0.0</td><td>4</td><td>0</td><td>0</td><td>1.00027</td><td>0</td><td>-100.0</td><td>-1.25314e-6</td><td>0.0</td><td>0</td><td>0</td><td>0</td><td>-6.13942e-7</td><td>-0.0</td><td>0</td><td>-100.0</td><td>-8.76815e-7</td><td>-3.55294e-6</td><td>-2.67613e-6</td></tr><tr><th>5</th><td>0.0</td><td>5</td><td>0</td><td>0</td><td>1.01009</td><td>0</td><td>-100.0</td><td>-9.36669e-7</td><td>0.0</td><td>0</td><td>0</td><td>0</td><td>-7.81308e-7</td><td>-3.25326e-7</td><td>0</td><td>-100.0</td><td>-6.55326e-7</td><td>-8.76736e-7</td><td>-2.21411e-7</td></tr><tr><th>6</th><td>0.0</td><td>6</td><td>0</td><td>0</td><td>1.02022</td><td>0</td><td>-100.0</td><td>-6.68596e-7</td><td>0.0</td><td>0</td><td>0</td><td>0</td><td>-1.05106e-6</td><td>-2.82462e-7</td><td>0</td><td>-100.0</td><td>-4.66152e-7</td><td>-6.53056e-7</td><td>-1.86904e-7</td></tr><tr><th>7</th><td>0.0</td><td>7</td><td>0.8</td><td>-0.00323173</td><td>1.05305</td><td>0</td><td>-100.0</td><td>-3.86404e-8</td><td>0.0</td><td>0</td><td>-89.0495</td><td>-8.43607e-8</td><td>-4.76745e-6</td><td>-1.9593e-7</td><td>0</td><td>-100.0</td><td>-2.70315e-8</td><td>-4.67726e-7</td><td>-4.40694e-7</td></tr><tr><th>8</th><td>0.0</td><td>8</td><td>0</td><td>0</td><td>0.965763</td><td>0</td><td>-100.0</td><td>-9.90414e-7</td><td>0.0</td><td>0</td><td>0</td><td>0</td><td>-0.0</td><td>-7.79882e-7</td><td>0</td><td>-100.0</td><td>-6.93422e-7</td><td>-6.11847e-7</td><td>8.15756e-8</td></tr><tr><th>9</th><td>0.0</td><td>9</td><td>0</td><td>0</td><td>0.997666</td><td>0</td><td>-100.0</td><td>-8.739e-7</td><td>0.0</td><td>0</td><td>0</td><td>0</td><td>-6.07748e-7</td><td>-0.0</td><td>0</td><td>-100.0</td><td>-6.11129e-7</td><td>-8.76334e-7</td><td>-2.65205e-7</td></tr><tr><th>10</th><td>0.0</td><td>10</td><td>0</td><td>0</td><td>1.00397</td><td>0</td><td>-100.0</td><td>-7.75796e-7</td><td>0.0</td><td>0</td><td>0</td><td>0</td><td>-7.21969e-7</td><td>-0.0</td><td>0</td><td>-100.0</td><td>-5.42515e-7</td><td>-6.11119e-7</td><td>-6.86036e-8</td></tr><tr><th>11</th><td>0.0</td><td>11</td><td>0</td><td>0</td><td>1.02206</td><td>0</td><td>-100.0</td><td>-5.8893e-7</td><td>0.0</td><td>0</td><td>0</td><td>0</td><td>-1.31529e-6</td><td>-2.56024e-7</td><td>0</td><td>-100.0</td><td>-4.11397e-7</td><td>-5.41933e-7</td><td>-1.30536e-7</td></tr><tr><th>12</th><td>0.0</td><td>12</td><td>0.8</td><td>0.0749762</td><td>1.03063</td><td>0</td><td>-100.0</td><td>-5.40121e-7</td><td>0.0</td><td>0</td><td>-89.05</td><td>-8.50901e-8</td><td>-1.8779e-6</td><td>-2.28947e-7</td><td>0</td><td>-100.0</td><td>-3.75895e-7</td><td>-4.09863e-7</td><td>-3.39683e-8</td></tr><tr><th>13</th><td>0.0</td><td>13</td><td>0</td><td>0</td><td>0.946901</td><td>0</td><td>-100.0</td><td>0.0</td><td>0.0</td><td>0</td><td>0</td><td>0</td><td>-0.0</td><td>-0.0</td><td>0</td><td>-100.0</td><td>0.0</td><td>0.0</td><td>0.0</td></tr><tr><th>14</th><td>0.0</td><td>14</td><td>0</td><td>0</td><td>0.931799</td><td>0</td><td>-100.0</td><td>0.0</td><td>0.0</td><td>0</td><td>0</td><td>0</td><td>-0.0</td><td>-0.0</td><td>0</td><td>-100.0</td><td>0.0</td><td>0.0</td><td>0.0</td></tr><tr><th>15</th><td>0.0</td><td>15</td><td>0</td><td>0</td><td>0.923057</td><td>0</td><td>-100.0</td><td>0.0</td><td>0.0</td><td>0</td><td>0</td><td>0</td><td>-0.0</td><td>-0.0</td><td>0</td><td>-100.0</td><td>0.0</td><td>0.0</td><td>0.0</td></tr></tbody></table>"
      ],
      "text/latex": [
       "\\begin{tabular}{r|ccccccccccccccccccc}\n",
       "\t& objective & bus & gp & gq & voltage & alpha & lambda & pi & gamma & eta & delta\\_plus & delta\\_minus & mu\\_plus & mu\\_minus & voltvar & lambda\\_anc & rx\\_pi\\_i & rx\\_pi\\_a & r\\_sum\\_mu\\_d\\\\\n",
       "\t\\hline\n",
       "\t& Float64 & Any & Any & Any & Any & Any & Any & Any & Float64 & Any & Any & Any & Any & Any & Any & Any & Any & Any & Any\\\\\n",
       "\t\\hline\n",
       "\t1 & 399.29 & 1 & 3.8177 & 1.07126 & 1.0 & 0 & -100.0 & 0.0 & 0.0 & 0 & 0 & 0 & 0 & 0 & 0 & 0 & 0 & 0 & 0 \\\\\n",
       "\t2 & 0.0 & 2 & 0 & 0 & 0.915774 & 0 & -100.0 & -7.20018e-6 & 0.0 & 0 & 0 & 0 & -0.0 & -3.84094e-5 & 0 & -100.0 & -6.00015e-8 & 0.0 & 6.00015e-8 \\\\\n",
       "\t3 & 0.0 & 3 & 0 & 0 & 0.949578 & 0 & -100.0 & -5.07783e-6 & 0.0 & 0 & 0 & 0 & -2.51789e-7 & -1.51122e-6 & 0 & -100.0 & -3.55287e-6 & -5.03784e-6 & -1.48497e-6 \\\\\n",
       "\t4 & 0.0 & 4 & 0 & 0 & 1.00027 & 0 & -100.0 & -1.25314e-6 & 0.0 & 0 & 0 & 0 & -6.13942e-7 & -0.0 & 0 & -100.0 & -8.76815e-7 & -3.55294e-6 & -2.67613e-6 \\\\\n",
       "\t5 & 0.0 & 5 & 0 & 0 & 1.01009 & 0 & -100.0 & -9.36669e-7 & 0.0 & 0 & 0 & 0 & -7.81308e-7 & -3.25326e-7 & 0 & -100.0 & -6.55326e-7 & -8.76736e-7 & -2.21411e-7 \\\\\n",
       "\t6 & 0.0 & 6 & 0 & 0 & 1.02022 & 0 & -100.0 & -6.68596e-7 & 0.0 & 0 & 0 & 0 & -1.05106e-6 & -2.82462e-7 & 0 & -100.0 & -4.66152e-7 & -6.53056e-7 & -1.86904e-7 \\\\\n",
       "\t7 & 0.0 & 7 & 0.8 & -0.00323173 & 1.05305 & 0 & -100.0 & -3.86404e-8 & 0.0 & 0 & -89.0495 & -8.43607e-8 & -4.76745e-6 & -1.9593e-7 & 0 & -100.0 & -2.70315e-8 & -4.67726e-7 & -4.40694e-7 \\\\\n",
       "\t8 & 0.0 & 8 & 0 & 0 & 0.965763 & 0 & -100.0 & -9.90414e-7 & 0.0 & 0 & 0 & 0 & -0.0 & -7.79882e-7 & 0 & -100.0 & -6.93422e-7 & -6.11847e-7 & 8.15756e-8 \\\\\n",
       "\t9 & 0.0 & 9 & 0 & 0 & 0.997666 & 0 & -100.0 & -8.739e-7 & 0.0 & 0 & 0 & 0 & -6.07748e-7 & -0.0 & 0 & -100.0 & -6.11129e-7 & -8.76334e-7 & -2.65205e-7 \\\\\n",
       "\t10 & 0.0 & 10 & 0 & 0 & 1.00397 & 0 & -100.0 & -7.75796e-7 & 0.0 & 0 & 0 & 0 & -7.21969e-7 & -0.0 & 0 & -100.0 & -5.42515e-7 & -6.11119e-7 & -6.86036e-8 \\\\\n",
       "\t11 & 0.0 & 11 & 0 & 0 & 1.02206 & 0 & -100.0 & -5.8893e-7 & 0.0 & 0 & 0 & 0 & -1.31529e-6 & -2.56024e-7 & 0 & -100.0 & -4.11397e-7 & -5.41933e-7 & -1.30536e-7 \\\\\n",
       "\t12 & 0.0 & 12 & 0.8 & 0.0749762 & 1.03063 & 0 & -100.0 & -5.40121e-7 & 0.0 & 0 & -89.05 & -8.50901e-8 & -1.8779e-6 & -2.28947e-7 & 0 & -100.0 & -3.75895e-7 & -4.09863e-7 & -3.39683e-8 \\\\\n",
       "\t13 & 0.0 & 13 & 0 & 0 & 0.946901 & 0 & -100.0 & 0.0 & 0.0 & 0 & 0 & 0 & -0.0 & -0.0 & 0 & -100.0 & 0.0 & 0.0 & 0.0 \\\\\n",
       "\t14 & 0.0 & 14 & 0 & 0 & 0.931799 & 0 & -100.0 & 0.0 & 0.0 & 0 & 0 & 0 & -0.0 & -0.0 & 0 & -100.0 & 0.0 & 0.0 & 0.0 \\\\\n",
       "\t15 & 0.0 & 15 & 0 & 0 & 0.923057 & 0 & -100.0 & 0.0 & 0.0 & 0 & 0 & 0 & -0.0 & -0.0 & 0 & -100.0 & 0.0 & 0.0 & 0.0 \\\\\n",
       "\\end{tabular}\n"
      ],
      "text/plain": [
       "15×19 DataFrame. Omitted printing of 12 columns\n",
       "│ Row │ objective │ bus │ gp     │ gq          │ voltage  │ alpha │ lambda │\n",
       "│     │ \u001b[90mFloat64\u001b[39m   │ \u001b[90mAny\u001b[39m │ \u001b[90mAny\u001b[39m    │ \u001b[90mAny\u001b[39m         │ \u001b[90mAny\u001b[39m      │ \u001b[90mAny\u001b[39m   │ \u001b[90mAny\u001b[39m    │\n",
       "├─────┼───────────┼─────┼────────┼─────────────┼──────────┼───────┼────────┤\n",
       "│ 1   │ 399.29    │ 1   │ 3.8177 │ 1.07126     │ 1.0      │ 0     │ -100.0 │\n",
       "│ 2   │ 0.0       │ 2   │ 0      │ 0           │ 0.915774 │ 0     │ -100.0 │\n",
       "│ 3   │ 0.0       │ 3   │ 0      │ 0           │ 0.949578 │ 0     │ -100.0 │\n",
       "│ 4   │ 0.0       │ 4   │ 0      │ 0           │ 1.00027  │ 0     │ -100.0 │\n",
       "│ 5   │ 0.0       │ 5   │ 0      │ 0           │ 1.01009  │ 0     │ -100.0 │\n",
       "│ 6   │ 0.0       │ 6   │ 0      │ 0           │ 1.02022  │ 0     │ -100.0 │\n",
       "│ 7   │ 0.0       │ 7   │ 0.8    │ -0.00323173 │ 1.05305  │ 0     │ -100.0 │\n",
       "│ 8   │ 0.0       │ 8   │ 0      │ 0           │ 0.965763 │ 0     │ -100.0 │\n",
       "│ 9   │ 0.0       │ 9   │ 0      │ 0           │ 0.997666 │ 0     │ -100.0 │\n",
       "│ 10  │ 0.0       │ 10  │ 0      │ 0           │ 1.00397  │ 0     │ -100.0 │\n",
       "│ 11  │ 0.0       │ 11  │ 0      │ 0           │ 1.02206  │ 0     │ -100.0 │\n",
       "│ 12  │ 0.0       │ 12  │ 0.8    │ 0.0749762   │ 1.03063  │ 0     │ -100.0 │\n",
       "│ 13  │ 0.0       │ 13  │ 0      │ 0           │ 0.946901 │ 0     │ -100.0 │\n",
       "│ 14  │ 0.0       │ 14  │ 0      │ 0           │ 0.931799 │ 0     │ -100.0 │\n",
       "│ 15  │ 0.0       │ 15  │ 0      │ 0           │ 0.923057 │ 0     │ -100.0 │"
      ]
     },
     "metadata": {},
     "output_type": "display_data"
    }
   ],
   "source": [
    "experiment3 = Dict()\n",
    "\n",
    "# Load feeder data \n",
    "feeder = load_feeder(\"data/feeder_data/basecase_noneg/\")\n",
    "\n",
    "# Set up\n",
    "relative_std = 0.2\n",
    "loads = [b.d_P for b in feeder.buses]\n",
    "std_vec = loads .* relative_std\n",
    "var_vec = std_vec.^2\n",
    "Σ = diagm(0 => var_vec)\n",
    "\n",
    "# ex3_general_settings\n",
    "ex3_general_settings = Dict(\n",
    "    \"var_vec\" => var_vec,\n",
    "    \"Σ\" => Σ,\n",
    "    \"z_g\" => 1.945,\n",
    "    \"z_v\" => 2.576,\n",
    "    \"toggle_volt_cc\" => false,\n",
    "    \"toggle_gen_cc\" => false,\n",
    "    \"vfac\" => 0, # decrease upper bound by factor (1-vfac) and increase lower bound by (1+vfac)\n",
    "    \"qcfac\" => 1,\n",
    "    \"output_level\" => 0,\n",
    "    \"Ψ\" => 0,\n",
    "    \"loadfac\" => 3\n",
    ")\n",
    "\n",
    "# ex3_no_uncert:\n",
    "ex3_no_uncert_settings = copy(ex3_general_settings)\n",
    "ex3_no_uncert_settings[\"toggle_volt_cc\"] = false\n",
    "ex3_no_uncert_settings[\"toggle_gen_cc\"] = false\n",
    "\n",
    "experiment3[\"no_uncert\"] = Dict(\n",
    "    \"verbose\" => \"ex3_no_uncert\",\n",
    "    \"feeder\" => feeder,\n",
    "    \"settings\" => ex3_no_uncert_settings,\n",
    ")\n",
    "\n",
    "# ex3_uncert:\n",
    "ex3_uncert_settings = copy(ex3_general_settings)\n",
    "ex3_uncert_settings[\"toggle_volt_cc\"] = true\n",
    "ex3_uncert_settings[\"toggle_gen_cc\"] = true\n",
    "experiment3[\"uncert\"] = Dict(\n",
    "    \"verbose\" => \"ex3_uncert\",\n",
    "    \"feeder\" => feeder,\n",
    "    \"settings\" => ex3_uncert_settings,\n",
    ")\n",
    "\n",
    "# ex3_gen_uncert:\n",
    "ex3_uncert_settings = copy(ex3_general_settings)\n",
    "ex3_uncert_settings[\"toggle_volt_cc\"] = false\n",
    "ex3_uncert_settings[\"toggle_gen_cc\"] = true\n",
    "experiment3[\"gen_uncert\"] = Dict(\n",
    "    \"verbose\" => \"ex3_gen_uncert\",\n",
    "    \"feeder\" => feeder,\n",
    "    \"settings\" => ex3_uncert_settings,\n",
    ")\n",
    "\n",
    "# Run \n",
    "experiment3 = run_experiment(experiment3)\n",
    "\n",
    "# Show results\n",
    "sleep(.2) # just to ensure correct printing order\n",
    "for case in keys(experiment3)\n",
    "    print(\">>> Case $case\")\n",
    "    sleep(.2)\n",
    "    display(experiment3[case][\"results\"])\n",
    "end"
   ]
  },
  {
   "cell_type": "markdown",
   "metadata": {},
   "source": [
    "## Experiment 4\n",
    "\n",
    "- Instead of uncertain load uncontrollable vs. controllable DERs\n",
    "- Maybe better in the 33-bus system?"
   ]
  },
  {
   "cell_type": "code",
   "execution_count": null,
   "metadata": {},
   "outputs": [],
   "source": []
  },
  {
   "cell_type": "markdown",
   "metadata": {},
   "source": [
    "## Prototyping Space"
   ]
  },
  {
   "cell_type": "code",
   "execution_count": 45,
   "metadata": {},
   "outputs": [
    {
     "data": {
      "text/plain": [
       "Dict{Any,Any} with 3 entries:\n",
       "  \"uncert\"     => Dict{String,Any}(\"settings\"=>Dict{String,Any}(\"var_vec\"=>[0.0…\n",
       "  \"gen_uncert\" => Dict{String,Any}(\"settings\"=>Dict{String,Any}(\"var_vec\"=>[0.0…\n",
       "  \"no_uncert\"  => Dict{String,Any}(\"settings\"=>Dict{String,Any}(\"var_vec\"=>[0.0…"
      ]
     },
     "execution_count": 45,
     "metadata": {},
     "output_type": "execute_result"
    }
   ],
   "source": [
    "experiment2\n"
   ]
  },
  {
   "cell_type": "code",
   "execution_count": 120,
   "metadata": {},
   "outputs": [
    {
     "data": {
      "text/plain": [
       "traverse (generic function with 2 methods)"
      ]
     },
     "execution_count": 120,
     "metadata": {},
     "output_type": "execute_result"
    }
   ],
   "source": [
    "function traverse(feeder, bus_idx; nodes=[])\n",
    "    push!(nodes, bus_idx)\n",
    "    if length(feeder.buses[bus_idx].children) > 0\n",
    "        for c in feeder.buses[bus_idx].children\n",
    "            nodes = traverse(feeder, c, nodes=nodes)\n",
    "        end\n",
    "    end\n",
    "    return nodes \n",
    "end"
   ]
  },
  {
   "cell_type": "code",
   "execution_count": 47,
   "metadata": {},
   "outputs": [
    {
     "data": {
      "text/plain": [
       "14×14 Array{Float64,2}:\n",
       " 0.001  0.001   0.001   0.001   0.001   …  0.001   0.0    0.0     0.0   \n",
       " 0.001  0.0893  0.0893  0.0893  0.0893     0.0893  0.0    0.0     0.0   \n",
       " 0.001  0.0893  0.2277  0.2277  0.2277     0.2277  0.0    0.0     0.0   \n",
       " 0.001  0.0893  0.2277  0.2468  0.2468     0.2277  0.0    0.0     0.0   \n",
       " 0.001  0.0893  0.2277  0.2468  0.2643     0.2277  0.0    0.0     0.0   \n",
       " 0.001  0.0893  0.2277  0.2468  0.2643  …  0.2277  0.0    0.0     0.0   \n",
       " 0.001  0.0893  0.2277  0.2277  0.2277     0.2684  0.0    0.0     0.0   \n",
       " 0.001  0.0893  0.2277  0.2277  0.2277     0.2684  0.0    0.0     0.0   \n",
       " 0.001  0.0893  0.2277  0.2277  0.2277     0.2784  0.0    0.0     0.0   \n",
       " 0.001  0.0893  0.2277  0.2277  0.2277     0.3025  0.0    0.0     0.0   \n",
       " 0.001  0.0893  0.2277  0.2277  0.2277  …  0.3128  0.0    0.0     0.0   \n",
       " 0.0    0.0     0.0     0.0     0.0        0.0     0.001  0.001   0.001 \n",
       " 0.0    0.0     0.0     0.0     0.0        0.0     0.001  0.1569  0.1569\n",
       " 0.0    0.0     0.0     0.0     0.0        0.0     0.001  0.1569  0.2522"
      ]
     },
     "execution_count": 47,
     "metadata": {},
     "output_type": "execute_result"
    }
   ],
   "source": [
    "Rd = feeder.R\n",
    "A = feeder.A[1:end, 2:end]\n",
    "R = A'*Rd*A\n",
    "\n",
    "\n"
   ]
  },
  {
   "cell_type": "code",
   "execution_count": 23,
   "metadata": {},
   "outputs": [
    {
     "data": {
      "text/plain": [
       "3-element Array{Generator,1}:\n",
       " Generator(\"g1\", 1, 1000.0, 1000.0, 50.0, 1000.0)\n",
       " Generator(\"g2\", 12, 0.8, 0.4, 10.0, 5.0)        \n",
       " Generator(\"g3\", 7, 0.8, 0.4, 10.0, 5.0)         "
      ]
     },
     "execution_count": 23,
     "metadata": {},
     "output_type": "execute_result"
    }
   ],
   "source": [
    "feeder.generators"
   ]
  },
  {
   "cell_type": "code",
   "execution_count": null,
   "metadata": {},
   "outputs": [],
   "source": [
    "# datadir = (\"data/feeder_data/basecase_noneg/\")\n",
    "datadir = (\"data/feeder_data/basecase_lv_noneg/\")\n",
    "# datadir = (\"data/feeder_data/feeder141/\")\n",
    "# datadir = (\"data/feeder_data/feeder141_lv/\")\n",
    "\n",
    "feeder = load_feeder(datadir);"
   ]
  },
  {
   "cell_type": "code",
   "execution_count": null,
   "metadata": {},
   "outputs": [],
   "source": []
  },
  {
   "cell_type": "code",
   "execution_count": null,
   "metadata": {},
   "outputs": [],
   "source": [
    "mu = results_df[:mu_plus] .+ results_df[:mu_minus]\n",
    "mu = mu[2:end]\n",
    "\n",
    "b = 1 ./ diag(C)\n",
    "b = [(x == Inf ? 0 : x) for x in b]\n",
    "\n",
    "g3 = 2*s*z*e'*R'*mu/sum(b)\n",
    "\n",
    "g1 = s^2/sum(b) \n",
    "\n",
    "delta = results_df[:delta_plus] .+ results_df[:delta_minus]\n",
    "detlta = delta[2:end]\n",
    "g2 = sum(delta.*b)/sum(b)\n",
    "\n",
    "g = -g1 - g2 + g3\n"
   ]
  },
  {
   "cell_type": "code",
   "execution_count": null,
   "metadata": {},
   "outputs": [],
   "source": [
    "saveres = results_df"
   ]
  },
  {
   "cell_type": "code",
   "execution_count": null,
   "metadata": {},
   "outputs": [],
   "source": [
    "CSV.write(\"figures/results_uncert.csv\", results_df)"
   ]
  },
  {
   "cell_type": "code",
   "execution_count": null,
   "metadata": {},
   "outputs": [],
   "source": [
    "shadow_price(m[:δp][12])"
   ]
  },
  {
   "cell_type": "code",
   "execution_count": null,
   "metadata": {},
   "outputs": [],
   "source": [
    "m.dictList"
   ]
  },
  {
   "cell_type": "code",
   "execution_count": 20,
   "metadata": {},
   "outputs": [
    {
     "data": {
      "text/plain": [
       "2×2 Array{Int64,2}:\n",
       " 1  2\n",
       " 3  4"
      ]
     },
     "execution_count": 20,
     "metadata": {},
     "output_type": "execute_result"
    }
   ],
   "source": [
    "A = [1 2; 3 4]"
   ]
  },
  {
   "cell_type": "code",
   "execution_count": 31,
   "metadata": {},
   "outputs": [
    {
     "ename": "MethodError",
     "evalue": "MethodError: objects of type Array{Bus,1} are not callable\nUse square brackets [] for indexing an Array.",
     "output_type": "error",
     "traceback": [
      "MethodError: objects of type Array{Bus,1} are not callable\nUse square brackets [] for indexing an Array.",
      "",
      "Stacktrace:",
      " [1] top-level scope at In[31]:1"
     ]
    }
   ],
   "source": [
    "feeder.buses()"
   ]
  },
  {
   "cell_type": "code",
   "execution_count": 144,
   "metadata": {},
   "outputs": [
    {
     "data": {
      "text/plain": [
       "\"190318_1923\""
      ]
     },
     "execution_count": 144,
     "metadata": {},
     "output_type": "execute_result"
    }
   ],
   "source": [
    "\n",
    "Dates.format(Dates.now(), \"yymmdd_HHMM\")"
   ]
  },
  {
   "cell_type": "code",
   "execution_count": null,
   "metadata": {},
   "outputs": [],
   "source": []
  }
 ],
 "metadata": {
  "hide_code_all_hidden": false,
  "kernelspec": {
   "display_name": "Julia 1.1.0",
   "language": "julia",
   "name": "julia-1.1"
  },
  "language_info": {
   "file_extension": ".jl",
   "mimetype": "application/julia",
   "name": "julia",
   "version": "1.1.0"
  },
  "varInspector": {
   "cols": {
    "lenName": 16,
    "lenType": 16,
    "lenVar": 40
   },
   "kernels_config": {
    "python": {
     "delete_cmd_postfix": "",
     "delete_cmd_prefix": "del ",
     "library": "var_list.py",
     "varRefreshCmd": "print(var_dic_list())"
    },
    "r": {
     "delete_cmd_postfix": ") ",
     "delete_cmd_prefix": "rm(",
     "library": "var_list.r",
     "varRefreshCmd": "cat(var_dic_list()) "
    }
   },
   "types_to_exclude": [
    "module",
    "function",
    "builtin_function_or_method",
    "instance",
    "_Feature"
   ],
   "window_display": false
  }
 },
 "nbformat": 4,
 "nbformat_minor": 2
}
