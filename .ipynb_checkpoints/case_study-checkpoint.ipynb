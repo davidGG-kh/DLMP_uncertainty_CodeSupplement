{
 "cells": [
  {
   "cell_type": "markdown",
   "metadata": {},
   "source": [
    "Notes and Todos:\n",
    "* put results handling in a function [done]\n"
   ]
  },
  {
   "cell_type": "code",
   "execution_count": null,
   "metadata": {},
   "outputs": [],
   "source": [
    "# IJulia.qtconsole();"
   ]
  },
  {
   "cell_type": "code",
   "execution_count": 1,
   "metadata": {
    "hideCode": false,
    "hidePrompt": false
   },
   "outputs": [
    {
     "data": {
      "text/plain": [
       "\"C:\\\\Users\\\\Robert\\\\Promotion\\\\Workshop\\\\02_cc_dlmp_varaware\\\\01_case_study_cc_dlmp\\\\Project.toml\""
      ]
     },
     "execution_count": 1,
     "metadata": {},
     "output_type": "execute_result"
    }
   ],
   "source": [
    "import Pkg\n",
    "Pkg.activate(\".\")\n",
    "# Pkg.instantiate()"
   ]
  },
  {
   "cell_type": "code",
   "execution_count": 2,
   "metadata": {
    "hideCode": false,
    "hidePrompt": false,
    "scrolled": true
   },
   "outputs": [],
   "source": [
    "using Logging\n",
    "using DataFrames, CSV, LinearAlgebra\n",
    "using JuMP\n",
    "# using Gurobi, Ipopt\n",
    "using Mosek, MosekTools"
   ]
  },
  {
   "cell_type": "code",
   "execution_count": 3,
   "metadata": {
    "hideCode": false,
    "hidePrompt": false
   },
   "outputs": [
    {
     "data": {
      "text/plain": [
       "results_to_df (generic function with 1 method)"
      ]
     },
     "execution_count": 3,
     "metadata": {},
     "output_type": "execute_result"
    }
   ],
   "source": [
    "include(\"src/input.jl\");\n",
    "include(\"src/model_definition.jl\")\n",
    "include(\"src/output.jl\")"
   ]
  },
  {
   "cell_type": "code",
   "execution_count": 4,
   "metadata": {
    "hideCode": false,
    "hidePrompt": false
   },
   "outputs": [
    {
     "name": "stdout",
     "output_type": "stream",
     "text": [
      ">>>>> Reading feeder data from data/feeder_data/basecase_noneg/\n"
     ]
    }
   ],
   "source": [
    "datadir = (\"data/feeder_data/basecase_noneg/\")\n",
    "# datadir = (\"data/feeder_data/feeder141/\")\n",
    "# datadir = (\"data/feeder_data/feeder141_lv/\")\n",
    "\n",
    "feeder = load_feeder(datadir);"
   ]
  },
  {
   "cell_type": "code",
   "execution_count": 5,
   "metadata": {
    "hideCode": false,
    "hidePrompt": false
   },
   "outputs": [
    {
     "data": {
      "text/plain": [
       "Dict{String,Any} with 10 entries:\n",
       "  \"var_vec\"        => [0.0, 0.00629801, 0.0, 4.0401e-6, 2.9929e-6, 8.4681e-6, 4…\n",
       "  \"toggle_volt_cc\" => true\n",
       "  \"qcfac\"          => 1\n",
       "  \"Ψ\"              => 0\n",
       "  \"Σ\"              => [0.0 0.0 … 0.0 0.0; 0.0 0.00629801 … 0.0 0.0; … ; 0.0 0.0…\n",
       "  \"toggle_gen_cc\"  => true\n",
       "  \"output_level\"   => 0\n",
       "  \"z_g\"            => 1.945\n",
       "  \"z_v\"            => 1.945\n",
       "  \"vfac\"           => 0"
      ]
     },
     "execution_count": 5,
     "metadata": {},
     "output_type": "execute_result"
    }
   ],
   "source": [
    "relative_std = 0.1\n",
    "loads = [b.d_P for b in feeder.buses]\n",
    "std_vec = loads .* relative_std\n",
    "var_vec = std_vec.^2\n",
    "Σ = diagm(0 => var_vec)\n",
    "\n",
    "casesettings = Dict(\n",
    "    \"var_vec\" => var_vec,\n",
    "    \"Σ\" => Σ,\n",
    "    \"z_g\" => 1.945 ,\n",
    "    \"z_v\" => 1.945,\n",
    "    \"toggle_volt_cc\" => true,\n",
    "    \"toggle_gen_cc\" => true,\n",
    "    \"vfac\" => 0,\n",
    "    \"qcfac\" => 1,\n",
    "    \"output_level\" => 0,\n",
    "    \"Ψ\" => 0,\n",
    ")"
   ]
  },
  {
   "cell_type": "code",
   "execution_count": 6,
   "metadata": {
    "hideCode": false,
    "hidePrompt": false
   },
   "outputs": [
    {
     "data": {
      "text/plain": [
       "(A JuMP Model\n",
       "Minimization problem with:\n",
       "Variables: 121\n",
       "Objective function type: GenericAffExpr{Float64,VariableRef}\n",
       "`VariableRef`-in-`MathOptInterface.GreaterThan{Float64}`: 47 constraints\n",
       "`GenericAffExpr{Float64,VariableRef}`-in-`MathOptInterface.EqualTo{Float64}`: 99 constraints\n",
       "`GenericAffExpr{Float64,VariableRef}`-in-`MathOptInterface.GreaterThan{Float64}`: 5 constraints\n",
       "`GenericAffExpr{Float64,VariableRef}`-in-`MathOptInterface.LessThan{Float64}`: 33 constraints\n",
       "`Array{GenericAffExpr{Float64,VariableRef},1}`-in-`MathOptInterface.SecondOrderCone`: 15 constraints\n",
       "Model mode: AUTOMATIC\n",
       "CachingOptimizer state: EMPTY_OPTIMIZER\n",
       "Solver name: Mosek\n",
       "Names registered in the model: fp, fq, gp, gp0_minus, gp0_plus, gq, linear_cost, r, t, v, variance_penalty, α, β, γ, δm, δp, ζ, η, θm, θp, λ, μm, μp, π, ρ, Dict{String,Any}(\"idx_to_bus\"=>Dict{Any,Any}(2=>3,11=>12,7=>8,9=>10,10=>11,8=>9,6=>7,4=>5,3=>4,5=>6…),\"bus_to_idx\"=>Dict{Any,Any}(2=>1,11=>10,7=>6,9=>8,10=>9,8=>7,6=>5,4=>3,3=>2,5=>4…),\"any_cc\"=>true))"
      ]
     },
     "execution_count": 6,
     "metadata": {},
     "output_type": "execute_result"
    }
   ],
   "source": [
    "m, meta = build_model(feeder, casesettings)"
   ]
  },
  {
   "cell_type": "code",
   "execution_count": 7,
   "metadata": {},
   "outputs": [
    {
     "name": "stdout",
     "output_type": "stream",
     "text": [
      "MOSEK warning 705: #3 (nearly) zero elements are specified in sparse row ''(87) of matrix 'A'.\n",
      "MOSEK warning 705: #4 (nearly) zero elements are specified in sparse row ''(93) of matrix 'A'.\n"
     ]
    },
    {
     "data": {
      "text/plain": [
       "OPTIMAL::TerminationStatusCode = 1"
      ]
     },
     "execution_count": 7,
     "metadata": {},
     "output_type": "execute_result"
    }
   ],
   "source": [
    "optimize!(m)\n",
    "status = termination_status(m)"
   ]
  },
  {
   "cell_type": "code",
   "execution_count": 8,
   "metadata": {},
   "outputs": [
    {
     "data": {
      "text/html": [
       "<table class=\"data-frame\"><thead><tr><th></th><th>objective</th><th>bus</th><th>gp</th><th>gq</th><th>voltage</th><th>alpha</th><th>lambda</th><th>pi</th><th>gamma</th><th>eta</th><th>delta_plus</th><th>delta_minus</th><th>mu_plus</th><th>mu_minus</th><th>voltvar</th></tr><tr><th></th><th>Float64</th><th>Any</th><th>Any</th><th>Any</th><th>Any</th><th>Any</th><th>Any</th><th>Any</th><th>Float64</th><th>Any</th><th>Any</th><th>Any</th><th>Any</th><th>Any</th><th>Any</th></tr></thead><tbody><p>15 rows × 15 columns</p><tr><th>1</th><td>28.6173</td><td>1</td><td>-1.41085e-7</td><td>0.919899</td><td>1.0</td><td>0.765167</td><td>-20.9929</td><td>-1.59254e-8</td><td>-8.18012</td><td>0</td><td>0</td><td>0</td><td>0</td><td>0</td><td>0</td></tr><tr><th>2</th><td>0.0</td><td>2</td><td>0</td><td>0</td><td>0.902044</td><td>0</td><td>-20.9929</td><td>-5.01859e-5</td><td>0.0</td><td>-7.89672e-9</td><td>0</td><td>0</td><td>-4.37564e-7</td><td>-0.000276133</td><td>0.000567509</td></tr><tr><th>3</th><td>0.0</td><td>3</td><td>0</td><td>0</td><td>0.957801</td><td>0</td><td>-20.9929</td><td>-3.3343e-5</td><td>0.0</td><td>-4.41779e-7</td><td>0</td><td>0</td><td>-7.39e-7</td><td>-3.49148e-6</td><td>0.0178157</td></tr><tr><th>4</th><td>0.0</td><td>4</td><td>0</td><td>0</td><td>1.03919</td><td>0</td><td>-20.9929</td><td>-5.77372e-6</td><td>0.0</td><td>-1.11578e-6</td><td>0</td><td>0</td><td>-4.19102e-6</td><td>-5.79349e-7</td><td>0.022235</td></tr><tr><th>5</th><td>0.0</td><td>5</td><td>0</td><td>0</td><td>1.04772</td><td>0</td><td>-20.9929</td><td>-3.96773e-6</td><td>0.0</td><td>-1.16917e-6</td><td>0</td><td>0</td><td>-5.20429e-6</td><td>-4.84486e-7</td><td>0.0196763</td></tr><tr><th>6</th><td>0.0</td><td>6</td><td>0</td><td>0</td><td>1.05584</td><td>0</td><td>-20.9929</td><td>-2.53523e-6</td><td>0.0</td><td>-1.21501e-6</td><td>0</td><td>0</td><td>-6.52909e-6</td><td>-4.69156e-7</td><td>0.0169503</td></tr><tr><th>7</th><td>0.0</td><td>7</td><td>0.902837</td><td>-0.240921</td><td>1.0797</td><td>0.117553</td><td>-20.9929</td><td>-5.86274e-7</td><td>0.0</td><td>-1.32771e-6</td><td>-8.73689</td><td>-2.34247e-7</td><td>-2.33063e-5</td><td>-4.83834e-7</td><td>0.00844098</td></tr><tr><th>8</th><td>0.0</td><td>8</td><td>0</td><td>0</td><td>1.03514</td><td>0</td><td>-20.9929</td><td>-1.4242e-6</td><td>0.0</td><td>-1.20397e-6</td><td>0</td><td>0</td><td>-4.211e-6</td><td>-7.67079e-7</td><td>0.0223299</td></tr><tr><th>9</th><td>0.0</td><td>9</td><td>0</td><td>0</td><td>1.04518</td><td>0</td><td>-20.9929</td><td>-1.9113e-6</td><td>0.0</td><td>-1.19566e-6</td><td>0</td><td>0</td><td>-5.58678e-6</td><td>-6.73484e-7</td><td>0.0196083</td></tr><tr><th>10</th><td>0.0</td><td>10</td><td>0</td><td>0</td><td>1.04886</td><td>0</td><td>-20.9929</td><td>-1.19093e-6</td><td>0.0</td><td>-1.21143e-6</td><td>0</td><td>0</td><td>-6.36789e-6</td><td>-6.71103e-7</td><td>0.0184559</td></tr><tr><th>11</th><td>0.0</td><td>11</td><td>0</td><td>0</td><td>1.05864</td><td>0</td><td>-20.9929</td><td>-1.66226e-7</td><td>0.0</td><td>-1.2426e-6</td><td>0</td><td>0</td><td>-9.50061e-6</td><td>-6.53679e-7</td><td>0.0153078</td></tr><tr><th>12</th><td>0.0</td><td>12</td><td>0.903063</td><td>-0.297978</td><td>1.06307</td><td>0.117279</td><td>-20.9929</td><td>-4.91708e-7</td><td>0.0</td><td>-1.25037e-6</td><td>-8.7369</td><td>-2.92707e-7</td><td>-1.18087e-5</td><td>-6.40316e-7</td><td>0.0138526</td></tr><tr><th>13</th><td>0.0</td><td>13</td><td>0</td><td>0</td><td>0.982619</td><td>0</td><td>-20.9929</td><td>-2.6638e-6</td><td>0.0</td><td>-1.33815e-12</td><td>0</td><td>0</td><td>0.0</td><td>-3.50727e-6</td><td>0.0258489</td></tr><tr><th>14</th><td>0.0</td><td>14</td><td>0</td><td>0</td><td>0.977795</td><td>0</td><td>-20.9929</td><td>-4.37772e-6</td><td>0.0</td><td>-1.02968e-10</td><td>0</td><td>0</td><td>0.0</td><td>-3.75109e-6</td><td>0.0242774</td></tr><tr><th>15</th><td>0.0</td><td>15</td><td>0</td><td>0</td><td>0.975027</td><td>0</td><td>-20.9929</td><td>-4.91223e-6</td><td>0.0</td><td>-2.34005e-10</td><td>0</td><td>0</td><td>0.0</td><td>-3.90718e-6</td><td>0.0233802</td></tr></tbody></table>"
      ],
      "text/latex": [
       "\\begin{tabular}{r|ccccccccccccccc}\n",
       "\t& objective & bus & gp & gq & voltage & alpha & lambda & pi & gamma & eta & delta\\_plus & delta\\_minus & mu\\_plus & mu\\_minus & voltvar\\\\\n",
       "\t\\hline\n",
       "\t& Float64 & Any & Any & Any & Any & Any & Any & Any & Float64 & Any & Any & Any & Any & Any & Any\\\\\n",
       "\t\\hline\n",
       "\t1 & 28.6173 & 1 & -1.41085e-7 & 0.919899 & 1.0 & 0.765167 & -20.9929 & -1.59254e-8 & -8.18012 & 0 & 0 & 0 & 0 & 0 & 0 \\\\\n",
       "\t2 & 0.0 & 2 & 0 & 0 & 0.902044 & 0 & -20.9929 & -5.01859e-5 & 0.0 & -7.89672e-9 & 0 & 0 & -4.37564e-7 & -0.000276133 & 0.000567509 \\\\\n",
       "\t3 & 0.0 & 3 & 0 & 0 & 0.957801 & 0 & -20.9929 & -3.3343e-5 & 0.0 & -4.41779e-7 & 0 & 0 & -7.39e-7 & -3.49148e-6 & 0.0178157 \\\\\n",
       "\t4 & 0.0 & 4 & 0 & 0 & 1.03919 & 0 & -20.9929 & -5.77372e-6 & 0.0 & -1.11578e-6 & 0 & 0 & -4.19102e-6 & -5.79349e-7 & 0.022235 \\\\\n",
       "\t5 & 0.0 & 5 & 0 & 0 & 1.04772 & 0 & -20.9929 & -3.96773e-6 & 0.0 & -1.16917e-6 & 0 & 0 & -5.20429e-6 & -4.84486e-7 & 0.0196763 \\\\\n",
       "\t6 & 0.0 & 6 & 0 & 0 & 1.05584 & 0 & -20.9929 & -2.53523e-6 & 0.0 & -1.21501e-6 & 0 & 0 & -6.52909e-6 & -4.69156e-7 & 0.0169503 \\\\\n",
       "\t7 & 0.0 & 7 & 0.902837 & -0.240921 & 1.0797 & 0.117553 & -20.9929 & -5.86274e-7 & 0.0 & -1.32771e-6 & -8.73689 & -2.34247e-7 & -2.33063e-5 & -4.83834e-7 & 0.00844098 \\\\\n",
       "\t8 & 0.0 & 8 & 0 & 0 & 1.03514 & 0 & -20.9929 & -1.4242e-6 & 0.0 & -1.20397e-6 & 0 & 0 & -4.211e-6 & -7.67079e-7 & 0.0223299 \\\\\n",
       "\t9 & 0.0 & 9 & 0 & 0 & 1.04518 & 0 & -20.9929 & -1.9113e-6 & 0.0 & -1.19566e-6 & 0 & 0 & -5.58678e-6 & -6.73484e-7 & 0.0196083 \\\\\n",
       "\t10 & 0.0 & 10 & 0 & 0 & 1.04886 & 0 & -20.9929 & -1.19093e-6 & 0.0 & -1.21143e-6 & 0 & 0 & -6.36789e-6 & -6.71103e-7 & 0.0184559 \\\\\n",
       "\t11 & 0.0 & 11 & 0 & 0 & 1.05864 & 0 & -20.9929 & -1.66226e-7 & 0.0 & -1.2426e-6 & 0 & 0 & -9.50061e-6 & -6.53679e-7 & 0.0153078 \\\\\n",
       "\t12 & 0.0 & 12 & 0.903063 & -0.297978 & 1.06307 & 0.117279 & -20.9929 & -4.91708e-7 & 0.0 & -1.25037e-6 & -8.7369 & -2.92707e-7 & -1.18087e-5 & -6.40316e-7 & 0.0138526 \\\\\n",
       "\t13 & 0.0 & 13 & 0 & 0 & 0.982619 & 0 & -20.9929 & -2.6638e-6 & 0.0 & -1.33815e-12 & 0 & 0 & 0.0 & -3.50727e-6 & 0.0258489 \\\\\n",
       "\t14 & 0.0 & 14 & 0 & 0 & 0.977795 & 0 & -20.9929 & -4.37772e-6 & 0.0 & -1.02968e-10 & 0 & 0 & 0.0 & -3.75109e-6 & 0.0242774 \\\\\n",
       "\t15 & 0.0 & 15 & 0 & 0 & 0.975027 & 0 & -20.9929 & -4.91223e-6 & 0.0 & -2.34005e-10 & 0 & 0 & 0.0 & -3.90718e-6 & 0.0233802 \\\\\n",
       "\\end{tabular}\n"
      ],
      "text/plain": [
       "15×15 DataFrame. Omitted printing of 9 columns\n",
       "│ Row │ objective │ bus │ gp          │ gq        │ voltage  │ alpha    │\n",
       "│     │ \u001b[90mFloat64\u001b[39m   │ \u001b[90mAny\u001b[39m │ \u001b[90mAny\u001b[39m         │ \u001b[90mAny\u001b[39m       │ \u001b[90mAny\u001b[39m      │ \u001b[90mAny\u001b[39m      │\n",
       "├─────┼───────────┼─────┼─────────────┼───────────┼──────────┼──────────┤\n",
       "│ 1   │ 28.6173   │ 1   │ -1.41085e-7 │ 0.919899  │ 1.0      │ 0.765167 │\n",
       "│ 2   │ 0.0       │ 2   │ 0           │ 0         │ 0.902044 │ 0        │\n",
       "│ 3   │ 0.0       │ 3   │ 0           │ 0         │ 0.957801 │ 0        │\n",
       "│ 4   │ 0.0       │ 4   │ 0           │ 0         │ 1.03919  │ 0        │\n",
       "│ 5   │ 0.0       │ 5   │ 0           │ 0         │ 1.04772  │ 0        │\n",
       "│ 6   │ 0.0       │ 6   │ 0           │ 0         │ 1.05584  │ 0        │\n",
       "│ 7   │ 0.0       │ 7   │ 0.902837    │ -0.240921 │ 1.0797   │ 0.117553 │\n",
       "│ 8   │ 0.0       │ 8   │ 0           │ 0         │ 1.03514  │ 0        │\n",
       "│ 9   │ 0.0       │ 9   │ 0           │ 0         │ 1.04518  │ 0        │\n",
       "│ 10  │ 0.0       │ 10  │ 0           │ 0         │ 1.04886  │ 0        │\n",
       "│ 11  │ 0.0       │ 11  │ 0           │ 0         │ 1.05864  │ 0        │\n",
       "│ 12  │ 0.0       │ 12  │ 0.903063    │ -0.297978 │ 1.06307  │ 0.117279 │\n",
       "│ 13  │ 0.0       │ 13  │ 0           │ 0         │ 0.982619 │ 0        │\n",
       "│ 14  │ 0.0       │ 14  │ 0           │ 0         │ 0.977795 │ 0        │\n",
       "│ 15  │ 0.0       │ 15  │ 0           │ 0         │ 0.975027 │ 0        │"
      ]
     },
     "execution_count": 8,
     "metadata": {},
     "output_type": "execute_result"
    }
   ],
   "source": [
    "results_df = results_to_df(m, meta, feeder)"
   ]
  },
  {
   "cell_type": "code",
   "execution_count": null,
   "metadata": {},
   "outputs": [],
   "source": [
    "saveres = results_df"
   ]
  },
  {
   "cell_type": "code",
   "execution_count": null,
   "metadata": {},
   "outputs": [],
   "source": [
    "CSV.write(\"figures/141res_lv.csv\", saveres)"
   ]
  },
  {
   "cell_type": "code",
   "execution_count": null,
   "metadata": {},
   "outputs": [],
   "source": [
    "mu = results_df[:mu_plus] .+ results_df[:mu_minus]\n",
    "mu = mu[2:end]\n",
    "\n",
    "b = 1 ./ diag(C)\n",
    "b = [(x == Inf ? 0 : x) for x in b]\n",
    "\n",
    "g3 = 2*s*z*e'*R'*mu/sum(b)\n",
    "\n",
    "g1 = s^2/sum(b) \n",
    "\n",
    "delta = results_df[:delta_plus] .+ results_df[:delta_minus]\n",
    "detlta = delta[2:end]\n",
    "g2 = sum(delta.*b)/sum(b)\n",
    "\n",
    "g = -g1 - g2 + g3\n"
   ]
  },
  {
   "cell_type": "code",
   "execution_count": null,
   "metadata": {},
   "outputs": [],
   "source": [
    "saveres = results_df"
   ]
  },
  {
   "cell_type": "code",
   "execution_count": null,
   "metadata": {},
   "outputs": [],
   "source": [
    "CSV.write(\"figures/results_uncert.csv\", results_df)"
   ]
  },
  {
   "cell_type": "code",
   "execution_count": null,
   "metadata": {},
   "outputs": [],
   "source": [
    "shadow_price(m[:δp][12])"
   ]
  },
  {
   "cell_type": "code",
   "execution_count": null,
   "metadata": {},
   "outputs": [],
   "source": [
    "m.dictList"
   ]
  },
  {
   "cell_type": "code",
   "execution_count": null,
   "metadata": {},
   "outputs": [],
   "source": []
  }
 ],
 "metadata": {
  "hide_code_all_hidden": false,
  "kernelspec": {
   "display_name": "Julia 1.1.0",
   "language": "julia",
   "name": "julia-1.1"
  },
  "language_info": {
   "file_extension": ".jl",
   "mimetype": "application/julia",
   "name": "julia",
   "version": "1.1.0"
  },
  "varInspector": {
   "cols": {
    "lenName": 16,
    "lenType": 16,
    "lenVar": 40
   },
   "kernels_config": {
    "python": {
     "delete_cmd_postfix": "",
     "delete_cmd_prefix": "del ",
     "library": "var_list.py",
     "varRefreshCmd": "print(var_dic_list())"
    },
    "r": {
     "delete_cmd_postfix": ") ",
     "delete_cmd_prefix": "rm(",
     "library": "var_list.r",
     "varRefreshCmd": "cat(var_dic_list()) "
    }
   },
   "types_to_exclude": [
    "module",
    "function",
    "builtin_function_or_method",
    "instance",
    "_Feature"
   ],
   "window_display": false
  }
 },
 "nbformat": 4,
 "nbformat_minor": 2
}
