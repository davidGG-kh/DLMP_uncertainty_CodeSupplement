{
 "cells": [
  {
   "cell_type": "code",
   "execution_count": 2,
   "metadata": {},
   "outputs": [],
   "source": [
    "# IJulia.qtconsole();"
   ]
  },
  {
   "cell_type": "code",
   "execution_count": 1,
   "metadata": {
    "hideCode": false,
    "hidePrompt": false
   },
   "outputs": [
    {
     "data": {
      "text/plain": [
       "\"C:\\\\Users\\\\Robert\\\\Promotion\\\\Workshop\\\\Variance_aware_opf\\\\cc_dist_lmp\\\\Project.toml\""
      ]
     },
     "execution_count": 1,
     "metadata": {},
     "output_type": "execute_result"
    }
   ],
   "source": [
    "import Pkg\n",
    "Pkg.activate(\".\")\n",
    "# Pkg.instantiate()"
   ]
  },
  {
   "cell_type": "code",
   "execution_count": 7,
   "metadata": {
    "hideCode": false,
    "hidePrompt": false,
    "scrolled": true
   },
   "outputs": [],
   "source": [
    "using Logging\n",
    "using DataFrames, CSV, LinearAlgebra\n",
    "using JuMP\n",
    "# using Gurobi, Ipopt\n",
    "using Mosek, MosekTools"
   ]
  },
  {
   "cell_type": "code",
   "execution_count": 10,
   "metadata": {
    "hideCode": false,
    "hidePrompt": false
   },
   "outputs": [],
   "source": [
    "include(\"src/input.jl\");"
   ]
  },
  {
   "cell_type": "code",
   "execution_count": 40,
   "metadata": {
    "hideCode": false,
    "hidePrompt": false
   },
   "outputs": [
    {
     "name": "stdout",
     "output_type": "stream",
     "text": [
      ">>>>> Reading feeder data from data/feeder_data/feeder141_lv/\n"
     ]
    }
   ],
   "source": [
    "# datadir = (\"data/feeder_data/basecase_noneg/\")\n",
    "# datadir = (\"data/feeder_data/feeder141/\")\n",
    "datadir = (\"data/feeder_data/feeder141_lv/\")\n",
    "\n",
    "feeder = load_feeder(datadir);"
   ]
  },
  {
   "cell_type": "code",
   "execution_count": 41,
   "metadata": {
    "hideCode": false,
    "hidePrompt": false
   },
   "outputs": [],
   "source": [
    "buses = feeder.buses\n",
    "lines = feeder.lines\n",
    "generators = feeder.generators\n",
    "n_buses = feeder.n_buses\n",
    "root_bus = feeder.root_bus\n",
    "gen_buses = feeder.gen_buses\n",
    "lines_to = feeder.line_to\n",
    "v_root = 1\n",
    "\n",
    "Rd = feeder.R\n",
    "A = feeder.A[1:end, 2:end]\n",
    "R = A'*Rd*A\n",
    "R_check = R^(-1)\n",
    "\n",
    "e = ones(n_buses-1)\n",
    "\n",
    "bus_set = collect(1:n_buses)\n",
    "non_root_buses = setdiff(bus_set, [root_bus])\n",
    ";"
   ]
  },
  {
   "cell_type": "code",
   "execution_count": 42,
   "metadata": {
    "hideCode": false,
    "hidePrompt": false
   },
   "outputs": [],
   "source": [
    "relative_std = 0.1\n",
    "loads = [b.d_P for b in buses]\n",
    "std_vec = loads .* relative_std\n",
    "var_vec = std_vec.^2\n",
    "Σ = diagm(0 => var_vec)\n",
    "Σ_rt = Σ[2:end, 2:end]^(1/2)\n",
    "s = sqrt(sum(var_vec))\n",
    "\n",
    "z = 2.326 # 0.99 quantile\n",
    "# z = 1.945 # 0.95 quantile\n",
    "\n",
    "quad_cost_factor = 0.5\n",
    "\n",
    "c = [] # cost vector\n",
    "C = zeros(n_buses,n_buses)\n",
    "for i in 1:n_buses\n",
    "    if i in gen_buses\n",
    "        c_i = buses[i].generator.cost\n",
    "        C[i,i] = c_i*quad_cost_factor\n",
    "    else\n",
    "        c_i = 0\n",
    "    end\n",
    "    push!(c, c_i)\n",
    "end\n",
    "F = C^(1/2)\n",
    ";"
   ]
  },
  {
   "cell_type": "code",
   "execution_count": 48,
   "metadata": {
    "hideCode": false,
    "hidePrompt": false
   },
   "outputs": [
    {
     "data": {
      "text/latex": [
       "$$ 10 gp_{30} + 12 gp_{40} + 11 gp_{50} + 15 gp_{60} + 10 gp_{70} + 17 gp_{80} + 10 gp_{101} + 13 gp_{121} + 40 gp0_plus + r $$"
      ],
      "text/plain": [
       "10 gp[30] + 12 gp[40] + 11 gp[50] + 15 gp[60] + 10 gp[70] + 17 gp[80] + 10 gp[101] + 13 gp[121] + 40 gp0_plus + r"
      ]
     },
     "execution_count": 48,
     "metadata": {},
     "output_type": "execute_result"
    }
   ],
   "source": [
    "toggle_volt_cc = true\n",
    "toggle_gen_cc = true\n",
    "vfac = 0\n",
    "\n",
    "output_level = 0\n",
    "\n",
    "Ψ = 0\n",
    "\n",
    "any_cc = toggle_volt_cc || toggle_gen_cc\n",
    "\n",
    "m = Model(with_optimizer(Mosek.Optimizer, MSK_IPAR_LOG=10))\n",
    "\n",
    "# Standard Constraints \n",
    "@variable(m, v[bus_set] >=0) # voltage square\n",
    "@variable(m, fp[bus_set]) # active power flow\n",
    "@variable(m, fq[bus_set]) # reactive power flow\n",
    "@variable(m, gp[bus_set]) # active power generation\n",
    "@variable(m, gq[bus_set]) # reactive power generation\n",
    "@variable(m, r >= 0) # quadratic part of cost function \n",
    "@variable(m, gp0_plus >= 0)\n",
    "@variable(m, gp0_minus >= 0)\n",
    "\n",
    "if any_cc\n",
    "    @variable(m, α[bus_set] >=0) # Balancing Participation factor\n",
    "end\n",
    "if toggle_volt_cc\n",
    "    # additonal variables needed for voltage soc reformulation\n",
    "    n = n_buses-1\n",
    "    @variable(m, ρ[1:n]) \n",
    "    @variable(m, t[1:n] >=0)\n",
    "end\n",
    "\n",
    "# Energy Balances\n",
    "@constraint(m, λ[b=bus_set], buses[b].d_P - gp[b] + sum(fp[k] for k in buses[b].children) == fp[b])\n",
    "@constraint(m, π[b=bus_set], buses[b].d_Q - gq[b] + sum(fq[k] for k in buses[b].children) == fq[b])\n",
    "@constraint(m, gp[root_bus] == gp0_plus - gp0_minus)\n",
    "\n",
    "non_root_buses = setdiff(bus_set, [root_bus])\n",
    "\n",
    "# Deterministic voltage equations\n",
    "@constraint(m, β[b=non_root_buses], v[b] == v[buses[b].ancestor[1]] - 2*(lines_to[b].r * fp[b] + lines_to[b].x * fq[b]))\n",
    "\n",
    "# Substation Constraints\n",
    "@constraint(m, v[root_bus] == v_root)\n",
    "@constraint(m, fp[root_bus] == 0)\n",
    "@constraint(m, fq[root_bus] == 0)\n",
    "\n",
    "# Non-generating bus constraints\n",
    "buses_without_generation = setdiff(bus_set, gen_buses)\n",
    "# buses_without_generation = non_root_buses\n",
    "@constraint(m, [b=buses_without_generation], gp[b] == 0)\n",
    "@constraint(m, [b=buses_without_generation], gq[b] == 0)\n",
    "\n",
    "if any_cc\n",
    "    # Balancing of participation\n",
    "    @constraint(m, γ, sum(α) == 1)\n",
    "    @constraint(m, [b=buses_without_generation], α[b] == 0)\n",
    "end\n",
    "\n",
    "# Deterministic Voltage Constraints\n",
    "if  toggle_volt_cc\n",
    "    # Voltage Chance Constraints\n",
    "    eΣ_rt = Array(e'*Σ_rt)\n",
    "    RΣ_rt = Array(R'*Σ_rt)\n",
    "    soc_vectors = []\n",
    "    idx_to_bus = Dict()\n",
    "    bus_to_idx = Dict()\n",
    "    for (i, b) in enumerate(non_root_buses)\n",
    "        idx_to_bus[i] = b\n",
    "        bus_to_idx[b] = i\n",
    "        y = RΣ_rt[i,:] - ρ[i].*eΣ_rt'\n",
    "        soc = vcat(t[i], y)\n",
    "        soc = vec(soc)\n",
    "        push!(soc_vectors, soc)\n",
    "    end\n",
    "    # NOTE: indices of constraints refer to non-root indices \n",
    "    @constraint(m, ζ[i=1:n], soc_vectors[i] in SecondOrderCone())\n",
    "    @constraint(m, η[i=1:n], sum(R_check[i,ii] * ρ[ii] for ii in 1:n) == α[i])\n",
    "    @constraint(m, μp[b=non_root_buses], v[b] + 2*z*t[bus_to_idx[b]] <= buses[b].v_max*(1-vfac))\n",
    "    @constraint(m, μm[b=non_root_buses], -v[b] + 2*z*t[bus_to_idx[b]]  <= -buses[b].v_min*(1+vfac))\n",
    "else    \n",
    "    idx_to_bus = collect(1:n_buses)\n",
    "    bus_to_idx = collect(1:n_buses)\n",
    "    @constraint(m, μp[b=non_root_buses], v[b] <= buses[b].v_max*(1-vfac))\n",
    "    @constraint(m, μm[b=non_root_buses], v[b] >= buses[b].v_min*(1+vfac))\n",
    "end\n",
    "\n",
    "\n",
    "if toggle_gen_cc\n",
    "    # Generation Chance Constraints    \n",
    "    @constraint(m, δp[b=setdiff(gen_buses,[root_bus])], gp[b] + α[b]*z*s <= buses[b].generator.g_P_max)\n",
    "    @constraint(m, δm[b=setdiff(gen_buses,[root_bus])], gp[b] - α[b]*z*s >= 0)\n",
    "#     @constraint(m, gp[root_bus] - α[root_bus]*z*s >= 0)\n",
    "else\n",
    "    # Deterministic constraints on active power\n",
    "    @constraint(m, δp[b=setdiff(gen_buses,[root_bus])], gp[b] <= buses[b].generator.g_P_max)\n",
    "    @constraint(m, δm[b=setdiff(gen_buses,[root_bus])], gp[b] >= 0)\n",
    "#     @constraint(m, gp[root_bus] >= 0)\n",
    "end\n",
    "# Reactive Power Constraints\n",
    "@constraint(m, θp[b=gen_buses], gq[b] <= buses[b].generator.g_Q_max)\n",
    "@constraint(m, θm[b=gen_buses], gq[b] >= -buses[b].generator.g_Q_max)\n",
    "\n",
    "\n",
    "# Quadratic Objective as SOC\n",
    "@expression(m, linear_cost, sum(gp[b]*c[b] for b in non_root_buses) + c[root_bus]*(gp0_plus+gp0_plus))\n",
    "if any_cc\n",
    "    cost_soc = vcat(r, C'*gp + s.*C'*α)\n",
    "else\n",
    "    cost_soc = vcat(r, C'*gp)\n",
    "end\n",
    "@constraint(m, cost_soc in SecondOrderCone())\n",
    "\n",
    "# Variance penalty\n",
    "if any_cc\n",
    "    @expression(m, variance_penalty, Ψ*sum(t))\n",
    "else\n",
    "    @expression(m, variance_penalty, 0)\n",
    "end\n",
    "\n",
    "\n",
    "@objective(m, Min, linear_cost + r + variance_penalty)"
   ]
  },
  {
   "cell_type": "code",
   "execution_count": 49,
   "metadata": {},
   "outputs": [
    {
     "name": "stdout",
     "output_type": "stream",
     "text": [
      "MOSEK warning 705: #81 (nearly) zero elements are specified in sparse row ''(823) of matrix 'A'.\n",
      "MOSEK warning 705: #79 (nearly) zero elements are specified in sparse row ''(824) of matrix 'A'.\n",
      "MOSEK warning 705: #79 (nearly) zero elements are specified in sparse row ''(825) of matrix 'A'.\n",
      "MOSEK warning 705: #76 (nearly) zero elements are specified in sparse row ''(826) of matrix 'A'.\n",
      "MOSEK warning 705: #64 (nearly) zero elements are specified in sparse row ''(827) of matrix 'A'.\n",
      "MOSEK warning 705: #57 (nearly) zero elements are specified in sparse row ''(828) of matrix 'A'.\n",
      "MOSEK warning 705: #63 (nearly) zero elements are specified in sparse row ''(829) of matrix 'A'.\n",
      "MOSEK warning 705: #45 (nearly) zero elements are specified in sparse row ''(830) of matrix 'A'.\n",
      "MOSEK warning 705: #39 (nearly) zero elements are specified in sparse row ''(831) of matrix 'A'.\n",
      "MOSEK warning 705: #45 (nearly) zero elements are specified in sparse row ''(832) of matrix 'A'.\n",
      "Warning number 705 is disabled.\n",
      "Problem\n",
      "  Name                   :                 \n",
      "  Objective sense        : min             \n",
      "  Type                   : CONIC (conic optimization problem)\n",
      "  Constraints            : 21159           \n",
      "  Cones                  : 141             \n",
      "  Scalar variables       : 21011           \n",
      "  Matrix variables       : 0               \n",
      "  Integer variables      : 0               \n",
      "\n",
      "Optimizer started.\n",
      "Presolve started.\n",
      "Linear dependency checker started.\n",
      "Linear dependency checker terminated.\n",
      "Eliminator started.\n",
      "Freed constraints in eliminator : 244\n",
      "Eliminator terminated.\n",
      "Eliminator started.\n",
      "Freed constraints in eliminator : 0\n",
      "Eliminator terminated.\n",
      "Eliminator - tries                  : 2                 time                   : 0.00            \n",
      "Lin. dep.  - tries                  : 1                 time                   : 0.00            \n",
      "Lin. dep.  - number                 : 0               \n",
      "Presolve terminated. Time: 0.05    \n",
      "Problem\n",
      "  Name                   :                 \n",
      "  Objective sense        : min             \n",
      "  Type                   : CONIC (conic optimization problem)\n",
      "  Constraints            : 21159           \n",
      "  Cones                  : 141             \n",
      "  Scalar variables       : 21011           \n",
      "  Matrix variables       : 0               \n",
      "  Integer variables      : 0               \n",
      "\n",
      "Optimizer  - threads                : 2               \n",
      "Optimizer  - solved problem         : the primal      \n",
      "Optimizer  - Constraints            : 12204\n",
      "Optimizer  - Cones                  : 142\n",
      "Optimizer  - Scalar variables       : 12368             conic                  : 12055           \n",
      "Optimizer  - Semi-definite variables: 0                 scalarized             : 0               \n",
      "Factor     - setup time             : 0.08              dense det. time        : 0.00            \n",
      "Factor     - ML order time          : 0.03              GP order time          : 0.00            \n",
      "Factor     - nonzeros before factor : 5.99e+05          after factor           : 6.05e+05        \n",
      "Factor     - dense dim.             : 0                 flops                  : 3.99e+07        \n",
      "ITE PFEAS    DFEAS    GFEAS    PRSTATUS   POBJ              DOBJ              MU       TIME  \n",
      "0   3.0e+00  1.0e+01  1.3e+00  0.00e+00   4.000000000e+00   0.000000000e+00   1.0e+00  0.13  \n",
      "1   9.3e-01  3.1e+00  3.5e-01  -5.63e-01  9.036397620e+00   1.658378279e+01   3.1e-01  0.17  \n",
      "2   2.4e-01  8.0e-01  2.7e-01  1.24e+00   1.728913785e+02   1.726646776e+02   8.0e-02  0.19  \n",
      "3   9.6e-02  3.2e-01  2.9e-01  1.13e+00   2.222436095e+02   2.218602198e+02   3.2e-02  0.22  \n",
      "4   5.8e-02  1.9e-01  3.8e-01  3.02e+00   2.414126587e+02   2.412945657e+02   1.9e-02  0.25  \n",
      "5   1.3e-02  4.3e-02  2.1e-01  2.69e+00   2.482730007e+02   2.482653278e+02   4.3e-03  0.27  \n",
      "6   2.2e-03  7.5e-03  1.0e-01  1.39e+00   2.488725753e+02   2.488713354e+02   7.4e-04  0.28  \n",
      "7   4.0e-05  1.3e-04  1.7e-02  1.02e+00   2.489764207e+02   2.489763908e+02   1.3e-05  0.30  \n",
      "8   3.5e-06  1.2e-05  5.5e-03  1.00e+00   2.489782980e+02   2.489782951e+02   1.2e-06  0.30  \n",
      "9   7.5e-09  2.5e-08  2.8e-04  1.01e+00   2.489784827e+02   2.489784826e+02   2.2e-09  0.31  \n",
      "Optimizer terminated. Time: 0.34    \n",
      "\n"
     ]
    },
    {
     "data": {
      "text/plain": [
       "OPTIMAL::TerminationStatusCode = 1"
      ]
     },
     "execution_count": 49,
     "metadata": {},
     "output_type": "execute_result"
    }
   ],
   "source": [
    "optimize!(m)\n",
    "status = termination_status(m)"
   ]
  },
  {
   "cell_type": "code",
   "execution_count": 50,
   "metadata": {
    "hideCode": false,
    "hidePrompt": false
   },
   "outputs": [
    {
     "data": {
      "text/html": [
       "<table class=\"data-frame\"><thead><tr><th></th><th>objective</th><th>bus</th><th>gp</th><th>gq</th><th>voltage</th><th>alpha</th><th>lambda</th><th>pi</th><th>gamma</th><th>eta</th><th>delta_plus</th><th>delta_minus</th><th>mu_plus</th><th>mu_minus</th><th>voltvar</th></tr><tr><th></th><th>Float64</th><th>Any</th><th>Any</th><th>Any</th><th>Any</th><th>Any</th><th>Any</th><th>Any</th><th>Float64</th><th>Any</th><th>Any</th><th>Any</th><th>Any</th><th>Any</th><th>Any</th></tr></thead><tbody><p>141 rows × 15 columns</p><tr><th>1</th><td>248.978</td><td>1</td><td>1.9964</td><td>-0.462831</td><td>1.0</td><td>1.0</td><td>-45.8653</td><td>-1.73606e-10</td><td>-1.06123</td><td>0</td><td>0</td><td>0</td><td>0</td><td>0</td><td>0</td></tr><tr><th>2</th><td>0.0</td><td>2</td><td>0</td><td>0</td><td>0.99379</td><td>0</td><td>-45.8653</td><td>-1.49032e-8</td><td>0.0</td><td>-9.92961e-9</td><td>0</td><td>0</td><td>-6.66437e-10</td><td>-2.09075e-9</td><td>0.0148595</td></tr><tr><th>3</th><td>0.0</td><td>3</td><td>0</td><td>0</td><td>0.977076</td><td>0</td><td>-45.8653</td><td>-5.99418e-8</td><td>0.0</td><td>-3.96135e-8</td><td>0</td><td>0</td><td>-4.42585e-10</td><td>-6.01096e-9</td><td>0.0120007</td></tr><tr><th>4</th><td>0.0</td><td>4</td><td>0</td><td>0</td><td>0.976987</td><td>0</td><td>-45.8653</td><td>-6.01624e-8</td><td>0.0</td><td>-3.97683e-8</td><td>0</td><td>0</td><td>-4.41954e-10</td><td>-6.04199e-9</td><td>0.0119951</td></tr><tr><th>5</th><td>0.0</td><td>5</td><td>0</td><td>0</td><td>0.976086</td><td>0</td><td>-45.8653</td><td>-6.25467e-8</td><td>0.0</td><td>-4.13482e-8</td><td>0</td><td>0</td><td>-4.75746e-10</td><td>-5.22071e-9</td><td>0.0135097</td></tr><tr><th>6</th><td>0.0</td><td>6</td><td>0</td><td>0</td><td>0.975672</td><td>0</td><td>-45.8653</td><td>-6.43349e-8</td><td>0.0</td><td>-4.25123e-8</td><td>0</td><td>0</td><td>-4.34054e-10</td><td>-6.60235e-9</td><td>0.0119199</td></tr><tr><th>7</th><td>0.0</td><td>7</td><td>0</td><td>0</td><td>0.97061</td><td>0</td><td>-45.8653</td><td>-9.2287e-8</td><td>0.0</td><td>-4.89049e-8</td><td>0</td><td>0</td><td>-4.2725e-10</td><td>-6.53733e-9</td><td>0.012907</td></tr><tr><th>8</th><td>0.0</td><td>8</td><td>0</td><td>0</td><td>0.968363</td><td>0</td><td>-45.8653</td><td>-1.32706e-7</td><td>0.0</td><td>-5.8156e-8</td><td>0</td><td>0</td><td>-3.82087e-10</td><td>-8.56267e-9</td><td>0.0112524</td></tr><tr><th>9</th><td>0.0</td><td>9</td><td>0</td><td>0</td><td>0.966086</td><td>0</td><td>-45.8653</td><td>-1.51569e-7</td><td>0.0</td><td>-6.62967e-8</td><td>0</td><td>0</td><td>-3.68235e-10</td><td>-9.39019e-9</td><td>0.0110227</td></tr><tr><th>10</th><td>0.0</td><td>10</td><td>0</td><td>0</td><td>0.964346</td><td>0</td><td>-45.8653</td><td>-1.66281e-7</td><td>0.0</td><td>-7.26417e-8</td><td>0</td><td>0</td><td>-3.8408e-10</td><td>-8.41308e-9</td><td>0.0121187</td></tr><tr><th>11</th><td>0.0</td><td>11</td><td>0</td><td>0</td><td>0.96442</td><td>0</td><td>-45.8653</td><td>-1.69621e-7</td><td>0.0</td><td>-7.40857e-8</td><td>0</td><td>0</td><td>-3.84653e-10</td><td>-8.39017e-9</td><td>0.0121352</td></tr><tr><th>12</th><td>0.0</td><td>12</td><td>0</td><td>0</td><td>0.966033</td><td>0</td><td>-45.8653</td><td>-2.06598e-7</td><td>0.0</td><td>-9.00784e-8</td><td>0</td><td>0</td><td>-3.69738e-10</td><td>-9.52778e-9</td><td>0.0111583</td></tr><tr><th>13</th><td>0.0</td><td>13</td><td>0</td><td>0</td><td>0.967807</td><td>0</td><td>-45.8653</td><td>-2.4157e-7</td><td>0.0</td><td>-1.05241e-7</td><td>0</td><td>0</td><td>-4.10348e-10</td><td>-7.38425e-9</td><td>0.0127753</td></tr><tr><th>14</th><td>0.0</td><td>14</td><td>0</td><td>0</td><td>0.969998</td><td>0</td><td>-45.8653</td><td>-2.55369e-7</td><td>0.0</td><td>-1.11215e-7</td><td>0</td><td>0</td><td>-4.27716e-10</td><td>-6.78519e-9</td><td>0.0131091</td></tr><tr><th>15</th><td>0.0</td><td>15</td><td>0</td><td>0</td><td>0.974785</td><td>0</td><td>-45.8653</td><td>-2.82323e-7</td><td>0.0</td><td>-1.22881e-7</td><td>0</td><td>0</td><td>-4.71273e-10</td><td>-5.6686e-9</td><td>0.0138044</td></tr><tr><th>16</th><td>0.0</td><td>16</td><td>0</td><td>0</td><td>0.965686</td><td>0</td><td>-45.8653</td><td>-3.06127e-7</td><td>0.0</td><td>-1.33129e-7</td><td>0</td><td>0</td><td>-8.54092e-10</td><td>-7.94787e-9</td><td>0.0117293</td></tr><tr><th>17</th><td>0.0</td><td>17</td><td>0</td><td>0</td><td>0.961771</td><td>0</td><td>-45.8653</td><td>-3.17068e-7</td><td>0.0</td><td>-1.37836e-7</td><td>0</td><td>0</td><td>-3.71552e-10</td><td>-9.64261e-9</td><td>0.0119819</td></tr><tr><th>18</th><td>0.0</td><td>18</td><td>0</td><td>0</td><td>0.954676</td><td>0</td><td>-45.8653</td><td>-3.38959e-7</td><td>0.0</td><td>-1.476e-7</td><td>0</td><td>0</td><td>-5.60286e-10</td><td>-1.3459e-8</td><td>0.0103032</td></tr><tr><th>19</th><td>0.0</td><td>19</td><td>0</td><td>0</td><td>0.953141</td><td>0</td><td>-45.8653</td><td>-3.4402e-7</td><td>0.0</td><td>-1.49774e-7</td><td>0</td><td>0</td><td>-3.28669e-10</td><td>-1.47885e-8</td><td>0.0106176</td></tr><tr><th>20</th><td>0.0</td><td>20</td><td>0</td><td>0</td><td>0.94852</td><td>0</td><td>-45.8653</td><td>-3.5909e-7</td><td>0.0</td><td>-1.56276e-7</td><td>0</td><td>0</td><td>-3.11571e-10</td><td>-1.92486e-8</td><td>0.00985752</td></tr><tr><th>21</th><td>0.0</td><td>21</td><td>0</td><td>0</td><td>0.945757</td><td>0</td><td>-45.8653</td><td>-3.68416e-7</td><td>0.0</td><td>-1.60494e-7</td><td>0</td><td>0</td><td>-3.03299e-10</td><td>-2.29028e-8</td><td>0.00939612</td></tr><tr><th>22</th><td>0.0</td><td>22</td><td>0</td><td>0</td><td>0.941999</td><td>0</td><td>-45.8653</td><td>-3.79965e-7</td><td>0.0</td><td>-1.67064e-7</td><td>0</td><td>0</td><td>-2.94605e-10</td><td>-2.97973e-8</td><td>0.00874695</td></tr><tr><th>23</th><td>0.0</td><td>23</td><td>0</td><td>0</td><td>0.940116</td><td>0</td><td>-45.8653</td><td>-3.87077e-7</td><td>0.0</td><td>-1.70049e-7</td><td>0</td><td>0</td><td>-4.05457e-10</td><td>-3.40296e-8</td><td>0.0081826</td></tr><tr><th>24</th><td>0.0</td><td>24</td><td>0</td><td>0</td><td>0.935929</td><td>0</td><td>-45.8653</td><td>-4.05147e-7</td><td>0.0</td><td>-1.77618e-7</td><td>0</td><td>0</td><td>-2.84709e-10</td><td>-4.90089e-8</td><td>0.00767519</td></tr><tr><th>25</th><td>0.0</td><td>25</td><td>0</td><td>0</td><td>0.933501</td><td>0</td><td>-45.8653</td><td>-4.15223e-7</td><td>0.0</td><td>-1.81954e-7</td><td>0</td><td>0</td><td>-3.71602e-10</td><td>-6.10756e-8</td><td>0.00716278</td></tr><tr><th>26</th><td>0.0</td><td>26</td><td>0</td><td>0</td><td>0.929311</td><td>0</td><td>-45.8653</td><td>-4.33309e-7</td><td>0.0</td><td>-1.89546e-7</td><td>0</td><td>0</td><td>-2.80076e-10</td><td>-1.00239e-7</td><td>0.00660802</td></tr><tr><th>27</th><td>0.0</td><td>27</td><td>0</td><td>0</td><td>0.927808</td><td>0</td><td>-45.8653</td><td>-4.41321e-7</td><td>0.0</td><td>-1.92904e-7</td><td>0</td><td>0</td><td>-2.79195e-10</td><td>-1.24533e-7</td><td>0.00637707</td></tr><tr><th>28</th><td>0.0</td><td>28</td><td>0</td><td>0</td><td>0.925577</td><td>0</td><td>-45.8653</td><td>-4.54255e-7</td><td>0.0</td><td>-1.98474e-7</td><td>0</td><td>0</td><td>-2.78292e-10</td><td>-1.80603e-7</td><td>0.0060447</td></tr><tr><th>29</th><td>0.0</td><td>29</td><td>0</td><td>0</td><td>0.92307</td><td>0</td><td>-45.8653</td><td>-4.67645e-7</td><td>0.0</td><td>-2.04249e-7</td><td>0</td><td>0</td><td>-2.94043e-10</td><td>-2.86861e-7</td><td>0.00568744</td></tr><tr><th>30</th><td>0.0</td><td>30</td><td>0</td><td>0</td><td>0.921968</td><td>0</td><td>-45.8653</td><td>-4.73903e-7</td><td>0.0</td><td>-2.06872e-7</td><td>-36.0587</td><td>-0.193367</td><td>-3.05097e-10</td><td>-3.5413e-7</td><td>0.00553783</td></tr><tr><th>&vellip;</th><td>&vellip;</td><td>&vellip;</td><td>&vellip;</td><td>&vellip;</td><td>&vellip;</td><td>&vellip;</td><td>&vellip;</td><td>&vellip;</td><td>&vellip;</td><td>&vellip;</td><td>&vellip;</td><td>&vellip;</td><td>&vellip;</td><td>&vellip;</td><td>&vellip;</td></tr></tbody></table>"
      ],
      "text/latex": [
       "\\begin{tabular}{r|ccccccccccccccc}\n",
       "\t& objective & bus & gp & gq & voltage & alpha & lambda & pi & gamma & eta & delta\\_plus & delta\\_minus & mu\\_plus & mu\\_minus & voltvar\\\\\n",
       "\t\\hline\n",
       "\t& Float64 & Any & Any & Any & Any & Any & Any & Any & Float64 & Any & Any & Any & Any & Any & Any\\\\\n",
       "\t\\hline\n",
       "\t1 & 248.978 & 1 & 1.9964 & -0.462831 & 1.0 & 1.0 & -45.8653 & -1.73606e-10 & -1.06123 & 0 & 0 & 0 & 0 & 0 & 0 \\\\\n",
       "\t2 & 0.0 & 2 & 0 & 0 & 0.99379 & 0 & -45.8653 & -1.49032e-8 & 0.0 & -9.92961e-9 & 0 & 0 & -6.66437e-10 & -2.09075e-9 & 0.0148595 \\\\\n",
       "\t3 & 0.0 & 3 & 0 & 0 & 0.977076 & 0 & -45.8653 & -5.99418e-8 & 0.0 & -3.96135e-8 & 0 & 0 & -4.42585e-10 & -6.01096e-9 & 0.0120007 \\\\\n",
       "\t4 & 0.0 & 4 & 0 & 0 & 0.976987 & 0 & -45.8653 & -6.01624e-8 & 0.0 & -3.97683e-8 & 0 & 0 & -4.41954e-10 & -6.04199e-9 & 0.0119951 \\\\\n",
       "\t5 & 0.0 & 5 & 0 & 0 & 0.976086 & 0 & -45.8653 & -6.25467e-8 & 0.0 & -4.13482e-8 & 0 & 0 & -4.75746e-10 & -5.22071e-9 & 0.0135097 \\\\\n",
       "\t6 & 0.0 & 6 & 0 & 0 & 0.975672 & 0 & -45.8653 & -6.43349e-8 & 0.0 & -4.25123e-8 & 0 & 0 & -4.34054e-10 & -6.60235e-9 & 0.0119199 \\\\\n",
       "\t7 & 0.0 & 7 & 0 & 0 & 0.97061 & 0 & -45.8653 & -9.2287e-8 & 0.0 & -4.89049e-8 & 0 & 0 & -4.2725e-10 & -6.53733e-9 & 0.012907 \\\\\n",
       "\t8 & 0.0 & 8 & 0 & 0 & 0.968363 & 0 & -45.8653 & -1.32706e-7 & 0.0 & -5.8156e-8 & 0 & 0 & -3.82087e-10 & -8.56267e-9 & 0.0112524 \\\\\n",
       "\t9 & 0.0 & 9 & 0 & 0 & 0.966086 & 0 & -45.8653 & -1.51569e-7 & 0.0 & -6.62967e-8 & 0 & 0 & -3.68235e-10 & -9.39019e-9 & 0.0110227 \\\\\n",
       "\t10 & 0.0 & 10 & 0 & 0 & 0.964346 & 0 & -45.8653 & -1.66281e-7 & 0.0 & -7.26417e-8 & 0 & 0 & -3.8408e-10 & -8.41308e-9 & 0.0121187 \\\\\n",
       "\t11 & 0.0 & 11 & 0 & 0 & 0.96442 & 0 & -45.8653 & -1.69621e-7 & 0.0 & -7.40857e-8 & 0 & 0 & -3.84653e-10 & -8.39017e-9 & 0.0121352 \\\\\n",
       "\t12 & 0.0 & 12 & 0 & 0 & 0.966033 & 0 & -45.8653 & -2.06598e-7 & 0.0 & -9.00784e-8 & 0 & 0 & -3.69738e-10 & -9.52778e-9 & 0.0111583 \\\\\n",
       "\t13 & 0.0 & 13 & 0 & 0 & 0.967807 & 0 & -45.8653 & -2.4157e-7 & 0.0 & -1.05241e-7 & 0 & 0 & -4.10348e-10 & -7.38425e-9 & 0.0127753 \\\\\n",
       "\t14 & 0.0 & 14 & 0 & 0 & 0.969998 & 0 & -45.8653 & -2.55369e-7 & 0.0 & -1.11215e-7 & 0 & 0 & -4.27716e-10 & -6.78519e-9 & 0.0131091 \\\\\n",
       "\t15 & 0.0 & 15 & 0 & 0 & 0.974785 & 0 & -45.8653 & -2.82323e-7 & 0.0 & -1.22881e-7 & 0 & 0 & -4.71273e-10 & -5.6686e-9 & 0.0138044 \\\\\n",
       "\t16 & 0.0 & 16 & 0 & 0 & 0.965686 & 0 & -45.8653 & -3.06127e-7 & 0.0 & -1.33129e-7 & 0 & 0 & -8.54092e-10 & -7.94787e-9 & 0.0117293 \\\\\n",
       "\t17 & 0.0 & 17 & 0 & 0 & 0.961771 & 0 & -45.8653 & -3.17068e-7 & 0.0 & -1.37836e-7 & 0 & 0 & -3.71552e-10 & -9.64261e-9 & 0.0119819 \\\\\n",
       "\t18 & 0.0 & 18 & 0 & 0 & 0.954676 & 0 & -45.8653 & -3.38959e-7 & 0.0 & -1.476e-7 & 0 & 0 & -5.60286e-10 & -1.3459e-8 & 0.0103032 \\\\\n",
       "\t19 & 0.0 & 19 & 0 & 0 & 0.953141 & 0 & -45.8653 & -3.4402e-7 & 0.0 & -1.49774e-7 & 0 & 0 & -3.28669e-10 & -1.47885e-8 & 0.0106176 \\\\\n",
       "\t20 & 0.0 & 20 & 0 & 0 & 0.94852 & 0 & -45.8653 & -3.5909e-7 & 0.0 & -1.56276e-7 & 0 & 0 & -3.11571e-10 & -1.92486e-8 & 0.00985752 \\\\\n",
       "\t21 & 0.0 & 21 & 0 & 0 & 0.945757 & 0 & -45.8653 & -3.68416e-7 & 0.0 & -1.60494e-7 & 0 & 0 & -3.03299e-10 & -2.29028e-8 & 0.00939612 \\\\\n",
       "\t22 & 0.0 & 22 & 0 & 0 & 0.941999 & 0 & -45.8653 & -3.79965e-7 & 0.0 & -1.67064e-7 & 0 & 0 & -2.94605e-10 & -2.97973e-8 & 0.00874695 \\\\\n",
       "\t23 & 0.0 & 23 & 0 & 0 & 0.940116 & 0 & -45.8653 & -3.87077e-7 & 0.0 & -1.70049e-7 & 0 & 0 & -4.05457e-10 & -3.40296e-8 & 0.0081826 \\\\\n",
       "\t24 & 0.0 & 24 & 0 & 0 & 0.935929 & 0 & -45.8653 & -4.05147e-7 & 0.0 & -1.77618e-7 & 0 & 0 & -2.84709e-10 & -4.90089e-8 & 0.00767519 \\\\\n",
       "\t25 & 0.0 & 25 & 0 & 0 & 0.933501 & 0 & -45.8653 & -4.15223e-7 & 0.0 & -1.81954e-7 & 0 & 0 & -3.71602e-10 & -6.10756e-8 & 0.00716278 \\\\\n",
       "\t26 & 0.0 & 26 & 0 & 0 & 0.929311 & 0 & -45.8653 & -4.33309e-7 & 0.0 & -1.89546e-7 & 0 & 0 & -2.80076e-10 & -1.00239e-7 & 0.00660802 \\\\\n",
       "\t27 & 0.0 & 27 & 0 & 0 & 0.927808 & 0 & -45.8653 & -4.41321e-7 & 0.0 & -1.92904e-7 & 0 & 0 & -2.79195e-10 & -1.24533e-7 & 0.00637707 \\\\\n",
       "\t28 & 0.0 & 28 & 0 & 0 & 0.925577 & 0 & -45.8653 & -4.54255e-7 & 0.0 & -1.98474e-7 & 0 & 0 & -2.78292e-10 & -1.80603e-7 & 0.0060447 \\\\\n",
       "\t29 & 0.0 & 29 & 0 & 0 & 0.92307 & 0 & -45.8653 & -4.67645e-7 & 0.0 & -2.04249e-7 & 0 & 0 & -2.94043e-10 & -2.86861e-7 & 0.00568744 \\\\\n",
       "\t30 & 0.0 & 30 & 0 & 0 & 0.921968 & 0 & -45.8653 & -4.73903e-7 & 0.0 & -2.06872e-7 & -36.0587 & -0.193367 & -3.05097e-10 & -3.5413e-7 & 0.00553783 \\\\\n",
       "\t$\\dots$ & $\\dots$ & $\\dots$ & $\\dots$ & $\\dots$ & $\\dots$ & $\\dots$ & $\\dots$ & $\\dots$ & $\\dots$ & $\\dots$ & $\\dots$ & $\\dots$ & $\\dots$ & $\\dots$ & $\\dots$ \\\\\n",
       "\\end{tabular}\n"
      ],
      "text/plain": [
       "141×15 DataFrame. Omitted printing of 8 columns\n",
       "│ Row │ objective │ bus │ gp     │ gq        │ voltage  │ alpha │ lambda   │\n",
       "│     │ \u001b[90mFloat64\u001b[39m   │ \u001b[90mAny\u001b[39m │ \u001b[90mAny\u001b[39m    │ \u001b[90mAny\u001b[39m       │ \u001b[90mAny\u001b[39m      │ \u001b[90mAny\u001b[39m   │ \u001b[90mAny\u001b[39m      │\n",
       "├─────┼───────────┼─────┼────────┼───────────┼──────────┼───────┼──────────┤\n",
       "│ 1   │ 248.978   │ 1   │ 1.9964 │ -0.462831 │ 1.0      │ 1.0   │ -45.8653 │\n",
       "│ 2   │ 0.0       │ 2   │ 0      │ 0         │ 0.99379  │ 0     │ -45.8653 │\n",
       "│ 3   │ 0.0       │ 3   │ 0      │ 0         │ 0.977076 │ 0     │ -45.8653 │\n",
       "│ 4   │ 0.0       │ 4   │ 0      │ 0         │ 0.976987 │ 0     │ -45.8653 │\n",
       "│ 5   │ 0.0       │ 5   │ 0      │ 0         │ 0.976086 │ 0     │ -45.8653 │\n",
       "│ 6   │ 0.0       │ 6   │ 0      │ 0         │ 0.975672 │ 0     │ -45.8653 │\n",
       "│ 7   │ 0.0       │ 7   │ 0      │ 0         │ 0.97061  │ 0     │ -45.8653 │\n",
       "│ 8   │ 0.0       │ 8   │ 0      │ 0         │ 0.968363 │ 0     │ -45.8653 │\n",
       "│ 9   │ 0.0       │ 9   │ 0      │ 0         │ 0.966086 │ 0     │ -45.8653 │\n",
       "│ 10  │ 0.0       │ 10  │ 0      │ 0         │ 0.964346 │ 0     │ -45.8653 │\n",
       "⋮\n",
       "│ 131 │ 0.0       │ 131 │ 0      │ 0         │ 0.984067 │ 0     │ -45.8653 │\n",
       "│ 132 │ 0.0       │ 132 │ 0      │ 0         │ 0.983859 │ 0     │ -45.8653 │\n",
       "│ 133 │ 0.0       │ 133 │ 0      │ 0         │ 0.983734 │ 0     │ -45.8653 │\n",
       "│ 134 │ 0.0       │ 134 │ 0      │ 0         │ 1.00007  │ 0     │ -45.8653 │\n",
       "│ 135 │ 0.0       │ 135 │ 0      │ 0         │ 0.965579 │ 0     │ -45.8653 │\n",
       "│ 136 │ 0.0       │ 136 │ 0      │ 0         │ 0.965502 │ 0     │ -45.8653 │\n",
       "│ 137 │ 0.0       │ 137 │ 0      │ 0         │ 0.954412 │ 0     │ -45.8653 │\n",
       "│ 138 │ 0.0       │ 138 │ 0      │ 0         │ 0.939792 │ 0     │ -45.8653 │\n",
       "│ 139 │ 0.0       │ 139 │ 0      │ 0         │ 0.9331   │ 0     │ -45.8653 │\n",
       "│ 140 │ 0.0       │ 140 │ 0      │ 0         │ 0.921299 │ 0     │ -45.8653 │\n",
       "│ 141 │ 0.0       │ 141 │ 0      │ 0         │ 0.921348 │ 0     │ -45.8653 │"
      ]
     },
     "execution_count": 50,
     "metadata": {},
     "output_type": "execute_result"
    }
   ],
   "source": [
    "# Capture Results\n",
    "results_df = DataFrame()\n",
    "\n",
    "b_idx = []\n",
    "gp_res = []\n",
    "gq_res = []\n",
    "voltages = []\n",
    "alphas = []\n",
    "lambdas = []\n",
    "pies = []\n",
    "delta_plus, delta_minus = [], []\n",
    "mu_plus, mu_minus = [], []\n",
    "gamma = []\n",
    "etas = []\n",
    "voltvar = []\n",
    "\n",
    "num_approx = 1e-7\n",
    "\n",
    "for b in bus_set\n",
    "    push!(b_idx, b) \n",
    "    push!(gp_res, (abs(value(gp[b])) - num_approx) > 0 ? value(gp[b]) : 0 )\n",
    "    push!(gq_res, (abs(value(gq[b])) - num_approx) > 0 ? value(gq[b]) : 0 )\n",
    "    push!(voltages, sqrt(value(v[b])))\n",
    "    if any_cc \n",
    "        push!(alphas, (abs(value(α[b])) - num_approx) > 0 ? value(α[b]) : 0 ) \n",
    "    else\n",
    "        push!(alphas, 0)\n",
    "    end\n",
    "    push!(lambdas, shadow_price(λ[b]))\n",
    "    push!(pies, shadow_price(π[b]))\n",
    "    if b in setdiff(gen_buses,[root_bus])\n",
    "        push!(delta_plus, shadow_price(δp[b]))\n",
    "        push!(delta_minus, shadow_price(δm[b]))\n",
    "    else\n",
    "        push!(delta_plus, 0)\n",
    "        push!(delta_minus, 0)\n",
    "    end\n",
    "    \n",
    "    if b == root_bus\n",
    "        push!(mu_plus, 0)\n",
    "        push!(mu_minus, 0)\n",
    "    else\n",
    "        push!(mu_plus, shadow_price(μp[b]))\n",
    "        push!(mu_minus, shadow_price(μm[b]))\n",
    "    end\n",
    "    if !any_cc || b == root_bus\n",
    "        push!(voltvar, 0)\n",
    "        push!(etas, 0)\n",
    "    else\n",
    "        push!(voltvar, value(t[bus_to_idx[b]]))\n",
    "        push!(etas, shadow_price(η[bus_to_idx[b]]))\n",
    "    end\n",
    "end\n",
    "objective = zeros(n_buses)\n",
    "objective[root_bus] = objective_value(m)\n",
    "gamma = zeros(n_buses)\n",
    "if any_cc\n",
    "    gamma[root_bus] = shadow_price(γ)\n",
    "end\n",
    "\n",
    "results_df = DataFrame(\n",
    "    objective = objective,\n",
    "    bus = b_idx, \n",
    "    gp = gp_res,\n",
    "    gq = gq_res,\n",
    "    voltage = voltages,\n",
    "    alpha = alphas,\n",
    "    lambda = lambdas,\n",
    "    pi = pies,\n",
    "    gamma = gamma,\n",
    "    eta = etas,\n",
    "    delta_plus = delta_plus,\n",
    "    delta_minus = delta_minus,\n",
    "    mu_plus = mu_plus,\n",
    "    mu_minus = mu_minus,\n",
    "    voltvar = voltvar,\n",
    ")\n"
   ]
  },
  {
   "cell_type": "code",
   "execution_count": 51,
   "metadata": {},
   "outputs": [
    {
     "data": {
      "text/html": [
       "<table class=\"data-frame\"><thead><tr><th></th><th>objective</th><th>bus</th><th>gp</th><th>gq</th><th>voltage</th><th>alpha</th><th>lambda</th><th>pi</th><th>gamma</th><th>eta</th><th>delta_plus</th><th>delta_minus</th><th>mu_plus</th><th>mu_minus</th><th>voltvar</th></tr><tr><th></th><th>Float64</th><th>Any</th><th>Any</th><th>Any</th><th>Any</th><th>Any</th><th>Any</th><th>Any</th><th>Float64</th><th>Any</th><th>Any</th><th>Any</th><th>Any</th><th>Any</th><th>Any</th></tr></thead><tbody><p>141 rows × 15 columns</p><tr><th>1</th><td>248.978</td><td>1</td><td>1.9964</td><td>-0.462831</td><td>1.0</td><td>1.0</td><td>-45.8653</td><td>-1.73606e-10</td><td>-1.06123</td><td>0</td><td>0</td><td>0</td><td>0</td><td>0</td><td>0</td></tr><tr><th>2</th><td>0.0</td><td>2</td><td>0</td><td>0</td><td>0.99379</td><td>0</td><td>-45.8653</td><td>-1.49032e-8</td><td>0.0</td><td>-9.92961e-9</td><td>0</td><td>0</td><td>-6.66437e-10</td><td>-2.09075e-9</td><td>0.0148595</td></tr><tr><th>3</th><td>0.0</td><td>3</td><td>0</td><td>0</td><td>0.977076</td><td>0</td><td>-45.8653</td><td>-5.99418e-8</td><td>0.0</td><td>-3.96135e-8</td><td>0</td><td>0</td><td>-4.42585e-10</td><td>-6.01096e-9</td><td>0.0120007</td></tr><tr><th>4</th><td>0.0</td><td>4</td><td>0</td><td>0</td><td>0.976987</td><td>0</td><td>-45.8653</td><td>-6.01624e-8</td><td>0.0</td><td>-3.97683e-8</td><td>0</td><td>0</td><td>-4.41954e-10</td><td>-6.04199e-9</td><td>0.0119951</td></tr><tr><th>5</th><td>0.0</td><td>5</td><td>0</td><td>0</td><td>0.976086</td><td>0</td><td>-45.8653</td><td>-6.25467e-8</td><td>0.0</td><td>-4.13482e-8</td><td>0</td><td>0</td><td>-4.75746e-10</td><td>-5.22071e-9</td><td>0.0135097</td></tr><tr><th>6</th><td>0.0</td><td>6</td><td>0</td><td>0</td><td>0.975672</td><td>0</td><td>-45.8653</td><td>-6.43349e-8</td><td>0.0</td><td>-4.25123e-8</td><td>0</td><td>0</td><td>-4.34054e-10</td><td>-6.60235e-9</td><td>0.0119199</td></tr><tr><th>7</th><td>0.0</td><td>7</td><td>0</td><td>0</td><td>0.97061</td><td>0</td><td>-45.8653</td><td>-9.2287e-8</td><td>0.0</td><td>-4.89049e-8</td><td>0</td><td>0</td><td>-4.2725e-10</td><td>-6.53733e-9</td><td>0.012907</td></tr><tr><th>8</th><td>0.0</td><td>8</td><td>0</td><td>0</td><td>0.968363</td><td>0</td><td>-45.8653</td><td>-1.32706e-7</td><td>0.0</td><td>-5.8156e-8</td><td>0</td><td>0</td><td>-3.82087e-10</td><td>-8.56267e-9</td><td>0.0112524</td></tr><tr><th>9</th><td>0.0</td><td>9</td><td>0</td><td>0</td><td>0.966086</td><td>0</td><td>-45.8653</td><td>-1.51569e-7</td><td>0.0</td><td>-6.62967e-8</td><td>0</td><td>0</td><td>-3.68235e-10</td><td>-9.39019e-9</td><td>0.0110227</td></tr><tr><th>10</th><td>0.0</td><td>10</td><td>0</td><td>0</td><td>0.964346</td><td>0</td><td>-45.8653</td><td>-1.66281e-7</td><td>0.0</td><td>-7.26417e-8</td><td>0</td><td>0</td><td>-3.8408e-10</td><td>-8.41308e-9</td><td>0.0121187</td></tr><tr><th>11</th><td>0.0</td><td>11</td><td>0</td><td>0</td><td>0.96442</td><td>0</td><td>-45.8653</td><td>-1.69621e-7</td><td>0.0</td><td>-7.40857e-8</td><td>0</td><td>0</td><td>-3.84653e-10</td><td>-8.39017e-9</td><td>0.0121352</td></tr><tr><th>12</th><td>0.0</td><td>12</td><td>0</td><td>0</td><td>0.966033</td><td>0</td><td>-45.8653</td><td>-2.06598e-7</td><td>0.0</td><td>-9.00784e-8</td><td>0</td><td>0</td><td>-3.69738e-10</td><td>-9.52778e-9</td><td>0.0111583</td></tr><tr><th>13</th><td>0.0</td><td>13</td><td>0</td><td>0</td><td>0.967807</td><td>0</td><td>-45.8653</td><td>-2.4157e-7</td><td>0.0</td><td>-1.05241e-7</td><td>0</td><td>0</td><td>-4.10348e-10</td><td>-7.38425e-9</td><td>0.0127753</td></tr><tr><th>14</th><td>0.0</td><td>14</td><td>0</td><td>0</td><td>0.969998</td><td>0</td><td>-45.8653</td><td>-2.55369e-7</td><td>0.0</td><td>-1.11215e-7</td><td>0</td><td>0</td><td>-4.27716e-10</td><td>-6.78519e-9</td><td>0.0131091</td></tr><tr><th>15</th><td>0.0</td><td>15</td><td>0</td><td>0</td><td>0.974785</td><td>0</td><td>-45.8653</td><td>-2.82323e-7</td><td>0.0</td><td>-1.22881e-7</td><td>0</td><td>0</td><td>-4.71273e-10</td><td>-5.6686e-9</td><td>0.0138044</td></tr><tr><th>16</th><td>0.0</td><td>16</td><td>0</td><td>0</td><td>0.965686</td><td>0</td><td>-45.8653</td><td>-3.06127e-7</td><td>0.0</td><td>-1.33129e-7</td><td>0</td><td>0</td><td>-8.54092e-10</td><td>-7.94787e-9</td><td>0.0117293</td></tr><tr><th>17</th><td>0.0</td><td>17</td><td>0</td><td>0</td><td>0.961771</td><td>0</td><td>-45.8653</td><td>-3.17068e-7</td><td>0.0</td><td>-1.37836e-7</td><td>0</td><td>0</td><td>-3.71552e-10</td><td>-9.64261e-9</td><td>0.0119819</td></tr><tr><th>18</th><td>0.0</td><td>18</td><td>0</td><td>0</td><td>0.954676</td><td>0</td><td>-45.8653</td><td>-3.38959e-7</td><td>0.0</td><td>-1.476e-7</td><td>0</td><td>0</td><td>-5.60286e-10</td><td>-1.3459e-8</td><td>0.0103032</td></tr><tr><th>19</th><td>0.0</td><td>19</td><td>0</td><td>0</td><td>0.953141</td><td>0</td><td>-45.8653</td><td>-3.4402e-7</td><td>0.0</td><td>-1.49774e-7</td><td>0</td><td>0</td><td>-3.28669e-10</td><td>-1.47885e-8</td><td>0.0106176</td></tr><tr><th>20</th><td>0.0</td><td>20</td><td>0</td><td>0</td><td>0.94852</td><td>0</td><td>-45.8653</td><td>-3.5909e-7</td><td>0.0</td><td>-1.56276e-7</td><td>0</td><td>0</td><td>-3.11571e-10</td><td>-1.92486e-8</td><td>0.00985752</td></tr><tr><th>21</th><td>0.0</td><td>21</td><td>0</td><td>0</td><td>0.945757</td><td>0</td><td>-45.8653</td><td>-3.68416e-7</td><td>0.0</td><td>-1.60494e-7</td><td>0</td><td>0</td><td>-3.03299e-10</td><td>-2.29028e-8</td><td>0.00939612</td></tr><tr><th>22</th><td>0.0</td><td>22</td><td>0</td><td>0</td><td>0.941999</td><td>0</td><td>-45.8653</td><td>-3.79965e-7</td><td>0.0</td><td>-1.67064e-7</td><td>0</td><td>0</td><td>-2.94605e-10</td><td>-2.97973e-8</td><td>0.00874695</td></tr><tr><th>23</th><td>0.0</td><td>23</td><td>0</td><td>0</td><td>0.940116</td><td>0</td><td>-45.8653</td><td>-3.87077e-7</td><td>0.0</td><td>-1.70049e-7</td><td>0</td><td>0</td><td>-4.05457e-10</td><td>-3.40296e-8</td><td>0.0081826</td></tr><tr><th>24</th><td>0.0</td><td>24</td><td>0</td><td>0</td><td>0.935929</td><td>0</td><td>-45.8653</td><td>-4.05147e-7</td><td>0.0</td><td>-1.77618e-7</td><td>0</td><td>0</td><td>-2.84709e-10</td><td>-4.90089e-8</td><td>0.00767519</td></tr><tr><th>25</th><td>0.0</td><td>25</td><td>0</td><td>0</td><td>0.933501</td><td>0</td><td>-45.8653</td><td>-4.15223e-7</td><td>0.0</td><td>-1.81954e-7</td><td>0</td><td>0</td><td>-3.71602e-10</td><td>-6.10756e-8</td><td>0.00716278</td></tr><tr><th>26</th><td>0.0</td><td>26</td><td>0</td><td>0</td><td>0.929311</td><td>0</td><td>-45.8653</td><td>-4.33309e-7</td><td>0.0</td><td>-1.89546e-7</td><td>0</td><td>0</td><td>-2.80076e-10</td><td>-1.00239e-7</td><td>0.00660802</td></tr><tr><th>27</th><td>0.0</td><td>27</td><td>0</td><td>0</td><td>0.927808</td><td>0</td><td>-45.8653</td><td>-4.41321e-7</td><td>0.0</td><td>-1.92904e-7</td><td>0</td><td>0</td><td>-2.79195e-10</td><td>-1.24533e-7</td><td>0.00637707</td></tr><tr><th>28</th><td>0.0</td><td>28</td><td>0</td><td>0</td><td>0.925577</td><td>0</td><td>-45.8653</td><td>-4.54255e-7</td><td>0.0</td><td>-1.98474e-7</td><td>0</td><td>0</td><td>-2.78292e-10</td><td>-1.80603e-7</td><td>0.0060447</td></tr><tr><th>29</th><td>0.0</td><td>29</td><td>0</td><td>0</td><td>0.92307</td><td>0</td><td>-45.8653</td><td>-4.67645e-7</td><td>0.0</td><td>-2.04249e-7</td><td>0</td><td>0</td><td>-2.94043e-10</td><td>-2.86861e-7</td><td>0.00568744</td></tr><tr><th>30</th><td>0.0</td><td>30</td><td>0</td><td>0</td><td>0.921968</td><td>0</td><td>-45.8653</td><td>-4.73903e-7</td><td>0.0</td><td>-2.06872e-7</td><td>-36.0587</td><td>-0.193367</td><td>-3.05097e-10</td><td>-3.5413e-7</td><td>0.00553783</td></tr><tr><th>&vellip;</th><td>&vellip;</td><td>&vellip;</td><td>&vellip;</td><td>&vellip;</td><td>&vellip;</td><td>&vellip;</td><td>&vellip;</td><td>&vellip;</td><td>&vellip;</td><td>&vellip;</td><td>&vellip;</td><td>&vellip;</td><td>&vellip;</td><td>&vellip;</td><td>&vellip;</td></tr></tbody></table>"
      ],
      "text/latex": [
       "\\begin{tabular}{r|ccccccccccccccc}\n",
       "\t& objective & bus & gp & gq & voltage & alpha & lambda & pi & gamma & eta & delta\\_plus & delta\\_minus & mu\\_plus & mu\\_minus & voltvar\\\\\n",
       "\t\\hline\n",
       "\t& Float64 & Any & Any & Any & Any & Any & Any & Any & Float64 & Any & Any & Any & Any & Any & Any\\\\\n",
       "\t\\hline\n",
       "\t1 & 248.978 & 1 & 1.9964 & -0.462831 & 1.0 & 1.0 & -45.8653 & -1.73606e-10 & -1.06123 & 0 & 0 & 0 & 0 & 0 & 0 \\\\\n",
       "\t2 & 0.0 & 2 & 0 & 0 & 0.99379 & 0 & -45.8653 & -1.49032e-8 & 0.0 & -9.92961e-9 & 0 & 0 & -6.66437e-10 & -2.09075e-9 & 0.0148595 \\\\\n",
       "\t3 & 0.0 & 3 & 0 & 0 & 0.977076 & 0 & -45.8653 & -5.99418e-8 & 0.0 & -3.96135e-8 & 0 & 0 & -4.42585e-10 & -6.01096e-9 & 0.0120007 \\\\\n",
       "\t4 & 0.0 & 4 & 0 & 0 & 0.976987 & 0 & -45.8653 & -6.01624e-8 & 0.0 & -3.97683e-8 & 0 & 0 & -4.41954e-10 & -6.04199e-9 & 0.0119951 \\\\\n",
       "\t5 & 0.0 & 5 & 0 & 0 & 0.976086 & 0 & -45.8653 & -6.25467e-8 & 0.0 & -4.13482e-8 & 0 & 0 & -4.75746e-10 & -5.22071e-9 & 0.0135097 \\\\\n",
       "\t6 & 0.0 & 6 & 0 & 0 & 0.975672 & 0 & -45.8653 & -6.43349e-8 & 0.0 & -4.25123e-8 & 0 & 0 & -4.34054e-10 & -6.60235e-9 & 0.0119199 \\\\\n",
       "\t7 & 0.0 & 7 & 0 & 0 & 0.97061 & 0 & -45.8653 & -9.2287e-8 & 0.0 & -4.89049e-8 & 0 & 0 & -4.2725e-10 & -6.53733e-9 & 0.012907 \\\\\n",
       "\t8 & 0.0 & 8 & 0 & 0 & 0.968363 & 0 & -45.8653 & -1.32706e-7 & 0.0 & -5.8156e-8 & 0 & 0 & -3.82087e-10 & -8.56267e-9 & 0.0112524 \\\\\n",
       "\t9 & 0.0 & 9 & 0 & 0 & 0.966086 & 0 & -45.8653 & -1.51569e-7 & 0.0 & -6.62967e-8 & 0 & 0 & -3.68235e-10 & -9.39019e-9 & 0.0110227 \\\\\n",
       "\t10 & 0.0 & 10 & 0 & 0 & 0.964346 & 0 & -45.8653 & -1.66281e-7 & 0.0 & -7.26417e-8 & 0 & 0 & -3.8408e-10 & -8.41308e-9 & 0.0121187 \\\\\n",
       "\t11 & 0.0 & 11 & 0 & 0 & 0.96442 & 0 & -45.8653 & -1.69621e-7 & 0.0 & -7.40857e-8 & 0 & 0 & -3.84653e-10 & -8.39017e-9 & 0.0121352 \\\\\n",
       "\t12 & 0.0 & 12 & 0 & 0 & 0.966033 & 0 & -45.8653 & -2.06598e-7 & 0.0 & -9.00784e-8 & 0 & 0 & -3.69738e-10 & -9.52778e-9 & 0.0111583 \\\\\n",
       "\t13 & 0.0 & 13 & 0 & 0 & 0.967807 & 0 & -45.8653 & -2.4157e-7 & 0.0 & -1.05241e-7 & 0 & 0 & -4.10348e-10 & -7.38425e-9 & 0.0127753 \\\\\n",
       "\t14 & 0.0 & 14 & 0 & 0 & 0.969998 & 0 & -45.8653 & -2.55369e-7 & 0.0 & -1.11215e-7 & 0 & 0 & -4.27716e-10 & -6.78519e-9 & 0.0131091 \\\\\n",
       "\t15 & 0.0 & 15 & 0 & 0 & 0.974785 & 0 & -45.8653 & -2.82323e-7 & 0.0 & -1.22881e-7 & 0 & 0 & -4.71273e-10 & -5.6686e-9 & 0.0138044 \\\\\n",
       "\t16 & 0.0 & 16 & 0 & 0 & 0.965686 & 0 & -45.8653 & -3.06127e-7 & 0.0 & -1.33129e-7 & 0 & 0 & -8.54092e-10 & -7.94787e-9 & 0.0117293 \\\\\n",
       "\t17 & 0.0 & 17 & 0 & 0 & 0.961771 & 0 & -45.8653 & -3.17068e-7 & 0.0 & -1.37836e-7 & 0 & 0 & -3.71552e-10 & -9.64261e-9 & 0.0119819 \\\\\n",
       "\t18 & 0.0 & 18 & 0 & 0 & 0.954676 & 0 & -45.8653 & -3.38959e-7 & 0.0 & -1.476e-7 & 0 & 0 & -5.60286e-10 & -1.3459e-8 & 0.0103032 \\\\\n",
       "\t19 & 0.0 & 19 & 0 & 0 & 0.953141 & 0 & -45.8653 & -3.4402e-7 & 0.0 & -1.49774e-7 & 0 & 0 & -3.28669e-10 & -1.47885e-8 & 0.0106176 \\\\\n",
       "\t20 & 0.0 & 20 & 0 & 0 & 0.94852 & 0 & -45.8653 & -3.5909e-7 & 0.0 & -1.56276e-7 & 0 & 0 & -3.11571e-10 & -1.92486e-8 & 0.00985752 \\\\\n",
       "\t21 & 0.0 & 21 & 0 & 0 & 0.945757 & 0 & -45.8653 & -3.68416e-7 & 0.0 & -1.60494e-7 & 0 & 0 & -3.03299e-10 & -2.29028e-8 & 0.00939612 \\\\\n",
       "\t22 & 0.0 & 22 & 0 & 0 & 0.941999 & 0 & -45.8653 & -3.79965e-7 & 0.0 & -1.67064e-7 & 0 & 0 & -2.94605e-10 & -2.97973e-8 & 0.00874695 \\\\\n",
       "\t23 & 0.0 & 23 & 0 & 0 & 0.940116 & 0 & -45.8653 & -3.87077e-7 & 0.0 & -1.70049e-7 & 0 & 0 & -4.05457e-10 & -3.40296e-8 & 0.0081826 \\\\\n",
       "\t24 & 0.0 & 24 & 0 & 0 & 0.935929 & 0 & -45.8653 & -4.05147e-7 & 0.0 & -1.77618e-7 & 0 & 0 & -2.84709e-10 & -4.90089e-8 & 0.00767519 \\\\\n",
       "\t25 & 0.0 & 25 & 0 & 0 & 0.933501 & 0 & -45.8653 & -4.15223e-7 & 0.0 & -1.81954e-7 & 0 & 0 & -3.71602e-10 & -6.10756e-8 & 0.00716278 \\\\\n",
       "\t26 & 0.0 & 26 & 0 & 0 & 0.929311 & 0 & -45.8653 & -4.33309e-7 & 0.0 & -1.89546e-7 & 0 & 0 & -2.80076e-10 & -1.00239e-7 & 0.00660802 \\\\\n",
       "\t27 & 0.0 & 27 & 0 & 0 & 0.927808 & 0 & -45.8653 & -4.41321e-7 & 0.0 & -1.92904e-7 & 0 & 0 & -2.79195e-10 & -1.24533e-7 & 0.00637707 \\\\\n",
       "\t28 & 0.0 & 28 & 0 & 0 & 0.925577 & 0 & -45.8653 & -4.54255e-7 & 0.0 & -1.98474e-7 & 0 & 0 & -2.78292e-10 & -1.80603e-7 & 0.0060447 \\\\\n",
       "\t29 & 0.0 & 29 & 0 & 0 & 0.92307 & 0 & -45.8653 & -4.67645e-7 & 0.0 & -2.04249e-7 & 0 & 0 & -2.94043e-10 & -2.86861e-7 & 0.00568744 \\\\\n",
       "\t30 & 0.0 & 30 & 0 & 0 & 0.921968 & 0 & -45.8653 & -4.73903e-7 & 0.0 & -2.06872e-7 & -36.0587 & -0.193367 & -3.05097e-10 & -3.5413e-7 & 0.00553783 \\\\\n",
       "\t$\\dots$ & $\\dots$ & $\\dots$ & $\\dots$ & $\\dots$ & $\\dots$ & $\\dots$ & $\\dots$ & $\\dots$ & $\\dots$ & $\\dots$ & $\\dots$ & $\\dots$ & $\\dots$ & $\\dots$ & $\\dots$ \\\\\n",
       "\\end{tabular}\n"
      ],
      "text/plain": [
       "141×15 DataFrame. Omitted printing of 8 columns\n",
       "│ Row │ objective │ bus │ gp     │ gq        │ voltage  │ alpha │ lambda   │\n",
       "│     │ \u001b[90mFloat64\u001b[39m   │ \u001b[90mAny\u001b[39m │ \u001b[90mAny\u001b[39m    │ \u001b[90mAny\u001b[39m       │ \u001b[90mAny\u001b[39m      │ \u001b[90mAny\u001b[39m   │ \u001b[90mAny\u001b[39m      │\n",
       "├─────┼───────────┼─────┼────────┼───────────┼──────────┼───────┼──────────┤\n",
       "│ 1   │ 248.978   │ 1   │ 1.9964 │ -0.462831 │ 1.0      │ 1.0   │ -45.8653 │\n",
       "│ 2   │ 0.0       │ 2   │ 0      │ 0         │ 0.99379  │ 0     │ -45.8653 │\n",
       "│ 3   │ 0.0       │ 3   │ 0      │ 0         │ 0.977076 │ 0     │ -45.8653 │\n",
       "│ 4   │ 0.0       │ 4   │ 0      │ 0         │ 0.976987 │ 0     │ -45.8653 │\n",
       "│ 5   │ 0.0       │ 5   │ 0      │ 0         │ 0.976086 │ 0     │ -45.8653 │\n",
       "│ 6   │ 0.0       │ 6   │ 0      │ 0         │ 0.975672 │ 0     │ -45.8653 │\n",
       "│ 7   │ 0.0       │ 7   │ 0      │ 0         │ 0.97061  │ 0     │ -45.8653 │\n",
       "│ 8   │ 0.0       │ 8   │ 0      │ 0         │ 0.968363 │ 0     │ -45.8653 │\n",
       "│ 9   │ 0.0       │ 9   │ 0      │ 0         │ 0.966086 │ 0     │ -45.8653 │\n",
       "│ 10  │ 0.0       │ 10  │ 0      │ 0         │ 0.964346 │ 0     │ -45.8653 │\n",
       "⋮\n",
       "│ 131 │ 0.0       │ 131 │ 0      │ 0         │ 0.984067 │ 0     │ -45.8653 │\n",
       "│ 132 │ 0.0       │ 132 │ 0      │ 0         │ 0.983859 │ 0     │ -45.8653 │\n",
       "│ 133 │ 0.0       │ 133 │ 0      │ 0         │ 0.983734 │ 0     │ -45.8653 │\n",
       "│ 134 │ 0.0       │ 134 │ 0      │ 0         │ 1.00007  │ 0     │ -45.8653 │\n",
       "│ 135 │ 0.0       │ 135 │ 0      │ 0         │ 0.965579 │ 0     │ -45.8653 │\n",
       "│ 136 │ 0.0       │ 136 │ 0      │ 0         │ 0.965502 │ 0     │ -45.8653 │\n",
       "│ 137 │ 0.0       │ 137 │ 0      │ 0         │ 0.954412 │ 0     │ -45.8653 │\n",
       "│ 138 │ 0.0       │ 138 │ 0      │ 0         │ 0.939792 │ 0     │ -45.8653 │\n",
       "│ 139 │ 0.0       │ 139 │ 0      │ 0         │ 0.9331   │ 0     │ -45.8653 │\n",
       "│ 140 │ 0.0       │ 140 │ 0      │ 0         │ 0.921299 │ 0     │ -45.8653 │\n",
       "│ 141 │ 0.0       │ 141 │ 0      │ 0         │ 0.921348 │ 0     │ -45.8653 │"
      ]
     },
     "execution_count": 51,
     "metadata": {},
     "output_type": "execute_result"
    }
   ],
   "source": [
    "saveres = results_df"
   ]
  },
  {
   "cell_type": "code",
   "execution_count": 52,
   "metadata": {},
   "outputs": [
    {
     "data": {
      "text/plain": [
       "\"figures/141res_lv.csv\""
      ]
     },
     "execution_count": 52,
     "metadata": {},
     "output_type": "execute_result"
    }
   ],
   "source": [
    "CSV.write(\"figures/141res_lv.csv\", saveres)"
   ]
  },
  {
   "cell_type": "code",
   "execution_count": 36,
   "metadata": {},
   "outputs": [
    {
     "data": {
      "text/plain": [
       "-314.3552558616074"
      ]
     },
     "execution_count": 36,
     "metadata": {},
     "output_type": "execute_result"
    }
   ],
   "source": [
    "mu = results_df[:mu_plus] .+ results_df[:mu_minus]\n",
    "mu = mu[2:end]\n",
    "\n",
    "b = 1 ./ diag(C)\n",
    "b = [(x == Inf ? 0 : x) for x in b]\n",
    "\n",
    "g3 = 2*s*z*e'*R'*mu/sum(b)\n",
    "\n",
    "g1 = s^2/sum(b) \n",
    "\n",
    "delta = results_df[:delta_plus] .+ results_df[:delta_minus]\n",
    "detlta = delta[2:end]\n",
    "g2 = sum(delta.*b)/sum(b)\n",
    "\n",
    "g = -g1 - g2 + g3\n"
   ]
  },
  {
   "cell_type": "code",
   "execution_count": 93,
   "metadata": {},
   "outputs": [
    {
     "data": {
      "text/html": [
       "<table class=\"data-frame\"><thead><tr><th></th><th>objective</th><th>bus</th><th>gp</th><th>gq</th><th>voltage</th><th>alpha</th><th>lambda</th><th>pi</th><th>gamma</th><th>eta</th><th>delta_plus</th><th>delta_minus</th><th>mu_plus</th><th>mu_minus</th><th>voltvar</th></tr><tr><th></th><th>Float64</th><th>Any</th><th>Any</th><th>Any</th><th>Any</th><th>Any</th><th>Any</th><th>Any</th><th>Float64</th><th>Any</th><th>Any</th><th>Any</th><th>Any</th><th>Any</th><th>Any</th></tr></thead><tbody><p>15 rows × 15 columns</p><tr><th>1</th><td>25.6491</td><td>1</td><td>0.0226648</td><td>0.92455</td><td>1.0</td><td>0.0946615</td><td>-33.1671</td><td>-9.75958e-10</td><td>-5.06786</td><td>0</td><td>0</td><td>0</td><td>0</td><td>0</td><td>0</td></tr><tr><th>2</th><td>0.0</td><td>2</td><td>0</td><td>0</td><td>0.9014</td><td>0</td><td>-33.1671</td><td>-1.89685e-6</td><td>0.0</td><td>-3.94651e-10</td><td>0</td><td>0</td><td>-3.20045e-8</td><td>-1.0363e-5</td><td>0.000332344</td></tr><tr><th>3</th><td>0.0</td><td>3</td><td>0</td><td>0</td><td>0.954487</td><td>0</td><td>-33.1671</td><td>-1.28175e-6</td><td>0.0</td><td>-4.99631e-8</td><td>0</td><td>0</td><td>-5.48413e-8</td><td>-3.45459e-7</td><td>0.0140404</td></tr><tr><th>4</th><td>0.0</td><td>4</td><td>0</td><td>0</td><td>1.03222</td><td>0</td><td>-33.1671</td><td>-1.97568e-7</td><td>0.0</td><td>-1.25778e-7</td><td>0</td><td>0</td><td>-2.40963e-7</td><td>-7.55156e-8</td><td>0.0202077</td></tr><tr><th>5</th><td>0.0</td><td>5</td><td>0</td><td>0</td><td>1.04</td><td>0</td><td>-33.1671</td><td>-1.26375e-7</td><td>0.0</td><td>-1.30932e-7</td><td>0</td><td>0</td><td>-2.89396e-7</td><td>-6.57626e-8</td><td>0.0186238</td></tr><tr><th>6</th><td>0.0</td><td>6</td><td>0</td><td>0</td><td>1.04746</td><td>0</td><td>-33.1671</td><td>-7.16069e-8</td><td>0.0</td><td>-1.35045e-7</td><td>0</td><td>0</td><td>-3.51332e-7</td><td>-5.82914e-8</td><td>0.0169841</td></tr><tr><th>7</th><td>0.0</td><td>7</td><td>0.891545</td><td>-0.263355</td><td>1.06956</td><td>0.452972</td><td>-33.1671</td><td>-3.98059e-8</td><td>0.0</td><td>-1.4383e-7</td><td>-19.6576</td><td>-1.28527e-8</td><td>-8.61928e-7</td><td>-4.33548e-8</td><td>0.0120413</td></tr><tr><th>8</th><td>0.0</td><td>8</td><td>0</td><td>0</td><td>1.0287</td><td>0</td><td>-33.1671</td><td>-2.7709e-8</td><td>0.0</td><td>-1.3744e-7</td><td>0</td><td>0</td><td>-2.32654e-7</td><td>-8.30975e-8</td><td>0.0221301</td></tr><tr><th>9</th><td>0.0</td><td>9</td><td>0</td><td>0</td><td>1.0388</td><td>0</td><td>-33.1671</td><td>-4.83248e-8</td><td>0.0</td><td>-1.35951e-7</td><td>0</td><td>0</td><td>-2.82549e-7</td><td>-6.84997e-8</td><td>0.0193328</td></tr><tr><th>10</th><td>0.0</td><td>10</td><td>0</td><td>0</td><td>1.04263</td><td>0</td><td>-33.1671</td><td>-2.13994e-8</td><td>0.0</td><td>-1.37776e-7</td><td>0</td><td>0</td><td>-3.08353e-7</td><td>-6.44762e-8</td><td>0.0185617</td></tr><tr><th>11</th><td>0.0</td><td>11</td><td>0</td><td>0</td><td>1.05279</td><td>0</td><td>-33.1671</td><td>-2.75091e-8</td><td>0.0</td><td>-1.41129e-7</td><td>0</td><td>0</td><td>-3.95778e-7</td><td>-5.55877e-8</td><td>0.0164597</td></tr><tr><th>12</th><td>0.0</td><td>12</td><td>0.89169</td><td>-0.280195</td><td>1.05739</td><td>0.452367</td><td>-33.1671</td><td>-3.8747e-8</td><td>0.0</td><td>-1.41829e-7</td><td>-19.6576</td><td>-1.36377e-8</td><td>-4.42862e-7</td><td>-5.22734e-8</td><td>0.0155103</td></tr><tr><th>13</th><td>0.0</td><td>13</td><td>0</td><td>0</td><td>0.982619</td><td>0</td><td>-33.1671</td><td>-1.86879e-7</td><td>0.0</td><td>-1.6831e-12</td><td>0</td><td>0</td><td>0.0</td><td>-2.46816e-7</td><td>0.0219803</td></tr><tr><th>14</th><td>0.0</td><td>14</td><td>0</td><td>0</td><td>0.977795</td><td>0</td><td>-33.1671</td><td>-3.06817e-7</td><td>0.0</td><td>-2.54786e-10</td><td>0</td><td>0</td><td>0.0</td><td>-2.6287e-7</td><td>0.0206383</td></tr><tr><th>15</th><td>0.0</td><td>15</td><td>0</td><td>0</td><td>0.975027</td><td>0</td><td>-33.1671</td><td>-3.44169e-7</td><td>0.0</td><td>-2.57971e-10</td><td>0</td><td>0</td><td>0.0</td><td>-2.73044e-7</td><td>0.019873</td></tr></tbody></table>"
      ],
      "text/latex": [
       "\\begin{tabular}{r|ccccccccccccccc}\n",
       "\t& objective & bus & gp & gq & voltage & alpha & lambda & pi & gamma & eta & delta\\_plus & delta\\_minus & mu\\_plus & mu\\_minus & voltvar\\\\\n",
       "\t\\hline\n",
       "\t& Float64 & Any & Any & Any & Any & Any & Any & Any & Float64 & Any & Any & Any & Any & Any & Any\\\\\n",
       "\t\\hline\n",
       "\t1 & 25.6491 & 1 & 0.0226648 & 0.92455 & 1.0 & 0.0946615 & -33.1671 & -9.75958e-10 & -5.06786 & 0 & 0 & 0 & 0 & 0 & 0 \\\\\n",
       "\t2 & 0.0 & 2 & 0 & 0 & 0.9014 & 0 & -33.1671 & -1.89685e-6 & 0.0 & -3.94651e-10 & 0 & 0 & -3.20045e-8 & -1.0363e-5 & 0.000332344 \\\\\n",
       "\t3 & 0.0 & 3 & 0 & 0 & 0.954487 & 0 & -33.1671 & -1.28175e-6 & 0.0 & -4.99631e-8 & 0 & 0 & -5.48413e-8 & -3.45459e-7 & 0.0140404 \\\\\n",
       "\t4 & 0.0 & 4 & 0 & 0 & 1.03222 & 0 & -33.1671 & -1.97568e-7 & 0.0 & -1.25778e-7 & 0 & 0 & -2.40963e-7 & -7.55156e-8 & 0.0202077 \\\\\n",
       "\t5 & 0.0 & 5 & 0 & 0 & 1.04 & 0 & -33.1671 & -1.26375e-7 & 0.0 & -1.30932e-7 & 0 & 0 & -2.89396e-7 & -6.57626e-8 & 0.0186238 \\\\\n",
       "\t6 & 0.0 & 6 & 0 & 0 & 1.04746 & 0 & -33.1671 & -7.16069e-8 & 0.0 & -1.35045e-7 & 0 & 0 & -3.51332e-7 & -5.82914e-8 & 0.0169841 \\\\\n",
       "\t7 & 0.0 & 7 & 0.891545 & -0.263355 & 1.06956 & 0.452972 & -33.1671 & -3.98059e-8 & 0.0 & -1.4383e-7 & -19.6576 & -1.28527e-8 & -8.61928e-7 & -4.33548e-8 & 0.0120413 \\\\\n",
       "\t8 & 0.0 & 8 & 0 & 0 & 1.0287 & 0 & -33.1671 & -2.7709e-8 & 0.0 & -1.3744e-7 & 0 & 0 & -2.32654e-7 & -8.30975e-8 & 0.0221301 \\\\\n",
       "\t9 & 0.0 & 9 & 0 & 0 & 1.0388 & 0 & -33.1671 & -4.83248e-8 & 0.0 & -1.35951e-7 & 0 & 0 & -2.82549e-7 & -6.84997e-8 & 0.0193328 \\\\\n",
       "\t10 & 0.0 & 10 & 0 & 0 & 1.04263 & 0 & -33.1671 & -2.13994e-8 & 0.0 & -1.37776e-7 & 0 & 0 & -3.08353e-7 & -6.44762e-8 & 0.0185617 \\\\\n",
       "\t11 & 0.0 & 11 & 0 & 0 & 1.05279 & 0 & -33.1671 & -2.75091e-8 & 0.0 & -1.41129e-7 & 0 & 0 & -3.95778e-7 & -5.55877e-8 & 0.0164597 \\\\\n",
       "\t12 & 0.0 & 12 & 0.89169 & -0.280195 & 1.05739 & 0.452367 & -33.1671 & -3.8747e-8 & 0.0 & -1.41829e-7 & -19.6576 & -1.36377e-8 & -4.42862e-7 & -5.22734e-8 & 0.0155103 \\\\\n",
       "\t13 & 0.0 & 13 & 0 & 0 & 0.982619 & 0 & -33.1671 & -1.86879e-7 & 0.0 & -1.6831e-12 & 0 & 0 & 0.0 & -2.46816e-7 & 0.0219803 \\\\\n",
       "\t14 & 0.0 & 14 & 0 & 0 & 0.977795 & 0 & -33.1671 & -3.06817e-7 & 0.0 & -2.54786e-10 & 0 & 0 & 0.0 & -2.6287e-7 & 0.0206383 \\\\\n",
       "\t15 & 0.0 & 15 & 0 & 0 & 0.975027 & 0 & -33.1671 & -3.44169e-7 & 0.0 & -2.57971e-10 & 0 & 0 & 0.0 & -2.73044e-7 & 0.019873 \\\\\n",
       "\\end{tabular}\n"
      ],
      "text/plain": [
       "15×15 DataFrame. Omitted printing of 9 columns\n",
       "│ Row │ objective │ bus │ gp        │ gq        │ voltage  │ alpha     │\n",
       "│     │ \u001b[90mFloat64\u001b[39m   │ \u001b[90mAny\u001b[39m │ \u001b[90mAny\u001b[39m       │ \u001b[90mAny\u001b[39m       │ \u001b[90mAny\u001b[39m      │ \u001b[90mAny\u001b[39m       │\n",
       "├─────┼───────────┼─────┼───────────┼───────────┼──────────┼───────────┤\n",
       "│ 1   │ 25.6491   │ 1   │ 0.0226648 │ 0.92455   │ 1.0      │ 0.0946615 │\n",
       "│ 2   │ 0.0       │ 2   │ 0         │ 0         │ 0.9014   │ 0         │\n",
       "│ 3   │ 0.0       │ 3   │ 0         │ 0         │ 0.954487 │ 0         │\n",
       "│ 4   │ 0.0       │ 4   │ 0         │ 0         │ 1.03222  │ 0         │\n",
       "│ 5   │ 0.0       │ 5   │ 0         │ 0         │ 1.04     │ 0         │\n",
       "│ 6   │ 0.0       │ 6   │ 0         │ 0         │ 1.04746  │ 0         │\n",
       "│ 7   │ 0.0       │ 7   │ 0.891545  │ -0.263355 │ 1.06956  │ 0.452972  │\n",
       "│ 8   │ 0.0       │ 8   │ 0         │ 0         │ 1.0287   │ 0         │\n",
       "│ 9   │ 0.0       │ 9   │ 0         │ 0         │ 1.0388   │ 0         │\n",
       "│ 10  │ 0.0       │ 10  │ 0         │ 0         │ 1.04263  │ 0         │\n",
       "│ 11  │ 0.0       │ 11  │ 0         │ 0         │ 1.05279  │ 0         │\n",
       "│ 12  │ 0.0       │ 12  │ 0.89169   │ -0.280195 │ 1.05739  │ 0.452367  │\n",
       "│ 13  │ 0.0       │ 13  │ 0         │ 0         │ 0.982619 │ 0         │\n",
       "│ 14  │ 0.0       │ 14  │ 0         │ 0         │ 0.977795 │ 0         │\n",
       "│ 15  │ 0.0       │ 15  │ 0         │ 0         │ 0.975027 │ 0         │"
      ]
     },
     "execution_count": 93,
     "metadata": {},
     "output_type": "execute_result"
    }
   ],
   "source": [
    "saveres = results_df"
   ]
  },
  {
   "cell_type": "code",
   "execution_count": 52,
   "metadata": {},
   "outputs": [
    {
     "data": {
      "text/plain": [
       "\"figures/results_uncert.csv\""
      ]
     },
     "execution_count": 52,
     "metadata": {},
     "output_type": "execute_result"
    }
   ],
   "source": [
    "CSV.write(\"figures/results_uncert.csv\", results_df)"
   ]
  },
  {
   "cell_type": "code",
   "execution_count": null,
   "metadata": {},
   "outputs": [],
   "source": []
  }
 ],
 "metadata": {
  "hide_code_all_hidden": false,
  "kernelspec": {
   "display_name": "Julia 1.1.0",
   "language": "julia",
   "name": "julia-1.1"
  },
  "language_info": {
   "file_extension": ".jl",
   "mimetype": "application/julia",
   "name": "julia",
   "version": "1.1.0"
  },
  "varInspector": {
   "cols": {
    "lenName": 16,
    "lenType": 16,
    "lenVar": 40
   },
   "kernels_config": {
    "python": {
     "delete_cmd_postfix": "",
     "delete_cmd_prefix": "del ",
     "library": "var_list.py",
     "varRefreshCmd": "print(var_dic_list())"
    },
    "r": {
     "delete_cmd_postfix": ") ",
     "delete_cmd_prefix": "rm(",
     "library": "var_list.r",
     "varRefreshCmd": "cat(var_dic_list()) "
    }
   },
   "types_to_exclude": [
    "module",
    "function",
    "builtin_function_or_method",
    "instance",
    "_Feature"
   ],
   "window_display": false
  }
 },
 "nbformat": 4,
 "nbformat_minor": 2
}
