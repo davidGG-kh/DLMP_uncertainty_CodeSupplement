{
 "cells": [
  {
   "cell_type": "markdown",
   "metadata": {},
   "source": [
    "# Case Study Model\n",
    "\n",
    "## General Remarks\n",
    "\n",
    "- Reverse Power Flow / Cost at substation\n",
    "    - If the negative generation limit at the substation is not enforced, then substation has the option of pushing energy back towards the transmission system (reverse power flow)\n",
    "    - We make the follwoing assumptions: \n",
    "        - reverse power flow is allowed at the substation \n",
    "        - for scheduled negative active power the substation is remunerated according to the market price (i.e. linear cost of energy provision at the substation) -> the substation has a linear cost function \n",
    "        - While the cost function will not have a quadratic termn, THERE WILL BE a penalty on $\\alpha_0$ as it indicates how much the substation is willing to deviate from the schedule\n",
    "\n",
    "\n",
    "## Notes and Todos:\n",
    "\n",
    "- Verify the gamma decomposition\n",
    "- Maybe check if 33bus gives nice/better results?\n",
    " \n",
    " \n",
    "Done:   \n",
    "- decide for a case! (combination of voltage limits and generators). Notes:\n",
    "    - should there be an equal lambda case?\n",
    "    - should the DERs be fully utilized in the deterministic case?\n",
    "    - [Done]: Choosen Ex2 as set up\n",
    "- put results handling in a function [done]\n",
    "- remove unneccsray packages (e.g. gurobi from tomls) [done, but check on the \"remains\"]\n",
    "- Remove quadratic term from substation [done]"
   ]
  },
  {
   "cell_type": "code",
   "execution_count": 2,
   "metadata": {},
   "outputs": [
    {
     "data": {
      "text/html": [
       "<style>.container { width:80% !important; }</style>"
      ]
     },
     "metadata": {},
     "output_type": "display_data"
    }
   ],
   "source": [
    "# IJulia.qtconsole();\n",
    "\n",
    "# set width of notbook \n",
    "display(\"text/html\", \"<style>.container { width:80% !important; }</style>\")"
   ]
  },
  {
   "cell_type": "code",
   "execution_count": 82,
   "metadata": {
    "hideCode": false,
    "hidePrompt": false
   },
   "outputs": [
    {
     "data": {
      "text/plain": [
       "results_to_df (generic function with 1 method)"
      ]
     },
     "execution_count": 82,
     "metadata": {},
     "output_type": "execute_result"
    }
   ],
   "source": [
    "# Set up environment from .toml-files\n",
    "import Pkg\n",
    "Pkg.activate(\".\")\n",
    "# Pkg.instantiate()\n",
    "\n",
    "# Load necessary packages\n",
    "using DataFrames, CSV, LinearAlgebra, Dates # Basic Julia utility\n",
    "using JLD, HDF5\n",
    "using JuMP # Modeling Framework\n",
    "using Mosek, MosekTools, Gurobi # Solver and Solver-Environment\n",
    "using Logging # For some warnings in the functions\n",
    "\n",
    "# Load functions and model\n",
    "include(\"src/tools.jl\") # Some additional functions\n",
    "include(\"src/input.jl\") # Type definitions and read-in functions\n",
    "include(\"src/model_definition.jl\") # Model definiton\n",
    "include(\"src/output.jl\") # Postprocessing of solved model"
   ]
  },
  {
   "cell_type": "markdown",
   "metadata": {},
   "source": [
    "# 15Bus Case\n",
    "\n",
    "- 15 bus case from Papavasilou paper\n",
    "    - negative load is positive load\n",
    "    - no line constraints\n",
    "    - voltage at root is 1 p.u.\n",
    "    \n",
    "- Assumptions for all cases except mentioned differently\n",
    "    - Two DERs one each at node 6 and 11 with `c1 = 10`, `c2 = 5`, `p_max = 1`, `q_max = 0.5`\n",
    "    - No reverse power flow limit on substation\n",
    "    - Substation pays `c1 = 50` for energy provision from the transmission network (no quadratic term) and a penalty of `200` on alpha to discourage high alpha"
   ]
  },
  {
   "cell_type": "markdown",
   "metadata": {},
   "source": [
    "## Experiment 5\n",
    "\n",
    "### Description\n",
    "\n",
    "Ex5:\n",
    "- tag: `experiment5` \n",
    "- all nodes have 20% standard deviation of their forecasted load\n",
    "- all parameters as in AP's paper, including the negative load (i.e. uncontrollable generator with the same standard deviation\n",
    "- EXCEPT: lines 2 and 3 also have s_max = 2 (instead of 0.256)\n",
    "- Generation confidene: 95%, voltage confidence: 99%\n",
    "- substation balancing participation penalty is set to 1000 (i.e. quadratic cost term)\n",
    "\n",
    "Runs:\n",
    "- `ex5_no_uncert`: deterministic case\n",
    "- `ex5_uncert`: case with uncertainty\n",
    "- `ex5_gen_uncert`: chance constraints only in generation\n",
    "\n",
    "\n",
    "### Notes and Observations\n",
    "\n"
   ]
  },
  {
   "cell_type": "code",
   "execution_count": 100,
   "metadata": {},
   "outputs": [
    {
     "name": "stdout",
     "output_type": "stream",
     "text": [
      ">>>>> Reading feeder data from data/feeder_data/basecase_noneg/\n",
      "Running uncert\n",
      ">>>> Building Model\n",
      ">>>> Running Model\n",
      "MOSEK warning 705: #3 (nearly) zero elements are specified in sparse row ''(86) of matrix 'A'.\n",
      "MOSEK warning 705: #4 (nearly) zero elements are specified in sparse row ''(92) of matrix 'A'.\n",
      ">>>> Model finished with status OPTIMAL in 0.007432294 seconds\n",
      ">>>> Post-Processing\n",
      "\n",
      "Running gen_uncert\n",
      ">>>> Building Model\n",
      ">>>> Running Model\n",
      ">>>> Model finished with status OPTIMAL in 0.004170665 seconds\n",
      ">>>> Post-Processing\n",
      "\n",
      "Running no_uncert\n",
      ">>>> Building Model\n",
      ">>>> Running Model\n",
      ">>>> Model finished with status OPTIMAL in 0.0036879 seconds\n",
      ">>>> Post-Processing\n",
      "\n",
      ">>> Case uncert"
     ]
    },
    {
     "data": {
      "text/html": [
       "<table class=\"data-frame\"><thead><tr><th></th><th>objective</th><th>bus</th><th>gp</th><th>gq</th><th>voltage</th><th>fp</th><th>fq</th><th>alpha</th><th>lambda</th><th>pi</th><th>gamma</th><th>rho</th><th>nu</th><th>delta_plus</th><th>delta_minus</th><th>mu_plus</th><th>mu_minus</th><th>eta_plus</th><th>eta_minus</th><th>eta_aP</th><th>eta_aQ</th><th>voltvar</th><th>lambda_anc</th><th>rx_pi_i</th><th>rx_pi_a</th><th>rx_etaQ</th><th>r_sum_mu_d</th><th>nu_calc</th></tr><tr><th></th><th>Float64</th><th>Any</th><th>Any</th><th>Any</th><th>Any</th><th>Any</th><th>Any</th><th>Any</th><th>Any</th><th>Any</th><th>Float64</th><th>Any</th><th>Any</th><th>Any</th><th>Any</th><th>Any</th><th>Any</th><th>Any</th><th>Any</th><th>Any</th><th>Any</th><th>Any</th><th>Any</th><th>Any</th><th>Any</th><th>Any</th><th>Any</th><th>Any</th></tr></thead><tbody><p>15 rows × 28 columns</p><tr><th>1</th><td>68.0313</td><td>1</td><td>1.0329</td><td>0.489655</td><td>1.0</td><td>0</td><td>0</td><td>0.37677</td><td>-50.0</td><td>-1.31429e-7</td><td>-31.5115</td><td>0</td><td>0</td><td>0</td><td>0</td><td>0</td><td>0</td><td>0</td><td>0</td><td>0</td><td>0</td><td>0</td><td>0</td><td>0</td><td>0</td><td>0</td><td>0</td><td>0</td></tr><tr><th>2</th><td>0.0</td><td>2</td><td>0</td><td>0</td><td>0.956492</td><td>-0.0</td><td>-0.0</td><td>0</td><td>-49.9763</td><td>-2.84802</td><td>0.0</td><td>0.00062323</td><td>-0.11981</td><td>0</td><td>0</td><td>-8.84194e-6</td><td>-5.01133e-5</td><td>-5.84842e-6</td><td>0</td><td>-4.38119e-6</td><td>-7.02574e-7</td><td>0.000170733</td><td>-50.0</td><td>-0.0237335</td><td>-1.09524e-9</td><td>-5.85478e-9</td><td>-0.0237335</td><td>-0.119801</td></tr><tr><th>3</th><td>0.0</td><td>3</td><td>0</td><td>0</td><td>0.971987</td><td>0.387201</td><td>0.351455</td><td>0</td><td>-47.8806</td><td>-5.84319</td><td>0.0</td><td>0.0556545</td><td>-10.699</td><td>0</td><td>0</td><td>-1.19365e-5</td><td>-4.74957e-5</td><td>-1.96396e-6</td><td>0</td><td>1.96396e-6</td><td>-1.11412e-6</td><td>0.000356697</td><td>-49.9763</td><td>-4.08838</td><td>-1.99271</td><td>-7.79531e-7</td><td>-2.09568</td><td>-10.6982</td></tr><tr><th>4</th><td>0.0</td><td>4</td><td>0</td><td>0</td><td>0.99579</td><td>-0.406399</td><td>0.165955</td><td>0</td><td>-44.5959</td><td>-10.5377</td><td>0.0</td><td>0.14191</td><td>-27.2807</td><td>0</td><td>0</td><td>-4.38441e-5</td><td>-0.000186098</td><td>-3.78291e-6</td><td>0</td><td>2.35081e-6</td><td>8.55926e-7</td><td>0.00114563</td><td>-47.8806</td><td>-7.37319</td><td>-4.08846</td><td>5.98888e-7</td><td>-3.28474</td><td>-27.2787</td></tr><tr><th>5</th><td>0.0</td><td>5</td><td>0</td><td>0</td><td>0.997093</td><td>-0.406399</td><td>0.165955</td><td>0</td><td>-44.8362</td><td>-10.1942</td><td>0.0</td><td>0.148983</td><td>-28.1987</td><td>0</td><td>0</td><td>-5.32999e-5</td><td>-0.000310803</td><td>-3.05546e-5</td><td>0</td><td>-2.00496e-5</td><td>-5.67944e-6</td><td>0.00121227</td><td>-44.5959</td><td>-7.13222</td><td>-7.37253</td><td>-3.97353e-6</td><td>0.240306</td><td>-28.1967</td></tr><tr><th>6</th><td>0.0</td><td>6</td><td>0</td><td>0</td><td>0.998689</td><td>-0.189859</td><td>0.0852891</td><td>0</td><td>-45.0564</td><td>-9.87844</td><td>0.0</td><td>0.155465</td><td>-29.0399</td><td>0</td><td>0</td><td>-6.91995e-5</td><td>-0.000588824</td><td>0.0</td><td>0</td><td>0.0</td><td>0.0</td><td>0.00127888</td><td>-44.8362</td><td>-6.88736</td><td>-7.10752</td><td>0.0</td><td>0.220167</td><td>-29.0379</td></tr><tr><th>7</th><td>0.0</td><td>7</td><td>0.258159</td><td>-0.0681891</td><td>1.00499</td><td>-0.207159</td><td>0.0809891</td><td>0.370364</td><td>-12.0245</td><td>-1.9185e-6</td><td>0.0</td><td>0.173316</td><td>-31.3566</td><td>-5.18131e-6</td><td>-4.09295e-5</td><td>-20.1862</td><td>-26.4762</td><td>-33.6382</td><td>0</td><td>33.6382</td><td>-9.01168</td><td>0.00150698</td><td>-45.0564</td><td>-1.34211e-6</td><td>-6.91061</td><td>-6.30425</td><td>0.606352</td><td>-31.3546</td></tr><tr><th>8</th><td>0.0</td><td>8</td><td>0</td><td>0</td><td>1.01132</td><td>-0.236259</td><td>0.0736891</td><td>0</td><td>-3.88358</td><td>-10.1016</td><td>0.0</td><td>0.152201</td><td>-32.5331</td><td>0</td><td>0</td><td>-44.8713</td><td>-5.89475e-5</td><td>0.0</td><td>0</td><td>0.0</td><td>0.0</td><td>0.00132082</td><td>-8.57711</td><td>-7.07245</td><td>-2.37892</td><td>0.0</td><td>-4.69353</td><td>-32.5305</td></tr><tr><th>9</th><td>0.0</td><td>9</td><td>0</td><td>0</td><td>1.00122</td><td>-0.1969</td><td>0.0019</td><td>0</td><td>-8.57711</td><td>-3.39781</td><td>0.0</td><td>0.152201</td><td>-30.2006</td><td>0</td><td>0</td><td>-9.03272e-5</td><td>-0.000206915</td><td>-34.5407</td><td>0</td><td>34.5407</td><td>-9.25345</td><td>0.00131592</td><td>-44.5959</td><td>-2.37613</td><td>-7.36915</td><td>-6.47105</td><td>-1.47804</td><td>-30.1983</td></tr><tr><th>10</th><td>0.0</td><td>10</td><td>0</td><td>0</td><td>1.00093</td><td>-0.23664</td><td>0.0722664</td><td>0</td><td>-9.11141</td><td>-2.63379</td><td>0.0</td><td>0.15473</td><td>-30.4721</td><td>0</td><td>0</td><td>-9.56894e-5</td><td>-0.000309032</td><td>-3.14462e-5</td><td>0</td><td>-2.46069e-5</td><td>-1.08882e-5</td><td>0.00133161</td><td>-8.57711</td><td>-1.84181</td><td>-2.37609</td><td>-7.61411e-6</td><td>0.534268</td><td>-30.4697</td></tr><tr><th>11</th><td>0.0</td><td>11</td><td>0</td><td>0</td><td>1.00128</td><td>-0.0632398</td><td>0.0644664</td><td>0</td><td>-10.399</td><td>-0.790585</td><td>0.0</td><td>0.160824</td><td>-31.1262</td><td>0</td><td>0</td><td>-0.00012053</td><td>-0.00417432</td><td>0.0</td><td>0</td><td>0.0</td><td>0.0</td><td>0.00138243</td><td>-9.11141</td><td>-0.552264</td><td>-1.83984</td><td>0.0</td><td>1.28758</td><td>-31.1239</td></tr><tr><th>12</th><td>0.0</td><td>12</td><td>0.12104</td><td>-0.0404664</td><td>1.00174</td><td>-0.0861398</td><td>0.0502664</td><td>0.252866</td><td>-10.9492</td><td>-8.47288e-7</td><td>0.0</td><td>0.163428</td><td>-31.4058</td><td>-3.1488e-6</td><td>-9.71485e-5</td><td>-0.00013395</td><td>-26.7093</td><td>-6.27143e-6</td><td>0</td><td>-1.68011e-6</td><td>6.27143e-6</td><td>0.00141032</td><td>-10.399</td><td>-5.89667e-7</td><td>-0.550204</td><td>4.36457e-6</td><td>0.550208</td><td>-31.4034</td></tr><tr><th>13</th><td>0.0</td><td>13</td><td>0</td><td>0</td><td>0.982619</td><td>-0.10784</td><td>0.0437664</td><td>0</td><td>-50.0</td><td>-2.90323e-5</td><td>0.0</td><td>0.0</td><td>-2.85829e-10</td><td>0</td><td>0</td><td>0.0</td><td>-3.80107e-5</td><td>0.0</td><td>0</td><td>0.0</td><td>0.0</td><td>0.000402358</td><td>-50.0</td><td>-2.41936e-7</td><td>-1.09524e-9</td><td>0.0</td><td>2.40841e-7</td><td>-6.01776e-10</td></tr><tr><th>14</th><td>0.0</td><td>14</td><td>0</td><td>0</td><td>0.977795</td><td>0.6457</td><td>0.1382</td><td>0</td><td>-50.0</td><td>-4.74756e-5</td><td>0.0</td><td>0.0</td><td>-3.36752e-8</td><td>0</td><td>0</td><td>0.0</td><td>-4.04303e-5</td><td>0.0</td><td>0</td><td>0.0</td><td>0.0</td><td>0.000355264</td><td>-50.0</td><td>-6.61434e-5</td><td>-4.0448e-5</td><td>0.0</td><td>2.56953e-5</td><td>-7.08417e-8</td></tr><tr><th>15</th><td>0.0</td><td>15</td><td>0</td><td>0</td><td>0.975027</td><td>0.0238</td><td>0.0091</td><td>0</td><td>-50.0</td><td>-5.32183e-5</td><td>0.0</td><td>-0.0</td><td>-4.47691e-8</td><td>0</td><td>0</td><td>0.0</td><td>-4.19793e-5</td><td>0.0</td><td>0</td><td>0.0</td><td>0.0</td><td>0.000329873</td><td>-50.0</td><td>-7.41478e-5</td><td>-6.61465e-5</td><td>0.0</td><td>8.00125e-6</td><td>-9.41561e-8</td></tr></tbody></table>"
      ],
      "text/latex": [
       "\\begin{tabular}{r|cccccccccccccccccccccccccccc}\n",
       "\t& objective & bus & gp & gq & voltage & fp & fq & alpha & lambda & pi & gamma & rho & nu & delta\\_plus & delta\\_minus & mu\\_plus & mu\\_minus & eta\\_plus & eta\\_minus & eta\\_aP & eta\\_aQ & voltvar & lambda\\_anc & rx\\_pi\\_i & rx\\_pi\\_a & rx\\_etaQ & r\\_sum\\_mu\\_d & nu\\_calc\\\\\n",
       "\t\\hline\n",
       "\t& Float64 & Any & Any & Any & Any & Any & Any & Any & Any & Any & Float64 & Any & Any & Any & Any & Any & Any & Any & Any & Any & Any & Any & Any & Any & Any & Any & Any & Any\\\\\n",
       "\t\\hline\n",
       "\t1 & 68.0313 & 1 & 1.0329 & 0.489655 & 1.0 & 0 & 0 & 0.37677 & -50.0 & -1.31429e-7 & -31.5115 & 0 & 0 & 0 & 0 & 0 & 0 & 0 & 0 & 0 & 0 & 0 & 0 & 0 & 0 & 0 & 0 & 0 \\\\\n",
       "\t2 & 0.0 & 2 & 0 & 0 & 0.956492 & -0.0 & -0.0 & 0 & -49.9763 & -2.84802 & 0.0 & 0.00062323 & -0.11981 & 0 & 0 & -8.84194e-6 & -5.01133e-5 & -5.84842e-6 & 0 & -4.38119e-6 & -7.02574e-7 & 0.000170733 & -50.0 & -0.0237335 & -1.09524e-9 & -5.85478e-9 & -0.0237335 & -0.119801 \\\\\n",
       "\t3 & 0.0 & 3 & 0 & 0 & 0.971987 & 0.387201 & 0.351455 & 0 & -47.8806 & -5.84319 & 0.0 & 0.0556545 & -10.699 & 0 & 0 & -1.19365e-5 & -4.74957e-5 & -1.96396e-6 & 0 & 1.96396e-6 & -1.11412e-6 & 0.000356697 & -49.9763 & -4.08838 & -1.99271 & -7.79531e-7 & -2.09568 & -10.6982 \\\\\n",
       "\t4 & 0.0 & 4 & 0 & 0 & 0.99579 & -0.406399 & 0.165955 & 0 & -44.5959 & -10.5377 & 0.0 & 0.14191 & -27.2807 & 0 & 0 & -4.38441e-5 & -0.000186098 & -3.78291e-6 & 0 & 2.35081e-6 & 8.55926e-7 & 0.00114563 & -47.8806 & -7.37319 & -4.08846 & 5.98888e-7 & -3.28474 & -27.2787 \\\\\n",
       "\t5 & 0.0 & 5 & 0 & 0 & 0.997093 & -0.406399 & 0.165955 & 0 & -44.8362 & -10.1942 & 0.0 & 0.148983 & -28.1987 & 0 & 0 & -5.32999e-5 & -0.000310803 & -3.05546e-5 & 0 & -2.00496e-5 & -5.67944e-6 & 0.00121227 & -44.5959 & -7.13222 & -7.37253 & -3.97353e-6 & 0.240306 & -28.1967 \\\\\n",
       "\t6 & 0.0 & 6 & 0 & 0 & 0.998689 & -0.189859 & 0.0852891 & 0 & -45.0564 & -9.87844 & 0.0 & 0.155465 & -29.0399 & 0 & 0 & -6.91995e-5 & -0.000588824 & 0.0 & 0 & 0.0 & 0.0 & 0.00127888 & -44.8362 & -6.88736 & -7.10752 & 0.0 & 0.220167 & -29.0379 \\\\\n",
       "\t7 & 0.0 & 7 & 0.258159 & -0.0681891 & 1.00499 & -0.207159 & 0.0809891 & 0.370364 & -12.0245 & -1.9185e-6 & 0.0 & 0.173316 & -31.3566 & -5.18131e-6 & -4.09295e-5 & -20.1862 & -26.4762 & -33.6382 & 0 & 33.6382 & -9.01168 & 0.00150698 & -45.0564 & -1.34211e-6 & -6.91061 & -6.30425 & 0.606352 & -31.3546 \\\\\n",
       "\t8 & 0.0 & 8 & 0 & 0 & 1.01132 & -0.236259 & 0.0736891 & 0 & -3.88358 & -10.1016 & 0.0 & 0.152201 & -32.5331 & 0 & 0 & -44.8713 & -5.89475e-5 & 0.0 & 0 & 0.0 & 0.0 & 0.00132082 & -8.57711 & -7.07245 & -2.37892 & 0.0 & -4.69353 & -32.5305 \\\\\n",
       "\t9 & 0.0 & 9 & 0 & 0 & 1.00122 & -0.1969 & 0.0019 & 0 & -8.57711 & -3.39781 & 0.0 & 0.152201 & -30.2006 & 0 & 0 & -9.03272e-5 & -0.000206915 & -34.5407 & 0 & 34.5407 & -9.25345 & 0.00131592 & -44.5959 & -2.37613 & -7.36915 & -6.47105 & -1.47804 & -30.1983 \\\\\n",
       "\t10 & 0.0 & 10 & 0 & 0 & 1.00093 & -0.23664 & 0.0722664 & 0 & -9.11141 & -2.63379 & 0.0 & 0.15473 & -30.4721 & 0 & 0 & -9.56894e-5 & -0.000309032 & -3.14462e-5 & 0 & -2.46069e-5 & -1.08882e-5 & 0.00133161 & -8.57711 & -1.84181 & -2.37609 & -7.61411e-6 & 0.534268 & -30.4697 \\\\\n",
       "\t11 & 0.0 & 11 & 0 & 0 & 1.00128 & -0.0632398 & 0.0644664 & 0 & -10.399 & -0.790585 & 0.0 & 0.160824 & -31.1262 & 0 & 0 & -0.00012053 & -0.00417432 & 0.0 & 0 & 0.0 & 0.0 & 0.00138243 & -9.11141 & -0.552264 & -1.83984 & 0.0 & 1.28758 & -31.1239 \\\\\n",
       "\t12 & 0.0 & 12 & 0.12104 & -0.0404664 & 1.00174 & -0.0861398 & 0.0502664 & 0.252866 & -10.9492 & -8.47288e-7 & 0.0 & 0.163428 & -31.4058 & -3.1488e-6 & -9.71485e-5 & -0.00013395 & -26.7093 & -6.27143e-6 & 0 & -1.68011e-6 & 6.27143e-6 & 0.00141032 & -10.399 & -5.89667e-7 & -0.550204 & 4.36457e-6 & 0.550208 & -31.4034 \\\\\n",
       "\t13 & 0.0 & 13 & 0 & 0 & 0.982619 & -0.10784 & 0.0437664 & 0 & -50.0 & -2.90323e-5 & 0.0 & 0.0 & -2.85829e-10 & 0 & 0 & 0.0 & -3.80107e-5 & 0.0 & 0 & 0.0 & 0.0 & 0.000402358 & -50.0 & -2.41936e-7 & -1.09524e-9 & 0.0 & 2.40841e-7 & -6.01776e-10 \\\\\n",
       "\t14 & 0.0 & 14 & 0 & 0 & 0.977795 & 0.6457 & 0.1382 & 0 & -50.0 & -4.74756e-5 & 0.0 & 0.0 & -3.36752e-8 & 0 & 0 & 0.0 & -4.04303e-5 & 0.0 & 0 & 0.0 & 0.0 & 0.000355264 & -50.0 & -6.61434e-5 & -4.0448e-5 & 0.0 & 2.56953e-5 & -7.08417e-8 \\\\\n",
       "\t15 & 0.0 & 15 & 0 & 0 & 0.975027 & 0.0238 & 0.0091 & 0 & -50.0 & -5.32183e-5 & 0.0 & -0.0 & -4.47691e-8 & 0 & 0 & 0.0 & -4.19793e-5 & 0.0 & 0 & 0.0 & 0.0 & 0.000329873 & -50.0 & -7.41478e-5 & -6.61465e-5 & 0.0 & 8.00125e-6 & -9.41561e-8 \\\\\n",
       "\\end{tabular}\n"
      ],
      "text/plain": [
       "15×28 DataFrame. Omitted printing of 22 columns\n",
       "│ Row │ objective │ bus │ gp       │ gq         │ voltage  │ fp         │\n",
       "│     │ \u001b[90mFloat64\u001b[39m   │ \u001b[90mAny\u001b[39m │ \u001b[90mAny\u001b[39m      │ \u001b[90mAny\u001b[39m        │ \u001b[90mAny\u001b[39m      │ \u001b[90mAny\u001b[39m        │\n",
       "├─────┼───────────┼─────┼──────────┼────────────┼──────────┼────────────┤\n",
       "│ 1   │ 68.0313   │ 1   │ 1.0329   │ 0.489655   │ 1.0      │ 0          │\n",
       "│ 2   │ 0.0       │ 2   │ 0        │ 0          │ 0.956492 │ -0.0       │\n",
       "│ 3   │ 0.0       │ 3   │ 0        │ 0          │ 0.971987 │ 0.387201   │\n",
       "│ 4   │ 0.0       │ 4   │ 0        │ 0          │ 0.99579  │ -0.406399  │\n",
       "│ 5   │ 0.0       │ 5   │ 0        │ 0          │ 0.997093 │ -0.406399  │\n",
       "│ 6   │ 0.0       │ 6   │ 0        │ 0          │ 0.998689 │ -0.189859  │\n",
       "│ 7   │ 0.0       │ 7   │ 0.258159 │ -0.0681891 │ 1.00499  │ -0.207159  │\n",
       "│ 8   │ 0.0       │ 8   │ 0        │ 0          │ 1.01132  │ -0.236259  │\n",
       "│ 9   │ 0.0       │ 9   │ 0        │ 0          │ 1.00122  │ -0.1969    │\n",
       "│ 10  │ 0.0       │ 10  │ 0        │ 0          │ 1.00093  │ -0.23664   │\n",
       "│ 11  │ 0.0       │ 11  │ 0        │ 0          │ 1.00128  │ -0.0632398 │\n",
       "│ 12  │ 0.0       │ 12  │ 0.12104  │ -0.0404664 │ 1.00174  │ -0.0861398 │\n",
       "│ 13  │ 0.0       │ 13  │ 0        │ 0          │ 0.982619 │ -0.10784   │\n",
       "│ 14  │ 0.0       │ 14  │ 0        │ 0          │ 0.977795 │ 0.6457     │\n",
       "│ 15  │ 0.0       │ 15  │ 0        │ 0          │ 0.975027 │ 0.0238     │"
      ]
     },
     "metadata": {},
     "output_type": "display_data"
    },
    {
     "name": "stdout",
     "output_type": "stream",
     "text": [
      ">>> Case gen_uncert"
     ]
    },
    {
     "data": {
      "text/html": [
       "<table class=\"data-frame\"><thead><tr><th></th><th>objective</th><th>bus</th><th>gp</th><th>gq</th><th>voltage</th><th>fp</th><th>fq</th><th>alpha</th><th>lambda</th><th>pi</th><th>gamma</th><th>rho</th><th>nu</th><th>delta_plus</th><th>delta_minus</th><th>mu_plus</th><th>mu_minus</th><th>eta_plus</th><th>eta_minus</th><th>eta_aP</th><th>eta_aQ</th><th>voltvar</th><th>lambda_anc</th><th>rx_pi_i</th><th>rx_pi_a</th><th>rx_etaQ</th><th>r_sum_mu_d</th><th>nu_calc</th></tr><tr><th></th><th>Float64</th><th>Any</th><th>Any</th><th>Any</th><th>Any</th><th>Any</th><th>Any</th><th>Any</th><th>Any</th><th>Any</th><th>Float64</th><th>Any</th><th>Any</th><th>Any</th><th>Any</th><th>Any</th><th>Any</th><th>Any</th><th>Any</th><th>Any</th><th>Any</th><th>Any</th><th>Any</th><th>Any</th><th>Any</th><th>Any</th><th>Any</th><th>Any</th></tr></thead><tbody><p>15 rows × 28 columns</p><tr><th>1</th><td>56.2162</td><td>1</td><td>0.9938</td><td>0.3437</td><td>1.0</td><td>0</td><td>0</td><td>0.00321936</td><td>-50.0</td><td>-4.51531e-8</td><td>-1.96139</td><td>0</td><td>0</td><td>0</td><td>0</td><td>0</td><td>0</td><td>0</td><td>0</td><td>0</td><td>0</td><td>0</td><td>0</td><td>0</td><td>0</td><td>0</td><td>0</td><td>0</td></tr><tr><th>2</th><td>0.0</td><td>2</td><td>0</td><td>0</td><td>0.974671</td><td>0.3481</td><td>0.2055</td><td>0</td><td>-50.0</td><td>-2.33935e-5</td><td>0.0</td><td>0</td><td>0</td><td>0</td><td>0</td><td>-2.38488e-6</td><td>-4.90693e-6</td><td>-1.90695e-6</td><td>0</td><td>-1.43347e-6</td><td>-1.27542e-7</td><td>0</td><td>-50.0</td><td>-1.94946e-7</td><td>-3.76276e-10</td><td>-1.06285e-9</td><td>-1.96385e-7</td><td>0</td></tr><tr><th>3</th><td>0.0</td><td>3</td><td>0</td><td>0</td><td>1.01174</td><td>-0.4455</td><td>0.0199999</td><td>0</td><td>-50.0</td><td>-4.83883e-5</td><td>0.0</td><td>0</td><td>0</td><td>0</td><td>0</td><td>-3.26802e-6</td><td>-3.58104e-6</td><td>-7.5319e-7</td><td>0</td><td>7.5319e-7</td><td>-4.25505e-7</td><td>0</td><td>-50.0</td><td>-3.38565e-5</td><td>-1.6368e-5</td><td>-2.97719e-7</td><td>-1.77862e-5</td><td>0</td></tr><tr><th>4</th><td>0.0</td><td>4</td><td>0</td><td>0</td><td>1.06725</td><td>-0.4455</td><td>0.0199999</td><td>0</td><td>-50.0</td><td>-8.87765e-5</td><td>0.0</td><td>0</td><td>0</td><td>0</td><td>0</td><td>-8.8338e-6</td><td>-2.43053e-6</td><td>-1.41252e-6</td><td>0</td><td>9.27785e-7</td><td>4.21826e-7</td><td>0</td><td>-50.0</td><td>-6.21167e-5</td><td>-3.38571e-5</td><td>2.9515e-7</td><td>-2.79644e-5</td><td>0</td></tr><tr><th>5</th><td>0.0</td><td>5</td><td>0</td><td>0</td><td>1.07069</td><td>-0.2096</td><td>0.0116</td><td>0</td><td>-50.0</td><td>-9.00733e-5</td><td>0.0</td><td>0</td><td>0</td><td>0</td><td>0</td><td>-9.8563e-6</td><td>-2.38312e-6</td><td>-9.5339e-6</td><td>0</td><td>-6.18834e-6</td><td>-6.41704e-7</td><td>0</td><td>-50.0</td><td>-6.30183e-5</td><td>-6.21111e-5</td><td>-4.48958e-7</td><td>-1.35622e-6</td><td>0</td></tr><tr><th>6</th><td>0.0</td><td>6</td><td>0</td><td>0</td><td>1.07423</td><td>-0.2269</td><td>0.00729995</td><td>0</td><td>-50.0</td><td>-9.14804e-5</td><td>0.0</td><td>0</td><td>0</td><td>0</td><td>0</td><td>-1.12309e-5</td><td>-2.33476e-6</td><td>0.0</td><td>0</td><td>0.0</td><td>0.0</td><td>0</td><td>-50.0</td><td>-6.37812e-5</td><td>-6.28001e-5</td><td>0.0</td><td>-9.81051e-7</td><td>0</td></tr><tr><th>7</th><td>0.0</td><td>7</td><td>0.2779</td><td>0.00550005</td><td>1.08565</td><td>-0.256</td><td>-4.62278e-8</td><td>0.646151</td><td>-11.9958</td><td>-1.18309e-7</td><td>0.0</td><td>0</td><td>0</td><td>-2.39764e-6</td><td>-3.53077e-5</td><td>-2.13175e-5</td><td>-2.18355e-6</td><td>-38.0041</td><td>0</td><td>38.0041</td><td>-9.39988e-5</td><td>0</td><td>-50.0</td><td>-8.27645e-8</td><td>-6.39965e-5</td><td>-6.57582e-5</td><td>-1.84451e-6</td><td>0</td></tr><tr><th>8</th><td>0.0</td><td>8</td><td>0</td><td>0</td><td>1.08635</td><td>-0.1969</td><td>0.0019</td><td>0</td><td>-8.76913</td><td>-1.93095e-7</td><td>0.0</td><td>0</td><td>0</td><td>0</td><td>0</td><td>-2.24256e-5</td><td>0.0</td><td>0.0</td><td>0</td><td>0.0</td><td>0.0</td><td>0</td><td>-8.76913</td><td>-1.35192e-7</td><td>-2.48091e-6</td><td>0.0</td><td>-2.34572e-6</td><td>0</td></tr><tr><th>9</th><td>0.0</td><td>9</td><td>0</td><td>0</td><td>1.07696</td><td>-0.256</td><td>-3.07325e-8</td><td>0</td><td>-8.76913</td><td>-3.54348e-6</td><td>0.0</td><td>0</td><td>0</td><td>0</td><td>0</td><td>0.0</td><td>-2.28312e-6</td><td>-41.2308</td><td>0</td><td>41.2308</td><td>-9.92017e-5</td><td>0</td><td>-50.0</td><td>-2.478e-6</td><td>-6.20826e-5</td><td>-6.9373e-5</td><td>-4.81244e-6</td><td>0</td></tr><tr><th>10</th><td>0.0</td><td>10</td><td>0</td><td>0</td><td>1.07783</td><td>-0.0826</td><td>-0.00780003</td><td>0</td><td>-8.76914</td><td>-5.1219e-6</td><td>0.0</td><td>0</td><td>0</td><td>0</td><td>0</td><td>-1.31742e-5</td><td>-2.27386e-6</td><td>-9.77216e-6</td><td>0</td><td>-7.85301e-6</td><td>-2.69321e-6</td><td>0</td><td>-8.76913</td><td>-3.58175e-6</td><td>-2.47796e-6</td><td>-1.88336e-6</td><td>-7.79569e-7</td><td>0</td></tr><tr><th>11</th><td>0.0</td><td>11</td><td>0</td><td>0</td><td>1.08089</td><td>-0.1055</td><td>-0.022</td><td>0</td><td>-8.76913</td><td>-3.18451e-6</td><td>0.0</td><td>0</td><td>0</td><td>0</td><td>0</td><td>-1.54785e-5</td><td>-2.23647e-6</td><td>0.0</td><td>0</td><td>0.0</td><td>0.0</td><td>0</td><td>-8.76914</td><td>-2.22454e-6</td><td>-3.57791e-6</td><td>0.0</td><td>-1.35336e-6</td><td>0</td></tr><tr><th>12</th><td>0.0</td><td>12</td><td>0.1404</td><td>0.0318</td><td>1.08249</td><td>-0.1272</td><td>-0.0285</td><td>0.35063</td><td>-8.76914</td><td>-1.5206e-7</td><td>0.0</td><td>0</td><td>0</td><td>-1.19194e-6</td><td>-2.23913</td><td>-1.70523e-5</td><td>-2.21625e-6</td><td>-2.59331e-6</td><td>0</td><td>-6.94747e-7</td><td>2.59331e-6</td><td>0</td><td>-8.76913</td><td>-1.05826e-7</td><td>-2.21625e-6</td><td>1.8048e-6</td><td>-3.05622e-7</td><td>0</td></tr><tr><th>13</th><td>0.0</td><td>13</td><td>0</td><td>0</td><td>0.982619</td><td>0.6457</td><td>0.1382</td><td>0</td><td>-50.0</td><td>-4.51531e-8</td><td>0.0</td><td>0</td><td>0</td><td>0</td><td>0</td><td>0.0</td><td>0.0</td><td>0.0</td><td>0</td><td>0.0</td><td>0.0</td><td>0</td><td>-50.0</td><td>-3.76276e-10</td><td>-3.76276e-10</td><td>0.0</td><td>0.0</td><td>0</td></tr><tr><th>14</th><td>0.0</td><td>14</td><td>0</td><td>0</td><td>0.977795</td><td>0.0238</td><td>0.0091</td><td>0</td><td>-50.0</td><td>-4.51531e-8</td><td>0.0</td><td>0</td><td>0</td><td>0</td><td>0</td><td>0.0</td><td>0.0</td><td>0.0</td><td>0</td><td>0.0</td><td>0.0</td><td>0</td><td>-50.0</td><td>-6.29076e-8</td><td>-6.29076e-8</td><td>0.0</td><td>0.0</td><td>0</td></tr><tr><th>15</th><td>0.0</td><td>15</td><td>0</td><td>0</td><td>0.975027</td><td>0.0224</td><td>0.0083</td><td>0</td><td>-50.0</td><td>-4.51531e-8</td><td>0.0</td><td>0</td><td>0</td><td>0</td><td>0</td><td>0.0</td><td>0.0</td><td>0.0</td><td>0</td><td>0.0</td><td>0.0</td><td>0</td><td>-50.0</td><td>-6.29106e-8</td><td>-6.29106e-8</td><td>0.0</td><td>0.0</td><td>0</td></tr></tbody></table>"
      ],
      "text/latex": [
       "\\begin{tabular}{r|cccccccccccccccccccccccccccc}\n",
       "\t& objective & bus & gp & gq & voltage & fp & fq & alpha & lambda & pi & gamma & rho & nu & delta\\_plus & delta\\_minus & mu\\_plus & mu\\_minus & eta\\_plus & eta\\_minus & eta\\_aP & eta\\_aQ & voltvar & lambda\\_anc & rx\\_pi\\_i & rx\\_pi\\_a & rx\\_etaQ & r\\_sum\\_mu\\_d & nu\\_calc\\\\\n",
       "\t\\hline\n",
       "\t& Float64 & Any & Any & Any & Any & Any & Any & Any & Any & Any & Float64 & Any & Any & Any & Any & Any & Any & Any & Any & Any & Any & Any & Any & Any & Any & Any & Any & Any\\\\\n",
       "\t\\hline\n",
       "\t1 & 56.2162 & 1 & 0.9938 & 0.3437 & 1.0 & 0 & 0 & 0.00321936 & -50.0 & -4.51531e-8 & -1.96139 & 0 & 0 & 0 & 0 & 0 & 0 & 0 & 0 & 0 & 0 & 0 & 0 & 0 & 0 & 0 & 0 & 0 \\\\\n",
       "\t2 & 0.0 & 2 & 0 & 0 & 0.974671 & 0.3481 & 0.2055 & 0 & -50.0 & -2.33935e-5 & 0.0 & 0 & 0 & 0 & 0 & -2.38488e-6 & -4.90693e-6 & -1.90695e-6 & 0 & -1.43347e-6 & -1.27542e-7 & 0 & -50.0 & -1.94946e-7 & -3.76276e-10 & -1.06285e-9 & -1.96385e-7 & 0 \\\\\n",
       "\t3 & 0.0 & 3 & 0 & 0 & 1.01174 & -0.4455 & 0.0199999 & 0 & -50.0 & -4.83883e-5 & 0.0 & 0 & 0 & 0 & 0 & -3.26802e-6 & -3.58104e-6 & -7.5319e-7 & 0 & 7.5319e-7 & -4.25505e-7 & 0 & -50.0 & -3.38565e-5 & -1.6368e-5 & -2.97719e-7 & -1.77862e-5 & 0 \\\\\n",
       "\t4 & 0.0 & 4 & 0 & 0 & 1.06725 & -0.4455 & 0.0199999 & 0 & -50.0 & -8.87765e-5 & 0.0 & 0 & 0 & 0 & 0 & -8.8338e-6 & -2.43053e-6 & -1.41252e-6 & 0 & 9.27785e-7 & 4.21826e-7 & 0 & -50.0 & -6.21167e-5 & -3.38571e-5 & 2.9515e-7 & -2.79644e-5 & 0 \\\\\n",
       "\t5 & 0.0 & 5 & 0 & 0 & 1.07069 & -0.2096 & 0.0116 & 0 & -50.0 & -9.00733e-5 & 0.0 & 0 & 0 & 0 & 0 & -9.8563e-6 & -2.38312e-6 & -9.5339e-6 & 0 & -6.18834e-6 & -6.41704e-7 & 0 & -50.0 & -6.30183e-5 & -6.21111e-5 & -4.48958e-7 & -1.35622e-6 & 0 \\\\\n",
       "\t6 & 0.0 & 6 & 0 & 0 & 1.07423 & -0.2269 & 0.00729995 & 0 & -50.0 & -9.14804e-5 & 0.0 & 0 & 0 & 0 & 0 & -1.12309e-5 & -2.33476e-6 & 0.0 & 0 & 0.0 & 0.0 & 0 & -50.0 & -6.37812e-5 & -6.28001e-5 & 0.0 & -9.81051e-7 & 0 \\\\\n",
       "\t7 & 0.0 & 7 & 0.2779 & 0.00550005 & 1.08565 & -0.256 & -4.62278e-8 & 0.646151 & -11.9958 & -1.18309e-7 & 0.0 & 0 & 0 & -2.39764e-6 & -3.53077e-5 & -2.13175e-5 & -2.18355e-6 & -38.0041 & 0 & 38.0041 & -9.39988e-5 & 0 & -50.0 & -8.27645e-8 & -6.39965e-5 & -6.57582e-5 & -1.84451e-6 & 0 \\\\\n",
       "\t8 & 0.0 & 8 & 0 & 0 & 1.08635 & -0.1969 & 0.0019 & 0 & -8.76913 & -1.93095e-7 & 0.0 & 0 & 0 & 0 & 0 & -2.24256e-5 & 0.0 & 0.0 & 0 & 0.0 & 0.0 & 0 & -8.76913 & -1.35192e-7 & -2.48091e-6 & 0.0 & -2.34572e-6 & 0 \\\\\n",
       "\t9 & 0.0 & 9 & 0 & 0 & 1.07696 & -0.256 & -3.07325e-8 & 0 & -8.76913 & -3.54348e-6 & 0.0 & 0 & 0 & 0 & 0 & 0.0 & -2.28312e-6 & -41.2308 & 0 & 41.2308 & -9.92017e-5 & 0 & -50.0 & -2.478e-6 & -6.20826e-5 & -6.9373e-5 & -4.81244e-6 & 0 \\\\\n",
       "\t10 & 0.0 & 10 & 0 & 0 & 1.07783 & -0.0826 & -0.00780003 & 0 & -8.76914 & -5.1219e-6 & 0.0 & 0 & 0 & 0 & 0 & -1.31742e-5 & -2.27386e-6 & -9.77216e-6 & 0 & -7.85301e-6 & -2.69321e-6 & 0 & -8.76913 & -3.58175e-6 & -2.47796e-6 & -1.88336e-6 & -7.79569e-7 & 0 \\\\\n",
       "\t11 & 0.0 & 11 & 0 & 0 & 1.08089 & -0.1055 & -0.022 & 0 & -8.76913 & -3.18451e-6 & 0.0 & 0 & 0 & 0 & 0 & -1.54785e-5 & -2.23647e-6 & 0.0 & 0 & 0.0 & 0.0 & 0 & -8.76914 & -2.22454e-6 & -3.57791e-6 & 0.0 & -1.35336e-6 & 0 \\\\\n",
       "\t12 & 0.0 & 12 & 0.1404 & 0.0318 & 1.08249 & -0.1272 & -0.0285 & 0.35063 & -8.76914 & -1.5206e-7 & 0.0 & 0 & 0 & -1.19194e-6 & -2.23913 & -1.70523e-5 & -2.21625e-6 & -2.59331e-6 & 0 & -6.94747e-7 & 2.59331e-6 & 0 & -8.76913 & -1.05826e-7 & -2.21625e-6 & 1.8048e-6 & -3.05622e-7 & 0 \\\\\n",
       "\t13 & 0.0 & 13 & 0 & 0 & 0.982619 & 0.6457 & 0.1382 & 0 & -50.0 & -4.51531e-8 & 0.0 & 0 & 0 & 0 & 0 & 0.0 & 0.0 & 0.0 & 0 & 0.0 & 0.0 & 0 & -50.0 & -3.76276e-10 & -3.76276e-10 & 0.0 & 0.0 & 0 \\\\\n",
       "\t14 & 0.0 & 14 & 0 & 0 & 0.977795 & 0.0238 & 0.0091 & 0 & -50.0 & -4.51531e-8 & 0.0 & 0 & 0 & 0 & 0 & 0.0 & 0.0 & 0.0 & 0 & 0.0 & 0.0 & 0 & -50.0 & -6.29076e-8 & -6.29076e-8 & 0.0 & 0.0 & 0 \\\\\n",
       "\t15 & 0.0 & 15 & 0 & 0 & 0.975027 & 0.0224 & 0.0083 & 0 & -50.0 & -4.51531e-8 & 0.0 & 0 & 0 & 0 & 0 & 0.0 & 0.0 & 0.0 & 0 & 0.0 & 0.0 & 0 & -50.0 & -6.29106e-8 & -6.29106e-8 & 0.0 & 0.0 & 0 \\\\\n",
       "\\end{tabular}\n"
      ],
      "text/plain": [
       "15×28 DataFrame. Omitted printing of 22 columns\n",
       "│ Row │ objective │ bus │ gp     │ gq         │ voltage  │ fp      │\n",
       "│     │ \u001b[90mFloat64\u001b[39m   │ \u001b[90mAny\u001b[39m │ \u001b[90mAny\u001b[39m    │ \u001b[90mAny\u001b[39m        │ \u001b[90mAny\u001b[39m      │ \u001b[90mAny\u001b[39m     │\n",
       "├─────┼───────────┼─────┼────────┼────────────┼──────────┼─────────┤\n",
       "│ 1   │ 56.2162   │ 1   │ 0.9938 │ 0.3437     │ 1.0      │ 0       │\n",
       "│ 2   │ 0.0       │ 2   │ 0      │ 0          │ 0.974671 │ 0.3481  │\n",
       "│ 3   │ 0.0       │ 3   │ 0      │ 0          │ 1.01174  │ -0.4455 │\n",
       "│ 4   │ 0.0       │ 4   │ 0      │ 0          │ 1.06725  │ -0.4455 │\n",
       "│ 5   │ 0.0       │ 5   │ 0      │ 0          │ 1.07069  │ -0.2096 │\n",
       "│ 6   │ 0.0       │ 6   │ 0      │ 0          │ 1.07423  │ -0.2269 │\n",
       "│ 7   │ 0.0       │ 7   │ 0.2779 │ 0.00550005 │ 1.08565  │ -0.256  │\n",
       "│ 8   │ 0.0       │ 8   │ 0      │ 0          │ 1.08635  │ -0.1969 │\n",
       "│ 9   │ 0.0       │ 9   │ 0      │ 0          │ 1.07696  │ -0.256  │\n",
       "│ 10  │ 0.0       │ 10  │ 0      │ 0          │ 1.07783  │ -0.0826 │\n",
       "│ 11  │ 0.0       │ 11  │ 0      │ 0          │ 1.08089  │ -0.1055 │\n",
       "│ 12  │ 0.0       │ 12  │ 0.1404 │ 0.0318     │ 1.08249  │ -0.1272 │\n",
       "│ 13  │ 0.0       │ 13  │ 0      │ 0          │ 0.982619 │ 0.6457  │\n",
       "│ 14  │ 0.0       │ 14  │ 0      │ 0          │ 0.977795 │ 0.0238  │\n",
       "│ 15  │ 0.0       │ 15  │ 0      │ 0          │ 0.975027 │ 0.0224  │"
      ]
     },
     "metadata": {},
     "output_type": "display_data"
    },
    {
     "name": "stdout",
     "output_type": "stream",
     "text": [
      ">>> Case no_uncert"
     ]
    },
    {
     "data": {
      "text/html": [
       "<table class=\"data-frame\"><thead><tr><th></th><th>objective</th><th>bus</th><th>gp</th><th>gq</th><th>voltage</th><th>fp</th><th>fq</th><th>alpha</th><th>lambda</th><th>pi</th><th>gamma</th><th>rho</th><th>nu</th><th>delta_plus</th><th>delta_minus</th><th>mu_plus</th><th>mu_minus</th><th>eta_plus</th><th>eta_minus</th><th>eta_aP</th><th>eta_aQ</th><th>voltvar</th><th>lambda_anc</th><th>rx_pi_i</th><th>rx_pi_a</th><th>rx_etaQ</th><th>r_sum_mu_d</th><th>nu_calc</th></tr><tr><th></th><th>Float64</th><th>Any</th><th>Any</th><th>Any</th><th>Any</th><th>Any</th><th>Any</th><th>Any</th><th>Any</th><th>Any</th><th>Float64</th><th>Any</th><th>Any</th><th>Any</th><th>Any</th><th>Any</th><th>Any</th><th>Any</th><th>Any</th><th>Any</th><th>Any</th><th>Any</th><th>Any</th><th>Any</th><th>Any</th><th>Any</th><th>Any</th><th>Any</th></tr></thead><tbody><p>15 rows × 28 columns</p><tr><th>1</th><td>54.0163</td><td>1</td><td>0.9938</td><td>0.3437</td><td>1.0</td><td>0</td><td>0</td><td>0</td><td>-50.0</td><td>-7.8438e-9</td><td>0.0</td><td>0</td><td>0</td><td>0</td><td>0</td><td>0</td><td>0</td><td>0</td><td>0</td><td>0</td><td>0</td><td>0</td><td>0</td><td>0</td><td>0</td><td>0</td><td>0</td><td>0</td></tr><tr><th>2</th><td>0.0</td><td>2</td><td>0</td><td>0</td><td>0.974671</td><td>0.3481</td><td>0.2055</td><td>0</td><td>-50.0</td><td>-1.73188e-6</td><td>0.0</td><td>0</td><td>0</td><td>0</td><td>0</td><td>-5.7194e-7</td><td>-1.20536e-6</td><td>-3.8469e-7</td><td>0</td><td>-2.91582e-7</td><td>-3.91877e-8</td><td>0</td><td>-50.0</td><td>-1.44323e-8</td><td>-6.5365e-11</td><td>-3.26564e-10</td><td>-1.48242e-8</td><td>0</td></tr><tr><th>3</th><td>0.0</td><td>3</td><td>0</td><td>0</td><td>1.01174</td><td>-0.4455</td><td>0.02</td><td>0</td><td>-50.0</td><td>-3.69108e-6</td><td>0.0</td><td>0</td><td>0</td><td>0</td><td>0</td><td>-7.58867e-7</td><td>-8.58946e-7</td><td>-1.30124e-7</td><td>0</td><td>1.30124e-7</td><td>-7.14832e-8</td><td>0</td><td>-50.0</td><td>-2.58259e-6</td><td>-1.21176e-6</td><td>-5.00156e-8</td><td>-1.42084e-6</td><td>0</td></tr><tr><th>4</th><td>0.0</td><td>4</td><td>0</td><td>0</td><td>1.06725</td><td>-0.4455</td><td>0.02</td><td>0</td><td>-50.0</td><td>-6.97388e-6</td><td>0.0</td><td>0</td><td>0</td><td>0</td><td>0</td><td>-1.48383e-6</td><td>-5.8964e-7</td><td>-2.48803e-7</td><td>0</td><td>1.57253e-7</td><td>6.03951e-8</td><td>0</td><td>-50.0</td><td>-4.8796e-6</td><td>-2.58264e-6</td><td>4.22583e-8</td><td>-2.2547e-6</td><td>0</td></tr><tr><th>5</th><td>0.0</td><td>5</td><td>0</td><td>0</td><td>1.07069</td><td>-0.2096</td><td>0.0116</td><td>0</td><td>-50.0</td><td>-6.64359e-6</td><td>0.0</td><td>0</td><td>0</td><td>0</td><td>0</td><td>-1.5548e-6</td><td>-5.77998e-7</td><td>-1.32986e-6</td><td>0</td><td>-5.80011e-7</td><td>-4.82585e-7</td><td>0</td><td>-50.0</td><td>-4.64808e-6</td><td>-4.87916e-6</td><td>-3.37633e-7</td><td>-1.06548e-7</td><td>0</td></tr><tr><th>6</th><td>0.0</td><td>6</td><td>0</td><td>0</td><td>1.07423</td><td>-0.2269</td><td>0.00729998</td><td>0</td><td>-50.0</td><td>-6.73457e-6</td><td>0.0</td><td>0</td><td>0</td><td>0</td><td>0</td><td>-1.63355e-6</td><td>-5.6605e-7</td><td>0.0</td><td>0</td><td>0.0</td><td>0.0</td><td>0</td><td>-50.0</td><td>-4.69542e-6</td><td>-4.63198e-6</td><td>0.0</td><td>-6.34344e-8</td><td>0</td></tr><tr><th>7</th><td>0.0</td><td>7</td><td>0.2779</td><td>0.00550002</td><td>1.08565</td><td>-0.256</td><td>-2.04199e-8</td><td>0</td><td>-10.4108</td><td>-4.23122e-7</td><td>0.0</td><td>0</td><td>0</td><td>0.0</td><td>-4.85601e-7</td><td>-1.27344e-6</td><td>-5.28535e-7</td><td>-39.5892</td><td>0</td><td>39.5892</td><td>-6.4141e-6</td><td>0</td><td>-50.0</td><td>-2.96001e-7</td><td>-4.71127e-6</td><td>-4.48707e-6</td><td>-7.18092e-8</td><td>0</td></tr><tr><th>8</th><td>0.0</td><td>8</td><td>0</td><td>0</td><td>1.08635</td><td>-0.1969</td><td>0.0019</td><td>0</td><td>-10.2078</td><td>-7.84803e-7</td><td>0.0</td><td>0</td><td>0</td><td>0</td><td>0</td><td>-1.48963e-6</td><td>0.0</td><td>0.0</td><td>0</td><td>0.0</td><td>0.0</td><td>0</td><td>-10.2078</td><td>-5.49467e-7</td><td>-3.93652e-7</td><td>0.0</td><td>-1.55815e-7</td><td>0</td></tr><tr><th>9</th><td>0.0</td><td>9</td><td>0</td><td>0</td><td>1.07696</td><td>-0.256</td><td>-1.6e-8</td><td>0</td><td>-10.2078</td><td>-5.62252e-7</td><td>0.0</td><td>0</td><td>0</td><td>0</td><td>0</td><td>0.0</td><td>-5.50571e-7</td><td>-39.7922</td><td>0</td><td>39.7922</td><td>-6.93103e-6</td><td>0</td><td>-50.0</td><td>-3.9319e-7</td><td>-4.87692e-6</td><td>-4.84696e-6</td><td>-3.63223e-7</td><td>0</td></tr><tr><th>10</th><td>0.0</td><td>10</td><td>0</td><td>0</td><td>1.07783</td><td>-0.0826</td><td>-0.00780002</td><td>0</td><td>-10.2078</td><td>-3.35123e-7</td><td>0.0</td><td>0</td><td>0</td><td>0</td><td>0</td><td>-1.7309e-6</td><td>-5.48183e-7</td><td>-9.98137e-7</td><td>0</td><td>-5.36849e-7</td><td>-9.98137e-7</td><td>0</td><td>-10.2078</td><td>-2.34352e-7</td><td>-3.93184e-7</td><td>-6.97998e-7</td><td>-7.04628e-8</td><td>0</td></tr><tr><th>11</th><td>0.0</td><td>11</td><td>0</td><td>0</td><td>1.08089</td><td>-0.1055</td><td>-0.022</td><td>0</td><td>-10.2078</td><td>-1.73634e-7</td><td>0.0</td><td>0</td><td>0</td><td>0</td><td>0</td><td>-1.73349e-6</td><td>-5.38436e-7</td><td>0.0</td><td>0</td><td>0.0</td><td>0.0</td><td>0</td><td>-10.2078</td><td>-1.21292e-7</td><td>-2.341e-7</td><td>0.0</td><td>-1.12808e-7</td><td>0</td></tr><tr><th>12</th><td>0.0</td><td>12</td><td>0.1404</td><td>0.0318</td><td>1.08249</td><td>-0.1272</td><td>-0.0285</td><td>0</td><td>-10.2078</td><td>-3.95584e-7</td><td>0.0</td><td>0</td><td>0</td><td>0.0</td><td>-1.14074e-6</td><td>-1.67852e-6</td><td>-5.3315e-7</td><td>-5.35315e-7</td><td>0</td><td>-1.43411e-7</td><td>5.35315e-7</td><td>0</td><td>-10.2078</td><td>-2.75305e-7</td><td>-1.2084e-7</td><td>3.7255e-7</td><td>-2.35946e-8</td><td>0</td></tr><tr><th>13</th><td>0.0</td><td>13</td><td>0</td><td>0</td><td>0.982619</td><td>0.6457</td><td>0.1382</td><td>0</td><td>-50.0</td><td>-7.8438e-9</td><td>0.0</td><td>0</td><td>0</td><td>0</td><td>0</td><td>0.0</td><td>0.0</td><td>0.0</td><td>0</td><td>0.0</td><td>0.0</td><td>0</td><td>-50.0</td><td>-6.5365e-11</td><td>-6.5365e-11</td><td>0.0</td><td>0.0</td><td>0</td></tr><tr><th>14</th><td>0.0</td><td>14</td><td>0</td><td>0</td><td>0.977795</td><td>0.0238</td><td>0.0091</td><td>0</td><td>-50.0</td><td>-7.8438e-9</td><td>0.0</td><td>0</td><td>0</td><td>0</td><td>0</td><td>0.0</td><td>0.0</td><td>0.0</td><td>0</td><td>0.0</td><td>0.0</td><td>0</td><td>-50.0</td><td>-1.0928e-8</td><td>-1.0928e-8</td><td>0.0</td><td>0.0</td><td>0</td></tr><tr><th>15</th><td>0.0</td><td>15</td><td>0</td><td>0</td><td>0.975027</td><td>0.0224</td><td>0.0083</td><td>0</td><td>-50.0</td><td>-7.8438e-9</td><td>0.0</td><td>0</td><td>0</td><td>0</td><td>0</td><td>0.0</td><td>0.0</td><td>0.0</td><td>0</td><td>0.0</td><td>0.0</td><td>0</td><td>-50.0</td><td>-1.09286e-8</td><td>-1.09286e-8</td><td>0.0</td><td>0.0</td><td>0</td></tr></tbody></table>"
      ],
      "text/latex": [
       "\\begin{tabular}{r|cccccccccccccccccccccccccccc}\n",
       "\t& objective & bus & gp & gq & voltage & fp & fq & alpha & lambda & pi & gamma & rho & nu & delta\\_plus & delta\\_minus & mu\\_plus & mu\\_minus & eta\\_plus & eta\\_minus & eta\\_aP & eta\\_aQ & voltvar & lambda\\_anc & rx\\_pi\\_i & rx\\_pi\\_a & rx\\_etaQ & r\\_sum\\_mu\\_d & nu\\_calc\\\\\n",
       "\t\\hline\n",
       "\t& Float64 & Any & Any & Any & Any & Any & Any & Any & Any & Any & Float64 & Any & Any & Any & Any & Any & Any & Any & Any & Any & Any & Any & Any & Any & Any & Any & Any & Any\\\\\n",
       "\t\\hline\n",
       "\t1 & 54.0163 & 1 & 0.9938 & 0.3437 & 1.0 & 0 & 0 & 0 & -50.0 & -7.8438e-9 & 0.0 & 0 & 0 & 0 & 0 & 0 & 0 & 0 & 0 & 0 & 0 & 0 & 0 & 0 & 0 & 0 & 0 & 0 \\\\\n",
       "\t2 & 0.0 & 2 & 0 & 0 & 0.974671 & 0.3481 & 0.2055 & 0 & -50.0 & -1.73188e-6 & 0.0 & 0 & 0 & 0 & 0 & -5.7194e-7 & -1.20536e-6 & -3.8469e-7 & 0 & -2.91582e-7 & -3.91877e-8 & 0 & -50.0 & -1.44323e-8 & -6.5365e-11 & -3.26564e-10 & -1.48242e-8 & 0 \\\\\n",
       "\t3 & 0.0 & 3 & 0 & 0 & 1.01174 & -0.4455 & 0.02 & 0 & -50.0 & -3.69108e-6 & 0.0 & 0 & 0 & 0 & 0 & -7.58867e-7 & -8.58946e-7 & -1.30124e-7 & 0 & 1.30124e-7 & -7.14832e-8 & 0 & -50.0 & -2.58259e-6 & -1.21176e-6 & -5.00156e-8 & -1.42084e-6 & 0 \\\\\n",
       "\t4 & 0.0 & 4 & 0 & 0 & 1.06725 & -0.4455 & 0.02 & 0 & -50.0 & -6.97388e-6 & 0.0 & 0 & 0 & 0 & 0 & -1.48383e-6 & -5.8964e-7 & -2.48803e-7 & 0 & 1.57253e-7 & 6.03951e-8 & 0 & -50.0 & -4.8796e-6 & -2.58264e-6 & 4.22583e-8 & -2.2547e-6 & 0 \\\\\n",
       "\t5 & 0.0 & 5 & 0 & 0 & 1.07069 & -0.2096 & 0.0116 & 0 & -50.0 & -6.64359e-6 & 0.0 & 0 & 0 & 0 & 0 & -1.5548e-6 & -5.77998e-7 & -1.32986e-6 & 0 & -5.80011e-7 & -4.82585e-7 & 0 & -50.0 & -4.64808e-6 & -4.87916e-6 & -3.37633e-7 & -1.06548e-7 & 0 \\\\\n",
       "\t6 & 0.0 & 6 & 0 & 0 & 1.07423 & -0.2269 & 0.00729998 & 0 & -50.0 & -6.73457e-6 & 0.0 & 0 & 0 & 0 & 0 & -1.63355e-6 & -5.6605e-7 & 0.0 & 0 & 0.0 & 0.0 & 0 & -50.0 & -4.69542e-6 & -4.63198e-6 & 0.0 & -6.34344e-8 & 0 \\\\\n",
       "\t7 & 0.0 & 7 & 0.2779 & 0.00550002 & 1.08565 & -0.256 & -2.04199e-8 & 0 & -10.4108 & -4.23122e-7 & 0.0 & 0 & 0 & 0.0 & -4.85601e-7 & -1.27344e-6 & -5.28535e-7 & -39.5892 & 0 & 39.5892 & -6.4141e-6 & 0 & -50.0 & -2.96001e-7 & -4.71127e-6 & -4.48707e-6 & -7.18092e-8 & 0 \\\\\n",
       "\t8 & 0.0 & 8 & 0 & 0 & 1.08635 & -0.1969 & 0.0019 & 0 & -10.2078 & -7.84803e-7 & 0.0 & 0 & 0 & 0 & 0 & -1.48963e-6 & 0.0 & 0.0 & 0 & 0.0 & 0.0 & 0 & -10.2078 & -5.49467e-7 & -3.93652e-7 & 0.0 & -1.55815e-7 & 0 \\\\\n",
       "\t9 & 0.0 & 9 & 0 & 0 & 1.07696 & -0.256 & -1.6e-8 & 0 & -10.2078 & -5.62252e-7 & 0.0 & 0 & 0 & 0 & 0 & 0.0 & -5.50571e-7 & -39.7922 & 0 & 39.7922 & -6.93103e-6 & 0 & -50.0 & -3.9319e-7 & -4.87692e-6 & -4.84696e-6 & -3.63223e-7 & 0 \\\\\n",
       "\t10 & 0.0 & 10 & 0 & 0 & 1.07783 & -0.0826 & -0.00780002 & 0 & -10.2078 & -3.35123e-7 & 0.0 & 0 & 0 & 0 & 0 & -1.7309e-6 & -5.48183e-7 & -9.98137e-7 & 0 & -5.36849e-7 & -9.98137e-7 & 0 & -10.2078 & -2.34352e-7 & -3.93184e-7 & -6.97998e-7 & -7.04628e-8 & 0 \\\\\n",
       "\t11 & 0.0 & 11 & 0 & 0 & 1.08089 & -0.1055 & -0.022 & 0 & -10.2078 & -1.73634e-7 & 0.0 & 0 & 0 & 0 & 0 & -1.73349e-6 & -5.38436e-7 & 0.0 & 0 & 0.0 & 0.0 & 0 & -10.2078 & -1.21292e-7 & -2.341e-7 & 0.0 & -1.12808e-7 & 0 \\\\\n",
       "\t12 & 0.0 & 12 & 0.1404 & 0.0318 & 1.08249 & -0.1272 & -0.0285 & 0 & -10.2078 & -3.95584e-7 & 0.0 & 0 & 0 & 0.0 & -1.14074e-6 & -1.67852e-6 & -5.3315e-7 & -5.35315e-7 & 0 & -1.43411e-7 & 5.35315e-7 & 0 & -10.2078 & -2.75305e-7 & -1.2084e-7 & 3.7255e-7 & -2.35946e-8 & 0 \\\\\n",
       "\t13 & 0.0 & 13 & 0 & 0 & 0.982619 & 0.6457 & 0.1382 & 0 & -50.0 & -7.8438e-9 & 0.0 & 0 & 0 & 0 & 0 & 0.0 & 0.0 & 0.0 & 0 & 0.0 & 0.0 & 0 & -50.0 & -6.5365e-11 & -6.5365e-11 & 0.0 & 0.0 & 0 \\\\\n",
       "\t14 & 0.0 & 14 & 0 & 0 & 0.977795 & 0.0238 & 0.0091 & 0 & -50.0 & -7.8438e-9 & 0.0 & 0 & 0 & 0 & 0 & 0.0 & 0.0 & 0.0 & 0 & 0.0 & 0.0 & 0 & -50.0 & -1.0928e-8 & -1.0928e-8 & 0.0 & 0.0 & 0 \\\\\n",
       "\t15 & 0.0 & 15 & 0 & 0 & 0.975027 & 0.0224 & 0.0083 & 0 & -50.0 & -7.8438e-9 & 0.0 & 0 & 0 & 0 & 0 & 0.0 & 0.0 & 0.0 & 0 & 0.0 & 0.0 & 0 & -50.0 & -1.09286e-8 & -1.09286e-8 & 0.0 & 0.0 & 0 \\\\\n",
       "\\end{tabular}\n"
      ],
      "text/plain": [
       "15×28 DataFrame. Omitted printing of 22 columns\n",
       "│ Row │ objective │ bus │ gp     │ gq         │ voltage  │ fp      │\n",
       "│     │ \u001b[90mFloat64\u001b[39m   │ \u001b[90mAny\u001b[39m │ \u001b[90mAny\u001b[39m    │ \u001b[90mAny\u001b[39m        │ \u001b[90mAny\u001b[39m      │ \u001b[90mAny\u001b[39m     │\n",
       "├─────┼───────────┼─────┼────────┼────────────┼──────────┼─────────┤\n",
       "│ 1   │ 54.0163   │ 1   │ 0.9938 │ 0.3437     │ 1.0      │ 0       │\n",
       "│ 2   │ 0.0       │ 2   │ 0      │ 0          │ 0.974671 │ 0.3481  │\n",
       "│ 3   │ 0.0       │ 3   │ 0      │ 0          │ 1.01174  │ -0.4455 │\n",
       "│ 4   │ 0.0       │ 4   │ 0      │ 0          │ 1.06725  │ -0.4455 │\n",
       "│ 5   │ 0.0       │ 5   │ 0      │ 0          │ 1.07069  │ -0.2096 │\n",
       "│ 6   │ 0.0       │ 6   │ 0      │ 0          │ 1.07423  │ -0.2269 │\n",
       "│ 7   │ 0.0       │ 7   │ 0.2779 │ 0.00550002 │ 1.08565  │ -0.256  │\n",
       "│ 8   │ 0.0       │ 8   │ 0      │ 0          │ 1.08635  │ -0.1969 │\n",
       "│ 9   │ 0.0       │ 9   │ 0      │ 0          │ 1.07696  │ -0.256  │\n",
       "│ 10  │ 0.0       │ 10  │ 0      │ 0          │ 1.07783  │ -0.0826 │\n",
       "│ 11  │ 0.0       │ 11  │ 0      │ 0          │ 1.08089  │ -0.1055 │\n",
       "│ 12  │ 0.0       │ 12  │ 0.1404 │ 0.0318     │ 1.08249  │ -0.1272 │\n",
       "│ 13  │ 0.0       │ 13  │ 0      │ 0          │ 0.982619 │ 0.6457  │\n",
       "│ 14  │ 0.0       │ 14  │ 0      │ 0          │ 0.977795 │ 0.0238  │\n",
       "│ 15  │ 0.0       │ 15  │ 0      │ 0          │ 0.975027 │ 0.0224  │"
      ]
     },
     "metadata": {},
     "output_type": "display_data"
    }
   ],
   "source": [
    "experiment5 = Dict()\n",
    "\n",
    "# Load feeder data \n",
    "feeder = load_feeder(\"data/feeder_data/basecase_noneg/\")\n",
    "\n",
    "# Set up\n",
    "relative_std = 0.2\n",
    "loads = [b.d_P for b in feeder.buses]\n",
    "std_vec = abs.(loads) .* relative_std\n",
    "var_vec = std_vec.^2\n",
    "Σ = diagm(0 => var_vec)\n",
    "\n",
    "# ex5_general_settings\n",
    "ex5_general_settings = Dict(\n",
    "    \"var_vec\" => var_vec,\n",
    "    \"Σ\" => Σ,\n",
    "    \"z_g\" => 1.945, # 95%\n",
    "    \"z_v\" => 2.576, # 99%\n",
    "    \"z_f\" => 2.576, # 99%\n",
    "    \"toggle_volt_cc\" => false,\n",
    "    \"toggle_gen_cc\" => false,\n",
    "    \"toggle_thermal_cc\" => false,\n",
    "    \"thermal_const_method\" => 2, #1=soc, 2=inner approx\n",
    "    \"vfac\" => 0, # directly sets symetric voltage limit to min:(1-vfac) max:(1+vfac), use import values if vfac=0\n",
    "    \"qcfac\" => 1,\n",
    "    \"output_level\" => 0,\n",
    "    \"Ψ\" => 0,\n",
    ")\n",
    "\n",
    "# ex5_no_uncert:\n",
    "ex5_no_uncert_settings = copy(ex5_general_settings)\n",
    "ex5_no_uncert_settings[\"toggle_volt_cc\"] = false\n",
    "ex5_no_uncert_settings[\"toggle_gen_cc\"] = false\n",
    "ex5_no_uncert_settings[\"toggle_thermal_cc\"] = false\n",
    "\n",
    "experiment5[\"no_uncert\"] = Dict(\n",
    "    \"verbose\" => \"no_uncert\",\n",
    "    \"feeder\" => feeder,\n",
    "    \"settings\" => ex5_no_uncert_settings,\n",
    ")\n",
    "\n",
    "# ex5_uncert:\n",
    "ex5_uncert_settings = copy(ex5_general_settings)\n",
    "ex5_uncert_settings[\"toggle_volt_cc\"] = true\n",
    "ex5_uncert_settings[\"toggle_gen_cc\"] = true\n",
    "ex5_uncert_settings[\"toggle_thermal_cc\"] = false\n",
    "experiment5[\"uncert\"] = Dict(\n",
    "    \"verbose\" => \"uncert\",\n",
    "    \"feeder\" => feeder,\n",
    "    \"settings\" => ex5_uncert_settings,\n",
    ")\n",
    "\n",
    "# ex5_gen_uncert:\n",
    "ex5_gen_uncert_settings = copy(ex5_general_settings)\n",
    "ex5_gen_uncert_settings[\"toggle_volt_cc\"] = false\n",
    "ex5_gen_uncert_settings[\"toggle_gen_cc\"] = true\n",
    "ex5_gen_uncert_settings[\"toggle_thermal_cc\"] = false\n",
    "experiment5[\"gen_uncert\"] = Dict(\n",
    "    \"verbose\" => \"gen_uncert\",\n",
    "    \"feeder\" => feeder,\n",
    "    \"settings\" => ex5_gen_uncert_settings,\n",
    ")\n",
    "\n",
    "# Run \n",
    "experiment5 = run_experiment(experiment5)\n",
    "\n",
    "# Show results\n",
    "sleep(.2) # just to ensure correct printing order\n",
    "for case in keys(experiment5)\n",
    "    print(\">>> Case $case\")\n",
    "    sleep(.2)\n",
    "    display(experiment5[case][\"results\"])\n",
    "end"
   ]
  },
  {
   "cell_type": "code",
   "execution_count": 98,
   "metadata": {},
   "outputs": [
    {
     "name": "stdout",
     "output_type": "stream",
     "text": [
      "Saving uncert\n",
      "Saving gen_uncert\n",
      "Saving no_uncert\n",
      ">>>> Saved with timestamp 190417_1754\n"
     ]
    }
   ],
   "source": [
    "save_experiment(\"experiment5\", experiment5)"
   ]
  },
  {
   "cell_type": "code",
   "execution_count": 85,
   "metadata": {},
   "outputs": [
    {
     "name": "stdout",
     "output_type": "stream",
     "text": [
      "MOSEK warning 705: #3 (nearly) zero elements are specified in sparse row ''(86) of matrix 'A'.\n",
      "MOSEK warning 705: #4 (nearly) zero elements are specified in sparse row ''(92) of matrix 'A'.\n"
     ]
    }
   ],
   "source": [
    "m, meta = build_model(experiment5[\"uncert\"][\"feeder\"], experiment5[\"uncert\"][\"settings\"])\n",
    "\n",
    "optimize!(m)\n",
    "\n"
   ]
  },
  {
   "cell_type": "code",
   "execution_count": 86,
   "metadata": {},
   "outputs": [
    {
     "data": {
      "text/html": [
       "<table class=\"data-frame\"><thead><tr><th></th><th>x1</th><th>x2</th><th>x3</th><th>x4</th><th>x5</th><th>x6</th><th>x7</th><th>x8</th><th>x9</th><th>x10</th><th>x11</th><th>x12</th></tr><tr><th></th><th>Float64</th><th>Float64</th><th>Float64</th><th>Float64</th><th>Float64</th><th>Float64</th><th>Float64</th><th>Float64</th><th>Float64</th><th>Float64</th><th>Float64</th><th>Float64</th></tr></thead><tbody><p>14 rows × 12 columns</p><tr><th>1</th><td>0.0</td><td>0.0</td><td>0.0</td><td>0.0</td><td>0.0</td><td>0.0</td><td>0.0</td><td>0.0</td><td>0.0</td><td>0.0</td><td>0.0</td><td>0.0</td></tr><tr><th>2</th><td>0.0</td><td>0.0</td><td>0.0</td><td>0.0</td><td>-5.34584e-6</td><td>-88.8998</td><td>0.0</td><td>0.0</td><td>0.0</td><td>0.0</td><td>0.0</td><td>0.0</td></tr><tr><th>3</th><td>-5.70321e-7</td><td>-5.11257e-7</td><td>-1.05524e-6</td><td>-2.07813e-6</td><td>0.0</td><td>0.0</td><td>-9.66892e-6</td><td>-1.72729e-6</td><td>-1.13843e-6</td><td>-7.38873e-7</td><td>-4.20074e-7</td><td>-5.36091e-7</td></tr><tr><th>4</th><td>-8.7951e-7</td><td>-6.36641e-7</td><td>-9.02052e-7</td><td>0.0</td><td>0.0</td><td>0.0</td><td>0.0</td><td>0.0</td><td>0.0</td><td>-1.25222e-6</td><td>-7.97531e-7</td><td>-9.5317e-7</td></tr><tr><th>5</th><td>0.0</td><td>0.0</td><td>0.0</td><td>0.0</td><td>0.0</td><td>0.0</td><td>0.0</td><td>0.0</td><td>0.0</td><td>0.0</td><td>0.0</td><td>0.0</td></tr><tr><th>6</th><td>0.0</td><td>0.0</td><td>0.0</td><td>-9.7785e-7</td><td>-8.85999e-7</td><td>-1.52649e-6</td><td>-1.82189e-6</td><td>-1.35854e-6</td><td>-1.58491e-6</td><td>0.0</td><td>0.0</td><td>0.0</td></tr><tr><th>7</th><td>0.0</td><td>0.0</td><td>0.0</td><td>0.0</td><td>0.0</td><td>0.0</td><td>0.0</td><td>0.0</td><td>0.0</td><td>0.0</td><td>0.0</td><td>0.0</td></tr><tr><th>8</th><td>0.0</td><td>0.0</td><td>0.0</td><td>-2.64359e-6</td><td>-7.47863e-6</td><td>-2.75343e-5</td><td>-4.70109e-6</td><td>-1.28228e-6</td><td>-9.77472e-7</td><td>0.0</td><td>0.0</td><td>0.0</td></tr><tr><th>9</th><td>-9.75553e-7</td><td>-8.87615e-7</td><td>-1.50995e-6</td><td>0.0</td><td>0.0</td><td>0.0</td><td>0.0</td><td>0.0</td><td>0.0</td><td>0.0</td><td>-5.77673e-7</td><td>-8.38562e-7</td></tr><tr><th>10</th><td>0.0</td><td>0.0</td><td>0.0</td><td>0.0</td><td>0.0</td><td>0.0</td><td>0.0</td><td>0.0</td><td>0.0</td><td>0.0</td><td>0.0</td><td>0.0</td></tr><tr><th>11</th><td>0.0</td><td>0.0</td><td>0.0</td><td>0.0</td><td>0.0</td><td>0.0</td><td>0.0</td><td>0.0</td><td>0.0</td><td>-8.17564e-7</td><td>0.0</td><td>0.0</td></tr><tr><th>12</th><td>0.0</td><td>0.0</td><td>0.0</td><td>0.0</td><td>0.0</td><td>0.0</td><td>0.0</td><td>0.0</td><td>0.0</td><td>0.0</td><td>0.0</td><td>0.0</td></tr><tr><th>13</th><td>0.0</td><td>0.0</td><td>0.0</td><td>0.0</td><td>0.0</td><td>0.0</td><td>0.0</td><td>0.0</td><td>0.0</td><td>0.0</td><td>0.0</td><td>0.0</td></tr><tr><th>14</th><td>0.0</td><td>0.0</td><td>0.0</td><td>0.0</td><td>0.0</td><td>0.0</td><td>0.0</td><td>0.0</td><td>0.0</td><td>0.0</td><td>0.0</td><td>0.0</td></tr></tbody></table>"
      ],
      "text/latex": [
       "\\begin{tabular}{r|cccccccccccc}\n",
       "\t& x1 & x2 & x3 & x4 & x5 & x6 & x7 & x8 & x9 & x10 & x11 & x12\\\\\n",
       "\t\\hline\n",
       "\t& Float64 & Float64 & Float64 & Float64 & Float64 & Float64 & Float64 & Float64 & Float64 & Float64 & Float64 & Float64\\\\\n",
       "\t\\hline\n",
       "\t1 & 0.0 & 0.0 & 0.0 & 0.0 & 0.0 & 0.0 & 0.0 & 0.0 & 0.0 & 0.0 & 0.0 & 0.0 \\\\\n",
       "\t2 & 0.0 & 0.0 & 0.0 & 0.0 & -5.34584e-6 & -88.8998 & 0.0 & 0.0 & 0.0 & 0.0 & 0.0 & 0.0 \\\\\n",
       "\t3 & -5.70321e-7 & -5.11257e-7 & -1.05524e-6 & -2.07813e-6 & 0.0 & 0.0 & -9.66892e-6 & -1.72729e-6 & -1.13843e-6 & -7.38873e-7 & -4.20074e-7 & -5.36091e-7 \\\\\n",
       "\t4 & -8.7951e-7 & -6.36641e-7 & -9.02052e-7 & 0.0 & 0.0 & 0.0 & 0.0 & 0.0 & 0.0 & -1.25222e-6 & -7.97531e-7 & -9.5317e-7 \\\\\n",
       "\t5 & 0.0 & 0.0 & 0.0 & 0.0 & 0.0 & 0.0 & 0.0 & 0.0 & 0.0 & 0.0 & 0.0 & 0.0 \\\\\n",
       "\t6 & 0.0 & 0.0 & 0.0 & -9.7785e-7 & -8.85999e-7 & -1.52649e-6 & -1.82189e-6 & -1.35854e-6 & -1.58491e-6 & 0.0 & 0.0 & 0.0 \\\\\n",
       "\t7 & 0.0 & 0.0 & 0.0 & 0.0 & 0.0 & 0.0 & 0.0 & 0.0 & 0.0 & 0.0 & 0.0 & 0.0 \\\\\n",
       "\t8 & 0.0 & 0.0 & 0.0 & -2.64359e-6 & -7.47863e-6 & -2.75343e-5 & -4.70109e-6 & -1.28228e-6 & -9.77472e-7 & 0.0 & 0.0 & 0.0 \\\\\n",
       "\t9 & -9.75553e-7 & -8.87615e-7 & -1.50995e-6 & 0.0 & 0.0 & 0.0 & 0.0 & 0.0 & 0.0 & 0.0 & -5.77673e-7 & -8.38562e-7 \\\\\n",
       "\t10 & 0.0 & 0.0 & 0.0 & 0.0 & 0.0 & 0.0 & 0.0 & 0.0 & 0.0 & 0.0 & 0.0 & 0.0 \\\\\n",
       "\t11 & 0.0 & 0.0 & 0.0 & 0.0 & 0.0 & 0.0 & 0.0 & 0.0 & 0.0 & -8.17564e-7 & 0.0 & 0.0 \\\\\n",
       "\t12 & 0.0 & 0.0 & 0.0 & 0.0 & 0.0 & 0.0 & 0.0 & 0.0 & 0.0 & 0.0 & 0.0 & 0.0 \\\\\n",
       "\t13 & 0.0 & 0.0 & 0.0 & 0.0 & 0.0 & 0.0 & 0.0 & 0.0 & 0.0 & 0.0 & 0.0 & 0.0 \\\\\n",
       "\t14 & 0.0 & 0.0 & 0.0 & 0.0 & 0.0 & 0.0 & 0.0 & 0.0 & 0.0 & 0.0 & 0.0 & 0.0 \\\\\n",
       "\\end{tabular}\n"
      ],
      "text/plain": [
       "14×12 DataFrame. Omitted printing of 7 columns\n",
       "│ Row │ x1          │ x2          │ x3          │ x4          │ x5          │\n",
       "│     │ \u001b[90mFloat64\u001b[39m     │ \u001b[90mFloat64\u001b[39m     │ \u001b[90mFloat64\u001b[39m     │ \u001b[90mFloat64\u001b[39m     │ \u001b[90mFloat64\u001b[39m     │\n",
       "├─────┼─────────────┼─────────────┼─────────────┼─────────────┼─────────────┤\n",
       "│ 1   │ 0.0         │ 0.0         │ 0.0         │ 0.0         │ 0.0         │\n",
       "│ 2   │ 0.0         │ 0.0         │ 0.0         │ 0.0         │ -5.34584e-6 │\n",
       "│ 3   │ -5.70321e-7 │ -5.11257e-7 │ -1.05524e-6 │ -2.07813e-6 │ 0.0         │\n",
       "│ 4   │ -8.7951e-7  │ -6.36641e-7 │ -9.02052e-7 │ 0.0         │ 0.0         │\n",
       "│ 5   │ 0.0         │ 0.0         │ 0.0         │ 0.0         │ 0.0         │\n",
       "│ 6   │ 0.0         │ 0.0         │ 0.0         │ -9.7785e-7  │ -8.85999e-7 │\n",
       "│ 7   │ 0.0         │ 0.0         │ 0.0         │ 0.0         │ 0.0         │\n",
       "│ 8   │ 0.0         │ 0.0         │ 0.0         │ -2.64359e-6 │ -7.47863e-6 │\n",
       "│ 9   │ -9.75553e-7 │ -8.87615e-7 │ -1.50995e-6 │ 0.0         │ 0.0         │\n",
       "│ 10  │ 0.0         │ 0.0         │ 0.0         │ 0.0         │ 0.0         │\n",
       "│ 11  │ 0.0         │ 0.0         │ 0.0         │ 0.0         │ 0.0         │\n",
       "│ 12  │ 0.0         │ 0.0         │ 0.0         │ 0.0         │ 0.0         │\n",
       "│ 13  │ 0.0         │ 0.0         │ 0.0         │ 0.0         │ 0.0         │\n",
       "│ 14  │ 0.0         │ 0.0         │ 0.0         │ 0.0         │ 0.0         │"
      ]
     },
     "execution_count": 86,
     "metadata": {},
     "output_type": "execute_result"
    }
   ],
   "source": [
    "A = zeros(14, 12)\n",
    "for b in 2:15\n",
    "    for c in 1:12\n",
    "        A[b-1, c] = shadow_price(m[:η][b,c])\n",
    "    end\n",
    "end\n",
    "\n",
    "DataFrame(A)"
   ]
  },
  {
   "cell_type": "markdown",
   "metadata": {},
   "source": [
    "## Experiment 1\n",
    "\n",
    "We analyse the influence of the uncertainty in the system using the \"standard\" setup\n",
    "\n",
    "### Description\n",
    "\n",
    "Ex1:\n",
    "- tag: `experiment1`\n",
    "- tight bascase voltage (0.95-1.05) \n",
    "- all nodes have 20% standard deviation of their forecasted load\n",
    "\n",
    "Runs:\n",
    "- `ex1_no_uncert`: deterministic case\n",
    "- `ex1_uncert`: case with uncertainty\n",
    "- `ex1_gen_uncert`: Chance constraints only in generation\n",
    "\n",
    "\n",
    "### Notes and Observations\n",
    "\n",
    "- Recursive decomposition of prices for active power (eqtns (20) and (21)) are verified by the experimet\n",
    "- Decompositon via voltage constraints (eqtns (23) and (24)) also verified by the experiment"
   ]
  },
  {
   "cell_type": "code",
   "execution_count": 36,
   "metadata": {
    "hideCode": false,
    "hidePrompt": false
   },
   "outputs": [
    {
     "name": "stdout",
     "output_type": "stream",
     "text": [
      ">>>>> Reading feeder data from data/feeder_data/basecase_lv_noneg/\n",
      "Running ex1_uncert\n",
      ">>>> Building Model\n"
     ]
    },
    {
     "ename": "KeyError",
     "evalue": "KeyError: key \"toggle_thermal\" not found",
     "output_type": "error",
     "traceback": [
      "KeyError: key \"toggle_thermal\" not found",
      "",
      "Stacktrace:",
      " [1] getindex at .\\dict.jl:478 [inlined]",
      " [2] build_model(::FeederTopo, ::Dict{String,Any}) at C:\\Users\\Robert\\Promotion\\Workshop\\02_cc_dlmp_varaware\\01_case_study_cc_dlmp\\src\\model_definition.jl:35",
      " [3] run_experiment(::Dict{Any,Any}) at C:\\Users\\Robert\\Promotion\\Workshop\\02_cc_dlmp_varaware\\01_case_study_cc_dlmp\\src\\tools.jl:20",
      " [4] top-level scope at In[36]:58"
     ]
    }
   ],
   "source": [
    "experiment1 = Dict()\n",
    "\n",
    "# Load feeder data \n",
    "feeder = load_feeder(\"data/feeder_data/basecase_lv_noneg/\")\n",
    "\n",
    "# Set up\n",
    "relative_std = 0.2\n",
    "loads = [b.d_P for b in feeder.buses]\n",
    "std_vec = loads .* relative_std\n",
    "var_vec = std_vec.^2\n",
    "Σ = diagm(0 => var_vec)\n",
    "\n",
    "# ex1_general_settings\n",
    "ex1_general_settings = Dict(\n",
    "    \"var_vec\" => var_vec,\n",
    "    \"Σ\" => Σ,\n",
    "    \"z_g\" => 1.945,\n",
    "    \"z_v\" => 2.576,\n",
    "    \"toggle_volt_cc\" => false,\n",
    "    \"toggle_gen_cc\" => false,\n",
    "    \"vfac\" => 0, # directly sets symetric voltage limit to min:(1-vfac) max:(1+vfac), use import values if vfac=0\n",
    "    \"qcfac\" => 1,\n",
    "    \"output_level\" => 0,\n",
    "    \"Ψ\" => 0,\n",
    ")\n",
    "\n",
    "\n",
    "# ex1_no_uncert:\n",
    "ex1_no_uncert_settings = copy(ex1_general_settings)\n",
    "ex1_no_uncert_settings[\"toggle_volt_cc\"] = false\n",
    "ex1_no_uncert_settings[\"toggle_gen_cc\"] = false\n",
    "\n",
    "experiment1[\"no_uncert\"] = Dict(\n",
    "    \"verbose\" => \"ex1_no_uncert\",\n",
    "    \"feeder\" => feeder,\n",
    "    \"settings\" => ex1_no_uncert_settings,\n",
    ")\n",
    "\n",
    "# ex1_uncert:\n",
    "ex1_uncert_settings = copy(ex1_general_settings)\n",
    "ex1_uncert_settings[\"toggle_volt_cc\"] = true\n",
    "ex1_uncert_settings[\"toggle_gen_cc\"] = true\n",
    "experiment1[\"uncert\"] = Dict(\n",
    "    \"verbose\" => \"ex1_uncert\",\n",
    "    \"feeder\" => feeder,\n",
    "    \"settings\" => ex1_uncert_settings,\n",
    ")\n",
    "\n",
    "# ex1_gen_uncert:\n",
    "ex1_uncert_settings = copy(ex1_general_settings)\n",
    "ex1_uncert_settings[\"toggle_volt_cc\"] = false\n",
    "ex1_uncert_settings[\"toggle_gen_cc\"] = true\n",
    "experiment1[\"gen_uncert\"] = Dict(\n",
    "    \"verbose\" => \"ex1_gen_uncert\",\n",
    "    \"feeder\" => feeder,\n",
    "    \"settings\" => ex1_uncert_settings,\n",
    ")\n",
    "\n",
    "# Run \n",
    "experiment1 = run_experiment(experiment1)\n",
    "\n",
    "# Show results\n",
    "sleep(.2) # just to ensure correct printing order\n",
    "for case in keys(experiment1)\n",
    "    display(experiment1[case][\"results\"])\n",
    "end"
   ]
  },
  {
   "cell_type": "code",
   "execution_count": 3,
   "metadata": {},
   "outputs": [
    {
     "name": "stdout",
     "output_type": "stream",
     "text": [
      "Saving ex1_uncert\n",
      "Saving ex1_gen_uncert\n",
      "Saving ex1_no_uncert\n",
      ">>>> Saved with timestamp 190320_0927\n"
     ]
    }
   ],
   "source": [
    "save_experiment(\"experiment1\", experiment1)"
   ]
  },
  {
   "cell_type": "markdown",
   "metadata": {},
   "source": [
    "## Experiment 2\n",
    "\n",
    "Same as Experiment1 but with wider voltage constraints\n",
    "\n",
    "### Description\n",
    "\n",
    "Ex2:\n",
    "- tag: `experiment2` \n",
    "- bascase voltage (0.9-1.1) and `vfac = 0.02`: Resulting \"real\" voltage limits: ca. 0.91 - 1.09 (i.e. +- 9%)\n",
    "- all nodes have 20% standard deviation of their forecasted load\n",
    "- all parameters as in AP's paper, including the negative load (i.e. uncontrollable generator with the same standard deviation\n",
    "- substation balancing participation penalty is set to 1000 (i.e. quadratic cost term)\n",
    "\n",
    "Runs:\n",
    "- `ex2_no_uncert`: deterministic case\n",
    "- `ex2_uncert`: case with uncertainty\n",
    "- `ex2_gen_uncert`: chance constraints only in generation\n",
    "\n",
    "\n",
    "### Notes and Observations\n",
    "\n",
    "- Without uncertainty the network is \"uncongested\" so that price for active power is the same at all nodes\n",
    "- With uncertainty, some voltage constraints become binding and there are differences in the prices"
   ]
  },
  {
   "cell_type": "code",
   "execution_count": 8,
   "metadata": {},
   "outputs": [
    {
     "name": "stdout",
     "output_type": "stream",
     "text": [
      ">>>>> Reading feeder data from data/feeder_data/basecase_lv_noneg/\n",
      "Running uncert\n",
      ">>>> Building Model\n",
      ">>>> Running Model\n",
      "MOSEK warning 705: #3 (nearly) zero elements are specified in sparse row ''(86) of matrix 'A'.\n",
      "MOSEK warning 705: #4 (nearly) zero elements are specified in sparse row ''(92) of matrix 'A'.\n",
      ">>>> Model finished with status OPTIMAL in 0.020427029 seconds\n",
      ">>>> Post-Processing\n"
     ]
    },
    {
     "name": "stderr",
     "output_type": "stream",
     "text": [
      "┌ Warning: Thermal constraint method 0 unknown. Proceeding with unconstrained lines.\n",
      "└ @ Main C:\\Users\\Robert\\Promotion\\Workshop\\02_cc_dlmp_varaware\\01_casestudy_uncertan_dlmp\\src\\model_definition.jl:196\n"
     ]
    },
    {
     "name": "stdout",
     "output_type": "stream",
     "text": [
      "\n",
      "Running gen_uncert\n",
      ">>>> Building Model\n",
      ">>>> Running Model\n",
      ">>>> Model finished with status OPTIMAL in 0.003514463 seconds\n",
      ">>>> Post-Processing\n",
      "\n",
      "Running no_uncert\n",
      ">>>> Building Model\n",
      ">>>> Running Model\n",
      ">>>> Model finished with status OPTIMAL in 0.002372737 seconds\n",
      ">>>> Post-Processing\n",
      "\n"
     ]
    },
    {
     "name": "stderr",
     "output_type": "stream",
     "text": [
      "┌ Warning: Thermal constraint method 0 unknown. Proceeding with unconstrained lines.\n",
      "└ @ Main C:\\Users\\Robert\\Promotion\\Workshop\\02_cc_dlmp_varaware\\01_casestudy_uncertan_dlmp\\src\\model_definition.jl:196\n",
      "┌ Warning: Thermal constraint method 0 unknown. Proceeding with unconstrained lines.\n",
      "└ @ Main C:\\Users\\Robert\\Promotion\\Workshop\\02_cc_dlmp_varaware\\01_casestudy_uncertan_dlmp\\src\\model_definition.jl:196\n"
     ]
    },
    {
     "name": "stdout",
     "output_type": "stream",
     "text": [
      ">>> Case uncert"
     ]
    },
    {
     "data": {
      "text/html": [
       "<table class=\"data-frame\"><thead><tr><th></th><th>objective</th><th>bus</th><th>gp</th><th>gq</th><th>voltage</th><th>fp</th><th>fq</th><th>alpha</th><th>lambda</th><th>pi</th><th>gamma</th><th>rho</th><th>eta</th><th>delta_plus</th><th>delta_minus</th><th>mu_plus</th><th>mu_minus</th><th>voltvar</th><th>lambda_anc</th><th>rx_pi_i</th><th>rx_pi_a</th><th>r_sum_mu_d</th><th>eta_calc</th></tr><tr><th></th><th>Float64</th><th>Any</th><th>Any</th><th>Any</th><th>Any</th><th>Any</th><th>Any</th><th>Any</th><th>Any</th><th>Any</th><th>Float64</th><th>Any</th><th>Any</th><th>Any</th><th>Any</th><th>Any</th><th>Any</th><th>Any</th><th>Any</th><th>Any</th><th>Any</th><th>Any</th><th>Any</th></tr></thead><tbody><p>15 rows × 23 columns</p><tr><th>1</th><td>68.8929</td><td>1</td><td>0.9225</td><td>0.538211</td><td>1.0</td><td>0</td><td>0</td><td>0.886412</td><td>-50.0</td><td>0.0</td><td>-14.1406</td><td>0</td><td>0</td><td>0</td><td>0</td><td>0</td><td>0</td><td>0</td><td>0</td><td>0</td><td>0</td><td>0</td><td>0</td></tr><tr><th>2</th><td>0.0</td><td>2</td><td>0</td><td>0</td><td>0.950497</td><td>-0.0</td><td>-0.0</td><td>0</td><td>-50.4632</td><td>-55.5805</td><td>0.0</td><td>0.000113588</td><td>-0.322349</td><td>0</td><td>0</td><td>-3.995e-7</td><td>-303.693</td><td>3.35482e-8</td><td>-50.0</td><td>-0.463171</td><td>0.0</td><td>0.463171</td><td>-0.322174</td></tr><tr><th>3</th><td>0.0</td><td>3</td><td>0</td><td>0</td><td>0.969829</td><td>0.2768</td><td>0.400011</td><td>0</td><td>-37.729</td><td>-37.3805</td><td>0.0</td><td>0.0101434</td><td>-4.85402</td><td>0</td><td>0</td><td>-5.99329e-7</td><td>-1.22801e-5</td><td>3.43369e-5</td><td>-50.4632</td><td>-26.1545</td><td>-38.8887</td><td>-12.7342</td><td>-4.85388</td></tr><tr><th>4</th><td>0.0</td><td>4</td><td>0</td><td>0</td><td>0.999378</td><td>-0.5168</td><td>0.214511</td><td>0</td><td>-17.7696</td><td>-8.85481</td><td>0.0</td><td>0.0258639</td><td>-11.9569</td><td>0</td><td>0</td><td>-2.40509e-6</td><td>-3.65817e-6</td><td>0.00020377</td><td>-37.729</td><td>-6.19568</td><td>-26.155</td><td>-19.9594</td><td>-11.9568</td></tr><tr><th>5</th><td>0.0</td><td>5</td><td>0</td><td>0</td><td>1.00313</td><td>-0.5168</td><td>0.214511</td><td>0</td><td>-16.3753</td><td>-6.86193</td><td>0.0</td><td>0.026725</td><td>-12.4447</td><td>0</td><td>0</td><td>-3.297e-6</td><td>-2.75976e-6</td><td>0.000202796</td><td>-17.7696</td><td>-4.80084</td><td>-6.19513</td><td>-1.39429</td><td>-12.4447</td></tr><tr><th>6</th><td>0.0</td><td>6</td><td>0</td><td>0</td><td>1.00696</td><td>-0.372884</td><td>0.123142</td><td>0</td><td>-15.0979</td><td>-5.02965</td><td>0.0</td><td>0.0275139</td><td>-12.8916</td><td>0</td><td>0</td><td>-4.77645e-6</td><td>-2.12305e-6</td><td>0.00019498</td><td>-16.3753</td><td>-3.50673</td><td>-4.78422</td><td>-1.27749</td><td>-12.8917</td></tr><tr><th>7</th><td>0.0</td><td>7</td><td>0.441184</td><td>-0.106042</td><td>1.01932</td><td>-0.390184</td><td>0.118842</td><td>0.0450801</td><td>-11.5793</td><td>-2.20558e-7</td><td>0.0</td><td>0.0296867</td><td>-14.1227</td><td>-4.65357e-7</td><td>-1.62909e-7</td><td>-36.4996</td><td>-1.11122e-6</td><td>0.000151833</td><td>-15.0979</td><td>-1.54295e-7</td><td>-3.51857</td><td>-3.51857</td><td>-14.1229</td></tr><tr><th>8</th><td>0.0</td><td>8</td><td>0</td><td>0</td><td>0.990743</td><td>-0.419284</td><td>0.111542</td><td>0</td><td>-15.0198</td><td>-4.92234</td><td>0.0</td><td>0.0286522</td><td>-13.0504</td><td>0</td><td>0</td><td>-1.75891e-6</td><td>-1.42089</td><td>0.000235548</td><td>-14.8711</td><td>-3.4463</td><td>-3.29767</td><td>0.148625</td><td>-13.0502</td></tr><tr><th>9</th><td>0.0</td><td>9</td><td>0</td><td>0</td><td>1.00122</td><td>0.1969</td><td>0.0019</td><td>0</td><td>-14.8711</td><td>-4.71006</td><td>0.0</td><td>0.0286522</td><td>-13.0062</td><td>0</td><td>0</td><td>-3.59237e-6</td><td>-4.23753e-6</td><td>0.000237526</td><td>-17.7696</td><td>-3.2938</td><td>-6.19228</td><td>-2.89848</td><td>-13.006</td></tr><tr><th>10</th><td>0.0</td><td>10</td><td>0</td><td>0</td><td>1.00399</td><td>-0.164016</td><td>0.0829695</td><td>0</td><td>-14.1306</td><td>-3.65103</td><td>0.0</td><td>0.0293373</td><td>-13.2555</td><td>0</td><td>0</td><td>-4.98425e-6</td><td>-3.32629e-6</td><td>0.000234438</td><td>-14.8711</td><td>-2.55317</td><td>-3.29375</td><td>-0.740575</td><td>-13.2553</td></tr><tr><th>11</th><td>0.0</td><td>11</td><td>0</td><td>0</td><td>1.01164</td><td>-0.384416</td><td>0.0751695</td><td>0</td><td>-12.3458</td><td>-1.09605</td><td>0.0</td><td>0.0309883</td><td>-13.8565</td><td>0</td><td>0</td><td>-2.75062e-5</td><td>-1.90387e-6</td><td>0.000211224</td><td>-14.1306</td><td>-0.765647</td><td>-2.55043</td><td>-1.78479</td><td>-13.8562</td></tr><tr><th>12</th><td>0.0</td><td>12</td><td>0.442216</td><td>-0.0511695</td><td>1.0152</td><td>-0.407316</td><td>0.0609695</td><td>0.0685077</td><td>-11.583</td><td>-1.78093e-7</td><td>0.0</td><td>0.0316939</td><td>-14.1133</td><td>-5.9211e-7</td><td>-1.72567e-7</td><td>-37.0287</td><td>-1.52907e-6</td><td>0.000194546</td><td>-12.3458</td><td>-1.23943e-7</td><td>-0.762792</td><td>-0.762792</td><td>-14.113</td></tr><tr><th>13</th><td>0.0</td><td>13</td><td>0</td><td>0</td><td>0.982619</td><td>-0.429016</td><td>0.0544695</td><td>0</td><td>-50.0</td><td>-3.45491e-6</td><td>0.0</td><td>0.0</td><td>-1.26697e-10</td><td>0</td><td>0</td><td>0.0</td><td>-4.04509e-6</td><td>6.53001e-5</td><td>-50.0</td><td>-2.87909e-8</td><td>0.0</td><td>2.87909e-8</td><td>-2.0134e-10</td></tr><tr><th>14</th><td>0.0</td><td>14</td><td>0</td><td>0</td><td>0.977795</td><td>0.6457</td><td>0.1382</td><td>0</td><td>-50.0</td><td>-5.77132e-6</td><td>0.0</td><td>0.0</td><td>-1.61147e-8</td><td>0</td><td>0</td><td>0.0</td><td>-4.84624e-6</td><td>4.73383e-5</td><td>-50.0</td><td>-8.04065e-6</td><td>-4.81341e-6</td><td>3.22724e-6</td><td>-2.53622e-8</td></tr><tr><th>15</th><td>0.0</td><td>15</td><td>0</td><td>0</td><td>0.975027</td><td>0.0238</td><td>0.0091</td><td>0</td><td>-50.0</td><td>-6.52428e-6</td><td>0.0</td><td>-0.0</td><td>-2.18623e-8</td><td>0</td><td>0</td><td>0.0</td><td>-5.50413e-6</td><td>3.85934e-5</td><td>-50.0</td><td>-9.09012e-6</td><td>-8.04103e-6</td><td>1.04909e-6</td><td>-3.42992e-8</td></tr></tbody></table>"
      ],
      "text/latex": [
       "\\begin{tabular}{r|ccccccccccccccccccccccc}\n",
       "\t& objective & bus & gp & gq & voltage & fp & fq & alpha & lambda & pi & gamma & rho & eta & delta\\_plus & delta\\_minus & mu\\_plus & mu\\_minus & voltvar & lambda\\_anc & rx\\_pi\\_i & rx\\_pi\\_a & r\\_sum\\_mu\\_d & eta\\_calc\\\\\n",
       "\t\\hline\n",
       "\t& Float64 & Any & Any & Any & Any & Any & Any & Any & Any & Any & Float64 & Any & Any & Any & Any & Any & Any & Any & Any & Any & Any & Any & Any\\\\\n",
       "\t\\hline\n",
       "\t1 & 68.8929 & 1 & 0.9225 & 0.538211 & 1.0 & 0 & 0 & 0.886412 & -50.0 & 0.0 & -14.1406 & 0 & 0 & 0 & 0 & 0 & 0 & 0 & 0 & 0 & 0 & 0 & 0 \\\\\n",
       "\t2 & 0.0 & 2 & 0 & 0 & 0.950497 & -0.0 & -0.0 & 0 & -50.4632 & -55.5805 & 0.0 & 0.000113588 & -0.322349 & 0 & 0 & -3.995e-7 & -303.693 & 3.35482e-8 & -50.0 & -0.463171 & 0.0 & 0.463171 & -0.322174 \\\\\n",
       "\t3 & 0.0 & 3 & 0 & 0 & 0.969829 & 0.2768 & 0.400011 & 0 & -37.729 & -37.3805 & 0.0 & 0.0101434 & -4.85402 & 0 & 0 & -5.99329e-7 & -1.22801e-5 & 3.43369e-5 & -50.4632 & -26.1545 & -38.8887 & -12.7342 & -4.85388 \\\\\n",
       "\t4 & 0.0 & 4 & 0 & 0 & 0.999378 & -0.5168 & 0.214511 & 0 & -17.7696 & -8.85481 & 0.0 & 0.0258639 & -11.9569 & 0 & 0 & -2.40509e-6 & -3.65817e-6 & 0.00020377 & -37.729 & -6.19568 & -26.155 & -19.9594 & -11.9568 \\\\\n",
       "\t5 & 0.0 & 5 & 0 & 0 & 1.00313 & -0.5168 & 0.214511 & 0 & -16.3753 & -6.86193 & 0.0 & 0.026725 & -12.4447 & 0 & 0 & -3.297e-6 & -2.75976e-6 & 0.000202796 & -17.7696 & -4.80084 & -6.19513 & -1.39429 & -12.4447 \\\\\n",
       "\t6 & 0.0 & 6 & 0 & 0 & 1.00696 & -0.372884 & 0.123142 & 0 & -15.0979 & -5.02965 & 0.0 & 0.0275139 & -12.8916 & 0 & 0 & -4.77645e-6 & -2.12305e-6 & 0.00019498 & -16.3753 & -3.50673 & -4.78422 & -1.27749 & -12.8917 \\\\\n",
       "\t7 & 0.0 & 7 & 0.441184 & -0.106042 & 1.01932 & -0.390184 & 0.118842 & 0.0450801 & -11.5793 & -2.20558e-7 & 0.0 & 0.0296867 & -14.1227 & -4.65357e-7 & -1.62909e-7 & -36.4996 & -1.11122e-6 & 0.000151833 & -15.0979 & -1.54295e-7 & -3.51857 & -3.51857 & -14.1229 \\\\\n",
       "\t8 & 0.0 & 8 & 0 & 0 & 0.990743 & -0.419284 & 0.111542 & 0 & -15.0198 & -4.92234 & 0.0 & 0.0286522 & -13.0504 & 0 & 0 & -1.75891e-6 & -1.42089 & 0.000235548 & -14.8711 & -3.4463 & -3.29767 & 0.148625 & -13.0502 \\\\\n",
       "\t9 & 0.0 & 9 & 0 & 0 & 1.00122 & 0.1969 & 0.0019 & 0 & -14.8711 & -4.71006 & 0.0 & 0.0286522 & -13.0062 & 0 & 0 & -3.59237e-6 & -4.23753e-6 & 0.000237526 & -17.7696 & -3.2938 & -6.19228 & -2.89848 & -13.006 \\\\\n",
       "\t10 & 0.0 & 10 & 0 & 0 & 1.00399 & -0.164016 & 0.0829695 & 0 & -14.1306 & -3.65103 & 0.0 & 0.0293373 & -13.2555 & 0 & 0 & -4.98425e-6 & -3.32629e-6 & 0.000234438 & -14.8711 & -2.55317 & -3.29375 & -0.740575 & -13.2553 \\\\\n",
       "\t11 & 0.0 & 11 & 0 & 0 & 1.01164 & -0.384416 & 0.0751695 & 0 & -12.3458 & -1.09605 & 0.0 & 0.0309883 & -13.8565 & 0 & 0 & -2.75062e-5 & -1.90387e-6 & 0.000211224 & -14.1306 & -0.765647 & -2.55043 & -1.78479 & -13.8562 \\\\\n",
       "\t12 & 0.0 & 12 & 0.442216 & -0.0511695 & 1.0152 & -0.407316 & 0.0609695 & 0.0685077 & -11.583 & -1.78093e-7 & 0.0 & 0.0316939 & -14.1133 & -5.9211e-7 & -1.72567e-7 & -37.0287 & -1.52907e-6 & 0.000194546 & -12.3458 & -1.23943e-7 & -0.762792 & -0.762792 & -14.113 \\\\\n",
       "\t13 & 0.0 & 13 & 0 & 0 & 0.982619 & -0.429016 & 0.0544695 & 0 & -50.0 & -3.45491e-6 & 0.0 & 0.0 & -1.26697e-10 & 0 & 0 & 0.0 & -4.04509e-6 & 6.53001e-5 & -50.0 & -2.87909e-8 & 0.0 & 2.87909e-8 & -2.0134e-10 \\\\\n",
       "\t14 & 0.0 & 14 & 0 & 0 & 0.977795 & 0.6457 & 0.1382 & 0 & -50.0 & -5.77132e-6 & 0.0 & 0.0 & -1.61147e-8 & 0 & 0 & 0.0 & -4.84624e-6 & 4.73383e-5 & -50.0 & -8.04065e-6 & -4.81341e-6 & 3.22724e-6 & -2.53622e-8 \\\\\n",
       "\t15 & 0.0 & 15 & 0 & 0 & 0.975027 & 0.0238 & 0.0091 & 0 & -50.0 & -6.52428e-6 & 0.0 & -0.0 & -2.18623e-8 & 0 & 0 & 0.0 & -5.50413e-6 & 3.85934e-5 & -50.0 & -9.09012e-6 & -8.04103e-6 & 1.04909e-6 & -3.42992e-8 \\\\\n",
       "\\end{tabular}\n"
      ],
      "text/plain": [
       "15×23 DataFrame. Omitted printing of 17 columns\n",
       "│ Row │ objective │ bus │ gp       │ gq         │ voltage  │ fp        │\n",
       "│     │ \u001b[90mFloat64\u001b[39m   │ \u001b[90mAny\u001b[39m │ \u001b[90mAny\u001b[39m      │ \u001b[90mAny\u001b[39m        │ \u001b[90mAny\u001b[39m      │ \u001b[90mAny\u001b[39m       │\n",
       "├─────┼───────────┼─────┼──────────┼────────────┼──────────┼───────────┤\n",
       "│ 1   │ 68.8929   │ 1   │ 0.9225   │ 0.538211   │ 1.0      │ 0         │\n",
       "│ 2   │ 0.0       │ 2   │ 0        │ 0          │ 0.950497 │ -0.0      │\n",
       "│ 3   │ 0.0       │ 3   │ 0        │ 0          │ 0.969829 │ 0.2768    │\n",
       "│ 4   │ 0.0       │ 4   │ 0        │ 0          │ 0.999378 │ -0.5168   │\n",
       "│ 5   │ 0.0       │ 5   │ 0        │ 0          │ 1.00313  │ -0.5168   │\n",
       "│ 6   │ 0.0       │ 6   │ 0        │ 0          │ 1.00696  │ -0.372884 │\n",
       "│ 7   │ 0.0       │ 7   │ 0.441184 │ -0.106042  │ 1.01932  │ -0.390184 │\n",
       "│ 8   │ 0.0       │ 8   │ 0        │ 0          │ 0.990743 │ -0.419284 │\n",
       "│ 9   │ 0.0       │ 9   │ 0        │ 0          │ 1.00122  │ 0.1969    │\n",
       "│ 10  │ 0.0       │ 10  │ 0        │ 0          │ 1.00399  │ -0.164016 │\n",
       "│ 11  │ 0.0       │ 11  │ 0        │ 0          │ 1.01164  │ -0.384416 │\n",
       "│ 12  │ 0.0       │ 12  │ 0.442216 │ -0.0511695 │ 1.0152   │ -0.407316 │\n",
       "│ 13  │ 0.0       │ 13  │ 0        │ 0          │ 0.982619 │ -0.429016 │\n",
       "│ 14  │ 0.0       │ 14  │ 0        │ 0          │ 0.977795 │ 0.6457    │\n",
       "│ 15  │ 0.0       │ 15  │ 0        │ 0          │ 0.975027 │ 0.0238    │"
      ]
     },
     "metadata": {},
     "output_type": "display_data"
    },
    {
     "name": "stdout",
     "output_type": "stream",
     "text": [
      ">>> Case gen_uncert"
     ]
    },
    {
     "data": {
      "text/html": [
       "<table class=\"data-frame\"><thead><tr><th></th><th>objective</th><th>bus</th><th>gp</th><th>gq</th><th>voltage</th><th>fp</th><th>fq</th><th>alpha</th><th>lambda</th><th>pi</th><th>gamma</th><th>rho</th><th>eta</th><th>delta_plus</th><th>delta_minus</th><th>mu_plus</th><th>mu_minus</th><th>voltvar</th><th>lambda_anc</th><th>rx_pi_i</th><th>rx_pi_a</th><th>r_sum_mu_d</th><th>eta_calc</th></tr><tr><th></th><th>Float64</th><th>Any</th><th>Any</th><th>Any</th><th>Any</th><th>Any</th><th>Any</th><th>Any</th><th>Any</th><th>Any</th><th>Float64</th><th>Any</th><th>Any</th><th>Any</th><th>Any</th><th>Any</th><th>Any</th><th>Any</th><th>Any</th><th>Any</th><th>Any</th><th>Any</th><th>Any</th></tr></thead><tbody><p>15 rows × 23 columns</p><tr><th>1</th><td>52.7535</td><td>1</td><td>0.787837</td><td>0.543266</td><td>1.0</td><td>0</td><td>0</td><td>0.012358</td><td>-50.0</td><td>0.0</td><td>-1.57135</td><td>0</td><td>0</td><td>0</td><td>0</td><td>0</td><td>0</td><td>0</td><td>0</td><td>0</td><td>0</td><td>0</td><td>0</td></tr><tr><th>2</th><td>0.0</td><td>2</td><td>0</td><td>0</td><td>0.95</td><td>0.142137</td><td>0.405066</td><td>0</td><td>-50.4632</td><td>-55.5803</td><td>0.0</td><td>0</td><td>0</td><td>0</td><td>0</td><td>-1.56916e-6</td><td>-303.809</td><td>0</td><td>-50.0</td><td>-0.463169</td><td>0.0</td><td>0.463169</td><td>0</td></tr><tr><th>3</th><td>0.0</td><td>3</td><td>0</td><td>0</td><td>0.980882</td><td>-0.651463</td><td>0.219566</td><td>0</td><td>-37.7083</td><td>-37.3509</td><td>0.0</td><td>0</td><td>0</td><td>0</td><td>0</td><td>-2.24634e-6</td><td>-5.33077e-6</td><td>0</td><td>-50.4632</td><td>-26.1338</td><td>-38.8886</td><td>-12.7548</td><td>0</td></tr><tr><th>4</th><td>0.0</td><td>4</td><td>0</td><td>0</td><td>1.02742</td><td>-0.651463</td><td>0.219566</td><td>0</td><td>-17.7166</td><td>-8.77885</td><td>0.0</td><td>0</td><td>0</td><td>0</td><td>0</td><td>-6.75086e-6</td><td>-2.06033e-6</td><td>0</td><td>-37.7083</td><td>-6.14253</td><td>-26.1343</td><td>-19.9917</td><td>0</td></tr><tr><th>5</th><td>0.0</td><td>5</td><td>0</td><td>0</td><td>1.0318</td><td>-0.440129</td><td>0.14276</td><td>0</td><td>-16.3343</td><td>-6.80306</td><td>0.0</td><td>0</td><td>0</td><td>0</td><td>0</td><td>-8.35202e-6</td><td>-1.94428e-6</td><td>0</td><td>-17.7166</td><td>-4.75965</td><td>-6.14198</td><td>-1.38232</td><td>0</td></tr><tr><th>6</th><td>0.0</td><td>6</td><td>0</td><td>0</td><td>1.03618</td><td>-0.457429</td><td>0.13846</td><td>0</td><td>-15.0677</td><td>-4.9865</td><td>0.0</td><td>0</td><td>0</td><td>0</td><td>0</td><td>-1.09589e-5</td><td>-1.84005e-6</td><td>0</td><td>-16.3343</td><td>-3.47664</td><td>-4.74317</td><td>-1.26653</td><td>0</td></tr><tr><th>7</th><td>0.0</td><td>7</td><td>0.508429</td><td>-0.12566</td><td>1.05</td><td>-0.486529</td><td>0.13116</td><td>0.493818</td><td>-11.5794</td><td>-6.18925e-7</td><td>0.0</td><td>0</td><td>0</td><td>-6.1948e-6</td><td>-8.62687e-7</td><td>-36.1865</td><td>-1.57118e-6</td><td>0</td><td>-15.0677</td><td>-4.32978e-7</td><td>-3.48838</td><td>-3.48838</td><td>0</td></tr><tr><th>8</th><td>0.0</td><td>8</td><td>0</td><td>0</td><td>1.02254</td><td>0.1969</td><td>0.0019</td><td>0</td><td>-14.7831</td><td>-4.58403</td><td>0.0</td><td>0</td><td>0</td><td>0</td><td>0</td><td>-0.0</td><td>-2.205e-6</td><td>0</td><td>-14.7831</td><td>-3.20943</td><td>-3.20943</td><td>2.30643e-7</td><td>0</td></tr><tr><th>9</th><td>0.0</td><td>9</td><td>0</td><td>0</td><td>1.0327</td><td>-0.231434</td><td>0.0684061</td><td>0</td><td>-14.7831</td><td>-4.58403</td><td>0.0</td><td>0</td><td>0</td><td>0</td><td>0</td><td>-8.77745e-6</td><td>-0.0</td><td>0</td><td>-17.7166</td><td>-3.20567</td><td>-6.13916</td><td>-2.93349</td><td>0</td></tr><tr><th>10</th><td>0.0</td><td>10</td><td>0</td><td>0</td><td>1.03623</td><td>-0.451834</td><td>0.0606061</td><td>0</td><td>-14.0623</td><td>-3.55334</td><td>0.0</td><td>0</td><td>0</td><td>0</td><td>0</td><td>-1.09831e-5</td><td>-1.83886e-6</td><td>0</td><td>-14.7831</td><td>-2.48485</td><td>-3.20561</td><td>-0.720759</td><td>0</td></tr><tr><th>11</th><td>0.0</td><td>11</td><td>0</td><td>0</td><td>1.04568</td><td>-0.474734</td><td>0.0464061</td><td>0</td><td>-12.3253</td><td>-1.06672</td><td>0.0</td><td>0</td><td>0</td><td>0</td><td>0</td><td>-3.40169e-5</td><td>-1.6469e-6</td><td>0</td><td>-14.0623</td><td>-0.74516</td><td>-2.48219</td><td>-1.73703</td><td>0</td></tr><tr><th>12</th><td>0.0</td><td>12</td><td>0.509634</td><td>-0.0366061</td><td>1.05</td><td>-0.496434</td><td>0.0399061</td><td>0.493824</td><td>-11.5829</td><td>-1.08147e-7</td><td>0.0</td><td>0</td><td>0</td><td>-8.23673e-7</td><td>-9.58188e-7</td><td>-36.0379</td><td>-1.57132e-6</td><td>0</td><td>-12.3253</td><td>-7.52642e-8</td><td>-0.742381</td><td>-0.742381</td><td>0</td></tr><tr><th>13</th><td>0.0</td><td>13</td><td>0</td><td>0</td><td>0.982619</td><td>0.6457</td><td>0.1382</td><td>0</td><td>-50.0</td><td>0.0</td><td>0.0</td><td>0</td><td>0</td><td>0</td><td>0</td><td>-0.0</td><td>-0.0</td><td>0</td><td>-50.0</td><td>0.0</td><td>0.0</td><td>0.0</td><td>0</td></tr><tr><th>14</th><td>0.0</td><td>14</td><td>0</td><td>0</td><td>0.977795</td><td>0.0238</td><td>0.0091</td><td>0</td><td>-50.0</td><td>0.0</td><td>0.0</td><td>0</td><td>0</td><td>0</td><td>0</td><td>-0.0</td><td>-0.0</td><td>0</td><td>-50.0</td><td>0.0</td><td>0.0</td><td>0.0</td><td>0</td></tr><tr><th>15</th><td>0.0</td><td>15</td><td>0</td><td>0</td><td>0.975027</td><td>0.0224</td><td>0.0083</td><td>0</td><td>-50.0</td><td>0.0</td><td>0.0</td><td>0</td><td>0</td><td>0</td><td>0</td><td>-0.0</td><td>-0.0</td><td>0</td><td>-50.0</td><td>0.0</td><td>0.0</td><td>0.0</td><td>0</td></tr></tbody></table>"
      ],
      "text/latex": [
       "\\begin{tabular}{r|ccccccccccccccccccccccc}\n",
       "\t& objective & bus & gp & gq & voltage & fp & fq & alpha & lambda & pi & gamma & rho & eta & delta\\_plus & delta\\_minus & mu\\_plus & mu\\_minus & voltvar & lambda\\_anc & rx\\_pi\\_i & rx\\_pi\\_a & r\\_sum\\_mu\\_d & eta\\_calc\\\\\n",
       "\t\\hline\n",
       "\t& Float64 & Any & Any & Any & Any & Any & Any & Any & Any & Any & Float64 & Any & Any & Any & Any & Any & Any & Any & Any & Any & Any & Any & Any\\\\\n",
       "\t\\hline\n",
       "\t1 & 52.7535 & 1 & 0.787837 & 0.543266 & 1.0 & 0 & 0 & 0.012358 & -50.0 & 0.0 & -1.57135 & 0 & 0 & 0 & 0 & 0 & 0 & 0 & 0 & 0 & 0 & 0 & 0 \\\\\n",
       "\t2 & 0.0 & 2 & 0 & 0 & 0.95 & 0.142137 & 0.405066 & 0 & -50.4632 & -55.5803 & 0.0 & 0 & 0 & 0 & 0 & -1.56916e-6 & -303.809 & 0 & -50.0 & -0.463169 & 0.0 & 0.463169 & 0 \\\\\n",
       "\t3 & 0.0 & 3 & 0 & 0 & 0.980882 & -0.651463 & 0.219566 & 0 & -37.7083 & -37.3509 & 0.0 & 0 & 0 & 0 & 0 & -2.24634e-6 & -5.33077e-6 & 0 & -50.4632 & -26.1338 & -38.8886 & -12.7548 & 0 \\\\\n",
       "\t4 & 0.0 & 4 & 0 & 0 & 1.02742 & -0.651463 & 0.219566 & 0 & -17.7166 & -8.77885 & 0.0 & 0 & 0 & 0 & 0 & -6.75086e-6 & -2.06033e-6 & 0 & -37.7083 & -6.14253 & -26.1343 & -19.9917 & 0 \\\\\n",
       "\t5 & 0.0 & 5 & 0 & 0 & 1.0318 & -0.440129 & 0.14276 & 0 & -16.3343 & -6.80306 & 0.0 & 0 & 0 & 0 & 0 & -8.35202e-6 & -1.94428e-6 & 0 & -17.7166 & -4.75965 & -6.14198 & -1.38232 & 0 \\\\\n",
       "\t6 & 0.0 & 6 & 0 & 0 & 1.03618 & -0.457429 & 0.13846 & 0 & -15.0677 & -4.9865 & 0.0 & 0 & 0 & 0 & 0 & -1.09589e-5 & -1.84005e-6 & 0 & -16.3343 & -3.47664 & -4.74317 & -1.26653 & 0 \\\\\n",
       "\t7 & 0.0 & 7 & 0.508429 & -0.12566 & 1.05 & -0.486529 & 0.13116 & 0.493818 & -11.5794 & -6.18925e-7 & 0.0 & 0 & 0 & -6.1948e-6 & -8.62687e-7 & -36.1865 & -1.57118e-6 & 0 & -15.0677 & -4.32978e-7 & -3.48838 & -3.48838 & 0 \\\\\n",
       "\t8 & 0.0 & 8 & 0 & 0 & 1.02254 & 0.1969 & 0.0019 & 0 & -14.7831 & -4.58403 & 0.0 & 0 & 0 & 0 & 0 & -0.0 & -2.205e-6 & 0 & -14.7831 & -3.20943 & -3.20943 & 2.30643e-7 & 0 \\\\\n",
       "\t9 & 0.0 & 9 & 0 & 0 & 1.0327 & -0.231434 & 0.0684061 & 0 & -14.7831 & -4.58403 & 0.0 & 0 & 0 & 0 & 0 & -8.77745e-6 & -0.0 & 0 & -17.7166 & -3.20567 & -6.13916 & -2.93349 & 0 \\\\\n",
       "\t10 & 0.0 & 10 & 0 & 0 & 1.03623 & -0.451834 & 0.0606061 & 0 & -14.0623 & -3.55334 & 0.0 & 0 & 0 & 0 & 0 & -1.09831e-5 & -1.83886e-6 & 0 & -14.7831 & -2.48485 & -3.20561 & -0.720759 & 0 \\\\\n",
       "\t11 & 0.0 & 11 & 0 & 0 & 1.04568 & -0.474734 & 0.0464061 & 0 & -12.3253 & -1.06672 & 0.0 & 0 & 0 & 0 & 0 & -3.40169e-5 & -1.6469e-6 & 0 & -14.0623 & -0.74516 & -2.48219 & -1.73703 & 0 \\\\\n",
       "\t12 & 0.0 & 12 & 0.509634 & -0.0366061 & 1.05 & -0.496434 & 0.0399061 & 0.493824 & -11.5829 & -1.08147e-7 & 0.0 & 0 & 0 & -8.23673e-7 & -9.58188e-7 & -36.0379 & -1.57132e-6 & 0 & -12.3253 & -7.52642e-8 & -0.742381 & -0.742381 & 0 \\\\\n",
       "\t13 & 0.0 & 13 & 0 & 0 & 0.982619 & 0.6457 & 0.1382 & 0 & -50.0 & 0.0 & 0.0 & 0 & 0 & 0 & 0 & -0.0 & -0.0 & 0 & -50.0 & 0.0 & 0.0 & 0.0 & 0 \\\\\n",
       "\t14 & 0.0 & 14 & 0 & 0 & 0.977795 & 0.0238 & 0.0091 & 0 & -50.0 & 0.0 & 0.0 & 0 & 0 & 0 & 0 & -0.0 & -0.0 & 0 & -50.0 & 0.0 & 0.0 & 0.0 & 0 \\\\\n",
       "\t15 & 0.0 & 15 & 0 & 0 & 0.975027 & 0.0224 & 0.0083 & 0 & -50.0 & 0.0 & 0.0 & 0 & 0 & 0 & 0 & -0.0 & -0.0 & 0 & -50.0 & 0.0 & 0.0 & 0.0 & 0 \\\\\n",
       "\\end{tabular}\n"
      ],
      "text/plain": [
       "15×23 DataFrame. Omitted printing of 17 columns\n",
       "│ Row │ objective │ bus │ gp       │ gq         │ voltage  │ fp        │\n",
       "│     │ \u001b[90mFloat64\u001b[39m   │ \u001b[90mAny\u001b[39m │ \u001b[90mAny\u001b[39m      │ \u001b[90mAny\u001b[39m        │ \u001b[90mAny\u001b[39m      │ \u001b[90mAny\u001b[39m       │\n",
       "├─────┼───────────┼─────┼──────────┼────────────┼──────────┼───────────┤\n",
       "│ 1   │ 52.7535   │ 1   │ 0.787837 │ 0.543266   │ 1.0      │ 0         │\n",
       "│ 2   │ 0.0       │ 2   │ 0        │ 0          │ 0.95     │ 0.142137  │\n",
       "│ 3   │ 0.0       │ 3   │ 0        │ 0          │ 0.980882 │ -0.651463 │\n",
       "│ 4   │ 0.0       │ 4   │ 0        │ 0          │ 1.02742  │ -0.651463 │\n",
       "│ 5   │ 0.0       │ 5   │ 0        │ 0          │ 1.0318   │ -0.440129 │\n",
       "│ 6   │ 0.0       │ 6   │ 0        │ 0          │ 1.03618  │ -0.457429 │\n",
       "│ 7   │ 0.0       │ 7   │ 0.508429 │ -0.12566   │ 1.05     │ -0.486529 │\n",
       "│ 8   │ 0.0       │ 8   │ 0        │ 0          │ 1.02254  │ 0.1969    │\n",
       "│ 9   │ 0.0       │ 9   │ 0        │ 0          │ 1.0327   │ -0.231434 │\n",
       "│ 10  │ 0.0       │ 10  │ 0        │ 0          │ 1.03623  │ -0.451834 │\n",
       "│ 11  │ 0.0       │ 11  │ 0        │ 0          │ 1.04568  │ -0.474734 │\n",
       "│ 12  │ 0.0       │ 12  │ 0.509634 │ -0.0366061 │ 1.05     │ -0.496434 │\n",
       "│ 13  │ 0.0       │ 13  │ 0        │ 0          │ 0.982619 │ 0.6457    │\n",
       "│ 14  │ 0.0       │ 14  │ 0        │ 0          │ 0.977795 │ 0.0238    │\n",
       "│ 15  │ 0.0       │ 15  │ 0        │ 0          │ 0.975027 │ 0.0224    │"
      ]
     },
     "metadata": {},
     "output_type": "display_data"
    },
    {
     "name": "stdout",
     "output_type": "stream",
     "text": [
      ">>> Case no_uncert"
     ]
    },
    {
     "data": {
      "text/html": [
       "<table class=\"data-frame\"><thead><tr><th></th><th>objective</th><th>bus</th><th>gp</th><th>gq</th><th>voltage</th><th>fp</th><th>fq</th><th>alpha</th><th>lambda</th><th>pi</th><th>gamma</th><th>rho</th><th>eta</th><th>delta_plus</th><th>delta_minus</th><th>mu_plus</th><th>mu_minus</th><th>voltvar</th><th>lambda_anc</th><th>rx_pi_i</th><th>rx_pi_a</th><th>r_sum_mu_d</th><th>eta_calc</th></tr><tr><th></th><th>Float64</th><th>Any</th><th>Any</th><th>Any</th><th>Any</th><th>Any</th><th>Any</th><th>Any</th><th>Any</th><th>Any</th><th>Float64</th><th>Any</th><th>Any</th><th>Any</th><th>Any</th><th>Any</th><th>Any</th><th>Any</th><th>Any</th><th>Any</th><th>Any</th><th>Any</th><th>Any</th></tr></thead><tbody><p>15 rows × 23 columns</p><tr><th>1</th><td>49.9039</td><td>1</td><td>0.787837</td><td>0.543266</td><td>1.0</td><td>0</td><td>0</td><td>0</td><td>-50.0</td><td>0.0</td><td>0.0</td><td>0</td><td>0</td><td>0</td><td>0</td><td>0</td><td>0</td><td>0</td><td>0</td><td>0</td><td>0</td><td>0</td><td>0</td></tr><tr><th>2</th><td>0.0</td><td>2</td><td>0</td><td>0</td><td>0.95</td><td>0.142137</td><td>0.405066</td><td>0</td><td>-50.4783</td><td>-57.3968</td><td>0.0</td><td>0</td><td>0</td><td>0</td><td>0</td><td>-2.50115e-6</td><td>-313.738</td><td>0</td><td>-50.0</td><td>-0.478307</td><td>0.0</td><td>0.478307</td><td>0</td></tr><tr><th>3</th><td>0.0</td><td>3</td><td>0</td><td>0</td><td>0.980882</td><td>-0.651463</td><td>0.219566</td><td>0</td><td>-37.3066</td><td>-38.5716</td><td>0.0</td><td>0</td><td>0</td><td>0</td><td>0</td><td>-3.39152e-6</td><td>-9.77996e-6</td><td>0</td><td>-50.4783</td><td>-26.9879</td><td>-40.1596</td><td>-13.1717</td><td>0</td></tr><tr><th>4</th><td>0.0</td><td>4</td><td>0</td><td>0</td><td>1.02742</td><td>-0.651463</td><td>0.219566</td><td>0</td><td>-16.6615</td><td>-9.06576</td><td>0.0</td><td>0</td><td>0</td><td>0</td><td>0</td><td>-7.87707e-6</td><td>-3.60414e-6</td><td>0</td><td>-37.3066</td><td>-6.34328</td><td>-26.9884</td><td>-20.6451</td><td>0</td></tr><tr><th>5</th><td>0.0</td><td>5</td><td>0</td><td>0</td><td>1.0318</td><td>-0.438523</td><td>0.141637</td><td>0</td><td>-15.234</td><td>-7.02541</td><td>0.0</td><td>0</td><td>0</td><td>0</td><td>0</td><td>-1.01549e-5</td><td>-3.36612e-6</td><td>0</td><td>-16.6615</td><td>-4.91521</td><td>-6.34271</td><td>-1.4275</td><td>0</td></tr><tr><th>6</th><td>0.0</td><td>6</td><td>0</td><td>0</td><td>1.03618</td><td>-0.455823</td><td>0.137337</td><td>0</td><td>-13.9261</td><td>-5.14947</td><td>0.0</td><td>0</td><td>0</td><td>0</td><td>0</td><td>-1.42374e-5</td><td>-3.1574e-6</td><td>0</td><td>-15.234</td><td>-3.59027</td><td>-4.89819</td><td>-1.30792</td><td>0</td></tr><tr><th>7</th><td>0.0</td><td>7</td><td>0.506823</td><td>-0.124537</td><td>1.05</td><td>-0.484923</td><td>0.130037</td><td>0</td><td>-10.3237</td><td>-6.0948e-7</td><td>0.0</td><td>0</td><td>0</td><td>-1.51179e-6</td><td>-8.94904e-7</td><td>-37.3692</td><td>-2.64248e-6</td><td>0</td><td>-13.9261</td><td>-4.26371e-7</td><td>-3.60239</td><td>-3.60239</td><td>0</td></tr><tr><th>8</th><td>0.0</td><td>8</td><td>0</td><td>0</td><td>1.02254</td><td>0.1969</td><td>0.0019</td><td>0</td><td>-13.6321</td><td>-4.73385</td><td>0.0</td><td>0</td><td>0</td><td>0</td><td>0</td><td>-0.0</td><td>-4.00151e-6</td><td>0</td><td>-13.6321</td><td>-3.31433</td><td>-3.31433</td><td>4.18558e-7</td><td>0</td></tr><tr><th>9</th><td>0.0</td><td>9</td><td>0</td><td>0</td><td>1.0327</td><td>-0.23304</td><td>0.0695283</td><td>0</td><td>-13.6321</td><td>-4.73385</td><td>0.0</td><td>0</td><td>0</td><td>0</td><td>0</td><td>-6.49303e-6</td><td>-0.0</td><td>0</td><td>-16.6615</td><td>-3.31044</td><td>-6.3398</td><td>-3.02936</td><td>0</td></tr><tr><th>10</th><td>0.0</td><td>10</td><td>0</td><td>0</td><td>1.03623</td><td>-0.45344</td><td>0.0617283</td><td>0</td><td>-12.8878</td><td>-3.66947</td><td>0.0</td><td>0</td><td>0</td><td>0</td><td>0</td><td>-5.63482e-6</td><td>-0.0</td><td>0</td><td>-13.6321</td><td>-2.56607</td><td>-3.31038</td><td>-0.744316</td><td>0</td></tr><tr><th>11</th><td>0.0</td><td>11</td><td>0</td><td>0</td><td>1.04568</td><td>-0.47634</td><td>0.0475283</td><td>0</td><td>-11.094</td><td>-1.10159</td><td>0.0</td><td>0</td><td>0</td><td>0</td><td>0</td><td>-7.18277e-6</td><td>-2.96885e-6</td><td>0</td><td>-12.8878</td><td>-0.769514</td><td>-2.56331</td><td>-1.7938</td><td>0</td></tr><tr><th>12</th><td>0.0</td><td>12</td><td>0.51124</td><td>-0.0377283</td><td>1.05</td><td>-0.49804</td><td>0.0410283</td><td>0</td><td>-10.3274</td><td>-5.64187e-7</td><td>0.0</td><td>0</td><td>0</td><td>-2.00448e-6</td><td>-9.3396e-7</td><td>-37.2158</td><td>-2.83568e-6</td><td>0</td><td>-11.094</td><td>-3.92644e-7</td><td>-0.766644</td><td>-0.766645</td><td>0</td></tr><tr><th>13</th><td>0.0</td><td>13</td><td>0</td><td>0</td><td>0.982619</td><td>0.6457</td><td>0.1382</td><td>0</td><td>-50.0</td><td>0.0</td><td>0.0</td><td>0</td><td>0</td><td>0</td><td>0</td><td>-0.0</td><td>-0.0</td><td>0</td><td>-50.0</td><td>0.0</td><td>0.0</td><td>0.0</td><td>0</td></tr><tr><th>14</th><td>0.0</td><td>14</td><td>0</td><td>0</td><td>0.977795</td><td>0.0238</td><td>0.0091</td><td>0</td><td>-50.0</td><td>0.0</td><td>0.0</td><td>0</td><td>0</td><td>0</td><td>0</td><td>-0.0</td><td>-0.0</td><td>0</td><td>-50.0</td><td>0.0</td><td>0.0</td><td>0.0</td><td>0</td></tr><tr><th>15</th><td>0.0</td><td>15</td><td>0</td><td>0</td><td>0.975027</td><td>0.0224</td><td>0.0083</td><td>0</td><td>-50.0</td><td>0.0</td><td>0.0</td><td>0</td><td>0</td><td>0</td><td>0</td><td>-0.0</td><td>-0.0</td><td>0</td><td>-50.0</td><td>0.0</td><td>0.0</td><td>0.0</td><td>0</td></tr></tbody></table>"
      ],
      "text/latex": [
       "\\begin{tabular}{r|ccccccccccccccccccccccc}\n",
       "\t& objective & bus & gp & gq & voltage & fp & fq & alpha & lambda & pi & gamma & rho & eta & delta\\_plus & delta\\_minus & mu\\_plus & mu\\_minus & voltvar & lambda\\_anc & rx\\_pi\\_i & rx\\_pi\\_a & r\\_sum\\_mu\\_d & eta\\_calc\\\\\n",
       "\t\\hline\n",
       "\t& Float64 & Any & Any & Any & Any & Any & Any & Any & Any & Any & Float64 & Any & Any & Any & Any & Any & Any & Any & Any & Any & Any & Any & Any\\\\\n",
       "\t\\hline\n",
       "\t1 & 49.9039 & 1 & 0.787837 & 0.543266 & 1.0 & 0 & 0 & 0 & -50.0 & 0.0 & 0.0 & 0 & 0 & 0 & 0 & 0 & 0 & 0 & 0 & 0 & 0 & 0 & 0 \\\\\n",
       "\t2 & 0.0 & 2 & 0 & 0 & 0.95 & 0.142137 & 0.405066 & 0 & -50.4783 & -57.3968 & 0.0 & 0 & 0 & 0 & 0 & -2.50115e-6 & -313.738 & 0 & -50.0 & -0.478307 & 0.0 & 0.478307 & 0 \\\\\n",
       "\t3 & 0.0 & 3 & 0 & 0 & 0.980882 & -0.651463 & 0.219566 & 0 & -37.3066 & -38.5716 & 0.0 & 0 & 0 & 0 & 0 & -3.39152e-6 & -9.77996e-6 & 0 & -50.4783 & -26.9879 & -40.1596 & -13.1717 & 0 \\\\\n",
       "\t4 & 0.0 & 4 & 0 & 0 & 1.02742 & -0.651463 & 0.219566 & 0 & -16.6615 & -9.06576 & 0.0 & 0 & 0 & 0 & 0 & -7.87707e-6 & -3.60414e-6 & 0 & -37.3066 & -6.34328 & -26.9884 & -20.6451 & 0 \\\\\n",
       "\t5 & 0.0 & 5 & 0 & 0 & 1.0318 & -0.438523 & 0.141637 & 0 & -15.234 & -7.02541 & 0.0 & 0 & 0 & 0 & 0 & -1.01549e-5 & -3.36612e-6 & 0 & -16.6615 & -4.91521 & -6.34271 & -1.4275 & 0 \\\\\n",
       "\t6 & 0.0 & 6 & 0 & 0 & 1.03618 & -0.455823 & 0.137337 & 0 & -13.9261 & -5.14947 & 0.0 & 0 & 0 & 0 & 0 & -1.42374e-5 & -3.1574e-6 & 0 & -15.234 & -3.59027 & -4.89819 & -1.30792 & 0 \\\\\n",
       "\t7 & 0.0 & 7 & 0.506823 & -0.124537 & 1.05 & -0.484923 & 0.130037 & 0 & -10.3237 & -6.0948e-7 & 0.0 & 0 & 0 & -1.51179e-6 & -8.94904e-7 & -37.3692 & -2.64248e-6 & 0 & -13.9261 & -4.26371e-7 & -3.60239 & -3.60239 & 0 \\\\\n",
       "\t8 & 0.0 & 8 & 0 & 0 & 1.02254 & 0.1969 & 0.0019 & 0 & -13.6321 & -4.73385 & 0.0 & 0 & 0 & 0 & 0 & -0.0 & -4.00151e-6 & 0 & -13.6321 & -3.31433 & -3.31433 & 4.18558e-7 & 0 \\\\\n",
       "\t9 & 0.0 & 9 & 0 & 0 & 1.0327 & -0.23304 & 0.0695283 & 0 & -13.6321 & -4.73385 & 0.0 & 0 & 0 & 0 & 0 & -6.49303e-6 & -0.0 & 0 & -16.6615 & -3.31044 & -6.3398 & -3.02936 & 0 \\\\\n",
       "\t10 & 0.0 & 10 & 0 & 0 & 1.03623 & -0.45344 & 0.0617283 & 0 & -12.8878 & -3.66947 & 0.0 & 0 & 0 & 0 & 0 & -5.63482e-6 & -0.0 & 0 & -13.6321 & -2.56607 & -3.31038 & -0.744316 & 0 \\\\\n",
       "\t11 & 0.0 & 11 & 0 & 0 & 1.04568 & -0.47634 & 0.0475283 & 0 & -11.094 & -1.10159 & 0.0 & 0 & 0 & 0 & 0 & -7.18277e-6 & -2.96885e-6 & 0 & -12.8878 & -0.769514 & -2.56331 & -1.7938 & 0 \\\\\n",
       "\t12 & 0.0 & 12 & 0.51124 & -0.0377283 & 1.05 & -0.49804 & 0.0410283 & 0 & -10.3274 & -5.64187e-7 & 0.0 & 0 & 0 & -2.00448e-6 & -9.3396e-7 & -37.2158 & -2.83568e-6 & 0 & -11.094 & -3.92644e-7 & -0.766644 & -0.766645 & 0 \\\\\n",
       "\t13 & 0.0 & 13 & 0 & 0 & 0.982619 & 0.6457 & 0.1382 & 0 & -50.0 & 0.0 & 0.0 & 0 & 0 & 0 & 0 & -0.0 & -0.0 & 0 & -50.0 & 0.0 & 0.0 & 0.0 & 0 \\\\\n",
       "\t14 & 0.0 & 14 & 0 & 0 & 0.977795 & 0.0238 & 0.0091 & 0 & -50.0 & 0.0 & 0.0 & 0 & 0 & 0 & 0 & -0.0 & -0.0 & 0 & -50.0 & 0.0 & 0.0 & 0.0 & 0 \\\\\n",
       "\t15 & 0.0 & 15 & 0 & 0 & 0.975027 & 0.0224 & 0.0083 & 0 & -50.0 & 0.0 & 0.0 & 0 & 0 & 0 & 0 & -0.0 & -0.0 & 0 & -50.0 & 0.0 & 0.0 & 0.0 & 0 \\\\\n",
       "\\end{tabular}\n"
      ],
      "text/plain": [
       "15×23 DataFrame. Omitted printing of 17 columns\n",
       "│ Row │ objective │ bus │ gp       │ gq         │ voltage  │ fp        │\n",
       "│     │ \u001b[90mFloat64\u001b[39m   │ \u001b[90mAny\u001b[39m │ \u001b[90mAny\u001b[39m      │ \u001b[90mAny\u001b[39m        │ \u001b[90mAny\u001b[39m      │ \u001b[90mAny\u001b[39m       │\n",
       "├─────┼───────────┼─────┼──────────┼────────────┼──────────┼───────────┤\n",
       "│ 1   │ 49.9039   │ 1   │ 0.787837 │ 0.543266   │ 1.0      │ 0         │\n",
       "│ 2   │ 0.0       │ 2   │ 0        │ 0          │ 0.95     │ 0.142137  │\n",
       "│ 3   │ 0.0       │ 3   │ 0        │ 0          │ 0.980882 │ -0.651463 │\n",
       "│ 4   │ 0.0       │ 4   │ 0        │ 0          │ 1.02742  │ -0.651463 │\n",
       "│ 5   │ 0.0       │ 5   │ 0        │ 0          │ 1.0318   │ -0.438523 │\n",
       "│ 6   │ 0.0       │ 6   │ 0        │ 0          │ 1.03618  │ -0.455823 │\n",
       "│ 7   │ 0.0       │ 7   │ 0.506823 │ -0.124537  │ 1.05     │ -0.484923 │\n",
       "│ 8   │ 0.0       │ 8   │ 0        │ 0          │ 1.02254  │ 0.1969    │\n",
       "│ 9   │ 0.0       │ 9   │ 0        │ 0          │ 1.0327   │ -0.23304  │\n",
       "│ 10  │ 0.0       │ 10  │ 0        │ 0          │ 1.03623  │ -0.45344  │\n",
       "│ 11  │ 0.0       │ 11  │ 0        │ 0          │ 1.04568  │ -0.47634  │\n",
       "│ 12  │ 0.0       │ 12  │ 0.51124  │ -0.0377283 │ 1.05     │ -0.49804  │\n",
       "│ 13  │ 0.0       │ 13  │ 0        │ 0          │ 0.982619 │ 0.6457    │\n",
       "│ 14  │ 0.0       │ 14  │ 0        │ 0          │ 0.977795 │ 0.0238    │\n",
       "│ 15  │ 0.0       │ 15  │ 0        │ 0          │ 0.975027 │ 0.0224    │"
      ]
     },
     "metadata": {},
     "output_type": "display_data"
    }
   ],
   "source": [
    "experiment2 = Dict()\n",
    "\n",
    "# Load feeder data \n",
    "feeder = load_feeder(\"data/feeder_data/basecase_lv_noneg/\")\n",
    "\n",
    "# Set up\n",
    "relative_std = 0.2\n",
    "loads = [b.d_P for b in feeder.buses]\n",
    "std_vec = abs.(loads) .* relative_std\n",
    "var_vec = std_vec.^2\n",
    "Σ = diagm(0 => var_vec)\n",
    "\n",
    "# ex2_general_settings\n",
    "ex2_general_settings = Dict(\n",
    "    \"var_vec\" => var_vec,\n",
    "    \"Σ\" => Σ,\n",
    "    \"z_g\" => 1.945,\n",
    "    \"z_v\" => 2.576,\n",
    "    \"toggle_volt_cc\" => false,\n",
    "    \"toggle_gen_cc\" => false,\n",
    "    \"toggle_thermal_cc\" => false,\n",
    "    \"thermal_const_method\" => 0, #1=soc, 2=inner approx, other=off\n",
    "    \"vfac\" => 0, # directly sets symetric voltage limit to min:(1-vfac) max:(1+vfac), use import values if vfac=0\n",
    "    \"qcfac\" => 1,\n",
    "    \"output_level\" => 0,\n",
    "    \"Ψ\" => 0,\n",
    ")\n",
    "\n",
    "# ex2_no_uncert:\n",
    "ex2_no_uncert_settings = copy(ex2_general_settings)\n",
    "ex2_no_uncert_settings[\"toggle_volt_cc\"] = false\n",
    "ex2_no_uncert_settings[\"toggle_gen_cc\"] = false\n",
    "\n",
    "experiment2[\"no_uncert\"] = Dict(\n",
    "    \"verbose\" => \"no_uncert\",\n",
    "    \"feeder\" => feeder,\n",
    "    \"settings\" => ex2_no_uncert_settings,\n",
    ")\n",
    "\n",
    "# ex2_uncert:\n",
    "ex2_uncert_settings = copy(ex2_general_settings)\n",
    "ex2_uncert_settings[\"toggle_volt_cc\"] = true\n",
    "ex2_uncert_settings[\"toggle_gen_cc\"] = true\n",
    "experiment2[\"uncert\"] = Dict(\n",
    "    \"verbose\" => \"uncert\",\n",
    "    \"feeder\" => feeder,\n",
    "    \"settings\" => ex2_uncert_settings,\n",
    ")\n",
    "\n",
    "# ex2_gen_uncert:\n",
    "ex2_uncert_settings = copy(ex2_general_settings)\n",
    "ex2_uncert_settings[\"toggle_volt_cc\"] = false\n",
    "ex2_uncert_settings[\"toggle_gen_cc\"] = true\n",
    "experiment2[\"gen_uncert\"] = Dict(\n",
    "    \"verbose\" => \"gen_uncert\",\n",
    "    \"feeder\" => feeder,\n",
    "    \"settings\" => ex2_uncert_settings,\n",
    ")\n",
    "\n",
    "# Run \n",
    "experiment2 = run_experiment(experiment2)\n",
    "\n",
    "# Show results\n",
    "sleep(.2) # just to ensure correct printing order\n",
    "for case in keys(experiment2)\n",
    "    print(\">>> Case $case\")\n",
    "    sleep(.2)\n",
    "    display(experiment2[case][\"results\"])\n",
    "end"
   ]
  },
  {
   "cell_type": "code",
   "execution_count": 44,
   "metadata": {},
   "outputs": [
    {
     "name": "stdout",
     "output_type": "stream",
     "text": [
      "Saving uncert\n",
      "Saving gen_uncert\n",
      "Saving no_uncert\n",
      ">>>> Saved with timestamp 190320_1040\n"
     ]
    }
   ],
   "source": [
    "save_experiment(\"experiment2\", experiment2)"
   ]
  },
  {
   "cell_type": "markdown",
   "metadata": {},
   "source": [
    "## Experiment 3\n",
    "\n",
    "Same as before but instead of tighter voltage limits try higher load"
   ]
  },
  {
   "cell_type": "code",
   "execution_count": 10,
   "metadata": {},
   "outputs": [
    {
     "name": "stdout",
     "output_type": "stream",
     "text": [
      ">>>>> Reading feeder data from data/feeder_data/basecase_noneg/\n",
      "Running ex3_uncert\n",
      ">>>> Building Model\n",
      ">>>> Running Model\n",
      "MOSEK warning 705: #3 (nearly) zero elements are specified in sparse row ''(87) of matrix 'A'.\n",
      "MOSEK warning 705: #4 (nearly) zero elements are specified in sparse row ''(93) of matrix 'A'.\n",
      ">>>> Model finished with status OPTIMAL in 0.006354567 seconds\n",
      ">>>> Post-Processing\n",
      "\n",
      "Running ex3_gen_uncert\n",
      ">>>> Building Model\n",
      ">>>> Running Model\n",
      ">>>> Model finished with status OPTIMAL in 0.002476817 seconds\n",
      ">>>> Post-Processing\n",
      "\n",
      "Running ex3_no_uncert\n",
      ">>>> Building Model\n",
      ">>>> Running Model\n",
      ">>>> Model finished with status OPTIMAL in 0.00223549 seconds\n",
      ">>>> Post-Processing\n",
      "\n",
      ">>> Case uncert"
     ]
    },
    {
     "data": {
      "text/html": [
       "<table class=\"data-frame\"><thead><tr><th></th><th>objective</th><th>bus</th><th>gp</th><th>gq</th><th>voltage</th><th>alpha</th><th>lambda</th><th>pi</th><th>gamma</th><th>eta</th><th>delta_plus</th><th>delta_minus</th><th>mu_plus</th><th>mu_minus</th><th>voltvar</th><th>lambda_anc</th><th>rx_pi_i</th><th>rx_pi_a</th><th>r_sum_mu_d</th></tr><tr><th></th><th>Float64</th><th>Any</th><th>Any</th><th>Any</th><th>Any</th><th>Any</th><th>Any</th><th>Any</th><th>Float64</th><th>Any</th><th>Any</th><th>Any</th><th>Any</th><th>Any</th><th>Any</th><th>Any</th><th>Any</th><th>Any</th><th>Any</th></tr></thead><tbody><p>15 rows × 19 columns</p><tr><th>1</th><td>431.923</td><td>1</td><td>3.8177</td><td>1.0676</td><td>1.0</td><td>1.0</td><td>-100.0</td><td>-7.68782e-10</td><td>-31.6228</td><td>0</td><td>0</td><td>0</td><td>0</td><td>0</td><td>0</td><td>0</td><td>0</td><td>0</td><td>0</td></tr><tr><th>2</th><td>0.0</td><td>2</td><td>0</td><td>0</td><td>0.916252</td><td>0</td><td>-100.0</td><td>-0.000145897</td><td>0.0</td><td>-1.5754e-8</td><td>0</td><td>0</td><td>-3.26811e-6</td><td>-0.000764702</td><td>0.00363129</td><td>-100.0</td><td>-1.21581e-6</td><td>-6.40651e-12</td><td>1.1877e-6</td></tr><tr><th>3</th><td>0.0</td><td>3</td><td>0</td><td>0</td><td>0.950524</td><td>0</td><td>-100.0</td><td>-0.000106729</td><td>0.0</td><td>-5.32418e-6</td><td>0</td><td>0</td><td>-4.5928e-6</td><td>-5.34742e-5</td><td>0.0117104</td><td>-100.0</td><td>-7.46768e-5</td><td>-0.000102082</td><td>-2.95957e-5</td></tr><tr><th>4</th><td>0.0</td><td>4</td><td>0</td><td>0</td><td>1.00189</td><td>0</td><td>-99.9999</td><td>-2.54546e-5</td><td>0.0</td><td>-1.30342e-5</td><td>0</td><td>0</td><td>-1.39688e-5</td><td>-1.24571e-5</td><td>0.0211438</td><td>-100.0</td><td>-1.78105e-5</td><td>-7.46783e-5</td><td>-5.99181e-5</td></tr><tr><th>5</th><td>0.0</td><td>5</td><td>0</td><td>0</td><td>1.0105</td><td>0</td><td>-99.9999</td><td>-1.88947e-5</td><td>0.0</td><td>-1.3443e-5</td><td>0</td><td>0</td><td>-1.80855e-5</td><td>-9.65875e-6</td><td>0.0212127</td><td>-99.9999</td><td>-1.32194e-5</td><td>-1.78089e-5</td><td>-4.72767e-6</td></tr><tr><th>6</th><td>0.0</td><td>6</td><td>0</td><td>0</td><td>1.01952</td><td>0</td><td>-99.9999</td><td>-1.32239e-5</td><td>0.0</td><td>-1.37819e-5</td><td>0</td><td>0</td><td>-2.39752e-5</td><td>-7.56658e-6</td><td>0.0205562</td><td>-99.9999</td><td>-9.21983e-6</td><td>-1.31736e-5</td><td>-4.0367e-6</td></tr><tr><th>7</th><td>0.0</td><td>7</td><td>0.8</td><td>-0.0477213</td><td>1.04946</td><td>0</td><td>-99.9999</td><td>-2.49905e-7</td><td>0.0</td><td>-1.45891e-5</td><td>-88.4176</td><td>-2.06216e-6</td><td>-0.000103338</td><td>-4.4126e-6</td><td>0.0150349</td><td>-99.9999</td><td>-1.74825e-7</td><td>-9.25095e-6</td><td>-9.53643e-6</td></tr><tr><th>8</th><td>0.0</td><td>8</td><td>0</td><td>0</td><td>0.970333</td><td>0</td><td>-99.9999</td><td>-2.22249e-5</td><td>0.0</td><td>-1.47582e-5</td><td>0</td><td>0</td><td>-7.50706e-6</td><td>-5.08665e-5</td><td>0.0177988</td><td>-99.9999</td><td>-1.55604e-5</td><td>-1.08896e-5</td><td>4.53539e-6</td></tr><tr><th>9</th><td>0.0</td><td>9</td><td>0</td><td>0</td><td>1.00209</td><td>0</td><td>-99.9999</td><td>-1.55536e-5</td><td>0.0</td><td>-1.43558e-5</td><td>0</td><td>0</td><td>-1.67668e-5</td><td>-1.18817e-5</td><td>0.0209381</td><td>-99.9999</td><td>-1.08768e-5</td><td>-1.78007e-5</td><td>-7.42324e-6</td></tr><tr><th>10</th><td>0.0</td><td>10</td><td>0</td><td>0</td><td>1.00905</td><td>0</td><td>-99.9999</td><td>-1.1948e-5</td><td>0.0</td><td>-1.458e-5</td><td>0</td><td>0</td><td>-2.14214e-5</td><td>-9.38806e-6</td><td>0.020878</td><td>-99.9999</td><td>-8.35523e-6</td><td>-1.08766e-5</td><td>-2.59338e-6</td></tr><tr><th>11</th><td>0.0</td><td>11</td><td>0</td><td>0</td><td>1.02867</td><td>0</td><td>-99.9999</td><td>-3.9948e-6</td><td>0.0</td><td>-1.50543e-5</td><td>0</td><td>0</td><td>-4.7401e-5</td><td>-5.71073e-6</td><td>0.0188001</td><td>-99.9999</td><td>-2.79057e-6</td><td>-8.34627e-6</td><td>-5.67003e-6</td></tr><tr><th>12</th><td>0.0</td><td>12</td><td>0.8</td><td>0.123118</td><td>1.03787</td><td>0</td><td>-99.9999</td><td>-1.78169e-6</td><td>0.0</td><td>-1.51877e-5</td><td>-88.42</td><td>-3.30189e-6</td><td>-8.08371e-5</td><td>-4.89179e-6</td><td>0.0172062</td><td>-99.9999</td><td>-1.23996e-6</td><td>-2.78016e-6</td><td>-1.56447e-6</td></tr><tr><th>13</th><td>0.0</td><td>13</td><td>0</td><td>0</td><td>0.946901</td><td>0</td><td>-100.0</td><td>-0.000143532</td><td>0.0</td><td>-2.30165e-8</td><td>0</td><td>0</td><td>0.0</td><td>-6.20927e-5</td><td>0.0108927</td><td>-100.0</td><td>-1.1961e-6</td><td>-6.40651e-12</td><td>1.19611e-6</td></tr><tr><th>14</th><td>0.0</td><td>14</td><td>0</td><td>0</td><td>0.931799</td><td>0</td><td>-100.0</td><td>-0.000263481</td><td>0.0</td><td>-3.49059e-6</td><td>0</td><td>0</td><td>0.0</td><td>-0.000150305</td><td>0.00728316</td><td>-100.0</td><td>-0.000367084</td><td>-0.000199971</td><td>0.000167113</td></tr><tr><th>15</th><td>0.0</td><td>15</td><td>0</td><td>0</td><td>0.923057</td><td>0</td><td>-100.0</td><td>-0.000316239</td><td>0.0</td><td>-5.19685e-6</td><td>0</td><td>0</td><td>0.0</td><td>-0.000385657</td><td>0.00524191</td><td>-100.0</td><td>-0.000440607</td><td>-0.000367101</td><td>7.35063e-5</td></tr></tbody></table>"
      ],
      "text/latex": [
       "\\begin{tabular}{r|ccccccccccccccccccc}\n",
       "\t& objective & bus & gp & gq & voltage & alpha & lambda & pi & gamma & eta & delta\\_plus & delta\\_minus & mu\\_plus & mu\\_minus & voltvar & lambda\\_anc & rx\\_pi\\_i & rx\\_pi\\_a & r\\_sum\\_mu\\_d\\\\\n",
       "\t\\hline\n",
       "\t& Float64 & Any & Any & Any & Any & Any & Any & Any & Float64 & Any & Any & Any & Any & Any & Any & Any & Any & Any & Any\\\\\n",
       "\t\\hline\n",
       "\t1 & 431.923 & 1 & 3.8177 & 1.0676 & 1.0 & 1.0 & -100.0 & -7.68782e-10 & -31.6228 & 0 & 0 & 0 & 0 & 0 & 0 & 0 & 0 & 0 & 0 \\\\\n",
       "\t2 & 0.0 & 2 & 0 & 0 & 0.916252 & 0 & -100.0 & -0.000145897 & 0.0 & -1.5754e-8 & 0 & 0 & -3.26811e-6 & -0.000764702 & 0.00363129 & -100.0 & -1.21581e-6 & -6.40651e-12 & 1.1877e-6 \\\\\n",
       "\t3 & 0.0 & 3 & 0 & 0 & 0.950524 & 0 & -100.0 & -0.000106729 & 0.0 & -5.32418e-6 & 0 & 0 & -4.5928e-6 & -5.34742e-5 & 0.0117104 & -100.0 & -7.46768e-5 & -0.000102082 & -2.95957e-5 \\\\\n",
       "\t4 & 0.0 & 4 & 0 & 0 & 1.00189 & 0 & -99.9999 & -2.54546e-5 & 0.0 & -1.30342e-5 & 0 & 0 & -1.39688e-5 & -1.24571e-5 & 0.0211438 & -100.0 & -1.78105e-5 & -7.46783e-5 & -5.99181e-5 \\\\\n",
       "\t5 & 0.0 & 5 & 0 & 0 & 1.0105 & 0 & -99.9999 & -1.88947e-5 & 0.0 & -1.3443e-5 & 0 & 0 & -1.80855e-5 & -9.65875e-6 & 0.0212127 & -99.9999 & -1.32194e-5 & -1.78089e-5 & -4.72767e-6 \\\\\n",
       "\t6 & 0.0 & 6 & 0 & 0 & 1.01952 & 0 & -99.9999 & -1.32239e-5 & 0.0 & -1.37819e-5 & 0 & 0 & -2.39752e-5 & -7.56658e-6 & 0.0205562 & -99.9999 & -9.21983e-6 & -1.31736e-5 & -4.0367e-6 \\\\\n",
       "\t7 & 0.0 & 7 & 0.8 & -0.0477213 & 1.04946 & 0 & -99.9999 & -2.49905e-7 & 0.0 & -1.45891e-5 & -88.4176 & -2.06216e-6 & -0.000103338 & -4.4126e-6 & 0.0150349 & -99.9999 & -1.74825e-7 & -9.25095e-6 & -9.53643e-6 \\\\\n",
       "\t8 & 0.0 & 8 & 0 & 0 & 0.970333 & 0 & -99.9999 & -2.22249e-5 & 0.0 & -1.47582e-5 & 0 & 0 & -7.50706e-6 & -5.08665e-5 & 0.0177988 & -99.9999 & -1.55604e-5 & -1.08896e-5 & 4.53539e-6 \\\\\n",
       "\t9 & 0.0 & 9 & 0 & 0 & 1.00209 & 0 & -99.9999 & -1.55536e-5 & 0.0 & -1.43558e-5 & 0 & 0 & -1.67668e-5 & -1.18817e-5 & 0.0209381 & -99.9999 & -1.08768e-5 & -1.78007e-5 & -7.42324e-6 \\\\\n",
       "\t10 & 0.0 & 10 & 0 & 0 & 1.00905 & 0 & -99.9999 & -1.1948e-5 & 0.0 & -1.458e-5 & 0 & 0 & -2.14214e-5 & -9.38806e-6 & 0.020878 & -99.9999 & -8.35523e-6 & -1.08766e-5 & -2.59338e-6 \\\\\n",
       "\t11 & 0.0 & 11 & 0 & 0 & 1.02867 & 0 & -99.9999 & -3.9948e-6 & 0.0 & -1.50543e-5 & 0 & 0 & -4.7401e-5 & -5.71073e-6 & 0.0188001 & -99.9999 & -2.79057e-6 & -8.34627e-6 & -5.67003e-6 \\\\\n",
       "\t12 & 0.0 & 12 & 0.8 & 0.123118 & 1.03787 & 0 & -99.9999 & -1.78169e-6 & 0.0 & -1.51877e-5 & -88.42 & -3.30189e-6 & -8.08371e-5 & -4.89179e-6 & 0.0172062 & -99.9999 & -1.23996e-6 & -2.78016e-6 & -1.56447e-6 \\\\\n",
       "\t13 & 0.0 & 13 & 0 & 0 & 0.946901 & 0 & -100.0 & -0.000143532 & 0.0 & -2.30165e-8 & 0 & 0 & 0.0 & -6.20927e-5 & 0.0108927 & -100.0 & -1.1961e-6 & -6.40651e-12 & 1.19611e-6 \\\\\n",
       "\t14 & 0.0 & 14 & 0 & 0 & 0.931799 & 0 & -100.0 & -0.000263481 & 0.0 & -3.49059e-6 & 0 & 0 & 0.0 & -0.000150305 & 0.00728316 & -100.0 & -0.000367084 & -0.000199971 & 0.000167113 \\\\\n",
       "\t15 & 0.0 & 15 & 0 & 0 & 0.923057 & 0 & -100.0 & -0.000316239 & 0.0 & -5.19685e-6 & 0 & 0 & 0.0 & -0.000385657 & 0.00524191 & -100.0 & -0.000440607 & -0.000367101 & 7.35063e-5 \\\\\n",
       "\\end{tabular}\n"
      ],
      "text/plain": [
       "15×19 DataFrame. Omitted printing of 12 columns\n",
       "│ Row │ objective │ bus │ gp     │ gq         │ voltage  │ alpha │ lambda   │\n",
       "│     │ \u001b[90mFloat64\u001b[39m   │ \u001b[90mAny\u001b[39m │ \u001b[90mAny\u001b[39m    │ \u001b[90mAny\u001b[39m        │ \u001b[90mAny\u001b[39m      │ \u001b[90mAny\u001b[39m   │ \u001b[90mAny\u001b[39m      │\n",
       "├─────┼───────────┼─────┼────────┼────────────┼──────────┼───────┼──────────┤\n",
       "│ 1   │ 431.923   │ 1   │ 3.8177 │ 1.0676     │ 1.0      │ 1.0   │ -100.0   │\n",
       "│ 2   │ 0.0       │ 2   │ 0      │ 0          │ 0.916252 │ 0     │ -100.0   │\n",
       "│ 3   │ 0.0       │ 3   │ 0      │ 0          │ 0.950524 │ 0     │ -100.0   │\n",
       "│ 4   │ 0.0       │ 4   │ 0      │ 0          │ 1.00189  │ 0     │ -99.9999 │\n",
       "│ 5   │ 0.0       │ 5   │ 0      │ 0          │ 1.0105   │ 0     │ -99.9999 │\n",
       "│ 6   │ 0.0       │ 6   │ 0      │ 0          │ 1.01952  │ 0     │ -99.9999 │\n",
       "│ 7   │ 0.0       │ 7   │ 0.8    │ -0.0477213 │ 1.04946  │ 0     │ -99.9999 │\n",
       "│ 8   │ 0.0       │ 8   │ 0      │ 0          │ 0.970333 │ 0     │ -99.9999 │\n",
       "│ 9   │ 0.0       │ 9   │ 0      │ 0          │ 1.00209  │ 0     │ -99.9999 │\n",
       "│ 10  │ 0.0       │ 10  │ 0      │ 0          │ 1.00905  │ 0     │ -99.9999 │\n",
       "│ 11  │ 0.0       │ 11  │ 0      │ 0          │ 1.02867  │ 0     │ -99.9999 │\n",
       "│ 12  │ 0.0       │ 12  │ 0.8    │ 0.123118   │ 1.03787  │ 0     │ -99.9999 │\n",
       "│ 13  │ 0.0       │ 13  │ 0      │ 0          │ 0.946901 │ 0     │ -100.0   │\n",
       "│ 14  │ 0.0       │ 14  │ 0      │ 0          │ 0.931799 │ 0     │ -100.0   │\n",
       "│ 15  │ 0.0       │ 15  │ 0      │ 0          │ 0.923057 │ 0     │ -100.0   │"
      ]
     },
     "metadata": {},
     "output_type": "display_data"
    },
    {
     "name": "stdout",
     "output_type": "stream",
     "text": [
      ">>> Case gen_uncert"
     ]
    },
    {
     "data": {
      "text/html": [
       "<table class=\"data-frame\"><thead><tr><th></th><th>objective</th><th>bus</th><th>gp</th><th>gq</th><th>voltage</th><th>alpha</th><th>lambda</th><th>pi</th><th>gamma</th><th>eta</th><th>delta_plus</th><th>delta_minus</th><th>mu_plus</th><th>mu_minus</th><th>voltvar</th><th>lambda_anc</th><th>rx_pi_i</th><th>rx_pi_a</th><th>r_sum_mu_d</th></tr><tr><th></th><th>Float64</th><th>Any</th><th>Any</th><th>Any</th><th>Any</th><th>Any</th><th>Any</th><th>Any</th><th>Float64</th><th>Any</th><th>Any</th><th>Any</th><th>Any</th><th>Any</th><th>Any</th><th>Any</th><th>Any</th><th>Any</th><th>Any</th></tr></thead><tbody><p>15 rows × 19 columns</p><tr><th>1</th><td>431.923</td><td>1</td><td>3.8177</td><td>1.06751</td><td>1.0</td><td>1.0</td><td>-100.0</td><td>0.0</td><td>-31.6228</td><td>0</td><td>0</td><td>0</td><td>0</td><td>0</td><td>0</td><td>0</td><td>0</td><td>0</td><td>0</td></tr><tr><th>2</th><td>0.0</td><td>2</td><td>0</td><td>0</td><td>0.916265</td><td>0</td><td>-100.0</td><td>-1.46431e-5</td><td>0.0</td><td>0</td><td>0</td><td>0</td><td>-5.19691e-7</td><td>-7.75417e-5</td><td>0</td><td>-100.0</td><td>-1.22026e-7</td><td>0.0</td><td>1.22026e-7</td></tr><tr><th>3</th><td>0.0</td><td>3</td><td>0</td><td>0</td><td>0.950548</td><td>0</td><td>-100.0</td><td>-1.06024e-5</td><td>0.0</td><td>0</td><td>0</td><td>0</td><td>-6.95592e-7</td><td>-3.72078e-6</td><td>0</td><td>-100.0</td><td>-7.41829e-6</td><td>-1.02455e-5</td><td>-2.82723e-6</td></tr><tr><th>4</th><td>0.0</td><td>4</td><td>0</td><td>0</td><td>1.00193</td><td>0</td><td>-100.0</td><td>-3.07235e-6</td><td>0.0</td><td>0</td><td>0</td><td>0</td><td>-1.49108e-6</td><td>-9.49878e-7</td><td>0</td><td>-100.0</td><td>-2.14971e-6</td><td>-7.41843e-6</td><td>-5.26872e-6</td></tr><tr><th>5</th><td>0.0</td><td>5</td><td>0</td><td>0</td><td>1.01167</td><td>0</td><td>-100.0</td><td>-2.38737e-6</td><td>0.0</td><td>0</td><td>0</td><td>0</td><td>-1.87868e-6</td><td>-8.13124e-7</td><td>0</td><td>-100.0</td><td>-1.67029e-6</td><td>-2.14952e-6</td><td>-4.79231e-7</td></tr><tr><th>6</th><td>0.0</td><td>6</td><td>0</td><td>0</td><td>1.02172</td><td>0</td><td>-100.0</td><td>-1.81109e-6</td><td>0.0</td><td>0</td><td>0</td><td>0</td><td>-2.49437e-6</td><td>-7.01822e-7</td><td>0</td><td>-100.0</td><td>-1.26271e-6</td><td>-1.6645e-6</td><td>-4.01791e-7</td></tr><tr><th>7</th><td>0.0</td><td>7</td><td>0.8</td><td>-0.00573882</td><td>1.05434</td><td>0</td><td>-100.0</td><td>-4.76193e-7</td><td>0.0</td><td>0</td><td>-88.4189</td><td>-3.44537e-7</td><td>-1.01621e-5</td><td>-4.74925e-7</td><td>0</td><td>-100.0</td><td>-3.33128e-7</td><td>-1.26698e-6</td><td>-9.33847e-7</td></tr><tr><th>8</th><td>0.0</td><td>8</td><td>0</td><td>0</td><td>0.96786</td><td>0</td><td>-100.0</td><td>-2.67144e-6</td><td>0.0</td><td>0</td><td>0</td><td>0</td><td>-0.0</td><td>-1.95064e-6</td><td>0</td><td>-100.0</td><td>-1.87037e-6</td><td>-1.66633e-6</td><td>2.04037e-7</td></tr><tr><th>9</th><td>0.0</td><td>9</td><td>0</td><td>0</td><td>0.999696</td><td>0</td><td>-100.0</td><td>-2.38002e-6</td><td>0.0</td><td>0</td><td>0</td><td>0</td><td>-1.41964e-6</td><td>-0.0</td><td>0</td><td>-100.0</td><td>-1.66437e-6</td><td>-2.14853e-6</td><td>-4.84157e-7</td></tr><tr><th>10</th><td>0.0</td><td>10</td><td>0</td><td>0</td><td>1.00608</td><td>0</td><td>-100.0</td><td>-2.19472e-6</td><td>0.0</td><td>0</td><td>0</td><td>0</td><td>-1.6635e-6</td><td>-8.67001e-7</td><td>0</td><td>-100.0</td><td>-1.53477e-6</td><td>-1.66435e-6</td><td>-1.29578e-7</td></tr><tr><th>11</th><td>0.0</td><td>11</td><td>0</td><td>0</td><td>1.02434</td><td>0</td><td>-100.0</td><td>-1.80264e-6</td><td>0.0</td><td>0</td><td>0</td><td>0</td><td>-2.88856e-6</td><td>-6.40486e-7</td><td>0</td><td>-100.0</td><td>-1.25923e-6</td><td>-1.53312e-6</td><td>-2.73891e-7</td></tr><tr><th>12</th><td>0.0</td><td>12</td><td>0.8</td><td>0.0812299</td><td>1.03298</td><td>0</td><td>-100.0</td><td>-1.70098e-6</td><td>0.0</td><td>0</td><td>-88.4188</td><td>-3.40115e-7</td><td>-4.0002e-6</td><td>-5.6589e-7</td><td>0</td><td>-100.0</td><td>-1.18379e-6</td><td>-1.25454e-6</td><td>-7.07468e-8</td></tr><tr><th>13</th><td>0.0</td><td>13</td><td>0</td><td>0</td><td>0.946901</td><td>0</td><td>-100.0</td><td>0.0</td><td>0.0</td><td>0</td><td>0</td><td>0</td><td>-0.0</td><td>-0.0</td><td>0</td><td>-100.0</td><td>0.0</td><td>0.0</td><td>0.0</td></tr><tr><th>14</th><td>0.0</td><td>14</td><td>0</td><td>0</td><td>0.931799</td><td>0</td><td>-100.0</td><td>0.0</td><td>0.0</td><td>0</td><td>0</td><td>0</td><td>-0.0</td><td>-0.0</td><td>0</td><td>-100.0</td><td>0.0</td><td>0.0</td><td>0.0</td></tr><tr><th>15</th><td>0.0</td><td>15</td><td>0</td><td>0</td><td>0.923057</td><td>0</td><td>-100.0</td><td>0.0</td><td>0.0</td><td>0</td><td>0</td><td>0</td><td>-0.0</td><td>-0.0</td><td>0</td><td>-100.0</td><td>0.0</td><td>0.0</td><td>0.0</td></tr></tbody></table>"
      ],
      "text/latex": [
       "\\begin{tabular}{r|ccccccccccccccccccc}\n",
       "\t& objective & bus & gp & gq & voltage & alpha & lambda & pi & gamma & eta & delta\\_plus & delta\\_minus & mu\\_plus & mu\\_minus & voltvar & lambda\\_anc & rx\\_pi\\_i & rx\\_pi\\_a & r\\_sum\\_mu\\_d\\\\\n",
       "\t\\hline\n",
       "\t& Float64 & Any & Any & Any & Any & Any & Any & Any & Float64 & Any & Any & Any & Any & Any & Any & Any & Any & Any & Any\\\\\n",
       "\t\\hline\n",
       "\t1 & 431.923 & 1 & 3.8177 & 1.06751 & 1.0 & 1.0 & -100.0 & 0.0 & -31.6228 & 0 & 0 & 0 & 0 & 0 & 0 & 0 & 0 & 0 & 0 \\\\\n",
       "\t2 & 0.0 & 2 & 0 & 0 & 0.916265 & 0 & -100.0 & -1.46431e-5 & 0.0 & 0 & 0 & 0 & -5.19691e-7 & -7.75417e-5 & 0 & -100.0 & -1.22026e-7 & 0.0 & 1.22026e-7 \\\\\n",
       "\t3 & 0.0 & 3 & 0 & 0 & 0.950548 & 0 & -100.0 & -1.06024e-5 & 0.0 & 0 & 0 & 0 & -6.95592e-7 & -3.72078e-6 & 0 & -100.0 & -7.41829e-6 & -1.02455e-5 & -2.82723e-6 \\\\\n",
       "\t4 & 0.0 & 4 & 0 & 0 & 1.00193 & 0 & -100.0 & -3.07235e-6 & 0.0 & 0 & 0 & 0 & -1.49108e-6 & -9.49878e-7 & 0 & -100.0 & -2.14971e-6 & -7.41843e-6 & -5.26872e-6 \\\\\n",
       "\t5 & 0.0 & 5 & 0 & 0 & 1.01167 & 0 & -100.0 & -2.38737e-6 & 0.0 & 0 & 0 & 0 & -1.87868e-6 & -8.13124e-7 & 0 & -100.0 & -1.67029e-6 & -2.14952e-6 & -4.79231e-7 \\\\\n",
       "\t6 & 0.0 & 6 & 0 & 0 & 1.02172 & 0 & -100.0 & -1.81109e-6 & 0.0 & 0 & 0 & 0 & -2.49437e-6 & -7.01822e-7 & 0 & -100.0 & -1.26271e-6 & -1.6645e-6 & -4.01791e-7 \\\\\n",
       "\t7 & 0.0 & 7 & 0.8 & -0.00573882 & 1.05434 & 0 & -100.0 & -4.76193e-7 & 0.0 & 0 & -88.4189 & -3.44537e-7 & -1.01621e-5 & -4.74925e-7 & 0 & -100.0 & -3.33128e-7 & -1.26698e-6 & -9.33847e-7 \\\\\n",
       "\t8 & 0.0 & 8 & 0 & 0 & 0.96786 & 0 & -100.0 & -2.67144e-6 & 0.0 & 0 & 0 & 0 & -0.0 & -1.95064e-6 & 0 & -100.0 & -1.87037e-6 & -1.66633e-6 & 2.04037e-7 \\\\\n",
       "\t9 & 0.0 & 9 & 0 & 0 & 0.999696 & 0 & -100.0 & -2.38002e-6 & 0.0 & 0 & 0 & 0 & -1.41964e-6 & -0.0 & 0 & -100.0 & -1.66437e-6 & -2.14853e-6 & -4.84157e-7 \\\\\n",
       "\t10 & 0.0 & 10 & 0 & 0 & 1.00608 & 0 & -100.0 & -2.19472e-6 & 0.0 & 0 & 0 & 0 & -1.6635e-6 & -8.67001e-7 & 0 & -100.0 & -1.53477e-6 & -1.66435e-6 & -1.29578e-7 \\\\\n",
       "\t11 & 0.0 & 11 & 0 & 0 & 1.02434 & 0 & -100.0 & -1.80264e-6 & 0.0 & 0 & 0 & 0 & -2.88856e-6 & -6.40486e-7 & 0 & -100.0 & -1.25923e-6 & -1.53312e-6 & -2.73891e-7 \\\\\n",
       "\t12 & 0.0 & 12 & 0.8 & 0.0812299 & 1.03298 & 0 & -100.0 & -1.70098e-6 & 0.0 & 0 & -88.4188 & -3.40115e-7 & -4.0002e-6 & -5.6589e-7 & 0 & -100.0 & -1.18379e-6 & -1.25454e-6 & -7.07468e-8 \\\\\n",
       "\t13 & 0.0 & 13 & 0 & 0 & 0.946901 & 0 & -100.0 & 0.0 & 0.0 & 0 & 0 & 0 & -0.0 & -0.0 & 0 & -100.0 & 0.0 & 0.0 & 0.0 \\\\\n",
       "\t14 & 0.0 & 14 & 0 & 0 & 0.931799 & 0 & -100.0 & 0.0 & 0.0 & 0 & 0 & 0 & -0.0 & -0.0 & 0 & -100.0 & 0.0 & 0.0 & 0.0 \\\\\n",
       "\t15 & 0.0 & 15 & 0 & 0 & 0.923057 & 0 & -100.0 & 0.0 & 0.0 & 0 & 0 & 0 & -0.0 & -0.0 & 0 & -100.0 & 0.0 & 0.0 & 0.0 \\\\\n",
       "\\end{tabular}\n"
      ],
      "text/plain": [
       "15×19 DataFrame. Omitted printing of 12 columns\n",
       "│ Row │ objective │ bus │ gp     │ gq          │ voltage  │ alpha │ lambda │\n",
       "│     │ \u001b[90mFloat64\u001b[39m   │ \u001b[90mAny\u001b[39m │ \u001b[90mAny\u001b[39m    │ \u001b[90mAny\u001b[39m         │ \u001b[90mAny\u001b[39m      │ \u001b[90mAny\u001b[39m   │ \u001b[90mAny\u001b[39m    │\n",
       "├─────┼───────────┼─────┼────────┼─────────────┼──────────┼───────┼────────┤\n",
       "│ 1   │ 431.923   │ 1   │ 3.8177 │ 1.06751     │ 1.0      │ 1.0   │ -100.0 │\n",
       "│ 2   │ 0.0       │ 2   │ 0      │ 0           │ 0.916265 │ 0     │ -100.0 │\n",
       "│ 3   │ 0.0       │ 3   │ 0      │ 0           │ 0.950548 │ 0     │ -100.0 │\n",
       "│ 4   │ 0.0       │ 4   │ 0      │ 0           │ 1.00193  │ 0     │ -100.0 │\n",
       "│ 5   │ 0.0       │ 5   │ 0      │ 0           │ 1.01167  │ 0     │ -100.0 │\n",
       "│ 6   │ 0.0       │ 6   │ 0      │ 0           │ 1.02172  │ 0     │ -100.0 │\n",
       "│ 7   │ 0.0       │ 7   │ 0.8    │ -0.00573882 │ 1.05434  │ 0     │ -100.0 │\n",
       "│ 8   │ 0.0       │ 8   │ 0      │ 0           │ 0.96786  │ 0     │ -100.0 │\n",
       "│ 9   │ 0.0       │ 9   │ 0      │ 0           │ 0.999696 │ 0     │ -100.0 │\n",
       "│ 10  │ 0.0       │ 10  │ 0      │ 0           │ 1.00608  │ 0     │ -100.0 │\n",
       "│ 11  │ 0.0       │ 11  │ 0      │ 0           │ 1.02434  │ 0     │ -100.0 │\n",
       "│ 12  │ 0.0       │ 12  │ 0.8    │ 0.0812299   │ 1.03298  │ 0     │ -100.0 │\n",
       "│ 13  │ 0.0       │ 13  │ 0      │ 0           │ 0.946901 │ 0     │ -100.0 │\n",
       "│ 14  │ 0.0       │ 14  │ 0      │ 0           │ 0.931799 │ 0     │ -100.0 │\n",
       "│ 15  │ 0.0       │ 15  │ 0      │ 0           │ 0.923057 │ 0     │ -100.0 │"
      ]
     },
     "metadata": {},
     "output_type": "display_data"
    },
    {
     "name": "stdout",
     "output_type": "stream",
     "text": [
      ">>> Case no_uncert"
     ]
    },
    {
     "data": {
      "text/html": [
       "<table class=\"data-frame\"><thead><tr><th></th><th>objective</th><th>bus</th><th>gp</th><th>gq</th><th>voltage</th><th>alpha</th><th>lambda</th><th>pi</th><th>gamma</th><th>eta</th><th>delta_plus</th><th>delta_minus</th><th>mu_plus</th><th>mu_minus</th><th>voltvar</th><th>lambda_anc</th><th>rx_pi_i</th><th>rx_pi_a</th><th>r_sum_mu_d</th></tr><tr><th></th><th>Float64</th><th>Any</th><th>Any</th><th>Any</th><th>Any</th><th>Any</th><th>Any</th><th>Any</th><th>Float64</th><th>Any</th><th>Any</th><th>Any</th><th>Any</th><th>Any</th><th>Any</th><th>Any</th><th>Any</th><th>Any</th><th>Any</th></tr></thead><tbody><p>15 rows × 19 columns</p><tr><th>1</th><td>399.29</td><td>1</td><td>3.8177</td><td>1.07126</td><td>1.0</td><td>0</td><td>-100.0</td><td>0.0</td><td>0.0</td><td>0</td><td>0</td><td>0</td><td>0</td><td>0</td><td>0</td><td>0</td><td>0</td><td>0</td><td>0</td></tr><tr><th>2</th><td>0.0</td><td>2</td><td>0</td><td>0</td><td>0.915774</td><td>0</td><td>-100.0</td><td>-7.20018e-6</td><td>0.0</td><td>0</td><td>0</td><td>0</td><td>-0.0</td><td>-3.84094e-5</td><td>0</td><td>-100.0</td><td>-6.00015e-8</td><td>0.0</td><td>6.00015e-8</td></tr><tr><th>3</th><td>0.0</td><td>3</td><td>0</td><td>0</td><td>0.949578</td><td>0</td><td>-100.0</td><td>-5.07783e-6</td><td>0.0</td><td>0</td><td>0</td><td>0</td><td>-2.51789e-7</td><td>-1.51122e-6</td><td>0</td><td>-100.0</td><td>-3.55287e-6</td><td>-5.03784e-6</td><td>-1.48497e-6</td></tr><tr><th>4</th><td>0.0</td><td>4</td><td>0</td><td>0</td><td>1.00027</td><td>0</td><td>-100.0</td><td>-1.25314e-6</td><td>0.0</td><td>0</td><td>0</td><td>0</td><td>-6.13942e-7</td><td>-0.0</td><td>0</td><td>-100.0</td><td>-8.76815e-7</td><td>-3.55294e-6</td><td>-2.67613e-6</td></tr><tr><th>5</th><td>0.0</td><td>5</td><td>0</td><td>0</td><td>1.01009</td><td>0</td><td>-100.0</td><td>-9.36669e-7</td><td>0.0</td><td>0</td><td>0</td><td>0</td><td>-7.81308e-7</td><td>-3.25326e-7</td><td>0</td><td>-100.0</td><td>-6.55326e-7</td><td>-8.76736e-7</td><td>-2.21411e-7</td></tr><tr><th>6</th><td>0.0</td><td>6</td><td>0</td><td>0</td><td>1.02022</td><td>0</td><td>-100.0</td><td>-6.68596e-7</td><td>0.0</td><td>0</td><td>0</td><td>0</td><td>-1.05106e-6</td><td>-2.82462e-7</td><td>0</td><td>-100.0</td><td>-4.66152e-7</td><td>-6.53056e-7</td><td>-1.86904e-7</td></tr><tr><th>7</th><td>0.0</td><td>7</td><td>0.8</td><td>-0.00323173</td><td>1.05305</td><td>0</td><td>-100.0</td><td>-3.86404e-8</td><td>0.0</td><td>0</td><td>-89.0495</td><td>-8.43607e-8</td><td>-4.76745e-6</td><td>-1.9593e-7</td><td>0</td><td>-100.0</td><td>-2.70315e-8</td><td>-4.67726e-7</td><td>-4.40694e-7</td></tr><tr><th>8</th><td>0.0</td><td>8</td><td>0</td><td>0</td><td>0.965763</td><td>0</td><td>-100.0</td><td>-9.90414e-7</td><td>0.0</td><td>0</td><td>0</td><td>0</td><td>-0.0</td><td>-7.79882e-7</td><td>0</td><td>-100.0</td><td>-6.93422e-7</td><td>-6.11847e-7</td><td>8.15756e-8</td></tr><tr><th>9</th><td>0.0</td><td>9</td><td>0</td><td>0</td><td>0.997666</td><td>0</td><td>-100.0</td><td>-8.739e-7</td><td>0.0</td><td>0</td><td>0</td><td>0</td><td>-6.07748e-7</td><td>-0.0</td><td>0</td><td>-100.0</td><td>-6.11129e-7</td><td>-8.76334e-7</td><td>-2.65205e-7</td></tr><tr><th>10</th><td>0.0</td><td>10</td><td>0</td><td>0</td><td>1.00397</td><td>0</td><td>-100.0</td><td>-7.75796e-7</td><td>0.0</td><td>0</td><td>0</td><td>0</td><td>-7.21969e-7</td><td>-0.0</td><td>0</td><td>-100.0</td><td>-5.42515e-7</td><td>-6.11119e-7</td><td>-6.86036e-8</td></tr><tr><th>11</th><td>0.0</td><td>11</td><td>0</td><td>0</td><td>1.02206</td><td>0</td><td>-100.0</td><td>-5.8893e-7</td><td>0.0</td><td>0</td><td>0</td><td>0</td><td>-1.31529e-6</td><td>-2.56024e-7</td><td>0</td><td>-100.0</td><td>-4.11397e-7</td><td>-5.41933e-7</td><td>-1.30536e-7</td></tr><tr><th>12</th><td>0.0</td><td>12</td><td>0.8</td><td>0.0749762</td><td>1.03063</td><td>0</td><td>-100.0</td><td>-5.40121e-7</td><td>0.0</td><td>0</td><td>-89.05</td><td>-8.50901e-8</td><td>-1.8779e-6</td><td>-2.28947e-7</td><td>0</td><td>-100.0</td><td>-3.75895e-7</td><td>-4.09863e-7</td><td>-3.39683e-8</td></tr><tr><th>13</th><td>0.0</td><td>13</td><td>0</td><td>0</td><td>0.946901</td><td>0</td><td>-100.0</td><td>0.0</td><td>0.0</td><td>0</td><td>0</td><td>0</td><td>-0.0</td><td>-0.0</td><td>0</td><td>-100.0</td><td>0.0</td><td>0.0</td><td>0.0</td></tr><tr><th>14</th><td>0.0</td><td>14</td><td>0</td><td>0</td><td>0.931799</td><td>0</td><td>-100.0</td><td>0.0</td><td>0.0</td><td>0</td><td>0</td><td>0</td><td>-0.0</td><td>-0.0</td><td>0</td><td>-100.0</td><td>0.0</td><td>0.0</td><td>0.0</td></tr><tr><th>15</th><td>0.0</td><td>15</td><td>0</td><td>0</td><td>0.923057</td><td>0</td><td>-100.0</td><td>0.0</td><td>0.0</td><td>0</td><td>0</td><td>0</td><td>-0.0</td><td>-0.0</td><td>0</td><td>-100.0</td><td>0.0</td><td>0.0</td><td>0.0</td></tr></tbody></table>"
      ],
      "text/latex": [
       "\\begin{tabular}{r|ccccccccccccccccccc}\n",
       "\t& objective & bus & gp & gq & voltage & alpha & lambda & pi & gamma & eta & delta\\_plus & delta\\_minus & mu\\_plus & mu\\_minus & voltvar & lambda\\_anc & rx\\_pi\\_i & rx\\_pi\\_a & r\\_sum\\_mu\\_d\\\\\n",
       "\t\\hline\n",
       "\t& Float64 & Any & Any & Any & Any & Any & Any & Any & Float64 & Any & Any & Any & Any & Any & Any & Any & Any & Any & Any\\\\\n",
       "\t\\hline\n",
       "\t1 & 399.29 & 1 & 3.8177 & 1.07126 & 1.0 & 0 & -100.0 & 0.0 & 0.0 & 0 & 0 & 0 & 0 & 0 & 0 & 0 & 0 & 0 & 0 \\\\\n",
       "\t2 & 0.0 & 2 & 0 & 0 & 0.915774 & 0 & -100.0 & -7.20018e-6 & 0.0 & 0 & 0 & 0 & -0.0 & -3.84094e-5 & 0 & -100.0 & -6.00015e-8 & 0.0 & 6.00015e-8 \\\\\n",
       "\t3 & 0.0 & 3 & 0 & 0 & 0.949578 & 0 & -100.0 & -5.07783e-6 & 0.0 & 0 & 0 & 0 & -2.51789e-7 & -1.51122e-6 & 0 & -100.0 & -3.55287e-6 & -5.03784e-6 & -1.48497e-6 \\\\\n",
       "\t4 & 0.0 & 4 & 0 & 0 & 1.00027 & 0 & -100.0 & -1.25314e-6 & 0.0 & 0 & 0 & 0 & -6.13942e-7 & -0.0 & 0 & -100.0 & -8.76815e-7 & -3.55294e-6 & -2.67613e-6 \\\\\n",
       "\t5 & 0.0 & 5 & 0 & 0 & 1.01009 & 0 & -100.0 & -9.36669e-7 & 0.0 & 0 & 0 & 0 & -7.81308e-7 & -3.25326e-7 & 0 & -100.0 & -6.55326e-7 & -8.76736e-7 & -2.21411e-7 \\\\\n",
       "\t6 & 0.0 & 6 & 0 & 0 & 1.02022 & 0 & -100.0 & -6.68596e-7 & 0.0 & 0 & 0 & 0 & -1.05106e-6 & -2.82462e-7 & 0 & -100.0 & -4.66152e-7 & -6.53056e-7 & -1.86904e-7 \\\\\n",
       "\t7 & 0.0 & 7 & 0.8 & -0.00323173 & 1.05305 & 0 & -100.0 & -3.86404e-8 & 0.0 & 0 & -89.0495 & -8.43607e-8 & -4.76745e-6 & -1.9593e-7 & 0 & -100.0 & -2.70315e-8 & -4.67726e-7 & -4.40694e-7 \\\\\n",
       "\t8 & 0.0 & 8 & 0 & 0 & 0.965763 & 0 & -100.0 & -9.90414e-7 & 0.0 & 0 & 0 & 0 & -0.0 & -7.79882e-7 & 0 & -100.0 & -6.93422e-7 & -6.11847e-7 & 8.15756e-8 \\\\\n",
       "\t9 & 0.0 & 9 & 0 & 0 & 0.997666 & 0 & -100.0 & -8.739e-7 & 0.0 & 0 & 0 & 0 & -6.07748e-7 & -0.0 & 0 & -100.0 & -6.11129e-7 & -8.76334e-7 & -2.65205e-7 \\\\\n",
       "\t10 & 0.0 & 10 & 0 & 0 & 1.00397 & 0 & -100.0 & -7.75796e-7 & 0.0 & 0 & 0 & 0 & -7.21969e-7 & -0.0 & 0 & -100.0 & -5.42515e-7 & -6.11119e-7 & -6.86036e-8 \\\\\n",
       "\t11 & 0.0 & 11 & 0 & 0 & 1.02206 & 0 & -100.0 & -5.8893e-7 & 0.0 & 0 & 0 & 0 & -1.31529e-6 & -2.56024e-7 & 0 & -100.0 & -4.11397e-7 & -5.41933e-7 & -1.30536e-7 \\\\\n",
       "\t12 & 0.0 & 12 & 0.8 & 0.0749762 & 1.03063 & 0 & -100.0 & -5.40121e-7 & 0.0 & 0 & -89.05 & -8.50901e-8 & -1.8779e-6 & -2.28947e-7 & 0 & -100.0 & -3.75895e-7 & -4.09863e-7 & -3.39683e-8 \\\\\n",
       "\t13 & 0.0 & 13 & 0 & 0 & 0.946901 & 0 & -100.0 & 0.0 & 0.0 & 0 & 0 & 0 & -0.0 & -0.0 & 0 & -100.0 & 0.0 & 0.0 & 0.0 \\\\\n",
       "\t14 & 0.0 & 14 & 0 & 0 & 0.931799 & 0 & -100.0 & 0.0 & 0.0 & 0 & 0 & 0 & -0.0 & -0.0 & 0 & -100.0 & 0.0 & 0.0 & 0.0 \\\\\n",
       "\t15 & 0.0 & 15 & 0 & 0 & 0.923057 & 0 & -100.0 & 0.0 & 0.0 & 0 & 0 & 0 & -0.0 & -0.0 & 0 & -100.0 & 0.0 & 0.0 & 0.0 \\\\\n",
       "\\end{tabular}\n"
      ],
      "text/plain": [
       "15×19 DataFrame. Omitted printing of 12 columns\n",
       "│ Row │ objective │ bus │ gp     │ gq          │ voltage  │ alpha │ lambda │\n",
       "│     │ \u001b[90mFloat64\u001b[39m   │ \u001b[90mAny\u001b[39m │ \u001b[90mAny\u001b[39m    │ \u001b[90mAny\u001b[39m         │ \u001b[90mAny\u001b[39m      │ \u001b[90mAny\u001b[39m   │ \u001b[90mAny\u001b[39m    │\n",
       "├─────┼───────────┼─────┼────────┼─────────────┼──────────┼───────┼────────┤\n",
       "│ 1   │ 399.29    │ 1   │ 3.8177 │ 1.07126     │ 1.0      │ 0     │ -100.0 │\n",
       "│ 2   │ 0.0       │ 2   │ 0      │ 0           │ 0.915774 │ 0     │ -100.0 │\n",
       "│ 3   │ 0.0       │ 3   │ 0      │ 0           │ 0.949578 │ 0     │ -100.0 │\n",
       "│ 4   │ 0.0       │ 4   │ 0      │ 0           │ 1.00027  │ 0     │ -100.0 │\n",
       "│ 5   │ 0.0       │ 5   │ 0      │ 0           │ 1.01009  │ 0     │ -100.0 │\n",
       "│ 6   │ 0.0       │ 6   │ 0      │ 0           │ 1.02022  │ 0     │ -100.0 │\n",
       "│ 7   │ 0.0       │ 7   │ 0.8    │ -0.00323173 │ 1.05305  │ 0     │ -100.0 │\n",
       "│ 8   │ 0.0       │ 8   │ 0      │ 0           │ 0.965763 │ 0     │ -100.0 │\n",
       "│ 9   │ 0.0       │ 9   │ 0      │ 0           │ 0.997666 │ 0     │ -100.0 │\n",
       "│ 10  │ 0.0       │ 10  │ 0      │ 0           │ 1.00397  │ 0     │ -100.0 │\n",
       "│ 11  │ 0.0       │ 11  │ 0      │ 0           │ 1.02206  │ 0     │ -100.0 │\n",
       "│ 12  │ 0.0       │ 12  │ 0.8    │ 0.0749762   │ 1.03063  │ 0     │ -100.0 │\n",
       "│ 13  │ 0.0       │ 13  │ 0      │ 0           │ 0.946901 │ 0     │ -100.0 │\n",
       "│ 14  │ 0.0       │ 14  │ 0      │ 0           │ 0.931799 │ 0     │ -100.0 │\n",
       "│ 15  │ 0.0       │ 15  │ 0      │ 0           │ 0.923057 │ 0     │ -100.0 │"
      ]
     },
     "metadata": {},
     "output_type": "display_data"
    }
   ],
   "source": [
    "experiment3 = Dict()\n",
    "\n",
    "# Load feeder data \n",
    "feeder = load_feeder(\"data/feeder_data/basecase_noneg/\")\n",
    "\n",
    "# Set up\n",
    "relative_std = 0.2\n",
    "loads = [b.d_P for b in feeder.buses]\n",
    "std_vec = loads .* relative_std\n",
    "var_vec = std_vec.^2\n",
    "Σ = diagm(0 => var_vec)\n",
    "\n",
    "# ex3_general_settings\n",
    "ex3_general_settings = Dict(\n",
    "    \"var_vec\" => var_vec,\n",
    "    \"Σ\" => Σ,\n",
    "    \"z_g\" => 1.945,\n",
    "    \"z_v\" => 2.576,\n",
    "    \"toggle_volt_cc\" => false,\n",
    "    \"toggle_gen_cc\" => false,\n",
    "    \"vfac\" => 0, # decrease upper bound by factor (1-vfac) and increase lower bound by (1+vfac)\n",
    "    \"qcfac\" => 1,\n",
    "    \"output_level\" => 0,\n",
    "    \"Ψ\" => 0,\n",
    "    \"loadfac\" => 3\n",
    ")\n",
    "\n",
    "# ex3_no_uncert:\n",
    "ex3_no_uncert_settings = copy(ex3_general_settings)\n",
    "ex3_no_uncert_settings[\"toggle_volt_cc\"] = false\n",
    "ex3_no_uncert_settings[\"toggle_gen_cc\"] = false\n",
    "\n",
    "experiment3[\"no_uncert\"] = Dict(\n",
    "    \"verbose\" => \"ex3_no_uncert\",\n",
    "    \"feeder\" => feeder,\n",
    "    \"settings\" => ex3_no_uncert_settings,\n",
    ")\n",
    "\n",
    "# ex3_uncert:\n",
    "ex3_uncert_settings = copy(ex3_general_settings)\n",
    "ex3_uncert_settings[\"toggle_volt_cc\"] = true\n",
    "ex3_uncert_settings[\"toggle_gen_cc\"] = true\n",
    "experiment3[\"uncert\"] = Dict(\n",
    "    \"verbose\" => \"ex3_uncert\",\n",
    "    \"feeder\" => feeder,\n",
    "    \"settings\" => ex3_uncert_settings,\n",
    ")\n",
    "\n",
    "# ex3_gen_uncert:\n",
    "ex3_uncert_settings = copy(ex3_general_settings)\n",
    "ex3_uncert_settings[\"toggle_volt_cc\"] = false\n",
    "ex3_uncert_settings[\"toggle_gen_cc\"] = true\n",
    "experiment3[\"gen_uncert\"] = Dict(\n",
    "    \"verbose\" => \"ex3_gen_uncert\",\n",
    "    \"feeder\" => feeder,\n",
    "    \"settings\" => ex3_uncert_settings,\n",
    ")\n",
    "\n",
    "# Run \n",
    "experiment3 = run_experiment(experiment3)\n",
    "\n",
    "# Show results\n",
    "sleep(.2) # just to ensure correct printing order\n",
    "for case in keys(experiment3)\n",
    "    print(\">>> Case $case\")\n",
    "    sleep(.2)\n",
    "    display(experiment3[case][\"results\"])\n",
    "end"
   ]
  },
  {
   "cell_type": "markdown",
   "metadata": {},
   "source": [
    "## Experiment 4\n",
    "\n",
    "- Instead of uncertain load uncontrollable vs. controllable DERs\n",
    "- Maybe better in the 33-bus system?"
   ]
  },
  {
   "cell_type": "code",
   "execution_count": null,
   "metadata": {},
   "outputs": [],
   "source": []
  },
  {
   "cell_type": "markdown",
   "metadata": {},
   "source": [
    "## Prototyping Space"
   ]
  },
  {
   "cell_type": "code",
   "execution_count": 5,
   "metadata": {},
   "outputs": [
    {
     "data": {
      "text/html": [
       "<table class=\"data-frame\"><thead><tr><th></th><th>objective</th><th>bus</th><th>gp</th><th>gq</th><th>voltage</th><th>alpha</th><th>lambda</th><th>pi</th><th>gamma</th><th>eta</th><th>delta_plus</th><th>delta_minus</th><th>mu_plus</th><th>mu_minus</th><th>voltvar</th><th>lambda_anc</th><th>rx_pi_i</th><th>rx_pi_a</th><th>r_sum_mu_d</th><th>eta_calc</th></tr><tr><th></th><th>Float64</th><th>Any</th><th>Any</th><th>Any</th><th>Any</th><th>Any</th><th>Any</th><th>Any</th><th>Float64</th><th>Any</th><th>Any</th><th>Any</th><th>Any</th><th>Any</th><th>Any</th><th>Any</th><th>Any</th><th>Any</th><th>Any</th><th>Any</th></tr></thead><tbody><p>15 rows × 20 columns</p><tr><th>1</th><td>42.1519</td><td>1</td><td>-0.0653151</td><td>0.933284</td><td>1.0</td><td>0.895129</td><td>-50.0</td><td>-3.34394e-9</td><td>-31.6735</td><td>0</td><td>0</td><td>0</td><td>0</td><td>0</td><td>0</td><td>0</td><td>0</td><td>0</td><td>0</td><td>0</td></tr><tr><th>2</th><td>0.0</td><td>2</td><td>0</td><td>0</td><td>0.900334</td><td>0</td><td>-50.137</td><td>-16.4401</td><td>0.0</td><td>-0.0512537</td><td>0</td><td>0</td><td>-7.25317e-8</td><td>-91.1244</td><td>0.000116804</td><td>-50.0</td><td>-0.137001</td><td>-2.78662e-11</td><td>0.137001</td><td>-0.352195</td></tr><tr><th>3</th><td>0.0</td><td>3</td><td>0</td><td>0</td><td>0.960447</td><td>0</td><td>-46.1416</td><td>-10.7297</td><td>0.0</td><td>-0.0596395</td><td>0</td><td>0</td><td>-1.34272e-7</td><td>-7.07984e-7</td><td>0.0139108</td><td>-50.137</td><td>-7.5074</td><td>-11.5028</td><td>-3.99543</td><td>-6.53764</td></tr><tr><th>4</th><td>0.0</td><td>4</td><td>0</td><td>0</td><td>1.04775</td><td>0</td><td>-39.8792</td><td>-1.7796</td><td>0.0</td><td>-0.0727832</td><td>0</td><td>0</td><td>-8.1725e-7</td><td>-1.40745e-7</td><td>0.0151213</td><td>-46.1416</td><td>-1.24518</td><td>-7.50755</td><td>-6.26237</td><td>-16.2326</td></tr><tr><th>5</th><td>0.0</td><td>5</td><td>0</td><td>0</td><td>1.05393</td><td>0</td><td>-39.599</td><td>-1.37908</td><td>0.0</td><td>-0.0729688</td><td>0</td><td>0</td><td>-1.00029e-6</td><td>-1.2926e-7</td><td>0.0138768</td><td>-39.8792</td><td>-0.96485</td><td>-1.24507</td><td>-0.280217</td><td>-16.6664</td></tr><tr><th>6</th><td>0.0</td><td>6</td><td>0</td><td>0</td><td>1.05993</td><td>0</td><td>-39.3422</td><td>-1.01084</td><td>0.0</td><td>-0.0731388</td><td>0</td><td>0</td><td>-1.28435e-6</td><td>-1.19442e-7</td><td>0.0126278</td><td>-39.599</td><td>-0.704766</td><td>-0.961509</td><td>-0.256743</td><td>-17.0639</td></tr><tr><th>7</th><td>0.0</td><td>7</td><td>0.753981</td><td>-0.224743</td><td>1.0781</td><td>0.0393694</td><td>-38.6351</td><td>-1.166e-7</td><td>0.0</td><td>-0.0736071</td><td>-27.0216</td><td>-4.12736e-8</td><td>-7.33553</td><td>-9.70597e-8</td><td>0.00925916</td><td>-39.3422</td><td>-8.15695e-8</td><td>-0.707145</td><td>-0.707145</td><td>-18.1587</td></tr><tr><th>8</th><td>0.0</td><td>8</td><td>0</td><td>0</td><td>1.06984</td><td>0</td><td>-37.0355</td><td>-2.28412</td><td>0.0</td><td>-0.0807118</td><td>0</td><td>0</td><td>-15.2886</td><td>-1.08976e-7</td><td>0.0127008</td><td>-38.6347</td><td>-1.59919</td><td>-1.66564e-7</td><td>-1.59919</td><td>-20.635</td></tr><tr><th>9</th><td>0.0</td><td>9</td><td>0</td><td>0</td><td>1.06031</td><td>0</td><td>-38.6347</td><td>-2.37903e-7</td><td>0.0</td><td>-0.0762531</td><td>0</td><td>0</td><td>-1.49742e-6</td><td>-1.19298e-7</td><td>0.0131609</td><td>-39.8792</td><td>-1.66369e-7</td><td>-1.2445</td><td>-1.2445</td><td>-18.1593</td></tr><tr><th>10</th><td>0.0</td><td>10</td><td>0</td><td>0</td><td>1.06184</td><td>0</td><td>-38.6347</td><td>-4.82992e-8</td><td>0.0</td><td>-0.0762531</td><td>0</td><td>0</td><td>-1.63767e-6</td><td>-1.16955e-7</td><td>0.0128837</td><td>-38.6347</td><td>-3.37757e-8</td><td>-1.66366e-7</td><td>-1.34105e-7</td><td>-18.1593</td></tr><tr><th>11</th><td>0.0</td><td>11</td><td>0</td><td>0</td><td>1.0665</td><td>0</td><td>-38.6347</td><td>-3.05962e-7</td><td>0.0</td><td>-0.0762531</td><td>0</td><td>0</td><td>-2.33849e-6</td><td>-1.10408e-7</td><td>0.0120634</td><td>-38.6347</td><td>-2.1373e-7</td><td>-3.37394e-8</td><td>-2.49893e-7</td><td>-18.1593</td></tr><tr><th>12</th><td>0.0</td><td>12</td><td>0.723434</td><td>-0.327542</td><td>1.06877</td><td>0.0655016</td><td>-38.6347</td><td>-3.92729e-7</td><td>0.0</td><td>-0.0762531</td><td>-27.0866</td><td>-4.16814e-8</td><td>-3.06394e-6</td><td>-1.07508e-7</td><td>0.0116838</td><td>-38.6347</td><td>-2.73318e-7</td><td>-2.12933e-7</td><td>-6.09025e-8</td><td>-18.1593</td></tr><tr><th>13</th><td>0.0</td><td>13</td><td>0</td><td>0</td><td>0.982619</td><td>0</td><td>-50.0</td><td>-4.28119e-7</td><td>0.0</td><td>-7.82205e-11</td><td>0</td><td>0</td><td>0.0</td><td>-5.58159e-7</td><td>0.0197306</td><td>-50.0</td><td>-3.56766e-9</td><td>-2.78662e-11</td><td>3.53979e-9</td><td>-5.48006e-9</td></tr><tr><th>14</th><td>0.0</td><td>14</td><td>0</td><td>0</td><td>0.977795</td><td>0</td><td>-50.0</td><td>-6.99306e-7</td><td>0.0</td><td>-1.21322e-8</td><td>0</td><td>0</td><td>0.0</td><td>-5.94295e-7</td><td>0.0185307</td><td>-50.0</td><td>-9.74279e-7</td><td>-5.96459e-7</td><td>3.7782e-7</td><td>-5.90394e-7</td></tr><tr><th>15</th><td>0.0</td><td>15</td><td>0</td><td>0</td><td>0.975027</td><td>0</td><td>-50.0</td><td>-7.83772e-7</td><td>0.0</td><td>-1.22781e-8</td><td>0</td><td>0</td><td>0.0</td><td>-6.17442e-7</td><td>0.01785</td><td>-50.0</td><td>-1.09201e-6</td><td>-9.74325e-7</td><td>1.17684e-7</td><td>-7.72585e-7</td></tr></tbody></table>"
      ],
      "text/latex": [
       "\\begin{tabular}{r|cccccccccccccccccccc}\n",
       "\t& objective & bus & gp & gq & voltage & alpha & lambda & pi & gamma & eta & delta\\_plus & delta\\_minus & mu\\_plus & mu\\_minus & voltvar & lambda\\_anc & rx\\_pi\\_i & rx\\_pi\\_a & r\\_sum\\_mu\\_d & eta\\_calc\\\\\n",
       "\t\\hline\n",
       "\t& Float64 & Any & Any & Any & Any & Any & Any & Any & Float64 & Any & Any & Any & Any & Any & Any & Any & Any & Any & Any & Any\\\\\n",
       "\t\\hline\n",
       "\t1 & 42.1519 & 1 & -0.0653151 & 0.933284 & 1.0 & 0.895129 & -50.0 & -3.34394e-9 & -31.6735 & 0 & 0 & 0 & 0 & 0 & 0 & 0 & 0 & 0 & 0 & 0 \\\\\n",
       "\t2 & 0.0 & 2 & 0 & 0 & 0.900334 & 0 & -50.137 & -16.4401 & 0.0 & -0.0512537 & 0 & 0 & -7.25317e-8 & -91.1244 & 0.000116804 & -50.0 & -0.137001 & -2.78662e-11 & 0.137001 & -0.352195 \\\\\n",
       "\t3 & 0.0 & 3 & 0 & 0 & 0.960447 & 0 & -46.1416 & -10.7297 & 0.0 & -0.0596395 & 0 & 0 & -1.34272e-7 & -7.07984e-7 & 0.0139108 & -50.137 & -7.5074 & -11.5028 & -3.99543 & -6.53764 \\\\\n",
       "\t4 & 0.0 & 4 & 0 & 0 & 1.04775 & 0 & -39.8792 & -1.7796 & 0.0 & -0.0727832 & 0 & 0 & -8.1725e-7 & -1.40745e-7 & 0.0151213 & -46.1416 & -1.24518 & -7.50755 & -6.26237 & -16.2326 \\\\\n",
       "\t5 & 0.0 & 5 & 0 & 0 & 1.05393 & 0 & -39.599 & -1.37908 & 0.0 & -0.0729688 & 0 & 0 & -1.00029e-6 & -1.2926e-7 & 0.0138768 & -39.8792 & -0.96485 & -1.24507 & -0.280217 & -16.6664 \\\\\n",
       "\t6 & 0.0 & 6 & 0 & 0 & 1.05993 & 0 & -39.3422 & -1.01084 & 0.0 & -0.0731388 & 0 & 0 & -1.28435e-6 & -1.19442e-7 & 0.0126278 & -39.599 & -0.704766 & -0.961509 & -0.256743 & -17.0639 \\\\\n",
       "\t7 & 0.0 & 7 & 0.753981 & -0.224743 & 1.0781 & 0.0393694 & -38.6351 & -1.166e-7 & 0.0 & -0.0736071 & -27.0216 & -4.12736e-8 & -7.33553 & -9.70597e-8 & 0.00925916 & -39.3422 & -8.15695e-8 & -0.707145 & -0.707145 & -18.1587 \\\\\n",
       "\t8 & 0.0 & 8 & 0 & 0 & 1.06984 & 0 & -37.0355 & -2.28412 & 0.0 & -0.0807118 & 0 & 0 & -15.2886 & -1.08976e-7 & 0.0127008 & -38.6347 & -1.59919 & -1.66564e-7 & -1.59919 & -20.635 \\\\\n",
       "\t9 & 0.0 & 9 & 0 & 0 & 1.06031 & 0 & -38.6347 & -2.37903e-7 & 0.0 & -0.0762531 & 0 & 0 & -1.49742e-6 & -1.19298e-7 & 0.0131609 & -39.8792 & -1.66369e-7 & -1.2445 & -1.2445 & -18.1593 \\\\\n",
       "\t10 & 0.0 & 10 & 0 & 0 & 1.06184 & 0 & -38.6347 & -4.82992e-8 & 0.0 & -0.0762531 & 0 & 0 & -1.63767e-6 & -1.16955e-7 & 0.0128837 & -38.6347 & -3.37757e-8 & -1.66366e-7 & -1.34105e-7 & -18.1593 \\\\\n",
       "\t11 & 0.0 & 11 & 0 & 0 & 1.0665 & 0 & -38.6347 & -3.05962e-7 & 0.0 & -0.0762531 & 0 & 0 & -2.33849e-6 & -1.10408e-7 & 0.0120634 & -38.6347 & -2.1373e-7 & -3.37394e-8 & -2.49893e-7 & -18.1593 \\\\\n",
       "\t12 & 0.0 & 12 & 0.723434 & -0.327542 & 1.06877 & 0.0655016 & -38.6347 & -3.92729e-7 & 0.0 & -0.0762531 & -27.0866 & -4.16814e-8 & -3.06394e-6 & -1.07508e-7 & 0.0116838 & -38.6347 & -2.73318e-7 & -2.12933e-7 & -6.09025e-8 & -18.1593 \\\\\n",
       "\t13 & 0.0 & 13 & 0 & 0 & 0.982619 & 0 & -50.0 & -4.28119e-7 & 0.0 & -7.82205e-11 & 0 & 0 & 0.0 & -5.58159e-7 & 0.0197306 & -50.0 & -3.56766e-9 & -2.78662e-11 & 3.53979e-9 & -5.48006e-9 \\\\\n",
       "\t14 & 0.0 & 14 & 0 & 0 & 0.977795 & 0 & -50.0 & -6.99306e-7 & 0.0 & -1.21322e-8 & 0 & 0 & 0.0 & -5.94295e-7 & 0.0185307 & -50.0 & -9.74279e-7 & -5.96459e-7 & 3.7782e-7 & -5.90394e-7 \\\\\n",
       "\t15 & 0.0 & 15 & 0 & 0 & 0.975027 & 0 & -50.0 & -7.83772e-7 & 0.0 & -1.22781e-8 & 0 & 0 & 0.0 & -6.17442e-7 & 0.01785 & -50.0 & -1.09201e-6 & -9.74325e-7 & 1.17684e-7 & -7.72585e-7 \\\\\n",
       "\\end{tabular}\n"
      ],
      "text/plain": [
       "15×20 DataFrame. Omitted printing of 14 columns\n",
       "│ Row │ objective │ bus │ gp         │ gq        │ voltage  │ alpha     │\n",
       "│     │ \u001b[90mFloat64\u001b[39m   │ \u001b[90mAny\u001b[39m │ \u001b[90mAny\u001b[39m        │ \u001b[90mAny\u001b[39m       │ \u001b[90mAny\u001b[39m      │ \u001b[90mAny\u001b[39m       │\n",
       "├─────┼───────────┼─────┼────────────┼───────────┼──────────┼───────────┤\n",
       "│ 1   │ 42.1519   │ 1   │ -0.0653151 │ 0.933284  │ 1.0      │ 0.895129  │\n",
       "│ 2   │ 0.0       │ 2   │ 0          │ 0         │ 0.900334 │ 0         │\n",
       "│ 3   │ 0.0       │ 3   │ 0          │ 0         │ 0.960447 │ 0         │\n",
       "│ 4   │ 0.0       │ 4   │ 0          │ 0         │ 1.04775  │ 0         │\n",
       "│ 5   │ 0.0       │ 5   │ 0          │ 0         │ 1.05393  │ 0         │\n",
       "│ 6   │ 0.0       │ 6   │ 0          │ 0         │ 1.05993  │ 0         │\n",
       "│ 7   │ 0.0       │ 7   │ 0.753981   │ -0.224743 │ 1.0781   │ 0.0393694 │\n",
       "│ 8   │ 0.0       │ 8   │ 0          │ 0         │ 1.06984  │ 0         │\n",
       "│ 9   │ 0.0       │ 9   │ 0          │ 0         │ 1.06031  │ 0         │\n",
       "│ 10  │ 0.0       │ 10  │ 0          │ 0         │ 1.06184  │ 0         │\n",
       "│ 11  │ 0.0       │ 11  │ 0          │ 0         │ 1.0665   │ 0         │\n",
       "│ 12  │ 0.0       │ 12  │ 0.723434   │ -0.327542 │ 1.06877  │ 0.0655016 │\n",
       "│ 13  │ 0.0       │ 13  │ 0          │ 0         │ 0.982619 │ 0         │\n",
       "│ 14  │ 0.0       │ 14  │ 0          │ 0         │ 0.977795 │ 0         │\n",
       "│ 15  │ 0.0       │ 15  │ 0          │ 0         │ 0.975027 │ 0         │"
      ]
     },
     "execution_count": 5,
     "metadata": {},
     "output_type": "execute_result"
    }
   ],
   "source": [
    "res = experiment2[\"uncert\"][\"results\"]"
   ]
  },
  {
   "cell_type": "code",
   "execution_count": null,
   "metadata": {},
   "outputs": [],
   "source": []
  }
 ],
 "metadata": {
  "hide_code_all_hidden": false,
  "kernelspec": {
   "display_name": "Julia 1.1.0",
   "language": "julia",
   "name": "julia-1.1"
  },
  "language_info": {
   "file_extension": ".jl",
   "mimetype": "application/julia",
   "name": "julia",
   "version": "1.1.0"
  },
  "varInspector": {
   "cols": {
    "lenName": 16,
    "lenType": 16,
    "lenVar": 40
   },
   "kernels_config": {
    "python": {
     "delete_cmd_postfix": "",
     "delete_cmd_prefix": "del ",
     "library": "var_list.py",
     "varRefreshCmd": "print(var_dic_list())"
    },
    "r": {
     "delete_cmd_postfix": ") ",
     "delete_cmd_prefix": "rm(",
     "library": "var_list.r",
     "varRefreshCmd": "cat(var_dic_list()) "
    }
   },
   "types_to_exclude": [
    "module",
    "function",
    "builtin_function_or_method",
    "instance",
    "_Feature"
   ],
   "window_display": false
  }
 },
 "nbformat": 4,
 "nbformat_minor": 2
}
