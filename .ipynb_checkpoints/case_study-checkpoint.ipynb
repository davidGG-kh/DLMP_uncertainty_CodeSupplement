{
 "cells": [
  {
   "cell_type": "markdown",
   "metadata": {},
   "source": [
    "# Case Study Model\n",
    "\n",
    "## General Remarks\n",
    "\n",
    "- Reverse Power Flow / Cost at substation\n",
    "    - If the negative generation limit at the substation is not enforced, then substation has the option of pushing energy back towards the transmission system (reverse power flow)\n",
    "    - We make the follwoing assumptions: \n",
    "        - reverse power flow is allowed at the substation \n",
    "        - for scheduled negative active power the substation is remunerated according to the market price (i.e. linear cost of energy provision at the substation) -> the substation has a linear cost function \n",
    "        - While the cost function will not have a quadratic termn, THERE WILL BE a penalty on $\\alpha_0$ as it indicates how much the substation is willing to deviate from the schedule\n",
    "\n",
    "\n",
    "## Notes and Todos:\n",
    "- put results handling in a function [done]\n",
    "- remove unneccsray packages (e.g. gurobi from tomls) [done, but check on the \"remains\"]\n",
    "- Remove quadratic term from substation [done]"
   ]
  },
  {
   "cell_type": "code",
   "execution_count": null,
   "metadata": {},
   "outputs": [],
   "source": [
    "# IJulia.qtconsole();"
   ]
  },
  {
   "cell_type": "code",
   "execution_count": 142,
   "metadata": {
    "hideCode": false,
    "hidePrompt": false
   },
   "outputs": [
    {
     "data": {
      "text/plain": [
       "results_to_df (generic function with 1 method)"
      ]
     },
     "execution_count": 142,
     "metadata": {},
     "output_type": "execute_result"
    }
   ],
   "source": [
    "# Set up environment from .toml-files\n",
    "import Pkg\n",
    "Pkg.activate(\".\")\n",
    "# Pkg.instantiate()\n",
    "\n",
    "# Load necessary packages\n",
    "using DataFrames, CSV, LinearAlgebra, Dates # Basic Julia utility\n",
    "using JLD, HDF5\n",
    "using JuMP # Modeling Framework\n",
    "using Mosek, MosekTools # Solver and Solver-Environment\n",
    "using Logging # For some warnings in the functions\n",
    "\n",
    "# Load functions and model\n",
    "include(\"src/tools.jl\") # Some additional functions\n",
    "include(\"src/input.jl\") # Type definitions and read-in functions\n",
    "include(\"src/model_definition.jl\") # Model definiton\n",
    "include(\"src/output.jl\") # Postprocessing of solved model"
   ]
  },
  {
   "cell_type": "markdown",
   "metadata": {},
   "source": [
    "# 15Bus Case\n",
    "\n",
    "- 15 bus case from Papavasilou paper\n",
    "    - negative load is positive load\n",
    "    - no line constraints\n",
    "    - voltage at root is 1 p.u.\n",
    "    \n",
    "- Assumptions for all cases except mentioned differently\n",
    "    - Two DERs one each at node 6 and 11 with `c1 = 10`, `c2 = 5`, `p_max = 1`, `q_max = 0.5`\n",
    "    - No reverse power flow limit on substation\n",
    "    - Substation pays `c1 = 50` for energy provision from the transmission network (no quadratic term) and a penalty of `200` on alpha to discourage high alpha"
   ]
  },
  {
   "cell_type": "markdown",
   "metadata": {},
   "source": [
    "## Experiment 1\n",
    "\n",
    "We analyse the influence of the uncertainty in the system using the \"standard\" setup\n",
    "\n",
    "### Description\n",
    "\n",
    "Ex1:\n",
    "- tag: `experiment1`\n",
    "- tight bascase voltage (0.95-1.05) \n",
    "- all nodes have 20% standard deviation of their forecasted load\n",
    "\n",
    "Runs:\n",
    "- `ex1_no_uncert`: deterministic case\n",
    "- `ex1_uncert`: case with uncertainty\n",
    "- `ex1_gen_uncert`: Chance constraints only in generation\n",
    "\n",
    "\n",
    "### Notes and Observations\n",
    "\n",
    "- Recursive decomposition of prices for active power (eqtns (20) and (21)) are verified by the experimet\n",
    "- Decompositon via voltage constraints (eqtns (23) and (24) seems off\n"
   ]
  },
  {
   "cell_type": "code",
   "execution_count": 143,
   "metadata": {
    "hideCode": false,
    "hidePrompt": false
   },
   "outputs": [
    {
     "name": "stdout",
     "output_type": "stream",
     "text": [
      ">>>>> Reading feeder data from data/feeder_data/basecase_lv_noneg/\n",
      "Running ex1_uncert\n",
      ">>>> Building Model\n",
      ">>>> Running Model\n",
      "MOSEK warning 705: #3 (nearly) zero elements are specified in sparse row ''(87) of matrix 'A'.\n",
      "MOSEK warning 705: #4 (nearly) zero elements are specified in sparse row ''(93) of matrix 'A'.\n",
      ">>>> Model finished with status OPTIMAL in 0.008561022 seconds\n",
      ">>>> Post-Processing\n",
      "\n",
      "Running ex1_gen_uncert\n",
      ">>>> Building Model\n",
      ">>>> Running Model\n",
      ">>>> Model finished with status OPTIMAL in 0.003657927 seconds\n",
      ">>>> Post-Processing\n",
      "\n",
      "Running ex1_no_uncert\n",
      ">>>> Building Model\n",
      ">>>> Running Model\n",
      ">>>> Model finished with status OPTIMAL in 0.003085483 seconds\n",
      ">>>> Post-Processing\n",
      "\n"
     ]
    },
    {
     "data": {
      "text/html": [
       "<table class=\"data-frame\"><thead><tr><th></th><th>objective</th><th>bus</th><th>gp</th><th>gq</th><th>voltage</th><th>alpha</th><th>lambda</th><th>pi</th><th>gamma</th><th>eta</th><th>delta_plus</th><th>delta_minus</th><th>mu_plus</th><th>mu_minus</th><th>voltvar</th><th>lambda_anc</th><th>rx_pi_i</th><th>rx_pi_a</th><th>r_sum_mu_d</th></tr><tr><th></th><th>Float64</th><th>Any</th><th>Any</th><th>Any</th><th>Any</th><th>Any</th><th>Any</th><th>Any</th><th>Float64</th><th>Any</th><th>Any</th><th>Any</th><th>Any</th><th>Any</th><th>Any</th><th>Any</th><th>Any</th><th>Any</th><th>Any</th></tr></thead><tbody><p>15 rows × 19 columns</p><tr><th>1</th><td>107.833</td><td>1</td><td>0.894374</td><td>0.540247</td><td>1.0</td><td>0.550625</td><td>-100.0</td><td>-5.22936e-10</td><td>-14.1658</td><td>0</td><td>0</td><td>0</td><td>0</td><td>0</td><td>0</td><td>0</td><td>0</td><td>0</td><td>0</td></tr><tr><th>2</th><td>0.0</td><td>2</td><td>0</td><td>0</td><td>0.950269</td><td>0</td><td>-101.064</td><td>-127.648</td><td>0.0</td><td>-0.0980513</td><td>0</td><td>0</td><td>-2.11416e-5</td><td>-697.74</td><td>9.92585e-5</td><td>-100.0</td><td>-1.06373</td><td>-4.3578e-12</td><td>1.06373</td></tr><tr><th>3</th><td>0.0</td><td>3</td><td>0</td><td>0</td><td>0.9719</td><td>0</td><td>-71.7705</td><td>-85.7815</td><td>0.0</td><td>-5.09823</td><td>0</td><td>0</td><td>-3.21486e-5</td><td>-0.000365687</td><td>0.00595755</td><td>-101.064</td><td>-60.0199</td><td>-89.3132</td><td>-29.2933</td></tr><tr><th>4</th><td>0.0</td><td>4</td><td>0</td><td>0</td><td>1.00487</td><td>0</td><td>-25.8566</td><td>-20.1618</td><td>0.0</td><td>-12.9354</td><td>0</td><td>0</td><td>-0.000137341</td><td>-0.000100472</td><td>0.0127409</td><td>-71.7705</td><td>-14.1072</td><td>-60.0211</td><td>-45.9139</td></tr><tr><th>5</th><td>0.0</td><td>5</td><td>0</td><td>0</td><td>1.00884</td><td>0</td><td>-22.6819</td><td>-15.6242</td><td>0.0</td><td>-13.4717</td><td>0</td><td>0</td><td>-0.000179682</td><td>-8.24556e-5</td><td>0.012421</td><td>-25.8566</td><td>-10.9312</td><td>-14.1059</td><td>-3.17471</td></tr><tr><th>6</th><td>0.0</td><td>6</td><td>0</td><td>0</td><td>1.01286</td><td>0</td><td>-19.7731</td><td>-11.4522</td><td>0.0</td><td>-13.9631</td><td>0</td><td>0</td><td>-0.000248564</td><td>-6.91739e-5</td><td>0.0119264</td><td>-22.6819</td><td>-7.98458</td><td>-10.8933</td><td>-2.90876</td></tr><tr><th>7</th><td>0.0</td><td>7</td><td>0.511526</td><td>-0.146374</td><td>1.02575</td><td>0.107176</td><td>-11.7616</td><td>-1.01055e-5</td><td>0.0</td><td>-15.3165</td><td>-2.53398e-5</td><td>-1.07972e-5</td><td>-83.1073</td><td>-4.68272e-5</td><td>0.00977028</td><td>-19.7731</td><td>-7.06947e-6</td><td>-8.01153</td><td>-8.01154</td></tr><tr><th>8</th><td>0.0</td><td>8</td><td>0</td><td>0</td><td>0.996791</td><td>0</td><td>-19.1194</td><td>-10.5279</td><td>0.0</td><td>-14.0973</td><td>0</td><td>0</td><td>-0.000119038</td><td>-0.0002906</td><td>0.0150436</td><td>-19.1194</td><td>-7.37091</td><td>-7.37089</td><td>1.79454e-5</td></tr><tr><th>9</th><td>0.0</td><td>9</td><td>0</td><td>0</td><td>1.00721</td><td>0</td><td>-19.1194</td><td>-10.5278</td><td>0.0</td><td>-14.0973</td><td>0</td><td>0</td><td>-0.000214085</td><td>-0.000100536</td><td>0.013504</td><td>-25.8566</td><td>-7.36225</td><td>-14.0994</td><td>-6.73718</td></tr><tr><th>10</th><td>0.0</td><td>10</td><td>0</td><td>0</td><td>1.01008</td><td>0</td><td>-17.4641</td><td>-8.16071</td><td>0.0</td><td>-14.3828</td><td>0</td><td>0</td><td>-0.000283034</td><td>-8.63338e-5</td><td>0.0132011</td><td>-19.1194</td><td>-5.70679</td><td>-7.36212</td><td>-1.65533</td></tr><tr><th>11</th><td>0.0</td><td>11</td><td>0</td><td>0</td><td>1.01799</td><td>0</td><td>-13.4747</td><td>-2.44985</td><td>0.0</td><td>-15.0708</td><td>0</td><td>0</td><td>-0.00113693</td><td>-6.09762e-5</td><td>0.0121132</td><td>-17.4641</td><td>-1.71134</td><td>-5.70067</td><td>-3.98933</td></tr><tr><th>12</th><td>0.0</td><td>12</td><td>0.4</td><td>-0.0128732</td><td>1.02166</td><td>0.342198</td><td>-11.7698</td><td>-1.15033e-6</td><td>0.0</td><td>-15.3648</td><td>-6.16215</td><td>-5.76967</td><td>-82.7652</td><td>-5.31687e-5</td><td>0.0113965</td><td>-13.4747</td><td>-8.00565e-7</td><td>-1.70496</td><td>-1.70496</td></tr><tr><th>13</th><td>0.0</td><td>13</td><td>0</td><td>0</td><td>0.982619</td><td>0</td><td>-100.0</td><td>-0.000168623</td><td>0.0</td><td>-1.2642e-9</td><td>0</td><td>0</td><td>0.0</td><td>-0.000199034</td><td>0.00816166</td><td>-100.0</td><td>-1.40519e-6</td><td>-4.3578e-12</td><td>1.40519e-6</td></tr><tr><th>14</th><td>0.0</td><td>14</td><td>0</td><td>0</td><td>0.977795</td><td>0</td><td>-100.0</td><td>-0.00028132</td><td>0.0</td><td>-1.87763e-7</td><td>0</td><td>0</td><td>0.0</td><td>-0.000236557</td><td>0.00695897</td><td>-100.0</td><td>-0.000391938</td><td>-0.000234927</td><td>0.000157011</td></tr><tr><th>15</th><td>0.0</td><td>15</td><td>0</td><td>0</td><td>0.975027</td><td>0</td><td>-100.0</td><td>-0.000317847</td><td>0.0</td><td>-2.62226e-7</td><td>0</td><td>0</td><td>0.0</td><td>-0.000267006</td><td>0.00628878</td><td>-100.0</td><td>-0.000442848</td><td>-0.000391956</td><td>5.08914e-5</td></tr></tbody></table>"
      ],
      "text/latex": [
       "\\begin{tabular}{r|ccccccccccccccccccc}\n",
       "\t& objective & bus & gp & gq & voltage & alpha & lambda & pi & gamma & eta & delta\\_plus & delta\\_minus & mu\\_plus & mu\\_minus & voltvar & lambda\\_anc & rx\\_pi\\_i & rx\\_pi\\_a & r\\_sum\\_mu\\_d\\\\\n",
       "\t\\hline\n",
       "\t& Float64 & Any & Any & Any & Any & Any & Any & Any & Float64 & Any & Any & Any & Any & Any & Any & Any & Any & Any & Any\\\\\n",
       "\t\\hline\n",
       "\t1 & 107.833 & 1 & 0.894374 & 0.540247 & 1.0 & 0.550625 & -100.0 & -5.22936e-10 & -14.1658 & 0 & 0 & 0 & 0 & 0 & 0 & 0 & 0 & 0 & 0 \\\\\n",
       "\t2 & 0.0 & 2 & 0 & 0 & 0.950269 & 0 & -101.064 & -127.648 & 0.0 & -0.0980513 & 0 & 0 & -2.11416e-5 & -697.74 & 9.92585e-5 & -100.0 & -1.06373 & -4.3578e-12 & 1.06373 \\\\\n",
       "\t3 & 0.0 & 3 & 0 & 0 & 0.9719 & 0 & -71.7705 & -85.7815 & 0.0 & -5.09823 & 0 & 0 & -3.21486e-5 & -0.000365687 & 0.00595755 & -101.064 & -60.0199 & -89.3132 & -29.2933 \\\\\n",
       "\t4 & 0.0 & 4 & 0 & 0 & 1.00487 & 0 & -25.8566 & -20.1618 & 0.0 & -12.9354 & 0 & 0 & -0.000137341 & -0.000100472 & 0.0127409 & -71.7705 & -14.1072 & -60.0211 & -45.9139 \\\\\n",
       "\t5 & 0.0 & 5 & 0 & 0 & 1.00884 & 0 & -22.6819 & -15.6242 & 0.0 & -13.4717 & 0 & 0 & -0.000179682 & -8.24556e-5 & 0.012421 & -25.8566 & -10.9312 & -14.1059 & -3.17471 \\\\\n",
       "\t6 & 0.0 & 6 & 0 & 0 & 1.01286 & 0 & -19.7731 & -11.4522 & 0.0 & -13.9631 & 0 & 0 & -0.000248564 & -6.91739e-5 & 0.0119264 & -22.6819 & -7.98458 & -10.8933 & -2.90876 \\\\\n",
       "\t7 & 0.0 & 7 & 0.511526 & -0.146374 & 1.02575 & 0.107176 & -11.7616 & -1.01055e-5 & 0.0 & -15.3165 & -2.53398e-5 & -1.07972e-5 & -83.1073 & -4.68272e-5 & 0.00977028 & -19.7731 & -7.06947e-6 & -8.01153 & -8.01154 \\\\\n",
       "\t8 & 0.0 & 8 & 0 & 0 & 0.996791 & 0 & -19.1194 & -10.5279 & 0.0 & -14.0973 & 0 & 0 & -0.000119038 & -0.0002906 & 0.0150436 & -19.1194 & -7.37091 & -7.37089 & 1.79454e-5 \\\\\n",
       "\t9 & 0.0 & 9 & 0 & 0 & 1.00721 & 0 & -19.1194 & -10.5278 & 0.0 & -14.0973 & 0 & 0 & -0.000214085 & -0.000100536 & 0.013504 & -25.8566 & -7.36225 & -14.0994 & -6.73718 \\\\\n",
       "\t10 & 0.0 & 10 & 0 & 0 & 1.01008 & 0 & -17.4641 & -8.16071 & 0.0 & -14.3828 & 0 & 0 & -0.000283034 & -8.63338e-5 & 0.0132011 & -19.1194 & -5.70679 & -7.36212 & -1.65533 \\\\\n",
       "\t11 & 0.0 & 11 & 0 & 0 & 1.01799 & 0 & -13.4747 & -2.44985 & 0.0 & -15.0708 & 0 & 0 & -0.00113693 & -6.09762e-5 & 0.0121132 & -17.4641 & -1.71134 & -5.70067 & -3.98933 \\\\\n",
       "\t12 & 0.0 & 12 & 0.4 & -0.0128732 & 1.02166 & 0.342198 & -11.7698 & -1.15033e-6 & 0.0 & -15.3648 & -6.16215 & -5.76967 & -82.7652 & -5.31687e-5 & 0.0113965 & -13.4747 & -8.00565e-7 & -1.70496 & -1.70496 \\\\\n",
       "\t13 & 0.0 & 13 & 0 & 0 & 0.982619 & 0 & -100.0 & -0.000168623 & 0.0 & -1.2642e-9 & 0 & 0 & 0.0 & -0.000199034 & 0.00816166 & -100.0 & -1.40519e-6 & -4.3578e-12 & 1.40519e-6 \\\\\n",
       "\t14 & 0.0 & 14 & 0 & 0 & 0.977795 & 0 & -100.0 & -0.00028132 & 0.0 & -1.87763e-7 & 0 & 0 & 0.0 & -0.000236557 & 0.00695897 & -100.0 & -0.000391938 & -0.000234927 & 0.000157011 \\\\\n",
       "\t15 & 0.0 & 15 & 0 & 0 & 0.975027 & 0 & -100.0 & -0.000317847 & 0.0 & -2.62226e-7 & 0 & 0 & 0.0 & -0.000267006 & 0.00628878 & -100.0 & -0.000442848 & -0.000391956 & 5.08914e-5 \\\\\n",
       "\\end{tabular}\n"
      ],
      "text/plain": [
       "15×19 DataFrame. Omitted printing of 13 columns\n",
       "│ Row │ objective │ bus │ gp       │ gq         │ voltage  │ alpha    │\n",
       "│     │ \u001b[90mFloat64\u001b[39m   │ \u001b[90mAny\u001b[39m │ \u001b[90mAny\u001b[39m      │ \u001b[90mAny\u001b[39m        │ \u001b[90mAny\u001b[39m      │ \u001b[90mAny\u001b[39m      │\n",
       "├─────┼───────────┼─────┼──────────┼────────────┼──────────┼──────────┤\n",
       "│ 1   │ 107.833   │ 1   │ 0.894374 │ 0.540247   │ 1.0      │ 0.550625 │\n",
       "│ 2   │ 0.0       │ 2   │ 0        │ 0          │ 0.950269 │ 0        │\n",
       "│ 3   │ 0.0       │ 3   │ 0        │ 0          │ 0.9719   │ 0        │\n",
       "│ 4   │ 0.0       │ 4   │ 0        │ 0          │ 1.00487  │ 0        │\n",
       "│ 5   │ 0.0       │ 5   │ 0        │ 0          │ 1.00884  │ 0        │\n",
       "│ 6   │ 0.0       │ 6   │ 0        │ 0          │ 1.01286  │ 0        │\n",
       "│ 7   │ 0.0       │ 7   │ 0.511526 │ -0.146374  │ 1.02575  │ 0.107176 │\n",
       "│ 8   │ 0.0       │ 8   │ 0        │ 0          │ 0.996791 │ 0        │\n",
       "│ 9   │ 0.0       │ 9   │ 0        │ 0          │ 1.00721  │ 0        │\n",
       "│ 10  │ 0.0       │ 10  │ 0        │ 0          │ 1.01008  │ 0        │\n",
       "│ 11  │ 0.0       │ 11  │ 0        │ 0          │ 1.01799  │ 0        │\n",
       "│ 12  │ 0.0       │ 12  │ 0.4      │ -0.0128732 │ 1.02166  │ 0.342198 │\n",
       "│ 13  │ 0.0       │ 13  │ 0        │ 0          │ 0.982619 │ 0        │\n",
       "│ 14  │ 0.0       │ 14  │ 0        │ 0          │ 0.977795 │ 0        │\n",
       "│ 15  │ 0.0       │ 15  │ 0        │ 0          │ 0.975027 │ 0        │"
      ]
     },
     "metadata": {},
     "output_type": "display_data"
    },
    {
     "data": {
      "text/html": [
       "<table class=\"data-frame\"><thead><tr><th></th><th>objective</th><th>bus</th><th>gp</th><th>gq</th><th>voltage</th><th>alpha</th><th>lambda</th><th>pi</th><th>gamma</th><th>eta</th><th>delta_plus</th><th>delta_minus</th><th>mu_plus</th><th>mu_minus</th><th>voltvar</th><th>lambda_anc</th><th>rx_pi_i</th><th>rx_pi_a</th><th>r_sum_mu_d</th></tr><tr><th></th><th>Float64</th><th>Any</th><th>Any</th><th>Any</th><th>Any</th><th>Any</th><th>Any</th><th>Any</th><th>Float64</th><th>Any</th><th>Any</th><th>Any</th><th>Any</th><th>Any</th><th>Any</th><th>Any</th><th>Any</th><th>Any</th><th>Any</th></tr></thead><tbody><p>15 rows × 19 columns</p><tr><th>1</th><td>97.719</td><td>1</td><td>0.787837</td><td>0.543266</td><td>1.0</td><td>0.502155</td><td>-100.0</td><td>0.0</td><td>-14.0557</td><td>0</td><td>0</td><td>0</td><td>0</td><td>0</td><td>0</td><td>0</td><td>0</td><td>0</td><td>0</td></tr><tr><th>2</th><td>0.0</td><td>2</td><td>0</td><td>0</td><td>0.95</td><td>0</td><td>-100.923</td><td>-110.735</td><td>0.0</td><td>0</td><td>0</td><td>0</td><td>-6.22946e-6</td><td>-605.292</td><td>0</td><td>-100.0</td><td>-0.922792</td><td>0.0</td><td>0.922792</td></tr><tr><th>3</th><td>0.0</td><td>3</td><td>0</td><td>0</td><td>0.980882</td><td>0</td><td>-75.5108</td><td>-74.4157</td><td>0.0</td><td>0</td><td>0</td><td>0</td><td>-8.69654e-6</td><td>-2.45659e-5</td><td>0</td><td>-100.923</td><td>-52.0674</td><td>-77.4795</td><td>-25.412</td></tr><tr><th>4</th><td>0.0</td><td>4</td><td>0</td><td>0</td><td>1.02742</td><td>0</td><td>-35.6803</td><td>-17.4905</td><td>0.0</td><td>0</td><td>0</td><td>0</td><td>-2.43829e-5</td><td>-9.02386e-6</td><td>0</td><td>-75.5108</td><td>-12.238</td><td>-52.0684</td><td>-39.8304</td></tr><tr><th>5</th><td>0.0</td><td>5</td><td>0</td><td>0</td><td>1.0318</td><td>0</td><td>-32.9263</td><td>-13.554</td><td>0.0</td><td>0</td><td>0</td><td>0</td><td>-3.01897e-5</td><td>-8.4906e-6</td><td>0</td><td>-35.6803</td><td>-9.48286</td><td>-12.2369</td><td>-2.75407</td></tr><tr><th>6</th><td>0.0</td><td>6</td><td>0</td><td>0</td><td>1.03618</td><td>0</td><td>-30.4029</td><td>-9.93482</td><td>0.0</td><td>0</td><td>0</td><td>0</td><td>-4.04363e-5</td><td>-8.01029e-6</td><td>0</td><td>-32.9263</td><td>-6.92666</td><td>-9.45002</td><td>-2.52336</td></tr><tr><th>7</th><td>0.0</td><td>7</td><td>0.508279</td><td>-0.125555</td><td>1.05</td><td>0.249567</td><td>-23.4529</td><td>-2.65458e-6</td><td>0.0</td><td>0</td><td>-11.8748</td><td>-5.44797e-6</td><td>-72.0959</td><td>-6.77542e-6</td><td>0</td><td>-30.4029</td><td>-1.85705e-6</td><td>-6.95005</td><td>-6.95005</td></tr><tr><th>8</th><td>0.0</td><td>8</td><td>0</td><td>0</td><td>1.02254</td><td>0</td><td>-29.8358</td><td>-9.13295</td><td>0.0</td><td>0</td><td>0</td><td>0</td><td>-0.0</td><td>-9.83932e-6</td><td>0</td><td>-29.8358</td><td>-6.39429</td><td>-6.39429</td><td>1.02919e-6</td></tr><tr><th>9</th><td>0.0</td><td>9</td><td>0</td><td>0</td><td>1.0327</td><td>0</td><td>-29.8358</td><td>-9.13295</td><td>0.0</td><td>0</td><td>0</td><td>0</td><td>-3.00228e-5</td><td>-0.0</td><td>0</td><td>-35.6803</td><td>-6.38679</td><td>-12.2313</td><td>-5.84452</td></tr><tr><th>10</th><td>0.0</td><td>10</td><td>0</td><td>0</td><td>1.03623</td><td>0</td><td>-28.3998</td><td>-7.07947</td><td>0.0</td><td>0</td><td>0</td><td>0</td><td>-3.5746e-5</td><td>-7.97528e-6</td><td>0</td><td>-29.8358</td><td>-4.95068</td><td>-6.38668</td><td>-1.436</td></tr><tr><th>11</th><td>0.0</td><td>11</td><td>0</td><td>0</td><td>1.04568</td><td>0</td><td>-24.9391</td><td>-2.12528</td><td>0.0</td><td>0</td><td>0</td><td>0</td><td>-6.52018e-5</td><td>-7.07184e-6</td><td>0</td><td>-28.3998</td><td>-1.48461</td><td>-4.94537</td><td>-3.46076</td></tr><tr><th>12</th><td>0.0</td><td>12</td><td>0.509785</td><td>-0.0367112</td><td>1.05</td><td>0.248278</td><td>-23.46</td><td>-5.45898e-7</td><td>0.0</td><td>0</td><td>-11.8758</td><td>-6.50081e-6</td><td>-71.7999</td><td>-6.72631e-6</td><td>0</td><td>-24.9391</td><td>-3.79916e-7</td><td>-1.47908</td><td>-1.47908</td></tr><tr><th>13</th><td>0.0</td><td>13</td><td>0</td><td>0</td><td>0.982619</td><td>0</td><td>-100.0</td><td>0.0</td><td>0.0</td><td>0</td><td>0</td><td>0</td><td>-0.0</td><td>-0.0</td><td>0</td><td>-100.0</td><td>0.0</td><td>0.0</td><td>0.0</td></tr><tr><th>14</th><td>0.0</td><td>14</td><td>0</td><td>0</td><td>0.977795</td><td>0</td><td>-100.0</td><td>0.0</td><td>0.0</td><td>0</td><td>0</td><td>0</td><td>-0.0</td><td>-0.0</td><td>0</td><td>-100.0</td><td>0.0</td><td>0.0</td><td>0.0</td></tr><tr><th>15</th><td>0.0</td><td>15</td><td>0</td><td>0</td><td>0.975027</td><td>0</td><td>-100.0</td><td>0.0</td><td>0.0</td><td>0</td><td>0</td><td>0</td><td>-0.0</td><td>-0.0</td><td>0</td><td>-100.0</td><td>0.0</td><td>0.0</td><td>0.0</td></tr></tbody></table>"
      ],
      "text/latex": [
       "\\begin{tabular}{r|ccccccccccccccccccc}\n",
       "\t& objective & bus & gp & gq & voltage & alpha & lambda & pi & gamma & eta & delta\\_plus & delta\\_minus & mu\\_plus & mu\\_minus & voltvar & lambda\\_anc & rx\\_pi\\_i & rx\\_pi\\_a & r\\_sum\\_mu\\_d\\\\\n",
       "\t\\hline\n",
       "\t& Float64 & Any & Any & Any & Any & Any & Any & Any & Float64 & Any & Any & Any & Any & Any & Any & Any & Any & Any & Any\\\\\n",
       "\t\\hline\n",
       "\t1 & 97.719 & 1 & 0.787837 & 0.543266 & 1.0 & 0.502155 & -100.0 & 0.0 & -14.0557 & 0 & 0 & 0 & 0 & 0 & 0 & 0 & 0 & 0 & 0 \\\\\n",
       "\t2 & 0.0 & 2 & 0 & 0 & 0.95 & 0 & -100.923 & -110.735 & 0.0 & 0 & 0 & 0 & -6.22946e-6 & -605.292 & 0 & -100.0 & -0.922792 & 0.0 & 0.922792 \\\\\n",
       "\t3 & 0.0 & 3 & 0 & 0 & 0.980882 & 0 & -75.5108 & -74.4157 & 0.0 & 0 & 0 & 0 & -8.69654e-6 & -2.45659e-5 & 0 & -100.923 & -52.0674 & -77.4795 & -25.412 \\\\\n",
       "\t4 & 0.0 & 4 & 0 & 0 & 1.02742 & 0 & -35.6803 & -17.4905 & 0.0 & 0 & 0 & 0 & -2.43829e-5 & -9.02386e-6 & 0 & -75.5108 & -12.238 & -52.0684 & -39.8304 \\\\\n",
       "\t5 & 0.0 & 5 & 0 & 0 & 1.0318 & 0 & -32.9263 & -13.554 & 0.0 & 0 & 0 & 0 & -3.01897e-5 & -8.4906e-6 & 0 & -35.6803 & -9.48286 & -12.2369 & -2.75407 \\\\\n",
       "\t6 & 0.0 & 6 & 0 & 0 & 1.03618 & 0 & -30.4029 & -9.93482 & 0.0 & 0 & 0 & 0 & -4.04363e-5 & -8.01029e-6 & 0 & -32.9263 & -6.92666 & -9.45002 & -2.52336 \\\\\n",
       "\t7 & 0.0 & 7 & 0.508279 & -0.125555 & 1.05 & 0.249567 & -23.4529 & -2.65458e-6 & 0.0 & 0 & -11.8748 & -5.44797e-6 & -72.0959 & -6.77542e-6 & 0 & -30.4029 & -1.85705e-6 & -6.95005 & -6.95005 \\\\\n",
       "\t8 & 0.0 & 8 & 0 & 0 & 1.02254 & 0 & -29.8358 & -9.13295 & 0.0 & 0 & 0 & 0 & -0.0 & -9.83932e-6 & 0 & -29.8358 & -6.39429 & -6.39429 & 1.02919e-6 \\\\\n",
       "\t9 & 0.0 & 9 & 0 & 0 & 1.0327 & 0 & -29.8358 & -9.13295 & 0.0 & 0 & 0 & 0 & -3.00228e-5 & -0.0 & 0 & -35.6803 & -6.38679 & -12.2313 & -5.84452 \\\\\n",
       "\t10 & 0.0 & 10 & 0 & 0 & 1.03623 & 0 & -28.3998 & -7.07947 & 0.0 & 0 & 0 & 0 & -3.5746e-5 & -7.97528e-6 & 0 & -29.8358 & -4.95068 & -6.38668 & -1.436 \\\\\n",
       "\t11 & 0.0 & 11 & 0 & 0 & 1.04568 & 0 & -24.9391 & -2.12528 & 0.0 & 0 & 0 & 0 & -6.52018e-5 & -7.07184e-6 & 0 & -28.3998 & -1.48461 & -4.94537 & -3.46076 \\\\\n",
       "\t12 & 0.0 & 12 & 0.509785 & -0.0367112 & 1.05 & 0.248278 & -23.46 & -5.45898e-7 & 0.0 & 0 & -11.8758 & -6.50081e-6 & -71.7999 & -6.72631e-6 & 0 & -24.9391 & -3.79916e-7 & -1.47908 & -1.47908 \\\\\n",
       "\t13 & 0.0 & 13 & 0 & 0 & 0.982619 & 0 & -100.0 & 0.0 & 0.0 & 0 & 0 & 0 & -0.0 & -0.0 & 0 & -100.0 & 0.0 & 0.0 & 0.0 \\\\\n",
       "\t14 & 0.0 & 14 & 0 & 0 & 0.977795 & 0 & -100.0 & 0.0 & 0.0 & 0 & 0 & 0 & -0.0 & -0.0 & 0 & -100.0 & 0.0 & 0.0 & 0.0 \\\\\n",
       "\t15 & 0.0 & 15 & 0 & 0 & 0.975027 & 0 & -100.0 & 0.0 & 0.0 & 0 & 0 & 0 & -0.0 & -0.0 & 0 & -100.0 & 0.0 & 0.0 & 0.0 \\\\\n",
       "\\end{tabular}\n"
      ],
      "text/plain": [
       "15×19 DataFrame. Omitted printing of 13 columns\n",
       "│ Row │ objective │ bus │ gp       │ gq         │ voltage  │ alpha    │\n",
       "│     │ \u001b[90mFloat64\u001b[39m   │ \u001b[90mAny\u001b[39m │ \u001b[90mAny\u001b[39m      │ \u001b[90mAny\u001b[39m        │ \u001b[90mAny\u001b[39m      │ \u001b[90mAny\u001b[39m      │\n",
       "├─────┼───────────┼─────┼──────────┼────────────┼──────────┼──────────┤\n",
       "│ 1   │ 97.719    │ 1   │ 0.787837 │ 0.543266   │ 1.0      │ 0.502155 │\n",
       "│ 2   │ 0.0       │ 2   │ 0        │ 0          │ 0.95     │ 0        │\n",
       "│ 3   │ 0.0       │ 3   │ 0        │ 0          │ 0.980882 │ 0        │\n",
       "│ 4   │ 0.0       │ 4   │ 0        │ 0          │ 1.02742  │ 0        │\n",
       "│ 5   │ 0.0       │ 5   │ 0        │ 0          │ 1.0318   │ 0        │\n",
       "│ 6   │ 0.0       │ 6   │ 0        │ 0          │ 1.03618  │ 0        │\n",
       "│ 7   │ 0.0       │ 7   │ 0.508279 │ -0.125555  │ 1.05     │ 0.249567 │\n",
       "│ 8   │ 0.0       │ 8   │ 0        │ 0          │ 1.02254  │ 0        │\n",
       "│ 9   │ 0.0       │ 9   │ 0        │ 0          │ 1.0327   │ 0        │\n",
       "│ 10  │ 0.0       │ 10  │ 0        │ 0          │ 1.03623  │ 0        │\n",
       "│ 11  │ 0.0       │ 11  │ 0        │ 0          │ 1.04568  │ 0        │\n",
       "│ 12  │ 0.0       │ 12  │ 0.509785 │ -0.0367112 │ 1.05     │ 0.248278 │\n",
       "│ 13  │ 0.0       │ 13  │ 0        │ 0          │ 0.982619 │ 0        │\n",
       "│ 14  │ 0.0       │ 14  │ 0        │ 0          │ 0.977795 │ 0        │\n",
       "│ 15  │ 0.0       │ 15  │ 0        │ 0          │ 0.975027 │ 0        │"
      ]
     },
     "metadata": {},
     "output_type": "display_data"
    },
    {
     "data": {
      "text/html": [
       "<table class=\"data-frame\"><thead><tr><th></th><th>objective</th><th>bus</th><th>gp</th><th>gq</th><th>voltage</th><th>alpha</th><th>lambda</th><th>pi</th><th>gamma</th><th>eta</th><th>delta_plus</th><th>delta_minus</th><th>mu_plus</th><th>mu_minus</th><th>voltvar</th><th>lambda_anc</th><th>rx_pi_i</th><th>rx_pi_a</th><th>r_sum_mu_d</th></tr><tr><th></th><th>Float64</th><th>Any</th><th>Any</th><th>Any</th><th>Any</th><th>Any</th><th>Any</th><th>Any</th><th>Float64</th><th>Any</th><th>Any</th><th>Any</th><th>Any</th><th>Any</th><th>Any</th><th>Any</th><th>Any</th><th>Any</th><th>Any</th></tr></thead><tbody><p>15 rows × 19 columns</p><tr><th>1</th><td>89.9317</td><td>1</td><td>0.787837</td><td>0.543266</td><td>1.0</td><td>0</td><td>-100.0</td><td>0.0</td><td>0.0</td><td>0</td><td>0</td><td>0</td><td>0</td><td>0</td><td>0</td><td>0</td><td>0</td><td>0</td><td>0</td></tr><tr><th>2</th><td>0.0</td><td>2</td><td>0</td><td>0</td><td>0.95</td><td>0</td><td>-101.074</td><td>-128.828</td><td>0.0</td><td>0</td><td>0</td><td>0</td><td>-2.34877e-6</td><td>-704.189</td><td>0</td><td>-100.0</td><td>-1.07356</td><td>0.0</td><td>1.07356</td></tr><tr><th>3</th><td>0.0</td><td>3</td><td>0</td><td>0</td><td>0.980882</td><td>0</td><td>-71.5095</td><td>-86.5743</td><td>0.0</td><td>0</td><td>0</td><td>0</td><td>-3.29177e-6</td><td>-1.09804e-5</td><td>0</td><td>-101.074</td><td>-60.5746</td><td>-90.1386</td><td>-29.564</td></tr><tr><th>4</th><td>0.0</td><td>4</td><td>0</td><td>0</td><td>1.02742</td><td>0</td><td>-25.1714</td><td>-20.3482</td><td>0.0</td><td>0</td><td>0</td><td>0</td><td>-9.08044e-6</td><td>-3.7435e-6</td><td>0</td><td>-71.5095</td><td>-14.2376</td><td>-60.5757</td><td>-46.3382</td></tr><tr><th>5</th><td>0.0</td><td>5</td><td>0</td><td>0</td><td>1.0318</td><td>0</td><td>-21.9673</td><td>-15.7686</td><td>0.0</td><td>0</td><td>0</td><td>0</td><td>-1.11327e-5</td><td>-3.49286e-6</td><td>0</td><td>-25.1714</td><td>-11.0322</td><td>-14.2363</td><td>-3.20404</td></tr><tr><th>6</th><td>0.0</td><td>6</td><td>0</td><td>0</td><td>1.03618</td><td>0</td><td>-19.0317</td><td>-11.558</td><td>0.0</td><td>0</td><td>0</td><td>0</td><td>-1.45833e-5</td><td>-3.27079e-6</td><td>0</td><td>-21.9673</td><td>-8.05839</td><td>-10.994</td><td>-2.93564</td></tr><tr><th>7</th><td>0.0</td><td>7</td><td>0.507154</td><td>-0.124769</td><td>1.05</td><td>0</td><td>-10.9461</td><td>-5.80027e-7</td><td>0.0</td><td>0</td><td>-1.88969e-6</td><td>-9.27997e-7</td><td>-83.8755</td><td>-2.71542e-6</td><td>0</td><td>-19.0317</td><td>-4.05766e-7</td><td>-8.0856</td><td>-8.0856</td></tr><tr><th>8</th><td>0.0</td><td>8</td><td>0</td><td>0</td><td>1.02254</td><td>0</td><td>-18.3719</td><td>-10.6252</td><td>0.0</td><td>0</td><td>0</td><td>0</td><td>-0.0</td><td>-4.13976e-6</td><td>0</td><td>-18.3719</td><td>-7.43904</td><td>-7.43904</td><td>4.33019e-7</td></tr><tr><th>9</th><td>0.0</td><td>9</td><td>0</td><td>0</td><td>1.0327</td><td>0</td><td>-18.3719</td><td>-10.6252</td><td>0.0</td><td>0</td><td>0</td><td>0</td><td>-1.08137e-5</td><td>-0.0</td><td>0</td><td>-25.1714</td><td>-7.43031</td><td>-14.2298</td><td>-6.79944</td></tr><tr><th>10</th><td>0.0</td><td>10</td><td>0</td><td>0</td><td>1.03623</td><td>0</td><td>-16.7013</td><td>-8.23617</td><td>0.0</td><td>0</td><td>0</td><td>0</td><td>-1.24389e-5</td><td>-0.0</td><td>0</td><td>-18.3719</td><td>-5.75956</td><td>-7.43018</td><td>-1.67062</td></tr><tr><th>11</th><td>0.0</td><td>11</td><td>0</td><td>0</td><td>1.04568</td><td>0</td><td>-12.6751</td><td>-2.47252</td><td>0.0</td><td>0</td><td>0</td><td>0</td><td>-1.57585e-5</td><td>-2.88536e-6</td><td>0</td><td>-16.7013</td><td>-1.72718</td><td>-5.75338</td><td>-4.0262</td></tr><tr><th>12</th><td>0.0</td><td>12</td><td>0.510909</td><td>-0.0374967</td><td>1.05</td><td>0</td><td>-10.9544</td><td>-5.31299e-7</td><td>0.0</td><td>0</td><td>-2.62772e-6</td><td>-7.96387e-7</td><td>-83.5312</td><td>-2.72999e-6</td><td>0</td><td>-12.6751</td><td>-3.69755e-7</td><td>-1.72074</td><td>-1.72074</td></tr><tr><th>13</th><td>0.0</td><td>13</td><td>0</td><td>0</td><td>0.982619</td><td>0</td><td>-100.0</td><td>0.0</td><td>0.0</td><td>0</td><td>0</td><td>0</td><td>-0.0</td><td>-0.0</td><td>0</td><td>-100.0</td><td>0.0</td><td>0.0</td><td>0.0</td></tr><tr><th>14</th><td>0.0</td><td>14</td><td>0</td><td>0</td><td>0.977795</td><td>0</td><td>-100.0</td><td>0.0</td><td>0.0</td><td>0</td><td>0</td><td>0</td><td>-0.0</td><td>-0.0</td><td>0</td><td>-100.0</td><td>0.0</td><td>0.0</td><td>0.0</td></tr><tr><th>15</th><td>0.0</td><td>15</td><td>0</td><td>0</td><td>0.975027</td><td>0</td><td>-100.0</td><td>0.0</td><td>0.0</td><td>0</td><td>0</td><td>0</td><td>-0.0</td><td>-0.0</td><td>0</td><td>-100.0</td><td>0.0</td><td>0.0</td><td>0.0</td></tr></tbody></table>"
      ],
      "text/latex": [
       "\\begin{tabular}{r|ccccccccccccccccccc}\n",
       "\t& objective & bus & gp & gq & voltage & alpha & lambda & pi & gamma & eta & delta\\_plus & delta\\_minus & mu\\_plus & mu\\_minus & voltvar & lambda\\_anc & rx\\_pi\\_i & rx\\_pi\\_a & r\\_sum\\_mu\\_d\\\\\n",
       "\t\\hline\n",
       "\t& Float64 & Any & Any & Any & Any & Any & Any & Any & Float64 & Any & Any & Any & Any & Any & Any & Any & Any & Any & Any\\\\\n",
       "\t\\hline\n",
       "\t1 & 89.9317 & 1 & 0.787837 & 0.543266 & 1.0 & 0 & -100.0 & 0.0 & 0.0 & 0 & 0 & 0 & 0 & 0 & 0 & 0 & 0 & 0 & 0 \\\\\n",
       "\t2 & 0.0 & 2 & 0 & 0 & 0.95 & 0 & -101.074 & -128.828 & 0.0 & 0 & 0 & 0 & -2.34877e-6 & -704.189 & 0 & -100.0 & -1.07356 & 0.0 & 1.07356 \\\\\n",
       "\t3 & 0.0 & 3 & 0 & 0 & 0.980882 & 0 & -71.5095 & -86.5743 & 0.0 & 0 & 0 & 0 & -3.29177e-6 & -1.09804e-5 & 0 & -101.074 & -60.5746 & -90.1386 & -29.564 \\\\\n",
       "\t4 & 0.0 & 4 & 0 & 0 & 1.02742 & 0 & -25.1714 & -20.3482 & 0.0 & 0 & 0 & 0 & -9.08044e-6 & -3.7435e-6 & 0 & -71.5095 & -14.2376 & -60.5757 & -46.3382 \\\\\n",
       "\t5 & 0.0 & 5 & 0 & 0 & 1.0318 & 0 & -21.9673 & -15.7686 & 0.0 & 0 & 0 & 0 & -1.11327e-5 & -3.49286e-6 & 0 & -25.1714 & -11.0322 & -14.2363 & -3.20404 \\\\\n",
       "\t6 & 0.0 & 6 & 0 & 0 & 1.03618 & 0 & -19.0317 & -11.558 & 0.0 & 0 & 0 & 0 & -1.45833e-5 & -3.27079e-6 & 0 & -21.9673 & -8.05839 & -10.994 & -2.93564 \\\\\n",
       "\t7 & 0.0 & 7 & 0.507154 & -0.124769 & 1.05 & 0 & -10.9461 & -5.80027e-7 & 0.0 & 0 & -1.88969e-6 & -9.27997e-7 & -83.8755 & -2.71542e-6 & 0 & -19.0317 & -4.05766e-7 & -8.0856 & -8.0856 \\\\\n",
       "\t8 & 0.0 & 8 & 0 & 0 & 1.02254 & 0 & -18.3719 & -10.6252 & 0.0 & 0 & 0 & 0 & -0.0 & -4.13976e-6 & 0 & -18.3719 & -7.43904 & -7.43904 & 4.33019e-7 \\\\\n",
       "\t9 & 0.0 & 9 & 0 & 0 & 1.0327 & 0 & -18.3719 & -10.6252 & 0.0 & 0 & 0 & 0 & -1.08137e-5 & -0.0 & 0 & -25.1714 & -7.43031 & -14.2298 & -6.79944 \\\\\n",
       "\t10 & 0.0 & 10 & 0 & 0 & 1.03623 & 0 & -16.7013 & -8.23617 & 0.0 & 0 & 0 & 0 & -1.24389e-5 & -0.0 & 0 & -18.3719 & -5.75956 & -7.43018 & -1.67062 \\\\\n",
       "\t11 & 0.0 & 11 & 0 & 0 & 1.04568 & 0 & -12.6751 & -2.47252 & 0.0 & 0 & 0 & 0 & -1.57585e-5 & -2.88536e-6 & 0 & -16.7013 & -1.72718 & -5.75338 & -4.0262 \\\\\n",
       "\t12 & 0.0 & 12 & 0.510909 & -0.0374967 & 1.05 & 0 & -10.9544 & -5.31299e-7 & 0.0 & 0 & -2.62772e-6 & -7.96387e-7 & -83.5312 & -2.72999e-6 & 0 & -12.6751 & -3.69755e-7 & -1.72074 & -1.72074 \\\\\n",
       "\t13 & 0.0 & 13 & 0 & 0 & 0.982619 & 0 & -100.0 & 0.0 & 0.0 & 0 & 0 & 0 & -0.0 & -0.0 & 0 & -100.0 & 0.0 & 0.0 & 0.0 \\\\\n",
       "\t14 & 0.0 & 14 & 0 & 0 & 0.977795 & 0 & -100.0 & 0.0 & 0.0 & 0 & 0 & 0 & -0.0 & -0.0 & 0 & -100.0 & 0.0 & 0.0 & 0.0 \\\\\n",
       "\t15 & 0.0 & 15 & 0 & 0 & 0.975027 & 0 & -100.0 & 0.0 & 0.0 & 0 & 0 & 0 & -0.0 & -0.0 & 0 & -100.0 & 0.0 & 0.0 & 0.0 \\\\\n",
       "\\end{tabular}\n"
      ],
      "text/plain": [
       "15×19 DataFrame. Omitted printing of 12 columns\n",
       "│ Row │ objective │ bus │ gp       │ gq         │ voltage  │ alpha │ lambda   │\n",
       "│     │ \u001b[90mFloat64\u001b[39m   │ \u001b[90mAny\u001b[39m │ \u001b[90mAny\u001b[39m      │ \u001b[90mAny\u001b[39m        │ \u001b[90mAny\u001b[39m      │ \u001b[90mAny\u001b[39m   │ \u001b[90mAny\u001b[39m      │\n",
       "├─────┼───────────┼─────┼──────────┼────────────┼──────────┼───────┼──────────┤\n",
       "│ 1   │ 89.9317   │ 1   │ 0.787837 │ 0.543266   │ 1.0      │ 0     │ -100.0   │\n",
       "│ 2   │ 0.0       │ 2   │ 0        │ 0          │ 0.95     │ 0     │ -101.074 │\n",
       "│ 3   │ 0.0       │ 3   │ 0        │ 0          │ 0.980882 │ 0     │ -71.5095 │\n",
       "│ 4   │ 0.0       │ 4   │ 0        │ 0          │ 1.02742  │ 0     │ -25.1714 │\n",
       "│ 5   │ 0.0       │ 5   │ 0        │ 0          │ 1.0318   │ 0     │ -21.9673 │\n",
       "│ 6   │ 0.0       │ 6   │ 0        │ 0          │ 1.03618  │ 0     │ -19.0317 │\n",
       "│ 7   │ 0.0       │ 7   │ 0.507154 │ -0.124769  │ 1.05     │ 0     │ -10.9461 │\n",
       "│ 8   │ 0.0       │ 8   │ 0        │ 0          │ 1.02254  │ 0     │ -18.3719 │\n",
       "│ 9   │ 0.0       │ 9   │ 0        │ 0          │ 1.0327   │ 0     │ -18.3719 │\n",
       "│ 10  │ 0.0       │ 10  │ 0        │ 0          │ 1.03623  │ 0     │ -16.7013 │\n",
       "│ 11  │ 0.0       │ 11  │ 0        │ 0          │ 1.04568  │ 0     │ -12.6751 │\n",
       "│ 12  │ 0.0       │ 12  │ 0.510909 │ -0.0374967 │ 1.05     │ 0     │ -10.9544 │\n",
       "│ 13  │ 0.0       │ 13  │ 0        │ 0          │ 0.982619 │ 0     │ -100.0   │\n",
       "│ 14  │ 0.0       │ 14  │ 0        │ 0          │ 0.977795 │ 0     │ -100.0   │\n",
       "│ 15  │ 0.0       │ 15  │ 0        │ 0          │ 0.975027 │ 0     │ -100.0   │"
      ]
     },
     "metadata": {},
     "output_type": "display_data"
    }
   ],
   "source": [
    "experiment1 = Dict()\n",
    "\n",
    "# Load feeder data \n",
    "feeder = load_feeder(\"data/feeder_data/basecase_lv_noneg/\")\n",
    "\n",
    "# Set up\n",
    "relative_std = 0.2\n",
    "loads = [b.d_P for b in feeder.buses]\n",
    "std_vec = loads .* relative_std\n",
    "var_vec = std_vec.^2\n",
    "Σ = diagm(0 => var_vec)\n",
    "\n",
    "# ex1_general_settings\n",
    "ex1_general_settings = Dict(\n",
    "    \"var_vec\" => var_vec,\n",
    "    \"Σ\" => Σ,\n",
    "    \"z_g\" => 1.945,\n",
    "    \"z_v\" => 2.576,\n",
    "    \"toggle_volt_cc\" => false,\n",
    "    \"toggle_gen_cc\" => false,\n",
    "    \"vfac\" => 0, # decrease upper bound by factor (1-vfac) and increase lower bound by (1+vfac)\n",
    "    \"qcfac\" => 1,\n",
    "    \"output_level\" => 0,\n",
    "    \"Ψ\" => 0,\n",
    ")\n",
    "\n",
    "\n",
    "# ex1_no_uncert:\n",
    "ex1_no_uncert_settings = copy(ex1_general_settings)\n",
    "ex1_no_uncert_settings[\"toggle_volt_cc\"] = false\n",
    "ex1_no_uncert_settings[\"toggle_gen_cc\"] = false\n",
    "\n",
    "experiment1[\"no_uncert\"] = Dict(\n",
    "    \"verbose\" => \"ex1_no_uncert\",\n",
    "    \"feeder\" => feeder,\n",
    "    \"settings\" => ex1_no_uncert_settings,\n",
    ")\n",
    "\n",
    "# ex1_uncert:\n",
    "ex1_uncert_settings = copy(ex1_general_settings)\n",
    "ex1_uncert_settings[\"toggle_volt_cc\"] = true\n",
    "ex1_uncert_settings[\"toggle_gen_cc\"] = true\n",
    "experiment1[\"uncert\"] = Dict(\n",
    "    \"verbose\" => \"ex1_uncert\",\n",
    "    \"feeder\" => feeder,\n",
    "    \"settings\" => ex1_uncert_settings,\n",
    ")\n",
    "\n",
    "# ex1_gen_uncert:\n",
    "ex1_uncert_settings = copy(ex1_general_settings)\n",
    "ex1_uncert_settings[\"toggle_volt_cc\"] = false\n",
    "ex1_uncert_settings[\"toggle_gen_cc\"] = true\n",
    "experiment1[\"gen_uncert\"] = Dict(\n",
    "    \"verbose\" => \"ex1_gen_uncert\",\n",
    "    \"feeder\" => feeder,\n",
    "    \"settings\" => ex1_uncert_settings,\n",
    ")\n",
    "\n",
    "# Run \n",
    "experiment1 = run_experiment(experiment1)\n",
    "\n",
    "# Show results\n",
    "sleep(.2) # just to ensure correct printing order\n",
    "for case in keys(experiment1)\n",
    "    display(experiment1[case][\"results\"])\n",
    "end"
   ]
  },
  {
   "cell_type": "code",
   "execution_count": 137,
   "metadata": {},
   "outputs": [
    {
     "name": "stdout",
     "output_type": "stream",
     "text": [
      "Saving ex1_uncert\n",
      "Saving ex1_gen_uncert\n",
      "Saving ex1_no_uncert\n",
      ">>>> Saved with timestamp 190319_1235\n"
     ]
    }
   ],
   "source": [
    "save_experiment(\"experiment1\", experiment1)"
   ]
  },
  {
   "cell_type": "markdown",
   "metadata": {},
   "source": [
    "## Experiment 2\n",
    "\n",
    "Same as Experiment1 but with wider voltage constraints\n",
    "\n",
    "### Description\n",
    "\n",
    "Ex1:\n",
    "- tag: `experiment2` \n",
    "- bascase voltage (0.9-1.1) and `vfac = 0.015`\n",
    "- all nodes have 20% standard deviation of their forecasted load\n",
    "\n",
    "Runs:\n",
    "- `ex2_no_uncert`: deterministic case\n",
    "- `ex2_uncert`: case with uncertainty\n",
    "- `ex2_gen_uncert`: chance constraints only in generation\n",
    "\n",
    "\n",
    "### Notes and Observations\n",
    "\n",
    "- Without uncertainty the network is \"uncongested\" so that price for active power is the same at all nodes\n",
    "- With uncertainty, some voltage constraints become binding and there are differences in the prices"
   ]
  },
  {
   "cell_type": "code",
   "execution_count": 91,
   "metadata": {},
   "outputs": [
    {
     "name": "stdout",
     "output_type": "stream",
     "text": [
      ">>>>> Reading feeder data from data/feeder_data/basecase_noneg/\n",
      "Running ex2_uncert\n",
      ">>>> Building Model\n",
      ">>>> Running Model\n",
      "MOSEK warning 705: #3 (nearly) zero elements are specified in sparse row ''(87) of matrix 'A'.\n",
      "MOSEK warning 705: #4 (nearly) zero elements are specified in sparse row ''(93) of matrix 'A'.\n",
      ">>>> Model finished with status OPTIMAL in 0.007843212 seconds\n",
      ">>>> Post-Processing\n",
      "\n",
      "Running ex2_gen_uncert\n",
      ">>>> Building Model\n",
      ">>>> Running Model\n",
      ">>>> Model finished with status OPTIMAL in 0.003812651 seconds\n",
      ">>>> Post-Processing\n",
      "\n",
      "Running ex2_no_uncert\n",
      ">>>> Building Model\n",
      ">>>> Running Model\n",
      ">>>> Model finished with status OPTIMAL in 0.003399181 seconds\n",
      ">>>> Post-Processing\n",
      "\n"
     ]
    },
    {
     "data": {
      "text/html": [
       "<table class=\"data-frame\"><thead><tr><th></th><th>objective</th><th>bus</th><th>gp</th><th>gq</th><th>voltage</th><th>alpha</th><th>lambda</th><th>pi</th><th>gamma</th><th>eta</th><th>delta_plus</th><th>delta_minus</th><th>mu_plus</th><th>mu_minus</th><th>voltvar</th></tr><tr><th></th><th>Float64</th><th>Any</th><th>Any</th><th>Any</th><th>Any</th><th>Any</th><th>Any</th><th>Any</th><th>Float64</th><th>Any</th><th>Any</th><th>Any</th><th>Any</th><th>Any</th><th>Any</th></tr></thead><tbody><p>15 rows × 15 columns</p><tr><th>1</th><td>39.2794</td><td>1</td><td>0.0857702</td><td>0.881656</td><td>1.0</td><td>0.760573</td><td>-99.9999</td><td>-2.30916e-10</td><td>-14.3403</td><td>0</td><td>0</td><td>0</td><td>0</td><td>0</td><td>0</td></tr><tr><th>2</th><td>0.0</td><td>2</td><td>0</td><td>0</td><td>0.907023</td><td>0</td><td>-100.921</td><td>-110.542</td><td>0.0</td><td>-0.210678</td><td>0</td><td>0</td><td>-2.5723e-5</td><td>-604.24</td><td>0.000104909</td></tr><tr><th>3</th><td>0.0</td><td>3</td><td>0</td><td>0</td><td>0.959633</td><td>0</td><td>-75.5532</td><td>-74.2863</td><td>0.0</td><td>-0.304143</td><td>0</td><td>0</td><td>-4.53327e-5</td><td>-0.000268686</td><td>0.0125928</td></tr><tr><th>4</th><td>0.0</td><td>4</td><td>0</td><td>0</td><td>1.03674</td><td>0</td><td>-35.792</td><td>-17.4599</td><td>0.0</td><td>-0.450639</td><td>0</td><td>0</td><td>-0.000246282</td><td>-5.48751e-5</td><td>0.0160412</td></tr><tr><th>5</th><td>0.0</td><td>5</td><td>0</td><td>0</td><td>1.0435</td><td>0</td><td>-33.0427</td><td>-13.5303</td><td>0.0</td><td>-0.459314</td><td>0</td><td>0</td><td>-0.000306164</td><td>-4.87924e-5</td><td>0.0146326</td></tr><tr><th>6</th><td>0.0</td><td>6</td><td>0</td><td>0</td><td>1.05003</td><td>0</td><td>-30.5238</td><td>-9.91742</td><td>0.0</td><td>-0.467263</td><td>0</td><td>0</td><td>-0.000399222</td><td>-4.40959e-5</td><td>0.0132045</td></tr><tr><th>7</th><td>0.0</td><td>7</td><td>0.952347</td><td>-0.343599</td><td>1.06965</td><td>0.0407667</td><td>-23.5859</td><td>-4.28071e-5</td><td>0.0</td><td>-0.489156</td><td>-11.8454</td><td>-1.06702e-5</td><td>-71.97</td><td>-3.45364e-5</td><td>0.00925917</td></tr><tr><th>8</th><td>0.0</td><td>8</td><td>0</td><td>0</td><td>1.03528</td><td>0</td><td>-29.9576</td><td>-9.11688</td><td>0.0</td><td>-0.475232</td><td>0</td><td>0</td><td>-0.000292193</td><td>-6.03509e-5</td><td>0.0173229</td></tr><tr><th>9</th><td>0.0</td><td>9</td><td>0</td><td>0</td><td>1.04532</td><td>0</td><td>-29.9576</td><td>-9.11692</td><td>0.0</td><td>-0.475232</td><td>0</td><td>0</td><td>-0.000378628</td><td>-4.94932e-5</td><td>0.0145953</td></tr><tr><th>10</th><td>0.0</td><td>10</td><td>0</td><td>0</td><td>1.04963</td><td>0</td><td>-28.5241</td><td>-7.06702</td><td>0.0</td><td>-0.481274</td><td>0</td><td>0</td><td>-0.000480244</td><td>-4.64881e-5</td><td>0.0137678</td></tr><tr><th>11</th><td>0.0</td><td>11</td><td>0</td><td>0</td><td>1.06091</td><td>0</td><td>-25.0694</td><td>-2.12149</td><td>0.0</td><td>-0.495835</td><td>0</td><td>0</td><td>-0.00182861</td><td>-4.01669e-5</td><td>0.0117671</td></tr><tr><th>12</th><td>0.0</td><td>12</td><td>0.767783</td><td>-0.157058</td><td>1.06599</td><td>0.19866</td><td>-23.593</td><td>-1.57449e-5</td><td>0.0</td><td>-0.502056</td><td>-12.1892</td><td>-1.70889e-5</td><td>-71.6726</td><td>-3.78299e-5</td><td>0.0107773</td></tr><tr><th>13</th><td>0.0</td><td>13</td><td>0</td><td>0</td><td>0.982619</td><td>0</td><td>-99.9999</td><td>-0.000152308</td><td>0.0</td><td>-9.65486e-10</td><td>0</td><td>0</td><td>0.0</td><td>-0.000198892</td><td>0.0184244</td></tr><tr><th>14</th><td>0.0</td><td>14</td><td>0</td><td>0</td><td>0.977795</td><td>0</td><td>-100.0</td><td>-0.000249824</td><td>0.0</td><td>-1.20321e-7</td><td>0</td><td>0</td><td>0.0</td><td>-0.00021321</td><td>0.0172142</td></tr><tr><th>15</th><td>0.0</td><td>15</td><td>0</td><td>0</td><td>0.975027</td><td>0</td><td>-100.0</td><td>-0.000280265</td><td>0.0</td><td>-1.61516e-7</td><td>0</td><td>0</td><td>0.0</td><td>-0.000222517</td><td>0.0165284</td></tr></tbody></table>"
      ],
      "text/latex": [
       "\\begin{tabular}{r|ccccccccccccccc}\n",
       "\t& objective & bus & gp & gq & voltage & alpha & lambda & pi & gamma & eta & delta\\_plus & delta\\_minus & mu\\_plus & mu\\_minus & voltvar\\\\\n",
       "\t\\hline\n",
       "\t& Float64 & Any & Any & Any & Any & Any & Any & Any & Float64 & Any & Any & Any & Any & Any & Any\\\\\n",
       "\t\\hline\n",
       "\t1 & 39.2794 & 1 & 0.0857702 & 0.881656 & 1.0 & 0.760573 & -99.9999 & -2.30916e-10 & -14.3403 & 0 & 0 & 0 & 0 & 0 & 0 \\\\\n",
       "\t2 & 0.0 & 2 & 0 & 0 & 0.907023 & 0 & -100.921 & -110.542 & 0.0 & -0.210678 & 0 & 0 & -2.5723e-5 & -604.24 & 0.000104909 \\\\\n",
       "\t3 & 0.0 & 3 & 0 & 0 & 0.959633 & 0 & -75.5532 & -74.2863 & 0.0 & -0.304143 & 0 & 0 & -4.53327e-5 & -0.000268686 & 0.0125928 \\\\\n",
       "\t4 & 0.0 & 4 & 0 & 0 & 1.03674 & 0 & -35.792 & -17.4599 & 0.0 & -0.450639 & 0 & 0 & -0.000246282 & -5.48751e-5 & 0.0160412 \\\\\n",
       "\t5 & 0.0 & 5 & 0 & 0 & 1.0435 & 0 & -33.0427 & -13.5303 & 0.0 & -0.459314 & 0 & 0 & -0.000306164 & -4.87924e-5 & 0.0146326 \\\\\n",
       "\t6 & 0.0 & 6 & 0 & 0 & 1.05003 & 0 & -30.5238 & -9.91742 & 0.0 & -0.467263 & 0 & 0 & -0.000399222 & -4.40959e-5 & 0.0132045 \\\\\n",
       "\t7 & 0.0 & 7 & 0.952347 & -0.343599 & 1.06965 & 0.0407667 & -23.5859 & -4.28071e-5 & 0.0 & -0.489156 & -11.8454 & -1.06702e-5 & -71.97 & -3.45364e-5 & 0.00925917 \\\\\n",
       "\t8 & 0.0 & 8 & 0 & 0 & 1.03528 & 0 & -29.9576 & -9.11688 & 0.0 & -0.475232 & 0 & 0 & -0.000292193 & -6.03509e-5 & 0.0173229 \\\\\n",
       "\t9 & 0.0 & 9 & 0 & 0 & 1.04532 & 0 & -29.9576 & -9.11692 & 0.0 & -0.475232 & 0 & 0 & -0.000378628 & -4.94932e-5 & 0.0145953 \\\\\n",
       "\t10 & 0.0 & 10 & 0 & 0 & 1.04963 & 0 & -28.5241 & -7.06702 & 0.0 & -0.481274 & 0 & 0 & -0.000480244 & -4.64881e-5 & 0.0137678 \\\\\n",
       "\t11 & 0.0 & 11 & 0 & 0 & 1.06091 & 0 & -25.0694 & -2.12149 & 0.0 & -0.495835 & 0 & 0 & -0.00182861 & -4.01669e-5 & 0.0117671 \\\\\n",
       "\t12 & 0.0 & 12 & 0.767783 & -0.157058 & 1.06599 & 0.19866 & -23.593 & -1.57449e-5 & 0.0 & -0.502056 & -12.1892 & -1.70889e-5 & -71.6726 & -3.78299e-5 & 0.0107773 \\\\\n",
       "\t13 & 0.0 & 13 & 0 & 0 & 0.982619 & 0 & -99.9999 & -0.000152308 & 0.0 & -9.65486e-10 & 0 & 0 & 0.0 & -0.000198892 & 0.0184244 \\\\\n",
       "\t14 & 0.0 & 14 & 0 & 0 & 0.977795 & 0 & -100.0 & -0.000249824 & 0.0 & -1.20321e-7 & 0 & 0 & 0.0 & -0.00021321 & 0.0172142 \\\\\n",
       "\t15 & 0.0 & 15 & 0 & 0 & 0.975027 & 0 & -100.0 & -0.000280265 & 0.0 & -1.61516e-7 & 0 & 0 & 0.0 & -0.000222517 & 0.0165284 \\\\\n",
       "\\end{tabular}\n"
      ],
      "text/plain": [
       "15×15 DataFrame. Omitted printing of 9 columns\n",
       "│ Row │ objective │ bus │ gp        │ gq        │ voltage  │ alpha     │\n",
       "│     │ \u001b[90mFloat64\u001b[39m   │ \u001b[90mAny\u001b[39m │ \u001b[90mAny\u001b[39m       │ \u001b[90mAny\u001b[39m       │ \u001b[90mAny\u001b[39m      │ \u001b[90mAny\u001b[39m       │\n",
       "├─────┼───────────┼─────┼───────────┼───────────┼──────────┼───────────┤\n",
       "│ 1   │ 39.2794   │ 1   │ 0.0857702 │ 0.881656  │ 1.0      │ 0.760573  │\n",
       "│ 2   │ 0.0       │ 2   │ 0         │ 0         │ 0.907023 │ 0         │\n",
       "│ 3   │ 0.0       │ 3   │ 0         │ 0         │ 0.959633 │ 0         │\n",
       "│ 4   │ 0.0       │ 4   │ 0         │ 0         │ 1.03674  │ 0         │\n",
       "│ 5   │ 0.0       │ 5   │ 0         │ 0         │ 1.0435   │ 0         │\n",
       "│ 6   │ 0.0       │ 6   │ 0         │ 0         │ 1.05003  │ 0         │\n",
       "│ 7   │ 0.0       │ 7   │ 0.952347  │ -0.343599 │ 1.06965  │ 0.0407667 │\n",
       "│ 8   │ 0.0       │ 8   │ 0         │ 0         │ 1.03528  │ 0         │\n",
       "│ 9   │ 0.0       │ 9   │ 0         │ 0         │ 1.04532  │ 0         │\n",
       "│ 10  │ 0.0       │ 10  │ 0         │ 0         │ 1.04963  │ 0         │\n",
       "│ 11  │ 0.0       │ 11  │ 0         │ 0         │ 1.06091  │ 0         │\n",
       "│ 12  │ 0.0       │ 12  │ 0.767783  │ -0.157058 │ 1.06599  │ 0.19866   │\n",
       "│ 13  │ 0.0       │ 13  │ 0         │ 0         │ 0.982619 │ 0         │\n",
       "│ 14  │ 0.0       │ 14  │ 0         │ 0         │ 0.977795 │ 0         │\n",
       "│ 15  │ 0.0       │ 15  │ 0         │ 0         │ 0.975027 │ 0         │"
      ]
     },
     "metadata": {},
     "output_type": "display_data"
    },
    {
     "data": {
      "text/html": [
       "<table class=\"data-frame\"><thead><tr><th></th><th>objective</th><th>bus</th><th>gp</th><th>gq</th><th>voltage</th><th>alpha</th><th>lambda</th><th>pi</th><th>gamma</th><th>eta</th><th>delta_plus</th><th>delta_minus</th><th>mu_plus</th><th>mu_minus</th><th>voltvar</th></tr><tr><th></th><th>Float64</th><th>Any</th><th>Any</th><th>Any</th><th>Any</th><th>Any</th><th>Any</th><th>Any</th><th>Float64</th><th>Any</th><th>Any</th><th>Any</th><th>Any</th><th>Any</th><th>Any</th></tr></thead><tbody><p>15 rows × 15 columns</p><tr><th>1</th><td>32.7111</td><td>1</td><td>0</td><td>0.879323</td><td>1.0</td><td>0.833948</td><td>-23.6466</td><td>0.0</td><td>-14.1386</td><td>0</td><td>0</td><td>0</td><td>0</td><td>0</td><td>0</td></tr><tr><th>2</th><td>0.0</td><td>2</td><td>0</td><td>0</td><td>0.907426</td><td>0</td><td>-23.6466</td><td>-1.9919e-5</td><td>0.0</td><td>0</td><td>0</td><td>0</td><td>-1.25402e-8</td><td>-0.00010901</td><td>0</td></tr><tr><th>3</th><td>0.0</td><td>3</td><td>0</td><td>0</td><td>0.968175</td><td>0</td><td>-23.6466</td><td>-1.33561e-5</td><td>0.0</td><td>0</td><td>0</td><td>0</td><td>-1.91477e-8</td><td>-4.42698e-8</td><td>0</td></tr><tr><th>4</th><td>0.0</td><td>4</td><td>0</td><td>0</td><td>1.05639</td><td>0</td><td>-23.6466</td><td>-3.05979e-6</td><td>0.0</td><td>0</td><td>0</td><td>0</td><td>-9.97572e-8</td><td>-2.04306e-8</td><td>0</td></tr><tr><th>5</th><td>0.0</td><td>5</td><td>0</td><td>0</td><td>1.06356</td><td>0</td><td>-23.6466</td><td>-2.35397e-6</td><td>0.0</td><td>0</td><td>0</td><td>0</td><td>-1.21447e-7</td><td>-1.91635e-8</td><td>0</td></tr><tr><th>6</th><td>0.0</td><td>6</td><td>0</td><td>0</td><td>1.07044</td><td>0</td><td>-23.6466</td><td>-1.71017e-6</td><td>0.0</td><td>0</td><td>0</td><td>0</td><td>-1.51961e-7</td><td>-1.81176e-8</td><td>0</td></tr><tr><th>7</th><td>0.0</td><td>7</td><td>0.902938</td><td>-0.288492</td><td>1.09099</td><td>0.0830366</td><td>-23.6466</td><td>-3.86436e-8</td><td>0.0</td><td>0</td><td>-12.0655</td><td>-2.81115e-9</td><td>-1.27066e-5</td><td>-1.56225e-8</td><td>0</td></tr><tr><th>8</th><td>0.0</td><td>8</td><td>0</td><td>0</td><td>1.05726</td><td>0</td><td>-23.6466</td><td>-1.54748e-6</td><td>0.0</td><td>0</td><td>0</td><td>0</td><td>-0.0</td><td>-2.19597e-8</td><td>0</td></tr><tr><th>9</th><td>0.0</td><td>9</td><td>0</td><td>0</td><td>1.06709</td><td>0</td><td>-23.6466</td><td>-1.54419e-6</td><td>0.0</td><td>0</td><td>0</td><td>0</td><td>-2.27122e-7</td><td>-0.0</td><td>0</td></tr><tr><th>10</th><td>0.0</td><td>10</td><td>0</td><td>0</td><td>1.07187</td><td>0</td><td>-23.6466</td><td>-1.17767e-6</td><td>0.0</td><td>0</td><td>0</td><td>0</td><td>-3.25621e-7</td><td>-1.92742e-8</td><td>0</td></tr><tr><th>11</th><td>0.0</td><td>11</td><td>0</td><td>0</td><td>1.08425</td><td>0</td><td>-23.6466</td><td>-3.14545e-7</td><td>0.0</td><td>0</td><td>0</td><td>0</td><td>-1.02143e-6</td><td>-1.80337e-8</td><td>0</td></tr><tr><th>12</th><td>0.0</td><td>12</td><td>0.902962</td><td>-0.209832</td><td>1.08977</td><td>0.0830154</td><td>-23.6466</td><td>-2.60239e-8</td><td>0.0</td><td>0</td><td>-12.0654</td><td>-4.1227e-9</td><td>-1.15232e-5</td><td>-1.75226e-8</td><td>0</td></tr><tr><th>13</th><td>0.0</td><td>13</td><td>0</td><td>0</td><td>0.982619</td><td>0</td><td>-23.6466</td><td>0.0</td><td>0.0</td><td>0</td><td>0</td><td>0</td><td>-0.0</td><td>-0.0</td><td>0</td></tr><tr><th>14</th><td>0.0</td><td>14</td><td>0</td><td>0</td><td>0.977795</td><td>0</td><td>-23.6466</td><td>0.0</td><td>0.0</td><td>0</td><td>0</td><td>0</td><td>-0.0</td><td>-0.0</td><td>0</td></tr><tr><th>15</th><td>0.0</td><td>15</td><td>0</td><td>0</td><td>0.975027</td><td>0</td><td>-23.6466</td><td>0.0</td><td>0.0</td><td>0</td><td>0</td><td>0</td><td>-0.0</td><td>-0.0</td><td>0</td></tr></tbody></table>"
      ],
      "text/latex": [
       "\\begin{tabular}{r|ccccccccccccccc}\n",
       "\t& objective & bus & gp & gq & voltage & alpha & lambda & pi & gamma & eta & delta\\_plus & delta\\_minus & mu\\_plus & mu\\_minus & voltvar\\\\\n",
       "\t\\hline\n",
       "\t& Float64 & Any & Any & Any & Any & Any & Any & Any & Float64 & Any & Any & Any & Any & Any & Any\\\\\n",
       "\t\\hline\n",
       "\t1 & 32.7111 & 1 & 0 & 0.879323 & 1.0 & 0.833948 & -23.6466 & 0.0 & -14.1386 & 0 & 0 & 0 & 0 & 0 & 0 \\\\\n",
       "\t2 & 0.0 & 2 & 0 & 0 & 0.907426 & 0 & -23.6466 & -1.9919e-5 & 0.0 & 0 & 0 & 0 & -1.25402e-8 & -0.00010901 & 0 \\\\\n",
       "\t3 & 0.0 & 3 & 0 & 0 & 0.968175 & 0 & -23.6466 & -1.33561e-5 & 0.0 & 0 & 0 & 0 & -1.91477e-8 & -4.42698e-8 & 0 \\\\\n",
       "\t4 & 0.0 & 4 & 0 & 0 & 1.05639 & 0 & -23.6466 & -3.05979e-6 & 0.0 & 0 & 0 & 0 & -9.97572e-8 & -2.04306e-8 & 0 \\\\\n",
       "\t5 & 0.0 & 5 & 0 & 0 & 1.06356 & 0 & -23.6466 & -2.35397e-6 & 0.0 & 0 & 0 & 0 & -1.21447e-7 & -1.91635e-8 & 0 \\\\\n",
       "\t6 & 0.0 & 6 & 0 & 0 & 1.07044 & 0 & -23.6466 & -1.71017e-6 & 0.0 & 0 & 0 & 0 & -1.51961e-7 & -1.81176e-8 & 0 \\\\\n",
       "\t7 & 0.0 & 7 & 0.902938 & -0.288492 & 1.09099 & 0.0830366 & -23.6466 & -3.86436e-8 & 0.0 & 0 & -12.0655 & -2.81115e-9 & -1.27066e-5 & -1.56225e-8 & 0 \\\\\n",
       "\t8 & 0.0 & 8 & 0 & 0 & 1.05726 & 0 & -23.6466 & -1.54748e-6 & 0.0 & 0 & 0 & 0 & -0.0 & -2.19597e-8 & 0 \\\\\n",
       "\t9 & 0.0 & 9 & 0 & 0 & 1.06709 & 0 & -23.6466 & -1.54419e-6 & 0.0 & 0 & 0 & 0 & -2.27122e-7 & -0.0 & 0 \\\\\n",
       "\t10 & 0.0 & 10 & 0 & 0 & 1.07187 & 0 & -23.6466 & -1.17767e-6 & 0.0 & 0 & 0 & 0 & -3.25621e-7 & -1.92742e-8 & 0 \\\\\n",
       "\t11 & 0.0 & 11 & 0 & 0 & 1.08425 & 0 & -23.6466 & -3.14545e-7 & 0.0 & 0 & 0 & 0 & -1.02143e-6 & -1.80337e-8 & 0 \\\\\n",
       "\t12 & 0.0 & 12 & 0.902962 & -0.209832 & 1.08977 & 0.0830154 & -23.6466 & -2.60239e-8 & 0.0 & 0 & -12.0654 & -4.1227e-9 & -1.15232e-5 & -1.75226e-8 & 0 \\\\\n",
       "\t13 & 0.0 & 13 & 0 & 0 & 0.982619 & 0 & -23.6466 & 0.0 & 0.0 & 0 & 0 & 0 & -0.0 & -0.0 & 0 \\\\\n",
       "\t14 & 0.0 & 14 & 0 & 0 & 0.977795 & 0 & -23.6466 & 0.0 & 0.0 & 0 & 0 & 0 & -0.0 & -0.0 & 0 \\\\\n",
       "\t15 & 0.0 & 15 & 0 & 0 & 0.975027 & 0 & -23.6466 & 0.0 & 0.0 & 0 & 0 & 0 & -0.0 & -0.0 & 0 \\\\\n",
       "\\end{tabular}\n"
      ],
      "text/plain": [
       "15×15 DataFrame. Omitted printing of 9 columns\n",
       "│ Row │ objective │ bus │ gp       │ gq        │ voltage  │ alpha     │\n",
       "│     │ \u001b[90mFloat64\u001b[39m   │ \u001b[90mAny\u001b[39m │ \u001b[90mAny\u001b[39m      │ \u001b[90mAny\u001b[39m       │ \u001b[90mAny\u001b[39m      │ \u001b[90mAny\u001b[39m       │\n",
       "├─────┼───────────┼─────┼──────────┼───────────┼──────────┼───────────┤\n",
       "│ 1   │ 32.7111   │ 1   │ 0        │ 0.879323  │ 1.0      │ 0.833948  │\n",
       "│ 2   │ 0.0       │ 2   │ 0        │ 0         │ 0.907426 │ 0         │\n",
       "│ 3   │ 0.0       │ 3   │ 0        │ 0         │ 0.968175 │ 0         │\n",
       "│ 4   │ 0.0       │ 4   │ 0        │ 0         │ 1.05639  │ 0         │\n",
       "│ 5   │ 0.0       │ 5   │ 0        │ 0         │ 1.06356  │ 0         │\n",
       "│ 6   │ 0.0       │ 6   │ 0        │ 0         │ 1.07044  │ 0         │\n",
       "│ 7   │ 0.0       │ 7   │ 0.902938 │ -0.288492 │ 1.09099  │ 0.0830366 │\n",
       "│ 8   │ 0.0       │ 8   │ 0        │ 0         │ 1.05726  │ 0         │\n",
       "│ 9   │ 0.0       │ 9   │ 0        │ 0         │ 1.06709  │ 0         │\n",
       "│ 10  │ 0.0       │ 10  │ 0        │ 0         │ 1.07187  │ 0         │\n",
       "│ 11  │ 0.0       │ 11  │ 0        │ 0         │ 1.08425  │ 0         │\n",
       "│ 12  │ 0.0       │ 12  │ 0.902962 │ -0.209832 │ 1.08977  │ 0.0830154 │\n",
       "│ 13  │ 0.0       │ 13  │ 0        │ 0         │ 0.982619 │ 0         │\n",
       "│ 14  │ 0.0       │ 14  │ 0        │ 0         │ 0.977795 │ 0         │\n",
       "│ 15  │ 0.0       │ 15  │ 0        │ 0         │ 0.975027 │ 0         │"
      ]
     },
     "metadata": {},
     "output_type": "display_data"
    },
    {
     "data": {
      "text/html": [
       "<table class=\"data-frame\"><thead><tr><th></th><th>objective</th><th>bus</th><th>gp</th><th>gq</th><th>voltage</th><th>alpha</th><th>lambda</th><th>pi</th><th>gamma</th><th>eta</th><th>delta_plus</th><th>delta_minus</th><th>mu_plus</th><th>mu_minus</th><th>voltvar</th></tr><tr><th></th><th>Float64</th><th>Any</th><th>Any</th><th>Any</th><th>Any</th><th>Any</th><th>Any</th><th>Any</th><th>Float64</th><th>Any</th><th>Any</th><th>Any</th><th>Any</th><th>Any</th><th>Any</th></tr></thead><tbody><p>15 rows × 15 columns</p><tr><th>1</th><td>19.775</td><td>1</td><td>0</td><td>0.882817</td><td>1.0</td><td>0</td><td>-10.9502</td><td>0.0</td><td>0.0</td><td>0</td><td>0</td><td>0</td><td>0</td><td>0</td><td>0</td></tr><tr><th>2</th><td>0.0</td><td>2</td><td>0</td><td>0</td><td>0.906964</td><td>0</td><td>-10.9502</td><td>-8.71133e-7</td><td>0.0</td><td>0</td><td>0</td><td>0</td><td>-0.0</td><td>-4.7659e-6</td><td>0</td></tr><tr><th>3</th><td>0.0</td><td>3</td><td>0</td><td>0</td><td>0.967286</td><td>0</td><td>-10.9502</td><td>-5.84362e-7</td><td>0.0</td><td>0</td><td>0</td><td>0</td><td>-8.78755e-10</td><td>-3.50506e-9</td><td>0</td></tr><tr><th>4</th><td>0.0</td><td>4</td><td>0</td><td>0</td><td>1.05492</td><td>0</td><td>-10.9502</td><td>-1.33852e-7</td><td>0.0</td><td>0</td><td>0</td><td>0</td><td>-4.67538e-9</td><td>-1.15479e-9</td><td>0</td></tr><tr><th>5</th><td>0.0</td><td>5</td><td>0</td><td>0</td><td>1.0622</td><td>0</td><td>-10.9502</td><td>-1.0294e-7</td><td>0.0</td><td>0</td><td>0</td><td>0</td><td>-6.32667e-9</td><td>-1.0487e-9</td><td>0</td></tr><tr><th>6</th><td>0.0</td><td>6</td><td>0</td><td>0</td><td>1.06919</td><td>0</td><td>-10.9502</td><td>-7.47848e-8</td><td>0.0</td><td>0</td><td>0</td><td>0</td><td>-9.02283e-9</td><td>-9.60231e-10</td><td>0</td></tr><tr><th>7</th><td>0.0</td><td>7</td><td>0.902948</td><td>-0.284415</td><td>1.09003</td><td>0</td><td>-10.9502</td><td>-1.3919e-9</td><td>0.0</td><td>0</td><td>-4.16475e-9</td><td>-6.51488e-11</td><td>-5.5356e-7</td><td>-7.53593e-10</td><td>0</td></tr><tr><th>8</th><td>0.0</td><td>8</td><td>0</td><td>0</td><td>1.05538</td><td>0</td><td>-10.9502</td><td>-6.77963e-8</td><td>0.0</td><td>0</td><td>0</td><td>0</td><td>-0.0</td><td>-1.28262e-9</td><td>0</td></tr><tr><th>9</th><td>0.0</td><td>9</td><td>0</td><td>0</td><td>1.06522</td><td>0</td><td>-10.9502</td><td>-6.76047e-8</td><td>0.0</td><td>0</td><td>0</td><td>0</td><td>-8.72538e-9</td><td>-0.0</td><td>0</td></tr><tr><th>10</th><td>0.0</td><td>10</td><td>0</td><td>0</td><td>1.06991</td><td>0</td><td>-10.9502</td><td>-5.15403e-8</td><td>0.0</td><td>0</td><td>0</td><td>0</td><td>-1.26555e-8</td><td>-0.0</td><td>0</td></tr><tr><th>11</th><td>0.0</td><td>11</td><td>0</td><td>0</td><td>1.08206</td><td>0</td><td>-10.9502</td><td>-1.36568e-8</td><td>0.0</td><td>0</td><td>0</td><td>0</td><td>-5.99395e-8</td><td>-9.87805e-10</td><td>0</td></tr><tr><th>12</th><td>0.0</td><td>12</td><td>0.902952</td><td>-0.217402</td><td>1.0875</td><td>0</td><td>-10.9502</td><td>-8.49771e-10</td><td>0.0</td><td>0</td><td>-1.55872e-9</td><td>-9.72521e-11</td><td>-4.91032e-7</td><td>-9.46523e-10</td><td>0</td></tr><tr><th>13</th><td>0.0</td><td>13</td><td>0</td><td>0</td><td>0.982619</td><td>0</td><td>-10.9502</td><td>0.0</td><td>0.0</td><td>0</td><td>0</td><td>0</td><td>-0.0</td><td>-0.0</td><td>0</td></tr><tr><th>14</th><td>0.0</td><td>14</td><td>0</td><td>0</td><td>0.977795</td><td>0</td><td>-10.9502</td><td>0.0</td><td>0.0</td><td>0</td><td>0</td><td>0</td><td>-0.0</td><td>-0.0</td><td>0</td></tr><tr><th>15</th><td>0.0</td><td>15</td><td>0</td><td>0</td><td>0.975027</td><td>0</td><td>-10.9502</td><td>0.0</td><td>0.0</td><td>0</td><td>0</td><td>0</td><td>-0.0</td><td>-0.0</td><td>0</td></tr></tbody></table>"
      ],
      "text/latex": [
       "\\begin{tabular}{r|ccccccccccccccc}\n",
       "\t& objective & bus & gp & gq & voltage & alpha & lambda & pi & gamma & eta & delta\\_plus & delta\\_minus & mu\\_plus & mu\\_minus & voltvar\\\\\n",
       "\t\\hline\n",
       "\t& Float64 & Any & Any & Any & Any & Any & Any & Any & Float64 & Any & Any & Any & Any & Any & Any\\\\\n",
       "\t\\hline\n",
       "\t1 & 19.775 & 1 & 0 & 0.882817 & 1.0 & 0 & -10.9502 & 0.0 & 0.0 & 0 & 0 & 0 & 0 & 0 & 0 \\\\\n",
       "\t2 & 0.0 & 2 & 0 & 0 & 0.906964 & 0 & -10.9502 & -8.71133e-7 & 0.0 & 0 & 0 & 0 & -0.0 & -4.7659e-6 & 0 \\\\\n",
       "\t3 & 0.0 & 3 & 0 & 0 & 0.967286 & 0 & -10.9502 & -5.84362e-7 & 0.0 & 0 & 0 & 0 & -8.78755e-10 & -3.50506e-9 & 0 \\\\\n",
       "\t4 & 0.0 & 4 & 0 & 0 & 1.05492 & 0 & -10.9502 & -1.33852e-7 & 0.0 & 0 & 0 & 0 & -4.67538e-9 & -1.15479e-9 & 0 \\\\\n",
       "\t5 & 0.0 & 5 & 0 & 0 & 1.0622 & 0 & -10.9502 & -1.0294e-7 & 0.0 & 0 & 0 & 0 & -6.32667e-9 & -1.0487e-9 & 0 \\\\\n",
       "\t6 & 0.0 & 6 & 0 & 0 & 1.06919 & 0 & -10.9502 & -7.47848e-8 & 0.0 & 0 & 0 & 0 & -9.02283e-9 & -9.60231e-10 & 0 \\\\\n",
       "\t7 & 0.0 & 7 & 0.902948 & -0.284415 & 1.09003 & 0 & -10.9502 & -1.3919e-9 & 0.0 & 0 & -4.16475e-9 & -6.51488e-11 & -5.5356e-7 & -7.53593e-10 & 0 \\\\\n",
       "\t8 & 0.0 & 8 & 0 & 0 & 1.05538 & 0 & -10.9502 & -6.77963e-8 & 0.0 & 0 & 0 & 0 & -0.0 & -1.28262e-9 & 0 \\\\\n",
       "\t9 & 0.0 & 9 & 0 & 0 & 1.06522 & 0 & -10.9502 & -6.76047e-8 & 0.0 & 0 & 0 & 0 & -8.72538e-9 & -0.0 & 0 \\\\\n",
       "\t10 & 0.0 & 10 & 0 & 0 & 1.06991 & 0 & -10.9502 & -5.15403e-8 & 0.0 & 0 & 0 & 0 & -1.26555e-8 & -0.0 & 0 \\\\\n",
       "\t11 & 0.0 & 11 & 0 & 0 & 1.08206 & 0 & -10.9502 & -1.36568e-8 & 0.0 & 0 & 0 & 0 & -5.99395e-8 & -9.87805e-10 & 0 \\\\\n",
       "\t12 & 0.0 & 12 & 0.902952 & -0.217402 & 1.0875 & 0 & -10.9502 & -8.49771e-10 & 0.0 & 0 & -1.55872e-9 & -9.72521e-11 & -4.91032e-7 & -9.46523e-10 & 0 \\\\\n",
       "\t13 & 0.0 & 13 & 0 & 0 & 0.982619 & 0 & -10.9502 & 0.0 & 0.0 & 0 & 0 & 0 & -0.0 & -0.0 & 0 \\\\\n",
       "\t14 & 0.0 & 14 & 0 & 0 & 0.977795 & 0 & -10.9502 & 0.0 & 0.0 & 0 & 0 & 0 & -0.0 & -0.0 & 0 \\\\\n",
       "\t15 & 0.0 & 15 & 0 & 0 & 0.975027 & 0 & -10.9502 & 0.0 & 0.0 & 0 & 0 & 0 & -0.0 & -0.0 & 0 \\\\\n",
       "\\end{tabular}\n"
      ],
      "text/plain": [
       "15×15 DataFrame. Omitted printing of 8 columns\n",
       "│ Row │ objective │ bus │ gp       │ gq        │ voltage  │ alpha │ lambda   │\n",
       "│     │ \u001b[90mFloat64\u001b[39m   │ \u001b[90mAny\u001b[39m │ \u001b[90mAny\u001b[39m      │ \u001b[90mAny\u001b[39m       │ \u001b[90mAny\u001b[39m      │ \u001b[90mAny\u001b[39m   │ \u001b[90mAny\u001b[39m      │\n",
       "├─────┼───────────┼─────┼──────────┼───────────┼──────────┼───────┼──────────┤\n",
       "│ 1   │ 19.775    │ 1   │ 0        │ 0.882817  │ 1.0      │ 0     │ -10.9502 │\n",
       "│ 2   │ 0.0       │ 2   │ 0        │ 0         │ 0.906964 │ 0     │ -10.9502 │\n",
       "│ 3   │ 0.0       │ 3   │ 0        │ 0         │ 0.967286 │ 0     │ -10.9502 │\n",
       "│ 4   │ 0.0       │ 4   │ 0        │ 0         │ 1.05492  │ 0     │ -10.9502 │\n",
       "│ 5   │ 0.0       │ 5   │ 0        │ 0         │ 1.0622   │ 0     │ -10.9502 │\n",
       "│ 6   │ 0.0       │ 6   │ 0        │ 0         │ 1.06919  │ 0     │ -10.9502 │\n",
       "│ 7   │ 0.0       │ 7   │ 0.902948 │ -0.284415 │ 1.09003  │ 0     │ -10.9502 │\n",
       "│ 8   │ 0.0       │ 8   │ 0        │ 0         │ 1.05538  │ 0     │ -10.9502 │\n",
       "│ 9   │ 0.0       │ 9   │ 0        │ 0         │ 1.06522  │ 0     │ -10.9502 │\n",
       "│ 10  │ 0.0       │ 10  │ 0        │ 0         │ 1.06991  │ 0     │ -10.9502 │\n",
       "│ 11  │ 0.0       │ 11  │ 0        │ 0         │ 1.08206  │ 0     │ -10.9502 │\n",
       "│ 12  │ 0.0       │ 12  │ 0.902952 │ -0.217402 │ 1.0875   │ 0     │ -10.9502 │\n",
       "│ 13  │ 0.0       │ 13  │ 0        │ 0         │ 0.982619 │ 0     │ -10.9502 │\n",
       "│ 14  │ 0.0       │ 14  │ 0        │ 0         │ 0.977795 │ 0     │ -10.9502 │\n",
       "│ 15  │ 0.0       │ 15  │ 0        │ 0         │ 0.975027 │ 0     │ -10.9502 │"
      ]
     },
     "metadata": {},
     "output_type": "display_data"
    }
   ],
   "source": [
    "experiment2 = Dict()\n",
    "\n",
    "# Load feeder data \n",
    "feeder = load_feeder(\"data/feeder_data/basecase_noneg/\")\n",
    "\n",
    "# Set up\n",
    "relative_std = 0.2\n",
    "loads = [b.d_P for b in feeder.buses]\n",
    "std_vec = loads .* relative_std\n",
    "var_vec = std_vec.^2\n",
    "Σ = diagm(0 => var_vec)\n",
    "\n",
    "# ex2_general_settings\n",
    "ex2_general_settings = Dict(\n",
    "    \"var_vec\" => var_vec,\n",
    "    \"Σ\" => Σ,\n",
    "    \"z_g\" => 1.945,\n",
    "    \"z_v\" => 2.576,\n",
    "    \"toggle_volt_cc\" => false,\n",
    "    \"toggle_gen_cc\" => false,\n",
    "    \"vfac\" => 0.015, # decrease upper bound by factor (1-vfac) and increase lower bound by (1+vfac)\n",
    "    \"qcfac\" => 1,\n",
    "    \"output_level\" => 0,\n",
    "    \"Ψ\" => 0,\n",
    ")\n",
    "\n",
    "# ex2_no_uncert:\n",
    "ex2_no_uncert_settings = copy(ex2_general_settings)\n",
    "ex2_no_uncert_settings[\"toggle_volt_cc\"] = false\n",
    "ex2_no_uncert_settings[\"toggle_gen_cc\"] = false\n",
    "\n",
    "experiment2[\"no_uncert\"] = Dict(\n",
    "    \"verbose\" => \"ex2_no_uncert\",\n",
    "    \"feeder\" => feeder,\n",
    "    \"settings\" => ex2_no_uncert_settings,\n",
    ")\n",
    "\n",
    "# ex2_uncert:\n",
    "ex2_uncert_settings = copy(ex2_general_settings)\n",
    "ex2_uncert_settings[\"toggle_volt_cc\"] = true\n",
    "ex2_uncert_settings[\"toggle_gen_cc\"] = true\n",
    "experiment2[\"uncert\"] = Dict(\n",
    "    \"verbose\" => \"ex2_uncert\",\n",
    "    \"feeder\" => feeder,\n",
    "    \"settings\" => ex2_uncert_settings,\n",
    ")\n",
    "\n",
    "# ex2_gen_uncert:\n",
    "ex2_uncert_settings = copy(ex2_general_settings)\n",
    "ex2_uncert_settings[\"toggle_volt_cc\"] = false\n",
    "ex2_uncert_settings[\"toggle_gen_cc\"] = true\n",
    "experiment2[\"gen_uncert\"] = Dict(\n",
    "    \"verbose\" => \"ex2_gen_uncert\",\n",
    "    \"feeder\" => feeder,\n",
    "    \"settings\" => ex2_uncert_settings,\n",
    ")\n",
    "\n",
    "# Run \n",
    "experiment2 = run_experiment(experiment2)\n",
    "\n",
    "# Show results\n",
    "sleep(.2) # just to ensure correct printing order\n",
    "for case in keys(experiment2)\n",
    "    display(experiment2[case][\"results\"])\n",
    "end"
   ]
  },
  {
   "cell_type": "code",
   "execution_count": 50,
   "metadata": {},
   "outputs": [
    {
     "name": "stdout",
     "output_type": "stream",
     "text": [
      "Saving ex2_uncert\n",
      "Saving ex2_gen_uncert\n",
      "Saving ex2_no_uncert\n",
      ">>>> Saved with timestamp 190319_1117\n"
     ]
    }
   ],
   "source": [
    "save_experiment(\"experiment2\", experiment2)"
   ]
  },
  {
   "cell_type": "code",
   "execution_count": null,
   "metadata": {},
   "outputs": [],
   "source": []
  },
  {
   "cell_type": "markdown",
   "metadata": {},
   "source": [
    "## Prototyping Space"
   ]
  },
  {
   "cell_type": "code",
   "execution_count": 124,
   "metadata": {},
   "outputs": [
    {
     "data": {
      "text/plain": [
       "15-element Array{Any,1}:\n",
       " -7.205953103912941     \n",
       " -7.206062392432603     \n",
       " -8.414541366815063     \n",
       " -8.414580810945816     \n",
       " -6.937927467672224     \n",
       " -6.93791763606441      \n",
       " -6.937905206646532     \n",
       " -2.4250666387669306e-5 \n",
       " -1.476600361745382     \n",
       " -1.4765493195107668    \n",
       " -1.4765406443863434    \n",
       " -1.4764544415890568    \n",
       "  0.00010928851966197678\n",
       "  0.00010889073586762795\n",
       "  4.2411773376212617e-5 "
      ]
     },
     "execution_count": 124,
     "metadata": {},
     "output_type": "execute_result"
    }
   ],
   "source": [
    "results = experiment2[\"uncert\"][\"results\"]\n",
    "feeder = experiment2[\"uncert\"][\"feeder\"]\n",
    "results[results[:bus] .== 3, :lambda][1]\n",
    "\n",
    "\n",
    "\n",
    "# lambda_a = []\n",
    "# rx_pi = []\n",
    "# rx_pi_a = []\n",
    "\n",
    "# for bus in feeder.buses\n",
    "#     if bus.is_root\n",
    "#         push!(lambda_a, 0)\n",
    "#         push!(rx_pi, 0)\n",
    "#         push!(rx_pi_a, 0)\n",
    "#     else\n",
    "#         anc = bus.ancestor\n",
    "#         cs = bus.children\n",
    "#         push!(lambda_a, results[results[:bus] .== anc, :lambda][1])\n",
    "        \n",
    "#         pi_i =  results[results[:bus] .== bus.index, :pi][1]\n",
    "#         push!(rx_pi, pi_i * feeder.line_to[bus.index].r / feeder.line_to[bus.index].x)\n",
    "        \n",
    "#         pi_a = pi_i =  results[results[:bus] .== anc, :pi][1]\n",
    "#         push!(rx_pi_a, pi_a * feeder.line_to[bus.index].r / feeder.line_to[bus.index].x)\n",
    "#     end\n",
    "# end\n",
    "\n",
    "\n",
    "r_sum_mu_d = []\n",
    "\n",
    "for bus in feeder.buses\n",
    "    downstream = traverse(feeder, bus.index)\n",
    "    downstream = setdiff(downstream, [feeder.root_bus])\n",
    "    v = 2*sum(feeder.line_to[d].r * (results[results[:bus] .== d, :mu_plus][1] - results[results[:bus] .== d, :mu_minus][1]) for d in downstream)\n",
    "    push!(r_sum_mu_d, v)\n",
    "end\n",
    "    \n",
    "r_sum_mu_d\n"
   ]
  },
  {
   "cell_type": "code",
   "execution_count": 120,
   "metadata": {},
   "outputs": [
    {
     "data": {
      "text/plain": [
       "traverse (generic function with 2 methods)"
      ]
     },
     "execution_count": 120,
     "metadata": {},
     "output_type": "execute_result"
    }
   ],
   "source": [
    "function traverse(feeder, bus_idx; nodes=[])\n",
    "    push!(nodes, bus_idx)\n",
    "    if length(feeder.buses[bus_idx].children) > 0\n",
    "        for c in feeder.buses[bus_idx].children\n",
    "            nodes = traverse(feeder, c, nodes=nodes)\n",
    "        end\n",
    "    end\n",
    "    return nodes \n",
    "end"
   ]
  },
  {
   "cell_type": "code",
   "execution_count": 121,
   "metadata": {},
   "outputs": [
    {
     "data": {
      "text/plain": [
       "5-element Array{Any,1}:\n",
       "  9\n",
       "  8\n",
       " 10\n",
       " 11\n",
       " 12"
      ]
     },
     "execution_count": 121,
     "metadata": {},
     "output_type": "execute_result"
    }
   ],
   "source": [
    "traverse(feeder, 9)"
   ]
  },
  {
   "cell_type": "code",
   "execution_count": 106,
   "metadata": {},
   "outputs": [
    {
     "data": {
      "text/plain": [
       "Bus(4, false, 0.0201, 0.0084, 0.922668973832998, 0.4179104477611942, 1.1025, 0.9025, [5, 9], [3], #undef, 2.276401827e-314, 0.0)"
      ]
     },
     "execution_count": 106,
     "metadata": {},
     "output_type": "execute_result"
    }
   ],
   "source": [
    "feeder.buses[4]"
   ]
  },
  {
   "cell_type": "code",
   "execution_count": null,
   "metadata": {},
   "outputs": [],
   "source": [
    "# datadir = (\"data/feeder_data/basecase_noneg/\")\n",
    "datadir = (\"data/feeder_data/basecase_lv_noneg/\")\n",
    "# datadir = (\"data/feeder_data/feeder141/\")\n",
    "# datadir = (\"data/feeder_data/feeder141_lv/\")\n",
    "\n",
    "feeder = load_feeder(datadir);"
   ]
  },
  {
   "cell_type": "code",
   "execution_count": null,
   "metadata": {},
   "outputs": [],
   "source": []
  },
  {
   "cell_type": "code",
   "execution_count": null,
   "metadata": {},
   "outputs": [],
   "source": [
    "mu = results_df[:mu_plus] .+ results_df[:mu_minus]\n",
    "mu = mu[2:end]\n",
    "\n",
    "b = 1 ./ diag(C)\n",
    "b = [(x == Inf ? 0 : x) for x in b]\n",
    "\n",
    "g3 = 2*s*z*e'*R'*mu/sum(b)\n",
    "\n",
    "g1 = s^2/sum(b) \n",
    "\n",
    "delta = results_df[:delta_plus] .+ results_df[:delta_minus]\n",
    "detlta = delta[2:end]\n",
    "g2 = sum(delta.*b)/sum(b)\n",
    "\n",
    "g = -g1 - g2 + g3\n"
   ]
  },
  {
   "cell_type": "code",
   "execution_count": null,
   "metadata": {},
   "outputs": [],
   "source": [
    "saveres = results_df"
   ]
  },
  {
   "cell_type": "code",
   "execution_count": null,
   "metadata": {},
   "outputs": [],
   "source": [
    "CSV.write(\"figures/results_uncert.csv\", results_df)"
   ]
  },
  {
   "cell_type": "code",
   "execution_count": null,
   "metadata": {},
   "outputs": [],
   "source": [
    "shadow_price(m[:δp][12])"
   ]
  },
  {
   "cell_type": "code",
   "execution_count": null,
   "metadata": {},
   "outputs": [],
   "source": [
    "m.dictList"
   ]
  },
  {
   "cell_type": "code",
   "execution_count": 20,
   "metadata": {},
   "outputs": [
    {
     "data": {
      "text/plain": [
       "2×2 Array{Int64,2}:\n",
       " 1  2\n",
       " 3  4"
      ]
     },
     "execution_count": 20,
     "metadata": {},
     "output_type": "execute_result"
    }
   ],
   "source": [
    "A = [1 2; 3 4]"
   ]
  },
  {
   "cell_type": "code",
   "execution_count": 31,
   "metadata": {},
   "outputs": [
    {
     "ename": "MethodError",
     "evalue": "MethodError: objects of type Array{Bus,1} are not callable\nUse square brackets [] for indexing an Array.",
     "output_type": "error",
     "traceback": [
      "MethodError: objects of type Array{Bus,1} are not callable\nUse square brackets [] for indexing an Array.",
      "",
      "Stacktrace:",
      " [1] top-level scope at In[31]:1"
     ]
    }
   ],
   "source": [
    "feeder.buses()"
   ]
  },
  {
   "cell_type": "code",
   "execution_count": 144,
   "metadata": {},
   "outputs": [
    {
     "data": {
      "text/plain": [
       "\"190318_1923\""
      ]
     },
     "execution_count": 144,
     "metadata": {},
     "output_type": "execute_result"
    }
   ],
   "source": [
    "\n",
    "Dates.format(Dates.now(), \"yymmdd_HHMM\")"
   ]
  },
  {
   "cell_type": "code",
   "execution_count": null,
   "metadata": {},
   "outputs": [],
   "source": []
  }
 ],
 "metadata": {
  "hide_code_all_hidden": false,
  "kernelspec": {
   "display_name": "Julia 1.1.0",
   "language": "julia",
   "name": "julia-1.1"
  },
  "language_info": {
   "file_extension": ".jl",
   "mimetype": "application/julia",
   "name": "julia",
   "version": "1.1.0"
  },
  "varInspector": {
   "cols": {
    "lenName": 16,
    "lenType": 16,
    "lenVar": 40
   },
   "kernels_config": {
    "python": {
     "delete_cmd_postfix": "",
     "delete_cmd_prefix": "del ",
     "library": "var_list.py",
     "varRefreshCmd": "print(var_dic_list())"
    },
    "r": {
     "delete_cmd_postfix": ") ",
     "delete_cmd_prefix": "rm(",
     "library": "var_list.r",
     "varRefreshCmd": "cat(var_dic_list()) "
    }
   },
   "types_to_exclude": [
    "module",
    "function",
    "builtin_function_or_method",
    "instance",
    "_Feature"
   ],
   "window_display": false
  }
 },
 "nbformat": 4,
 "nbformat_minor": 2
}
