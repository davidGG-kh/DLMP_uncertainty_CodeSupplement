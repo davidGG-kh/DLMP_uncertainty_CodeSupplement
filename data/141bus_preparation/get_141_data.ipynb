{
 "cells": [
  {
   "cell_type": "code",
   "execution_count": 2,
   "metadata": {},
   "outputs": [
    {
     "name": "stderr",
     "output_type": "stream",
     "text": [
      "\u001b[1m\u001b[36mINFO: \u001b[39m\u001b[22m\u001b[36mRecompiling stale cache file C:\\Users\\Robert\\.julia\\lib\\v0.6\\CSV.ji for module CSV.\n",
      "\u001b[39m\u001b[1m\u001b[33mWARNING: \u001b[39m\u001b[22m\u001b[33muuid4(rng) is deprecated, use Compat.UUIDs.uuid4(rng) instead.\u001b[39m\n",
      "Stacktrace:\n",
      " [1] \u001b[1mdepwarn\u001b[22m\u001b[22m\u001b[1m(\u001b[22m\u001b[22m::String, ::Symbol\u001b[1m)\u001b[22m\u001b[22m at \u001b[1m.\\deprecated.jl:70\u001b[22m\u001b[22m\n",
      " [2] \u001b[1muuid4\u001b[22m\u001b[22m\u001b[1m(\u001b[22m\u001b[22m::MersenneTwister\u001b[1m)\u001b[22m\u001b[22m at \u001b[1m.\\deprecated.jl:57\u001b[22m\u001b[22m\n",
      " [3] \u001b[1mmsg_header\u001b[22m\u001b[22m at \u001b[1mC:\\Users\\Robert\\.julia\\v0.6\\IJulia\\src\\msg.jl:18\u001b[22m\u001b[22m [inlined]\n",
      " [4] \u001b[1mmsg_pub\u001b[22m\u001b[22m\u001b[1m(\u001b[22m\u001b[22m::IJulia.Msg, ::String, ::Dict{String,String}, ::Dict{String,Any}\u001b[1m)\u001b[22m\u001b[22m at \u001b[1mC:\\Users\\Robert\\.julia\\v0.6\\IJulia\\src\\msg.jl:30\u001b[22m\u001b[22m (repeats 2 times)\n",
      " [5] \u001b[1msend_stream\u001b[22m\u001b[22m\u001b[1m(\u001b[22m\u001b[22m::String\u001b[1m)\u001b[22m\u001b[22m at \u001b[1mC:\\Users\\Robert\\.julia\\v0.6\\IJulia\\src\\stdio.jl:172\u001b[22m\u001b[22m\n",
      " [6] \u001b[1msend_stdio\u001b[22m\u001b[22m\u001b[1m(\u001b[22m\u001b[22m::String\u001b[1m)\u001b[22m\u001b[22m at \u001b[1mC:\\Users\\Robert\\.julia\\v0.6\\IJulia\\src\\stdio.jl:130\u001b[22m\u001b[22m\n",
      " [7] \u001b[1m(::Base.##302#303{IJulia.#send_stderr,Timer})\u001b[22m\u001b[22m\u001b[1m(\u001b[22m\u001b[22m\u001b[1m)\u001b[22m\u001b[22m at \u001b[1m.\\event.jl:436\u001b[22m\u001b[22m\n",
      "while loading In[2], in expression starting on line 2\n"
     ]
    }
   ],
   "source": [
    "using MatpowerCases\n",
    "using DataFrames, JLD, CSV"
   ]
  },
  {
   "cell_type": "code",
   "execution_count": 10,
   "metadata": {},
   "outputs": [
    {
     "data": {
      "text/plain": [
       "load_data (generic function with 1 method)"
      ]
     },
     "execution_count": 10,
     "metadata": {},
     "output_type": "execute_result"
    }
   ],
   "source": [
    "# network_load_file = \"C:/Users/Robert/Promotion/Workshop/Variance_aware_opf/P2P/NetworkLoad.jl\"\n",
    "# network_type_file = \"C:/Users/Robert/Promotion/Workshop/Variance_aware_opf/P2P/NetworkDataType.jl\"\n",
    "# include(network_type_file)\n",
    "# include(network_load_file)\n",
    "\n",
    "include(\"MPInput.jl\")"
   ]
  },
  {
   "cell_type": "code",
   "execution_count": 12,
   "metadata": {},
   "outputs": [
    {
     "data": {
      "text/plain": [
       "250"
      ]
     },
     "execution_count": 12,
     "metadata": {},
     "output_type": "execute_result"
    }
   ],
   "source": [
    "VROOT = 12.16\n",
    "SBASE = 100\n",
    "VBASE = 250"
   ]
  },
  {
   "cell_type": "code",
   "execution_count": 13,
   "metadata": {},
   "outputs": [
    {
     "name": "stdout",
     "output_type": "stream",
     "text": [
      "CASE141  Power flow data for 141 bus distribution system\n"
     ]
    },
    {
     "data": {
      "text/plain": [
       "Dict{String,Any} with 7 entries:\n",
       "  \"baseMVA\"   => 10.0\n",
       "  \"gen\"       => [1.0 0.0 … 0.0 0.0; 30.0 0.0 … 0.0 0.0; … ; 101.0 0.0 … 0.0 0.…\n",
       "  \"branch\"    => [1.0 2.0 … -360.0 360.0; 2.0 3.0 … -360.0 360.0; … ; 30.0 140.…\n",
       "  \"docstring\" => \"CASE141  Power flow data for 141 bus distribution system\"\n",
       "  \"bus\"       => [1.0 3.0 … 1.1 0.9; 2.0 1.0 … 1.1 0.9; … ; 140.0 1.0 … 1.1 0.9…\n",
       "  \"version\"   => \"2\"\n",
       "  \"gencost\"   => [2.0 0.0 … 20.0 0.0; 2.0 0.0 … 10.0 0.0; … ; 2.0 0.0 … 10.0 0.…"
      ]
     },
     "execution_count": 13,
     "metadata": {},
     "output_type": "execute_result"
    }
   ],
   "source": [
    "mpc = loadcase(\"case141_OPF\")"
   ]
  },
  {
   "cell_type": "code",
   "execution_count": 14,
   "metadata": {},
   "outputs": [
    {
     "name": "stderr",
     "output_type": "stream",
     "text": [
      "\u001b[1m\u001b[33mWARNING: \u001b[39m\u001b[22m\u001b[33mrename!(x::AbstractDataFrame, from::Symbol, to::Symbol) is deprecated, use rename!(x, from => to) instead.\u001b[39m\n",
      "Stacktrace:\n",
      " [1] \u001b[1mdepwarn\u001b[22m\u001b[22m\u001b[1m(\u001b[22m\u001b[22m::String, ::Symbol\u001b[1m)\u001b[22m\u001b[22m at \u001b[1m.\\deprecated.jl:70\u001b[22m\u001b[22m\n",
      " [2] \u001b[1mrename!\u001b[22m\u001b[22m\u001b[1m(\u001b[22m\u001b[22m::DataFrames.DataFrame, ::Symbol, ::Symbol\u001b[1m)\u001b[22m\u001b[22m at \u001b[1m.\\deprecated.jl:57\u001b[22m\u001b[22m\n",
      " [3] \u001b[1mmpc_to_mat\u001b[22m\u001b[22m\u001b[1m(\u001b[22m\u001b[22m::Dict{String,Any}\u001b[1m)\u001b[22m\u001b[22m at \u001b[1mC:\\Users\\Robert\\Promotion\\Workshop\\Variance_aware_opf\\cc_dist_lmp\\data\\141bus\\MPInput.jl:101\u001b[22m\u001b[22m\n",
      " [4] \u001b[1minclude_string\u001b[22m\u001b[22m\u001b[1m(\u001b[22m\u001b[22m::String, ::String\u001b[1m)\u001b[22m\u001b[22m at \u001b[1m.\\loading.jl:522\u001b[22m\u001b[22m\n",
      " [5] \u001b[1msoftscope_include_string\u001b[22m\u001b[22m\u001b[1m(\u001b[22m\u001b[22m::Module, ::String, ::String\u001b[1m)\u001b[22m\u001b[22m at \u001b[1mC:\\Users\\Robert\\.julia\\v0.6\\SoftGlobalScope\\src\\SoftGlobalScope.jl:66\u001b[22m\u001b[22m\n",
      " [6] \u001b[1mexecute_request\u001b[22m\u001b[22m\u001b[1m(\u001b[22m\u001b[22m::ZMQ.Socket, ::IJulia.Msg\u001b[1m)\u001b[22m\u001b[22m at \u001b[1mC:\\Users\\Robert\\.julia\\v0.6\\IJulia\\src\\execute_request.jl:193\u001b[22m\u001b[22m\n",
      " [7] \u001b[1m(::Compat.#inner#6{Array{Any,1},IJulia.#execute_request,Tuple{ZMQ.Socket,IJulia.Msg}})\u001b[22m\u001b[22m\u001b[1m(\u001b[22m\u001b[22m\u001b[1m)\u001b[22m\u001b[22m at \u001b[1mC:\\Users\\Robert\\.julia\\v0.6\\Compat\\src\\Compat.jl:125\u001b[22m\u001b[22m\n",
      " [8] \u001b[1meventloop\u001b[22m\u001b[22m\u001b[1m(\u001b[22m\u001b[22m::ZMQ.Socket\u001b[1m)\u001b[22m\u001b[22m at \u001b[1mC:\\Users\\Robert\\.julia\\v0.6\\IJulia\\src\\eventloop.jl:8\u001b[22m\u001b[22m\n",
      " [9] \u001b[1m(::IJulia.##13#16)\u001b[22m\u001b[22m\u001b[1m(\u001b[22m\u001b[22m\u001b[1m)\u001b[22m\u001b[22m at \u001b[1m.\\task.jl:335\u001b[22m\u001b[22m\n",
      "while loading In[14], in expression starting on line 1\n",
      "\u001b[1m\u001b[33mWARNING: \u001b[39m\u001b[22m\u001b[33mrename!(x::AbstractDataFrame, from::Symbol, to::Symbol) is deprecated, use rename!(x, from => to) instead.\u001b[39m\n",
      "Stacktrace:\n",
      " [1] \u001b[1mdepwarn\u001b[22m\u001b[22m\u001b[1m(\u001b[22m\u001b[22m::String, ::Symbol\u001b[1m)\u001b[22m\u001b[22m at \u001b[1m.\\deprecated.jl:70\u001b[22m\u001b[22m\n",
      " [2] \u001b[1mrename!\u001b[22m\u001b[22m\u001b[1m(\u001b[22m\u001b[22m::DataFrames.DataFrame, ::Symbol, ::Symbol\u001b[1m)\u001b[22m\u001b[22m at \u001b[1m.\\deprecated.jl:57\u001b[22m\u001b[22m\n",
      " [3] \u001b[1mmpc_to_mat\u001b[22m\u001b[22m\u001b[1m(\u001b[22m\u001b[22m::Dict{String,Any}\u001b[1m)\u001b[22m\u001b[22m at \u001b[1mC:\\Users\\Robert\\Promotion\\Workshop\\Variance_aware_opf\\cc_dist_lmp\\data\\141bus\\MPInput.jl:103\u001b[22m\u001b[22m\n",
      " [4] \u001b[1minclude_string\u001b[22m\u001b[22m\u001b[1m(\u001b[22m\u001b[22m::String, ::String\u001b[1m)\u001b[22m\u001b[22m at \u001b[1m.\\loading.jl:522\u001b[22m\u001b[22m\n",
      " [5] \u001b[1msoftscope_include_string\u001b[22m\u001b[22m\u001b[1m(\u001b[22m\u001b[22m::Module, ::String, ::String\u001b[1m)\u001b[22m\u001b[22m at \u001b[1mC:\\Users\\Robert\\.julia\\v0.6\\SoftGlobalScope\\src\\SoftGlobalScope.jl:66\u001b[22m\u001b[22m\n",
      " [6] \u001b[1mexecute_request\u001b[22m\u001b[22m\u001b[1m(\u001b[22m\u001b[22m::ZMQ.Socket, ::IJulia.Msg\u001b[1m)\u001b[22m\u001b[22m at \u001b[1mC:\\Users\\Robert\\.julia\\v0.6\\IJulia\\src\\execute_request.jl:193\u001b[22m\u001b[22m\n",
      " [7] \u001b[1m(::Compat.#inner#6{Array{Any,1},IJulia.#execute_request,Tuple{ZMQ.Socket,IJulia.Msg}})\u001b[22m\u001b[22m\u001b[1m(\u001b[22m\u001b[22m\u001b[1m)\u001b[22m\u001b[22m at \u001b[1mC:\\Users\\Robert\\.julia\\v0.6\\Compat\\src\\Compat.jl:125\u001b[22m\u001b[22m\n",
      " [8] \u001b[1meventloop\u001b[22m\u001b[22m\u001b[1m(\u001b[22m\u001b[22m::ZMQ.Socket\u001b[1m)\u001b[22m\u001b[22m at \u001b[1mC:\\Users\\Robert\\.julia\\v0.6\\IJulia\\src\\eventloop.jl:8\u001b[22m\u001b[22m\n",
      " [9] \u001b[1m(::IJulia.##13#16)\u001b[22m\u001b[22m\u001b[1m(\u001b[22m\u001b[22m\u001b[1m)\u001b[22m\u001b[22m at \u001b[1m.\\task.jl:335\u001b[22m\u001b[22m\n",
      "while loading In[14], in expression starting on line 1\n",
      "\u001b[1m\u001b[33mWARNING: \u001b[39m\u001b[22m\u001b[33mrename!(x::AbstractDataFrame, from::Symbol, to::Symbol) is deprecated, use rename!(x, from => to) instead.\u001b[39m\n",
      "Stacktrace:\n",
      " [1] \u001b[1mdepwarn\u001b[22m\u001b[22m\u001b[1m(\u001b[22m\u001b[22m::String, ::Symbol\u001b[1m)\u001b[22m\u001b[22m at \u001b[1m.\\deprecated.jl:70\u001b[22m\u001b[22m\n",
      " [2] \u001b[1mrename!\u001b[22m\u001b[22m\u001b[1m(\u001b[22m\u001b[22m::DataFrames.DataFrame, ::Symbol, ::Symbol\u001b[1m)\u001b[22m\u001b[22m at \u001b[1m.\\deprecated.jl:57\u001b[22m\u001b[22m\n",
      " [3] \u001b[1mmpc_to_mat\u001b[22m\u001b[22m\u001b[1m(\u001b[22m\u001b[22m::Dict{String,Any}\u001b[1m)\u001b[22m\u001b[22m at \u001b[1mC:\\Users\\Robert\\Promotion\\Workshop\\Variance_aware_opf\\cc_dist_lmp\\data\\141bus\\MPInput.jl:104\u001b[22m\u001b[22m\n",
      " [4] \u001b[1minclude_string\u001b[22m\u001b[22m\u001b[1m(\u001b[22m\u001b[22m::String, ::String\u001b[1m)\u001b[22m\u001b[22m at \u001b[1m.\\loading.jl:522\u001b[22m\u001b[22m\n",
      " [5] \u001b[1msoftscope_include_string\u001b[22m\u001b[22m\u001b[1m(\u001b[22m\u001b[22m::Module, ::String, ::String\u001b[1m)\u001b[22m\u001b[22m at \u001b[1mC:\\Users\\Robert\\.julia\\v0.6\\SoftGlobalScope\\src\\SoftGlobalScope.jl:66\u001b[22m\u001b[22m\n",
      " [6] \u001b[1mexecute_request\u001b[22m\u001b[22m\u001b[1m(\u001b[22m\u001b[22m::ZMQ.Socket, ::IJulia.Msg\u001b[1m)\u001b[22m\u001b[22m at \u001b[1mC:\\Users\\Robert\\.julia\\v0.6\\IJulia\\src\\execute_request.jl:193\u001b[22m\u001b[22m\n",
      " [7] \u001b[1m(::Compat.#inner#6{Array{Any,1},IJulia.#execute_request,Tuple{ZMQ.Socket,IJulia.Msg}})\u001b[22m\u001b[22m\u001b[1m(\u001b[22m\u001b[22m\u001b[1m)\u001b[22m\u001b[22m at \u001b[1mC:\\Users\\Robert\\.julia\\v0.6\\Compat\\src\\Compat.jl:125\u001b[22m\u001b[22m\n",
      " [8] \u001b[1meventloop\u001b[22m\u001b[22m\u001b[1m(\u001b[22m\u001b[22m::ZMQ.Socket\u001b[1m)\u001b[22m\u001b[22m at \u001b[1mC:\\Users\\Robert\\.julia\\v0.6\\IJulia\\src\\eventloop.jl:8\u001b[22m\u001b[22m\n",
      " [9] \u001b[1m(::IJulia.##13#16)\u001b[22m\u001b[22m\u001b[1m(\u001b[22m\u001b[22m\u001b[1m)\u001b[22m\u001b[22m at \u001b[1m.\\task.jl:335\u001b[22m\u001b[22m\n",
      "while loading In[14], in expression starting on line 1\n",
      "\u001b[1m\u001b[33mWARNING: \u001b[39m\u001b[22m\u001b[33msort!(df, cols=cols) is deprecated, use sort!(df, cols) instead\u001b[39m\n",
      "Stacktrace:\n",
      " [1] \u001b[1mdepwarn\u001b[22m\u001b[22m\u001b[1m(\u001b[22m\u001b[22m::String, ::Symbol\u001b[1m)\u001b[22m\u001b[22m at \u001b[1m.\\deprecated.jl:70\u001b[22m\u001b[22m\n",
      " [2] \u001b[1m#sort!#223\u001b[22m\u001b[22m\u001b[1m(\u001b[22m\u001b[22m::Symbol, ::Void, ::Function, ::Function, ::Bool, ::Base.Order.ForwardOrdering, ::Function, ::DataFrames.DataFrame, ::Array{Any,1}\u001b[1m)\u001b[22m\u001b[22m at \u001b[1mC:\\Users\\Robert\\.julia\\v0.6\\DataFrames\\src\\dataframe\\sort.jl:74\u001b[22m\u001b[22m\n",
      " [3] \u001b[1m(::Base.#kw##sort!)\u001b[22m\u001b[22m\u001b[1m(\u001b[22m\u001b[22m::Array{Any,1}, ::Base.#sort!, ::DataFrames.DataFrame, ::Array{Any,1}\u001b[1m)\u001b[22m\u001b[22m at \u001b[1m.\\<missing>:0\u001b[22m\u001b[22m (repeats 2 times)\n",
      " [4] \u001b[1mmpc_to_mat\u001b[22m\u001b[22m\u001b[1m(\u001b[22m\u001b[22m::Dict{String,Any}\u001b[1m)\u001b[22m\u001b[22m at \u001b[1mC:\\Users\\Robert\\Promotion\\Workshop\\Variance_aware_opf\\cc_dist_lmp\\data\\141bus\\MPInput.jl:108\u001b[22m\u001b[22m\n",
      " [5] \u001b[1minclude_string\u001b[22m\u001b[22m\u001b[1m(\u001b[22m\u001b[22m::String, ::String\u001b[1m)\u001b[22m\u001b[22m at \u001b[1m.\\loading.jl:522\u001b[22m\u001b[22m\n",
      " [6] \u001b[1msoftscope_include_string\u001b[22m\u001b[22m\u001b[1m(\u001b[22m\u001b[22m::Module, ::String, ::String\u001b[1m)\u001b[22m\u001b[22m at \u001b[1mC:\\Users\\Robert\\.julia\\v0.6\\SoftGlobalScope\\src\\SoftGlobalScope.jl:66\u001b[22m\u001b[22m\n",
      " [7] \u001b[1mexecute_request\u001b[22m\u001b[22m\u001b[1m(\u001b[22m\u001b[22m::ZMQ.Socket, ::IJulia.Msg\u001b[1m)\u001b[22m\u001b[22m at \u001b[1mC:\\Users\\Robert\\.julia\\v0.6\\IJulia\\src\\execute_request.jl:193\u001b[22m\u001b[22m\n",
      " [8] \u001b[1m(::Compat.#inner#6{Array{Any,1},IJulia.#execute_request,Tuple{ZMQ.Socket,IJulia.Msg}})\u001b[22m\u001b[22m\u001b[1m(\u001b[22m\u001b[22m\u001b[1m)\u001b[22m\u001b[22m at \u001b[1mC:\\Users\\Robert\\.julia\\v0.6\\Compat\\src\\Compat.jl:125\u001b[22m\u001b[22m\n",
      " [9] \u001b[1meventloop\u001b[22m\u001b[22m\u001b[1m(\u001b[22m\u001b[22m::ZMQ.Socket\u001b[1m)\u001b[22m\u001b[22m at \u001b[1mC:\\Users\\Robert\\.julia\\v0.6\\IJulia\\src\\eventloop.jl:8\u001b[22m\u001b[22m\n",
      " [10] \u001b[1m(::IJulia.##13#16)\u001b[22m\u001b[22m\u001b[1m(\u001b[22m\u001b[22m\u001b[1m)\u001b[22m\u001b[22m at \u001b[1m.\\task.jl:335\u001b[22m\u001b[22m\n",
      "while loading In[14], in expression starting on line 1\n",
      "\u001b[1m\u001b[33mWARNING: \u001b[39m\u001b[22m\u001b[33msort!(df, cols=cols) is deprecated, use sort!(df, cols) instead\u001b[39m\n",
      "Stacktrace:\n",
      " [1] \u001b[1mdepwarn\u001b[22m\u001b[22m\u001b[1m(\u001b[22m\u001b[22m::String, ::Symbol\u001b[1m)\u001b[22m\u001b[22m at \u001b[1m.\\deprecated.jl:70\u001b[22m\u001b[22m\n",
      " [2] \u001b[1m#sort!#223\u001b[22m\u001b[22m\u001b[1m(\u001b[22m\u001b[22m::Symbol, ::Void, ::Function, ::Function, ::Bool, ::Base.Order.ForwardOrdering, ::Function, ::DataFrames.DataFrame, ::Array{Any,1}\u001b[1m)\u001b[22m\u001b[22m at \u001b[1mC:\\Users\\Robert\\.julia\\v0.6\\DataFrames\\src\\dataframe\\sort.jl:74\u001b[22m\u001b[22m\n",
      " [3] \u001b[1m(::Base.#kw##sort!)\u001b[22m\u001b[22m\u001b[1m(\u001b[22m\u001b[22m::Array{Any,1}, ::Base.#sort!, ::DataFrames.DataFrame, ::Array{Any,1}\u001b[1m)\u001b[22m\u001b[22m at \u001b[1m.\\<missing>:0\u001b[22m\u001b[22m\n",
      " [4] \u001b[1mmpc_to_mat\u001b[22m\u001b[22m\u001b[1m(\u001b[22m\u001b[22m::Dict{String,Any}\u001b[1m)\u001b[22m\u001b[22m at \u001b[1mC:\\Users\\Robert\\Promotion\\Workshop\\Variance_aware_opf\\cc_dist_lmp\\data\\141bus\\MPInput.jl:118\u001b[22m\u001b[22m\n",
      " [5] \u001b[1minclude_string\u001b[22m\u001b[22m\u001b[1m(\u001b[22m\u001b[22m::String, ::String\u001b[1m)\u001b[22m\u001b[22m at \u001b[1m.\\loading.jl:522\u001b[22m\u001b[22m\n",
      " [6] \u001b[1msoftscope_include_string\u001b[22m\u001b[22m\u001b[1m(\u001b[22m\u001b[22m::Module, ::String, ::String\u001b[1m)\u001b[22m\u001b[22m at \u001b[1mC:\\Users\\Robert\\.julia\\v0.6\\SoftGlobalScope\\src\\SoftGlobalScope.jl:66\u001b[22m\u001b[22m\n",
      " [7] \u001b[1mexecute_request\u001b[22m\u001b[22m\u001b[1m(\u001b[22m\u001b[22m::ZMQ.Socket, ::IJulia.Msg\u001b[1m)\u001b[22m\u001b[22m at \u001b[1mC:\\Users\\Robert\\.julia\\v0.6\\IJulia\\src\\execute_request.jl:193\u001b[22m\u001b[22m\n",
      " [8] \u001b[1m(::Compat.#inner#6{Array{Any,1},IJulia.#execute_request,Tuple{ZMQ.Socket,IJulia.Msg}})\u001b[22m\u001b[22m\u001b[1m(\u001b[22m\u001b[22m\u001b[1m)\u001b[22m\u001b[22m at \u001b[1mC:\\Users\\Robert\\.julia\\v0.6\\Compat\\src\\Compat.jl:125\u001b[22m\u001b[22m\n",
      " [9] \u001b[1meventloop\u001b[22m\u001b[22m\u001b[1m(\u001b[22m\u001b[22m::ZMQ.Socket\u001b[1m)\u001b[22m\u001b[22m at \u001b[1mC:\\Users\\Robert\\.julia\\v0.6\\IJulia\\src\\eventloop.jl:8\u001b[22m\u001b[22m\n",
      " [10] \u001b[1m(::IJulia.##13#16)\u001b[22m\u001b[22m\u001b[1m(\u001b[22m\u001b[22m\u001b[1m)\u001b[22m\u001b[22m at \u001b[1m.\\task.jl:335\u001b[22m\u001b[22m\n",
      "while loading In[14], in expression starting on line 1\n"
     ]
    },
    {
     "data": {
      "text/plain": [
       "(140×6 DataFrames.DataFrame\n",
       "│ Row │ to  │ from │ r          │ x          │ b   │ s   │\n",
       "├─────┼─────┼──────┼────────────┼────────────┼─────┼─────┤\n",
       "│ 1   │ 1   │ 2    │ 0.00371059 │ 0.00263021 │ 0.0 │ 2.0 │\n",
       "│ 2   │ 2   │ 3    │ 0.0110932  │ 0.00786491 │ 0.0 │ 2.0 │\n",
       "│ 3   │ 3   │ 4    │ 5.788e-5   │ 3.858e-5   │ 0.0 │ 2.0 │\n",
       "│ 4   │ 4   │ 5    │ 0.00059164 │ 0.000418   │ 0.0 │ 2.0 │\n",
       "│ 5   │ 5   │ 6    │ 0.0004373  │ 0.00031511 │ 0.0 │ 2.0 │\n",
       "│ 6   │ 6   │ 7    │ 0.00301606 │ 0.00401927 │ 0.0 │ 2.0 │\n",
       "│ 7   │ 7   │ 8    │ 0.00473309 │ 0.00630865 │ 0.0 │ 2.0 │\n",
       "│ 8   │ 8   │ 9    │ 0.00417361 │ 0.00295175 │ 0.0 │ 2.0 │\n",
       "│ 9   │ 9   │ 10   │ 0.00326043 │ 0.00230867 │ 0.0 │ 2.0 │\n",
       "│ 10  │ 10  │ 11   │ 0.00074598 │ 0.00052733 │ 0.0 │ 2.0 │\n",
       "│ 11  │ 11  │ 12   │ 0.0083022  │ 0.00587135 │ 0.0 │ 2.0 │\n",
       "⋮\n",
       "│ 129 │ 129 │ 130  │ 0.00066238 │ 0.00046945 │ 0.0 │ 2.0 │\n",
       "│ 130 │ 119 │ 131  │ 0.00228294 │ 0.001627   │ 0.0 │ 2.0 │\n",
       "│ 131 │ 131 │ 132  │ 0.0022315  │ 0.00157555 │ 0.0 │ 2.0 │\n",
       "│ 132 │ 131 │ 133  │ 0.00591636 │ 0.00430223 │ 0.0 │ 2.0 │\n",
       "│ 133 │ 121 │ 134  │ 0.00540833 │ 0.00393567 │ 0.0 │ 2.0 │\n",
       "│ 134 │ 16  │ 135  │ 0.00338905 │ 0.0023987  │ 0.0 │ 2.0 │\n",
       "│ 135 │ 16  │ 136  │ 0.00194211 │ 0.0013762  │ 0.0 │ 2.0 │\n",
       "│ 136 │ 18  │ 137  │ 0.00375561 │ 0.00266236 │ 0.0 │ 2.0 │\n",
       "│ 137 │ 23  │ 138  │ 0.00494531 │ 0.00359483 │ 0.0 │ 2.0 │\n",
       "│ 138 │ 25  │ 139  │ 0.00610929 │ 0.00432795 │ 0.0 │ 2.0 │\n",
       "│ 139 │ 30  │ 140  │ 0.0033376  │ 0.00242442 │ 0.0 │ 2.0 │\n",
       "│ 140 │ 31  │ 141  │ 0.00375561 │ 0.00266236 │ 0.0 │ 2.0 │, 141×8 DataFrames.DataFrame\n",
       "│ Row │ Node │ Pd     │ Qd     │ Vmax │ Vmin │ B   │ R          │ X          │\n",
       "├─────┼──────┼────────┼────────┼──────┼──────┼─────┼────────────┼────────────┤\n",
       "│ 1   │ 1    │ 0.0    │ 0.0    │ 1.1  │ 0.9  │ 0.0 │ \u001b[90mmissing\u001b[39m    │ \u001b[90mmissing\u001b[39m    │\n",
       "│ 2   │ 2    │ 0.0    │ 0.0    │ 1.1  │ 0.9  │ 0.0 │ 0.00371059 │ 0.00263021 │\n",
       "│ 3   │ 3    │ 0.0    │ 0.0    │ 1.1  │ 0.9  │ 0.0 │ 0.0110932  │ 0.00786491 │\n",
       "│ 4   │ 4    │ 0.0    │ 0.0    │ 1.1  │ 0.9  │ 0.0 │ 5.788e-5   │ 3.858e-5   │\n",
       "│ 5   │ 5    │ 0.0    │ 0.0    │ 1.1  │ 0.9  │ 0.0 │ 0.00059164 │ 0.000418   │\n",
       "│ 6   │ 6    │ 0.0    │ 0.0    │ 1.1  │ 0.9  │ 0.0 │ 0.0004373  │ 0.00031511 │\n",
       "│ 7   │ 7    │ 0.0    │ 0.0    │ 1.1  │ 0.9  │ 0.0 │ 0.00301606 │ 0.00401927 │\n",
       "│ 8   │ 8    │ 0.0638 │ 0.0395 │ 1.1  │ 0.9  │ 0.0 │ 0.00473309 │ 0.00630865 │\n",
       "│ 9   │ 9    │ 0.0085 │ 0.0053 │ 1.1  │ 0.9  │ 0.0 │ 0.00417361 │ 0.00295175 │\n",
       "│ 10  │ 10   │ 0.0    │ 0.0    │ 1.1  │ 0.9  │ 0.0 │ 0.00326043 │ 0.00230867 │\n",
       "│ 11  │ 11   │ 0.0    │ 0.0    │ 1.1  │ 0.9  │ 0.0 │ 0.00074598 │ 0.00052733 │\n",
       "⋮\n",
       "│ 130 │ 130  │ 0.0956 │ 0.0593 │ 1.1  │ 0.9  │ 0.0 │ 0.00066238 │ 0.00046945 │\n",
       "│ 131 │ 131  │ 0.0    │ 0.0    │ 1.1  │ 0.9  │ 0.0 │ 0.00228294 │ 0.001627   │\n",
       "│ 132 │ 132  │ 0.0638 │ 0.0395 │ 1.1  │ 0.9  │ 0.0 │ 0.0022315  │ 0.00157555 │\n",
       "│ 133 │ 133  │ 0.0382 │ 0.0237 │ 1.1  │ 0.9  │ 0.0 │ 0.00591636 │ 0.00430223 │\n",
       "│ 134 │ 134  │ 0.0297 │ 0.0184 │ 1.1  │ 0.9  │ 0.0 │ 0.00540833 │ 0.00393567 │\n",
       "│ 135 │ 135  │ 0.0213 │ 0.0132 │ 1.1  │ 0.9  │ 0.0 │ 0.00338905 │ 0.0023987  │\n",
       "│ 136 │ 136  │ 0.0638 │ 0.0395 │ 1.1  │ 0.9  │ 0.0 │ 0.00194211 │ 0.0013762  │\n",
       "│ 137 │ 137  │ 0.0467 │ 0.029  │ 1.1  │ 0.9  │ 0.0 │ 0.00375561 │ 0.00266236 │\n",
       "│ 138 │ 138  │ 0.0425 │ 0.0263 │ 1.1  │ 0.9  │ 0.0 │ 0.00494531 │ 0.00359483 │\n",
       "│ 139 │ 139  │ 0.0425 │ 0.0263 │ 1.1  │ 0.9  │ 0.0 │ 0.00610929 │ 0.00432795 │\n",
       "│ 140 │ 140  │ 0.1275 │ 0.079  │ 1.1  │ 0.9  │ 0.0 │ 0.0033376  │ 0.00242442 │\n",
       "│ 141 │ 141  │ 0.0638 │ 0.0395 │ 1.1  │ 0.9  │ 0.0 │ 0.00375561 │ 0.00266236 │, 141×4 DataFrames.DataFrame\n",
       "│ Row │ Node │ Pmax    │ Qmax    │ Cost    │\n",
       "├─────┼──────┼─────────┼─────────┼─────────┤\n",
       "│ 1   │ 1    │ 1000.0  │ 10.0    │ 20.0    │\n",
       "│ 2   │ 2    │ \u001b[90mmissing\u001b[39m │ \u001b[90mmissing\u001b[39m │ \u001b[90mmissing\u001b[39m │\n",
       "│ 3   │ 3    │ \u001b[90mmissing\u001b[39m │ \u001b[90mmissing\u001b[39m │ \u001b[90mmissing\u001b[39m │\n",
       "│ 4   │ 4    │ \u001b[90mmissing\u001b[39m │ \u001b[90mmissing\u001b[39m │ \u001b[90mmissing\u001b[39m │\n",
       "│ 5   │ 5    │ \u001b[90mmissing\u001b[39m │ \u001b[90mmissing\u001b[39m │ \u001b[90mmissing\u001b[39m │\n",
       "│ 6   │ 6    │ \u001b[90mmissing\u001b[39m │ \u001b[90mmissing\u001b[39m │ \u001b[90mmissing\u001b[39m │\n",
       "│ 7   │ 7    │ \u001b[90mmissing\u001b[39m │ \u001b[90mmissing\u001b[39m │ \u001b[90mmissing\u001b[39m │\n",
       "│ 8   │ 8    │ \u001b[90mmissing\u001b[39m │ \u001b[90mmissing\u001b[39m │ \u001b[90mmissing\u001b[39m │\n",
       "│ 9   │ 9    │ \u001b[90mmissing\u001b[39m │ \u001b[90mmissing\u001b[39m │ \u001b[90mmissing\u001b[39m │\n",
       "│ 10  │ 10   │ \u001b[90mmissing\u001b[39m │ \u001b[90mmissing\u001b[39m │ \u001b[90mmissing\u001b[39m │\n",
       "│ 11  │ 11   │ \u001b[90mmissing\u001b[39m │ \u001b[90mmissing\u001b[39m │ \u001b[90mmissing\u001b[39m │\n",
       "⋮\n",
       "│ 130 │ 130  │ \u001b[90mmissing\u001b[39m │ \u001b[90mmissing\u001b[39m │ \u001b[90mmissing\u001b[39m │\n",
       "│ 131 │ 131  │ \u001b[90mmissing\u001b[39m │ \u001b[90mmissing\u001b[39m │ \u001b[90mmissing\u001b[39m │\n",
       "│ 132 │ 132  │ \u001b[90mmissing\u001b[39m │ \u001b[90mmissing\u001b[39m │ \u001b[90mmissing\u001b[39m │\n",
       "│ 133 │ 133  │ \u001b[90mmissing\u001b[39m │ \u001b[90mmissing\u001b[39m │ \u001b[90mmissing\u001b[39m │\n",
       "│ 134 │ 134  │ \u001b[90mmissing\u001b[39m │ \u001b[90mmissing\u001b[39m │ \u001b[90mmissing\u001b[39m │\n",
       "│ 135 │ 135  │ \u001b[90mmissing\u001b[39m │ \u001b[90mmissing\u001b[39m │ \u001b[90mmissing\u001b[39m │\n",
       "│ 136 │ 136  │ \u001b[90mmissing\u001b[39m │ \u001b[90mmissing\u001b[39m │ \u001b[90mmissing\u001b[39m │\n",
       "│ 137 │ 137  │ \u001b[90mmissing\u001b[39m │ \u001b[90mmissing\u001b[39m │ \u001b[90mmissing\u001b[39m │\n",
       "│ 138 │ 138  │ \u001b[90mmissing\u001b[39m │ \u001b[90mmissing\u001b[39m │ \u001b[90mmissing\u001b[39m │\n",
       "│ 139 │ 139  │ \u001b[90mmissing\u001b[39m │ \u001b[90mmissing\u001b[39m │ \u001b[90mmissing\u001b[39m │\n",
       "│ 140 │ 140  │ \u001b[90mmissing\u001b[39m │ \u001b[90mmissing\u001b[39m │ \u001b[90mmissing\u001b[39m │\n",
       "│ 141 │ 141  │ \u001b[90mmissing\u001b[39m │ \u001b[90mmissing\u001b[39m │ \u001b[90mmissing\u001b[39m │)"
      ]
     },
     "execution_count": 14,
     "metadata": {},
     "output_type": "execute_result"
    }
   ],
   "source": [
    "branchmat, busmat, genmat = mpc_to_mat(mpc)"
   ]
  },
  {
   "cell_type": "code",
   "execution_count": 15,
   "metadata": {},
   "outputs": [
    {
     "data": {
      "text/plain": [
       "CSV.Sink{Void,DataType}(    CSV.Options:\n",
       "        delim: ','\n",
       "        quotechar: '\"'\n",
       "        escapechar: '\\\\'\n",
       "        missingstring: \"\"\n",
       "        dateformat: nothing\n",
       "        decimal: '.'\n",
       "        truestring: 'true'\n",
       "        falsestring: 'false'\n",
       "        internstrings: true, IOBuffer(data=UInt8[...], readable=true, writable=true, seekable=true, append=false, size=0, maxsize=Inf, ptr=1, mark=-1), \"branches\", 16, true, String[\"to\", \"from\", \"r\", \"x\", \"b\", \"s\"], 6, false, Val{false})"
      ]
     },
     "execution_count": 15,
     "metadata": {},
     "output_type": "execute_result"
    }
   ],
   "source": [
    "CSV.write(\"branches\", branchmat)"
   ]
  },
  {
   "cell_type": "code",
   "execution_count": 16,
   "metadata": {},
   "outputs": [
    {
     "data": {
      "text/plain": [
       "CSV.Sink{Void,DataType}(    CSV.Options:\n",
       "        delim: ','\n",
       "        quotechar: '\"'\n",
       "        escapechar: '\\\\'\n",
       "        missingstring: \"\"\n",
       "        dateformat: nothing\n",
       "        decimal: '.'\n",
       "        truestring: 'true'\n",
       "        falsestring: 'false'\n",
       "        internstrings: true, IOBuffer(data=UInt8[...], readable=true, writable=true, seekable=true, append=false, size=0, maxsize=Inf, ptr=1, mark=-1), \"buses.csv\", 27, true, String[\"Node\", \"Pd\", \"Qd\", \"Vmax\", \"Vmin\", \"B\", \"R\", \"X\"], 8, false, Val{false})"
      ]
     },
     "execution_count": 16,
     "metadata": {},
     "output_type": "execute_result"
    }
   ],
   "source": [
    "CSV.write(\"buses.csv\", busmat)"
   ]
  },
  {
   "cell_type": "code",
   "execution_count": 21,
   "metadata": {},
   "outputs": [
    {
     "data": {
      "text/plain": [
       "CSV.Sink{Void,DataType}(    CSV.Options:\n",
       "        delim: ','\n",
       "        quotechar: '\"'\n",
       "        escapechar: '\\\\'\n",
       "        missingstring: \"\"\n",
       "        dateformat: nothing\n",
       "        decimal: '.'\n",
       "        truestring: 'true'\n",
       "        falsestring: 'false'\n",
       "        internstrings: true, IOBuffer(data=UInt8[...], readable=true, writable=true, seekable=true, append=false, size=0, maxsize=Inf, ptr=1, mark=-1), \"genmat.csv\", 20, true, String[\"Node\", \"Pmax\", \"Qmax\", \"Cost\"], 4, false, Val{false})"
      ]
     },
     "execution_count": 21,
     "metadata": {},
     "output_type": "execute_result"
    }
   ],
   "source": [
    "CSV.write(\"genmat.csv\", genmat)"
   ]
  },
  {
   "cell_type": "code",
   "execution_count": null,
   "metadata": {},
   "outputs": [],
   "source": []
  }
 ],
 "metadata": {
  "kernelspec": {
   "display_name": "Julia 0.6.4",
   "language": "julia",
   "name": "julia-0.6"
  },
  "language_info": {
   "file_extension": ".jl",
   "mimetype": "application/julia",
   "name": "julia",
   "version": "0.6.4"
  },
  "varInspector": {
   "cols": {
    "lenName": 16,
    "lenType": 16,
    "lenVar": 40
   },
   "kernels_config": {
    "python": {
     "delete_cmd_postfix": "",
     "delete_cmd_prefix": "del ",
     "library": "var_list.py",
     "varRefreshCmd": "print(var_dic_list())"
    },
    "r": {
     "delete_cmd_postfix": ") ",
     "delete_cmd_prefix": "rm(",
     "library": "var_list.r",
     "varRefreshCmd": "cat(var_dic_list()) "
    }
   },
   "types_to_exclude": [
    "module",
    "function",
    "builtin_function_or_method",
    "instance",
    "_Feature"
   ],
   "window_display": false
  }
 },
 "nbformat": 4,
 "nbformat_minor": 2
}
