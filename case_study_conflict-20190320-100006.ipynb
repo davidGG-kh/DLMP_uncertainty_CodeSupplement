{
 "cells": [
  {
   "cell_type": "markdown",
   "metadata": {},
   "source": [
    "# Case Study Model\n",
    "\n",
    "## General Remarks\n",
    "\n",
    "- Reverse Power Flow / Cost at substation\n",
    "    - If the negative generation limit at the substation is not enforced, then substation has the option of pushing energy back towards the transmission system (reverse power flow)\n",
    "    - We make the follwoing assumptions: \n",
    "        - reverse power flow is allowed at the substation \n",
    "        - for scheduled negative active power the substation is remunerated according to the market price (i.e. linear cost of energy provision at the substation) -> the substation has a linear cost function \n",
    "        - While the cost function will not have a quadratic termn, THERE WILL BE a penalty on $\\alpha_0$ as it indicates how much the substation is willing to deviate from the schedule\n",
    "\n",
    "\n",
    "## Notes and Todos:\n",
    "\n",
    "- Maybe check if 33bus gives nice/better results?\n",
    " \n",
    " \n",
    "Done:   \n",
    "- decide for a case! (combination of voltage limits and generators). Notes:\n",
    "    - should there be an equal lambda case?\n",
    "    - should the DERs be fully utilized in the deterministic case?\n",
    "    - [Done]: Choosen Ex2 as set up\n",
    "- put results handling in a function [done]\n",
    "- remove unneccsray packages (e.g. gurobi from tomls) [done, but check on the \"remains\"]\n",
    "- Remove quadratic term from substation [done]"
   ]
  },
  {
   "cell_type": "code",
   "execution_count": 176,
   "metadata": {},
   "outputs": [
    {
     "data": {
      "text/html": [
       "<style>.container { width:80% !important; }</style>"
      ]
     },
     "metadata": {},
     "output_type": "display_data"
    }
   ],
   "source": [
    "# IJulia.qtconsole();\n",
    "\n",
    "# set width of notbook \n",
    "display(\"text/html\", \"<style>.container { width:80% !important; }</style>\")"
   ]
  },
  {
   "cell_type": "code",
   "execution_count": 7,
   "metadata": {
    "hideCode": false,
    "hidePrompt": false
   },
   "outputs": [
    {
     "data": {
      "text/plain": [
       "results_to_df (generic function with 1 method)"
      ]
     },
     "execution_count": 7,
     "metadata": {},
     "output_type": "execute_result"
    }
   ],
   "source": [
    "# Set up environment from .toml-files\n",
    "import Pkg\n",
    "Pkg.activate(\".\")\n",
    "# Pkg.instantiate()\n",
    "\n",
    "# Load necessary packages\n",
    "using DataFrames, CSV, LinearAlgebra, Dates # Basic Julia utility\n",
    "using JLD, HDF5\n",
    "using JuMP # Modeling Framework\n",
    "using Mosek, MosekTools # Solver and Solver-Environment\n",
    "using Logging # For some warnings in the functions\n",
    "\n",
    "# Load functions and model\n",
    "include(\"src/tools.jl\") # Some additional functions\n",
    "include(\"src/input.jl\") # Type definitions and read-in functions\n",
    "include(\"src/model_definition.jl\") # Model definiton\n",
    "include(\"src/output.jl\") # Postprocessing of solved model"
   ]
  },
  {
   "cell_type": "markdown",
   "metadata": {},
   "source": [
    "# 15Bus Case\n",
    "\n",
    "- 15 bus case from Papavasilou paper\n",
    "    - negative load is positive load\n",
    "    - no line constraints\n",
    "    - voltage at root is 1 p.u.\n",
    "    \n",
    "- Assumptions for all cases except mentioned differently\n",
    "    - Two DERs one each at node 6 and 11 with `c1 = 10`, `c2 = 5`, `p_max = 1`, `q_max = 0.5`\n",
    "    - No reverse power flow limit on substation\n",
    "    - Substation pays `c1 = 50` for energy provision from the transmission network (no quadratic term) and a penalty of `200` on alpha to discourage high alpha"
   ]
  },
  {
   "cell_type": "markdown",
   "metadata": {},
   "source": [
    "## Experiment 1\n",
    "\n",
    "We analyse the influence of the uncertainty in the system using the \"standard\" setup\n",
    "\n",
    "### Description\n",
    "\n",
    "Ex1:\n",
    "- tag: `experiment1`\n",
    "- tight bascase voltage (0.95-1.05) \n",
    "- all nodes have 20% standard deviation of their forecasted load\n",
    "\n",
    "Runs:\n",
    "- `ex1_no_uncert`: deterministic case\n",
    "- `ex1_uncert`: case with uncertainty\n",
    "- `ex1_gen_uncert`: Chance constraints only in generation\n",
    "\n",
    "\n",
    "### Notes and Observations\n",
    "\n",
    "- Recursive decomposition of prices for active power (eqtns (20) and (21)) are verified by the experimet\n",
    "- Decompositon via voltage constraints (eqtns (23) and (24)) also verified by the experiment"
   ]
  },
  {
   "cell_type": "code",
   "execution_count": 2,
   "metadata": {
    "hideCode": false,
    "hidePrompt": false
   },
   "outputs": [
    {
     "name": "stdout",
     "output_type": "stream",
     "text": [
      ">>>>> Reading feeder data from data/feeder_data/basecase_lv_noneg/\n",
      "Running ex1_uncert\n",
      ">>>> Building Model\n",
      ">>>> Running Model\n",
      "MOSEK warning 705: #3 (nearly) zero elements are specified in sparse row ''(87) of matrix 'A'.\n",
      "MOSEK warning 705: #4 (nearly) zero elements are specified in sparse row ''(93) of matrix 'A'.\n",
      ">>>> Model finished with status OPTIMAL in 10.725489949 seconds\n",
      ">>>> Post-Processing\n",
      "\n",
      "Running ex1_gen_uncert\n",
      ">>>> Building Model\n",
      ">>>> Running Model\n",
      ">>>> Model finished with status OPTIMAL in 0.004067965 seconds\n",
      ">>>> Post-Processing\n",
      "\n",
      "Running ex1_no_uncert\n",
      ">>>> Building Model\n",
      ">>>> Running Model\n",
      ">>>> Model finished with status OPTIMAL in 0.003565615 seconds\n",
      ">>>> Post-Processing\n",
      "\n"
     ]
    },
    {
     "data": {
      "text/html": [
       "<table class=\"data-frame\"><thead><tr><th></th><th>objective</th><th>bus</th><th>gp</th><th>gq</th><th>voltage</th><th>alpha</th><th>lambda</th><th>pi</th><th>gamma</th><th>eta</th><th>delta_plus</th><th>delta_minus</th><th>mu_plus</th><th>mu_minus</th><th>voltvar</th><th>lambda_anc</th><th>rx_pi_i</th><th>rx_pi_a</th><th>r_sum_mu_d</th></tr><tr><th></th><th>Float64</th><th>Any</th><th>Any</th><th>Any</th><th>Any</th><th>Any</th><th>Any</th><th>Any</th><th>Float64</th><th>Any</th><th>Any</th><th>Any</th><th>Any</th><th>Any</th><th>Any</th><th>Any</th><th>Any</th><th>Any</th><th>Any</th></tr></thead><tbody><p>15 rows × 19 columns</p><tr><th>1</th><td>107.833</td><td>1</td><td>0.894374</td><td>0.540247</td><td>1.0</td><td>0.550625</td><td>-100.0</td><td>-5.22936e-10</td><td>-14.1658</td><td>0</td><td>0</td><td>0</td><td>0</td><td>0</td><td>0</td><td>0</td><td>0</td><td>0</td><td>0</td></tr><tr><th>2</th><td>0.0</td><td>2</td><td>0</td><td>0</td><td>0.950269</td><td>0</td><td>-101.064</td><td>-127.648</td><td>0.0</td><td>-0.0980513</td><td>0</td><td>0</td><td>-2.11416e-5</td><td>-697.74</td><td>9.92585e-5</td><td>-100.0</td><td>-1.06373</td><td>-4.3578e-12</td><td>1.06373</td></tr><tr><th>3</th><td>0.0</td><td>3</td><td>0</td><td>0</td><td>0.9719</td><td>0</td><td>-71.7705</td><td>-85.7815</td><td>0.0</td><td>-5.09823</td><td>0</td><td>0</td><td>-3.21486e-5</td><td>-0.000365687</td><td>0.00595755</td><td>-101.064</td><td>-60.0199</td><td>-89.3132</td><td>-29.2933</td></tr><tr><th>4</th><td>0.0</td><td>4</td><td>0</td><td>0</td><td>1.00487</td><td>0</td><td>-25.8566</td><td>-20.1618</td><td>0.0</td><td>-12.9354</td><td>0</td><td>0</td><td>-0.000137341</td><td>-0.000100472</td><td>0.0127409</td><td>-71.7705</td><td>-14.1072</td><td>-60.0211</td><td>-45.9139</td></tr><tr><th>5</th><td>0.0</td><td>5</td><td>0</td><td>0</td><td>1.00884</td><td>0</td><td>-22.6819</td><td>-15.6242</td><td>0.0</td><td>-13.4717</td><td>0</td><td>0</td><td>-0.000179682</td><td>-8.24556e-5</td><td>0.012421</td><td>-25.8566</td><td>-10.9312</td><td>-14.1059</td><td>-3.17471</td></tr><tr><th>6</th><td>0.0</td><td>6</td><td>0</td><td>0</td><td>1.01286</td><td>0</td><td>-19.7731</td><td>-11.4522</td><td>0.0</td><td>-13.9631</td><td>0</td><td>0</td><td>-0.000248564</td><td>-6.91739e-5</td><td>0.0119264</td><td>-22.6819</td><td>-7.98458</td><td>-10.8933</td><td>-2.90876</td></tr><tr><th>7</th><td>0.0</td><td>7</td><td>0.511526</td><td>-0.146374</td><td>1.02575</td><td>0.107176</td><td>-11.7616</td><td>-1.01055e-5</td><td>0.0</td><td>-15.3165</td><td>-2.53398e-5</td><td>-1.07972e-5</td><td>-83.1073</td><td>-4.68272e-5</td><td>0.00977028</td><td>-19.7731</td><td>-7.06947e-6</td><td>-8.01153</td><td>-8.01154</td></tr><tr><th>8</th><td>0.0</td><td>8</td><td>0</td><td>0</td><td>0.996791</td><td>0</td><td>-19.1194</td><td>-10.5279</td><td>0.0</td><td>-14.0973</td><td>0</td><td>0</td><td>-0.000119038</td><td>-0.0002906</td><td>0.0150436</td><td>-19.1194</td><td>-7.37091</td><td>-7.37089</td><td>1.79454e-5</td></tr><tr><th>9</th><td>0.0</td><td>9</td><td>0</td><td>0</td><td>1.00721</td><td>0</td><td>-19.1194</td><td>-10.5278</td><td>0.0</td><td>-14.0973</td><td>0</td><td>0</td><td>-0.000214085</td><td>-0.000100536</td><td>0.013504</td><td>-25.8566</td><td>-7.36225</td><td>-14.0994</td><td>-6.73718</td></tr><tr><th>10</th><td>0.0</td><td>10</td><td>0</td><td>0</td><td>1.01008</td><td>0</td><td>-17.4641</td><td>-8.16071</td><td>0.0</td><td>-14.3828</td><td>0</td><td>0</td><td>-0.000283034</td><td>-8.63338e-5</td><td>0.0132011</td><td>-19.1194</td><td>-5.70679</td><td>-7.36212</td><td>-1.65533</td></tr><tr><th>11</th><td>0.0</td><td>11</td><td>0</td><td>0</td><td>1.01799</td><td>0</td><td>-13.4747</td><td>-2.44985</td><td>0.0</td><td>-15.0708</td><td>0</td><td>0</td><td>-0.00113693</td><td>-6.09762e-5</td><td>0.0121132</td><td>-17.4641</td><td>-1.71134</td><td>-5.70067</td><td>-3.98933</td></tr><tr><th>12</th><td>0.0</td><td>12</td><td>0.4</td><td>-0.0128732</td><td>1.02166</td><td>0.342198</td><td>-11.7698</td><td>-1.15033e-6</td><td>0.0</td><td>-15.3648</td><td>-6.16215</td><td>-5.76967</td><td>-82.7652</td><td>-5.31687e-5</td><td>0.0113965</td><td>-13.4747</td><td>-8.00565e-7</td><td>-1.70496</td><td>-1.70496</td></tr><tr><th>13</th><td>0.0</td><td>13</td><td>0</td><td>0</td><td>0.982619</td><td>0</td><td>-100.0</td><td>-0.000168623</td><td>0.0</td><td>-1.2642e-9</td><td>0</td><td>0</td><td>0.0</td><td>-0.000199034</td><td>0.00816166</td><td>-100.0</td><td>-1.40519e-6</td><td>-4.3578e-12</td><td>1.40519e-6</td></tr><tr><th>14</th><td>0.0</td><td>14</td><td>0</td><td>0</td><td>0.977795</td><td>0</td><td>-100.0</td><td>-0.00028132</td><td>0.0</td><td>-1.87763e-7</td><td>0</td><td>0</td><td>0.0</td><td>-0.000236557</td><td>0.00695897</td><td>-100.0</td><td>-0.000391938</td><td>-0.000234927</td><td>0.000157011</td></tr><tr><th>15</th><td>0.0</td><td>15</td><td>0</td><td>0</td><td>0.975027</td><td>0</td><td>-100.0</td><td>-0.000317847</td><td>0.0</td><td>-2.62226e-7</td><td>0</td><td>0</td><td>0.0</td><td>-0.000267006</td><td>0.00628878</td><td>-100.0</td><td>-0.000442848</td><td>-0.000391956</td><td>5.08914e-5</td></tr></tbody></table>"
      ],
      "text/latex": [
       "\\begin{tabular}{r|ccccccccccccccccccc}\n",
       "\t& objective & bus & gp & gq & voltage & alpha & lambda & pi & gamma & eta & delta\\_plus & delta\\_minus & mu\\_plus & mu\\_minus & voltvar & lambda\\_anc & rx\\_pi\\_i & rx\\_pi\\_a & r\\_sum\\_mu\\_d\\\\\n",
       "\t\\hline\n",
       "\t& Float64 & Any & Any & Any & Any & Any & Any & Any & Float64 & Any & Any & Any & Any & Any & Any & Any & Any & Any & Any\\\\\n",
       "\t\\hline\n",
       "\t1 & 107.833 & 1 & 0.894374 & 0.540247 & 1.0 & 0.550625 & -100.0 & -5.22936e-10 & -14.1658 & 0 & 0 & 0 & 0 & 0 & 0 & 0 & 0 & 0 & 0 \\\\\n",
       "\t2 & 0.0 & 2 & 0 & 0 & 0.950269 & 0 & -101.064 & -127.648 & 0.0 & -0.0980513 & 0 & 0 & -2.11416e-5 & -697.74 & 9.92585e-5 & -100.0 & -1.06373 & -4.3578e-12 & 1.06373 \\\\\n",
       "\t3 & 0.0 & 3 & 0 & 0 & 0.9719 & 0 & -71.7705 & -85.7815 & 0.0 & -5.09823 & 0 & 0 & -3.21486e-5 & -0.000365687 & 0.00595755 & -101.064 & -60.0199 & -89.3132 & -29.2933 \\\\\n",
       "\t4 & 0.0 & 4 & 0 & 0 & 1.00487 & 0 & -25.8566 & -20.1618 & 0.0 & -12.9354 & 0 & 0 & -0.000137341 & -0.000100472 & 0.0127409 & -71.7705 & -14.1072 & -60.0211 & -45.9139 \\\\\n",
       "\t5 & 0.0 & 5 & 0 & 0 & 1.00884 & 0 & -22.6819 & -15.6242 & 0.0 & -13.4717 & 0 & 0 & -0.000179682 & -8.24556e-5 & 0.012421 & -25.8566 & -10.9312 & -14.1059 & -3.17471 \\\\\n",
       "\t6 & 0.0 & 6 & 0 & 0 & 1.01286 & 0 & -19.7731 & -11.4522 & 0.0 & -13.9631 & 0 & 0 & -0.000248564 & -6.91739e-5 & 0.0119264 & -22.6819 & -7.98458 & -10.8933 & -2.90876 \\\\\n",
       "\t7 & 0.0 & 7 & 0.511526 & -0.146374 & 1.02575 & 0.107176 & -11.7616 & -1.01055e-5 & 0.0 & -15.3165 & -2.53398e-5 & -1.07972e-5 & -83.1073 & -4.68272e-5 & 0.00977028 & -19.7731 & -7.06947e-6 & -8.01153 & -8.01154 \\\\\n",
       "\t8 & 0.0 & 8 & 0 & 0 & 0.996791 & 0 & -19.1194 & -10.5279 & 0.0 & -14.0973 & 0 & 0 & -0.000119038 & -0.0002906 & 0.0150436 & -19.1194 & -7.37091 & -7.37089 & 1.79454e-5 \\\\\n",
       "\t9 & 0.0 & 9 & 0 & 0 & 1.00721 & 0 & -19.1194 & -10.5278 & 0.0 & -14.0973 & 0 & 0 & -0.000214085 & -0.000100536 & 0.013504 & -25.8566 & -7.36225 & -14.0994 & -6.73718 \\\\\n",
       "\t10 & 0.0 & 10 & 0 & 0 & 1.01008 & 0 & -17.4641 & -8.16071 & 0.0 & -14.3828 & 0 & 0 & -0.000283034 & -8.63338e-5 & 0.0132011 & -19.1194 & -5.70679 & -7.36212 & -1.65533 \\\\\n",
       "\t11 & 0.0 & 11 & 0 & 0 & 1.01799 & 0 & -13.4747 & -2.44985 & 0.0 & -15.0708 & 0 & 0 & -0.00113693 & -6.09762e-5 & 0.0121132 & -17.4641 & -1.71134 & -5.70067 & -3.98933 \\\\\n",
       "\t12 & 0.0 & 12 & 0.4 & -0.0128732 & 1.02166 & 0.342198 & -11.7698 & -1.15033e-6 & 0.0 & -15.3648 & -6.16215 & -5.76967 & -82.7652 & -5.31687e-5 & 0.0113965 & -13.4747 & -8.00565e-7 & -1.70496 & -1.70496 \\\\\n",
       "\t13 & 0.0 & 13 & 0 & 0 & 0.982619 & 0 & -100.0 & -0.000168623 & 0.0 & -1.2642e-9 & 0 & 0 & 0.0 & -0.000199034 & 0.00816166 & -100.0 & -1.40519e-6 & -4.3578e-12 & 1.40519e-6 \\\\\n",
       "\t14 & 0.0 & 14 & 0 & 0 & 0.977795 & 0 & -100.0 & -0.00028132 & 0.0 & -1.87763e-7 & 0 & 0 & 0.0 & -0.000236557 & 0.00695897 & -100.0 & -0.000391938 & -0.000234927 & 0.000157011 \\\\\n",
       "\t15 & 0.0 & 15 & 0 & 0 & 0.975027 & 0 & -100.0 & -0.000317847 & 0.0 & -2.62226e-7 & 0 & 0 & 0.0 & -0.000267006 & 0.00628878 & -100.0 & -0.000442848 & -0.000391956 & 5.08914e-5 \\\\\n",
       "\\end{tabular}\n"
      ],
      "text/plain": [
       "15×19 DataFrame. Omitted printing of 13 columns\n",
       "│ Row │ objective │ bus │ gp       │ gq         │ voltage  │ alpha    │\n",
       "│     │ \u001b[90mFloat64\u001b[39m   │ \u001b[90mAny\u001b[39m │ \u001b[90mAny\u001b[39m      │ \u001b[90mAny\u001b[39m        │ \u001b[90mAny\u001b[39m      │ \u001b[90mAny\u001b[39m      │\n",
       "├─────┼───────────┼─────┼──────────┼────────────┼──────────┼──────────┤\n",
       "│ 1   │ 107.833   │ 1   │ 0.894374 │ 0.540247   │ 1.0      │ 0.550625 │\n",
       "│ 2   │ 0.0       │ 2   │ 0        │ 0          │ 0.950269 │ 0        │\n",
       "│ 3   │ 0.0       │ 3   │ 0        │ 0          │ 0.9719   │ 0        │\n",
       "│ 4   │ 0.0       │ 4   │ 0        │ 0          │ 1.00487  │ 0        │\n",
       "│ 5   │ 0.0       │ 5   │ 0        │ 0          │ 1.00884  │ 0        │\n",
       "│ 6   │ 0.0       │ 6   │ 0        │ 0          │ 1.01286  │ 0        │\n",
       "│ 7   │ 0.0       │ 7   │ 0.511526 │ -0.146374  │ 1.02575  │ 0.107176 │\n",
       "│ 8   │ 0.0       │ 8   │ 0        │ 0          │ 0.996791 │ 0        │\n",
       "│ 9   │ 0.0       │ 9   │ 0        │ 0          │ 1.00721  │ 0        │\n",
       "│ 10  │ 0.0       │ 10  │ 0        │ 0          │ 1.01008  │ 0        │\n",
       "│ 11  │ 0.0       │ 11  │ 0        │ 0          │ 1.01799  │ 0        │\n",
       "│ 12  │ 0.0       │ 12  │ 0.4      │ -0.0128732 │ 1.02166  │ 0.342198 │\n",
       "│ 13  │ 0.0       │ 13  │ 0        │ 0          │ 0.982619 │ 0        │\n",
       "│ 14  │ 0.0       │ 14  │ 0        │ 0          │ 0.977795 │ 0        │\n",
       "│ 15  │ 0.0       │ 15  │ 0        │ 0          │ 0.975027 │ 0        │"
      ]
     },
     "metadata": {},
     "output_type": "display_data"
    },
    {
     "data": {
      "text/html": [
       "<table class=\"data-frame\"><thead><tr><th></th><th>objective</th><th>bus</th><th>gp</th><th>gq</th><th>voltage</th><th>alpha</th><th>lambda</th><th>pi</th><th>gamma</th><th>eta</th><th>delta_plus</th><th>delta_minus</th><th>mu_plus</th><th>mu_minus</th><th>voltvar</th><th>lambda_anc</th><th>rx_pi_i</th><th>rx_pi_a</th><th>r_sum_mu_d</th></tr><tr><th></th><th>Float64</th><th>Any</th><th>Any</th><th>Any</th><th>Any</th><th>Any</th><th>Any</th><th>Any</th><th>Float64</th><th>Any</th><th>Any</th><th>Any</th><th>Any</th><th>Any</th><th>Any</th><th>Any</th><th>Any</th><th>Any</th><th>Any</th></tr></thead><tbody><p>15 rows × 19 columns</p><tr><th>1</th><td>97.719</td><td>1</td><td>0.787837</td><td>0.543266</td><td>1.0</td><td>0.502155</td><td>-100.0</td><td>0.0</td><td>-14.0557</td><td>0</td><td>0</td><td>0</td><td>0</td><td>0</td><td>0</td><td>0</td><td>0</td><td>0</td><td>0</td></tr><tr><th>2</th><td>0.0</td><td>2</td><td>0</td><td>0</td><td>0.95</td><td>0</td><td>-100.923</td><td>-110.735</td><td>0.0</td><td>0</td><td>0</td><td>0</td><td>-6.22946e-6</td><td>-605.292</td><td>0</td><td>-100.0</td><td>-0.922792</td><td>0.0</td><td>0.922792</td></tr><tr><th>3</th><td>0.0</td><td>3</td><td>0</td><td>0</td><td>0.980882</td><td>0</td><td>-75.5108</td><td>-74.4157</td><td>0.0</td><td>0</td><td>0</td><td>0</td><td>-8.69654e-6</td><td>-2.45659e-5</td><td>0</td><td>-100.923</td><td>-52.0674</td><td>-77.4795</td><td>-25.412</td></tr><tr><th>4</th><td>0.0</td><td>4</td><td>0</td><td>0</td><td>1.02742</td><td>0</td><td>-35.6803</td><td>-17.4905</td><td>0.0</td><td>0</td><td>0</td><td>0</td><td>-2.43829e-5</td><td>-9.02386e-6</td><td>0</td><td>-75.5108</td><td>-12.238</td><td>-52.0684</td><td>-39.8304</td></tr><tr><th>5</th><td>0.0</td><td>5</td><td>0</td><td>0</td><td>1.0318</td><td>0</td><td>-32.9263</td><td>-13.554</td><td>0.0</td><td>0</td><td>0</td><td>0</td><td>-3.01897e-5</td><td>-8.4906e-6</td><td>0</td><td>-35.6803</td><td>-9.48286</td><td>-12.2369</td><td>-2.75407</td></tr><tr><th>6</th><td>0.0</td><td>6</td><td>0</td><td>0</td><td>1.03618</td><td>0</td><td>-30.4029</td><td>-9.93482</td><td>0.0</td><td>0</td><td>0</td><td>0</td><td>-4.04363e-5</td><td>-8.01029e-6</td><td>0</td><td>-32.9263</td><td>-6.92666</td><td>-9.45002</td><td>-2.52336</td></tr><tr><th>7</th><td>0.0</td><td>7</td><td>0.508279</td><td>-0.125555</td><td>1.05</td><td>0.249567</td><td>-23.4529</td><td>-2.65458e-6</td><td>0.0</td><td>0</td><td>-11.8748</td><td>-5.44797e-6</td><td>-72.0959</td><td>-6.77542e-6</td><td>0</td><td>-30.4029</td><td>-1.85705e-6</td><td>-6.95005</td><td>-6.95005</td></tr><tr><th>8</th><td>0.0</td><td>8</td><td>0</td><td>0</td><td>1.02254</td><td>0</td><td>-29.8358</td><td>-9.13295</td><td>0.0</td><td>0</td><td>0</td><td>0</td><td>-0.0</td><td>-9.83932e-6</td><td>0</td><td>-29.8358</td><td>-6.39429</td><td>-6.39429</td><td>1.02919e-6</td></tr><tr><th>9</th><td>0.0</td><td>9</td><td>0</td><td>0</td><td>1.0327</td><td>0</td><td>-29.8358</td><td>-9.13295</td><td>0.0</td><td>0</td><td>0</td><td>0</td><td>-3.00228e-5</td><td>-0.0</td><td>0</td><td>-35.6803</td><td>-6.38679</td><td>-12.2313</td><td>-5.84452</td></tr><tr><th>10</th><td>0.0</td><td>10</td><td>0</td><td>0</td><td>1.03623</td><td>0</td><td>-28.3998</td><td>-7.07947</td><td>0.0</td><td>0</td><td>0</td><td>0</td><td>-3.5746e-5</td><td>-7.97528e-6</td><td>0</td><td>-29.8358</td><td>-4.95068</td><td>-6.38668</td><td>-1.436</td></tr><tr><th>11</th><td>0.0</td><td>11</td><td>0</td><td>0</td><td>1.04568</td><td>0</td><td>-24.9391</td><td>-2.12528</td><td>0.0</td><td>0</td><td>0</td><td>0</td><td>-6.52018e-5</td><td>-7.07184e-6</td><td>0</td><td>-28.3998</td><td>-1.48461</td><td>-4.94537</td><td>-3.46076</td></tr><tr><th>12</th><td>0.0</td><td>12</td><td>0.509785</td><td>-0.0367112</td><td>1.05</td><td>0.248278</td><td>-23.46</td><td>-5.45898e-7</td><td>0.0</td><td>0</td><td>-11.8758</td><td>-6.50081e-6</td><td>-71.7999</td><td>-6.72631e-6</td><td>0</td><td>-24.9391</td><td>-3.79916e-7</td><td>-1.47908</td><td>-1.47908</td></tr><tr><th>13</th><td>0.0</td><td>13</td><td>0</td><td>0</td><td>0.982619</td><td>0</td><td>-100.0</td><td>0.0</td><td>0.0</td><td>0</td><td>0</td><td>0</td><td>-0.0</td><td>-0.0</td><td>0</td><td>-100.0</td><td>0.0</td><td>0.0</td><td>0.0</td></tr><tr><th>14</th><td>0.0</td><td>14</td><td>0</td><td>0</td><td>0.977795</td><td>0</td><td>-100.0</td><td>0.0</td><td>0.0</td><td>0</td><td>0</td><td>0</td><td>-0.0</td><td>-0.0</td><td>0</td><td>-100.0</td><td>0.0</td><td>0.0</td><td>0.0</td></tr><tr><th>15</th><td>0.0</td><td>15</td><td>0</td><td>0</td><td>0.975027</td><td>0</td><td>-100.0</td><td>0.0</td><td>0.0</td><td>0</td><td>0</td><td>0</td><td>-0.0</td><td>-0.0</td><td>0</td><td>-100.0</td><td>0.0</td><td>0.0</td><td>0.0</td></tr></tbody></table>"
      ],
      "text/latex": [
       "\\begin{tabular}{r|ccccccccccccccccccc}\n",
       "\t& objective & bus & gp & gq & voltage & alpha & lambda & pi & gamma & eta & delta\\_plus & delta\\_minus & mu\\_plus & mu\\_minus & voltvar & lambda\\_anc & rx\\_pi\\_i & rx\\_pi\\_a & r\\_sum\\_mu\\_d\\\\\n",
       "\t\\hline\n",
       "\t& Float64 & Any & Any & Any & Any & Any & Any & Any & Float64 & Any & Any & Any & Any & Any & Any & Any & Any & Any & Any\\\\\n",
       "\t\\hline\n",
       "\t1 & 97.719 & 1 & 0.787837 & 0.543266 & 1.0 & 0.502155 & -100.0 & 0.0 & -14.0557 & 0 & 0 & 0 & 0 & 0 & 0 & 0 & 0 & 0 & 0 \\\\\n",
       "\t2 & 0.0 & 2 & 0 & 0 & 0.95 & 0 & -100.923 & -110.735 & 0.0 & 0 & 0 & 0 & -6.22946e-6 & -605.292 & 0 & -100.0 & -0.922792 & 0.0 & 0.922792 \\\\\n",
       "\t3 & 0.0 & 3 & 0 & 0 & 0.980882 & 0 & -75.5108 & -74.4157 & 0.0 & 0 & 0 & 0 & -8.69654e-6 & -2.45659e-5 & 0 & -100.923 & -52.0674 & -77.4795 & -25.412 \\\\\n",
       "\t4 & 0.0 & 4 & 0 & 0 & 1.02742 & 0 & -35.6803 & -17.4905 & 0.0 & 0 & 0 & 0 & -2.43829e-5 & -9.02386e-6 & 0 & -75.5108 & -12.238 & -52.0684 & -39.8304 \\\\\n",
       "\t5 & 0.0 & 5 & 0 & 0 & 1.0318 & 0 & -32.9263 & -13.554 & 0.0 & 0 & 0 & 0 & -3.01897e-5 & -8.4906e-6 & 0 & -35.6803 & -9.48286 & -12.2369 & -2.75407 \\\\\n",
       "\t6 & 0.0 & 6 & 0 & 0 & 1.03618 & 0 & -30.4029 & -9.93482 & 0.0 & 0 & 0 & 0 & -4.04363e-5 & -8.01029e-6 & 0 & -32.9263 & -6.92666 & -9.45002 & -2.52336 \\\\\n",
       "\t7 & 0.0 & 7 & 0.508279 & -0.125555 & 1.05 & 0.249567 & -23.4529 & -2.65458e-6 & 0.0 & 0 & -11.8748 & -5.44797e-6 & -72.0959 & -6.77542e-6 & 0 & -30.4029 & -1.85705e-6 & -6.95005 & -6.95005 \\\\\n",
       "\t8 & 0.0 & 8 & 0 & 0 & 1.02254 & 0 & -29.8358 & -9.13295 & 0.0 & 0 & 0 & 0 & -0.0 & -9.83932e-6 & 0 & -29.8358 & -6.39429 & -6.39429 & 1.02919e-6 \\\\\n",
       "\t9 & 0.0 & 9 & 0 & 0 & 1.0327 & 0 & -29.8358 & -9.13295 & 0.0 & 0 & 0 & 0 & -3.00228e-5 & -0.0 & 0 & -35.6803 & -6.38679 & -12.2313 & -5.84452 \\\\\n",
       "\t10 & 0.0 & 10 & 0 & 0 & 1.03623 & 0 & -28.3998 & -7.07947 & 0.0 & 0 & 0 & 0 & -3.5746e-5 & -7.97528e-6 & 0 & -29.8358 & -4.95068 & -6.38668 & -1.436 \\\\\n",
       "\t11 & 0.0 & 11 & 0 & 0 & 1.04568 & 0 & -24.9391 & -2.12528 & 0.0 & 0 & 0 & 0 & -6.52018e-5 & -7.07184e-6 & 0 & -28.3998 & -1.48461 & -4.94537 & -3.46076 \\\\\n",
       "\t12 & 0.0 & 12 & 0.509785 & -0.0367112 & 1.05 & 0.248278 & -23.46 & -5.45898e-7 & 0.0 & 0 & -11.8758 & -6.50081e-6 & -71.7999 & -6.72631e-6 & 0 & -24.9391 & -3.79916e-7 & -1.47908 & -1.47908 \\\\\n",
       "\t13 & 0.0 & 13 & 0 & 0 & 0.982619 & 0 & -100.0 & 0.0 & 0.0 & 0 & 0 & 0 & -0.0 & -0.0 & 0 & -100.0 & 0.0 & 0.0 & 0.0 \\\\\n",
       "\t14 & 0.0 & 14 & 0 & 0 & 0.977795 & 0 & -100.0 & 0.0 & 0.0 & 0 & 0 & 0 & -0.0 & -0.0 & 0 & -100.0 & 0.0 & 0.0 & 0.0 \\\\\n",
       "\t15 & 0.0 & 15 & 0 & 0 & 0.975027 & 0 & -100.0 & 0.0 & 0.0 & 0 & 0 & 0 & -0.0 & -0.0 & 0 & -100.0 & 0.0 & 0.0 & 0.0 \\\\\n",
       "\\end{tabular}\n"
      ],
      "text/plain": [
       "15×19 DataFrame. Omitted printing of 13 columns\n",
       "│ Row │ objective │ bus │ gp       │ gq         │ voltage  │ alpha    │\n",
       "│     │ \u001b[90mFloat64\u001b[39m   │ \u001b[90mAny\u001b[39m │ \u001b[90mAny\u001b[39m      │ \u001b[90mAny\u001b[39m        │ \u001b[90mAny\u001b[39m      │ \u001b[90mAny\u001b[39m      │\n",
       "├─────┼───────────┼─────┼──────────┼────────────┼──────────┼──────────┤\n",
       "│ 1   │ 97.719    │ 1   │ 0.787837 │ 0.543266   │ 1.0      │ 0.502155 │\n",
       "│ 2   │ 0.0       │ 2   │ 0        │ 0          │ 0.95     │ 0        │\n",
       "│ 3   │ 0.0       │ 3   │ 0        │ 0          │ 0.980882 │ 0        │\n",
       "│ 4   │ 0.0       │ 4   │ 0        │ 0          │ 1.02742  │ 0        │\n",
       "│ 5   │ 0.0       │ 5   │ 0        │ 0          │ 1.0318   │ 0        │\n",
       "│ 6   │ 0.0       │ 6   │ 0        │ 0          │ 1.03618  │ 0        │\n",
       "│ 7   │ 0.0       │ 7   │ 0.508279 │ -0.125555  │ 1.05     │ 0.249567 │\n",
       "│ 8   │ 0.0       │ 8   │ 0        │ 0          │ 1.02254  │ 0        │\n",
       "│ 9   │ 0.0       │ 9   │ 0        │ 0          │ 1.0327   │ 0        │\n",
       "│ 10  │ 0.0       │ 10  │ 0        │ 0          │ 1.03623  │ 0        │\n",
       "│ 11  │ 0.0       │ 11  │ 0        │ 0          │ 1.04568  │ 0        │\n",
       "│ 12  │ 0.0       │ 12  │ 0.509785 │ -0.0367112 │ 1.05     │ 0.248278 │\n",
       "│ 13  │ 0.0       │ 13  │ 0        │ 0          │ 0.982619 │ 0        │\n",
       "│ 14  │ 0.0       │ 14  │ 0        │ 0          │ 0.977795 │ 0        │\n",
       "│ 15  │ 0.0       │ 15  │ 0        │ 0          │ 0.975027 │ 0        │"
      ]
     },
     "metadata": {},
     "output_type": "display_data"
    },
    {
     "data": {
      "text/html": [
       "<table class=\"data-frame\"><thead><tr><th></th><th>objective</th><th>bus</th><th>gp</th><th>gq</th><th>voltage</th><th>alpha</th><th>lambda</th><th>pi</th><th>gamma</th><th>eta</th><th>delta_plus</th><th>delta_minus</th><th>mu_plus</th><th>mu_minus</th><th>voltvar</th><th>lambda_anc</th><th>rx_pi_i</th><th>rx_pi_a</th><th>r_sum_mu_d</th></tr><tr><th></th><th>Float64</th><th>Any</th><th>Any</th><th>Any</th><th>Any</th><th>Any</th><th>Any</th><th>Any</th><th>Float64</th><th>Any</th><th>Any</th><th>Any</th><th>Any</th><th>Any</th><th>Any</th><th>Any</th><th>Any</th><th>Any</th><th>Any</th></tr></thead><tbody><p>15 rows × 19 columns</p><tr><th>1</th><td>89.9317</td><td>1</td><td>0.787837</td><td>0.543266</td><td>1.0</td><td>0</td><td>-100.0</td><td>0.0</td><td>0.0</td><td>0</td><td>0</td><td>0</td><td>0</td><td>0</td><td>0</td><td>0</td><td>0</td><td>0</td><td>0</td></tr><tr><th>2</th><td>0.0</td><td>2</td><td>0</td><td>0</td><td>0.95</td><td>0</td><td>-101.074</td><td>-128.828</td><td>0.0</td><td>0</td><td>0</td><td>0</td><td>-2.34877e-6</td><td>-704.189</td><td>0</td><td>-100.0</td><td>-1.07356</td><td>0.0</td><td>1.07356</td></tr><tr><th>3</th><td>0.0</td><td>3</td><td>0</td><td>0</td><td>0.980882</td><td>0</td><td>-71.5095</td><td>-86.5743</td><td>0.0</td><td>0</td><td>0</td><td>0</td><td>-3.29177e-6</td><td>-1.09804e-5</td><td>0</td><td>-101.074</td><td>-60.5746</td><td>-90.1386</td><td>-29.564</td></tr><tr><th>4</th><td>0.0</td><td>4</td><td>0</td><td>0</td><td>1.02742</td><td>0</td><td>-25.1714</td><td>-20.3482</td><td>0.0</td><td>0</td><td>0</td><td>0</td><td>-9.08044e-6</td><td>-3.7435e-6</td><td>0</td><td>-71.5095</td><td>-14.2376</td><td>-60.5757</td><td>-46.3382</td></tr><tr><th>5</th><td>0.0</td><td>5</td><td>0</td><td>0</td><td>1.0318</td><td>0</td><td>-21.9673</td><td>-15.7686</td><td>0.0</td><td>0</td><td>0</td><td>0</td><td>-1.11327e-5</td><td>-3.49286e-6</td><td>0</td><td>-25.1714</td><td>-11.0322</td><td>-14.2363</td><td>-3.20404</td></tr><tr><th>6</th><td>0.0</td><td>6</td><td>0</td><td>0</td><td>1.03618</td><td>0</td><td>-19.0317</td><td>-11.558</td><td>0.0</td><td>0</td><td>0</td><td>0</td><td>-1.45833e-5</td><td>-3.27079e-6</td><td>0</td><td>-21.9673</td><td>-8.05839</td><td>-10.994</td><td>-2.93564</td></tr><tr><th>7</th><td>0.0</td><td>7</td><td>0.507154</td><td>-0.124769</td><td>1.05</td><td>0</td><td>-10.9461</td><td>-5.80027e-7</td><td>0.0</td><td>0</td><td>-1.88969e-6</td><td>-9.27997e-7</td><td>-83.8755</td><td>-2.71542e-6</td><td>0</td><td>-19.0317</td><td>-4.05766e-7</td><td>-8.0856</td><td>-8.0856</td></tr><tr><th>8</th><td>0.0</td><td>8</td><td>0</td><td>0</td><td>1.02254</td><td>0</td><td>-18.3719</td><td>-10.6252</td><td>0.0</td><td>0</td><td>0</td><td>0</td><td>-0.0</td><td>-4.13976e-6</td><td>0</td><td>-18.3719</td><td>-7.43904</td><td>-7.43904</td><td>4.33019e-7</td></tr><tr><th>9</th><td>0.0</td><td>9</td><td>0</td><td>0</td><td>1.0327</td><td>0</td><td>-18.3719</td><td>-10.6252</td><td>0.0</td><td>0</td><td>0</td><td>0</td><td>-1.08137e-5</td><td>-0.0</td><td>0</td><td>-25.1714</td><td>-7.43031</td><td>-14.2298</td><td>-6.79944</td></tr><tr><th>10</th><td>0.0</td><td>10</td><td>0</td><td>0</td><td>1.03623</td><td>0</td><td>-16.7013</td><td>-8.23617</td><td>0.0</td><td>0</td><td>0</td><td>0</td><td>-1.24389e-5</td><td>-0.0</td><td>0</td><td>-18.3719</td><td>-5.75956</td><td>-7.43018</td><td>-1.67062</td></tr><tr><th>11</th><td>0.0</td><td>11</td><td>0</td><td>0</td><td>1.04568</td><td>0</td><td>-12.6751</td><td>-2.47252</td><td>0.0</td><td>0</td><td>0</td><td>0</td><td>-1.57585e-5</td><td>-2.88536e-6</td><td>0</td><td>-16.7013</td><td>-1.72718</td><td>-5.75338</td><td>-4.0262</td></tr><tr><th>12</th><td>0.0</td><td>12</td><td>0.510909</td><td>-0.0374967</td><td>1.05</td><td>0</td><td>-10.9544</td><td>-5.31299e-7</td><td>0.0</td><td>0</td><td>-2.62772e-6</td><td>-7.96387e-7</td><td>-83.5312</td><td>-2.72999e-6</td><td>0</td><td>-12.6751</td><td>-3.69755e-7</td><td>-1.72074</td><td>-1.72074</td></tr><tr><th>13</th><td>0.0</td><td>13</td><td>0</td><td>0</td><td>0.982619</td><td>0</td><td>-100.0</td><td>0.0</td><td>0.0</td><td>0</td><td>0</td><td>0</td><td>-0.0</td><td>-0.0</td><td>0</td><td>-100.0</td><td>0.0</td><td>0.0</td><td>0.0</td></tr><tr><th>14</th><td>0.0</td><td>14</td><td>0</td><td>0</td><td>0.977795</td><td>0</td><td>-100.0</td><td>0.0</td><td>0.0</td><td>0</td><td>0</td><td>0</td><td>-0.0</td><td>-0.0</td><td>0</td><td>-100.0</td><td>0.0</td><td>0.0</td><td>0.0</td></tr><tr><th>15</th><td>0.0</td><td>15</td><td>0</td><td>0</td><td>0.975027</td><td>0</td><td>-100.0</td><td>0.0</td><td>0.0</td><td>0</td><td>0</td><td>0</td><td>-0.0</td><td>-0.0</td><td>0</td><td>-100.0</td><td>0.0</td><td>0.0</td><td>0.0</td></tr></tbody></table>"
      ],
      "text/latex": [
       "\\begin{tabular}{r|ccccccccccccccccccc}\n",
       "\t& objective & bus & gp & gq & voltage & alpha & lambda & pi & gamma & eta & delta\\_plus & delta\\_minus & mu\\_plus & mu\\_minus & voltvar & lambda\\_anc & rx\\_pi\\_i & rx\\_pi\\_a & r\\_sum\\_mu\\_d\\\\\n",
       "\t\\hline\n",
       "\t& Float64 & Any & Any & Any & Any & Any & Any & Any & Float64 & Any & Any & Any & Any & Any & Any & Any & Any & Any & Any\\\\\n",
       "\t\\hline\n",
       "\t1 & 89.9317 & 1 & 0.787837 & 0.543266 & 1.0 & 0 & -100.0 & 0.0 & 0.0 & 0 & 0 & 0 & 0 & 0 & 0 & 0 & 0 & 0 & 0 \\\\\n",
       "\t2 & 0.0 & 2 & 0 & 0 & 0.95 & 0 & -101.074 & -128.828 & 0.0 & 0 & 0 & 0 & -2.34877e-6 & -704.189 & 0 & -100.0 & -1.07356 & 0.0 & 1.07356 \\\\\n",
       "\t3 & 0.0 & 3 & 0 & 0 & 0.980882 & 0 & -71.5095 & -86.5743 & 0.0 & 0 & 0 & 0 & -3.29177e-6 & -1.09804e-5 & 0 & -101.074 & -60.5746 & -90.1386 & -29.564 \\\\\n",
       "\t4 & 0.0 & 4 & 0 & 0 & 1.02742 & 0 & -25.1714 & -20.3482 & 0.0 & 0 & 0 & 0 & -9.08044e-6 & -3.7435e-6 & 0 & -71.5095 & -14.2376 & -60.5757 & -46.3382 \\\\\n",
       "\t5 & 0.0 & 5 & 0 & 0 & 1.0318 & 0 & -21.9673 & -15.7686 & 0.0 & 0 & 0 & 0 & -1.11327e-5 & -3.49286e-6 & 0 & -25.1714 & -11.0322 & -14.2363 & -3.20404 \\\\\n",
       "\t6 & 0.0 & 6 & 0 & 0 & 1.03618 & 0 & -19.0317 & -11.558 & 0.0 & 0 & 0 & 0 & -1.45833e-5 & -3.27079e-6 & 0 & -21.9673 & -8.05839 & -10.994 & -2.93564 \\\\\n",
       "\t7 & 0.0 & 7 & 0.507154 & -0.124769 & 1.05 & 0 & -10.9461 & -5.80027e-7 & 0.0 & 0 & -1.88969e-6 & -9.27997e-7 & -83.8755 & -2.71542e-6 & 0 & -19.0317 & -4.05766e-7 & -8.0856 & -8.0856 \\\\\n",
       "\t8 & 0.0 & 8 & 0 & 0 & 1.02254 & 0 & -18.3719 & -10.6252 & 0.0 & 0 & 0 & 0 & -0.0 & -4.13976e-6 & 0 & -18.3719 & -7.43904 & -7.43904 & 4.33019e-7 \\\\\n",
       "\t9 & 0.0 & 9 & 0 & 0 & 1.0327 & 0 & -18.3719 & -10.6252 & 0.0 & 0 & 0 & 0 & -1.08137e-5 & -0.0 & 0 & -25.1714 & -7.43031 & -14.2298 & -6.79944 \\\\\n",
       "\t10 & 0.0 & 10 & 0 & 0 & 1.03623 & 0 & -16.7013 & -8.23617 & 0.0 & 0 & 0 & 0 & -1.24389e-5 & -0.0 & 0 & -18.3719 & -5.75956 & -7.43018 & -1.67062 \\\\\n",
       "\t11 & 0.0 & 11 & 0 & 0 & 1.04568 & 0 & -12.6751 & -2.47252 & 0.0 & 0 & 0 & 0 & -1.57585e-5 & -2.88536e-6 & 0 & -16.7013 & -1.72718 & -5.75338 & -4.0262 \\\\\n",
       "\t12 & 0.0 & 12 & 0.510909 & -0.0374967 & 1.05 & 0 & -10.9544 & -5.31299e-7 & 0.0 & 0 & -2.62772e-6 & -7.96387e-7 & -83.5312 & -2.72999e-6 & 0 & -12.6751 & -3.69755e-7 & -1.72074 & -1.72074 \\\\\n",
       "\t13 & 0.0 & 13 & 0 & 0 & 0.982619 & 0 & -100.0 & 0.0 & 0.0 & 0 & 0 & 0 & -0.0 & -0.0 & 0 & -100.0 & 0.0 & 0.0 & 0.0 \\\\\n",
       "\t14 & 0.0 & 14 & 0 & 0 & 0.977795 & 0 & -100.0 & 0.0 & 0.0 & 0 & 0 & 0 & -0.0 & -0.0 & 0 & -100.0 & 0.0 & 0.0 & 0.0 \\\\\n",
       "\t15 & 0.0 & 15 & 0 & 0 & 0.975027 & 0 & -100.0 & 0.0 & 0.0 & 0 & 0 & 0 & -0.0 & -0.0 & 0 & -100.0 & 0.0 & 0.0 & 0.0 \\\\\n",
       "\\end{tabular}\n"
      ],
      "text/plain": [
       "15×19 DataFrame. Omitted printing of 12 columns\n",
       "│ Row │ objective │ bus │ gp       │ gq         │ voltage  │ alpha │ lambda   │\n",
       "│     │ \u001b[90mFloat64\u001b[39m   │ \u001b[90mAny\u001b[39m │ \u001b[90mAny\u001b[39m      │ \u001b[90mAny\u001b[39m        │ \u001b[90mAny\u001b[39m      │ \u001b[90mAny\u001b[39m   │ \u001b[90mAny\u001b[39m      │\n",
       "├─────┼───────────┼─────┼──────────┼────────────┼──────────┼───────┼──────────┤\n",
       "│ 1   │ 89.9317   │ 1   │ 0.787837 │ 0.543266   │ 1.0      │ 0     │ -100.0   │\n",
       "│ 2   │ 0.0       │ 2   │ 0        │ 0          │ 0.95     │ 0     │ -101.074 │\n",
       "│ 3   │ 0.0       │ 3   │ 0        │ 0          │ 0.980882 │ 0     │ -71.5095 │\n",
       "│ 4   │ 0.0       │ 4   │ 0        │ 0          │ 1.02742  │ 0     │ -25.1714 │\n",
       "│ 5   │ 0.0       │ 5   │ 0        │ 0          │ 1.0318   │ 0     │ -21.9673 │\n",
       "│ 6   │ 0.0       │ 6   │ 0        │ 0          │ 1.03618  │ 0     │ -19.0317 │\n",
       "│ 7   │ 0.0       │ 7   │ 0.507154 │ -0.124769  │ 1.05     │ 0     │ -10.9461 │\n",
       "│ 8   │ 0.0       │ 8   │ 0        │ 0          │ 1.02254  │ 0     │ -18.3719 │\n",
       "│ 9   │ 0.0       │ 9   │ 0        │ 0          │ 1.0327   │ 0     │ -18.3719 │\n",
       "│ 10  │ 0.0       │ 10  │ 0        │ 0          │ 1.03623  │ 0     │ -16.7013 │\n",
       "│ 11  │ 0.0       │ 11  │ 0        │ 0          │ 1.04568  │ 0     │ -12.6751 │\n",
       "│ 12  │ 0.0       │ 12  │ 0.510909 │ -0.0374967 │ 1.05     │ 0     │ -10.9544 │\n",
       "│ 13  │ 0.0       │ 13  │ 0        │ 0          │ 0.982619 │ 0     │ -100.0   │\n",
       "│ 14  │ 0.0       │ 14  │ 0        │ 0          │ 0.977795 │ 0     │ -100.0   │\n",
       "│ 15  │ 0.0       │ 15  │ 0        │ 0          │ 0.975027 │ 0     │ -100.0   │"
      ]
     },
     "metadata": {},
     "output_type": "display_data"
    }
   ],
   "source": [
    "experiment1 = Dict()\n",
    "\n",
    "# Load feeder data \n",
    "feeder = load_feeder(\"data/feeder_data/basecase_lv_noneg/\")\n",
    "\n",
    "# Set up\n",
    "relative_std = 0.2\n",
    "loads = [b.d_P for b in feeder.buses]\n",
    "std_vec = loads .* relative_std\n",
    "var_vec = std_vec.^2\n",
    "Σ = diagm(0 => var_vec)\n",
    "\n",
    "# ex1_general_settings\n",
    "ex1_general_settings = Dict(\n",
    "    \"var_vec\" => var_vec,\n",
    "    \"Σ\" => Σ,\n",
    "    \"z_g\" => 1.945,\n",
    "    \"z_v\" => 2.576,\n",
    "    \"toggle_volt_cc\" => false,\n",
    "    \"toggle_gen_cc\" => false,\n",
    "    \"vfac\" => 0, # decrease upper bound by factor (1-vfac) and increase lower bound by (1+vfac)\n",
    "    \"qcfac\" => 1,\n",
    "    \"output_level\" => 0,\n",
    "    \"Ψ\" => 0,\n",
    ")\n",
    "\n",
    "\n",
    "# ex1_no_uncert:\n",
    "ex1_no_uncert_settings = copy(ex1_general_settings)\n",
    "ex1_no_uncert_settings[\"toggle_volt_cc\"] = false\n",
    "ex1_no_uncert_settings[\"toggle_gen_cc\"] = false\n",
    "\n",
    "experiment1[\"no_uncert\"] = Dict(\n",
    "    \"verbose\" => \"ex1_no_uncert\",\n",
    "    \"feeder\" => feeder,\n",
    "    \"settings\" => ex1_no_uncert_settings,\n",
    ")\n",
    "\n",
    "# ex1_uncert:\n",
    "ex1_uncert_settings = copy(ex1_general_settings)\n",
    "ex1_uncert_settings[\"toggle_volt_cc\"] = true\n",
    "ex1_uncert_settings[\"toggle_gen_cc\"] = true\n",
    "experiment1[\"uncert\"] = Dict(\n",
    "    \"verbose\" => \"ex1_uncert\",\n",
    "    \"feeder\" => feeder,\n",
    "    \"settings\" => ex1_uncert_settings,\n",
    ")\n",
    "\n",
    "# ex1_gen_uncert:\n",
    "ex1_uncert_settings = copy(ex1_general_settings)\n",
    "ex1_uncert_settings[\"toggle_volt_cc\"] = false\n",
    "ex1_uncert_settings[\"toggle_gen_cc\"] = true\n",
    "experiment1[\"gen_uncert\"] = Dict(\n",
    "    \"verbose\" => \"ex1_gen_uncert\",\n",
    "    \"feeder\" => feeder,\n",
    "    \"settings\" => ex1_uncert_settings,\n",
    ")\n",
    "\n",
    "# Run \n",
    "experiment1 = run_experiment(experiment1)\n",
    "\n",
    "# Show results\n",
    "sleep(.2) # just to ensure correct printing order\n",
    "for case in keys(experiment1)\n",
    "    display(experiment1[case][\"results\"])\n",
    "end"
   ]
  },
  {
   "cell_type": "code",
   "execution_count": 3,
   "metadata": {},
   "outputs": [
    {
     "name": "stdout",
     "output_type": "stream",
     "text": [
      "Saving ex1_uncert\n",
      "Saving ex1_gen_uncert\n",
      "Saving ex1_no_uncert\n",
      ">>>> Saved with timestamp 190320_0927\n"
     ]
    }
   ],
   "source": [
    "save_experiment(\"experiment1\", experiment1)"
   ]
  },
  {
   "cell_type": "markdown",
   "metadata": {},
   "source": [
    "## Experiment 2\n",
    "\n",
    "Same as Experiment1 but with wider voltage constraints\n",
    "\n",
    "### Description\n",
    "\n",
    "Ex2:\n",
    "- tag: `experiment2` \n",
    "- bascase voltage (0.9-1.1) and `vfac = 0.02`: Resulting \"real\" voltage limits: ca. 0.91 - 1.09 (i.e. +- 9%)\n",
    "- all nodes have 20% standard deviation of their forecasted load\n",
    "- all parameters as in AP's paper, including the negative load (i.e. uncontrollable generator with the same standard deviation\n",
    "- substation balancing participation penalty is set to 1000 (i.e. quadratic cost term)\n",
    "\n",
    "Runs:\n",
    "- `ex2_no_uncert`: deterministic case\n",
    "- `ex2_uncert`: case with uncertainty\n",
    "- `ex2_gen_uncert`: chance constraints only in generation\n",
    "\n",
    "\n",
    "### Notes and Observations\n",
    "\n",
    "- Without uncertainty the network is \"uncongested\" so that price for active power is the same at all nodes\n",
    "- With uncertainty, some voltage constraints become binding and there are differences in the prices"
   ]
  },
  {
   "cell_type": "code",
   "execution_count": 21,
   "metadata": {},
   "outputs": [
    {
     "name": "stdout",
     "output_type": "stream",
     "text": [
      ">>>>> Reading feeder data from data/feeder_data/basecase_noneg/\n",
      "Running ex2_uncert\n",
      ">>>> Building Model\n",
      ">>>> Running Model\n",
      "MOSEK warning 705: #3 (nearly) zero elements are specified in sparse row ''(87) of matrix 'A'.\n",
      "MOSEK warning 705: #4 (nearly) zero elements are specified in sparse row ''(93) of matrix 'A'.\n",
      ">>>> Model finished with status OPTIMAL in 0.008786553 seconds\n",
      ">>>> Post-Processing\n",
      "\n",
      "Running ex2_gen_uncert\n",
      ">>>> Building Model\n",
      ">>>> Running Model\n",
      ">>>> Model finished with status OPTIMAL in 0.003514764 seconds\n",
      ">>>> Post-Processing\n",
      "\n",
      "Running ex2_no_uncert\n",
      ">>>> Building Model\n",
      ">>>> Running Model\n",
      ">>>> Model finished with status OPTIMAL in 0.003145126 seconds\n",
      ">>>> Post-Processing\n",
      "\n",
      ">>> Case uncert"
     ]
    },
    {
     "data": {
      "text/html": [
       "<table class=\"data-frame\"><thead><tr><th></th><th>objective</th><th>bus</th><th>gp</th><th>gq</th><th>voltage</th><th>alpha</th><th>lambda</th><th>pi</th><th>gamma</th><th>eta</th><th>delta_plus</th><th>delta_minus</th><th>mu_plus</th><th>mu_minus</th><th>voltvar</th><th>lambda_anc</th><th>rx_pi_i</th><th>rx_pi_a</th><th>r_sum_mu_d</th></tr><tr><th></th><th>Float64</th><th>Any</th><th>Any</th><th>Any</th><th>Any</th><th>Any</th><th>Any</th><th>Any</th><th>Float64</th><th>Any</th><th>Any</th><th>Any</th><th>Any</th><th>Any</th><th>Any</th><th>Any</th><th>Any</th><th>Any</th><th>Any</th></tr></thead><tbody><p>15 rows × 19 columns</p><tr><th>1</th><td>49.8096</td><td>1</td><td>0.112216</td><td>0.864584</td><td>1.0</td><td>0.743252</td><td>-99.9999</td><td>-4.11489e-10</td><td>-31.7738</td><td>0</td><td>0</td><td>0</td><td>0</td><td>0</td><td>0</td><td>0</td><td>0</td><td>0</td><td>0</td></tr><tr><th>2</th><td>0.0</td><td>2</td><td>0</td><td>0</td><td>0.90925</td><td>0</td><td>-100.742</td><td>-89.0168</td><td>0.0</td><td>-0.15797</td><td>0</td><td>0</td><td>-2.286e-5</td><td>-493.405</td><td>0.000103836</td><td>-99.9999</td><td>-0.741807</td><td>-3.42907e-12</td><td>0.741807</td></tr><tr><th>3</th><td>0.0</td><td>3</td><td>0</td><td>0</td><td>0.96155</td><td>0</td><td>-79.108</td><td>-58.0975</td><td>0.0</td><td>-0.290981</td><td>0</td><td>0</td><td>-4.11598e-5</td><td>-0.00022701</td><td>0.0124506</td><td>-100.742</td><td>-40.6498</td><td>-62.2836</td><td>-21.6337</td></tr><tr><th>4</th><td>0.0</td><td>4</td><td>0</td><td>0</td><td>1.03824</td><td>0</td><td>-45.1996</td><td>-9.63589</td><td>0.0</td><td>-0.49946</td><td>0</td><td>0</td><td>-0.000243661</td><td>-4.58485e-5</td><td>0.0150243</td><td>-79.108</td><td>-6.7422</td><td>-40.6506</td><td>-33.9084</td></tr><tr><th>5</th><td>0.0</td><td>5</td><td>0</td><td>0</td><td>1.04401</td><td>0</td><td>-43.6823</td><td>-7.46719</td><td>0.0</td><td>-0.506389</td><td>0</td><td>0</td><td>-0.000299971</td><td>-4.1589e-5</td><td>0.0138159</td><td>-45.1996</td><td>-5.2243</td><td>-6.74159</td><td>-1.5173</td></tr><tr><th>6</th><td>0.0</td><td>6</td><td>0</td><td>0</td><td>1.04963</td><td>0</td><td>-42.2921</td><td>-5.47327</td><td>0.0</td><td>-0.512737</td><td>0</td><td>0</td><td>-0.000387774</td><td>-3.81067e-5</td><td>0.0126071</td><td>-43.6823</td><td>-3.81602</td><td>-5.20621</td><td>-1.39018</td></tr><tr><th>7</th><td>0.0</td><td>7</td><td>0.751658</td><td>-0.241089</td><td>1.06682</td><td>0.0413561</td><td>-38.4632</td><td>-3.43147e-5</td><td>0.0</td><td>-0.530222</td><td>-26.6568</td><td>-1.21759e-5</td><td>-39.7192</td><td>-3.05569e-5</td><td>0.00925934</td><td>-42.2921</td><td>-2.40053e-5</td><td>-3.8289</td><td>-3.82893</td></tr><tr><th>8</th><td>0.0</td><td>8</td><td>0</td><td>0</td><td>1.05847</td><td>0</td><td>-29.8024</td><td>-12.3671</td><td>0.0</td><td>-0.605806</td><td>0</td><td>0</td><td>-82.7795</td><td>-3.58953e-5</td><td>0.0127016</td><td>-38.4612</td><td>-8.65865</td><td>-7.88567e-5</td><td>-8.65873</td></tr><tr><th>9</th><td>0.0</td><td>9</td><td>0</td><td>0</td><td>1.04883</td><td>0</td><td>-38.4612</td><td>-0.000112631</td><td>0.0</td><td>-0.546003</td><td>0</td><td>0</td><td>-0.000447166</td><td>-3.97714e-5</td><td>0.013294</td><td>-45.1996</td><td>-7.87642e-5</td><td>-6.7385</td><td>-6.73842</td></tr><tr><th>10</th><td>0.0</td><td>10</td><td>0</td><td>0</td><td>1.04987</td><td>0</td><td>-38.4611</td><td>-6.41098e-5</td><td>0.0</td><td>-0.546004</td><td>0</td><td>0</td><td>-0.000478649</td><td>-3.92031e-5</td><td>0.0131098</td><td>-38.4612</td><td>-4.4832e-5</td><td>-7.87629e-5</td><td>-3.4367e-5</td></tr><tr><th>11</th><td>0.0</td><td>11</td><td>0</td><td>0</td><td>1.05336</td><td>0</td><td>-38.4611</td><td>-2.31342e-5</td><td>0.0</td><td>-0.546005</td><td>0</td><td>0</td><td>-0.00062365</td><td>-3.73617e-5</td><td>0.0124902</td><td>-38.4611</td><td>-1.61604e-5</td><td>-4.47839e-5</td><td>-6.16432e-5</td></tr><tr><th>12</th><td>0.0</td><td>12</td><td>0.548226</td><td>-0.242495</td><td>1.05514</td><td>0.215392</td><td>-38.4611</td><td>-4.34214e-5</td><td>0.0</td><td>-0.546005</td><td>-27.1432</td><td>-2.55587e-5</td><td>-0.000729038</td><td>-3.6423e-5</td><td>0.0121502</td><td>-38.4611</td><td>-3.02189e-5</td><td>-1.61001e-5</td><td>-1.42679e-5</td></tr><tr><th>13</th><td>0.0</td><td>13</td><td>0</td><td>0</td><td>0.982619</td><td>0</td><td>-99.9999</td><td>-0.000134554</td><td>0.0</td><td>-8.09195e-10</td><td>0</td><td>0</td><td>0.0</td><td>-0.000175519</td><td>0.0178603</td><td>-99.9999</td><td>-1.12128e-6</td><td>-3.42907e-12</td><td>1.12129e-6</td></tr><tr><th>14</th><td>0.0</td><td>14</td><td>0</td><td>0</td><td>0.977795</td><td>0</td><td>-100.0</td><td>-0.000220745</td><td>0.0</td><td>-1.01202e-7</td><td>0</td><td>0</td><td>0.0</td><td>-0.000188378</td><td>0.0166549</td><td>-99.9999</td><td>-0.000307544</td><td>-0.000187462</td><td>0.000120082</td></tr><tr><th>15</th><td>0.0</td><td>15</td><td>0</td><td>0</td><td>0.975027</td><td>0</td><td>-100.0</td><td>-0.00024766</td><td>0.0</td><td>-1.3612e-7</td><td>0</td><td>0</td><td>0.0</td><td>-0.000196747</td><td>0.0159721</td><td>-100.0</td><td>-0.000345059</td><td>-0.000307559</td><td>3.74999e-5</td></tr></tbody></table>"
      ],
      "text/latex": [
       "\\begin{tabular}{r|ccccccccccccccccccc}\n",
       "\t& objective & bus & gp & gq & voltage & alpha & lambda & pi & gamma & eta & delta\\_plus & delta\\_minus & mu\\_plus & mu\\_minus & voltvar & lambda\\_anc & rx\\_pi\\_i & rx\\_pi\\_a & r\\_sum\\_mu\\_d\\\\\n",
       "\t\\hline\n",
       "\t& Float64 & Any & Any & Any & Any & Any & Any & Any & Float64 & Any & Any & Any & Any & Any & Any & Any & Any & Any & Any\\\\\n",
       "\t\\hline\n",
       "\t1 & 49.8096 & 1 & 0.112216 & 0.864584 & 1.0 & 0.743252 & -99.9999 & -4.11489e-10 & -31.7738 & 0 & 0 & 0 & 0 & 0 & 0 & 0 & 0 & 0 & 0 \\\\\n",
       "\t2 & 0.0 & 2 & 0 & 0 & 0.90925 & 0 & -100.742 & -89.0168 & 0.0 & -0.15797 & 0 & 0 & -2.286e-5 & -493.405 & 0.000103836 & -99.9999 & -0.741807 & -3.42907e-12 & 0.741807 \\\\\n",
       "\t3 & 0.0 & 3 & 0 & 0 & 0.96155 & 0 & -79.108 & -58.0975 & 0.0 & -0.290981 & 0 & 0 & -4.11598e-5 & -0.00022701 & 0.0124506 & -100.742 & -40.6498 & -62.2836 & -21.6337 \\\\\n",
       "\t4 & 0.0 & 4 & 0 & 0 & 1.03824 & 0 & -45.1996 & -9.63589 & 0.0 & -0.49946 & 0 & 0 & -0.000243661 & -4.58485e-5 & 0.0150243 & -79.108 & -6.7422 & -40.6506 & -33.9084 \\\\\n",
       "\t5 & 0.0 & 5 & 0 & 0 & 1.04401 & 0 & -43.6823 & -7.46719 & 0.0 & -0.506389 & 0 & 0 & -0.000299971 & -4.1589e-5 & 0.0138159 & -45.1996 & -5.2243 & -6.74159 & -1.5173 \\\\\n",
       "\t6 & 0.0 & 6 & 0 & 0 & 1.04963 & 0 & -42.2921 & -5.47327 & 0.0 & -0.512737 & 0 & 0 & -0.000387774 & -3.81067e-5 & 0.0126071 & -43.6823 & -3.81602 & -5.20621 & -1.39018 \\\\\n",
       "\t7 & 0.0 & 7 & 0.751658 & -0.241089 & 1.06682 & 0.0413561 & -38.4632 & -3.43147e-5 & 0.0 & -0.530222 & -26.6568 & -1.21759e-5 & -39.7192 & -3.05569e-5 & 0.00925934 & -42.2921 & -2.40053e-5 & -3.8289 & -3.82893 \\\\\n",
       "\t8 & 0.0 & 8 & 0 & 0 & 1.05847 & 0 & -29.8024 & -12.3671 & 0.0 & -0.605806 & 0 & 0 & -82.7795 & -3.58953e-5 & 0.0127016 & -38.4612 & -8.65865 & -7.88567e-5 & -8.65873 \\\\\n",
       "\t9 & 0.0 & 9 & 0 & 0 & 1.04883 & 0 & -38.4612 & -0.000112631 & 0.0 & -0.546003 & 0 & 0 & -0.000447166 & -3.97714e-5 & 0.013294 & -45.1996 & -7.87642e-5 & -6.7385 & -6.73842 \\\\\n",
       "\t10 & 0.0 & 10 & 0 & 0 & 1.04987 & 0 & -38.4611 & -6.41098e-5 & 0.0 & -0.546004 & 0 & 0 & -0.000478649 & -3.92031e-5 & 0.0131098 & -38.4612 & -4.4832e-5 & -7.87629e-5 & -3.4367e-5 \\\\\n",
       "\t11 & 0.0 & 11 & 0 & 0 & 1.05336 & 0 & -38.4611 & -2.31342e-5 & 0.0 & -0.546005 & 0 & 0 & -0.00062365 & -3.73617e-5 & 0.0124902 & -38.4611 & -1.61604e-5 & -4.47839e-5 & -6.16432e-5 \\\\\n",
       "\t12 & 0.0 & 12 & 0.548226 & -0.242495 & 1.05514 & 0.215392 & -38.4611 & -4.34214e-5 & 0.0 & -0.546005 & -27.1432 & -2.55587e-5 & -0.000729038 & -3.6423e-5 & 0.0121502 & -38.4611 & -3.02189e-5 & -1.61001e-5 & -1.42679e-5 \\\\\n",
       "\t13 & 0.0 & 13 & 0 & 0 & 0.982619 & 0 & -99.9999 & -0.000134554 & 0.0 & -8.09195e-10 & 0 & 0 & 0.0 & -0.000175519 & 0.0178603 & -99.9999 & -1.12128e-6 & -3.42907e-12 & 1.12129e-6 \\\\\n",
       "\t14 & 0.0 & 14 & 0 & 0 & 0.977795 & 0 & -100.0 & -0.000220745 & 0.0 & -1.01202e-7 & 0 & 0 & 0.0 & -0.000188378 & 0.0166549 & -99.9999 & -0.000307544 & -0.000187462 & 0.000120082 \\\\\n",
       "\t15 & 0.0 & 15 & 0 & 0 & 0.975027 & 0 & -100.0 & -0.00024766 & 0.0 & -1.3612e-7 & 0 & 0 & 0.0 & -0.000196747 & 0.0159721 & -100.0 & -0.000345059 & -0.000307559 & 3.74999e-5 \\\\\n",
       "\\end{tabular}\n"
      ],
      "text/plain": [
       "15×19 DataFrame. Omitted printing of 13 columns\n",
       "│ Row │ objective │ bus │ gp       │ gq        │ voltage  │ alpha     │\n",
       "│     │ \u001b[90mFloat64\u001b[39m   │ \u001b[90mAny\u001b[39m │ \u001b[90mAny\u001b[39m      │ \u001b[90mAny\u001b[39m       │ \u001b[90mAny\u001b[39m      │ \u001b[90mAny\u001b[39m       │\n",
       "├─────┼───────────┼─────┼──────────┼───────────┼──────────┼───────────┤\n",
       "│ 1   │ 49.8096   │ 1   │ 0.112216 │ 0.864584  │ 1.0      │ 0.743252  │\n",
       "│ 2   │ 0.0       │ 2   │ 0        │ 0         │ 0.90925  │ 0         │\n",
       "│ 3   │ 0.0       │ 3   │ 0        │ 0         │ 0.96155  │ 0         │\n",
       "│ 4   │ 0.0       │ 4   │ 0        │ 0         │ 1.03824  │ 0         │\n",
       "│ 5   │ 0.0       │ 5   │ 0        │ 0         │ 1.04401  │ 0         │\n",
       "│ 6   │ 0.0       │ 6   │ 0        │ 0         │ 1.04963  │ 0         │\n",
       "│ 7   │ 0.0       │ 7   │ 0.751658 │ -0.241089 │ 1.06682  │ 0.0413561 │\n",
       "│ 8   │ 0.0       │ 8   │ 0        │ 0         │ 1.05847  │ 0         │\n",
       "│ 9   │ 0.0       │ 9   │ 0        │ 0         │ 1.04883  │ 0         │\n",
       "│ 10  │ 0.0       │ 10  │ 0        │ 0         │ 1.04987  │ 0         │\n",
       "│ 11  │ 0.0       │ 11  │ 0        │ 0         │ 1.05336  │ 0         │\n",
       "│ 12  │ 0.0       │ 12  │ 0.548226 │ -0.242495 │ 1.05514  │ 0.215392  │\n",
       "│ 13  │ 0.0       │ 13  │ 0        │ 0         │ 0.982619 │ 0         │\n",
       "│ 14  │ 0.0       │ 14  │ 0        │ 0         │ 0.977795 │ 0         │\n",
       "│ 15  │ 0.0       │ 15  │ 0        │ 0         │ 0.975027 │ 0         │"
      ]
     },
     "metadata": {},
     "output_type": "display_data"
    },
    {
     "name": "stdout",
     "output_type": "stream",
     "text": [
      ">>> Case gen_uncert"
     ]
    },
    {
     "data": {
      "text/html": [
       "<table class=\"data-frame\"><thead><tr><th></th><th>objective</th><th>bus</th><th>gp</th><th>gq</th><th>voltage</th><th>alpha</th><th>lambda</th><th>pi</th><th>gamma</th><th>eta</th><th>delta_plus</th><th>delta_minus</th><th>mu_plus</th><th>mu_minus</th><th>voltvar</th><th>lambda_anc</th><th>rx_pi_i</th><th>rx_pi_a</th><th>r_sum_mu_d</th></tr><tr><th></th><th>Float64</th><th>Any</th><th>Any</th><th>Any</th><th>Any</th><th>Any</th><th>Any</th><th>Any</th><th>Float64</th><th>Any</th><th>Any</th><th>Any</th><th>Any</th><th>Any</th><th>Any</th><th>Any</th><th>Any</th><th>Any</th><th>Any</th></tr></thead><tbody><p>15 rows × 19 columns</p><tr><th>1</th><td>42.8944</td><td>1</td><td>0</td><td>0.86584</td><td>1.0</td><td>0.839252</td><td>-38.6202</td><td>0.0</td><td>-31.6213</td><td>0</td><td>0</td><td>0</td><td>0</td><td>0</td><td>0</td><td>0</td><td>0</td><td>0</td><td>0</td></tr><tr><th>2</th><td>0.0</td><td>2</td><td>0</td><td>0</td><td>0.909207</td><td>0</td><td>-38.6202</td><td>-1.5814e-5</td><td>0.0</td><td>0</td><td>0</td><td>0</td><td>-3.63776e-9</td><td>-8.6491e-5</td><td>0</td><td>-38.6202</td><td>-1.31783e-7</td><td>0.0</td><td>1.31783e-7</td></tr><tr><th>3</th><td>0.0</td><td>3</td><td>0</td><td>0</td><td>0.971598</td><td>0</td><td>-38.6201</td><td>-1.06156e-5</td><td>0.0</td><td>0</td><td>0</td><td>0</td><td>-5.35071e-9</td><td>-8.90328e-9</td><td>0</td><td>-38.6202</td><td>-7.42756e-6</td><td>-1.10648e-5</td><td>-3.63721e-6</td></tr><tr><th>4</th><td>0.0</td><td>4</td><td>0</td><td>0</td><td>1.06204</td><td>0</td><td>-38.6201</td><td>-2.46652e-6</td><td>0.0</td><td>0</td><td>0</td><td>0</td><td>-1.64685e-8</td><td>-4.66121e-9</td><td>0</td><td>-38.6201</td><td>-1.72582e-6</td><td>-7.42771e-6</td><td>-5.70189e-6</td></tr><tr><th>5</th><td>0.0</td><td>5</td><td>0</td><td>0</td><td>1.06732</td><td>0</td><td>-38.6201</td><td>-1.90953e-6</td><td>0.0</td><td>0</td><td>0</td><td>0</td><td>-1.82791e-8</td><td>-4.50577e-9</td><td>0</td><td>-38.6201</td><td>-1.33597e-6</td><td>-1.72566e-6</td><td>-3.89692e-7</td></tr><tr><th>6</th><td>0.0</td><td>6</td><td>0</td><td>0</td><td>1.07249</td><td>0</td><td>-38.6201</td><td>-1.39811e-6</td><td>0.0</td><td>0</td><td>0</td><td>0</td><td>-2.12491e-8</td><td>-4.35955e-9</td><td>0</td><td>-38.6201</td><td>-9.74779e-7</td><td>-1.33134e-6</td><td>-3.56566e-7</td></tr><tr><th>7</th><td>0.0</td><td>7</td><td>0.706049</td><td>-0.22334</td><td>1.08842</td><td>0.0803751</td><td>-38.6201</td><td>-3.41191e-9</td><td>0.0</td><td>0</td><td>-27.039</td><td>-1.74234e-9</td><td>-1.01747e-5</td><td>-3.94815e-9</td><td>0</td><td>-38.6201</td><td>-2.38685e-9</td><td>-9.78069e-7</td><td>-9.80456e-7</td></tr><tr><th>8</th><td>0.0</td><td>8</td><td>0</td><td>0</td><td>1.08673</td><td>0</td><td>-38.6201</td><td>-1.20077e-6</td><td>0.0</td><td>0</td><td>0</td><td>0</td><td>-3.80208e-7</td><td>-0.0</td><td>0</td><td>-38.6201</td><td>-8.40702e-7</td><td>-8.80472e-7</td><td>-3.97698e-8</td></tr><tr><th>9</th><td>0.0</td><td>9</td><td>0</td><td>0</td><td>1.07734</td><td>0</td><td>-38.6201</td><td>-1.25758e-6</td><td>0.0</td><td>0</td><td>0</td><td>0</td><td>-0.0</td><td>-4.17802e-9</td><td>0</td><td>-38.6201</td><td>-8.79439e-7</td><td>-1.72487e-6</td><td>-8.45432e-7</td></tr><tr><th>10</th><td>0.0</td><td>10</td><td>0</td><td>0</td><td>1.07957</td><td>0</td><td>-38.6201</td><td>-9.71287e-7</td><td>0.0</td><td>0</td><td>0</td><td>0</td><td>-5.43436e-8</td><td>-4.10964e-9</td><td>0</td><td>-38.6201</td><td>-6.79222e-7</td><td>-8.79424e-7</td><td>-2.00202e-7</td></tr><tr><th>11</th><td>0.0</td><td>11</td><td>0</td><td>0</td><td>1.08586</td><td>0</td><td>-38.6201</td><td>-2.84056e-7</td><td>0.0</td><td>0</td><td>0</td><td>0</td><td>-2.79781e-7</td><td>-3.92557e-9</td><td>0</td><td>-38.6201</td><td>-1.98428e-7</td><td>-6.78493e-7</td><td>-4.80066e-7</td></tr><tr><th>12</th><td>0.0</td><td>12</td><td>0.706051</td><td>-0.2615</td><td>1.08882</td><td>0.0803728</td><td>-38.6201</td><td>-2.59101e-9</td><td>0.0</td><td>0</td><td>-27.039</td><td>-1.53648e-9</td><td>-9.68786e-6</td><td>-3.84306e-9</td><td>0</td><td>-38.6201</td><td>-1.8032e-9</td><td>-1.97688e-7</td><td>-1.99491e-7</td></tr><tr><th>13</th><td>0.0</td><td>13</td><td>0</td><td>0</td><td>0.982619</td><td>0</td><td>-38.6202</td><td>0.0</td><td>0.0</td><td>0</td><td>0</td><td>0</td><td>-0.0</td><td>-0.0</td><td>0</td><td>-38.6202</td><td>0.0</td><td>0.0</td><td>0.0</td></tr><tr><th>14</th><td>0.0</td><td>14</td><td>0</td><td>0</td><td>0.977795</td><td>0</td><td>-38.6202</td><td>0.0</td><td>0.0</td><td>0</td><td>0</td><td>0</td><td>-0.0</td><td>-0.0</td><td>0</td><td>-38.6202</td><td>0.0</td><td>0.0</td><td>0.0</td></tr><tr><th>15</th><td>0.0</td><td>15</td><td>0</td><td>0</td><td>0.975027</td><td>0</td><td>-38.6202</td><td>0.0</td><td>0.0</td><td>0</td><td>0</td><td>0</td><td>-0.0</td><td>-0.0</td><td>0</td><td>-38.6202</td><td>0.0</td><td>0.0</td><td>0.0</td></tr></tbody></table>"
      ],
      "text/latex": [
       "\\begin{tabular}{r|ccccccccccccccccccc}\n",
       "\t& objective & bus & gp & gq & voltage & alpha & lambda & pi & gamma & eta & delta\\_plus & delta\\_minus & mu\\_plus & mu\\_minus & voltvar & lambda\\_anc & rx\\_pi\\_i & rx\\_pi\\_a & r\\_sum\\_mu\\_d\\\\\n",
       "\t\\hline\n",
       "\t& Float64 & Any & Any & Any & Any & Any & Any & Any & Float64 & Any & Any & Any & Any & Any & Any & Any & Any & Any & Any\\\\\n",
       "\t\\hline\n",
       "\t1 & 42.8944 & 1 & 0 & 0.86584 & 1.0 & 0.839252 & -38.6202 & 0.0 & -31.6213 & 0 & 0 & 0 & 0 & 0 & 0 & 0 & 0 & 0 & 0 \\\\\n",
       "\t2 & 0.0 & 2 & 0 & 0 & 0.909207 & 0 & -38.6202 & -1.5814e-5 & 0.0 & 0 & 0 & 0 & -3.63776e-9 & -8.6491e-5 & 0 & -38.6202 & -1.31783e-7 & 0.0 & 1.31783e-7 \\\\\n",
       "\t3 & 0.0 & 3 & 0 & 0 & 0.971598 & 0 & -38.6201 & -1.06156e-5 & 0.0 & 0 & 0 & 0 & -5.35071e-9 & -8.90328e-9 & 0 & -38.6202 & -7.42756e-6 & -1.10648e-5 & -3.63721e-6 \\\\\n",
       "\t4 & 0.0 & 4 & 0 & 0 & 1.06204 & 0 & -38.6201 & -2.46652e-6 & 0.0 & 0 & 0 & 0 & -1.64685e-8 & -4.66121e-9 & 0 & -38.6201 & -1.72582e-6 & -7.42771e-6 & -5.70189e-6 \\\\\n",
       "\t5 & 0.0 & 5 & 0 & 0 & 1.06732 & 0 & -38.6201 & -1.90953e-6 & 0.0 & 0 & 0 & 0 & -1.82791e-8 & -4.50577e-9 & 0 & -38.6201 & -1.33597e-6 & -1.72566e-6 & -3.89692e-7 \\\\\n",
       "\t6 & 0.0 & 6 & 0 & 0 & 1.07249 & 0 & -38.6201 & -1.39811e-6 & 0.0 & 0 & 0 & 0 & -2.12491e-8 & -4.35955e-9 & 0 & -38.6201 & -9.74779e-7 & -1.33134e-6 & -3.56566e-7 \\\\\n",
       "\t7 & 0.0 & 7 & 0.706049 & -0.22334 & 1.08842 & 0.0803751 & -38.6201 & -3.41191e-9 & 0.0 & 0 & -27.039 & -1.74234e-9 & -1.01747e-5 & -3.94815e-9 & 0 & -38.6201 & -2.38685e-9 & -9.78069e-7 & -9.80456e-7 \\\\\n",
       "\t8 & 0.0 & 8 & 0 & 0 & 1.08673 & 0 & -38.6201 & -1.20077e-6 & 0.0 & 0 & 0 & 0 & -3.80208e-7 & -0.0 & 0 & -38.6201 & -8.40702e-7 & -8.80472e-7 & -3.97698e-8 \\\\\n",
       "\t9 & 0.0 & 9 & 0 & 0 & 1.07734 & 0 & -38.6201 & -1.25758e-6 & 0.0 & 0 & 0 & 0 & -0.0 & -4.17802e-9 & 0 & -38.6201 & -8.79439e-7 & -1.72487e-6 & -8.45432e-7 \\\\\n",
       "\t10 & 0.0 & 10 & 0 & 0 & 1.07957 & 0 & -38.6201 & -9.71287e-7 & 0.0 & 0 & 0 & 0 & -5.43436e-8 & -4.10964e-9 & 0 & -38.6201 & -6.79222e-7 & -8.79424e-7 & -2.00202e-7 \\\\\n",
       "\t11 & 0.0 & 11 & 0 & 0 & 1.08586 & 0 & -38.6201 & -2.84056e-7 & 0.0 & 0 & 0 & 0 & -2.79781e-7 & -3.92557e-9 & 0 & -38.6201 & -1.98428e-7 & -6.78493e-7 & -4.80066e-7 \\\\\n",
       "\t12 & 0.0 & 12 & 0.706051 & -0.2615 & 1.08882 & 0.0803728 & -38.6201 & -2.59101e-9 & 0.0 & 0 & -27.039 & -1.53648e-9 & -9.68786e-6 & -3.84306e-9 & 0 & -38.6201 & -1.8032e-9 & -1.97688e-7 & -1.99491e-7 \\\\\n",
       "\t13 & 0.0 & 13 & 0 & 0 & 0.982619 & 0 & -38.6202 & 0.0 & 0.0 & 0 & 0 & 0 & -0.0 & -0.0 & 0 & -38.6202 & 0.0 & 0.0 & 0.0 \\\\\n",
       "\t14 & 0.0 & 14 & 0 & 0 & 0.977795 & 0 & -38.6202 & 0.0 & 0.0 & 0 & 0 & 0 & -0.0 & -0.0 & 0 & -38.6202 & 0.0 & 0.0 & 0.0 \\\\\n",
       "\t15 & 0.0 & 15 & 0 & 0 & 0.975027 & 0 & -38.6202 & 0.0 & 0.0 & 0 & 0 & 0 & -0.0 & -0.0 & 0 & -38.6202 & 0.0 & 0.0 & 0.0 \\\\\n",
       "\\end{tabular}\n"
      ],
      "text/plain": [
       "15×19 DataFrame. Omitted printing of 13 columns\n",
       "│ Row │ objective │ bus │ gp       │ gq       │ voltage  │ alpha     │\n",
       "│     │ \u001b[90mFloat64\u001b[39m   │ \u001b[90mAny\u001b[39m │ \u001b[90mAny\u001b[39m      │ \u001b[90mAny\u001b[39m      │ \u001b[90mAny\u001b[39m      │ \u001b[90mAny\u001b[39m       │\n",
       "├─────┼───────────┼─────┼──────────┼──────────┼──────────┼───────────┤\n",
       "│ 1   │ 42.8944   │ 1   │ 0        │ 0.86584  │ 1.0      │ 0.839252  │\n",
       "│ 2   │ 0.0       │ 2   │ 0        │ 0        │ 0.909207 │ 0         │\n",
       "│ 3   │ 0.0       │ 3   │ 0        │ 0        │ 0.971598 │ 0         │\n",
       "│ 4   │ 0.0       │ 4   │ 0        │ 0        │ 1.06204  │ 0         │\n",
       "│ 5   │ 0.0       │ 5   │ 0        │ 0        │ 1.06732  │ 0         │\n",
       "│ 6   │ 0.0       │ 6   │ 0        │ 0        │ 1.07249  │ 0         │\n",
       "│ 7   │ 0.0       │ 7   │ 0.706049 │ -0.22334 │ 1.08842  │ 0.0803751 │\n",
       "│ 8   │ 0.0       │ 8   │ 0        │ 0        │ 1.08673  │ 0         │\n",
       "│ 9   │ 0.0       │ 9   │ 0        │ 0        │ 1.07734  │ 0         │\n",
       "│ 10  │ 0.0       │ 10  │ 0        │ 0        │ 1.07957  │ 0         │\n",
       "│ 11  │ 0.0       │ 11  │ 0        │ 0        │ 1.08586  │ 0         │\n",
       "│ 12  │ 0.0       │ 12  │ 0.706051 │ -0.2615  │ 1.08882  │ 0.0803728 │\n",
       "│ 13  │ 0.0       │ 13  │ 0        │ 0        │ 0.982619 │ 0         │\n",
       "│ 14  │ 0.0       │ 14  │ 0        │ 0        │ 0.977795 │ 0         │\n",
       "│ 15  │ 0.0       │ 15  │ 0        │ 0        │ 0.975027 │ 0         │"
      ]
     },
     "metadata": {},
     "output_type": "display_data"
    },
    {
     "name": "stdout",
     "output_type": "stream",
     "text": [
      ">>> Case no_uncert"
     ]
    },
    {
     "data": {
      "text/html": [
       "<table class=\"data-frame\"><thead><tr><th></th><th>objective</th><th>bus</th><th>gp</th><th>gq</th><th>voltage</th><th>alpha</th><th>lambda</th><th>pi</th><th>gamma</th><th>eta</th><th>delta_plus</th><th>delta_minus</th><th>mu_plus</th><th>mu_minus</th><th>voltvar</th><th>lambda_anc</th><th>rx_pi_i</th><th>rx_pi_a</th><th>r_sum_mu_d</th></tr><tr><th></th><th>Float64</th><th>Any</th><th>Any</th><th>Any</th><th>Any</th><th>Any</th><th>Any</th><th>Any</th><th>Float64</th><th>Any</th><th>Any</th><th>Any</th><th>Any</th><th>Any</th><th>Any</th><th>Any</th><th>Any</th><th>Any</th><th>Any</th></tr></thead><tbody><p>15 rows × 19 columns</p><tr><th>1</th><td>15.4628</td><td>1</td><td>0</td><td>0.866397</td><td>1.0</td><td>0</td><td>-10.9503</td><td>0.0</td><td>0.0</td><td>0</td><td>0</td><td>0</td><td>0</td><td>0</td><td>0</td><td>0</td><td>0</td><td>0</td><td>0</td></tr><tr><th>2</th><td>0.0</td><td>2</td><td>0</td><td>0</td><td>0.909134</td><td>0</td><td>-10.9503</td><td>-6.56174e-5</td><td>0.0</td><td>0</td><td>0</td><td>0</td><td>-0.0</td><td>-0.000358983</td><td>0</td><td>-10.9503</td><td>-5.46812e-7</td><td>0.0</td><td>5.46812e-7</td></tr><tr><th>3</th><td>0.0</td><td>3</td><td>0</td><td>0</td><td>0.971456</td><td>0</td><td>-10.9503</td><td>-4.40179e-5</td><td>0.0</td><td>0</td><td>0</td><td>0</td><td>-2.73129e-8</td><td>-6.85084e-8</td><td>0</td><td>-10.9503</td><td>-3.07986e-5</td><td>-4.59114e-5</td><td>-1.51128e-5</td></tr><tr><th>4</th><td>0.0</td><td>4</td><td>0</td><td>0</td><td>1.06181</td><td>0</td><td>-10.9502</td><td>-1.01475e-5</td><td>0.0</td><td>0</td><td>0</td><td>0</td><td>-1.32139e-7</td><td>-2.60757e-8</td><td>0</td><td>-10.9503</td><td>-7.10018e-6</td><td>-3.07992e-5</td><td>-2.3699e-5</td></tr><tr><th>5</th><td>0.0</td><td>5</td><td>0</td><td>0</td><td>1.06711</td><td>0</td><td>-10.9502</td><td>-7.84837e-6</td><td>0.0</td><td>0</td><td>0</td><td>0</td><td>-1.48726e-7</td><td>-2.52059e-8</td><td>0</td><td>-10.9502</td><td>-5.49099e-6</td><td>-7.09954e-6</td><td>-1.60855e-6</td></tr><tr><th>6</th><td>0.0</td><td>6</td><td>0</td><td>0</td><td>1.07231</td><td>0</td><td>-10.9502</td><td>-5.74071e-6</td><td>0.0</td><td>0</td><td>0</td><td>0</td><td>-1.66585e-7</td><td>-2.43584e-8</td><td>0</td><td>-10.9502</td><td>-4.00249e-6</td><td>-5.47197e-6</td><td>-1.46948e-6</td></tr><tr><th>7</th><td>0.0</td><td>7</td><td>0.706034</td><td>-0.222345</td><td>1.0883</td><td>0</td><td>-10.9502</td><td>-2.5249e-8</td><td>0.0</td><td>0</td><td>-1.02959e-7</td><td>-4.71879e-9</td><td>-4.18648e-5</td><td>-2.18415e-8</td><td>0</td><td>-10.9502</td><td>-1.76633e-8</td><td>-4.016e-6</td><td>-4.03366e-6</td></tr><tr><th>8</th><td>0.0</td><td>8</td><td>0</td><td>0</td><td>1.08642</td><td>0</td><td>-10.9502</td><td>-4.71347e-6</td><td>0.0</td><td>0</td><td>0</td><td>0</td><td>-2.55645e-6</td><td>-0.0</td><td>0</td><td>-10.9502</td><td>-3.30006e-6</td><td>-3.56746e-6</td><td>-2.67404e-7</td></tr><tr><th>9</th><td>0.0</td><td>9</td><td>0</td><td>0</td><td>1.07703</td><td>0</td><td>-10.9502</td><td>-5.0954e-6</td><td>0.0</td><td>0</td><td>0</td><td>0</td><td>-0.0</td><td>-2.27158e-8</td><td>0</td><td>-10.9502</td><td>-3.56328e-6</td><td>-7.09628e-6</td><td>-3.533e-6</td></tr><tr><th>10</th><td>0.0</td><td>10</td><td>0</td><td>0</td><td>1.07924</td><td>0</td><td>-10.9502</td><td>-3.92654e-6</td><td>0.0</td><td>0</td><td>0</td><td>0</td><td>-4.19048e-7</td><td>-2.23308e-8</td><td>0</td><td>-10.9502</td><td>-2.74583e-6</td><td>-3.56322e-6</td><td>-8.17385e-7</td></tr><tr><th>11</th><td>0.0</td><td>11</td><td>0</td><td>0</td><td>1.08548</td><td>0</td><td>-10.9502</td><td>-1.13393e-6</td><td>0.0</td><td>0</td><td>0</td><td>0</td><td>-1.70025e-6</td><td>-2.12428e-8</td><td>0</td><td>-10.9502</td><td>-7.9211e-7</td><td>-2.74289e-6</td><td>-1.95078e-6</td></tr><tr><th>12</th><td>0.0</td><td>12</td><td>0.706066</td><td>-0.263053</td><td>1.08842</td><td>0</td><td>-10.9502</td><td>-1.43553e-8</td><td>0.0</td><td>0</td><td>-3.36614e-8</td><td>-6.20288e-9</td><td>-3.88143e-5</td><td>-2.07465e-8</td><td>0</td><td>-10.9502</td><td>-9.99049e-9</td><td>-7.89156e-7</td><td>-7.99147e-7</td></tr><tr><th>13</th><td>0.0</td><td>13</td><td>0</td><td>0</td><td>0.982619</td><td>0</td><td>-10.9503</td><td>0.0</td><td>0.0</td><td>0</td><td>0</td><td>0</td><td>-0.0</td><td>-0.0</td><td>0</td><td>-10.9503</td><td>0.0</td><td>0.0</td><td>0.0</td></tr><tr><th>14</th><td>0.0</td><td>14</td><td>0</td><td>0</td><td>0.977795</td><td>0</td><td>-10.9503</td><td>0.0</td><td>0.0</td><td>0</td><td>0</td><td>0</td><td>-0.0</td><td>-0.0</td><td>0</td><td>-10.9503</td><td>0.0</td><td>0.0</td><td>0.0</td></tr><tr><th>15</th><td>0.0</td><td>15</td><td>0</td><td>0</td><td>0.975027</td><td>0</td><td>-10.9503</td><td>0.0</td><td>0.0</td><td>0</td><td>0</td><td>0</td><td>-0.0</td><td>-0.0</td><td>0</td><td>-10.9503</td><td>0.0</td><td>0.0</td><td>0.0</td></tr></tbody></table>"
      ],
      "text/latex": [
       "\\begin{tabular}{r|ccccccccccccccccccc}\n",
       "\t& objective & bus & gp & gq & voltage & alpha & lambda & pi & gamma & eta & delta\\_plus & delta\\_minus & mu\\_plus & mu\\_minus & voltvar & lambda\\_anc & rx\\_pi\\_i & rx\\_pi\\_a & r\\_sum\\_mu\\_d\\\\\n",
       "\t\\hline\n",
       "\t& Float64 & Any & Any & Any & Any & Any & Any & Any & Float64 & Any & Any & Any & Any & Any & Any & Any & Any & Any & Any\\\\\n",
       "\t\\hline\n",
       "\t1 & 15.4628 & 1 & 0 & 0.866397 & 1.0 & 0 & -10.9503 & 0.0 & 0.0 & 0 & 0 & 0 & 0 & 0 & 0 & 0 & 0 & 0 & 0 \\\\\n",
       "\t2 & 0.0 & 2 & 0 & 0 & 0.909134 & 0 & -10.9503 & -6.56174e-5 & 0.0 & 0 & 0 & 0 & -0.0 & -0.000358983 & 0 & -10.9503 & -5.46812e-7 & 0.0 & 5.46812e-7 \\\\\n",
       "\t3 & 0.0 & 3 & 0 & 0 & 0.971456 & 0 & -10.9503 & -4.40179e-5 & 0.0 & 0 & 0 & 0 & -2.73129e-8 & -6.85084e-8 & 0 & -10.9503 & -3.07986e-5 & -4.59114e-5 & -1.51128e-5 \\\\\n",
       "\t4 & 0.0 & 4 & 0 & 0 & 1.06181 & 0 & -10.9502 & -1.01475e-5 & 0.0 & 0 & 0 & 0 & -1.32139e-7 & -2.60757e-8 & 0 & -10.9503 & -7.10018e-6 & -3.07992e-5 & -2.3699e-5 \\\\\n",
       "\t5 & 0.0 & 5 & 0 & 0 & 1.06711 & 0 & -10.9502 & -7.84837e-6 & 0.0 & 0 & 0 & 0 & -1.48726e-7 & -2.52059e-8 & 0 & -10.9502 & -5.49099e-6 & -7.09954e-6 & -1.60855e-6 \\\\\n",
       "\t6 & 0.0 & 6 & 0 & 0 & 1.07231 & 0 & -10.9502 & -5.74071e-6 & 0.0 & 0 & 0 & 0 & -1.66585e-7 & -2.43584e-8 & 0 & -10.9502 & -4.00249e-6 & -5.47197e-6 & -1.46948e-6 \\\\\n",
       "\t7 & 0.0 & 7 & 0.706034 & -0.222345 & 1.0883 & 0 & -10.9502 & -2.5249e-8 & 0.0 & 0 & -1.02959e-7 & -4.71879e-9 & -4.18648e-5 & -2.18415e-8 & 0 & -10.9502 & -1.76633e-8 & -4.016e-6 & -4.03366e-6 \\\\\n",
       "\t8 & 0.0 & 8 & 0 & 0 & 1.08642 & 0 & -10.9502 & -4.71347e-6 & 0.0 & 0 & 0 & 0 & -2.55645e-6 & -0.0 & 0 & -10.9502 & -3.30006e-6 & -3.56746e-6 & -2.67404e-7 \\\\\n",
       "\t9 & 0.0 & 9 & 0 & 0 & 1.07703 & 0 & -10.9502 & -5.0954e-6 & 0.0 & 0 & 0 & 0 & -0.0 & -2.27158e-8 & 0 & -10.9502 & -3.56328e-6 & -7.09628e-6 & -3.533e-6 \\\\\n",
       "\t10 & 0.0 & 10 & 0 & 0 & 1.07924 & 0 & -10.9502 & -3.92654e-6 & 0.0 & 0 & 0 & 0 & -4.19048e-7 & -2.23308e-8 & 0 & -10.9502 & -2.74583e-6 & -3.56322e-6 & -8.17385e-7 \\\\\n",
       "\t11 & 0.0 & 11 & 0 & 0 & 1.08548 & 0 & -10.9502 & -1.13393e-6 & 0.0 & 0 & 0 & 0 & -1.70025e-6 & -2.12428e-8 & 0 & -10.9502 & -7.9211e-7 & -2.74289e-6 & -1.95078e-6 \\\\\n",
       "\t12 & 0.0 & 12 & 0.706066 & -0.263053 & 1.08842 & 0 & -10.9502 & -1.43553e-8 & 0.0 & 0 & -3.36614e-8 & -6.20288e-9 & -3.88143e-5 & -2.07465e-8 & 0 & -10.9502 & -9.99049e-9 & -7.89156e-7 & -7.99147e-7 \\\\\n",
       "\t13 & 0.0 & 13 & 0 & 0 & 0.982619 & 0 & -10.9503 & 0.0 & 0.0 & 0 & 0 & 0 & -0.0 & -0.0 & 0 & -10.9503 & 0.0 & 0.0 & 0.0 \\\\\n",
       "\t14 & 0.0 & 14 & 0 & 0 & 0.977795 & 0 & -10.9503 & 0.0 & 0.0 & 0 & 0 & 0 & -0.0 & -0.0 & 0 & -10.9503 & 0.0 & 0.0 & 0.0 \\\\\n",
       "\t15 & 0.0 & 15 & 0 & 0 & 0.975027 & 0 & -10.9503 & 0.0 & 0.0 & 0 & 0 & 0 & -0.0 & -0.0 & 0 & -10.9503 & 0.0 & 0.0 & 0.0 \\\\\n",
       "\\end{tabular}\n"
      ],
      "text/plain": [
       "15×19 DataFrame. Omitted printing of 12 columns\n",
       "│ Row │ objective │ bus │ gp       │ gq        │ voltage  │ alpha │ lambda   │\n",
       "│     │ \u001b[90mFloat64\u001b[39m   │ \u001b[90mAny\u001b[39m │ \u001b[90mAny\u001b[39m      │ \u001b[90mAny\u001b[39m       │ \u001b[90mAny\u001b[39m      │ \u001b[90mAny\u001b[39m   │ \u001b[90mAny\u001b[39m      │\n",
       "├─────┼───────────┼─────┼──────────┼───────────┼──────────┼───────┼──────────┤\n",
       "│ 1   │ 15.4628   │ 1   │ 0        │ 0.866397  │ 1.0      │ 0     │ -10.9503 │\n",
       "│ 2   │ 0.0       │ 2   │ 0        │ 0         │ 0.909134 │ 0     │ -10.9503 │\n",
       "│ 3   │ 0.0       │ 3   │ 0        │ 0         │ 0.971456 │ 0     │ -10.9503 │\n",
       "│ 4   │ 0.0       │ 4   │ 0        │ 0         │ 1.06181  │ 0     │ -10.9502 │\n",
       "│ 5   │ 0.0       │ 5   │ 0        │ 0         │ 1.06711  │ 0     │ -10.9502 │\n",
       "│ 6   │ 0.0       │ 6   │ 0        │ 0         │ 1.07231  │ 0     │ -10.9502 │\n",
       "│ 7   │ 0.0       │ 7   │ 0.706034 │ -0.222345 │ 1.0883   │ 0     │ -10.9502 │\n",
       "│ 8   │ 0.0       │ 8   │ 0        │ 0         │ 1.08642  │ 0     │ -10.9502 │\n",
       "│ 9   │ 0.0       │ 9   │ 0        │ 0         │ 1.07703  │ 0     │ -10.9502 │\n",
       "│ 10  │ 0.0       │ 10  │ 0        │ 0         │ 1.07924  │ 0     │ -10.9502 │\n",
       "│ 11  │ 0.0       │ 11  │ 0        │ 0         │ 1.08548  │ 0     │ -10.9502 │\n",
       "│ 12  │ 0.0       │ 12  │ 0.706066 │ -0.263053 │ 1.08842  │ 0     │ -10.9502 │\n",
       "│ 13  │ 0.0       │ 13  │ 0        │ 0         │ 0.982619 │ 0     │ -10.9503 │\n",
       "│ 14  │ 0.0       │ 14  │ 0        │ 0         │ 0.977795 │ 0     │ -10.9503 │\n",
       "│ 15  │ 0.0       │ 15  │ 0        │ 0         │ 0.975027 │ 0     │ -10.9503 │"
      ]
     },
     "metadata": {},
     "output_type": "display_data"
    }
   ],
   "source": [
    "experiment2 = Dict()\n",
    "\n",
    "# Load feeder data \n",
    "feeder = load_feeder(\"data/feeder_data/basecase_noneg/\")\n",
    "\n",
    "# Set up\n",
    "relative_std = 0.2\n",
    "loads = [b.d_P for b in feeder.buses]\n",
    "std_vec = abs.(loads) .* relative_std\n",
    "var_vec = std_vec.^2\n",
    "Σ = diagm(0 => var_vec)\n",
    "\n",
    "# ex2_general_settings\n",
    "ex2_general_settings = Dict(\n",
    "    \"var_vec\" => var_vec,\n",
    "    \"Σ\" => Σ,\n",
    "    \"z_g\" => 1.945,\n",
    "    \"z_v\" => 2.576,\n",
    "    \"toggle_volt_cc\" => false,\n",
    "    \"toggle_gen_cc\" => false,\n",
    "    \"vfac\" => 0.02, # decrease upper bound by factor (1-vfac) and increase lower bound by (1+vfac)\n",
    "    \"qcfac\" => 1,\n",
    "    \"output_level\" => 0,\n",
    "    \"Ψ\" => 0,\n",
    ")\n",
    "\n",
    "# ex2_no_uncert:\n",
    "ex2_no_uncert_settings = copy(ex2_general_settings)\n",
    "ex2_no_uncert_settings[\"toggle_volt_cc\"] = false\n",
    "ex2_no_uncert_settings[\"toggle_gen_cc\"] = false\n",
    "\n",
    "experiment2[\"no_uncert\"] = Dict(\n",
    "    \"verbose\" => \"ex2_no_uncert\",\n",
    "    \"feeder\" => feeder,\n",
    "    \"settings\" => ex2_no_uncert_settings,\n",
    ")\n",
    "\n",
    "# ex2_uncert:\n",
    "ex2_uncert_settings = copy(ex2_general_settings)\n",
    "ex2_uncert_settings[\"toggle_volt_cc\"] = true\n",
    "ex2_uncert_settings[\"toggle_gen_cc\"] = true\n",
    "experiment2[\"uncert\"] = Dict(\n",
    "    \"verbose\" => \"ex2_uncert\",\n",
    "    \"feeder\" => feeder,\n",
    "    \"settings\" => ex2_uncert_settings,\n",
    ")\n",
    "\n",
    "# ex2_gen_uncert:\n",
    "ex2_uncert_settings = copy(ex2_general_settings)\n",
    "ex2_uncert_settings[\"toggle_volt_cc\"] = false\n",
    "ex2_uncert_settings[\"toggle_gen_cc\"] = true\n",
    "experiment2[\"gen_uncert\"] = Dict(\n",
    "    \"verbose\" => \"ex2_gen_uncert\",\n",
    "    \"feeder\" => feeder,\n",
    "    \"settings\" => ex2_uncert_settings,\n",
    ")\n",
    "\n",
    "# Run \n",
    "experiment2 = run_experiment(experiment2)\n",
    "\n",
    "# Show results\n",
    "sleep(.2) # just to ensure correct printing order\n",
    "for case in keys(experiment2)\n",
    "    print(\">>> Case $case\")\n",
    "    sleep(.2)\n",
    "    display(experiment2[case][\"results\"])\n",
    "end"
   ]
  },
  {
   "cell_type": "code",
   "execution_count": 22,
   "metadata": {},
   "outputs": [
    {
     "name": "stdout",
     "output_type": "stream",
     "text": [
      "Saving ex2_uncert\n",
      "Saving ex2_gen_uncert\n",
      "Saving ex2_no_uncert\n",
      ">>>> Saved with timestamp 190320_0953\n"
     ]
    }
   ],
   "source": [
    "save_experiment(\"experiment2\", experiment2)"
   ]
  },
  {
   "cell_type": "markdown",
   "metadata": {},
   "source": [
    "## Experiment 3\n",
    "\n",
    "Same as before but instead of tighter voltage limits try higher load"
   ]
  },
  {
   "cell_type": "code",
   "execution_count": 10,
   "metadata": {},
   "outputs": [
    {
     "name": "stdout",
     "output_type": "stream",
     "text": [
      ">>>>> Reading feeder data from data/feeder_data/basecase_noneg/\n",
      "Running ex3_uncert\n",
      ">>>> Building Model\n",
      ">>>> Running Model\n",
      "MOSEK warning 705: #3 (nearly) zero elements are specified in sparse row ''(87) of matrix 'A'.\n",
      "MOSEK warning 705: #4 (nearly) zero elements are specified in sparse row ''(93) of matrix 'A'.\n",
      ">>>> Model finished with status OPTIMAL in 0.006354567 seconds\n",
      ">>>> Post-Processing\n",
      "\n",
      "Running ex3_gen_uncert\n",
      ">>>> Building Model\n",
      ">>>> Running Model\n",
      ">>>> Model finished with status OPTIMAL in 0.002476817 seconds\n",
      ">>>> Post-Processing\n",
      "\n",
      "Running ex3_no_uncert\n",
      ">>>> Building Model\n",
      ">>>> Running Model\n",
      ">>>> Model finished with status OPTIMAL in 0.00223549 seconds\n",
      ">>>> Post-Processing\n",
      "\n",
      ">>> Case uncert"
     ]
    },
    {
     "data": {
      "text/html": [
       "<table class=\"data-frame\"><thead><tr><th></th><th>objective</th><th>bus</th><th>gp</th><th>gq</th><th>voltage</th><th>alpha</th><th>lambda</th><th>pi</th><th>gamma</th><th>eta</th><th>delta_plus</th><th>delta_minus</th><th>mu_plus</th><th>mu_minus</th><th>voltvar</th><th>lambda_anc</th><th>rx_pi_i</th><th>rx_pi_a</th><th>r_sum_mu_d</th></tr><tr><th></th><th>Float64</th><th>Any</th><th>Any</th><th>Any</th><th>Any</th><th>Any</th><th>Any</th><th>Any</th><th>Float64</th><th>Any</th><th>Any</th><th>Any</th><th>Any</th><th>Any</th><th>Any</th><th>Any</th><th>Any</th><th>Any</th><th>Any</th></tr></thead><tbody><p>15 rows × 19 columns</p><tr><th>1</th><td>431.923</td><td>1</td><td>3.8177</td><td>1.0676</td><td>1.0</td><td>1.0</td><td>-100.0</td><td>-7.68782e-10</td><td>-31.6228</td><td>0</td><td>0</td><td>0</td><td>0</td><td>0</td><td>0</td><td>0</td><td>0</td><td>0</td><td>0</td></tr><tr><th>2</th><td>0.0</td><td>2</td><td>0</td><td>0</td><td>0.916252</td><td>0</td><td>-100.0</td><td>-0.000145897</td><td>0.0</td><td>-1.5754e-8</td><td>0</td><td>0</td><td>-3.26811e-6</td><td>-0.000764702</td><td>0.00363129</td><td>-100.0</td><td>-1.21581e-6</td><td>-6.40651e-12</td><td>1.1877e-6</td></tr><tr><th>3</th><td>0.0</td><td>3</td><td>0</td><td>0</td><td>0.950524</td><td>0</td><td>-100.0</td><td>-0.000106729</td><td>0.0</td><td>-5.32418e-6</td><td>0</td><td>0</td><td>-4.5928e-6</td><td>-5.34742e-5</td><td>0.0117104</td><td>-100.0</td><td>-7.46768e-5</td><td>-0.000102082</td><td>-2.95957e-5</td></tr><tr><th>4</th><td>0.0</td><td>4</td><td>0</td><td>0</td><td>1.00189</td><td>0</td><td>-99.9999</td><td>-2.54546e-5</td><td>0.0</td><td>-1.30342e-5</td><td>0</td><td>0</td><td>-1.39688e-5</td><td>-1.24571e-5</td><td>0.0211438</td><td>-100.0</td><td>-1.78105e-5</td><td>-7.46783e-5</td><td>-5.99181e-5</td></tr><tr><th>5</th><td>0.0</td><td>5</td><td>0</td><td>0</td><td>1.0105</td><td>0</td><td>-99.9999</td><td>-1.88947e-5</td><td>0.0</td><td>-1.3443e-5</td><td>0</td><td>0</td><td>-1.80855e-5</td><td>-9.65875e-6</td><td>0.0212127</td><td>-99.9999</td><td>-1.32194e-5</td><td>-1.78089e-5</td><td>-4.72767e-6</td></tr><tr><th>6</th><td>0.0</td><td>6</td><td>0</td><td>0</td><td>1.01952</td><td>0</td><td>-99.9999</td><td>-1.32239e-5</td><td>0.0</td><td>-1.37819e-5</td><td>0</td><td>0</td><td>-2.39752e-5</td><td>-7.56658e-6</td><td>0.0205562</td><td>-99.9999</td><td>-9.21983e-6</td><td>-1.31736e-5</td><td>-4.0367e-6</td></tr><tr><th>7</th><td>0.0</td><td>7</td><td>0.8</td><td>-0.0477213</td><td>1.04946</td><td>0</td><td>-99.9999</td><td>-2.49905e-7</td><td>0.0</td><td>-1.45891e-5</td><td>-88.4176</td><td>-2.06216e-6</td><td>-0.000103338</td><td>-4.4126e-6</td><td>0.0150349</td><td>-99.9999</td><td>-1.74825e-7</td><td>-9.25095e-6</td><td>-9.53643e-6</td></tr><tr><th>8</th><td>0.0</td><td>8</td><td>0</td><td>0</td><td>0.970333</td><td>0</td><td>-99.9999</td><td>-2.22249e-5</td><td>0.0</td><td>-1.47582e-5</td><td>0</td><td>0</td><td>-7.50706e-6</td><td>-5.08665e-5</td><td>0.0177988</td><td>-99.9999</td><td>-1.55604e-5</td><td>-1.08896e-5</td><td>4.53539e-6</td></tr><tr><th>9</th><td>0.0</td><td>9</td><td>0</td><td>0</td><td>1.00209</td><td>0</td><td>-99.9999</td><td>-1.55536e-5</td><td>0.0</td><td>-1.43558e-5</td><td>0</td><td>0</td><td>-1.67668e-5</td><td>-1.18817e-5</td><td>0.0209381</td><td>-99.9999</td><td>-1.08768e-5</td><td>-1.78007e-5</td><td>-7.42324e-6</td></tr><tr><th>10</th><td>0.0</td><td>10</td><td>0</td><td>0</td><td>1.00905</td><td>0</td><td>-99.9999</td><td>-1.1948e-5</td><td>0.0</td><td>-1.458e-5</td><td>0</td><td>0</td><td>-2.14214e-5</td><td>-9.38806e-6</td><td>0.020878</td><td>-99.9999</td><td>-8.35523e-6</td><td>-1.08766e-5</td><td>-2.59338e-6</td></tr><tr><th>11</th><td>0.0</td><td>11</td><td>0</td><td>0</td><td>1.02867</td><td>0</td><td>-99.9999</td><td>-3.9948e-6</td><td>0.0</td><td>-1.50543e-5</td><td>0</td><td>0</td><td>-4.7401e-5</td><td>-5.71073e-6</td><td>0.0188001</td><td>-99.9999</td><td>-2.79057e-6</td><td>-8.34627e-6</td><td>-5.67003e-6</td></tr><tr><th>12</th><td>0.0</td><td>12</td><td>0.8</td><td>0.123118</td><td>1.03787</td><td>0</td><td>-99.9999</td><td>-1.78169e-6</td><td>0.0</td><td>-1.51877e-5</td><td>-88.42</td><td>-3.30189e-6</td><td>-8.08371e-5</td><td>-4.89179e-6</td><td>0.0172062</td><td>-99.9999</td><td>-1.23996e-6</td><td>-2.78016e-6</td><td>-1.56447e-6</td></tr><tr><th>13</th><td>0.0</td><td>13</td><td>0</td><td>0</td><td>0.946901</td><td>0</td><td>-100.0</td><td>-0.000143532</td><td>0.0</td><td>-2.30165e-8</td><td>0</td><td>0</td><td>0.0</td><td>-6.20927e-5</td><td>0.0108927</td><td>-100.0</td><td>-1.1961e-6</td><td>-6.40651e-12</td><td>1.19611e-6</td></tr><tr><th>14</th><td>0.0</td><td>14</td><td>0</td><td>0</td><td>0.931799</td><td>0</td><td>-100.0</td><td>-0.000263481</td><td>0.0</td><td>-3.49059e-6</td><td>0</td><td>0</td><td>0.0</td><td>-0.000150305</td><td>0.00728316</td><td>-100.0</td><td>-0.000367084</td><td>-0.000199971</td><td>0.000167113</td></tr><tr><th>15</th><td>0.0</td><td>15</td><td>0</td><td>0</td><td>0.923057</td><td>0</td><td>-100.0</td><td>-0.000316239</td><td>0.0</td><td>-5.19685e-6</td><td>0</td><td>0</td><td>0.0</td><td>-0.000385657</td><td>0.00524191</td><td>-100.0</td><td>-0.000440607</td><td>-0.000367101</td><td>7.35063e-5</td></tr></tbody></table>"
      ],
      "text/latex": [
       "\\begin{tabular}{r|ccccccccccccccccccc}\n",
       "\t& objective & bus & gp & gq & voltage & alpha & lambda & pi & gamma & eta & delta\\_plus & delta\\_minus & mu\\_plus & mu\\_minus & voltvar & lambda\\_anc & rx\\_pi\\_i & rx\\_pi\\_a & r\\_sum\\_mu\\_d\\\\\n",
       "\t\\hline\n",
       "\t& Float64 & Any & Any & Any & Any & Any & Any & Any & Float64 & Any & Any & Any & Any & Any & Any & Any & Any & Any & Any\\\\\n",
       "\t\\hline\n",
       "\t1 & 431.923 & 1 & 3.8177 & 1.0676 & 1.0 & 1.0 & -100.0 & -7.68782e-10 & -31.6228 & 0 & 0 & 0 & 0 & 0 & 0 & 0 & 0 & 0 & 0 \\\\\n",
       "\t2 & 0.0 & 2 & 0 & 0 & 0.916252 & 0 & -100.0 & -0.000145897 & 0.0 & -1.5754e-8 & 0 & 0 & -3.26811e-6 & -0.000764702 & 0.00363129 & -100.0 & -1.21581e-6 & -6.40651e-12 & 1.1877e-6 \\\\\n",
       "\t3 & 0.0 & 3 & 0 & 0 & 0.950524 & 0 & -100.0 & -0.000106729 & 0.0 & -5.32418e-6 & 0 & 0 & -4.5928e-6 & -5.34742e-5 & 0.0117104 & -100.0 & -7.46768e-5 & -0.000102082 & -2.95957e-5 \\\\\n",
       "\t4 & 0.0 & 4 & 0 & 0 & 1.00189 & 0 & -99.9999 & -2.54546e-5 & 0.0 & -1.30342e-5 & 0 & 0 & -1.39688e-5 & -1.24571e-5 & 0.0211438 & -100.0 & -1.78105e-5 & -7.46783e-5 & -5.99181e-5 \\\\\n",
       "\t5 & 0.0 & 5 & 0 & 0 & 1.0105 & 0 & -99.9999 & -1.88947e-5 & 0.0 & -1.3443e-5 & 0 & 0 & -1.80855e-5 & -9.65875e-6 & 0.0212127 & -99.9999 & -1.32194e-5 & -1.78089e-5 & -4.72767e-6 \\\\\n",
       "\t6 & 0.0 & 6 & 0 & 0 & 1.01952 & 0 & -99.9999 & -1.32239e-5 & 0.0 & -1.37819e-5 & 0 & 0 & -2.39752e-5 & -7.56658e-6 & 0.0205562 & -99.9999 & -9.21983e-6 & -1.31736e-5 & -4.0367e-6 \\\\\n",
       "\t7 & 0.0 & 7 & 0.8 & -0.0477213 & 1.04946 & 0 & -99.9999 & -2.49905e-7 & 0.0 & -1.45891e-5 & -88.4176 & -2.06216e-6 & -0.000103338 & -4.4126e-6 & 0.0150349 & -99.9999 & -1.74825e-7 & -9.25095e-6 & -9.53643e-6 \\\\\n",
       "\t8 & 0.0 & 8 & 0 & 0 & 0.970333 & 0 & -99.9999 & -2.22249e-5 & 0.0 & -1.47582e-5 & 0 & 0 & -7.50706e-6 & -5.08665e-5 & 0.0177988 & -99.9999 & -1.55604e-5 & -1.08896e-5 & 4.53539e-6 \\\\\n",
       "\t9 & 0.0 & 9 & 0 & 0 & 1.00209 & 0 & -99.9999 & -1.55536e-5 & 0.0 & -1.43558e-5 & 0 & 0 & -1.67668e-5 & -1.18817e-5 & 0.0209381 & -99.9999 & -1.08768e-5 & -1.78007e-5 & -7.42324e-6 \\\\\n",
       "\t10 & 0.0 & 10 & 0 & 0 & 1.00905 & 0 & -99.9999 & -1.1948e-5 & 0.0 & -1.458e-5 & 0 & 0 & -2.14214e-5 & -9.38806e-6 & 0.020878 & -99.9999 & -8.35523e-6 & -1.08766e-5 & -2.59338e-6 \\\\\n",
       "\t11 & 0.0 & 11 & 0 & 0 & 1.02867 & 0 & -99.9999 & -3.9948e-6 & 0.0 & -1.50543e-5 & 0 & 0 & -4.7401e-5 & -5.71073e-6 & 0.0188001 & -99.9999 & -2.79057e-6 & -8.34627e-6 & -5.67003e-6 \\\\\n",
       "\t12 & 0.0 & 12 & 0.8 & 0.123118 & 1.03787 & 0 & -99.9999 & -1.78169e-6 & 0.0 & -1.51877e-5 & -88.42 & -3.30189e-6 & -8.08371e-5 & -4.89179e-6 & 0.0172062 & -99.9999 & -1.23996e-6 & -2.78016e-6 & -1.56447e-6 \\\\\n",
       "\t13 & 0.0 & 13 & 0 & 0 & 0.946901 & 0 & -100.0 & -0.000143532 & 0.0 & -2.30165e-8 & 0 & 0 & 0.0 & -6.20927e-5 & 0.0108927 & -100.0 & -1.1961e-6 & -6.40651e-12 & 1.19611e-6 \\\\\n",
       "\t14 & 0.0 & 14 & 0 & 0 & 0.931799 & 0 & -100.0 & -0.000263481 & 0.0 & -3.49059e-6 & 0 & 0 & 0.0 & -0.000150305 & 0.00728316 & -100.0 & -0.000367084 & -0.000199971 & 0.000167113 \\\\\n",
       "\t15 & 0.0 & 15 & 0 & 0 & 0.923057 & 0 & -100.0 & -0.000316239 & 0.0 & -5.19685e-6 & 0 & 0 & 0.0 & -0.000385657 & 0.00524191 & -100.0 & -0.000440607 & -0.000367101 & 7.35063e-5 \\\\\n",
       "\\end{tabular}\n"
      ],
      "text/plain": [
       "15×19 DataFrame. Omitted printing of 12 columns\n",
       "│ Row │ objective │ bus │ gp     │ gq         │ voltage  │ alpha │ lambda   │\n",
       "│     │ \u001b[90mFloat64\u001b[39m   │ \u001b[90mAny\u001b[39m │ \u001b[90mAny\u001b[39m    │ \u001b[90mAny\u001b[39m        │ \u001b[90mAny\u001b[39m      │ \u001b[90mAny\u001b[39m   │ \u001b[90mAny\u001b[39m      │\n",
       "├─────┼───────────┼─────┼────────┼────────────┼──────────┼───────┼──────────┤\n",
       "│ 1   │ 431.923   │ 1   │ 3.8177 │ 1.0676     │ 1.0      │ 1.0   │ -100.0   │\n",
       "│ 2   │ 0.0       │ 2   │ 0      │ 0          │ 0.916252 │ 0     │ -100.0   │\n",
       "│ 3   │ 0.0       │ 3   │ 0      │ 0          │ 0.950524 │ 0     │ -100.0   │\n",
       "│ 4   │ 0.0       │ 4   │ 0      │ 0          │ 1.00189  │ 0     │ -99.9999 │\n",
       "│ 5   │ 0.0       │ 5   │ 0      │ 0          │ 1.0105   │ 0     │ -99.9999 │\n",
       "│ 6   │ 0.0       │ 6   │ 0      │ 0          │ 1.01952  │ 0     │ -99.9999 │\n",
       "│ 7   │ 0.0       │ 7   │ 0.8    │ -0.0477213 │ 1.04946  │ 0     │ -99.9999 │\n",
       "│ 8   │ 0.0       │ 8   │ 0      │ 0          │ 0.970333 │ 0     │ -99.9999 │\n",
       "│ 9   │ 0.0       │ 9   │ 0      │ 0          │ 1.00209  │ 0     │ -99.9999 │\n",
       "│ 10  │ 0.0       │ 10  │ 0      │ 0          │ 1.00905  │ 0     │ -99.9999 │\n",
       "│ 11  │ 0.0       │ 11  │ 0      │ 0          │ 1.02867  │ 0     │ -99.9999 │\n",
       "│ 12  │ 0.0       │ 12  │ 0.8    │ 0.123118   │ 1.03787  │ 0     │ -99.9999 │\n",
       "│ 13  │ 0.0       │ 13  │ 0      │ 0          │ 0.946901 │ 0     │ -100.0   │\n",
       "│ 14  │ 0.0       │ 14  │ 0      │ 0          │ 0.931799 │ 0     │ -100.0   │\n",
       "│ 15  │ 0.0       │ 15  │ 0      │ 0          │ 0.923057 │ 0     │ -100.0   │"
      ]
     },
     "metadata": {},
     "output_type": "display_data"
    },
    {
     "name": "stdout",
     "output_type": "stream",
     "text": [
      ">>> Case gen_uncert"
     ]
    },
    {
     "data": {
      "text/html": [
       "<table class=\"data-frame\"><thead><tr><th></th><th>objective</th><th>bus</th><th>gp</th><th>gq</th><th>voltage</th><th>alpha</th><th>lambda</th><th>pi</th><th>gamma</th><th>eta</th><th>delta_plus</th><th>delta_minus</th><th>mu_plus</th><th>mu_minus</th><th>voltvar</th><th>lambda_anc</th><th>rx_pi_i</th><th>rx_pi_a</th><th>r_sum_mu_d</th></tr><tr><th></th><th>Float64</th><th>Any</th><th>Any</th><th>Any</th><th>Any</th><th>Any</th><th>Any</th><th>Any</th><th>Float64</th><th>Any</th><th>Any</th><th>Any</th><th>Any</th><th>Any</th><th>Any</th><th>Any</th><th>Any</th><th>Any</th><th>Any</th></tr></thead><tbody><p>15 rows × 19 columns</p><tr><th>1</th><td>431.923</td><td>1</td><td>3.8177</td><td>1.06751</td><td>1.0</td><td>1.0</td><td>-100.0</td><td>0.0</td><td>-31.6228</td><td>0</td><td>0</td><td>0</td><td>0</td><td>0</td><td>0</td><td>0</td><td>0</td><td>0</td><td>0</td></tr><tr><th>2</th><td>0.0</td><td>2</td><td>0</td><td>0</td><td>0.916265</td><td>0</td><td>-100.0</td><td>-1.46431e-5</td><td>0.0</td><td>0</td><td>0</td><td>0</td><td>-5.19691e-7</td><td>-7.75417e-5</td><td>0</td><td>-100.0</td><td>-1.22026e-7</td><td>0.0</td><td>1.22026e-7</td></tr><tr><th>3</th><td>0.0</td><td>3</td><td>0</td><td>0</td><td>0.950548</td><td>0</td><td>-100.0</td><td>-1.06024e-5</td><td>0.0</td><td>0</td><td>0</td><td>0</td><td>-6.95592e-7</td><td>-3.72078e-6</td><td>0</td><td>-100.0</td><td>-7.41829e-6</td><td>-1.02455e-5</td><td>-2.82723e-6</td></tr><tr><th>4</th><td>0.0</td><td>4</td><td>0</td><td>0</td><td>1.00193</td><td>0</td><td>-100.0</td><td>-3.07235e-6</td><td>0.0</td><td>0</td><td>0</td><td>0</td><td>-1.49108e-6</td><td>-9.49878e-7</td><td>0</td><td>-100.0</td><td>-2.14971e-6</td><td>-7.41843e-6</td><td>-5.26872e-6</td></tr><tr><th>5</th><td>0.0</td><td>5</td><td>0</td><td>0</td><td>1.01167</td><td>0</td><td>-100.0</td><td>-2.38737e-6</td><td>0.0</td><td>0</td><td>0</td><td>0</td><td>-1.87868e-6</td><td>-8.13124e-7</td><td>0</td><td>-100.0</td><td>-1.67029e-6</td><td>-2.14952e-6</td><td>-4.79231e-7</td></tr><tr><th>6</th><td>0.0</td><td>6</td><td>0</td><td>0</td><td>1.02172</td><td>0</td><td>-100.0</td><td>-1.81109e-6</td><td>0.0</td><td>0</td><td>0</td><td>0</td><td>-2.49437e-6</td><td>-7.01822e-7</td><td>0</td><td>-100.0</td><td>-1.26271e-6</td><td>-1.6645e-6</td><td>-4.01791e-7</td></tr><tr><th>7</th><td>0.0</td><td>7</td><td>0.8</td><td>-0.00573882</td><td>1.05434</td><td>0</td><td>-100.0</td><td>-4.76193e-7</td><td>0.0</td><td>0</td><td>-88.4189</td><td>-3.44537e-7</td><td>-1.01621e-5</td><td>-4.74925e-7</td><td>0</td><td>-100.0</td><td>-3.33128e-7</td><td>-1.26698e-6</td><td>-9.33847e-7</td></tr><tr><th>8</th><td>0.0</td><td>8</td><td>0</td><td>0</td><td>0.96786</td><td>0</td><td>-100.0</td><td>-2.67144e-6</td><td>0.0</td><td>0</td><td>0</td><td>0</td><td>-0.0</td><td>-1.95064e-6</td><td>0</td><td>-100.0</td><td>-1.87037e-6</td><td>-1.66633e-6</td><td>2.04037e-7</td></tr><tr><th>9</th><td>0.0</td><td>9</td><td>0</td><td>0</td><td>0.999696</td><td>0</td><td>-100.0</td><td>-2.38002e-6</td><td>0.0</td><td>0</td><td>0</td><td>0</td><td>-1.41964e-6</td><td>-0.0</td><td>0</td><td>-100.0</td><td>-1.66437e-6</td><td>-2.14853e-6</td><td>-4.84157e-7</td></tr><tr><th>10</th><td>0.0</td><td>10</td><td>0</td><td>0</td><td>1.00608</td><td>0</td><td>-100.0</td><td>-2.19472e-6</td><td>0.0</td><td>0</td><td>0</td><td>0</td><td>-1.6635e-6</td><td>-8.67001e-7</td><td>0</td><td>-100.0</td><td>-1.53477e-6</td><td>-1.66435e-6</td><td>-1.29578e-7</td></tr><tr><th>11</th><td>0.0</td><td>11</td><td>0</td><td>0</td><td>1.02434</td><td>0</td><td>-100.0</td><td>-1.80264e-6</td><td>0.0</td><td>0</td><td>0</td><td>0</td><td>-2.88856e-6</td><td>-6.40486e-7</td><td>0</td><td>-100.0</td><td>-1.25923e-6</td><td>-1.53312e-6</td><td>-2.73891e-7</td></tr><tr><th>12</th><td>0.0</td><td>12</td><td>0.8</td><td>0.0812299</td><td>1.03298</td><td>0</td><td>-100.0</td><td>-1.70098e-6</td><td>0.0</td><td>0</td><td>-88.4188</td><td>-3.40115e-7</td><td>-4.0002e-6</td><td>-5.6589e-7</td><td>0</td><td>-100.0</td><td>-1.18379e-6</td><td>-1.25454e-6</td><td>-7.07468e-8</td></tr><tr><th>13</th><td>0.0</td><td>13</td><td>0</td><td>0</td><td>0.946901</td><td>0</td><td>-100.0</td><td>0.0</td><td>0.0</td><td>0</td><td>0</td><td>0</td><td>-0.0</td><td>-0.0</td><td>0</td><td>-100.0</td><td>0.0</td><td>0.0</td><td>0.0</td></tr><tr><th>14</th><td>0.0</td><td>14</td><td>0</td><td>0</td><td>0.931799</td><td>0</td><td>-100.0</td><td>0.0</td><td>0.0</td><td>0</td><td>0</td><td>0</td><td>-0.0</td><td>-0.0</td><td>0</td><td>-100.0</td><td>0.0</td><td>0.0</td><td>0.0</td></tr><tr><th>15</th><td>0.0</td><td>15</td><td>0</td><td>0</td><td>0.923057</td><td>0</td><td>-100.0</td><td>0.0</td><td>0.0</td><td>0</td><td>0</td><td>0</td><td>-0.0</td><td>-0.0</td><td>0</td><td>-100.0</td><td>0.0</td><td>0.0</td><td>0.0</td></tr></tbody></table>"
      ],
      "text/latex": [
       "\\begin{tabular}{r|ccccccccccccccccccc}\n",
       "\t& objective & bus & gp & gq & voltage & alpha & lambda & pi & gamma & eta & delta\\_plus & delta\\_minus & mu\\_plus & mu\\_minus & voltvar & lambda\\_anc & rx\\_pi\\_i & rx\\_pi\\_a & r\\_sum\\_mu\\_d\\\\\n",
       "\t\\hline\n",
       "\t& Float64 & Any & Any & Any & Any & Any & Any & Any & Float64 & Any & Any & Any & Any & Any & Any & Any & Any & Any & Any\\\\\n",
       "\t\\hline\n",
       "\t1 & 431.923 & 1 & 3.8177 & 1.06751 & 1.0 & 1.0 & -100.0 & 0.0 & -31.6228 & 0 & 0 & 0 & 0 & 0 & 0 & 0 & 0 & 0 & 0 \\\\\n",
       "\t2 & 0.0 & 2 & 0 & 0 & 0.916265 & 0 & -100.0 & -1.46431e-5 & 0.0 & 0 & 0 & 0 & -5.19691e-7 & -7.75417e-5 & 0 & -100.0 & -1.22026e-7 & 0.0 & 1.22026e-7 \\\\\n",
       "\t3 & 0.0 & 3 & 0 & 0 & 0.950548 & 0 & -100.0 & -1.06024e-5 & 0.0 & 0 & 0 & 0 & -6.95592e-7 & -3.72078e-6 & 0 & -100.0 & -7.41829e-6 & -1.02455e-5 & -2.82723e-6 \\\\\n",
       "\t4 & 0.0 & 4 & 0 & 0 & 1.00193 & 0 & -100.0 & -3.07235e-6 & 0.0 & 0 & 0 & 0 & -1.49108e-6 & -9.49878e-7 & 0 & -100.0 & -2.14971e-6 & -7.41843e-6 & -5.26872e-6 \\\\\n",
       "\t5 & 0.0 & 5 & 0 & 0 & 1.01167 & 0 & -100.0 & -2.38737e-6 & 0.0 & 0 & 0 & 0 & -1.87868e-6 & -8.13124e-7 & 0 & -100.0 & -1.67029e-6 & -2.14952e-6 & -4.79231e-7 \\\\\n",
       "\t6 & 0.0 & 6 & 0 & 0 & 1.02172 & 0 & -100.0 & -1.81109e-6 & 0.0 & 0 & 0 & 0 & -2.49437e-6 & -7.01822e-7 & 0 & -100.0 & -1.26271e-6 & -1.6645e-6 & -4.01791e-7 \\\\\n",
       "\t7 & 0.0 & 7 & 0.8 & -0.00573882 & 1.05434 & 0 & -100.0 & -4.76193e-7 & 0.0 & 0 & -88.4189 & -3.44537e-7 & -1.01621e-5 & -4.74925e-7 & 0 & -100.0 & -3.33128e-7 & -1.26698e-6 & -9.33847e-7 \\\\\n",
       "\t8 & 0.0 & 8 & 0 & 0 & 0.96786 & 0 & -100.0 & -2.67144e-6 & 0.0 & 0 & 0 & 0 & -0.0 & -1.95064e-6 & 0 & -100.0 & -1.87037e-6 & -1.66633e-6 & 2.04037e-7 \\\\\n",
       "\t9 & 0.0 & 9 & 0 & 0 & 0.999696 & 0 & -100.0 & -2.38002e-6 & 0.0 & 0 & 0 & 0 & -1.41964e-6 & -0.0 & 0 & -100.0 & -1.66437e-6 & -2.14853e-6 & -4.84157e-7 \\\\\n",
       "\t10 & 0.0 & 10 & 0 & 0 & 1.00608 & 0 & -100.0 & -2.19472e-6 & 0.0 & 0 & 0 & 0 & -1.6635e-6 & -8.67001e-7 & 0 & -100.0 & -1.53477e-6 & -1.66435e-6 & -1.29578e-7 \\\\\n",
       "\t11 & 0.0 & 11 & 0 & 0 & 1.02434 & 0 & -100.0 & -1.80264e-6 & 0.0 & 0 & 0 & 0 & -2.88856e-6 & -6.40486e-7 & 0 & -100.0 & -1.25923e-6 & -1.53312e-6 & -2.73891e-7 \\\\\n",
       "\t12 & 0.0 & 12 & 0.8 & 0.0812299 & 1.03298 & 0 & -100.0 & -1.70098e-6 & 0.0 & 0 & -88.4188 & -3.40115e-7 & -4.0002e-6 & -5.6589e-7 & 0 & -100.0 & -1.18379e-6 & -1.25454e-6 & -7.07468e-8 \\\\\n",
       "\t13 & 0.0 & 13 & 0 & 0 & 0.946901 & 0 & -100.0 & 0.0 & 0.0 & 0 & 0 & 0 & -0.0 & -0.0 & 0 & -100.0 & 0.0 & 0.0 & 0.0 \\\\\n",
       "\t14 & 0.0 & 14 & 0 & 0 & 0.931799 & 0 & -100.0 & 0.0 & 0.0 & 0 & 0 & 0 & -0.0 & -0.0 & 0 & -100.0 & 0.0 & 0.0 & 0.0 \\\\\n",
       "\t15 & 0.0 & 15 & 0 & 0 & 0.923057 & 0 & -100.0 & 0.0 & 0.0 & 0 & 0 & 0 & -0.0 & -0.0 & 0 & -100.0 & 0.0 & 0.0 & 0.0 \\\\\n",
       "\\end{tabular}\n"
      ],
      "text/plain": [
       "15×19 DataFrame. Omitted printing of 12 columns\n",
       "│ Row │ objective │ bus │ gp     │ gq          │ voltage  │ alpha │ lambda │\n",
       "│     │ \u001b[90mFloat64\u001b[39m   │ \u001b[90mAny\u001b[39m │ \u001b[90mAny\u001b[39m    │ \u001b[90mAny\u001b[39m         │ \u001b[90mAny\u001b[39m      │ \u001b[90mAny\u001b[39m   │ \u001b[90mAny\u001b[39m    │\n",
       "├─────┼───────────┼─────┼────────┼─────────────┼──────────┼───────┼────────┤\n",
       "│ 1   │ 431.923   │ 1   │ 3.8177 │ 1.06751     │ 1.0      │ 1.0   │ -100.0 │\n",
       "│ 2   │ 0.0       │ 2   │ 0      │ 0           │ 0.916265 │ 0     │ -100.0 │\n",
       "│ 3   │ 0.0       │ 3   │ 0      │ 0           │ 0.950548 │ 0     │ -100.0 │\n",
       "│ 4   │ 0.0       │ 4   │ 0      │ 0           │ 1.00193  │ 0     │ -100.0 │\n",
       "│ 5   │ 0.0       │ 5   │ 0      │ 0           │ 1.01167  │ 0     │ -100.0 │\n",
       "│ 6   │ 0.0       │ 6   │ 0      │ 0           │ 1.02172  │ 0     │ -100.0 │\n",
       "│ 7   │ 0.0       │ 7   │ 0.8    │ -0.00573882 │ 1.05434  │ 0     │ -100.0 │\n",
       "│ 8   │ 0.0       │ 8   │ 0      │ 0           │ 0.96786  │ 0     │ -100.0 │\n",
       "│ 9   │ 0.0       │ 9   │ 0      │ 0           │ 0.999696 │ 0     │ -100.0 │\n",
       "│ 10  │ 0.0       │ 10  │ 0      │ 0           │ 1.00608  │ 0     │ -100.0 │\n",
       "│ 11  │ 0.0       │ 11  │ 0      │ 0           │ 1.02434  │ 0     │ -100.0 │\n",
       "│ 12  │ 0.0       │ 12  │ 0.8    │ 0.0812299   │ 1.03298  │ 0     │ -100.0 │\n",
       "│ 13  │ 0.0       │ 13  │ 0      │ 0           │ 0.946901 │ 0     │ -100.0 │\n",
       "│ 14  │ 0.0       │ 14  │ 0      │ 0           │ 0.931799 │ 0     │ -100.0 │\n",
       "│ 15  │ 0.0       │ 15  │ 0      │ 0           │ 0.923057 │ 0     │ -100.0 │"
      ]
     },
     "metadata": {},
     "output_type": "display_data"
    },
    {
     "name": "stdout",
     "output_type": "stream",
     "text": [
      ">>> Case no_uncert"
     ]
    },
    {
     "data": {
      "text/html": [
       "<table class=\"data-frame\"><thead><tr><th></th><th>objective</th><th>bus</th><th>gp</th><th>gq</th><th>voltage</th><th>alpha</th><th>lambda</th><th>pi</th><th>gamma</th><th>eta</th><th>delta_plus</th><th>delta_minus</th><th>mu_plus</th><th>mu_minus</th><th>voltvar</th><th>lambda_anc</th><th>rx_pi_i</th><th>rx_pi_a</th><th>r_sum_mu_d</th></tr><tr><th></th><th>Float64</th><th>Any</th><th>Any</th><th>Any</th><th>Any</th><th>Any</th><th>Any</th><th>Any</th><th>Float64</th><th>Any</th><th>Any</th><th>Any</th><th>Any</th><th>Any</th><th>Any</th><th>Any</th><th>Any</th><th>Any</th><th>Any</th></tr></thead><tbody><p>15 rows × 19 columns</p><tr><th>1</th><td>399.29</td><td>1</td><td>3.8177</td><td>1.07126</td><td>1.0</td><td>0</td><td>-100.0</td><td>0.0</td><td>0.0</td><td>0</td><td>0</td><td>0</td><td>0</td><td>0</td><td>0</td><td>0</td><td>0</td><td>0</td><td>0</td></tr><tr><th>2</th><td>0.0</td><td>2</td><td>0</td><td>0</td><td>0.915774</td><td>0</td><td>-100.0</td><td>-7.20018e-6</td><td>0.0</td><td>0</td><td>0</td><td>0</td><td>-0.0</td><td>-3.84094e-5</td><td>0</td><td>-100.0</td><td>-6.00015e-8</td><td>0.0</td><td>6.00015e-8</td></tr><tr><th>3</th><td>0.0</td><td>3</td><td>0</td><td>0</td><td>0.949578</td><td>0</td><td>-100.0</td><td>-5.07783e-6</td><td>0.0</td><td>0</td><td>0</td><td>0</td><td>-2.51789e-7</td><td>-1.51122e-6</td><td>0</td><td>-100.0</td><td>-3.55287e-6</td><td>-5.03784e-6</td><td>-1.48497e-6</td></tr><tr><th>4</th><td>0.0</td><td>4</td><td>0</td><td>0</td><td>1.00027</td><td>0</td><td>-100.0</td><td>-1.25314e-6</td><td>0.0</td><td>0</td><td>0</td><td>0</td><td>-6.13942e-7</td><td>-0.0</td><td>0</td><td>-100.0</td><td>-8.76815e-7</td><td>-3.55294e-6</td><td>-2.67613e-6</td></tr><tr><th>5</th><td>0.0</td><td>5</td><td>0</td><td>0</td><td>1.01009</td><td>0</td><td>-100.0</td><td>-9.36669e-7</td><td>0.0</td><td>0</td><td>0</td><td>0</td><td>-7.81308e-7</td><td>-3.25326e-7</td><td>0</td><td>-100.0</td><td>-6.55326e-7</td><td>-8.76736e-7</td><td>-2.21411e-7</td></tr><tr><th>6</th><td>0.0</td><td>6</td><td>0</td><td>0</td><td>1.02022</td><td>0</td><td>-100.0</td><td>-6.68596e-7</td><td>0.0</td><td>0</td><td>0</td><td>0</td><td>-1.05106e-6</td><td>-2.82462e-7</td><td>0</td><td>-100.0</td><td>-4.66152e-7</td><td>-6.53056e-7</td><td>-1.86904e-7</td></tr><tr><th>7</th><td>0.0</td><td>7</td><td>0.8</td><td>-0.00323173</td><td>1.05305</td><td>0</td><td>-100.0</td><td>-3.86404e-8</td><td>0.0</td><td>0</td><td>-89.0495</td><td>-8.43607e-8</td><td>-4.76745e-6</td><td>-1.9593e-7</td><td>0</td><td>-100.0</td><td>-2.70315e-8</td><td>-4.67726e-7</td><td>-4.40694e-7</td></tr><tr><th>8</th><td>0.0</td><td>8</td><td>0</td><td>0</td><td>0.965763</td><td>0</td><td>-100.0</td><td>-9.90414e-7</td><td>0.0</td><td>0</td><td>0</td><td>0</td><td>-0.0</td><td>-7.79882e-7</td><td>0</td><td>-100.0</td><td>-6.93422e-7</td><td>-6.11847e-7</td><td>8.15756e-8</td></tr><tr><th>9</th><td>0.0</td><td>9</td><td>0</td><td>0</td><td>0.997666</td><td>0</td><td>-100.0</td><td>-8.739e-7</td><td>0.0</td><td>0</td><td>0</td><td>0</td><td>-6.07748e-7</td><td>-0.0</td><td>0</td><td>-100.0</td><td>-6.11129e-7</td><td>-8.76334e-7</td><td>-2.65205e-7</td></tr><tr><th>10</th><td>0.0</td><td>10</td><td>0</td><td>0</td><td>1.00397</td><td>0</td><td>-100.0</td><td>-7.75796e-7</td><td>0.0</td><td>0</td><td>0</td><td>0</td><td>-7.21969e-7</td><td>-0.0</td><td>0</td><td>-100.0</td><td>-5.42515e-7</td><td>-6.11119e-7</td><td>-6.86036e-8</td></tr><tr><th>11</th><td>0.0</td><td>11</td><td>0</td><td>0</td><td>1.02206</td><td>0</td><td>-100.0</td><td>-5.8893e-7</td><td>0.0</td><td>0</td><td>0</td><td>0</td><td>-1.31529e-6</td><td>-2.56024e-7</td><td>0</td><td>-100.0</td><td>-4.11397e-7</td><td>-5.41933e-7</td><td>-1.30536e-7</td></tr><tr><th>12</th><td>0.0</td><td>12</td><td>0.8</td><td>0.0749762</td><td>1.03063</td><td>0</td><td>-100.0</td><td>-5.40121e-7</td><td>0.0</td><td>0</td><td>-89.05</td><td>-8.50901e-8</td><td>-1.8779e-6</td><td>-2.28947e-7</td><td>0</td><td>-100.0</td><td>-3.75895e-7</td><td>-4.09863e-7</td><td>-3.39683e-8</td></tr><tr><th>13</th><td>0.0</td><td>13</td><td>0</td><td>0</td><td>0.946901</td><td>0</td><td>-100.0</td><td>0.0</td><td>0.0</td><td>0</td><td>0</td><td>0</td><td>-0.0</td><td>-0.0</td><td>0</td><td>-100.0</td><td>0.0</td><td>0.0</td><td>0.0</td></tr><tr><th>14</th><td>0.0</td><td>14</td><td>0</td><td>0</td><td>0.931799</td><td>0</td><td>-100.0</td><td>0.0</td><td>0.0</td><td>0</td><td>0</td><td>0</td><td>-0.0</td><td>-0.0</td><td>0</td><td>-100.0</td><td>0.0</td><td>0.0</td><td>0.0</td></tr><tr><th>15</th><td>0.0</td><td>15</td><td>0</td><td>0</td><td>0.923057</td><td>0</td><td>-100.0</td><td>0.0</td><td>0.0</td><td>0</td><td>0</td><td>0</td><td>-0.0</td><td>-0.0</td><td>0</td><td>-100.0</td><td>0.0</td><td>0.0</td><td>0.0</td></tr></tbody></table>"
      ],
      "text/latex": [
       "\\begin{tabular}{r|ccccccccccccccccccc}\n",
       "\t& objective & bus & gp & gq & voltage & alpha & lambda & pi & gamma & eta & delta\\_plus & delta\\_minus & mu\\_plus & mu\\_minus & voltvar & lambda\\_anc & rx\\_pi\\_i & rx\\_pi\\_a & r\\_sum\\_mu\\_d\\\\\n",
       "\t\\hline\n",
       "\t& Float64 & Any & Any & Any & Any & Any & Any & Any & Float64 & Any & Any & Any & Any & Any & Any & Any & Any & Any & Any\\\\\n",
       "\t\\hline\n",
       "\t1 & 399.29 & 1 & 3.8177 & 1.07126 & 1.0 & 0 & -100.0 & 0.0 & 0.0 & 0 & 0 & 0 & 0 & 0 & 0 & 0 & 0 & 0 & 0 \\\\\n",
       "\t2 & 0.0 & 2 & 0 & 0 & 0.915774 & 0 & -100.0 & -7.20018e-6 & 0.0 & 0 & 0 & 0 & -0.0 & -3.84094e-5 & 0 & -100.0 & -6.00015e-8 & 0.0 & 6.00015e-8 \\\\\n",
       "\t3 & 0.0 & 3 & 0 & 0 & 0.949578 & 0 & -100.0 & -5.07783e-6 & 0.0 & 0 & 0 & 0 & -2.51789e-7 & -1.51122e-6 & 0 & -100.0 & -3.55287e-6 & -5.03784e-6 & -1.48497e-6 \\\\\n",
       "\t4 & 0.0 & 4 & 0 & 0 & 1.00027 & 0 & -100.0 & -1.25314e-6 & 0.0 & 0 & 0 & 0 & -6.13942e-7 & -0.0 & 0 & -100.0 & -8.76815e-7 & -3.55294e-6 & -2.67613e-6 \\\\\n",
       "\t5 & 0.0 & 5 & 0 & 0 & 1.01009 & 0 & -100.0 & -9.36669e-7 & 0.0 & 0 & 0 & 0 & -7.81308e-7 & -3.25326e-7 & 0 & -100.0 & -6.55326e-7 & -8.76736e-7 & -2.21411e-7 \\\\\n",
       "\t6 & 0.0 & 6 & 0 & 0 & 1.02022 & 0 & -100.0 & -6.68596e-7 & 0.0 & 0 & 0 & 0 & -1.05106e-6 & -2.82462e-7 & 0 & -100.0 & -4.66152e-7 & -6.53056e-7 & -1.86904e-7 \\\\\n",
       "\t7 & 0.0 & 7 & 0.8 & -0.00323173 & 1.05305 & 0 & -100.0 & -3.86404e-8 & 0.0 & 0 & -89.0495 & -8.43607e-8 & -4.76745e-6 & -1.9593e-7 & 0 & -100.0 & -2.70315e-8 & -4.67726e-7 & -4.40694e-7 \\\\\n",
       "\t8 & 0.0 & 8 & 0 & 0 & 0.965763 & 0 & -100.0 & -9.90414e-7 & 0.0 & 0 & 0 & 0 & -0.0 & -7.79882e-7 & 0 & -100.0 & -6.93422e-7 & -6.11847e-7 & 8.15756e-8 \\\\\n",
       "\t9 & 0.0 & 9 & 0 & 0 & 0.997666 & 0 & -100.0 & -8.739e-7 & 0.0 & 0 & 0 & 0 & -6.07748e-7 & -0.0 & 0 & -100.0 & -6.11129e-7 & -8.76334e-7 & -2.65205e-7 \\\\\n",
       "\t10 & 0.0 & 10 & 0 & 0 & 1.00397 & 0 & -100.0 & -7.75796e-7 & 0.0 & 0 & 0 & 0 & -7.21969e-7 & -0.0 & 0 & -100.0 & -5.42515e-7 & -6.11119e-7 & -6.86036e-8 \\\\\n",
       "\t11 & 0.0 & 11 & 0 & 0 & 1.02206 & 0 & -100.0 & -5.8893e-7 & 0.0 & 0 & 0 & 0 & -1.31529e-6 & -2.56024e-7 & 0 & -100.0 & -4.11397e-7 & -5.41933e-7 & -1.30536e-7 \\\\\n",
       "\t12 & 0.0 & 12 & 0.8 & 0.0749762 & 1.03063 & 0 & -100.0 & -5.40121e-7 & 0.0 & 0 & -89.05 & -8.50901e-8 & -1.8779e-6 & -2.28947e-7 & 0 & -100.0 & -3.75895e-7 & -4.09863e-7 & -3.39683e-8 \\\\\n",
       "\t13 & 0.0 & 13 & 0 & 0 & 0.946901 & 0 & -100.0 & 0.0 & 0.0 & 0 & 0 & 0 & -0.0 & -0.0 & 0 & -100.0 & 0.0 & 0.0 & 0.0 \\\\\n",
       "\t14 & 0.0 & 14 & 0 & 0 & 0.931799 & 0 & -100.0 & 0.0 & 0.0 & 0 & 0 & 0 & -0.0 & -0.0 & 0 & -100.0 & 0.0 & 0.0 & 0.0 \\\\\n",
       "\t15 & 0.0 & 15 & 0 & 0 & 0.923057 & 0 & -100.0 & 0.0 & 0.0 & 0 & 0 & 0 & -0.0 & -0.0 & 0 & -100.0 & 0.0 & 0.0 & 0.0 \\\\\n",
       "\\end{tabular}\n"
      ],
      "text/plain": [
       "15×19 DataFrame. Omitted printing of 12 columns\n",
       "│ Row │ objective │ bus │ gp     │ gq          │ voltage  │ alpha │ lambda │\n",
       "│     │ \u001b[90mFloat64\u001b[39m   │ \u001b[90mAny\u001b[39m │ \u001b[90mAny\u001b[39m    │ \u001b[90mAny\u001b[39m         │ \u001b[90mAny\u001b[39m      │ \u001b[90mAny\u001b[39m   │ \u001b[90mAny\u001b[39m    │\n",
       "├─────┼───────────┼─────┼────────┼─────────────┼──────────┼───────┼────────┤\n",
       "│ 1   │ 399.29    │ 1   │ 3.8177 │ 1.07126     │ 1.0      │ 0     │ -100.0 │\n",
       "│ 2   │ 0.0       │ 2   │ 0      │ 0           │ 0.915774 │ 0     │ -100.0 │\n",
       "│ 3   │ 0.0       │ 3   │ 0      │ 0           │ 0.949578 │ 0     │ -100.0 │\n",
       "│ 4   │ 0.0       │ 4   │ 0      │ 0           │ 1.00027  │ 0     │ -100.0 │\n",
       "│ 5   │ 0.0       │ 5   │ 0      │ 0           │ 1.01009  │ 0     │ -100.0 │\n",
       "│ 6   │ 0.0       │ 6   │ 0      │ 0           │ 1.02022  │ 0     │ -100.0 │\n",
       "│ 7   │ 0.0       │ 7   │ 0.8    │ -0.00323173 │ 1.05305  │ 0     │ -100.0 │\n",
       "│ 8   │ 0.0       │ 8   │ 0      │ 0           │ 0.965763 │ 0     │ -100.0 │\n",
       "│ 9   │ 0.0       │ 9   │ 0      │ 0           │ 0.997666 │ 0     │ -100.0 │\n",
       "│ 10  │ 0.0       │ 10  │ 0      │ 0           │ 1.00397  │ 0     │ -100.0 │\n",
       "│ 11  │ 0.0       │ 11  │ 0      │ 0           │ 1.02206  │ 0     │ -100.0 │\n",
       "│ 12  │ 0.0       │ 12  │ 0.8    │ 0.0749762   │ 1.03063  │ 0     │ -100.0 │\n",
       "│ 13  │ 0.0       │ 13  │ 0      │ 0           │ 0.946901 │ 0     │ -100.0 │\n",
       "│ 14  │ 0.0       │ 14  │ 0      │ 0           │ 0.931799 │ 0     │ -100.0 │\n",
       "│ 15  │ 0.0       │ 15  │ 0      │ 0           │ 0.923057 │ 0     │ -100.0 │"
      ]
     },
     "metadata": {},
     "output_type": "display_data"
    }
   ],
   "source": [
    "experiment3 = Dict()\n",
    "\n",
    "# Load feeder data \n",
    "feeder = load_feeder(\"data/feeder_data/basecase_noneg/\")\n",
    "\n",
    "# Set up\n",
    "relative_std = 0.2\n",
    "loads = [b.d_P for b in feeder.buses]\n",
    "std_vec = loads .* relative_std\n",
    "var_vec = std_vec.^2\n",
    "Σ = diagm(0 => var_vec)\n",
    "\n",
    "# ex3_general_settings\n",
    "ex3_general_settings = Dict(\n",
    "    \"var_vec\" => var_vec,\n",
    "    \"Σ\" => Σ,\n",
    "    \"z_g\" => 1.945,\n",
    "    \"z_v\" => 2.576,\n",
    "    \"toggle_volt_cc\" => false,\n",
    "    \"toggle_gen_cc\" => false,\n",
    "    \"vfac\" => 0, # decrease upper bound by factor (1-vfac) and increase lower bound by (1+vfac)\n",
    "    \"qcfac\" => 1,\n",
    "    \"output_level\" => 0,\n",
    "    \"Ψ\" => 0,\n",
    "    \"loadfac\" => 3\n",
    ")\n",
    "\n",
    "# ex3_no_uncert:\n",
    "ex3_no_uncert_settings = copy(ex3_general_settings)\n",
    "ex3_no_uncert_settings[\"toggle_volt_cc\"] = false\n",
    "ex3_no_uncert_settings[\"toggle_gen_cc\"] = false\n",
    "\n",
    "experiment3[\"no_uncert\"] = Dict(\n",
    "    \"verbose\" => \"ex3_no_uncert\",\n",
    "    \"feeder\" => feeder,\n",
    "    \"settings\" => ex3_no_uncert_settings,\n",
    ")\n",
    "\n",
    "# ex3_uncert:\n",
    "ex3_uncert_settings = copy(ex3_general_settings)\n",
    "ex3_uncert_settings[\"toggle_volt_cc\"] = true\n",
    "ex3_uncert_settings[\"toggle_gen_cc\"] = true\n",
    "experiment3[\"uncert\"] = Dict(\n",
    "    \"verbose\" => \"ex3_uncert\",\n",
    "    \"feeder\" => feeder,\n",
    "    \"settings\" => ex3_uncert_settings,\n",
    ")\n",
    "\n",
    "# ex3_gen_uncert:\n",
    "ex3_uncert_settings = copy(ex3_general_settings)\n",
    "ex3_uncert_settings[\"toggle_volt_cc\"] = false\n",
    "ex3_uncert_settings[\"toggle_gen_cc\"] = true\n",
    "experiment3[\"gen_uncert\"] = Dict(\n",
    "    \"verbose\" => \"ex3_gen_uncert\",\n",
    "    \"feeder\" => feeder,\n",
    "    \"settings\" => ex3_uncert_settings,\n",
    ")\n",
    "\n",
    "# Run \n",
    "experiment3 = run_experiment(experiment3)\n",
    "\n",
    "# Show results\n",
    "sleep(.2) # just to ensure correct printing order\n",
    "for case in keys(experiment3)\n",
    "    print(\">>> Case $case\")\n",
    "    sleep(.2)\n",
    "    display(experiment3[case][\"results\"])\n",
    "end"
   ]
  },
  {
   "cell_type": "markdown",
   "metadata": {},
   "source": [
    "## Experiment 4\n",
    "\n",
    "- Instead of uncertain load uncontrollable vs. controllable DERs\n",
    "- Maybe better in the 33-bus system?"
   ]
  },
  {
   "cell_type": "code",
   "execution_count": null,
   "metadata": {},
   "outputs": [],
   "source": []
  },
  {
   "cell_type": "markdown",
   "metadata": {},
   "source": [
    "## Prototyping Space"
   ]
  },
  {
   "cell_type": "code",
   "execution_count": 124,
   "metadata": {},
   "outputs": [
    {
     "data": {
      "text/plain": [
       "15-element Array{Any,1}:\n",
       " -7.205953103912941     \n",
       " -7.206062392432603     \n",
       " -8.414541366815063     \n",
       " -8.414580810945816     \n",
       " -6.937927467672224     \n",
       " -6.93791763606441      \n",
       " -6.937905206646532     \n",
       " -2.4250666387669306e-5 \n",
       " -1.476600361745382     \n",
       " -1.4765493195107668    \n",
       " -1.4765406443863434    \n",
       " -1.4764544415890568    \n",
       "  0.00010928851966197678\n",
       "  0.00010889073586762795\n",
       "  4.2411773376212617e-5 "
      ]
     },
     "execution_count": 124,
     "metadata": {},
     "output_type": "execute_result"
    }
   ],
   "source": [
    "results = experiment2[\"uncert\"][\"results\"]\n",
    "feeder = experiment2[\"uncert\"][\"feeder\"]\n",
    "results[results[:bus] .== 3, :lambda][1]\n",
    "\n",
    "\n",
    "\n",
    "# lambda_a = []\n",
    "# rx_pi = []\n",
    "# rx_pi_a = []\n",
    "\n",
    "# for bus in feeder.buses\n",
    "#     if bus.is_root\n",
    "#         push!(lambda_a, 0)\n",
    "#         push!(rx_pi, 0)\n",
    "#         push!(rx_pi_a, 0)\n",
    "#     else\n",
    "#         anc = bus.ancestor\n",
    "#         cs = bus.children\n",
    "#         push!(lambda_a, results[results[:bus] .== anc, :lambda][1])\n",
    "        \n",
    "#         pi_i =  results[results[:bus] .== bus.index, :pi][1]\n",
    "#         push!(rx_pi, pi_i * feeder.line_to[bus.index].r / feeder.line_to[bus.index].x)\n",
    "        \n",
    "#         pi_a = pi_i =  results[results[:bus] .== anc, :pi][1]\n",
    "#         push!(rx_pi_a, pi_a * feeder.line_to[bus.index].r / feeder.line_to[bus.index].x)\n",
    "#     end\n",
    "# end\n",
    "\n",
    "\n",
    "r_sum_mu_d = []\n",
    "\n",
    "for bus in feeder.buses\n",
    "    downstream = traverse(feeder, bus.index)\n",
    "    downstream = setdiff(downstream, [feeder.root_bus])\n",
    "    v = 2*sum(feeder.line_to[d].r * (results[results[:bus] .== d, :mu_plus][1] - results[results[:bus] .== d, :mu_minus][1]) for d in downstream)\n",
    "    push!(r_sum_mu_d, v)\n",
    "end\n",
    "    \n",
    "r_sum_mu_d\n"
   ]
  },
  {
   "cell_type": "code",
   "execution_count": 120,
   "metadata": {},
   "outputs": [
    {
     "data": {
      "text/plain": [
       "traverse (generic function with 2 methods)"
      ]
     },
     "execution_count": 120,
     "metadata": {},
     "output_type": "execute_result"
    }
   ],
   "source": [
    "function traverse(feeder, bus_idx; nodes=[])\n",
    "    push!(nodes, bus_idx)\n",
    "    if length(feeder.buses[bus_idx].children) > 0\n",
    "        for c in feeder.buses[bus_idx].children\n",
    "            nodes = traverse(feeder, c, nodes=nodes)\n",
    "        end\n",
    "    end\n",
    "    return nodes \n",
    "end"
   ]
  },
  {
   "cell_type": "code",
   "execution_count": 121,
   "metadata": {},
   "outputs": [
    {
     "data": {
      "text/plain": [
       "5-element Array{Any,1}:\n",
       "  9\n",
       "  8\n",
       " 10\n",
       " 11\n",
       " 12"
      ]
     },
     "execution_count": 121,
     "metadata": {},
     "output_type": "execute_result"
    }
   ],
   "source": [
    "traverse(feeder, 9)"
   ]
  },
  {
   "cell_type": "code",
   "execution_count": 23,
   "metadata": {},
   "outputs": [
    {
     "data": {
      "text/plain": [
       "3-element Array{Generator,1}:\n",
       " Generator(\"g1\", 1, 1000.0, 1000.0, 50.0, 1000.0)\n",
       " Generator(\"g2\", 12, 0.8, 0.4, 10.0, 5.0)        \n",
       " Generator(\"g3\", 7, 0.8, 0.4, 10.0, 5.0)         "
      ]
     },
     "execution_count": 23,
     "metadata": {},
     "output_type": "execute_result"
    }
   ],
   "source": [
    "feeder.generators"
   ]
  },
  {
   "cell_type": "code",
   "execution_count": null,
   "metadata": {},
   "outputs": [],
   "source": [
    "# datadir = (\"data/feeder_data/basecase_noneg/\")\n",
    "datadir = (\"data/feeder_data/basecase_lv_noneg/\")\n",
    "# datadir = (\"data/feeder_data/feeder141/\")\n",
    "# datadir = (\"data/feeder_data/feeder141_lv/\")\n",
    "\n",
    "feeder = load_feeder(datadir);"
   ]
  },
  {
   "cell_type": "code",
   "execution_count": null,
   "metadata": {},
   "outputs": [],
   "source": []
  },
  {
   "cell_type": "code",
   "execution_count": null,
   "metadata": {},
   "outputs": [],
   "source": [
    "mu = results_df[:mu_plus] .+ results_df[:mu_minus]\n",
    "mu = mu[2:end]\n",
    "\n",
    "b = 1 ./ diag(C)\n",
    "b = [(x == Inf ? 0 : x) for x in b]\n",
    "\n",
    "g3 = 2*s*z*e'*R'*mu/sum(b)\n",
    "\n",
    "g1 = s^2/sum(b) \n",
    "\n",
    "delta = results_df[:delta_plus] .+ results_df[:delta_minus]\n",
    "detlta = delta[2:end]\n",
    "g2 = sum(delta.*b)/sum(b)\n",
    "\n",
    "g = -g1 - g2 + g3\n"
   ]
  },
  {
   "cell_type": "code",
   "execution_count": null,
   "metadata": {},
   "outputs": [],
   "source": [
    "saveres = results_df"
   ]
  },
  {
   "cell_type": "code",
   "execution_count": null,
   "metadata": {},
   "outputs": [],
   "source": [
    "CSV.write(\"figures/results_uncert.csv\", results_df)"
   ]
  },
  {
   "cell_type": "code",
   "execution_count": null,
   "metadata": {},
   "outputs": [],
   "source": [
    "shadow_price(m[:δp][12])"
   ]
  },
  {
   "cell_type": "code",
   "execution_count": null,
   "metadata": {},
   "outputs": [],
   "source": [
    "m.dictList"
   ]
  },
  {
   "cell_type": "code",
   "execution_count": 20,
   "metadata": {},
   "outputs": [
    {
     "data": {
      "text/plain": [
       "2×2 Array{Int64,2}:\n",
       " 1  2\n",
       " 3  4"
      ]
     },
     "execution_count": 20,
     "metadata": {},
     "output_type": "execute_result"
    }
   ],
   "source": [
    "A = [1 2; 3 4]"
   ]
  },
  {
   "cell_type": "code",
   "execution_count": 31,
   "metadata": {},
   "outputs": [
    {
     "ename": "MethodError",
     "evalue": "MethodError: objects of type Array{Bus,1} are not callable\nUse square brackets [] for indexing an Array.",
     "output_type": "error",
     "traceback": [
      "MethodError: objects of type Array{Bus,1} are not callable\nUse square brackets [] for indexing an Array.",
      "",
      "Stacktrace:",
      " [1] top-level scope at In[31]:1"
     ]
    }
   ],
   "source": [
    "feeder.buses()"
   ]
  },
  {
   "cell_type": "code",
   "execution_count": 144,
   "metadata": {},
   "outputs": [
    {
     "data": {
      "text/plain": [
       "\"190318_1923\""
      ]
     },
     "execution_count": 144,
     "metadata": {},
     "output_type": "execute_result"
    }
   ],
   "source": [
    "\n",
    "Dates.format(Dates.now(), \"yymmdd_HHMM\")"
   ]
  },
  {
   "cell_type": "code",
   "execution_count": null,
   "metadata": {},
   "outputs": [],
   "source": []
  }
 ],
 "metadata": {
  "hide_code_all_hidden": false,
  "kernelspec": {
   "display_name": "Julia 1.1.0",
   "language": "julia",
   "name": "julia-1.1"
  },
  "language_info": {
   "file_extension": ".jl",
   "mimetype": "application/julia",
   "name": "julia",
   "version": "1.1.0"
  },
  "varInspector": {
   "cols": {
    "lenName": 16,
    "lenType": 16,
    "lenVar": 40
   },
   "kernels_config": {
    "python": {
     "delete_cmd_postfix": "",
     "delete_cmd_prefix": "del ",
     "library": "var_list.py",
     "varRefreshCmd": "print(var_dic_list())"
    },
    "r": {
     "delete_cmd_postfix": ") ",
     "delete_cmd_prefix": "rm(",
     "library": "var_list.r",
     "varRefreshCmd": "cat(var_dic_list()) "
    }
   },
   "types_to_exclude": [
    "module",
    "function",
    "builtin_function_or_method",
    "instance",
    "_Feature"
   ],
   "window_display": false
  }
 },
 "nbformat": 4,
 "nbformat_minor": 2
}
