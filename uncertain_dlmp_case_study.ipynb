{
 "cells": [
  {
   "cell_type": "markdown",
   "metadata": {},
   "source": [
    "# Case Study Model\n",
    "\n",
    "This notebook shows the case study results supplement to the paper \"*Distribution Electricity Pricing under Uncertainty*\" by Robert Mieth and Yury Dvorkin\n",
    "\n",
    "## General Remarks\n",
    "\n",
    "- Framework\n",
    "    - Requires Julia 1.1.\n",
    "    - All necessary packages with their respective versions are indicated in the Julia project/manifest files \n",
    "    - The necessary packages are automatically installed *within the environment of this project*, i.e. executing this notebook will have no effect on globally installed packages and versions of your Julia distribution\n",
    "\n",
    "\n",
    "- Reverse Power Flow / Cost at substation\n",
    "    - If the negative generation limit at the substation is not enforced, then substation has the option of pushing energy back towards the transmission system (reverse power flow)\n",
    "    - We make the follwoing assumptions: \n",
    "        - reverse power flow is allowed at the substation \n",
    "        - for scheduled negative active power the substation is remunerated according to the market price (i.e. linear cost of energy provision at the substation) -> the substation has a linear cost function \n",
    "        - While the cost function will not have a quadratic termn, THERE WILL BE a penalty on $\\alpha_0$ as it indicates how much the substation is willing to deviate from the schedule\n",
    "        \n",
    "- Implementational Notes\n",
    "    - cost function of all generators in this implementation follows the form c_2\\*g^2 + c_1\\*g + c_0 \n",
    "    - Quadratic objective has been reformulated in a linear objective with second-order cone constraint. The quantiative values are identical, see `model_definition.jl` for details"
   ]
  },
  {
   "cell_type": "markdown",
   "metadata": {},
   "source": [
    "## Notebook Set-Up and Packages"
   ]
  },
  {
   "cell_type": "code",
   "execution_count": 1,
   "metadata": {},
   "outputs": [
    {
     "data": {
      "text/html": [
       "<style>.container { width:80% !important; }</style>"
      ]
     },
     "metadata": {},
     "output_type": "display_data"
    }
   ],
   "source": [
    "# increase the width of the notebook to improve result table visibility\n",
    "display(\"text/html\", \"<style>.container { width:80% !important; }</style>\")"
   ]
  },
  {
   "cell_type": "code",
   "execution_count": 3,
   "metadata": {
    "hideCode": false,
    "hidePrompt": false
   },
   "outputs": [
    {
     "name": "stdout",
     "output_type": "stream",
     "text": [
      "\u001b[32m\u001b[1m  Updating\u001b[22m\u001b[39m registry at `C:\\Users\\Robert\\.julia\\registries\\General`\n",
      "\u001b[32m\u001b[1m  Updating\u001b[22m\u001b[39m git-repo `https://github.com/JuliaRegistries/General.git`\n",
      "\u001b[?25l\u001b[2K\u001b[?25h"
     ]
    }
   ],
   "source": [
    "# Set up environment from .toml-files\n",
    "import Pkg\n",
    "Pkg.activate(\".\")\n",
    "Pkg.instantiate() # This line can be deactivated after first run to speed up the process\n",
    "\n",
    "# Load necessary packages\n",
    "using DataFrames, CSV, LinearAlgebra, Dates # Basic Julia utility\n",
    "using JLD, HDF5 # For saving the parameters \n",
    "using JuMP # Modeling Framework\n",
    "using Mosek, MosekTools # Solver and Solver-Environment\n",
    "using Logging # For some warnings in the functions\n",
    "\n",
    "# Load functions and model\n",
    "include(\"src/tools.jl\") # Some additional functions\n",
    "include(\"src/input.jl\") # Type definitions and read-in functions\n",
    "include(\"src/model_definition.jl\") # Model definiton\n",
    "include(\"src/output.jl\") # Postprocessing of solved model\n",
    ";"
   ]
  },
  {
   "cell_type": "markdown",
   "metadata": {},
   "source": [
    "# 15Bus Case\n",
    "\n",
    "- 15 bus test feeder from \"Analysis of distribution locational marginal prices\" (IEEE TSG 2018) by Anthony Papavasilou\n",
    "        \n",
    "- Assumptions for all cases except mentioned differently\n",
    "    - \n",
    "    - Two DERs one each at node 6 and 11 with `c1 = 10`, `c2 = 5`, `p_max = 1`, `q_max = 0.5`\n",
    "    - No reverse power flow limit on substation\n",
    "    - Substation pays `c1 = 50` for energy provision from the transmission network (no quadratic term) and a penalty of `200` on alpha to discourage high alpha\n",
    "    - All nodes have 20% standard deviation of their forecasted load\n",
    "    - Lines 2 and 3 have double the thermal capacity"
   ]
  },
  {
   "cell_type": "markdown",
   "metadata": {},
   "source": [
    "## Experiment definition\n",
    "\n",
    "- Tag: `experiment_15b`\n",
    "\n",
    "- Runs:\n",
    "    - `no_uncert`: deterministic case (det)\n",
    "    - `uncert`: case with uncertainty (VOLT_CC)\n",
    "    - `gen_uncert`: chance constraints only in generation (GEN_CC)\n",
    "\n"
   ]
  },
  {
   "cell_type": "code",
   "execution_count": 10,
   "metadata": {},
   "outputs": [
    {
     "name": "stdout",
     "output_type": "stream",
     "text": [
      ">>>>> Reading feeder data from data/feeder_data/feeder15/\n",
      "Running uncert\n",
      ">>>> Building Model\n",
      ">>>> Running Model\n",
      "MOSEK warning 705: #3 (nearly) zero elements are specified in sparse row ''(86) of matrix 'A'.\n",
      "MOSEK warning 705: #4 (nearly) zero elements are specified in sparse row ''(92) of matrix 'A'.\n",
      ">>>> Model finished with status OPTIMAL in 0.014609778 seconds\n",
      ">>>> Post-Processing\n",
      "\n",
      "Running gen_uncert\n",
      ">>>> Building Model\n",
      ">>>> Running Model\n",
      ">>>> Model finished with status OPTIMAL in 0.007189333 seconds\n",
      ">>>> Post-Processing\n",
      "\n",
      "Running no_uncert\n",
      ">>>> Building Model\n",
      ">>>> Running Model\n",
      ">>>> Model finished with status OPTIMAL in 0.004408889 seconds\n",
      ">>>> Post-Processing\n",
      "\n"
     ]
    }
   ],
   "source": [
    "experiment_15b = Dict()\n",
    "\n",
    "# Load feeder data \n",
    "feeder = load_feeder(\"data/feeder_data/feeder15/\")\n",
    "\n",
    "# Set up\n",
    "relative_std = 0.2\n",
    "loads = [b.d_P for b in feeder.buses]\n",
    "std_vec = abs.(loads) .* relative_std\n",
    "var_vec = std_vec.^2\n",
    "Σ = diagm(0 => var_vec)\n",
    "\n",
    "# ex15b_general_settings\n",
    "ex15b_general_settings = Dict(\n",
    "    \"var_vec\" => var_vec,\n",
    "    \"Σ\" => Σ,\n",
    "    \"z_g\" => 1.945, # 95% quantile\n",
    "    \"z_v\" => 2.576, # 99% quantile\n",
    "    \"z_f\" => 2.576, # 99% quantile\n",
    "    \"toggle_volt_cc\" => false,\n",
    "    \"toggle_gen_cc\" => false,\n",
    "    \"toggle_thermal_cc\" => false,\n",
    "    \"thermal_const_method\" => 2, #1=soc, 2=inner approx\n",
    "    \"vfac\" => 0, # directly sets symetric voltage limit to min:(1-vfac) max:(1+vfac), use import values if vfac=0\n",
    "    \"qcfac\" => 1,\n",
    "    \"output_level\" => 0,\n",
    "    \"Ψ\" => 0,\n",
    ")\n",
    "\n",
    "# ex15b_no_uncert:\n",
    "ex15b_no_uncert_settings = copy(ex15b_general_settings)\n",
    "ex15b_no_uncert_settings[\"toggle_volt_cc\"] = false\n",
    "ex15b_no_uncert_settings[\"toggle_gen_cc\"] = false\n",
    "ex15b_no_uncert_settings[\"toggle_thermal_cc\"] = false\n",
    "\n",
    "experiment_15b[\"no_uncert\"] = Dict(\n",
    "    \"verbose\" => \"no_uncert\",\n",
    "    \"feeder\" => feeder,\n",
    "    \"settings\" => ex15b_no_uncert_settings,\n",
    ")\n",
    "\n",
    "# ex15b_uncert:\n",
    "ex15b_uncert_settings = copy(ex15b_general_settings)\n",
    "ex15b_uncert_settings[\"toggle_volt_cc\"] = true\n",
    "ex15b_uncert_settings[\"toggle_gen_cc\"] = true\n",
    "ex15b_uncert_settings[\"toggle_thermal_cc\"] = false\n",
    "experiment_15b[\"uncert\"] = Dict(\n",
    "    \"verbose\" => \"uncert\",\n",
    "    \"feeder\" => feeder,\n",
    "    \"settings\" => ex15b_uncert_settings,\n",
    ")\n",
    "\n",
    "# ex15b_gen_uncert:\n",
    "ex15b_gen_uncert_settings = copy(ex15b_general_settings)\n",
    "ex15b_gen_uncert_settings[\"toggle_volt_cc\"] = false\n",
    "ex15b_gen_uncert_settings[\"toggle_gen_cc\"] = true\n",
    "ex15b_gen_uncert_settings[\"toggle_thermal_cc\"] = false\n",
    "experiment_15b[\"gen_uncert\"] = Dict(\n",
    "    \"verbose\" => \"gen_uncert\",\n",
    "    \"feeder\" => feeder,\n",
    "    \"settings\" => ex15b_gen_uncert_settings,\n",
    ")\n",
    "\n",
    "# Run \n",
    "experiment_15b = run_experiment(experiment_15b)\n",
    ";"
   ]
  },
  {
   "cell_type": "markdown",
   "metadata": {},
   "source": [
    "## Results"
   ]
  },
  {
   "cell_type": "code",
   "execution_count": 5,
   "metadata": {},
   "outputs": [
    {
     "data": {
      "text/html": [
       "<table class=\"data-frame\"><thead><tr><th></th><th>objective</th><th>bus</th><th>gp</th><th>gq</th><th>voltage</th><th>fp</th><th>fq</th><th>alpha</th><th>lambda</th><th>pi</th><th>gamma</th><th>rho</th><th>nu</th><th>delta_plus</th><th>delta_minus</th><th>mu_plus</th><th>mu_minus</th><th>eta_plus</th><th>eta_minus</th><th>eta_aP</th><th>eta_aQ</th><th>voltvar</th><th>lambda_anc</th><th>rx_pi_i</th><th>rx_pi_a</th><th>rx_etaQ</th><th>r_sum_mu_d</th><th>nu_calc</th></tr><tr><th></th><th>Float64</th><th>Any</th><th>Any</th><th>Any</th><th>Any</th><th>Any</th><th>Any</th><th>Any</th><th>Any</th><th>Any</th><th>Float64</th><th>Any</th><th>Any</th><th>Any</th><th>Any</th><th>Any</th><th>Any</th><th>Any</th><th>Any</th><th>Any</th><th>Any</th><th>Any</th><th>Any</th><th>Any</th><th>Any</th><th>Any</th><th>Any</th><th>Any</th></tr></thead><tbody><p>15 rows × 28 columns</p><tr><th>1</th><td>61.5275</td><td>1</td><td>1.1833</td><td>0.3237</td><td>1.0</td><td>0</td><td>0</td><td>0</td><td>-50.0</td><td>-1.3543e-9</td><td>0.0</td><td>0</td><td>0</td><td>0</td><td>0</td><td>0</td><td>0</td><td>0</td><td>0</td><td>0</td><td>0</td><td>0</td><td>0</td><td>0</td><td>0</td><td>0</td><td>0</td><td>0</td></tr><tr><th>2</th><td>0.0</td><td>2</td><td>0</td><td>0</td><td>0.976936</td><td>0.5376</td><td>0.1855</td><td>0</td><td>-50.0</td><td>-1.98615e-7</td><td>0.0</td><td>0</td><td>0</td><td>0</td><td>0</td><td>-9.30013e-8</td><td>-1.68856e-7</td><td>0.0</td><td>0</td><td>0.0</td><td>0.0</td><td>0</td><td>-50.0</td><td>-1.65512e-9</td><td>-1.12858e-11</td><td>0.0</td><td>-1.66641e-9</td><td>0</td></tr><tr><th>3</th><td>0.0</td><td>3</td><td>0</td><td>0</td><td>0.999807</td><td>-0.256</td><td>1.95709e-11</td><td>0</td><td>-30.1628</td><td>-5.3144</td><td>0.0</td><td>0</td><td>0</td><td>0</td><td>0</td><td>-1.16915e-7</td><td>-1.30033e-7</td><td>-19.8372</td><td>0</td><td>19.8372</td><td>-5.3144</td><td>0</td><td>-50.0</td><td>-3.71839</td><td>-1.38967e-7</td><td>-3.71839</td><td>-1.6054e-7</td><td>0</td></tr><tr><th>4</th><td>0.0</td><td>4</td><td>0</td><td>0</td><td>1.03464</td><td>-0.256</td><td>1.95709e-11</td><td>0</td><td>-10.3255</td><td>-2.54011e-8</td><td>0.0</td><td>0</td><td>0</td><td>0</td><td>0</td><td>-1.78992e-7</td><td>-9.52812e-8</td><td>-19.8372</td><td>0</td><td>19.8372</td><td>5.3144</td><td>0</td><td>-30.1628</td><td>-1.77731e-8</td><td>-3.71847</td><td>3.71847</td><td>-2.55259e-7</td><td>0</td></tr><tr><th>5</th><td>0.0</td><td>5</td><td>0</td><td>0</td><td>1.0357</td><td>-0.0460628</td><td>-0.00820303</td><td>0</td><td>-10.3255</td><td>-1.03056e-8</td><td>0.0</td><td>0</td><td>0</td><td>0</td><td>0</td><td>-1.8256e-7</td><td>-9.42453e-8</td><td>-2.41589e-7</td><td>0</td><td>-1.07809e-7</td><td>-5.21328e-8</td><td>0</td><td>-10.3255</td><td>-7.21015e-9</td><td>-1.77715e-8</td><td>-3.64739e-8</td><td>-1.14922e-8</td><td>0</td></tr><tr><th>6</th><td>0.0</td><td>6</td><td>0</td><td>0</td><td>1.03708</td><td>-0.0633628</td><td>-0.012503</td><td>0</td><td>-10.3255</td><td>-3.63395e-10</td><td>0.0</td><td>0</td><td>0</td><td>0</td><td>0</td><td>-1.87093e-7</td><td>-9.30231e-8</td><td>0.0</td><td>0</td><td>0.0</td><td>0.0</td><td>0</td><td>-10.3255</td><td>-2.53363e-10</td><td>-7.18518e-9</td><td>0.0</td><td>-7.43855e-9</td><td>0</td></tr><tr><th>7</th><td>0.0</td><td>7</td><td>0.114363</td><td>0.025303</td><td>1.04267</td><td>-0.0924628</td><td>-0.019803</td><td>0</td><td>-10.3255</td><td>-5.7619e-8</td><td>0.0</td><td>0</td><td>0</td><td>0.0</td><td>-1.97491e-7</td><td>-2.07035e-7</td><td>-8.85744e-8</td><td>-7.55592e-7</td><td>0</td><td>5.94469e-7</td><td>4.09317e-8</td><td>0</td><td>-10.3255</td><td>-4.03082e-8</td><td>-2.54219e-10</td><td>2.86344e-8</td><td>-1.14196e-8</td><td>0</td></tr><tr><th>8</th><td>0.0</td><td>8</td><td>0</td><td>0</td><td>1.05334</td><td>-0.1969</td><td>0.0019</td><td>0</td><td>-10.3255</td><td>-1.14614e-7</td><td>0.0</td><td>0</td><td>0</td><td>0</td><td>0</td><td>-2.46517e-7</td><td>0.0</td><td>0.0</td><td>0</td><td>0.0</td><td>0.0</td><td>0</td><td>-10.3255</td><td>-8.02453e-8</td><td>-5.44596e-8</td><td>0.0</td><td>-2.57857e-8</td><td>0</td></tr><tr><th>9</th><td>0.0</td><td>9</td><td>0</td><td>0</td><td>1.04366</td><td>-0.230037</td><td>-0.000196966</td><td>0</td><td>-10.3255</td><td>-7.77846e-8</td><td>0.0</td><td>0</td><td>0</td><td>0</td><td>0</td><td>0.0</td><td>-8.92158e-8</td><td>-1.67111e-6</td><td>0</td><td>1.48677e-6</td><td>-1.01958e-8</td><td>0</td><td>-10.3255</td><td>-5.43958e-8</td><td>-1.77633e-8</td><td>-7.13006e-9</td><td>-4.37625e-8</td><td>0</td></tr><tr><th>10</th><td>0.0</td><td>10</td><td>0</td><td>0</td><td>1.04431</td><td>-0.0566372</td><td>-0.00799697</td><td>0</td><td>-10.3255</td><td>-6.32871e-8</td><td>0.0</td><td>0</td><td>0</td><td>0</td><td>0</td><td>-2.0703e-7</td><td>-8.88778e-8</td><td>-1.51949e-7</td><td>0</td><td>-8.57401e-8</td><td>-1.51949e-7</td><td>0</td><td>-10.3255</td><td>-4.42567e-8</td><td>-5.43948e-8</td><td>-1.06258e-7</td><td>-7.60642e-9</td><td>0</td></tr><tr><th>11</th><td>0.0</td><td>11</td><td>0</td><td>0</td><td>1.04688</td><td>-0.0795372</td><td>-0.022197</td><td>0</td><td>-10.3255</td><td>-4.51975e-8</td><td>0.0</td><td>0</td><td>0</td><td>0</td><td>0</td><td>-2.15541e-7</td><td>-8.74155e-8</td><td>0.0</td><td>0</td><td>0.0</td><td>0.0</td><td>0</td><td>-10.3255</td><td>-3.15727e-8</td><td>-4.42093e-8</td><td>0.0</td><td>-1.26366e-8</td><td>0</td></tr><tr><th>12</th><td>0.0</td><td>12</td><td>0.114437</td><td>0.031997</td><td>1.04828</td><td>-0.101237</td><td>-0.028697</td><td>0</td><td>-10.3255</td><td>-5.71028e-8</td><td>0.0</td><td>0</td><td>0</td><td>0.0</td><td>-2.44279e-7</td><td>-2.2065e-7</td><td>-8.66068e-8</td><td>-9.83326e-8</td><td>0</td><td>-2.63433e-8</td><td>9.83326e-8</td><td>0</td><td>-10.3255</td><td>-3.97404e-8</td><td>-3.1455e-8</td><td>6.84341e-8</td><td>-2.76129e-9</td><td>0</td></tr><tr><th>13</th><td>0.0</td><td>13</td><td>0</td><td>0</td><td>0.982619</td><td>0.6457</td><td>0.1382</td><td>0</td><td>-50.0</td><td>-1.3543e-9</td><td>0.0</td><td>0</td><td>0</td><td>0</td><td>0</td><td>0.0</td><td>0.0</td><td>0.0</td><td>0</td><td>0.0</td><td>0.0</td><td>0</td><td>-50.0</td><td>-1.12858e-11</td><td>-1.12858e-11</td><td>0.0</td><td>0.0</td><td>0</td></tr><tr><th>14</th><td>0.0</td><td>14</td><td>0</td><td>0</td><td>0.977795</td><td>0.0238</td><td>0.0091</td><td>0</td><td>-50.0</td><td>-1.3543e-9</td><td>0.0</td><td>0</td><td>0</td><td>0</td><td>0</td><td>0.0</td><td>0.0</td><td>0.0</td><td>0</td><td>0.0</td><td>0.0</td><td>0</td><td>-50.0</td><td>-1.88682e-9</td><td>-1.88682e-9</td><td>0.0</td><td>0.0</td><td>0</td></tr><tr><th>15</th><td>0.0</td><td>15</td><td>0</td><td>0</td><td>0.975027</td><td>0.0224</td><td>0.0083</td><td>0</td><td>-50.0</td><td>-1.3543e-9</td><td>0.0</td><td>0</td><td>0</td><td>0</td><td>0</td><td>0.0</td><td>0.0</td><td>0.0</td><td>0</td><td>0.0</td><td>0.0</td><td>0</td><td>-50.0</td><td>-1.88691e-9</td><td>-1.88691e-9</td><td>0.0</td><td>0.0</td><td>0</td></tr></tbody></table>"
      ],
      "text/latex": [
       "\\begin{tabular}{r|cccccccccccccccccccccccccccc}\n",
       "\t& objective & bus & gp & gq & voltage & fp & fq & alpha & lambda & pi & gamma & rho & nu & delta\\_plus & delta\\_minus & mu\\_plus & mu\\_minus & eta\\_plus & eta\\_minus & eta\\_aP & eta\\_aQ & voltvar & lambda\\_anc & rx\\_pi\\_i & rx\\_pi\\_a & rx\\_etaQ & r\\_sum\\_mu\\_d & nu\\_calc\\\\\n",
       "\t\\hline\n",
       "\t& Float64 & Any & Any & Any & Any & Any & Any & Any & Any & Any & Float64 & Any & Any & Any & Any & Any & Any & Any & Any & Any & Any & Any & Any & Any & Any & Any & Any & Any\\\\\n",
       "\t\\hline\n",
       "\t1 & 61.5275 & 1 & 1.1833 & 0.3237 & 1.0 & 0 & 0 & 0 & -50.0 & -1.3543e-9 & 0.0 & 0 & 0 & 0 & 0 & 0 & 0 & 0 & 0 & 0 & 0 & 0 & 0 & 0 & 0 & 0 & 0 & 0 \\\\\n",
       "\t2 & 0.0 & 2 & 0 & 0 & 0.976936 & 0.5376 & 0.1855 & 0 & -50.0 & -1.98615e-7 & 0.0 & 0 & 0 & 0 & 0 & -9.30013e-8 & -1.68856e-7 & 0.0 & 0 & 0.0 & 0.0 & 0 & -50.0 & -1.65512e-9 & -1.12858e-11 & 0.0 & -1.66641e-9 & 0 \\\\\n",
       "\t3 & 0.0 & 3 & 0 & 0 & 0.999807 & -0.256 & 1.95709e-11 & 0 & -30.1628 & -5.3144 & 0.0 & 0 & 0 & 0 & 0 & -1.16915e-7 & -1.30033e-7 & -19.8372 & 0 & 19.8372 & -5.3144 & 0 & -50.0 & -3.71839 & -1.38967e-7 & -3.71839 & -1.6054e-7 & 0 \\\\\n",
       "\t4 & 0.0 & 4 & 0 & 0 & 1.03464 & -0.256 & 1.95709e-11 & 0 & -10.3255 & -2.54011e-8 & 0.0 & 0 & 0 & 0 & 0 & -1.78992e-7 & -9.52812e-8 & -19.8372 & 0 & 19.8372 & 5.3144 & 0 & -30.1628 & -1.77731e-8 & -3.71847 & 3.71847 & -2.55259e-7 & 0 \\\\\n",
       "\t5 & 0.0 & 5 & 0 & 0 & 1.0357 & -0.0460628 & -0.00820303 & 0 & -10.3255 & -1.03056e-8 & 0.0 & 0 & 0 & 0 & 0 & -1.8256e-7 & -9.42453e-8 & -2.41589e-7 & 0 & -1.07809e-7 & -5.21328e-8 & 0 & -10.3255 & -7.21015e-9 & -1.77715e-8 & -3.64739e-8 & -1.14922e-8 & 0 \\\\\n",
       "\t6 & 0.0 & 6 & 0 & 0 & 1.03708 & -0.0633628 & -0.012503 & 0 & -10.3255 & -3.63395e-10 & 0.0 & 0 & 0 & 0 & 0 & -1.87093e-7 & -9.30231e-8 & 0.0 & 0 & 0.0 & 0.0 & 0 & -10.3255 & -2.53363e-10 & -7.18518e-9 & 0.0 & -7.43855e-9 & 0 \\\\\n",
       "\t7 & 0.0 & 7 & 0.114363 & 0.025303 & 1.04267 & -0.0924628 & -0.019803 & 0 & -10.3255 & -5.7619e-8 & 0.0 & 0 & 0 & 0.0 & -1.97491e-7 & -2.07035e-7 & -8.85744e-8 & -7.55592e-7 & 0 & 5.94469e-7 & 4.09317e-8 & 0 & -10.3255 & -4.03082e-8 & -2.54219e-10 & 2.86344e-8 & -1.14196e-8 & 0 \\\\\n",
       "\t8 & 0.0 & 8 & 0 & 0 & 1.05334 & -0.1969 & 0.0019 & 0 & -10.3255 & -1.14614e-7 & 0.0 & 0 & 0 & 0 & 0 & -2.46517e-7 & 0.0 & 0.0 & 0 & 0.0 & 0.0 & 0 & -10.3255 & -8.02453e-8 & -5.44596e-8 & 0.0 & -2.57857e-8 & 0 \\\\\n",
       "\t9 & 0.0 & 9 & 0 & 0 & 1.04366 & -0.230037 & -0.000196966 & 0 & -10.3255 & -7.77846e-8 & 0.0 & 0 & 0 & 0 & 0 & 0.0 & -8.92158e-8 & -1.67111e-6 & 0 & 1.48677e-6 & -1.01958e-8 & 0 & -10.3255 & -5.43958e-8 & -1.77633e-8 & -7.13006e-9 & -4.37625e-8 & 0 \\\\\n",
       "\t10 & 0.0 & 10 & 0 & 0 & 1.04431 & -0.0566372 & -0.00799697 & 0 & -10.3255 & -6.32871e-8 & 0.0 & 0 & 0 & 0 & 0 & -2.0703e-7 & -8.88778e-8 & -1.51949e-7 & 0 & -8.57401e-8 & -1.51949e-7 & 0 & -10.3255 & -4.42567e-8 & -5.43948e-8 & -1.06258e-7 & -7.60642e-9 & 0 \\\\\n",
       "\t11 & 0.0 & 11 & 0 & 0 & 1.04688 & -0.0795372 & -0.022197 & 0 & -10.3255 & -4.51975e-8 & 0.0 & 0 & 0 & 0 & 0 & -2.15541e-7 & -8.74155e-8 & 0.0 & 0 & 0.0 & 0.0 & 0 & -10.3255 & -3.15727e-8 & -4.42093e-8 & 0.0 & -1.26366e-8 & 0 \\\\\n",
       "\t12 & 0.0 & 12 & 0.114437 & 0.031997 & 1.04828 & -0.101237 & -0.028697 & 0 & -10.3255 & -5.71028e-8 & 0.0 & 0 & 0 & 0.0 & -2.44279e-7 & -2.2065e-7 & -8.66068e-8 & -9.83326e-8 & 0 & -2.63433e-8 & 9.83326e-8 & 0 & -10.3255 & -3.97404e-8 & -3.1455e-8 & 6.84341e-8 & -2.76129e-9 & 0 \\\\\n",
       "\t13 & 0.0 & 13 & 0 & 0 & 0.982619 & 0.6457 & 0.1382 & 0 & -50.0 & -1.3543e-9 & 0.0 & 0 & 0 & 0 & 0 & 0.0 & 0.0 & 0.0 & 0 & 0.0 & 0.0 & 0 & -50.0 & -1.12858e-11 & -1.12858e-11 & 0.0 & 0.0 & 0 \\\\\n",
       "\t14 & 0.0 & 14 & 0 & 0 & 0.977795 & 0.0238 & 0.0091 & 0 & -50.0 & -1.3543e-9 & 0.0 & 0 & 0 & 0 & 0 & 0.0 & 0.0 & 0.0 & 0 & 0.0 & 0.0 & 0 & -50.0 & -1.88682e-9 & -1.88682e-9 & 0.0 & 0.0 & 0 \\\\\n",
       "\t15 & 0.0 & 15 & 0 & 0 & 0.975027 & 0.0224 & 0.0083 & 0 & -50.0 & -1.3543e-9 & 0.0 & 0 & 0 & 0 & 0 & 0.0 & 0.0 & 0.0 & 0 & 0.0 & 0.0 & 0 & -50.0 & -1.88691e-9 & -1.88691e-9 & 0.0 & 0.0 & 0 \\\\\n",
       "\\end{tabular}\n"
      ],
      "text/plain": [
       "15×28 DataFrame. Omitted printing of 22 columns\n",
       "│ Row │ objective │ bus │ gp       │ gq       │ voltage  │ fp         │\n",
       "│     │ \u001b[90mFloat64\u001b[39m   │ \u001b[90mAny\u001b[39m │ \u001b[90mAny\u001b[39m      │ \u001b[90mAny\u001b[39m      │ \u001b[90mAny\u001b[39m      │ \u001b[90mAny\u001b[39m        │\n",
       "├─────┼───────────┼─────┼──────────┼──────────┼──────────┼────────────┤\n",
       "│ 1   │ 61.5275   │ 1   │ 1.1833   │ 0.3237   │ 1.0      │ 0          │\n",
       "│ 2   │ 0.0       │ 2   │ 0        │ 0        │ 0.976936 │ 0.5376     │\n",
       "│ 3   │ 0.0       │ 3   │ 0        │ 0        │ 0.999807 │ -0.256     │\n",
       "│ 4   │ 0.0       │ 4   │ 0        │ 0        │ 1.03464  │ -0.256     │\n",
       "│ 5   │ 0.0       │ 5   │ 0        │ 0        │ 1.0357   │ -0.0460628 │\n",
       "│ 6   │ 0.0       │ 6   │ 0        │ 0        │ 1.03708  │ -0.0633628 │\n",
       "│ 7   │ 0.0       │ 7   │ 0.114363 │ 0.025303 │ 1.04267  │ -0.0924628 │\n",
       "│ 8   │ 0.0       │ 8   │ 0        │ 0        │ 1.05334  │ -0.1969    │\n",
       "│ 9   │ 0.0       │ 9   │ 0        │ 0        │ 1.04366  │ -0.230037  │\n",
       "│ 10  │ 0.0       │ 10  │ 0        │ 0        │ 1.04431  │ -0.0566372 │\n",
       "│ 11  │ 0.0       │ 11  │ 0        │ 0        │ 1.04688  │ -0.0795372 │\n",
       "│ 12  │ 0.0       │ 12  │ 0.114437 │ 0.031997 │ 1.04828  │ -0.101237  │\n",
       "│ 13  │ 0.0       │ 13  │ 0        │ 0        │ 0.982619 │ 0.6457     │\n",
       "│ 14  │ 0.0       │ 14  │ 0        │ 0        │ 0.977795 │ 0.0238     │\n",
       "│ 15  │ 0.0       │ 15  │ 0        │ 0        │ 0.975027 │ 0.0224     │"
      ]
     },
     "metadata": {},
     "output_type": "display_data"
    }
   ],
   "source": [
    "# Deterministic Case\n",
    "display(experiment_15b[\"no_uncert\"][\"results\"])"
   ]
  },
  {
   "cell_type": "code",
   "execution_count": 6,
   "metadata": {},
   "outputs": [
    {
     "data": {
      "text/html": [
       "<table class=\"data-frame\"><thead><tr><th></th><th>objective</th><th>bus</th><th>gp</th><th>gq</th><th>voltage</th><th>fp</th><th>fq</th><th>alpha</th><th>lambda</th><th>pi</th><th>gamma</th><th>rho</th><th>nu</th><th>delta_plus</th><th>delta_minus</th><th>mu_plus</th><th>mu_minus</th><th>eta_plus</th><th>eta_minus</th><th>eta_aP</th><th>eta_aQ</th><th>voltvar</th><th>lambda_anc</th><th>rx_pi_i</th><th>rx_pi_a</th><th>rx_etaQ</th><th>r_sum_mu_d</th><th>nu_calc</th></tr><tr><th></th><th>Float64</th><th>Any</th><th>Any</th><th>Any</th><th>Any</th><th>Any</th><th>Any</th><th>Any</th><th>Any</th><th>Any</th><th>Float64</th><th>Any</th><th>Any</th><th>Any</th><th>Any</th><th>Any</th><th>Any</th><th>Any</th><th>Any</th><th>Any</th><th>Any</th><th>Any</th><th>Any</th><th>Any</th><th>Any</th><th>Any</th><th>Any</th><th>Any</th></tr></thead><tbody><p>15 rows × 28 columns</p><tr><th>1</th><td>70.4343</td><td>1</td><td>1.1833</td><td>0.3237</td><td>1.0</td><td>0</td><td>0</td><td>0.428602</td><td>-50.0</td><td>-5.40272e-9</td><td>-19.8899</td><td>0</td><td>0</td><td>0</td><td>0</td><td>0</td><td>0</td><td>0</td><td>0</td><td>0</td><td>0</td><td>0</td><td>0</td><td>0</td><td>0</td><td>0</td><td>0</td><td>0</td></tr><tr><th>2</th><td>0.0</td><td>2</td><td>0</td><td>0</td><td>0.976936</td><td>0.5376</td><td>0.1855</td><td>0</td><td>-50.0</td><td>-7.12378e-7</td><td>0.0</td><td>0</td><td>0</td><td>0</td><td>0</td><td>-3.32182e-7</td><td>-6.04708e-7</td><td>0.0</td><td>0</td><td>0.0</td><td>0.0</td><td>0</td><td>-50.0</td><td>-5.93648e-9</td><td>-4.50227e-11</td><td>0.0</td><td>-5.98151e-9</td><td>0</td></tr><tr><th>3</th><td>0.0</td><td>3</td><td>0</td><td>0</td><td>0.999807</td><td>-0.256</td><td>2.65741e-11</td><td>0</td><td>-6.16131</td><td>-11.7444</td><td>0.0</td><td>0</td><td>0</td><td>0</td><td>0</td><td>-4.19262e-7</td><td>-4.66164e-7</td><td>-43.8387</td><td>0</td><td>43.8387</td><td>-11.7444</td><td>0</td><td>-50.0</td><td>-8.21735</td><td>-4.98439e-7</td><td>-8.21735</td><td>-5.76295e-7</td><td>0</td></tr><tr><th>4</th><td>0.0</td><td>4</td><td>0</td><td>0</td><td>1.03464</td><td>-0.256</td><td>2.65741e-11</td><td>0</td><td>-37.6774</td><td>-3.82881e-7</td><td>0.0</td><td>0</td><td>0</td><td>0</td><td>0</td><td>-6.4309e-7</td><td>-3.41806e-7</td><td>-43.8387</td><td>0</td><td>43.8387</td><td>11.7444</td><td>0</td><td>-6.16131</td><td>-2.67901e-7</td><td>-8.21751</td><td>8.21751</td><td>-9.16258e-7</td><td>0</td></tr><tr><th>5</th><td>0.0</td><td>5</td><td>0</td><td>0</td><td>1.03576</td><td>-0.0461079</td><td>-0.0102331</td><td>0</td><td>-37.6774</td><td>-2.86456e-7</td><td>0.0</td><td>0</td><td>0</td><td>0</td><td>0</td><td>-6.56648e-7</td><td>-3.37952e-7</td><td>-1.63259e-6</td><td>0</td><td>-1.15351e-6</td><td>3.68639e-8</td><td>0</td><td>-37.6774</td><td>-2.00414e-7</td><td>-2.67877e-7</td><td>2.57913e-8</td><td>-4.16709e-8</td><td>0</td></tr><tr><th>6</th><td>0.0</td><td>6</td><td>0</td><td>0</td><td>1.03718</td><td>-0.0634079</td><td>-0.0145331</td><td>0</td><td>-37.6774</td><td>-2.47693e-7</td><td>0.0</td><td>0</td><td>0</td><td>0</td><td>0</td><td>-6.73747e-7</td><td>-3.33442e-7</td><td>0.0</td><td>0</td><td>0.0</td><td>0.0</td><td>0</td><td>-37.6774</td><td>-1.72695e-7</td><td>-1.9972e-7</td><td>0.0</td><td>-2.70258e-8</td><td>0</td></tr><tr><th>7</th><td>0.0</td><td>7</td><td>0.114408</td><td>0.0273331</td><td>1.04291</td><td>-0.0925079</td><td>-0.0218331</td><td>0.285719</td><td>-37.6774</td><td>-3.0918e-8</td><td>0.0</td><td>0</td><td>0</td><td>-1.44048e-7</td><td>-49.2583</td><td>-7.49022e-7</td><td>-3.17162e-7</td><td>-2.69938e-6</td><td>0</td><td>2.11952e-6</td><td>1.57265e-7</td><td>0</td><td>-37.6774</td><td>-2.16292e-8</td><td>-1.73278e-7</td><td>1.10017e-7</td><td>-4.16314e-8</td><td>0</td></tr><tr><th>8</th><td>0.0</td><td>8</td><td>0</td><td>0</td><td>1.05323</td><td>-0.1969</td><td>0.0019</td><td>0</td><td>-37.6774</td><td>-5.53377e-8</td><td>0.0</td><td>0</td><td>0</td><td>0</td><td>0</td><td>-8.82708e-7</td><td>0.0</td><td>0.0</td><td>0</td><td>0.0</td><td>0.0</td><td>0</td><td>-37.6774</td><td>-3.87438e-8</td><td>-1.31075e-7</td><td>0.0</td><td>-9.23312e-8</td><td>0</td></tr><tr><th>9</th><td>0.0</td><td>9</td><td>0</td><td>0</td><td>1.04354</td><td>-0.229992</td><td>0.00183313</td><td>0</td><td>-37.6774</td><td>-1.87214e-7</td><td>0.0</td><td>0</td><td>0</td><td>0</td><td>0</td><td>0.0</td><td>-3.20248e-7</td><td>-4.74601e-6</td><td>0</td><td>4.08618e-6</td><td>-2.75924e-8</td><td>0</td><td>-37.6774</td><td>-1.30921e-7</td><td>-2.67754e-7</td><td>-1.92957e-8</td><td>-1.56128e-7</td><td>0</td></tr><tr><th>10</th><td>0.0</td><td>10</td><td>0</td><td>0</td><td>1.04417</td><td>-0.0565921</td><td>-0.00596687</td><td>0</td><td>-37.6774</td><td>-4.6571e-7</td><td>0.0</td><td>0</td><td>0</td><td>0</td><td>0</td><td>-7.41446e-7</td><td>-3.19085e-7</td><td>-1.35817e-6</td><td>0</td><td>-1.11999e-6</td><td>-3.17265e-7</td><td>0</td><td>-37.6774</td><td>-3.25671e-7</td><td>-1.30919e-7</td><td>-2.21864e-7</td><td>-2.71115e-8</td><td>0</td></tr><tr><th>11</th><td>0.0</td><td>11</td><td>0</td><td>0</td><td>1.04667</td><td>-0.0794921</td><td>-0.0201669</td><td>0</td><td>-37.6774</td><td>-4.01318e-7</td><td>0.0</td><td>0</td><td>0</td><td>0</td><td>0</td><td>-7.70391e-7</td><td>-3.13944e-7</td><td>0.0</td><td>0</td><td>0.0</td><td>0.0</td><td>0</td><td>-37.6774</td><td>-2.80341e-7</td><td>-3.25322e-7</td><td>0.0</td><td>-4.49809e-8</td><td>0</td></tr><tr><th>12</th><td>0.0</td><td>12</td><td>0.114392</td><td>0.0299669</td><td>1.04804</td><td>-0.101192</td><td>-0.0266669</td><td>0.285679</td><td>-37.6774</td><td>-3.4297e-8</td><td>0.0</td><td>0</td><td>0</td><td>-1.28696e-7</td><td>-49.2587</td><td>-7.8785e-7</td><td>-3.11082e-7</td><td>-3.52909e-7</td><td>0</td><td>-9.45442e-8</td><td>3.52909e-7</td><td>0</td><td>-37.6774</td><td>-2.38689e-8</td><td>-2.79296e-7</td><td>2.45605e-7</td><td>-9.82141e-9</td><td>0</td></tr><tr><th>13</th><td>0.0</td><td>13</td><td>0</td><td>0</td><td>0.982619</td><td>0.6457</td><td>0.1382</td><td>0</td><td>-50.0</td><td>-5.40272e-9</td><td>0.0</td><td>0</td><td>0</td><td>0</td><td>0</td><td>0.0</td><td>0.0</td><td>0.0</td><td>0</td><td>0.0</td><td>0.0</td><td>0</td><td>-50.0</td><td>-4.50227e-11</td><td>-4.50227e-11</td><td>0.0</td><td>0.0</td><td>0</td></tr><tr><th>14</th><td>0.0</td><td>14</td><td>0</td><td>0</td><td>0.977795</td><td>0.0238</td><td>0.0091</td><td>0</td><td>-50.0</td><td>-5.40272e-9</td><td>0.0</td><td>0</td><td>0</td><td>0</td><td>0</td><td>0.0</td><td>0.0</td><td>0.0</td><td>0</td><td>0.0</td><td>0.0</td><td>0</td><td>-50.0</td><td>-7.52712e-9</td><td>-7.52712e-9</td><td>0.0</td><td>0.0</td><td>0</td></tr><tr><th>15</th><td>0.0</td><td>15</td><td>0</td><td>0</td><td>0.975027</td><td>0.0224</td><td>0.0083</td><td>0</td><td>-50.0</td><td>-5.40272e-9</td><td>0.0</td><td>0</td><td>0</td><td>0</td><td>0</td><td>0.0</td><td>0.0</td><td>0.0</td><td>0</td><td>0.0</td><td>0.0</td><td>0</td><td>-50.0</td><td>-7.52748e-9</td><td>-7.52748e-9</td><td>0.0</td><td>0.0</td><td>0</td></tr></tbody></table>"
      ],
      "text/latex": [
       "\\begin{tabular}{r|cccccccccccccccccccccccccccc}\n",
       "\t& objective & bus & gp & gq & voltage & fp & fq & alpha & lambda & pi & gamma & rho & nu & delta\\_plus & delta\\_minus & mu\\_plus & mu\\_minus & eta\\_plus & eta\\_minus & eta\\_aP & eta\\_aQ & voltvar & lambda\\_anc & rx\\_pi\\_i & rx\\_pi\\_a & rx\\_etaQ & r\\_sum\\_mu\\_d & nu\\_calc\\\\\n",
       "\t\\hline\n",
       "\t& Float64 & Any & Any & Any & Any & Any & Any & Any & Any & Any & Float64 & Any & Any & Any & Any & Any & Any & Any & Any & Any & Any & Any & Any & Any & Any & Any & Any & Any\\\\\n",
       "\t\\hline\n",
       "\t1 & 70.4343 & 1 & 1.1833 & 0.3237 & 1.0 & 0 & 0 & 0.428602 & -50.0 & -5.40272e-9 & -19.8899 & 0 & 0 & 0 & 0 & 0 & 0 & 0 & 0 & 0 & 0 & 0 & 0 & 0 & 0 & 0 & 0 & 0 \\\\\n",
       "\t2 & 0.0 & 2 & 0 & 0 & 0.976936 & 0.5376 & 0.1855 & 0 & -50.0 & -7.12378e-7 & 0.0 & 0 & 0 & 0 & 0 & -3.32182e-7 & -6.04708e-7 & 0.0 & 0 & 0.0 & 0.0 & 0 & -50.0 & -5.93648e-9 & -4.50227e-11 & 0.0 & -5.98151e-9 & 0 \\\\\n",
       "\t3 & 0.0 & 3 & 0 & 0 & 0.999807 & -0.256 & 2.65741e-11 & 0 & -6.16131 & -11.7444 & 0.0 & 0 & 0 & 0 & 0 & -4.19262e-7 & -4.66164e-7 & -43.8387 & 0 & 43.8387 & -11.7444 & 0 & -50.0 & -8.21735 & -4.98439e-7 & -8.21735 & -5.76295e-7 & 0 \\\\\n",
       "\t4 & 0.0 & 4 & 0 & 0 & 1.03464 & -0.256 & 2.65741e-11 & 0 & -37.6774 & -3.82881e-7 & 0.0 & 0 & 0 & 0 & 0 & -6.4309e-7 & -3.41806e-7 & -43.8387 & 0 & 43.8387 & 11.7444 & 0 & -6.16131 & -2.67901e-7 & -8.21751 & 8.21751 & -9.16258e-7 & 0 \\\\\n",
       "\t5 & 0.0 & 5 & 0 & 0 & 1.03576 & -0.0461079 & -0.0102331 & 0 & -37.6774 & -2.86456e-7 & 0.0 & 0 & 0 & 0 & 0 & -6.56648e-7 & -3.37952e-7 & -1.63259e-6 & 0 & -1.15351e-6 & 3.68639e-8 & 0 & -37.6774 & -2.00414e-7 & -2.67877e-7 & 2.57913e-8 & -4.16709e-8 & 0 \\\\\n",
       "\t6 & 0.0 & 6 & 0 & 0 & 1.03718 & -0.0634079 & -0.0145331 & 0 & -37.6774 & -2.47693e-7 & 0.0 & 0 & 0 & 0 & 0 & -6.73747e-7 & -3.33442e-7 & 0.0 & 0 & 0.0 & 0.0 & 0 & -37.6774 & -1.72695e-7 & -1.9972e-7 & 0.0 & -2.70258e-8 & 0 \\\\\n",
       "\t7 & 0.0 & 7 & 0.114408 & 0.0273331 & 1.04291 & -0.0925079 & -0.0218331 & 0.285719 & -37.6774 & -3.0918e-8 & 0.0 & 0 & 0 & -1.44048e-7 & -49.2583 & -7.49022e-7 & -3.17162e-7 & -2.69938e-6 & 0 & 2.11952e-6 & 1.57265e-7 & 0 & -37.6774 & -2.16292e-8 & -1.73278e-7 & 1.10017e-7 & -4.16314e-8 & 0 \\\\\n",
       "\t8 & 0.0 & 8 & 0 & 0 & 1.05323 & -0.1969 & 0.0019 & 0 & -37.6774 & -5.53377e-8 & 0.0 & 0 & 0 & 0 & 0 & -8.82708e-7 & 0.0 & 0.0 & 0 & 0.0 & 0.0 & 0 & -37.6774 & -3.87438e-8 & -1.31075e-7 & 0.0 & -9.23312e-8 & 0 \\\\\n",
       "\t9 & 0.0 & 9 & 0 & 0 & 1.04354 & -0.229992 & 0.00183313 & 0 & -37.6774 & -1.87214e-7 & 0.0 & 0 & 0 & 0 & 0 & 0.0 & -3.20248e-7 & -4.74601e-6 & 0 & 4.08618e-6 & -2.75924e-8 & 0 & -37.6774 & -1.30921e-7 & -2.67754e-7 & -1.92957e-8 & -1.56128e-7 & 0 \\\\\n",
       "\t10 & 0.0 & 10 & 0 & 0 & 1.04417 & -0.0565921 & -0.00596687 & 0 & -37.6774 & -4.6571e-7 & 0.0 & 0 & 0 & 0 & 0 & -7.41446e-7 & -3.19085e-7 & -1.35817e-6 & 0 & -1.11999e-6 & -3.17265e-7 & 0 & -37.6774 & -3.25671e-7 & -1.30919e-7 & -2.21864e-7 & -2.71115e-8 & 0 \\\\\n",
       "\t11 & 0.0 & 11 & 0 & 0 & 1.04667 & -0.0794921 & -0.0201669 & 0 & -37.6774 & -4.01318e-7 & 0.0 & 0 & 0 & 0 & 0 & -7.70391e-7 & -3.13944e-7 & 0.0 & 0 & 0.0 & 0.0 & 0 & -37.6774 & -2.80341e-7 & -3.25322e-7 & 0.0 & -4.49809e-8 & 0 \\\\\n",
       "\t12 & 0.0 & 12 & 0.114392 & 0.0299669 & 1.04804 & -0.101192 & -0.0266669 & 0.285679 & -37.6774 & -3.4297e-8 & 0.0 & 0 & 0 & -1.28696e-7 & -49.2587 & -7.8785e-7 & -3.11082e-7 & -3.52909e-7 & 0 & -9.45442e-8 & 3.52909e-7 & 0 & -37.6774 & -2.38689e-8 & -2.79296e-7 & 2.45605e-7 & -9.82141e-9 & 0 \\\\\n",
       "\t13 & 0.0 & 13 & 0 & 0 & 0.982619 & 0.6457 & 0.1382 & 0 & -50.0 & -5.40272e-9 & 0.0 & 0 & 0 & 0 & 0 & 0.0 & 0.0 & 0.0 & 0 & 0.0 & 0.0 & 0 & -50.0 & -4.50227e-11 & -4.50227e-11 & 0.0 & 0.0 & 0 \\\\\n",
       "\t14 & 0.0 & 14 & 0 & 0 & 0.977795 & 0.0238 & 0.0091 & 0 & -50.0 & -5.40272e-9 & 0.0 & 0 & 0 & 0 & 0 & 0.0 & 0.0 & 0.0 & 0 & 0.0 & 0.0 & 0 & -50.0 & -7.52712e-9 & -7.52712e-9 & 0.0 & 0.0 & 0 \\\\\n",
       "\t15 & 0.0 & 15 & 0 & 0 & 0.975027 & 0.0224 & 0.0083 & 0 & -50.0 & -5.40272e-9 & 0.0 & 0 & 0 & 0 & 0 & 0.0 & 0.0 & 0.0 & 0 & 0.0 & 0.0 & 0 & -50.0 & -7.52748e-9 & -7.52748e-9 & 0.0 & 0.0 & 0 \\\\\n",
       "\\end{tabular}\n"
      ],
      "text/plain": [
       "15×28 DataFrame. Omitted printing of 22 columns\n",
       "│ Row │ objective │ bus │ gp       │ gq        │ voltage  │ fp         │\n",
       "│     │ \u001b[90mFloat64\u001b[39m   │ \u001b[90mAny\u001b[39m │ \u001b[90mAny\u001b[39m      │ \u001b[90mAny\u001b[39m       │ \u001b[90mAny\u001b[39m      │ \u001b[90mAny\u001b[39m        │\n",
       "├─────┼───────────┼─────┼──────────┼───────────┼──────────┼────────────┤\n",
       "│ 1   │ 70.4343   │ 1   │ 1.1833   │ 0.3237    │ 1.0      │ 0          │\n",
       "│ 2   │ 0.0       │ 2   │ 0        │ 0         │ 0.976936 │ 0.5376     │\n",
       "│ 3   │ 0.0       │ 3   │ 0        │ 0         │ 0.999807 │ -0.256     │\n",
       "│ 4   │ 0.0       │ 4   │ 0        │ 0         │ 1.03464  │ -0.256     │\n",
       "│ 5   │ 0.0       │ 5   │ 0        │ 0         │ 1.03576  │ -0.0461079 │\n",
       "│ 6   │ 0.0       │ 6   │ 0        │ 0         │ 1.03718  │ -0.0634079 │\n",
       "│ 7   │ 0.0       │ 7   │ 0.114408 │ 0.0273331 │ 1.04291  │ -0.0925079 │\n",
       "│ 8   │ 0.0       │ 8   │ 0        │ 0         │ 1.05323  │ -0.1969    │\n",
       "│ 9   │ 0.0       │ 9   │ 0        │ 0         │ 1.04354  │ -0.229992  │\n",
       "│ 10  │ 0.0       │ 10  │ 0        │ 0         │ 1.04417  │ -0.0565921 │\n",
       "│ 11  │ 0.0       │ 11  │ 0        │ 0         │ 1.04667  │ -0.0794921 │\n",
       "│ 12  │ 0.0       │ 12  │ 0.114392 │ 0.0299669 │ 1.04804  │ -0.101192  │\n",
       "│ 13  │ 0.0       │ 13  │ 0        │ 0         │ 0.982619 │ 0.6457     │\n",
       "│ 14  │ 0.0       │ 14  │ 0        │ 0         │ 0.977795 │ 0.0238     │\n",
       "│ 15  │ 0.0       │ 15  │ 0        │ 0         │ 0.975027 │ 0.0224     │"
      ]
     },
     "metadata": {},
     "output_type": "display_data"
    }
   ],
   "source": [
    "# GEN-CC \n",
    "display(experiment_15b[\"gen_uncert\"][\"results\"])"
   ]
  },
  {
   "cell_type": "code",
   "execution_count": 7,
   "metadata": {},
   "outputs": [
    {
     "data": {
      "text/html": [
       "<table class=\"data-frame\"><thead><tr><th></th><th>objective</th><th>bus</th><th>gp</th><th>gq</th><th>voltage</th><th>fp</th><th>fq</th><th>alpha</th><th>lambda</th><th>pi</th><th>gamma</th><th>rho</th><th>nu</th><th>delta_plus</th><th>delta_minus</th><th>mu_plus</th><th>mu_minus</th><th>eta_plus</th><th>eta_minus</th><th>eta_aP</th><th>eta_aQ</th><th>voltvar</th><th>lambda_anc</th><th>rx_pi_i</th><th>rx_pi_a</th><th>rx_etaQ</th><th>r_sum_mu_d</th><th>nu_calc</th></tr><tr><th></th><th>Float64</th><th>Any</th><th>Any</th><th>Any</th><th>Any</th><th>Any</th><th>Any</th><th>Any</th><th>Any</th><th>Any</th><th>Float64</th><th>Any</th><th>Any</th><th>Any</th><th>Any</th><th>Any</th><th>Any</th><th>Any</th><th>Any</th><th>Any</th><th>Any</th><th>Any</th><th>Any</th><th>Any</th><th>Any</th><th>Any</th><th>Any</th><th>Any</th></tr></thead><tbody><p>15 rows × 28 columns</p><tr><th>1</th><td>71.7329</td><td>1</td><td>1.1981</td><td>0.378944</td><td>1.0</td><td>0</td><td>0</td><td>0.465563</td><td>-50.0</td><td>-3.32827e-9</td><td>-19.9181</td><td>0</td><td>0</td><td>0</td><td>0</td><td>0</td><td>0</td><td>0</td><td>0</td><td>0</td><td>0</td><td>0</td><td>0</td><td>0</td><td>0</td><td>0</td><td>0</td><td>0</td></tr><tr><th>2</th><td>0.0</td><td>2</td><td>0</td><td>0</td><td>0.970112</td><td>0.5524</td><td>0.240744</td><td>0</td><td>-49.963</td><td>-4.43619</td><td>0.0</td><td>0.000534437</td><td>-0.018304</td><td>0</td><td>0</td><td>-1.98278e-7</td><td>-7.43554e-7</td><td>0.0</td><td>0</td><td>0.0</td><td>0.0</td><td>0.000255774</td><td>-50.0</td><td>-0.0369682</td><td>-2.77356e-11</td><td>0.0</td><td>-0.0369682</td><td>-0.0183041</td></tr><tr><th>3</th><td>0.0</td><td>3</td><td>0</td><td>0</td><td>0.984769</td><td>-0.2412</td><td>0.0552439</td><td>0</td><td>-19.9972</td><td>-8.76626</td><td>0.0</td><td>0.0477252</td><td>-1.63454</td><td>0</td><td>0</td><td>-2.71298e-7</td><td>-6.51034e-7</td><td>-66.6959</td><td>0</td><td>66.6959</td><td>-17.8678</td><td>0.000414416</td><td>-49.963</td><td>-6.1336</td><td>-3.10393</td><td>-12.5018</td><td>-3.2643</td><td>-1.63455</td></tr><tr><th>4</th><td>0.0</td><td>4</td><td>0</td><td>0</td><td>1.00731</td><td>-0.2412</td><td>0.0552439</td><td>0</td><td>-25.1136</td><td>-1.45394</td><td>0.0</td><td>0.121691</td><td>-4.16781</td><td>0</td><td>0</td><td>-1.04925e-6</td><td>-8.30509e-7</td><td>-2.44555e-6</td><td>0</td><td>1.29254e-6</td><td>3.92048e-7</td><td>0.000990722</td><td>-19.9972</td><td>-1.01732</td><td>-6.13372</td><td>2.74315e-7</td><td>-5.1164</td><td>-4.16784</td></tr><tr><th>5</th><td>0.0</td><td>5</td><td>0</td><td>0</td><td>1.00937</td><td>-0.0372927</td><td>-0.0498092</td><td>0</td><td>-25.3425</td><td>-1.12672</td><td>0.0</td><td>0.126728</td><td>-4.28435</td><td>0</td><td>0</td><td>-1.32613e-6</td><td>-8.19686e-7</td><td>-7.25137e-7</td><td>0</td><td>-5.14136e-7</td><td>7.94197e-8</td><td>0.00103784</td><td>-25.1136</td><td>-0.788289</td><td>-1.01723</td><td>5.55647e-8</td><td>-0.228939</td><td>-4.28437</td></tr><tr><th>6</th><td>0.0</td><td>6</td><td>0</td><td>0</td><td>1.01166</td><td>-0.0545927</td><td>-0.0541092</td><td>0</td><td>-25.5523</td><td>-0.825859</td><td>0.0</td><td>0.131343</td><td>-4.39113</td><td>0</td><td>0</td><td>-1.78832e-6</td><td>-7.90239e-7</td><td>0.0</td><td>0</td><td>0.0</td><td>0.0</td><td>0.0010757</td><td>-25.3425</td><td>-0.575798</td><td>-0.785559</td><td>0.0</td><td>-0.209761</td><td>-4.39115</td></tr><tr><th>7</th><td>0.0</td><td>7</td><td>0.105593</td><td>0.0669092</td><td>1.01979</td><td>-0.0836927</td><td>-0.0614092</td><td>0.263704</td><td>-26.13</td><td>-3.13706e-8</td><td>0.0</td><td>0.144053</td><td>-4.68522</td><td>-5.15303e-8</td><td>-37.69</td><td>-5.99317</td><td>-6.37813e-7</td><td>-1.07436e-6</td><td>0</td><td>8.23974e-7</td><td>1.66261e-7</td><td>0.00108905</td><td>-25.5523</td><td>-2.19458e-8</td><td>-0.577742</td><td>1.1631e-7</td><td>-0.577742</td><td>-4.68523</td></tr><tr><th>8</th><td>0.0</td><td>8</td><td>0</td><td>0</td><td>1.02077</td><td>-0.1969</td><td>0.0019</td><td>0</td><td>-27.4369</td><td>-1.86615</td><td>0.0</td><td>0.13271</td><td>-5.30265</td><td>0</td><td>0</td><td>-12.4909</td><td>-5.87498e-7</td><td>0.0</td><td>0</td><td>0.0</td><td>0.0</td><td>0.00106365</td><td>-26.1304</td><td>-1.30655</td><td>-1.59777e-7</td><td>0.0</td><td>-1.30655</td><td>-5.30269</td></tr><tr><th>9</th><td>0.0</td><td>9</td><td>0</td><td>0</td><td>1.01077</td><td>-0.224007</td><td>0.0966531</td><td>0</td><td>-26.1304</td><td>-2.2821e-7</td><td>0.0</td><td>0.13271</td><td>-4.66446</td><td>0</td><td>0</td><td>-2.03412e-6</td><td>-8.88834e-7</td><td>-7.13656e-6</td><td>0</td><td>6.77284e-6</td><td>-2.30366e-6</td><td>0.0011173</td><td>-25.1136</td><td>-1.5959e-7</td><td>-1.01676</td><td>-1.61098e-6</td><td>-1.01676</td><td>-4.66449</td></tr><tr><th>10</th><td>0.0</td><td>10</td><td>0</td><td>0</td><td>1.01002</td><td>-0.0506074</td><td>0.0888531</td><td>0</td><td>-26.1304</td><td>-3.55764e-7</td><td>0.0</td><td>0.135417</td><td>-4.66446</td><td>0</td><td>0</td><td>-2.12239e-6</td><td>-9.73466e-7</td><td>-6.35647e-7</td><td>0</td><td>-4.85767e-7</td><td>-2.53039e-7</td><td>0.00114639</td><td>-26.1304</td><td>-2.48786e-7</td><td>-1.59587e-7</td><td>-1.7695e-7</td><td>-8.97886e-8</td><td>-4.66449</td></tr><tr><th>11</th><td>0.0</td><td>11</td><td>0</td><td>0</td><td>1.00922</td><td>-0.0735074</td><td>0.0746531</td><td>0</td><td>-26.1304</td><td>-1.29957e-7</td><td>0.0</td><td>0.141942</td><td>-4.66446</td><td>0</td><td>0</td><td>-2.65885e-6</td><td>-1.17002e-6</td><td>0.0</td><td>0</td><td>0.0</td><td>0.0</td><td>0.0012092</td><td>-26.1304</td><td>-9.07813e-8</td><td>-2.48519e-7</td><td>0.0</td><td>-1.61012e-7</td><td>-4.66449</td></tr><tr><th>12</th><td>0.0</td><td>12</td><td>0.108407</td><td>-0.0648531</td><td>1.00919</td><td>-0.0952074</td><td>0.0681531</td><td>0.270733</td><td>-26.1304</td><td>-3.02976e-8</td><td>0.0</td><td>0.144731</td><td>-4.66446</td><td>-5.13465e-8</td><td>-37.7324</td><td>-3.10448e-6</td><td>-1.2528e-6</td><td>-1.0645e-7</td><td>0</td><td>-2.85179e-8</td><td>1.0645e-7</td><td>0.00123157</td><td>-26.1304</td><td>-2.10855e-8</td><td>-9.04428e-8</td><td>7.40832e-8</td><td>-3.81447e-8</td><td>-4.66449</td></tr><tr><th>13</th><td>0.0</td><td>13</td><td>0</td><td>0</td><td>0.982619</td><td>0.6457</td><td>0.1382</td><td>0</td><td>-50.0</td><td>-5.57987e-7</td><td>0.0</td><td>0.0</td><td>-5.8041e-12</td><td>0</td><td>0</td><td>0.0</td><td>-7.28264e-7</td><td>0.0</td><td>0</td><td>0.0</td><td>0.0</td><td>0.000403082</td><td>-50.0</td><td>-4.64989e-9</td><td>-2.77356e-11</td><td>0.0</td><td>4.62215e-9</td><td>-1.1546e-11</td></tr><tr><th>14</th><td>0.0</td><td>14</td><td>0</td><td>0</td><td>0.977795</td><td>0.0238</td><td>0.0091</td><td>0</td><td>-50.0</td><td>-9.1222e-7</td><td>0.0</td><td>0.0</td><td>-6.8383e-10</td><td>0</td><td>0</td><td>0.0</td><td>-7.76075e-7</td><td>0.0</td><td>0</td><td>0.0</td><td>0.0</td><td>0.000355596</td><td>-50.0</td><td>-1.27091e-6</td><td>-7.77392e-7</td><td>0.0</td><td>4.93521e-7</td><td>-1.36026e-9</td></tr><tr><th>15</th><td>0.0</td><td>15</td><td>0</td><td>0</td><td>0.975027</td><td>0.0224</td><td>0.0083</td><td>0</td><td>-50.0</td><td>-1.02258e-6</td><td>0.0</td><td>-0.0</td><td>-9.09111e-10</td><td>0</td><td>0</td><td>0.0</td><td>-8.06738e-7</td><td>0.0</td><td>0</td><td>0.0</td><td>0.0</td><td>0.000329985</td><td>-50.0</td><td>-1.42474e-6</td><td>-1.27097e-6</td><td>0.0</td><td>1.53764e-7</td><td>-1.80823e-9</td></tr></tbody></table>"
      ],
      "text/latex": [
       "\\begin{tabular}{r|cccccccccccccccccccccccccccc}\n",
       "\t& objective & bus & gp & gq & voltage & fp & fq & alpha & lambda & pi & gamma & rho & nu & delta\\_plus & delta\\_minus & mu\\_plus & mu\\_minus & eta\\_plus & eta\\_minus & eta\\_aP & eta\\_aQ & voltvar & lambda\\_anc & rx\\_pi\\_i & rx\\_pi\\_a & rx\\_etaQ & r\\_sum\\_mu\\_d & nu\\_calc\\\\\n",
       "\t\\hline\n",
       "\t& Float64 & Any & Any & Any & Any & Any & Any & Any & Any & Any & Float64 & Any & Any & Any & Any & Any & Any & Any & Any & Any & Any & Any & Any & Any & Any & Any & Any & Any\\\\\n",
       "\t\\hline\n",
       "\t1 & 71.7329 & 1 & 1.1981 & 0.378944 & 1.0 & 0 & 0 & 0.465563 & -50.0 & -3.32827e-9 & -19.9181 & 0 & 0 & 0 & 0 & 0 & 0 & 0 & 0 & 0 & 0 & 0 & 0 & 0 & 0 & 0 & 0 & 0 \\\\\n",
       "\t2 & 0.0 & 2 & 0 & 0 & 0.970112 & 0.5524 & 0.240744 & 0 & -49.963 & -4.43619 & 0.0 & 0.000534437 & -0.018304 & 0 & 0 & -1.98278e-7 & -7.43554e-7 & 0.0 & 0 & 0.0 & 0.0 & 0.000255774 & -50.0 & -0.0369682 & -2.77356e-11 & 0.0 & -0.0369682 & -0.0183041 \\\\\n",
       "\t3 & 0.0 & 3 & 0 & 0 & 0.984769 & -0.2412 & 0.0552439 & 0 & -19.9972 & -8.76626 & 0.0 & 0.0477252 & -1.63454 & 0 & 0 & -2.71298e-7 & -6.51034e-7 & -66.6959 & 0 & 66.6959 & -17.8678 & 0.000414416 & -49.963 & -6.1336 & -3.10393 & -12.5018 & -3.2643 & -1.63455 \\\\\n",
       "\t4 & 0.0 & 4 & 0 & 0 & 1.00731 & -0.2412 & 0.0552439 & 0 & -25.1136 & -1.45394 & 0.0 & 0.121691 & -4.16781 & 0 & 0 & -1.04925e-6 & -8.30509e-7 & -2.44555e-6 & 0 & 1.29254e-6 & 3.92048e-7 & 0.000990722 & -19.9972 & -1.01732 & -6.13372 & 2.74315e-7 & -5.1164 & -4.16784 \\\\\n",
       "\t5 & 0.0 & 5 & 0 & 0 & 1.00937 & -0.0372927 & -0.0498092 & 0 & -25.3425 & -1.12672 & 0.0 & 0.126728 & -4.28435 & 0 & 0 & -1.32613e-6 & -8.19686e-7 & -7.25137e-7 & 0 & -5.14136e-7 & 7.94197e-8 & 0.00103784 & -25.1136 & -0.788289 & -1.01723 & 5.55647e-8 & -0.228939 & -4.28437 \\\\\n",
       "\t6 & 0.0 & 6 & 0 & 0 & 1.01166 & -0.0545927 & -0.0541092 & 0 & -25.5523 & -0.825859 & 0.0 & 0.131343 & -4.39113 & 0 & 0 & -1.78832e-6 & -7.90239e-7 & 0.0 & 0 & 0.0 & 0.0 & 0.0010757 & -25.3425 & -0.575798 & -0.785559 & 0.0 & -0.209761 & -4.39115 \\\\\n",
       "\t7 & 0.0 & 7 & 0.105593 & 0.0669092 & 1.01979 & -0.0836927 & -0.0614092 & 0.263704 & -26.13 & -3.13706e-8 & 0.0 & 0.144053 & -4.68522 & -5.15303e-8 & -37.69 & -5.99317 & -6.37813e-7 & -1.07436e-6 & 0 & 8.23974e-7 & 1.66261e-7 & 0.00108905 & -25.5523 & -2.19458e-8 & -0.577742 & 1.1631e-7 & -0.577742 & -4.68523 \\\\\n",
       "\t8 & 0.0 & 8 & 0 & 0 & 1.02077 & -0.1969 & 0.0019 & 0 & -27.4369 & -1.86615 & 0.0 & 0.13271 & -5.30265 & 0 & 0 & -12.4909 & -5.87498e-7 & 0.0 & 0 & 0.0 & 0.0 & 0.00106365 & -26.1304 & -1.30655 & -1.59777e-7 & 0.0 & -1.30655 & -5.30269 \\\\\n",
       "\t9 & 0.0 & 9 & 0 & 0 & 1.01077 & -0.224007 & 0.0966531 & 0 & -26.1304 & -2.2821e-7 & 0.0 & 0.13271 & -4.66446 & 0 & 0 & -2.03412e-6 & -8.88834e-7 & -7.13656e-6 & 0 & 6.77284e-6 & -2.30366e-6 & 0.0011173 & -25.1136 & -1.5959e-7 & -1.01676 & -1.61098e-6 & -1.01676 & -4.66449 \\\\\n",
       "\t10 & 0.0 & 10 & 0 & 0 & 1.01002 & -0.0506074 & 0.0888531 & 0 & -26.1304 & -3.55764e-7 & 0.0 & 0.135417 & -4.66446 & 0 & 0 & -2.12239e-6 & -9.73466e-7 & -6.35647e-7 & 0 & -4.85767e-7 & -2.53039e-7 & 0.00114639 & -26.1304 & -2.48786e-7 & -1.59587e-7 & -1.7695e-7 & -8.97886e-8 & -4.66449 \\\\\n",
       "\t11 & 0.0 & 11 & 0 & 0 & 1.00922 & -0.0735074 & 0.0746531 & 0 & -26.1304 & -1.29957e-7 & 0.0 & 0.141942 & -4.66446 & 0 & 0 & -2.65885e-6 & -1.17002e-6 & 0.0 & 0 & 0.0 & 0.0 & 0.0012092 & -26.1304 & -9.07813e-8 & -2.48519e-7 & 0.0 & -1.61012e-7 & -4.66449 \\\\\n",
       "\t12 & 0.0 & 12 & 0.108407 & -0.0648531 & 1.00919 & -0.0952074 & 0.0681531 & 0.270733 & -26.1304 & -3.02976e-8 & 0.0 & 0.144731 & -4.66446 & -5.13465e-8 & -37.7324 & -3.10448e-6 & -1.2528e-6 & -1.0645e-7 & 0 & -2.85179e-8 & 1.0645e-7 & 0.00123157 & -26.1304 & -2.10855e-8 & -9.04428e-8 & 7.40832e-8 & -3.81447e-8 & -4.66449 \\\\\n",
       "\t13 & 0.0 & 13 & 0 & 0 & 0.982619 & 0.6457 & 0.1382 & 0 & -50.0 & -5.57987e-7 & 0.0 & 0.0 & -5.8041e-12 & 0 & 0 & 0.0 & -7.28264e-7 & 0.0 & 0 & 0.0 & 0.0 & 0.000403082 & -50.0 & -4.64989e-9 & -2.77356e-11 & 0.0 & 4.62215e-9 & -1.1546e-11 \\\\\n",
       "\t14 & 0.0 & 14 & 0 & 0 & 0.977795 & 0.0238 & 0.0091 & 0 & -50.0 & -9.1222e-7 & 0.0 & 0.0 & -6.8383e-10 & 0 & 0 & 0.0 & -7.76075e-7 & 0.0 & 0 & 0.0 & 0.0 & 0.000355596 & -50.0 & -1.27091e-6 & -7.77392e-7 & 0.0 & 4.93521e-7 & -1.36026e-9 \\\\\n",
       "\t15 & 0.0 & 15 & 0 & 0 & 0.975027 & 0.0224 & 0.0083 & 0 & -50.0 & -1.02258e-6 & 0.0 & -0.0 & -9.09111e-10 & 0 & 0 & 0.0 & -8.06738e-7 & 0.0 & 0 & 0.0 & 0.0 & 0.000329985 & -50.0 & -1.42474e-6 & -1.27097e-6 & 0.0 & 1.53764e-7 & -1.80823e-9 \\\\\n",
       "\\end{tabular}\n"
      ],
      "text/plain": [
       "15×28 DataFrame. Omitted printing of 22 columns\n",
       "│ Row │ objective │ bus │ gp       │ gq         │ voltage  │ fp         │\n",
       "│     │ \u001b[90mFloat64\u001b[39m   │ \u001b[90mAny\u001b[39m │ \u001b[90mAny\u001b[39m      │ \u001b[90mAny\u001b[39m        │ \u001b[90mAny\u001b[39m      │ \u001b[90mAny\u001b[39m        │\n",
       "├─────┼───────────┼─────┼──────────┼────────────┼──────────┼────────────┤\n",
       "│ 1   │ 71.7329   │ 1   │ 1.1981   │ 0.378944   │ 1.0      │ 0          │\n",
       "│ 2   │ 0.0       │ 2   │ 0        │ 0          │ 0.970112 │ 0.5524     │\n",
       "│ 3   │ 0.0       │ 3   │ 0        │ 0          │ 0.984769 │ -0.2412    │\n",
       "│ 4   │ 0.0       │ 4   │ 0        │ 0          │ 1.00731  │ -0.2412    │\n",
       "│ 5   │ 0.0       │ 5   │ 0        │ 0          │ 1.00937  │ -0.0372927 │\n",
       "│ 6   │ 0.0       │ 6   │ 0        │ 0          │ 1.01166  │ -0.0545927 │\n",
       "│ 7   │ 0.0       │ 7   │ 0.105593 │ 0.0669092  │ 1.01979  │ -0.0836927 │\n",
       "│ 8   │ 0.0       │ 8   │ 0        │ 0          │ 1.02077  │ -0.1969    │\n",
       "│ 9   │ 0.0       │ 9   │ 0        │ 0          │ 1.01077  │ -0.224007  │\n",
       "│ 10  │ 0.0       │ 10  │ 0        │ 0          │ 1.01002  │ -0.0506074 │\n",
       "│ 11  │ 0.0       │ 11  │ 0        │ 0          │ 1.00922  │ -0.0735074 │\n",
       "│ 12  │ 0.0       │ 12  │ 0.108407 │ -0.0648531 │ 1.00919  │ -0.0952074 │\n",
       "│ 13  │ 0.0       │ 13  │ 0        │ 0          │ 0.982619 │ 0.6457     │\n",
       "│ 14  │ 0.0       │ 14  │ 0        │ 0          │ 0.977795 │ 0.0238     │\n",
       "│ 15  │ 0.0       │ 15  │ 0        │ 0          │ 0.975027 │ 0.0224     │"
      ]
     },
     "metadata": {},
     "output_type": "display_data"
    }
   ],
   "source": [
    "# VOLT-CC \n",
    "display(experiment_15b[\"uncert\"][\"results\"])"
   ]
  },
  {
   "cell_type": "code",
   "execution_count": 11,
   "metadata": {},
   "outputs": [
    {
     "name": "stdout",
     "output_type": "stream",
     "text": [
      "Saving uncert\n",
      "Saving gen_uncert\n",
      "Saving no_uncert\n",
      ">>>> Saved with timestamp 190422_1211\n"
     ]
    }
   ],
   "source": [
    "save_experiment(\"experiment_15b\", experiment_15b)"
   ]
  },
  {
   "cell_type": "markdown",
   "metadata": {},
   "source": []
  }
 ],
 "metadata": {
  "hide_code_all_hidden": false,
  "kernelspec": {
   "display_name": "Julia 1.1.0",
   "language": "julia",
   "name": "julia-1.1"
  },
  "language_info": {
   "file_extension": ".jl",
   "mimetype": "application/julia",
   "name": "julia",
   "version": "1.1.0"
  },
  "varInspector": {
   "cols": {
    "lenName": 16,
    "lenType": 16,
    "lenVar": 40
   },
   "kernels_config": {
    "python": {
     "delete_cmd_postfix": "",
     "delete_cmd_prefix": "del ",
     "library": "var_list.py",
     "varRefreshCmd": "print(var_dic_list())"
    },
    "r": {
     "delete_cmd_postfix": ") ",
     "delete_cmd_prefix": "rm(",
     "library": "var_list.r",
     "varRefreshCmd": "cat(var_dic_list()) "
    }
   },
   "types_to_exclude": [
    "module",
    "function",
    "builtin_function_or_method",
    "instance",
    "_Feature"
   ],
   "window_display": false
  }
 },
 "nbformat": 4,
 "nbformat_minor": 2
}
